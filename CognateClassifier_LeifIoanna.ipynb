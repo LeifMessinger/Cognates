{
  "cells": [
    {
      "cell_type": "code",
      "execution_count": 1,
      "metadata": {
        "colab": {
          "base_uri": "https://localhost:8080/"
        },
        "id": "yPo6xTFF09PX",
        "outputId": "1cd6a171-aac8-4392-afa4-00b9f3b174c4"
      },
      "outputs": [
        {
          "ename": "KeyboardInterrupt",
          "evalue": "",
          "output_type": "error",
          "traceback": [
            "\u001b[31m---------------------------------------------------------------------------\u001b[39m",
            "\u001b[31mKeyboardInterrupt\u001b[39m                         Traceback (most recent call last)",
            "\u001b[36mCell\u001b[39m\u001b[36m \u001b[39m\u001b[32mIn[1]\u001b[39m\u001b[32m, line 3\u001b[39m\n\u001b[32m      1\u001b[39m \u001b[38;5;28;01mimport\u001b[39;00m\u001b[38;5;250m \u001b[39m\u001b[34;01mnumpy\u001b[39;00m\u001b[38;5;250m \u001b[39m\u001b[38;5;28;01mas\u001b[39;00m\u001b[38;5;250m \u001b[39m\u001b[34;01mnp\u001b[39;00m\n\u001b[32m      2\u001b[39m \u001b[38;5;28;01mimport\u001b[39;00m\u001b[38;5;250m \u001b[39m\u001b[34;01mpandas\u001b[39;00m\u001b[38;5;250m \u001b[39m\u001b[38;5;28;01mas\u001b[39;00m\u001b[38;5;250m \u001b[39m\u001b[34;01mpd\u001b[39;00m\n\u001b[32m----> \u001b[39m\u001b[32m3\u001b[39m \u001b[38;5;28;01mfrom\u001b[39;00m\u001b[38;5;250m \u001b[39m\u001b[34;01mtorch\u001b[39;00m\u001b[34;01m.\u001b[39;00m\u001b[34;01mutils\u001b[39;00m\u001b[34;01m.\u001b[39;00m\u001b[34;01mdata\u001b[39;00m\u001b[38;5;250m \u001b[39m\u001b[38;5;28;01mimport\u001b[39;00m TensorDataset, DataLoader\n\u001b[32m      4\u001b[39m \u001b[38;5;28;01mimport\u001b[39;00m\u001b[38;5;250m \u001b[39m\u001b[34;01mtorch\u001b[39;00m\n\u001b[32m      5\u001b[39m \u001b[38;5;28;01mimport\u001b[39;00m\u001b[38;5;250m \u001b[39m\u001b[34;01mtorch\u001b[39;00m\u001b[34;01m.\u001b[39;00m\u001b[34;01mnn\u001b[39;00m\u001b[38;5;250m \u001b[39m\u001b[38;5;28;01mas\u001b[39;00m\u001b[38;5;250m \u001b[39m\u001b[34;01mnn\u001b[39;00m\n",
            "\u001b[36mFile \u001b[39m\u001b[32mc:\\Users\\doj0014\\Documents\\Cognates\\.venv\\Lib\\site-packages\\torch\\__init__.py:2611\u001b[39m\n\u001b[32m   2607\u001b[39m \u001b[38;5;28;01mfrom\u001b[39;00m\u001b[38;5;250m \u001b[39m\u001b[34;01mtorch\u001b[39;00m\u001b[34;01m.\u001b[39;00m\u001b[34;01mfunc\u001b[39;00m\u001b[38;5;250m \u001b[39m\u001b[38;5;28;01mimport\u001b[39;00m vmap \u001b[38;5;28;01mas\u001b[39;00m vmap\n\u001b[32m   2610\u001b[39m \u001b[38;5;28;01mif\u001b[39;00m \u001b[38;5;129;01mnot\u001b[39;00m TYPE_CHECKING:\n\u001b[32m-> \u001b[39m\u001b[32m2611\u001b[39m     \u001b[38;5;28;01mfrom\u001b[39;00m\u001b[38;5;250m \u001b[39m\u001b[34;01mtorch\u001b[39;00m\u001b[38;5;250m \u001b[39m\u001b[38;5;28;01mimport\u001b[39;00m _meta_registrations\n\u001b[32m   2613\u001b[39m \u001b[38;5;66;03m# Enable CUDA Sanitizer\u001b[39;00m\n\u001b[32m   2614\u001b[39m \u001b[38;5;28;01mif\u001b[39;00m \u001b[33m\"\u001b[39m\u001b[33mTORCH_CUDA_SANITIZER\u001b[39m\u001b[33m\"\u001b[39m \u001b[38;5;129;01min\u001b[39;00m os.environ:\n",
            "\u001b[36mFile \u001b[39m\u001b[32mc:\\Users\\doj0014\\Documents\\Cognates\\.venv\\Lib\\site-packages\\torch\\_meta_registrations.py:12\u001b[39m\n\u001b[32m     10\u001b[39m \u001b[38;5;28;01mimport\u001b[39;00m\u001b[38;5;250m \u001b[39m\u001b[34;01mtorch\u001b[39;00m\u001b[34;01m.\u001b[39;00m\u001b[34;01m_prims_common\u001b[39;00m\u001b[38;5;250m \u001b[39m\u001b[38;5;28;01mas\u001b[39;00m\u001b[38;5;250m \u001b[39m\u001b[34;01mutils\u001b[39;00m\n\u001b[32m     11\u001b[39m \u001b[38;5;28;01mfrom\u001b[39;00m\u001b[38;5;250m \u001b[39m\u001b[34;01mtorch\u001b[39;00m\u001b[38;5;250m \u001b[39m\u001b[38;5;28;01mimport\u001b[39;00m SymBool, SymFloat, Tensor\n\u001b[32m---> \u001b[39m\u001b[32m12\u001b[39m \u001b[38;5;28;01mfrom\u001b[39;00m\u001b[38;5;250m \u001b[39m\u001b[34;01mtorch\u001b[39;00m\u001b[34;01m.\u001b[39;00m\u001b[34;01m_decomp\u001b[39;00m\u001b[38;5;250m \u001b[39m\u001b[38;5;28;01mimport\u001b[39;00m (\n\u001b[32m     13\u001b[39m     _add_op_to_registry,\n\u001b[32m     14\u001b[39m     _convert_out_params,\n\u001b[32m     15\u001b[39m     global_decomposition_table,\n\u001b[32m     16\u001b[39m     meta_table,\n\u001b[32m     17\u001b[39m )\n\u001b[32m     18\u001b[39m \u001b[38;5;28;01mfrom\u001b[39;00m\u001b[38;5;250m \u001b[39m\u001b[34;01mtorch\u001b[39;00m\u001b[34;01m.\u001b[39;00m\u001b[34;01m_ops\u001b[39;00m\u001b[38;5;250m \u001b[39m\u001b[38;5;28;01mimport\u001b[39;00m OpOverload\n\u001b[32m     19\u001b[39m \u001b[38;5;28;01mfrom\u001b[39;00m\u001b[38;5;250m \u001b[39m\u001b[34;01mtorch\u001b[39;00m\u001b[34;01m.\u001b[39;00m\u001b[34;01m_prims\u001b[39;00m\u001b[38;5;250m \u001b[39m\u001b[38;5;28;01mimport\u001b[39;00m _prim_elementwise_meta, ELEMENTWISE_PRIM_TYPE_PROMOTION_KIND\n",
            "\u001b[36mFile \u001b[39m\u001b[32mc:\\Users\\doj0014\\Documents\\Cognates\\.venv\\Lib\\site-packages\\torch\\_decomp\\__init__.py:276\u001b[39m\n\u001b[32m    272\u001b[39m             decompositions.pop(op, \u001b[38;5;28;01mNone\u001b[39;00m)\n\u001b[32m    275\u001b[39m \u001b[38;5;66;03m# populate the table\u001b[39;00m\n\u001b[32m--> \u001b[39m\u001b[32m276\u001b[39m \u001b[38;5;28;01mimport\u001b[39;00m\u001b[38;5;250m \u001b[39m\u001b[34;01mtorch\u001b[39;00m\u001b[34;01m.\u001b[39;00m\u001b[34;01m_decomp\u001b[39;00m\u001b[34;01m.\u001b[39;00m\u001b[34;01mdecompositions\u001b[39;00m\n\u001b[32m    277\u001b[39m \u001b[38;5;28;01mimport\u001b[39;00m\u001b[38;5;250m \u001b[39m\u001b[34;01mtorch\u001b[39;00m\u001b[34;01m.\u001b[39;00m\u001b[34;01m_refs\u001b[39;00m\n\u001b[32m    280\u001b[39m \u001b[38;5;28;01mdef\u001b[39;00m\u001b[38;5;250m \u001b[39m\u001b[34mcore_aten_decompositions\u001b[39m() -> \u001b[33m\"\u001b[39m\u001b[33mCustomDecompTable\u001b[39m\u001b[33m\"\u001b[39m:\n",
            "\u001b[36mFile \u001b[39m\u001b[32mc:\\Users\\doj0014\\Documents\\Cognates\\.venv\\Lib\\site-packages\\torch\\_decomp\\decompositions.py:16\u001b[39m\n\u001b[32m     14\u001b[39m \u001b[38;5;28;01mimport\u001b[39;00m\u001b[38;5;250m \u001b[39m\u001b[34;01mtorch\u001b[39;00m\n\u001b[32m     15\u001b[39m \u001b[38;5;28;01mimport\u001b[39;00m\u001b[38;5;250m \u001b[39m\u001b[34;01mtorch\u001b[39;00m\u001b[34;01m.\u001b[39;00m\u001b[34;01m_meta_registrations\u001b[39;00m\n\u001b[32m---> \u001b[39m\u001b[32m16\u001b[39m \u001b[38;5;28;01mimport\u001b[39;00m\u001b[38;5;250m \u001b[39m\u001b[34;01mtorch\u001b[39;00m\u001b[34;01m.\u001b[39;00m\u001b[34;01m_prims\u001b[39;00m\u001b[38;5;250m \u001b[39m\u001b[38;5;28;01mas\u001b[39;00m\u001b[38;5;250m \u001b[39m\u001b[34;01mprims\u001b[39;00m\n\u001b[32m     17\u001b[39m \u001b[38;5;28;01mimport\u001b[39;00m\u001b[38;5;250m \u001b[39m\u001b[34;01mtorch\u001b[39;00m\u001b[34;01m.\u001b[39;00m\u001b[34;01m_prims_common\u001b[39;00m\u001b[38;5;250m \u001b[39m\u001b[38;5;28;01mas\u001b[39;00m\u001b[38;5;250m \u001b[39m\u001b[34;01mutils\u001b[39;00m\n\u001b[32m     18\u001b[39m \u001b[38;5;28;01mimport\u001b[39;00m\u001b[38;5;250m \u001b[39m\u001b[34;01mtorch\u001b[39;00m\u001b[34;01m.\u001b[39;00m\u001b[34;01mnn\u001b[39;00m\u001b[34;01m.\u001b[39;00m\u001b[34;01mfunctional\u001b[39;00m\u001b[38;5;250m \u001b[39m\u001b[38;5;28;01mas\u001b[39;00m\u001b[38;5;250m \u001b[39m\u001b[34;01mF\u001b[39;00m\n",
            "\u001b[36mFile \u001b[39m\u001b[32mc:\\Users\\doj0014\\Documents\\Cognates\\.venv\\Lib\\site-packages\\torch\\_prims\\__init__.py:1191\u001b[39m\n\u001b[32m   1176\u001b[39m remainder = _make_elementwise_binary_prim(\n\u001b[32m   1177\u001b[39m     \u001b[33m\"\u001b[39m\u001b[33mremainder\u001b[39m\u001b[33m\"\u001b[39m,\n\u001b[32m   1178\u001b[39m     impl_aten=torch.remainder,\n\u001b[32m   1179\u001b[39m     doc=\u001b[33m\"\u001b[39m\u001b[33m\"\u001b[39m,\n\u001b[32m   1180\u001b[39m     type_promotion=ELEMENTWISE_PRIM_TYPE_PROMOTION_KIND.DEFAULT,\n\u001b[32m   1181\u001b[39m )\n\u001b[32m   1184\u001b[39m shift_left = _make_elementwise_binary_prim(\n\u001b[32m   1185\u001b[39m     \u001b[33m\"\u001b[39m\u001b[33mshift_left\u001b[39m\u001b[33m\"\u001b[39m,\n\u001b[32m   1186\u001b[39m     impl_aten=torch.bitwise_left_shift,\n\u001b[32m   1187\u001b[39m     doc=\u001b[33m\"\u001b[39m\u001b[33m\"\u001b[39m,\n\u001b[32m   1188\u001b[39m     type_promotion=ELEMENTWISE_PRIM_TYPE_PROMOTION_KIND.DEFAULT,\n\u001b[32m   1189\u001b[39m )\n\u001b[32m-> \u001b[39m\u001b[32m1191\u001b[39m shift_right_arithmetic = \u001b[43m_make_elementwise_binary_prim\u001b[49m\u001b[43m(\u001b[49m\n\u001b[32m   1192\u001b[39m \u001b[43m    \u001b[49m\u001b[33;43m\"\u001b[39;49m\u001b[33;43mshift_right_arithmetic\u001b[39;49m\u001b[33;43m\"\u001b[39;49m\u001b[43m,\u001b[49m\n\u001b[32m   1193\u001b[39m \u001b[43m    \u001b[49m\u001b[43mimpl_aten\u001b[49m\u001b[43m=\u001b[49m\u001b[43mtorch\u001b[49m\u001b[43m.\u001b[49m\u001b[43mbitwise_right_shift\u001b[49m\u001b[43m,\u001b[49m\n\u001b[32m   1194\u001b[39m \u001b[43m    \u001b[49m\u001b[43mdoc\u001b[49m\u001b[43m=\u001b[49m\u001b[33;43m\"\u001b[39;49m\u001b[33;43m\"\u001b[39;49m\u001b[43m,\u001b[49m\n\u001b[32m   1195\u001b[39m \u001b[43m    \u001b[49m\u001b[43mtype_promotion\u001b[49m\u001b[43m=\u001b[49m\u001b[43mELEMENTWISE_PRIM_TYPE_PROMOTION_KIND\u001b[49m\u001b[43m.\u001b[49m\u001b[43mDEFAULT\u001b[49m\u001b[43m,\u001b[49m\n\u001b[32m   1196\u001b[39m \u001b[43m)\u001b[49m\n\u001b[32m   1198\u001b[39m shift_right_logical = _not_impl\n\u001b[32m   1200\u001b[39m sub = _make_elementwise_binary_prim(\n\u001b[32m   1201\u001b[39m     \u001b[33m\"\u001b[39m\u001b[33msub\u001b[39m\u001b[33m\"\u001b[39m,\n\u001b[32m   1202\u001b[39m     impl_aten=torch.sub,\n\u001b[32m   1203\u001b[39m     doc=\u001b[33m\"\u001b[39m\u001b[33m\"\u001b[39m,\n\u001b[32m   1204\u001b[39m     type_promotion=ELEMENTWISE_PRIM_TYPE_PROMOTION_KIND.DEFAULT,\n\u001b[32m   1205\u001b[39m )\n",
            "\u001b[36mFile \u001b[39m\u001b[32mc:\\Users\\doj0014\\Documents\\Cognates\\.venv\\Lib\\site-packages\\torch\\_prims\\__init__.py:508\u001b[39m, in \u001b[36m_make_elementwise_binary_prim\u001b[39m\u001b[34m(name, type_promotion, **kwargs)\u001b[39m\n\u001b[32m    501\u001b[39m \u001b[38;5;28;01mdef\u001b[39;00m\u001b[38;5;250m \u001b[39m\u001b[34m_make_elementwise_binary_prim\u001b[39m(\n\u001b[32m    502\u001b[39m     name: \u001b[38;5;28mstr\u001b[39m, *, type_promotion: ELEMENTWISE_PRIM_TYPE_PROMOTION_KIND, **kwargs\n\u001b[32m    503\u001b[39m ):\n\u001b[32m    504\u001b[39m \u001b[38;5;250m    \u001b[39m\u001b[33;03m\"\"\"\u001b[39;00m\n\u001b[32m    505\u001b[39m \u001b[33;03m    Creates an elementwise binary prim.\u001b[39;00m\n\u001b[32m    506\u001b[39m \u001b[33;03m    \"\"\"\u001b[39;00m\n\u001b[32m--> \u001b[39m\u001b[32m508\u001b[39m     \u001b[38;5;28;01mreturn\u001b[39;00m \u001b[43m_make_prim\u001b[49m\u001b[43m(\u001b[49m\n\u001b[32m    509\u001b[39m \u001b[43m        \u001b[49m\u001b[43mschema\u001b[49m\u001b[43m=\u001b[49m\u001b[33;43mf\u001b[39;49m\u001b[33;43m\"\u001b[39;49m\u001b[38;5;132;43;01m{\u001b[39;49;00m\u001b[43mname\u001b[49m\u001b[38;5;132;43;01m}\u001b[39;49;00m\u001b[33;43m(Tensor self, Tensor other) -> Tensor\u001b[39;49m\u001b[33;43m\"\u001b[39;49m\u001b[43m,\u001b[49m\n\u001b[32m    510\u001b[39m \u001b[43m        \u001b[49m\u001b[43mmeta\u001b[49m\u001b[43m=\u001b[49m\u001b[43mpartial\u001b[49m\u001b[43m(\u001b[49m\u001b[43m_prim_elementwise_meta\u001b[49m\u001b[43m,\u001b[49m\u001b[43m \u001b[49m\u001b[43mtype_promotion\u001b[49m\u001b[43m=\u001b[49m\u001b[43mtype_promotion\u001b[49m\u001b[43m)\u001b[49m\u001b[43m,\u001b[49m\n\u001b[32m    511\u001b[39m \u001b[43m        \u001b[49m\u001b[43mreturn_type\u001b[49m\u001b[43m=\u001b[49m\u001b[43mRETURN_TYPE\u001b[49m\u001b[43m.\u001b[49m\u001b[43mNEW\u001b[49m\u001b[43m,\u001b[49m\n\u001b[32m    512\u001b[39m \u001b[43m        \u001b[49m\u001b[43m*\u001b[49m\u001b[43m*\u001b[49m\u001b[43mkwargs\u001b[49m\u001b[43m,\u001b[49m\n\u001b[32m    513\u001b[39m \u001b[43m    \u001b[49m\u001b[43m)\u001b[49m\n",
            "\u001b[36mFile \u001b[39m\u001b[32mc:\\Users\\doj0014\\Documents\\Cognates\\.venv\\Lib\\site-packages\\torch\\_prims\\__init__.py:321\u001b[39m, in \u001b[36m_make_prim\u001b[39m\u001b[34m(schema, return_type, meta, impl_aten, doc, tags, use_old_custom_ops_api, register_conj_neg_fallthrough)\u001b[39m\n\u001b[32m    315\u001b[39m \u001b[38;5;28;01melse\u001b[39;00m:\n\u001b[32m    316\u001b[39m     mutates_args = [\n\u001b[32m    317\u001b[39m         arg.name\n\u001b[32m    318\u001b[39m         \u001b[38;5;28;01mfor\u001b[39;00m arg \u001b[38;5;129;01min\u001b[39;00m cpp_schema.arguments\n\u001b[32m    319\u001b[39m         \u001b[38;5;28;01mif\u001b[39;00m arg.alias_info \u001b[38;5;129;01mis\u001b[39;00m \u001b[38;5;129;01mnot\u001b[39;00m \u001b[38;5;28;01mNone\u001b[39;00m \u001b[38;5;129;01mand\u001b[39;00m arg.alias_info.is_write\n\u001b[32m    320\u001b[39m     ]\n\u001b[32m--> \u001b[39m\u001b[32m321\u001b[39m     prim_def = \u001b[43mtorch\u001b[49m\u001b[43m.\u001b[49m\u001b[43mlibrary\u001b[49m\u001b[43m.\u001b[49m\u001b[43mcustom_op\u001b[49m\u001b[43m(\u001b[49m\n\u001b[32m    322\u001b[39m \u001b[43m        \u001b[49m\u001b[33;43m\"\u001b[39;49m\u001b[33;43mprims::\u001b[39;49m\u001b[33;43m\"\u001b[39;49m\u001b[43m \u001b[49m\u001b[43m+\u001b[49m\u001b[43m \u001b[49m\u001b[43mname\u001b[49m\u001b[43m,\u001b[49m\n\u001b[32m    323\u001b[39m \u001b[43m        \u001b[49m\u001b[43m_prim_impl\u001b[49m\u001b[43m,\u001b[49m\n\u001b[32m    324\u001b[39m \u001b[43m        \u001b[49m\u001b[43mmutates_args\u001b[49m\u001b[43m=\u001b[49m\u001b[38;5;28;43mtuple\u001b[39;49m\u001b[43m(\u001b[49m\u001b[43mmutates_args\u001b[49m\u001b[43m)\u001b[49m\u001b[43m,\u001b[49m\n\u001b[32m    325\u001b[39m \u001b[43m        \u001b[49m\u001b[43mschema\u001b[49m\u001b[43m=\u001b[49m\u001b[43mschema\u001b[49m\u001b[43m,\u001b[49m\n\u001b[32m    326\u001b[39m \u001b[43m    \u001b[49m\u001b[43m)\u001b[49m\n\u001b[32m    327\u001b[39m     prim_def.register_fake(meta)\n\u001b[32m    329\u001b[39m     \u001b[38;5;66;03m# all view ops get conj/neg fallthroughs\u001b[39;00m\n",
            "\u001b[36mFile \u001b[39m\u001b[32mc:\\Users\\doj0014\\Documents\\Cognates\\.venv\\Lib\\site-packages\\torch\\_library\\custom_ops.py:173\u001b[39m, in \u001b[36mcustom_op\u001b[39m\u001b[34m(name, fn, mutates_args, device_types, schema)\u001b[39m\n\u001b[32m    171\u001b[39m \u001b[38;5;28;01mif\u001b[39;00m fn \u001b[38;5;129;01mis\u001b[39;00m \u001b[38;5;28;01mNone\u001b[39;00m:\n\u001b[32m    172\u001b[39m     \u001b[38;5;28;01mreturn\u001b[39;00m inner\n\u001b[32m--> \u001b[39m\u001b[32m173\u001b[39m \u001b[38;5;28;01mreturn\u001b[39;00m \u001b[43minner\u001b[49m\u001b[43m(\u001b[49m\u001b[43mfn\u001b[49m\u001b[43m)\u001b[49m\n",
            "\u001b[36mFile \u001b[39m\u001b[32mc:\\Users\\doj0014\\Documents\\Cognates\\.venv\\Lib\\site-packages\\torch\\_library\\custom_ops.py:154\u001b[39m, in \u001b[36mcustom_op.<locals>.inner\u001b[39m\u001b[34m(fn)\u001b[39m\n\u001b[32m    151\u001b[39m     schema_str = schema\n\u001b[32m    153\u001b[39m namespace, opname = name.split(\u001b[33m\"\u001b[39m\u001b[33m::\u001b[39m\u001b[33m\"\u001b[39m)\n\u001b[32m--> \u001b[39m\u001b[32m154\u001b[39m result = \u001b[43mCustomOpDef\u001b[49m\u001b[43m(\u001b[49m\u001b[43mnamespace\u001b[49m\u001b[43m,\u001b[49m\u001b[43m \u001b[49m\u001b[43mopname\u001b[49m\u001b[43m,\u001b[49m\u001b[43m \u001b[49m\u001b[43mschema_str\u001b[49m\u001b[43m,\u001b[49m\u001b[43m \u001b[49m\u001b[43mfn\u001b[49m\u001b[43m)\u001b[49m\n\u001b[32m    155\u001b[39m \u001b[38;5;28;01mif\u001b[39;00m schema \u001b[38;5;129;01mis\u001b[39;00m \u001b[38;5;129;01mnot\u001b[39;00m \u001b[38;5;28;01mNone\u001b[39;00m:\n\u001b[32m    156\u001b[39m     \u001b[38;5;66;03m# Check that schema's alias annotations match those of `mutates_args`.\u001b[39;00m\n\u001b[32m    157\u001b[39m     expected = \u001b[38;5;28mset\u001b[39m()\n",
            "\u001b[36mFile \u001b[39m\u001b[32mc:\\Users\\doj0014\\Documents\\Cognates\\.venv\\Lib\\site-packages\\torch\\_library\\custom_ops.py:204\u001b[39m, in \u001b[36mCustomOpDef.__init__\u001b[39m\u001b[34m(self, namespace, name, schema, fn)\u001b[39m\n\u001b[32m    201\u001b[39m \u001b[38;5;28mself\u001b[39m._autocast_cpu_dtype: Optional[_dtype] = \u001b[38;5;28;01mNone\u001b[39;00m\n\u001b[32m    203\u001b[39m \u001b[38;5;28mself\u001b[39m._lib = get_library_allowing_overwrite(\u001b[38;5;28mself\u001b[39m._namespace, \u001b[38;5;28mself\u001b[39m._name)\n\u001b[32m--> \u001b[39m\u001b[32m204\u001b[39m \u001b[38;5;28;43mself\u001b[39;49m\u001b[43m.\u001b[49m\u001b[43m_register_to_dispatcher\u001b[49m\u001b[43m(\u001b[49m\u001b[43m)\u001b[49m\n\u001b[32m    205\u001b[39m \u001b[38;5;28mself\u001b[39m._disabled_kernel: \u001b[38;5;28mset\u001b[39m = \u001b[38;5;28mset\u001b[39m()\n\u001b[32m    206\u001b[39m OPDEFS[\u001b[38;5;28mself\u001b[39m._qualname] = \u001b[38;5;28mself\u001b[39m\n",
            "\u001b[36mFile \u001b[39m\u001b[32mc:\\Users\\doj0014\\Documents\\Cognates\\.venv\\Lib\\site-packages\\torch\\_library\\custom_ops.py:624\u001b[39m, in \u001b[36mCustomOpDef._register_to_dispatcher\u001b[39m\u001b[34m(self)\u001b[39m\n\u001b[32m    616\u001b[39m         \u001b[38;5;28;01mraise\u001b[39;00m \u001b[38;5;167;01mRuntimeError\u001b[39;00m(\n\u001b[32m    617\u001b[39m             \u001b[33mf\u001b[39m\u001b[33m\"\u001b[39m\u001b[33mThere was no fake impl registered for \u001b[39m\u001b[38;5;132;01m{\u001b[39;00m\u001b[38;5;28mself\u001b[39m\u001b[38;5;132;01m}\u001b[39;00m\u001b[33m. \u001b[39m\u001b[33m\"\u001b[39m\n\u001b[32m    618\u001b[39m             \u001b[33mf\u001b[39m\u001b[33m\"\u001b[39m\u001b[33mThis is necessary for torch.compile/export/fx tracing to work. \u001b[39m\u001b[33m\"\u001b[39m\n\u001b[32m    619\u001b[39m             \u001b[33mf\u001b[39m\u001b[33m\"\u001b[39m\u001b[33mPlease use `\u001b[39m\u001b[38;5;132;01m{\u001b[39;00m\u001b[38;5;28mself\u001b[39m._init_fn.\u001b[34m__name__\u001b[39m\u001b[38;5;132;01m}\u001b[39;00m\u001b[33m.register_fake` to add an \u001b[39m\u001b[33m\"\u001b[39m\n\u001b[32m    620\u001b[39m             \u001b[33mf\u001b[39m\u001b[33m\"\u001b[39m\u001b[33mfake impl.\u001b[39m\u001b[33m\"\u001b[39m\n\u001b[32m    621\u001b[39m         )\n\u001b[32m    622\u001b[39m     \u001b[38;5;28;01mreturn\u001b[39;00m \u001b[38;5;28mself\u001b[39m._abstract_fn(*args, **kwargs)\n\u001b[32m--> \u001b[39m\u001b[32m624\u001b[39m \u001b[43mlib\u001b[49m\u001b[43m.\u001b[49m\u001b[43m_register_fake\u001b[49m\u001b[43m(\u001b[49m\u001b[38;5;28;43mself\u001b[39;49m\u001b[43m.\u001b[49m\u001b[43m_name\u001b[49m\u001b[43m,\u001b[49m\u001b[43m \u001b[49m\u001b[43mfake_impl\u001b[49m\u001b[43m,\u001b[49m\u001b[43m \u001b[49m\u001b[43m_stacklevel\u001b[49m\u001b[43m=\u001b[49m\u001b[32;43m4\u001b[39;49m\u001b[43m)\u001b[49m\n\u001b[32m    626\u001b[39m autograd_impl = autograd.make_autograd_impl(\u001b[38;5;28mself\u001b[39m._opoverload, \u001b[38;5;28mself\u001b[39m)\n\u001b[32m    627\u001b[39m lib.impl(\u001b[38;5;28mself\u001b[39m._name, autograd_impl, \u001b[33m\"\u001b[39m\u001b[33mAutograd\u001b[39m\u001b[33m\"\u001b[39m, with_keyset=\u001b[38;5;28;01mTrue\u001b[39;00m)\n",
            "\u001b[36mFile \u001b[39m\u001b[32mc:\\Users\\doj0014\\Documents\\Cognates\\.venv\\Lib\\site-packages\\torch\\library.py:193\u001b[39m, in \u001b[36mLibrary._register_fake\u001b[39m\u001b[34m(self, op_name, fn, _stacklevel)\u001b[39m\n\u001b[32m    190\u001b[39m     _library.utils.warn_deploy()\n\u001b[32m    191\u001b[39m     \u001b[38;5;28;01mreturn\u001b[39;00m\n\u001b[32m--> \u001b[39m\u001b[32m193\u001b[39m source = \u001b[43mtorch\u001b[49m\u001b[43m.\u001b[49m\u001b[43m_library\u001b[49m\u001b[43m.\u001b[49m\u001b[43mutils\u001b[49m\u001b[43m.\u001b[49m\u001b[43mget_source\u001b[49m\u001b[43m(\u001b[49m\u001b[43m_stacklevel\u001b[49m\u001b[43m \u001b[49m\u001b[43m+\u001b[49m\u001b[43m \u001b[49m\u001b[32;43m1\u001b[39;49m\u001b[43m)\u001b[49m\n\u001b[32m    194\u001b[39m frame = sys._getframe(_stacklevel)\n\u001b[32m    195\u001b[39m caller_module = inspect.getmodule(frame)\n",
            "\u001b[36mFile \u001b[39m\u001b[32mc:\\Users\\doj0014\\Documents\\Cognates\\.venv\\Lib\\site-packages\\torch\\_library\\utils.py:54\u001b[39m, in \u001b[36mget_source\u001b[39m\u001b[34m(stacklevel)\u001b[39m\n\u001b[32m     45\u001b[39m \u001b[38;5;28;01mdef\u001b[39;00m\u001b[38;5;250m \u001b[39m\u001b[34mget_source\u001b[39m(stacklevel: \u001b[38;5;28mint\u001b[39m) -> \u001b[38;5;28mstr\u001b[39m:\n\u001b[32m     46\u001b[39m \u001b[38;5;250m    \u001b[39m\u001b[33;03m\"\"\"Get a string that represents the caller.\u001b[39;00m\n\u001b[32m     47\u001b[39m \n\u001b[32m     48\u001b[39m \u001b[33;03m    Example: \"/path/to/foo.py:42\"\u001b[39;00m\n\u001b[32m   (...)\u001b[39m\u001b[32m     52\u001b[39m \u001b[33;03m    etc.\u001b[39;00m\n\u001b[32m     53\u001b[39m \u001b[33;03m    \"\"\"\u001b[39;00m\n\u001b[32m---> \u001b[39m\u001b[32m54\u001b[39m     frame = \u001b[43minspect\u001b[49m\u001b[43m.\u001b[49m\u001b[43mgetframeinfo\u001b[49m\u001b[43m(\u001b[49m\u001b[43msys\u001b[49m\u001b[43m.\u001b[49m\u001b[43m_getframe\u001b[49m\u001b[43m(\u001b[49m\u001b[43mstacklevel\u001b[49m\u001b[43m)\u001b[49m\u001b[43m)\u001b[49m\n\u001b[32m     55\u001b[39m     source = \u001b[33mf\u001b[39m\u001b[33m\"\u001b[39m\u001b[38;5;132;01m{\u001b[39;00mframe.filename\u001b[38;5;132;01m}\u001b[39;00m\u001b[33m:\u001b[39m\u001b[38;5;132;01m{\u001b[39;00mframe.lineno\u001b[38;5;132;01m}\u001b[39;00m\u001b[33m\"\u001b[39m\n\u001b[32m     56\u001b[39m     \u001b[38;5;28;01mreturn\u001b[39;00m source\n",
            "\u001b[36mFile \u001b[39m\u001b[32mC:\\Program Files\\Python312\\Lib\\inspect.py:1708\u001b[39m, in \u001b[36mgetframeinfo\u001b[39m\u001b[34m(frame, context)\u001b[39m\n\u001b[32m   1706\u001b[39m start = lineno - \u001b[32m1\u001b[39m - context//\u001b[32m2\u001b[39m\n\u001b[32m   1707\u001b[39m \u001b[38;5;28;01mtry\u001b[39;00m:\n\u001b[32m-> \u001b[39m\u001b[32m1708\u001b[39m     lines, lnum = \u001b[43mfindsource\u001b[49m\u001b[43m(\u001b[49m\u001b[43mframe\u001b[49m\u001b[43m)\u001b[49m\n\u001b[32m   1709\u001b[39m \u001b[38;5;28;01mexcept\u001b[39;00m \u001b[38;5;167;01mOSError\u001b[39;00m:\n\u001b[32m   1710\u001b[39m     lines = index = \u001b[38;5;28;01mNone\u001b[39;00m\n",
            "\u001b[36mFile \u001b[39m\u001b[32mC:\\Program Files\\Python312\\Lib\\inspect.py:1075\u001b[39m, in \u001b[36mfindsource\u001b[39m\u001b[34m(object)\u001b[39m\n\u001b[32m   1072\u001b[39m file = getsourcefile(\u001b[38;5;28mobject\u001b[39m)\n\u001b[32m   1073\u001b[39m \u001b[38;5;28;01mif\u001b[39;00m file:\n\u001b[32m   1074\u001b[39m     \u001b[38;5;66;03m# Invalidate cache if needed.\u001b[39;00m\n\u001b[32m-> \u001b[39m\u001b[32m1075\u001b[39m     \u001b[43mlinecache\u001b[49m\u001b[43m.\u001b[49m\u001b[43mcheckcache\u001b[49m\u001b[43m(\u001b[49m\u001b[43mfile\u001b[49m\u001b[43m)\u001b[49m\n\u001b[32m   1076\u001b[39m \u001b[38;5;28;01melse\u001b[39;00m:\n\u001b[32m   1077\u001b[39m     file = getfile(\u001b[38;5;28mobject\u001b[39m)\n",
            "\u001b[36mFile \u001b[39m\u001b[32mC:\\Program Files\\Python312\\Lib\\linecache.py:72\u001b[39m, in \u001b[36mcheckcache\u001b[39m\u001b[34m(filename)\u001b[39m\n\u001b[32m     70\u001b[39m     \u001b[38;5;28;01mcontinue\u001b[39;00m   \u001b[38;5;66;03m# no-op for files loaded via a __loader__\u001b[39;00m\n\u001b[32m     71\u001b[39m \u001b[38;5;28;01mtry\u001b[39;00m:\n\u001b[32m---> \u001b[39m\u001b[32m72\u001b[39m     stat = \u001b[43mos\u001b[49m\u001b[43m.\u001b[49m\u001b[43mstat\u001b[49m\u001b[43m(\u001b[49m\u001b[43mfullname\u001b[49m\u001b[43m)\u001b[49m\n\u001b[32m     73\u001b[39m \u001b[38;5;28;01mexcept\u001b[39;00m \u001b[38;5;167;01mOSError\u001b[39;00m:\n\u001b[32m     74\u001b[39m     cache.pop(filename, \u001b[38;5;28;01mNone\u001b[39;00m)\n",
            "\u001b[31mKeyboardInterrupt\u001b[39m: "
          ]
        }
      ],
      "source": [
        "import numpy as np\n",
        "import pandas as pd\n",
        "from torch.utils.data import TensorDataset, DataLoader\n",
        "import torch\n",
        "import torch.nn as nn\n",
        "import torch.optim as optim\n",
        "import torch.nn.functional as F\n",
        "#!pip install lingpy\n",
        "#import lingpy\n",
        "#from lingpy import ipa2tokens\n",
        "import re\n",
        "\n",
        "device = torch.device('cuda' if torch.cuda.is_available() else 'cpu')\n",
        "#device = torch.device(\"cpu\") #For debugging\n",
        "print(f\"Using device: {device}\")\n",
        "torch.set_default_device(device)"
      ]
    },
    {
      "cell_type": "code",
      "execution_count": null,
      "metadata": {
        "id": "s7sFvN-IcYr1"
      },
      "outputs": [],
      "source": [
        "seed = 42\n",
        "torch.manual_seed(seed)\n",
        "np.random.seed(seed)"
      ]
    },
    {
      "cell_type": "code",
      "execution_count": null,
      "metadata": {
        "colab": {
          "base_uri": "https://localhost:8080/",
          "height": 287
        },
        "id": "6YNbkDWOhJkL",
        "outputId": "5866087a-e1f5-4886-cefe-9dc0e6b8cf9f"
      },
      "outputs": [],
      "source": [
        "dat = pd.read_csv('data/ielexData.csv')"
      ]
    },
    {
      "cell_type": "code",
      "execution_count": null,
      "metadata": {
        "id": "BSPctSOEsWls"
      },
      "outputs": [],
      "source": [
        "dat"
      ]
    },
    {
      "cell_type": "code",
      "execution_count": null,
      "metadata": {
        "id": "SVRxPbTss04u"
      },
      "outputs": [],
      "source": [
        "dat[dat['Meaning'] == 'few']"
      ]
    },
    {
      "cell_type": "code",
      "execution_count": null,
      "metadata": {
        "id": "ZuRw0ywqj_pi"
      },
      "outputs": [],
      "source": [
        "concepts = [re.sub(':.*', '', x) for x in dat['cc']]\n",
        "dat['concepts'] = concepts\n",
        "uniqueconcepts = np.unique(concepts)\n",
        "cognates = [list(re.sub('^.*:', '', x))[0] for x in dat['cc']]\n",
        "dat['cognate_char'] = cognates"
      ]
    },
    {
      "cell_type": "code",
      "execution_count": null,
      "metadata": {
        "id": "IkLJo8SXlAsq"
      },
      "outputs": [],
      "source": [
        "source_words = []\n",
        "target_words = []\n",
        "label = []\n",
        "for concept in uniqueconcepts:\n",
        "  tmp_df = dat[dat['concepts'] == concept]\n",
        "  for word_idx in range(len(tmp_df)):\n",
        "    source_word = tmp_df['ASJP'].iloc[word_idx]\n",
        "    source_class = tmp_df['cognate_char'].iloc[word_idx]\n",
        "    if len(list(source_word)) < 11:\n",
        "      for word_idx2 in range(len(tmp_df)):\n",
        "        if word_idx != word_idx2:\n",
        "          target_word = tmp_df['ASJP'].iloc[word_idx2]\n",
        "          target_class = tmp_df['cognate_char'].iloc[word_idx2]\n",
        "          if len(list(target_word)) < 11:\n",
        "            if source_class == target_class:\n",
        "              label.append(1)\n",
        "            else:\n",
        "              label.append(0)\n",
        "            source_words.append(source_word)\n",
        "            target_words.append(target_word)\n"
      ]
    },
    {
      "cell_type": "code",
      "execution_count": null,
      "metadata": {
        "id": "TrFEwTjuo2dP"
      },
      "outputs": [],
      "source": [
        "source_words[0]"
      ]
    },
    {
      "cell_type": "code",
      "execution_count": null,
      "metadata": {
        "id": "Aty0si5lrJSm"
      },
      "outputs": [],
      "source": [
        "charlens = []\n",
        "unique_characters = []\n",
        "for i in source_words:\n",
        "  charlens.append(len(list(i)))\n",
        "  for j in list(i):\n",
        "    unique_characters.append(j)\n",
        "unique_characters = ['PAD'] + np.unique(unique_characters).tolist()"
      ]
    },
    {
      "cell_type": "code",
      "execution_count": null,
      "metadata": {
        "id": "c9rvCsAxvRkP"
      },
      "outputs": [],
      "source": [
        "maxlen = max(charlens)"
      ]
    },
    {
      "cell_type": "code",
      "execution_count": null,
      "metadata": {
        "id": "E6_BhldMr7gC"
      },
      "outputs": [],
      "source": [
        "source_words_tokens = []\n",
        "target_words_tokens = []\n",
        "for j in range(len(source_words)):\n",
        "  source_tmp = [unique_characters.index(i) for i in list(source_words[j])]\n",
        "  target_tmp = [unique_characters.index(i) for i in list(target_words[j])]\n",
        "  source_tmp = source_tmp + [0 for x in range(maxlen-len(source_tmp))]\n",
        "  target_tmp = target_tmp + [0 for x in range(maxlen-len(target_tmp))]\n",
        "\n",
        "  source_words_tokens.append(source_tmp)\n",
        "  target_words_tokens.append(target_tmp)"
      ]
    },
    {
      "cell_type": "code",
      "execution_count": null,
      "metadata": {
        "id": "0yDt6ga1Unur"
      },
      "outputs": [],
      "source": [
        "source_words_tokens[0], target_words_tokens[0]"
      ]
    },
    {
      "cell_type": "code",
      "execution_count": null,
      "metadata": {
        "id": "USKXloHqU5qQ"
      },
      "outputs": [],
      "source": [
        "unique_characters[25]"
      ]
    },
    {
      "cell_type": "code",
      "execution_count": null,
      "metadata": {
        "id": "79Py6Q5ttJpi"
      },
      "outputs": [],
      "source": [
        "#indices = np.arange(len(source_words_tokens))\n",
        "#np.random.shuffle(indices)\n",
        "#split_index = int(0.9 * len(indices))\n",
        "#train_indices = indices[:split_index]\n",
        "#test_indices = indices[split_index:]"
      ]
    },
    {
      "cell_type": "code",
      "execution_count": null,
      "metadata": {
        "id": "ukL-LmvDti90"
      },
      "outputs": [],
      "source": [
        "#source_words_tokens_train = source_words_tokens[train_indices]\n",
        "#source_words_tokens_test = source_words_tokens[test_indices]\n",
        "#target_words_tokens_train = target_words_tokens[train_indices]\n",
        "#target_words_tokens_test = target_words_tokens[test_indices]\n",
        "#label_train = label[train_indices]\n",
        "#label_test = label[test_indices]"
      ]
    },
    {
      "cell_type": "code",
      "execution_count": null,
      "metadata": {
        "id": "m8XwOsXduL5f"
      },
      "outputs": [],
      "source": [
        "from sklearn.model_selection import train_test_split\n",
        "source_train, source_test, target_train, target_test, label_train, label_test = train_test_split(source_words_tokens, target_words_tokens, label, test_size=0.1, shuffle=True, random_state=42)"
      ]
    },
    {
      "cell_type": "code",
      "execution_count": null,
      "metadata": {
        "id": "lehKemrDs1Y4"
      },
      "outputs": [],
      "source": [
        "source_train_tensor = torch.tensor(source_train, dtype=torch.long, device=device)\n",
        "source_test_tensor = torch.tensor(source_test, dtype=torch.long, device=device)\n",
        "target_train_tensor = torch.tensor(target_train, dtype=torch.long, device=device)\n",
        "target_test_tensor = torch.tensor(target_test, dtype=torch.long, device=device)\n",
        "label_train_tensor = torch.tensor(label_train, dtype=torch.int, device=device)\n",
        "label_test_tensor = torch.tensor(label_test, dtype=torch.int, device=device)"
      ]
    },
    {
      "cell_type": "code",
      "execution_count": null,
      "metadata": {
        "id": "7MP_JlcJxwrl"
      },
      "outputs": [],
      "source": [
        "train_dataset = TensorDataset(source_train_tensor, target_train_tensor, label_train_tensor)\n",
        "test_dataset = TensorDataset(source_test_tensor, target_test_tensor, label_test_tensor)"
      ]
    },
    {
      "cell_type": "code",
      "execution_count": null,
      "metadata": {
        "id": "dU6TVNvAyID-"
      },
      "outputs": [],
      "source": [
        "batch_size = 512\n",
        "train_loader = DataLoader(train_dataset, batch_size = batch_size, generator=torch.Generator(device=device.type))\n",
        "test_loader = DataLoader(test_dataset, batch_size = batch_size, generator=torch.Generator(device=device.type))"
      ]
    },
    {
      "cell_type": "markdown",
      "metadata": {
        "id": "UBhBmSPnxdim"
      },
      "source": [
        "Next step: NN that takes in both words, converts them to embeddings and predicts whether they are cognates (yes/no) = (1/0), sigmoid classification"
      ]
    },
    {
      "cell_type": "markdown",
      "metadata": {
        "id": "r4iOIqTKg4B4"
      },
      "source": []
    },
    {
      "cell_type": "markdown",
      "metadata": {
        "id": "YnyQL28rjL1M"
      },
      "source": []
    },
    {
      "cell_type": "code",
      "execution_count": null,
      "metadata": {
        "id": "r9-ZCrmSkZg7"
      },
      "outputs": [],
      "source": [
        "import torch\n",
        "import torch.nn as nn\n",
        "import torch.optim as optim\n",
        "from torch.utils.data import Dataset, DataLoader\n",
        "\n",
        "class SimpleCognateDataset(Dataset):\n",
        "    def __init__(self, data, unique_characters, maxlen):\n",
        "        self.data = data\n",
        "        self.char_to_idx = {char: i+1 for i, char in enumerate(unique_characters)}\n",
        "        self.maxlen = maxlen\n",
        "\n",
        "    def encode_word(self, word):\n",
        "        #This is way faster than the \"proper method\"\n",
        "        #Because all the data on the cpu device, so making a tensor would send it to the gpu, then pull it from the gpu, then send it again\n",
        "        #Maybe if we could make this dataset once and put it on the gpu once, then it would be way faster\n",
        "        encoded = [self.char_to_idx.get(c, 0) for c in word]\n",
        "        return encoded + [0] * (self.maxlen - len(encoded))\n",
        "    \n",
        "        #encoded = [self.char_to_idx.get(c, 0) for c in word]\n",
        "        #return nn.functional.pad(torch.tensor(encoded, dtype=torch.long), (0, self.maxlen - len(encoded)), value=0)\n",
        "\n",
        "    def __len__(self):\n",
        "        return len(self.data)\n",
        "\n",
        "    def __getitem__(self, idx):\n",
        "        word1, word2, label = self.data[idx]\n",
        "        return (\n",
        "            torch.tensor(self.encode_word(word1), dtype=torch.long, device=device),\n",
        "            torch.tensor(self.encode_word(word2), dtype=torch.long, device=device),\n",
        "            torch.tensor(label, dtype=torch.float, device=device)\n",
        "        )\n",
        "\n",
        "class SimplePairNN(nn.Module):\n",
        "    def __init__(self, vocab_size, embedding_dim=64, hidden_dim=128):\n",
        "        super(SimplePairNN, self).__init__()\n",
        "        self.embedding = nn.Embedding(vocab_size + 1, embedding_dim, padding_idx=0)\n",
        "        self.lstm = nn.LSTM(embedding_dim, hidden_dim, batch_first=True)\n",
        "        self.fc = nn.Sequential(\n",
        "            nn.Linear(hidden_dim * 2, 64),\n",
        "            nn.ReLU(),\n",
        "            nn.Linear(64, 1),\n",
        "            nn.Sigmoid()\n",
        "        )\n",
        "\n",
        "    def encode_word(self, x):\n",
        "        x = self.embedding(x)\n",
        "        _, (hidden, _) = self.lstm(x)\n",
        "        return hidden[-1]\n",
        "\n",
        "    def forward(self, input1, input2):\n",
        "        enc1 = self.encode_word(input1)\n",
        "        enc2 = self.encode_word(input2)\n",
        "        combined = torch.cat([enc1, enc2], dim=1)\n",
        "        return self.fc(combined)"
      ]
    },
    {
      "cell_type": "code",
      "execution_count": null,
      "metadata": {},
      "outputs": [],
      "source": [
        "import pandas as pd\n",
        "from itertools import combinations\n",
        "\n",
        "df = pd.read_csv(\"data/ielexData.csv\")\n",
        "\n",
        "df = df[['Meaning', 'Phonological Form', 'cc']].dropna()\n",
        "df.columns = ['meaning', 'word', 'cognate_class']\n",
        "\n",
        "ilexPairs = []\n",
        "\n",
        "for _, group in df.groupby('meaning'):\n",
        "    entries = group.to_dict('records')\n",
        "    for w1, w2 in combinations(entries, 2):\n",
        "        word1 = str(w1['word'])\n",
        "        word2 = str(w2['word'])\n",
        "        label = int(w1['cognate_class'] == w2['cognate_class'])\n",
        "        ilexPairs.append((word1, word2, label))\n",
        "\n",
        "import csv\n",
        "\n",
        "# Initialize an empty set to store the languages\n",
        "languages = set()\n",
        "\n",
        "# Open and read the CSV file with UTF-8 encoding and error handling\n",
        "with open('data/ielexData.csv', 'r', encoding='utf-8', errors='replace') as file:\n",
        "    reader = csv.reader(file)\n",
        "    next(reader)  # Skip the header row\n",
        "    for row in reader:\n",
        "        languages.add(row[1])  # Add the language (second column) to the set\n",
        "\n",
        "# Print the set of languages\n",
        "print(languages)\n",
        "\n",
        "df"
      ]
    },
    {
      "cell_type": "code",
      "execution_count": null,
      "metadata": {},
      "outputs": [],
      "source": [
        "df = pd.read_csv(\"data/gled.tsv\", delimiter=\"\\t\")\n",
        "\n",
        "df.rename(columns={'LANGUAGE_NAME': 'Language'}, inplace=True)\n",
        "\n",
        "df['Language'] = df['Language'].str.replace('Modern Greek', 'Greek', regex=False)\n",
        "\n",
        "df = df[df['Language'].isin(languages)]\n",
        "\n",
        "#df.dropna(subset=[\"COGSET\"], inplace=True) All of them have a cogset\n",
        "\n",
        "df"
      ]
    },
    {
      "cell_type": "code",
      "execution_count": null,
      "metadata": {},
      "outputs": [],
      "source": [
        "df = df[['CONCEPT', 'FORM', 'COGSET']].dropna()\n",
        "df.columns = ['meaning', 'word', 'cognate_class']\n",
        "\n",
        "pairs = []\n",
        "\n",
        "for _, group in df.groupby('meaning'):\n",
        "    entries = group.to_dict('records')\n",
        "    for w1, w2 in combinations(entries, 2):\n",
        "        word1 = str(w1['word'])\n",
        "        word2 = str(w2['word'])\n",
        "        if(word1 == word2):\n",
        "            continue\n",
        "        label = int(w1['cognate_class'] == w2['cognate_class'])\n",
        "        pairs.append((word1, word2, label))"
      ]
    },
    {
      "cell_type": "code",
      "execution_count": null,
      "metadata": {},
      "outputs": [],
      "source": [
        "len(pairs)"
      ]
    },
    {
      "cell_type": "code",
      "execution_count": null,
      "metadata": {},
      "outputs": [],
      "source": [
        "pairs += ilexPairs"
      ]
    },
    {
      "cell_type": "code",
      "execution_count": null,
      "metadata": {},
      "outputs": [],
      "source": [
        "pairs"
      ]
    },
    {
      "cell_type": "code",
      "execution_count": null,
      "metadata": {},
      "outputs": [],
      "source": [
        "pairs_df = pd.DataFrame(pairs, columns=['Word1', 'Word2', 'Label'])\n",
        "pairs_df"
      ]
    },
    {
      "cell_type": "code",
      "execution_count": null,
      "metadata": {
        "id": "ADOIbTNAlzdh"
      },
      "outputs": [],
      "source": [
        "from sklearn.model_selection import LeaveOneOut, KFold, StratifiedKFold\n",
        "import numpy as np\n",
        "from tqdm import tqdm\n",
        "import time\n",
        "\n",
        "# Prepare data\n",
        "all_words = [w for pair in pairs for w in pair[:2]]\n",
        "all_answers = [w for pair in pairs for w in pair[2:]]\n",
        "unique_characters = sorted(set(\"\".join(all_words)))\n",
        "maxlen = max(len(w) for w in all_words)\n",
        "\n",
        "import matplotlib.pyplot as plt\n",
        "def show_box_plot(data, title=\"Cross Validation Accuracies\"):\n",
        "\tf = plt.figure()\n",
        "\tf.set_figwidth(4)\n",
        "\tf.set_figheight(1)\n",
        "\n",
        "\t# Create a box and whiskers plot\n",
        "\tplt.boxplot(data, vert=False)\n",
        "\n",
        "\tplt.scatter(data, [1]*len(data), color='blue', alpha=0.3, s=20)\n",
        "\n",
        "\t# Add title and labels\n",
        "\tplt.title(title)\n",
        "\tplt.ylabel('Values')\n",
        "\n",
        "\t# Show the plot\n",
        "\tplt.show()\n",
        "\n",
        "def show_confusion_matrix(cm, title=\"Confusion Matrix\"):\n",
        "\tfig, ax = plt.subplots()\n",
        "\tcax = ax.matshow(cm, cmap=plt.cm.Blues)\n",
        "\n",
        "\tfor (i, j), z in np.ndenumerate(cm):\n",
        "\t\tax.text(j, i, '{:0.1f}'.format(z), ha='center', va='center',\n",
        "\t\t\t\tbbox=dict(boxstyle='round', facecolor='white', edgecolor='0.3'))\n",
        "\t\n",
        "\tax.set_xticks([0, 1])\n",
        "\tax.set_yticks([0, 1])   \n",
        "\tax.set_xticklabels(['Predicted Negative', 'Predicted Positive'])\n",
        "\tax.set_yticklabels(['True Negative', 'True Positive'])\n",
        "\tplt.xlabel('Predicted')\n",
        "\tplt.ylabel('True')\n",
        "\tplt.title(title)\n",
        "\n",
        "def cv_test_model(model_maker, has_history=False):\n",
        "\tcv = StratifiedKFold(n_splits = 10)\n",
        "\tepochs = 1500\n",
        "\n",
        "\t# Store results for each fold\n",
        "\t# All of these are [epoch_number, fold, (confusion_matrix, accuracy)]\n",
        "\t\n",
        "\thistory = {\n",
        "\t\t\"train\": [\n",
        "\t\t\t[tuple((None, None)) for _ in range(cv.get_n_splits())]\n",
        "\t\t\tfor _ in range(epochs)\n",
        "\t\t],\n",
        "\t\t\"test\": [\n",
        "\t\t\t[tuple((None, None)) for _ in range(cv.get_n_splits())]\n",
        "\t\t\tfor _ in range(epochs)\n",
        "\t\t]\n",
        "\t}\n",
        "\n",
        "\tfor fold, (train_idx, test_idx) in enumerate(tqdm(cv.split(pairs_df.iloc[:, :2], pairs_df.iloc[:, 2:]), total=cv.get_n_splits(), desc=\"CV Progress\")):\n",
        "\t\t# Split data\n",
        "\t\ttrain_data = [pairs[i] for i in train_idx]\n",
        "\t\ttest_data = [pairs[i] for i in test_idx]\n",
        "\t\t\n",
        "\t\t# Create model for this fold\n",
        "\t\tmodel = model_maker()\n",
        "\t\tcriterion = nn.BCELoss()\n",
        "\t\toptimizer = optim.Adam(model.parameters(), lr=0.001)\n",
        "\t\t\n",
        "\t\t# Create datasets and dataloaders\n",
        "\t\ttrain_dataset = SimpleCognateDataset(train_data, unique_characters, maxlen)\n",
        "\t\ttest_dataset = SimpleCognateDataset(test_data, unique_characters, maxlen)\n",
        "\t\t\n",
        "\t\ttrain_loader = DataLoader(train_dataset, batch_size=3200, shuffle=True, \n",
        "\t\t\t\t\t\t\t\tgenerator=torch.Generator(device=device.type))\n",
        "\t\ttest_loader = DataLoader(test_dataset, batch_size=3200, \n",
        "\t\t\t\t\t\t\t\tgenerator=torch.Generator(device=device.type))\n",
        "\t\t\n",
        "\t\t\n",
        "\t\tdef test_against_loader(model, loader):\n",
        "\t\t\tpredictions = []\n",
        "\t\t\ttrue_labels = []\n",
        "\n",
        "\t\t\twith torch.no_grad():\n",
        "\t\t\t\tfor word1_batch, word2_batch, label_batch in loader:\n",
        "\t\t\t\t\toutput_batch = model(word1_batch, word2_batch).squeeze()\n",
        "\t\t\t\t\tpredicted_batch = (output_batch > 0.5).int()\n",
        "\n",
        "\t\t\t\t\t# Store results for the entire batch\n",
        "\t\t\t\t\tpredictions.extend(predicted_batch.tolist())\n",
        "\t\t\t\t\ttrue_labels.extend(label_batch.int().tolist())\n",
        "\n",
        "\t\t\t# Calculate accuracy\n",
        "\t\t\taccuracy = sum([pred == true for pred, true in zip(predictions, true_labels)]) / len(true_labels)\n",
        "\n",
        "\t\t\t# Additional metrics\n",
        "\t\t\tfrom sklearn.metrics import confusion_matrix\n",
        "\t\t\t\n",
        "\t\t\t# Calculate confusion matrix\n",
        "\t\t\tconf_matrix = confusion_matrix(true_labels, predictions)\n",
        "\n",
        "\t\t\treturn conf_matrix, accuracy\n",
        "\n",
        "\t\t# Train model\n",
        "\t\tmodel.train()\n",
        "\t\tfor epoch in range(epochs):\n",
        "\t\t\ttotal_loss = 0\n",
        "\t\t\tfor word1, word2, label in train_loader:\n",
        "\t\t\t\toptimizer.zero_grad()\n",
        "\t\t\t\toutput = model(word1, word2).squeeze()\n",
        "\t\t\t\t#print(output.get_device(), label.get_device())\n",
        "\t\t\t\tloss = criterion(output, label)\n",
        "\t\t\t\tloss.backward()\n",
        "\t\t\t\toptimizer.step()\n",
        "\t\t\t\ttotal_loss += loss.item()\n",
        "\t\t\t#print(f\"Epoch {epoch+1}/{epochs}, Loss: {total_loss / len(train_loader):.4f}\")\n",
        "\n",
        "\t\t\tif has_history:\n",
        "\t\t\t\tmodel.eval()\n",
        "\t\t\t\thistory[\"train\"][epoch][fold] = test_against_loader(model, train_loader)\n",
        "\t\t\t\thistory[\"test\"][epoch][fold] = test_against_loader(model, test_loader)\n",
        "\n",
        "\t\t\t\t#Early cutoff if overfitting\n",
        "\t\t\t\tif history[\"train\"][epoch][fold][1] >= .99:\n",
        "\t\t\t\t\thistory[\"train\"] = history[\"train\"][0:epoch]\n",
        "\t\t\t\t\thistory[\"test\"] = history[\"test\"][0:epoch]\n",
        "\t\t\t\t\treturn history, model\n",
        "\t\t\t\t\n",
        "\t\t\t\tmodel.train()\n",
        "\n",
        "\t\tif not has_history:\n",
        "\t\t\thistory[\"test\"][-1][fold] = test_against_loader(model, test_loader)\n",
        "\n",
        "\treturn history, model\n"
      ]
    },
    {
      "cell_type": "code",
      "execution_count": null,
      "metadata": {},
      "outputs": [],
      "source": [
        "from transformer_stuff import TransformerCognateModel, UnbatchedWrapper\n",
        "\n",
        "def simple_nn_model_maker():\n",
        "    # Model parameters\n",
        "    embedding_dim = 64\n",
        "    hidden_dim = 64\n",
        "    vocab_size = len(unique_characters)\n",
        "\n",
        "    model = TransformerCognateModel(vocab_size, embedding_dim, hidden_dim)\n",
        "    return model\n",
        "    #return UnbatchedWrapper(model)\n",
        "\n",
        "history, model = cv_test_model(simple_nn_model_maker, has_history=True)"
      ]
    },
    {
      "cell_type": "code",
      "execution_count": null,
      "metadata": {},
      "outputs": [],
      "source": [
        "# Calculate overall statistics\n",
        "last_epoch_test_data = history[\"test\"][-1] #[fold, (pred, labels, accuracies, accuracy)]\n",
        "\n",
        "all_confusion = np.sum(np.array([fold_data[0] for fold_data in last_epoch_test_data]), axis=0)\n",
        "all_accuracies = [fold_data[1] for fold_data in last_epoch_test_data]\n",
        "\n",
        "overall_accuracy = np.mean(all_accuracies)\n",
        "correct_predictions = all_confusion[1][1] + all_confusion[0][0]\n",
        "total_predictions = np.sum(all_confusion)\n",
        "\n",
        "print(f\"\\nCross-Validation Results:\")\n",
        "print(f\"Overall Accuracy: {overall_accuracy * 100:.2f}%\")\n",
        "print(f\"Correct Predictions: {correct_predictions}/{total_predictions}\")\n",
        "\n",
        "fold_accuracies = [fold_data[1] for fold_data in history[\"train\"][-1]]\n",
        "show_box_plot(fold_accuracies)\n",
        "\n",
        "show_confusion_matrix(all_confusion)\n",
        "\n",
        "# Initialize lists to store accuracies for each fold\n",
        "train_fold_accuracies = np.zeros((len(history[\"train\"][-1]), len(history[\"train\"])))\n",
        "test_fold_accuracies = np.zeros((len(history[\"train\"][-1]), len(history[\"train\"])))\n",
        "\n",
        "# Extract training and testing accuracies for each fold across all epochs\n",
        "for epoch_index, epoch_data in enumerate(history[\"train\"]):\n",
        "    for fold_index, fold_data in enumerate(epoch_data):\n",
        "        train_fold_accuracies[fold_index][epoch_index] = fold_data[1]\n",
        "\n",
        "for epoch_index, epoch_data in enumerate(history[\"test\"]):\n",
        "    for fold_index, fold_data in enumerate(epoch_data):\n",
        "        test_fold_accuracies[fold_index][epoch_index] = fold_data[1]\n",
        "\n",
        "# Plot training and testing accuracies for each fold on one graph\n",
        "plt.figure(figsize=(10, 5))\n",
        "for fold_index, accuracies in enumerate(train_fold_accuracies):\n",
        "    plt.plot(accuracies, color='orange', alpha=.4)\n",
        "for fold_index, accuracies in enumerate(test_fold_accuracies):\n",
        "    plt.plot(accuracies, color='blue', alpha=.4)\n",
        "\n",
        "# Add custom legend\n",
        "leg = plt.legend(['Training', 'Testing'], loc='upper left')\n",
        "leg.legend_handles[0].set_color('orange')\n",
        "leg.legend_handles[1].set_color('blue')\n",
        "\n",
        "plt.xlabel('Epochs')\n",
        "plt.ylabel('Accuracy')\n",
        "plt.xticks(np.arange(1, len(history[\"train\"]), step=1))\n",
        "plt.title('Training and Testing Accuracies Over Epochs')\n",
        "plt.show()"
      ]
    },
    {
      "cell_type": "code",
      "execution_count": null,
      "metadata": {},
      "outputs": [],
      "source": [
        "len(train_fold_accuracies[1])"
      ]
    },
    {
      "cell_type": "code",
      "execution_count": null,
      "metadata": {},
      "outputs": [],
      "source": [
        "test_fold_accuracies[-1]"
      ]
    },
    {
      "cell_type": "code",
      "execution_count": null,
      "metadata": {},
      "outputs": [],
      "source": [
        "history"
      ]
    },
    {
      "cell_type": "code",
      "execution_count": null,
      "metadata": {},
      "outputs": [],
      "source": [
        "def simple_nn_model_maker():\n",
        "    # Model parameters\n",
        "    embedding_dim = 64\n",
        "    hidden_dim = 128\n",
        "    vocab_size = len(unique_characters)\n",
        "\n",
        "    return SimplePairNN(vocab_size, embedding_dim, hidden_dim)\n",
        "\n",
        "history, model = cv_test_model(simple_nn_model_maker, has_history=True)"
      ]
    },
    {
      "cell_type": "code",
      "execution_count": null,
      "metadata": {},
      "outputs": [],
      "source": [
        "final_model = SimplePairNN(vocab_size, embedding_dim, hidden_dim)\n",
        "final_criterion = nn.BCELoss()\n",
        "final_optimizer = optim.Adam(final_model.parameters(), lr=0.1)\n",
        "\n",
        "final_dataset = SimpleCognateDataset(pairs, unique_characters, maxlen)\n",
        "final_loader = DataLoader(final_dataset, batch_size=32, shuffle=True, \n",
        "                         generator=torch.Generator(device='cuda'))\n",
        "\n",
        "for epoch in tqdm(range(5), desc=\"Training final model\"):\n",
        "    final_model.train()\n",
        "    total_loss = 0\n",
        "    for word1, word2, label in final_loader:\n",
        "        final_optimizer.zero_grad()\n",
        "        output = final_model(word1, word2).squeeze()\n",
        "        loss = final_criterion(output, label)\n",
        "        loss.backward()\n",
        "        final_optimizer.step()\n",
        "        total_loss += loss.item()\n",
        "    print(f\"Final model - Epoch {epoch+1}/5, Loss: {total_loss / len(final_loader):.4f}\")\n",
        "\n",
        "final_model.eval()\n",
        "final_predictions = []\n",
        "final_true_labels = []\n",
        "\n",
        "with torch.no_grad():\n",
        "    for word1, word2, label in tqdm(final_loader, desc=\"Evaluating final model\"):\n",
        "        output = final_model(word1, word2).squeeze()\n",
        "        predicted = (output > 0.5).int()\n",
        "        \n",
        "        # Handle both single samples and batches\n",
        "        if predicted.dim() == 0:\n",
        "            final_predictions.append(predicted.item())\n",
        "            final_true_labels.append(label.int().item())\n",
        "        else:\n",
        "            final_predictions.extend(predicted.cpu().numpy())\n",
        "            final_true_labels.extend(label.int().cpu().numpy())\n",
        "\n",
        "# Calculate final model metrics\n",
        "final_accuracy = np.mean(np.array(final_predictions) == np.array(final_true_labels))\n",
        "final_precision = precision_score(final_true_labels, final_predictions, zero_division=0)\n",
        "final_recall = recall_score(final_true_labels, final_predictions, zero_division=0)\n",
        "final_f1 = f1_score(final_true_labels, final_predictions, zero_division=0)\n",
        "final_cm = confusion_matrix(final_true_labels, final_predictions)\n",
        "\n",
        "print(f\"\\nFinal Model Performance (on all data):\")\n",
        "print(f\"Accuracy: {final_accuracy * 100:.2f}%\")\n",
        "print(f\"Precision: {final_precision:.3f}\")\n",
        "print(f\"Recall: {final_recall:.3f}\")\n",
        "print(f\"F1-Score: {final_f1:.3f}\")\n",
        "print(f\"Confusion Matrix:\")\n",
        "print(final_cm)"
      ]
    },
    {
      "cell_type": "code",
      "execution_count": null,
      "metadata": {},
      "outputs": [],
      "source": [
        "def predict_pair(word1, word2):\n",
        "    def encode(w):\n",
        "        char_to_idx = {char: i+1 for i, char in enumerate(unique_characters)}\n",
        "        idxs = [char_to_idx.get(c, 0) for c in w]\n",
        "        return idxs + [0] * (maxlen - len(idxs))\n",
        "\n",
        "    w1 = torch.tensor([encode(word1)], dtype=torch.long, device=device)\n",
        "    w2 = torch.tensor([encode(word2)], dtype=torch.long, device=device)\n",
        "    final_model.eval()\n",
        "    with torch.no_grad():\n",
        "        out = final_model(w1, w2)\n",
        "    return \"Yes\" if out.item() > 0.5 else \"No\""
      ]
    },
    {
      "cell_type": "markdown",
      "metadata": {},
      "source": [
        "https://github.com/pytorch/examples/tree/main/word_language_model"
      ]
    }
  ],
  "metadata": {
    "colab": {
      "provenance": []
    },
    "kernelspec": {
      "display_name": "Python 3",
      "name": "python3"
    },
    "language_info": {
      "codemirror_mode": {
        "name": "ipython",
        "version": 3
      },
      "file_extension": ".py",
      "mimetype": "text/x-python",
      "name": "python",
      "nbconvert_exporter": "python",
      "pygments_lexer": "ipython3",
      "version": "3.12.4"
    }
  },
  "nbformat": 4,
  "nbformat_minor": 0
}
