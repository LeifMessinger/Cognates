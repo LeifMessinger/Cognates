{
  "cells": [
    {
      "cell_type": "code",
      "execution_count": 1,
      "metadata": {
        "colab": {
          "base_uri": "https://localhost:8080/"
        },
        "id": "yPo6xTFF09PX",
        "outputId": "1cd6a171-aac8-4392-afa4-00b9f3b174c4"
      },
      "outputs": [
        {
          "name": "stdout",
          "output_type": "stream",
          "text": [
            "Using device: cuda\n"
          ]
        }
      ],
      "source": [
        "import numpy as np\n",
        "import pandas as pd\n",
        "from torch.utils.data import TensorDataset, DataLoader\n",
        "import torch\n",
        "import torch.nn as nn\n",
        "import torch.optim as optim\n",
        "import torch.nn.functional as F\n",
        "#!pip install lingpy\n",
        "#import lingpy\n",
        "#from lingpy import ipa2tokens\n",
        "import re\n",
        "\n",
        "device = torch.device('cuda' if torch.cuda.is_available() else 'cpu')\n",
        "print(f\"Using device: {device}\")\n",
        "torch.set_default_device(device)"
      ]
    },
    {
      "cell_type": "code",
      "execution_count": 2,
      "metadata": {
        "id": "s7sFvN-IcYr1"
      },
      "outputs": [],
      "source": [
        "seed = 42\n",
        "torch.manual_seed(seed)\n",
        "np.random.seed(seed)"
      ]
    },
    {
      "cell_type": "code",
      "execution_count": 3,
      "metadata": {
        "colab": {
          "base_uri": "https://localhost:8080/",
          "height": 287
        },
        "id": "6YNbkDWOhJkL",
        "outputId": "5866087a-e1f5-4886-cefe-9dc0e6b8cf9f"
      },
      "outputs": [],
      "source": [
        "dat = pd.read_csv('data/ielexData.csv')"
      ]
    },
    {
      "cell_type": "code",
      "execution_count": 4,
      "metadata": {
        "id": "BSPctSOEsWls"
      },
      "outputs": [
        {
          "data": {
            "text/html": [
              "<div>\n",
              "<style scoped>\n",
              "    .dataframe tbody tr th:only-of-type {\n",
              "        vertical-align: middle;\n",
              "    }\n",
              "\n",
              "    .dataframe tbody tr th {\n",
              "        vertical-align: top;\n",
              "    }\n",
              "\n",
              "    .dataframe thead th {\n",
              "        text-align: right;\n",
              "    }\n",
              "</style>\n",
              "<table border=\"1\" class=\"dataframe\">\n",
              "  <thead>\n",
              "    <tr style=\"text-align: right;\">\n",
              "      <th></th>\n",
              "      <th>Unnamed: 0</th>\n",
              "      <th>Language</th>\n",
              "      <th>Meaning</th>\n",
              "      <th>Phonological Form</th>\n",
              "      <th>cc</th>\n",
              "      <th>ASJP</th>\n",
              "    </tr>\n",
              "  </thead>\n",
              "  <tbody>\n",
              "    <tr>\n",
              "      <th>0</th>\n",
              "      <td>11</td>\n",
              "      <td>Greek</td>\n",
              "      <td>few</td>\n",
              "      <td>ˈliʝi</td>\n",
              "      <td>few:I</td>\n",
              "      <td>liSi</td>\n",
              "    </tr>\n",
              "    <tr>\n",
              "      <th>1</th>\n",
              "      <td>63</td>\n",
              "      <td>Bulgarian</td>\n",
              "      <td>few</td>\n",
              "      <td>ˈmaɫku</td>\n",
              "      <td>few:H</td>\n",
              "      <td>maLku</td>\n",
              "    </tr>\n",
              "    <tr>\n",
              "      <th>2</th>\n",
              "      <td>65</td>\n",
              "      <td>Russian</td>\n",
              "      <td>few</td>\n",
              "      <td>'maɫɔ</td>\n",
              "      <td>few:H</td>\n",
              "      <td>maLo</td>\n",
              "    </tr>\n",
              "    <tr>\n",
              "      <th>3</th>\n",
              "      <td>66</td>\n",
              "      <td>Polish</td>\n",
              "      <td>few</td>\n",
              "      <td>ˈmawɔ</td>\n",
              "      <td>few:H</td>\n",
              "      <td>mawo</td>\n",
              "    </tr>\n",
              "    <tr>\n",
              "      <th>4</th>\n",
              "      <td>68</td>\n",
              "      <td>Ukrainian</td>\n",
              "      <td>few</td>\n",
              "      <td>ˈmaɫɔ</td>\n",
              "      <td>few:H</td>\n",
              "      <td>maLo</td>\n",
              "    </tr>\n",
              "    <tr>\n",
              "      <th>...</th>\n",
              "      <td>...</td>\n",
              "      <td>...</td>\n",
              "      <td>...</td>\n",
              "      <td>...</td>\n",
              "      <td>...</td>\n",
              "      <td>...</td>\n",
              "    </tr>\n",
              "    <tr>\n",
              "      <th>4479</th>\n",
              "      <td>124</td>\n",
              "      <td>French</td>\n",
              "      <td>head</td>\n",
              "      <td>tɛt</td>\n",
              "      <td>head:D</td>\n",
              "      <td>tEt</td>\n",
              "    </tr>\n",
              "    <tr>\n",
              "      <th>4480</th>\n",
              "      <td>135</td>\n",
              "      <td>Italian</td>\n",
              "      <td>head</td>\n",
              "      <td>'tɛsta</td>\n",
              "      <td>head:D</td>\n",
              "      <td>tEsta</td>\n",
              "    </tr>\n",
              "    <tr>\n",
              "      <th>4481</th>\n",
              "      <td>136</td>\n",
              "      <td>Romanian</td>\n",
              "      <td>head</td>\n",
              "      <td>kap</td>\n",
              "      <td>head:B</td>\n",
              "      <td>kap</td>\n",
              "    </tr>\n",
              "    <tr>\n",
              "      <th>4482</th>\n",
              "      <td>143</td>\n",
              "      <td>Breton</td>\n",
              "      <td>head</td>\n",
              "      <td>ˈpɛnː</td>\n",
              "      <td>head:E</td>\n",
              "      <td>pEn</td>\n",
              "    </tr>\n",
              "    <tr>\n",
              "      <th>4483</th>\n",
              "      <td>145</td>\n",
              "      <td>Irish</td>\n",
              "      <td>head</td>\n",
              "      <td>caːn̪ˠ, can̪ˠ</td>\n",
              "      <td>head:E</td>\n",
              "      <td>TanTan</td>\n",
              "    </tr>\n",
              "  </tbody>\n",
              "</table>\n",
              "<p>4484 rows × 6 columns</p>\n",
              "</div>"
            ],
            "text/plain": [
              "      Unnamed: 0   Language Meaning Phonological Form      cc    ASJP\n",
              "0             11      Greek     few             ˈliʝi   few:I    liSi\n",
              "1             63  Bulgarian     few            ˈmaɫku   few:H   maLku\n",
              "2             65    Russian     few             'maɫɔ   few:H    maLo\n",
              "3             66     Polish     few             ˈmawɔ   few:H    mawo\n",
              "4             68  Ukrainian     few             ˈmaɫɔ   few:H    maLo\n",
              "...          ...        ...     ...               ...     ...     ...\n",
              "4479         124     French    head               tɛt  head:D     tEt\n",
              "4480         135    Italian    head            'tɛsta  head:D   tEsta\n",
              "4481         136   Romanian    head               kap  head:B     kap\n",
              "4482         143     Breton    head             ˈpɛnː  head:E     pEn\n",
              "4483         145      Irish    head     caːn̪ˠ, can̪ˠ  head:E  TanTan\n",
              "\n",
              "[4484 rows x 6 columns]"
            ]
          },
          "execution_count": 4,
          "metadata": {},
          "output_type": "execute_result"
        }
      ],
      "source": [
        "dat"
      ]
    },
    {
      "cell_type": "code",
      "execution_count": 5,
      "metadata": {
        "id": "SVRxPbTss04u"
      },
      "outputs": [
        {
          "data": {
            "text/html": [
              "<div>\n",
              "<style scoped>\n",
              "    .dataframe tbody tr th:only-of-type {\n",
              "        vertical-align: middle;\n",
              "    }\n",
              "\n",
              "    .dataframe tbody tr th {\n",
              "        vertical-align: top;\n",
              "    }\n",
              "\n",
              "    .dataframe thead th {\n",
              "        text-align: right;\n",
              "    }\n",
              "</style>\n",
              "<table border=\"1\" class=\"dataframe\">\n",
              "  <thead>\n",
              "    <tr style=\"text-align: right;\">\n",
              "      <th></th>\n",
              "      <th>Unnamed: 0</th>\n",
              "      <th>Language</th>\n",
              "      <th>Meaning</th>\n",
              "      <th>Phonological Form</th>\n",
              "      <th>cc</th>\n",
              "      <th>ASJP</th>\n",
              "    </tr>\n",
              "  </thead>\n",
              "  <tbody>\n",
              "    <tr>\n",
              "      <th>0</th>\n",
              "      <td>11</td>\n",
              "      <td>Greek</td>\n",
              "      <td>few</td>\n",
              "      <td>ˈliʝi</td>\n",
              "      <td>few:I</td>\n",
              "      <td>liSi</td>\n",
              "    </tr>\n",
              "    <tr>\n",
              "      <th>1</th>\n",
              "      <td>63</td>\n",
              "      <td>Bulgarian</td>\n",
              "      <td>few</td>\n",
              "      <td>ˈmaɫku</td>\n",
              "      <td>few:H</td>\n",
              "      <td>maLku</td>\n",
              "    </tr>\n",
              "    <tr>\n",
              "      <th>2</th>\n",
              "      <td>65</td>\n",
              "      <td>Russian</td>\n",
              "      <td>few</td>\n",
              "      <td>'maɫɔ</td>\n",
              "      <td>few:H</td>\n",
              "      <td>maLo</td>\n",
              "    </tr>\n",
              "    <tr>\n",
              "      <th>3</th>\n",
              "      <td>66</td>\n",
              "      <td>Polish</td>\n",
              "      <td>few</td>\n",
              "      <td>ˈmawɔ</td>\n",
              "      <td>few:H</td>\n",
              "      <td>mawo</td>\n",
              "    </tr>\n",
              "    <tr>\n",
              "      <th>4</th>\n",
              "      <td>68</td>\n",
              "      <td>Ukrainian</td>\n",
              "      <td>few</td>\n",
              "      <td>ˈmaɫɔ</td>\n",
              "      <td>few:H</td>\n",
              "      <td>maLo</td>\n",
              "    </tr>\n",
              "    <tr>\n",
              "      <th>5</th>\n",
              "      <td>70</td>\n",
              "      <td>Czech</td>\n",
              "      <td>few</td>\n",
              "      <td>ˈmaːlɔ</td>\n",
              "      <td>few:H</td>\n",
              "      <td>malo</td>\n",
              "    </tr>\n",
              "    <tr>\n",
              "      <th>6</th>\n",
              "      <td>79</td>\n",
              "      <td>Icelandic</td>\n",
              "      <td>few</td>\n",
              "      <td>ˈfauːɪr</td>\n",
              "      <td>few:F</td>\n",
              "      <td>fauir</td>\n",
              "    </tr>\n",
              "    <tr>\n",
              "      <th>7</th>\n",
              "      <td>84</td>\n",
              "      <td>Swedish</td>\n",
              "      <td>few</td>\n",
              "      <td>foː</td>\n",
              "      <td>few:F</td>\n",
              "      <td>fo</td>\n",
              "    </tr>\n",
              "    <tr>\n",
              "      <th>8</th>\n",
              "      <td>89</td>\n",
              "      <td>Danish</td>\n",
              "      <td>few</td>\n",
              "      <td>fɔˀ</td>\n",
              "      <td>few:F</td>\n",
              "      <td>fo</td>\n",
              "    </tr>\n",
              "    <tr>\n",
              "      <th>9</th>\n",
              "      <td>93</td>\n",
              "      <td>English</td>\n",
              "      <td>few</td>\n",
              "      <td>fju:</td>\n",
              "      <td>few:F</td>\n",
              "      <td>fyu</td>\n",
              "    </tr>\n",
              "    <tr>\n",
              "      <th>10</th>\n",
              "      <td>95</td>\n",
              "      <td>Dutch</td>\n",
              "      <td>few</td>\n",
              "      <td>'wɛinəχ</td>\n",
              "      <td>few:B</td>\n",
              "      <td>wEin3G</td>\n",
              "    </tr>\n",
              "    <tr>\n",
              "      <th>11</th>\n",
              "      <td>104</td>\n",
              "      <td>German</td>\n",
              "      <td>few</td>\n",
              "      <td>'ve:nɪç</td>\n",
              "      <td>few:B</td>\n",
              "      <td>veniS</td>\n",
              "    </tr>\n",
              "    <tr>\n",
              "      <th>12</th>\n",
              "      <td>110</td>\n",
              "      <td>Catalan</td>\n",
              "      <td>few</td>\n",
              "      <td>pɔk</td>\n",
              "      <td>few:F</td>\n",
              "      <td>pok</td>\n",
              "    </tr>\n",
              "    <tr>\n",
              "      <th>13</th>\n",
              "      <td>112</td>\n",
              "      <td>Portuguese</td>\n",
              "      <td>few</td>\n",
              "      <td>ˈpo(ou)ku</td>\n",
              "      <td>few:F</td>\n",
              "      <td>poouku</td>\n",
              "    </tr>\n",
              "    <tr>\n",
              "      <th>14</th>\n",
              "      <td>113</td>\n",
              "      <td>Spanish</td>\n",
              "      <td>few</td>\n",
              "      <td>'poko</td>\n",
              "      <td>few:F</td>\n",
              "      <td>poko</td>\n",
              "    </tr>\n",
              "    <tr>\n",
              "      <th>15</th>\n",
              "      <td>119</td>\n",
              "      <td>French</td>\n",
              "      <td>few</td>\n",
              "      <td>pø</td>\n",
              "      <td>few:F</td>\n",
              "      <td>pe</td>\n",
              "    </tr>\n",
              "    <tr>\n",
              "      <th>16</th>\n",
              "      <td>126</td>\n",
              "      <td>Italian</td>\n",
              "      <td>few</td>\n",
              "      <td>'pɔko</td>\n",
              "      <td>few:F</td>\n",
              "      <td>poko</td>\n",
              "    </tr>\n",
              "    <tr>\n",
              "      <th>17</th>\n",
              "      <td>134</td>\n",
              "      <td>Breton</td>\n",
              "      <td>few</td>\n",
              "      <td>ˈneːbøt</td>\n",
              "      <td>few:M</td>\n",
              "      <td>nebet</td>\n",
              "    </tr>\n",
              "  </tbody>\n",
              "</table>\n",
              "</div>"
            ],
            "text/plain": [
              "    Unnamed: 0    Language Meaning Phonological Form     cc    ASJP\n",
              "0           11       Greek     few             ˈliʝi  few:I    liSi\n",
              "1           63   Bulgarian     few            ˈmaɫku  few:H   maLku\n",
              "2           65     Russian     few             'maɫɔ  few:H    maLo\n",
              "3           66      Polish     few             ˈmawɔ  few:H    mawo\n",
              "4           68   Ukrainian     few             ˈmaɫɔ  few:H    maLo\n",
              "5           70       Czech     few            ˈmaːlɔ  few:H    malo\n",
              "6           79   Icelandic     few           ˈfauːɪr  few:F   fauir\n",
              "7           84     Swedish     few               foː  few:F      fo\n",
              "8           89      Danish     few               fɔˀ  few:F      fo\n",
              "9           93     English     few              fju:  few:F     fyu\n",
              "10          95       Dutch     few           'wɛinəχ  few:B  wEin3G\n",
              "11         104      German     few           've:nɪç  few:B   veniS\n",
              "12         110     Catalan     few               pɔk  few:F     pok\n",
              "13         112  Portuguese     few         ˈpo(ou)ku  few:F  poouku\n",
              "14         113     Spanish     few             'poko  few:F    poko\n",
              "15         119      French     few                pø  few:F      pe\n",
              "16         126     Italian     few             'pɔko  few:F    poko\n",
              "17         134      Breton     few           ˈneːbøt  few:M   nebet"
            ]
          },
          "execution_count": 5,
          "metadata": {},
          "output_type": "execute_result"
        }
      ],
      "source": [
        "dat[dat['Meaning'] == 'few']"
      ]
    },
    {
      "cell_type": "code",
      "execution_count": 6,
      "metadata": {
        "id": "ZuRw0ywqj_pi"
      },
      "outputs": [],
      "source": [
        "concepts = [re.sub(':.*', '', x) for x in dat['cc']]\n",
        "dat['concepts'] = concepts\n",
        "uniqueconcepts = np.unique(concepts)\n",
        "cognates = [list(re.sub('^.*:', '', x))[0] for x in dat['cc']]\n",
        "dat['cognate_char'] = cognates"
      ]
    },
    {
      "cell_type": "code",
      "execution_count": 7,
      "metadata": {
        "id": "IkLJo8SXlAsq"
      },
      "outputs": [],
      "source": [
        "source_words = []\n",
        "target_words = []\n",
        "label = []\n",
        "for concept in uniqueconcepts:\n",
        "  tmp_df = dat[dat['concepts'] == concept]\n",
        "  for word_idx in range(len(tmp_df)):\n",
        "    source_word = tmp_df['ASJP'].iloc[word_idx]\n",
        "    source_class = tmp_df['cognate_char'].iloc[word_idx]\n",
        "    if len(list(source_word)) < 11:\n",
        "      for word_idx2 in range(len(tmp_df)):\n",
        "        if word_idx != word_idx2:\n",
        "          target_word = tmp_df['ASJP'].iloc[word_idx2]\n",
        "          target_class = tmp_df['cognate_char'].iloc[word_idx2]\n",
        "          if len(list(target_word)) < 11:\n",
        "            if source_class == target_class:\n",
        "              label.append(1)\n",
        "            else:\n",
        "              label.append(0)\n",
        "            source_words.append(source_word)\n",
        "            target_words.append(target_word)\n"
      ]
    },
    {
      "cell_type": "code",
      "execution_count": 8,
      "metadata": {
        "id": "TrFEwTjuo2dP"
      },
      "outputs": [
        {
          "data": {
            "text/plain": [
              "'exo'"
            ]
          },
          "execution_count": 8,
          "metadata": {},
          "output_type": "execute_result"
        }
      ],
      "source": [
        "source_words[0]"
      ]
    },
    {
      "cell_type": "code",
      "execution_count": 9,
      "metadata": {
        "id": "Aty0si5lrJSm"
      },
      "outputs": [],
      "source": [
        "charlens = []\n",
        "unique_characters = []\n",
        "for i in source_words:\n",
        "  charlens.append(len(list(i)))\n",
        "  for j in list(i):\n",
        "    unique_characters.append(j)\n",
        "unique_characters = ['PAD'] + np.unique(unique_characters).tolist()"
      ]
    },
    {
      "cell_type": "code",
      "execution_count": 10,
      "metadata": {
        "id": "c9rvCsAxvRkP"
      },
      "outputs": [],
      "source": [
        "maxlen = max(charlens)"
      ]
    },
    {
      "cell_type": "code",
      "execution_count": 11,
      "metadata": {
        "id": "E6_BhldMr7gC"
      },
      "outputs": [],
      "source": [
        "source_words_tokens = []\n",
        "target_words_tokens = []\n",
        "for j in range(len(source_words)):\n",
        "  source_tmp = [unique_characters.index(i) for i in list(source_words[j])]\n",
        "  target_tmp = [unique_characters.index(i) for i in list(target_words[j])]\n",
        "  source_tmp = source_tmp + [0 for x in range(maxlen-len(source_tmp))]\n",
        "  target_tmp = target_tmp + [0 for x in range(maxlen-len(target_tmp))]\n",
        "\n",
        "  source_words_tokens.append(source_tmp)\n",
        "  target_words_tokens.append(target_tmp)"
      ]
    },
    {
      "cell_type": "code",
      "execution_count": 12,
      "metadata": {
        "id": "0yDt6ga1Unur"
      },
      "outputs": [
        {
          "data": {
            "text/plain": [
              "([15, 33, 25, 0, 0, 0, 0, 0, 0, 0], [25, 23, 19, 0, 0, 0, 0, 0, 0, 0])"
            ]
          },
          "execution_count": 12,
          "metadata": {},
          "output_type": "execute_result"
        }
      ],
      "source": [
        "source_words_tokens[0], target_words_tokens[0]"
      ]
    },
    {
      "cell_type": "code",
      "execution_count": 13,
      "metadata": {
        "id": "USKXloHqU5qQ"
      },
      "outputs": [
        {
          "data": {
            "text/plain": [
              "'o'"
            ]
          },
          "execution_count": 13,
          "metadata": {},
          "output_type": "execute_result"
        }
      ],
      "source": [
        "unique_characters[25]"
      ]
    },
    {
      "cell_type": "code",
      "execution_count": 14,
      "metadata": {
        "id": "79Py6Q5ttJpi"
      },
      "outputs": [],
      "source": [
        "#indices = np.arange(len(source_words_tokens))\n",
        "#np.random.shuffle(indices)\n",
        "#split_index = int(0.9 * len(indices))\n",
        "#train_indices = indices[:split_index]\n",
        "#test_indices = indices[split_index:]"
      ]
    },
    {
      "cell_type": "code",
      "execution_count": 15,
      "metadata": {
        "id": "ukL-LmvDti90"
      },
      "outputs": [],
      "source": [
        "#source_words_tokens_train = source_words_tokens[train_indices]\n",
        "#source_words_tokens_test = source_words_tokens[test_indices]\n",
        "#target_words_tokens_train = target_words_tokens[train_indices]\n",
        "#target_words_tokens_test = target_words_tokens[test_indices]\n",
        "#label_train = label[train_indices]\n",
        "#label_test = label[test_indices]"
      ]
    },
    {
      "cell_type": "code",
      "execution_count": 16,
      "metadata": {
        "id": "m8XwOsXduL5f"
      },
      "outputs": [],
      "source": [
        "from sklearn.model_selection import train_test_split\n",
        "source_train, source_test, target_train, target_test, label_train, label_test = train_test_split(source_words_tokens, target_words_tokens, label, test_size=0.1, shuffle=True, random_state=42)"
      ]
    },
    {
      "cell_type": "code",
      "execution_count": 17,
      "metadata": {
        "id": "lehKemrDs1Y4"
      },
      "outputs": [],
      "source": [
        "source_train_tensor = torch.tensor(source_train, dtype=torch.long, device=device)\n",
        "source_test_tensor = torch.tensor(source_test, dtype=torch.long, device=device)\n",
        "target_train_tensor = torch.tensor(target_train, dtype=torch.long, device=device)\n",
        "target_test_tensor = torch.tensor(target_test, dtype=torch.long, device=device)\n",
        "label_train_tensor = torch.tensor(label_train, dtype=torch.int, device=device)\n",
        "label_test_tensor = torch.tensor(label_test, dtype=torch.int, device=device)"
      ]
    },
    {
      "cell_type": "code",
      "execution_count": 18,
      "metadata": {
        "id": "7MP_JlcJxwrl"
      },
      "outputs": [],
      "source": [
        "train_dataset = TensorDataset(source_train_tensor, target_train_tensor, label_train_tensor)\n",
        "test_dataset = TensorDataset(source_test_tensor, target_test_tensor, label_test_tensor)"
      ]
    },
    {
      "cell_type": "code",
      "execution_count": 19,
      "metadata": {
        "id": "dU6TVNvAyID-"
      },
      "outputs": [],
      "source": [
        "batch_size = 512\n",
        "train_loader = DataLoader(train_dataset, batch_size = batch_size, generator=torch.Generator(device='cuda'))\n",
        "test_loader = DataLoader(test_dataset, batch_size = batch_size, generator=torch.Generator(device='cuda'))"
      ]
    },
    {
      "cell_type": "markdown",
      "metadata": {
        "id": "UBhBmSPnxdim"
      },
      "source": [
        "Next step: NN that takes in both words, converts them to embeddings and predicts whether they are cognates (yes/no) = (1/0), sigmoid classification"
      ]
    },
    {
      "cell_type": "code",
      "execution_count": 20,
      "metadata": {
        "id": "i8zkOA4FgdcO"
      },
      "outputs": [],
      "source": [
        "class SiameseNet(nn.Module):\n",
        "    def __init__(self, vocab_size, embedding_dim=64, hidden_dim=128, dropout = .2):\n",
        "        super(SiameseNet, self).__init__()\n",
        "        self.embedding = nn.Embedding(vocab_size + 1, embedding_dim, padding_idx=0)\n",
        "        self.lstm = nn.LSTM(embedding_dim, hidden_dim, batch_first=True, dropout=dropout)\n",
        "        self.lin1 = nn.Linear(hidden_dim, 64)\n",
        "        self.lin2 = nn.Linear(64, 1)\n",
        "\n",
        "        self.relu = nn.ReLU()\n",
        "        self.dropout = nn.Dropout()\n",
        "\n",
        "    #def forward_once(self, x):\n",
        "    #    x = self.embedding(x)\n",
        "    #    _, (hidden, _) = self.lstm(x)\n",
        "    #    return hidden[-1]\n",
        "\n",
        "    def forward(self, input1, input2):\n",
        "        output1_emb = self.embedding(input1)\n",
        "        output2_emb = self.embedding(input2)\n",
        "        out_state1, (hidden1, _) = self.lstm(output1_emb)\n",
        "        out_state2, (hidden2, _) = self.lstm(output2_emb)\n",
        "        output1 = hidden1[-1]\n",
        "        output2 = hidden2[-1]\n",
        "        diff = torch.abs(output1 - output2)\n",
        "        out = self.dropout(self.relu(self.lin1(diff)))\n",
        "        out = self.lin2(out)\n",
        "        return out\n"
      ]
    },
    {
      "cell_type": "markdown",
      "metadata": {
        "id": "r4iOIqTKg4B4"
      },
      "source": []
    },
    {
      "cell_type": "code",
      "execution_count": 21,
      "metadata": {
        "id": "1fU-QWTIg064"
      },
      "outputs": [
        {
          "name": "stderr",
          "output_type": "stream",
          "text": [
            "c:\\Users\\lsm0147\\Documents\\Cognates\\.venv\\Lib\\site-packages\\torch\\nn\\modules\\rnn.py:123: UserWarning: dropout option adds dropout after all but last recurrent layer, so non-zero dropout expects num_layers greater than 1, but got dropout=0.2 and num_layers=1\n",
            "  warnings.warn(\n"
          ]
        }
      ],
      "source": [
        "vocab_size = len(unique_characters)\n",
        "\n",
        "model = SiameseNet(vocab_size)\n",
        "criterion = nn.BCEWithLogitsLoss()\n",
        "optimizer = optim.Adam(model.parameters(), lr=0.001)\n"
      ]
    },
    {
      "cell_type": "code",
      "execution_count": 22,
      "metadata": {
        "id": "cdxP_hauX-YA"
      },
      "outputs": [
        {
          "data": {
            "text/plain": [
              "tensor([1.3619e-04, 2.9999e+00], device='cuda:0')"
            ]
          },
          "execution_count": 22,
          "metadata": {},
          "output_type": "execute_result"
        }
      ],
      "source": [
        "tan = nn.Tanh()\n",
        "sigmoid = nn.Sigmoid()\n",
        "mydatavalue = 3\n",
        "torch.tensor([mydatavalue, mydatavalue]) * sigmoid(torch.tensor([-10, 10]))"
      ]
    },
    {
      "cell_type": "code",
      "execution_count": 23,
      "metadata": {
        "id": "sJLp3kGfWfed"
      },
      "outputs": [
        {
          "name": "stdout",
          "output_type": "stream",
          "text": [
            "Epoch 1/2, Loss: 0.5311, Train Accuracy: 65.60%, Test Accuracy: 68.79%\n",
            "Epoch 2/2, Loss: 0.3997, Train Accuracy: 85.32%, Test Accuracy: 84.52%\n"
          ]
        }
      ],
      "source": [
        "num_epochs = 2\n",
        "\n",
        "for epoch in range(num_epochs):\n",
        "    model.train()\n",
        "    total_loss = 0\n",
        "    correct_train = 0\n",
        "    total_train = 0\n",
        "    for source_batch, target_batch, labels in train_loader:\n",
        "        optimizer.zero_grad()\n",
        "\n",
        "        source_batch = source_batch.to(device)\n",
        "        target_batch = target_batch.to(device)\n",
        "        labels = labels.to(device)\n",
        "\n",
        "        outputs = model(source_batch, target_batch).squeeze()\n",
        "        loss = criterion(outputs, labels.float())\n",
        "        loss.backward()\n",
        "        optimizer.step()\n",
        "        total_loss += loss.item()\n",
        "\n",
        "    avg_loss = total_loss / len(train_loader)\n",
        "    outputs = model(source_batch, target_batch).squeeze()\n",
        "    predicted = (outputs > 0.5).int()\n",
        "    correct_train += (predicted == labels).sum().item()\n",
        "    total_train += labels.size(0)\n",
        "\n",
        "    model.eval()\n",
        "    correct_test = 0\n",
        "    total_test = 0\n",
        "\n",
        "    with torch.no_grad():\n",
        "        for source_batch, target_batch, labels in test_loader:\n",
        "            source_batch = source_batch.to(device)\n",
        "            target_batch = target_batch.to(device)\n",
        "            labels = labels.to(device)\n",
        "            \n",
        "            outputs = model(source_batch, target_batch).squeeze()\n",
        "            predicted = (outputs > 0.5).int()\n",
        "            correct_test += (predicted == labels).sum().item()\n",
        "            total_test += labels.size(0)\n",
        "\n",
        "\n",
        "    print(f\"Epoch {epoch+1}/{num_epochs}, Loss: {avg_loss:.4f}, Train Accuracy: {100 * correct_train / total_train:.2f}%, Test Accuracy: {100 * correct_test / total_test:.2f}%\")"
      ]
    },
    {
      "cell_type": "code",
      "execution_count": 24,
      "metadata": {
        "id": "444sINfIg4Rt"
      },
      "outputs": [
        {
          "name": "stdout",
          "output_type": "stream",
          "text": [
            "Test Accuracy: 84.52%\n"
          ]
        }
      ],
      "source": [
        "model.eval()\n",
        "correct = 0\n",
        "total = 0\n",
        "\n",
        "with torch.no_grad():\n",
        "    for source_batch, target_batch, labels in test_loader:\n",
        "        source_batch = source_batch.to(device)\n",
        "        target_batch = target_batch.to(device)\n",
        "        labels = labels.to(device)\n",
        "        \n",
        "        outputs = model(source_batch, target_batch).squeeze()\n",
        "        predicted = (outputs > 0.5).int()\n",
        "        correct += (predicted == labels).sum().item()\n",
        "        total += labels.size(0)\n",
        "\n",
        "print(f\"Test Accuracy: {100 * correct / total:.2f}%\")\n"
      ]
    },
    {
      "cell_type": "code",
      "execution_count": 25,
      "metadata": {
        "id": "Fpn7DApLim6u"
      },
      "outputs": [],
      "source": [
        "def predict_cognate(word1, word2):\n",
        "    def encode(word):\n",
        "        encoded = [unique_characters.index(c)+1 for c in word]\n",
        "        return encoded + [0] * (maxlen - len(encoded))\n",
        "\n",
        "    model.eval()\n",
        "    w1 = torch.tensor([encode(word1)], dtype=torch.long, device=device)\n",
        "    w2 = torch.tensor([encode(word2)], dtype=torch.long, device=device)\n",
        "    with torch.no_grad():\n",
        "        output = model(w1, w2)\n",
        "    return \"Yes\" if output.item() > 0.5 else \"No\""
      ]
    },
    {
      "cell_type": "code",
      "execution_count": 26,
      "metadata": {
        "id": "VUKIx6TTjKlQ"
      },
      "outputs": [
        {
          "data": {
            "text/plain": [
              "'No'"
            ]
          },
          "execution_count": 26,
          "metadata": {},
          "output_type": "execute_result"
        }
      ],
      "source": [
        "predict_cognate(\"maLo\", \"fauir\")"
      ]
    },
    {
      "cell_type": "code",
      "execution_count": 27,
      "metadata": {
        "id": "EmixS16bjMI1"
      },
      "outputs": [
        {
          "data": {
            "text/plain": [
              "'No'"
            ]
          },
          "execution_count": 27,
          "metadata": {},
          "output_type": "execute_result"
        }
      ],
      "source": [
        "predict_cognate(\"maLo\", \"mawo\")"
      ]
    },
    {
      "cell_type": "markdown",
      "metadata": {
        "id": "YnyQL28rjL1M"
      },
      "source": []
    },
    {
      "cell_type": "code",
      "execution_count": 32,
      "metadata": {
        "id": "r9-ZCrmSkZg7"
      },
      "outputs": [],
      "source": [
        "import torch\n",
        "import torch.nn as nn\n",
        "import torch.optim as optim\n",
        "from torch.utils.data import Dataset, DataLoader\n",
        "\n",
        "class SimpleCognateDataset(Dataset):\n",
        "    def __init__(self, data, unique_characters, maxlen):\n",
        "        self.data = data\n",
        "        self.char_to_idx = {char: i+1 for i, char in enumerate(unique_characters)}\n",
        "        self.maxlen = maxlen\n",
        "\n",
        "    def encode_word(self, word):\n",
        "        #This is way faster than the \"proper method\"\n",
        "        #Because all the data on the cpu device, so making a tensor would send it to the gpu, then pull it from the gpu, then send it again\n",
        "        #Maybe if we could make this dataset once and put it on the gpu once, then it would be way faster\n",
        "        encoded = [self.char_to_idx.get(c, 0) for c in word]\n",
        "        return encoded + [0] * (self.maxlen - len(encoded))\n",
        "    \n",
        "        #encoded = [self.char_to_idx.get(c, 0) for c in word]\n",
        "        #return nn.functional.pad(torch.tensor(encoded, dtype=torch.long), (0, self.maxlen - len(encoded)), value=0)\n",
        "\n",
        "    def __len__(self):\n",
        "        return len(self.data)\n",
        "\n",
        "    def __getitem__(self, idx):\n",
        "        word1, word2, label = self.data[idx]\n",
        "        return (\n",
        "            torch.tensor(self.encode_word(word1), dtype=torch.long, device=device),\n",
        "            torch.tensor(self.encode_word(word2), dtype=torch.long, device=device),\n",
        "            torch.tensor(label, dtype=torch.float, device=device)\n",
        "        )\n",
        "\n",
        "class Transliterate(nn.Module):\n",
        "    def __init__(self, vocab_size, embedding_dim=64, hidden_dim=128):\n",
        "        super(SimplePairNN, self).__init__()\n",
        "        self.embedding = nn.Embedding(vocab_size + 1, embedding_dim, padding_idx=0)\n",
        "        self.lstm = nn.LSTM(embedding_dim, hidden_dim, batch_first=True)\n",
        "        self.fc = nn.Sequential(\n",
        "            nn.Linear(hidden_dim * 2, 64),\n",
        "            nn.ReLU(),\n",
        "            nn.Linear(64, 1),\n",
        "            nn.Sigmoid()\n",
        "        )\n",
        "\n",
        "    def encode_word(self, x):\n",
        "        x = self.embedding(x)\n",
        "        _, (hidden, _) = self.lstm(x)\n",
        "        return hidden[-1]\n",
        "\n",
        "    def forward(self, input1, input2):\n",
        "        enc1 = self.encode_word(input1)\n",
        "        enc2 = self.encode_word(input2)\n",
        "        combined = torch.cat([enc1, enc2], dim=1)\n",
        "        return self.fc(combined)\n",
        "\n",
        "class SimplePairNN(nn.Module):\n",
        "    def __init__(self, vocab_size, embedding_dim=64, hidden_dim=128):\n",
        "        super(SimplePairNN, self).__init__()\n",
        "        self.embedding = nn.Embedding(vocab_size + 1, embedding_dim, padding_idx=0)\n",
        "        self.lstm = nn.LSTM(embedding_dim, hidden_dim, batch_first=True)\n",
        "        self.fc = nn.Sequential(\n",
        "            nn.Linear(hidden_dim * 2, 64),\n",
        "            nn.ReLU(),\n",
        "            nn.Linear(64, 1),\n",
        "            nn.Sigmoid()\n",
        "        )\n",
        "\n",
        "    def encode_word(self, x):\n",
        "        x = self.embedding(x)\n",
        "        _, (hidden, _) = self.lstm(x)\n",
        "        return hidden[-1]\n",
        "\n",
        "    def forward(self, input1, input2):\n",
        "        enc1 = self.encode_word(input1)\n",
        "        enc2 = self.encode_word(input2)\n",
        "        combined = torch.cat([enc1, enc2], dim=1)\n",
        "        return self.fc(combined)\n"
      ]
    },
    {
      "cell_type": "code",
      "execution_count": 29,
      "metadata": {},
      "outputs": [
        {
          "data": {
            "text/html": [
              "<div>\n",
              "<style scoped>\n",
              "    .dataframe tbody tr th:only-of-type {\n",
              "        vertical-align: middle;\n",
              "    }\n",
              "\n",
              "    .dataframe tbody tr th {\n",
              "        vertical-align: top;\n",
              "    }\n",
              "\n",
              "    .dataframe thead th {\n",
              "        text-align: right;\n",
              "    }\n",
              "</style>\n",
              "<table border=\"1\" class=\"dataframe\">\n",
              "  <thead>\n",
              "    <tr style=\"text-align: right;\">\n",
              "      <th></th>\n",
              "      <th>meaning</th>\n",
              "      <th>word</th>\n",
              "      <th>cognate_class</th>\n",
              "    </tr>\n",
              "  </thead>\n",
              "  <tbody>\n",
              "    <tr>\n",
              "      <th>0</th>\n",
              "      <td>few</td>\n",
              "      <td>ˈliʝi</td>\n",
              "      <td>few:I</td>\n",
              "    </tr>\n",
              "    <tr>\n",
              "      <th>1</th>\n",
              "      <td>few</td>\n",
              "      <td>ˈmaɫku</td>\n",
              "      <td>few:H</td>\n",
              "    </tr>\n",
              "    <tr>\n",
              "      <th>2</th>\n",
              "      <td>few</td>\n",
              "      <td>'maɫɔ</td>\n",
              "      <td>few:H</td>\n",
              "    </tr>\n",
              "    <tr>\n",
              "      <th>3</th>\n",
              "      <td>few</td>\n",
              "      <td>ˈmawɔ</td>\n",
              "      <td>few:H</td>\n",
              "    </tr>\n",
              "    <tr>\n",
              "      <th>4</th>\n",
              "      <td>few</td>\n",
              "      <td>ˈmaɫɔ</td>\n",
              "      <td>few:H</td>\n",
              "    </tr>\n",
              "    <tr>\n",
              "      <th>...</th>\n",
              "      <td>...</td>\n",
              "      <td>...</td>\n",
              "      <td>...</td>\n",
              "    </tr>\n",
              "    <tr>\n",
              "      <th>4479</th>\n",
              "      <td>head</td>\n",
              "      <td>tɛt</td>\n",
              "      <td>head:D</td>\n",
              "    </tr>\n",
              "    <tr>\n",
              "      <th>4480</th>\n",
              "      <td>head</td>\n",
              "      <td>'tɛsta</td>\n",
              "      <td>head:D</td>\n",
              "    </tr>\n",
              "    <tr>\n",
              "      <th>4481</th>\n",
              "      <td>head</td>\n",
              "      <td>kap</td>\n",
              "      <td>head:B</td>\n",
              "    </tr>\n",
              "    <tr>\n",
              "      <th>4482</th>\n",
              "      <td>head</td>\n",
              "      <td>ˈpɛnː</td>\n",
              "      <td>head:E</td>\n",
              "    </tr>\n",
              "    <tr>\n",
              "      <th>4483</th>\n",
              "      <td>head</td>\n",
              "      <td>caːn̪ˠ, can̪ˠ</td>\n",
              "      <td>head:E</td>\n",
              "    </tr>\n",
              "  </tbody>\n",
              "</table>\n",
              "<p>4484 rows × 3 columns</p>\n",
              "</div>"
            ],
            "text/plain": [
              "     meaning           word cognate_class\n",
              "0        few          ˈliʝi         few:I\n",
              "1        few         ˈmaɫku         few:H\n",
              "2        few          'maɫɔ         few:H\n",
              "3        few          ˈmawɔ         few:H\n",
              "4        few          ˈmaɫɔ         few:H\n",
              "...      ...            ...           ...\n",
              "4479    head            tɛt        head:D\n",
              "4480    head         'tɛsta        head:D\n",
              "4481    head            kap        head:B\n",
              "4482    head          ˈpɛnː        head:E\n",
              "4483    head  caːn̪ˠ, can̪ˠ        head:E\n",
              "\n",
              "[4484 rows x 3 columns]"
            ]
          },
          "execution_count": 29,
          "metadata": {},
          "output_type": "execute_result"
        }
      ],
      "source": [
        "import pandas as pd\n",
        "\n",
        "df = pd.read_csv(\"data/ielexData.csv\")\n",
        "import pandas as pd\n",
        "from itertools import combinations\n",
        "\n",
        "df = pd.read_csv(\"data/ielexData.csv\")\n",
        "\n",
        "df = df[['Meaning', 'Phonological Form', 'cc']].dropna()\n",
        "df.columns = ['meaning', 'word', 'cognate_class']\n",
        "\n",
        "pairs = []\n",
        "\n",
        "for _, group in df.groupby('meaning'):\n",
        "    entries = group.to_dict('records')\n",
        "    for w1, w2 in combinations(entries, 2):\n",
        "        word1 = str(w1['word'])\n",
        "        word2 = str(w2['word'])\n",
        "        label = int(w1['cognate_class'] == w2['cognate_class'])\n",
        "        pairs.append((word1, word2, label))\n",
        "\n",
        "df"
      ]
    },
    {
      "cell_type": "code",
      "execution_count": 33,
      "metadata": {
        "id": "ADOIbTNAlzdh"
      },
      "outputs": [
        {
          "name": "stderr",
          "output_type": "stream",
          "text": [
            "LOO-CV Progress: 100%|██████████| 10/10 [08:51<00:00, 53.19s/it]"
          ]
        },
        {
          "name": "stdout",
          "output_type": "stream",
          "text": [
            "\n",
            "Cross-Validation Results:\n",
            "Overall Accuracy: 69.66%\n",
            "Correct Predictions: 32930/47274\n",
            "Precision: 0.473\n",
            "Recall: 0.183\n",
            "F1-Score: 0.264\n",
            "Confusion Matrix:\n",
            "[[30359  2862]\n",
            " [11482  2571]]\n"
          ]
        },
        {
          "name": "stderr",
          "output_type": "stream",
          "text": [
            "\n"
          ]
        }
      ],
      "source": [
        "from sklearn.model_selection import LeaveOneOut, KFold\n",
        "import numpy as np\n",
        "from tqdm import tqdm\n",
        "\n",
        "# Prepare data\n",
        "all_words = [w for pair in pairs for w in pair[:2]]\n",
        "unique_characters = sorted(set(\"\".join(all_words)))\n",
        "maxlen = max(len(w) for w in all_words)\n",
        "\n",
        "# Model parameters\n",
        "embedding_dim = 64\n",
        "hidden_dim = 128\n",
        "vocab_size = len(unique_characters)\n",
        "\n",
        "# Initialize Leave-One-Out cross-validator\n",
        "loo = StratifiedKFold(n_splits = 10) #LeaveOneOut()\n",
        "\n",
        "# Store results for each fold\n",
        "fold_accuracies = []\n",
        "all_predictions = []\n",
        "all_true_labels = []\n",
        "\n",
        "for fold, (train_idx, test_idx) in enumerate(tqdm(loo.split(pairs), total=loo.get_n_splits(), desc=\"LOO-CV Progress\")):\n",
        "    \n",
        "    # Split data\n",
        "    train_data = [pairs[i] for i in train_idx]\n",
        "    test_data = [pairs[i] for i in test_idx]  # Will be just one sample\n",
        "    \n",
        "    # Create model for this fold\n",
        "    model = SimplePairNN(vocab_size, embedding_dim, hidden_dim)\n",
        "    criterion = nn.BCELoss()\n",
        "    optimizer = optim.Adam(model.parameters(), lr=0.001)\n",
        "    \n",
        "    # Create datasets and dataloaders\n",
        "    train_dataset = SimpleCognateDataset(train_data, unique_characters, maxlen)\n",
        "    test_dataset = SimpleCognateDataset(test_data, unique_characters, maxlen)\n",
        "    \n",
        "    train_loader = DataLoader(train_dataset, batch_size=32, shuffle=True, \n",
        "                             generator=torch.Generator(device='cuda'))\n",
        "    test_loader = DataLoader(test_dataset, batch_size=1, \n",
        "                            generator=torch.Generator(device='cuda'))\n",
        "    \n",
        "    # Train model (fewer epochs since we're doing many folds)\n",
        "    model.train()\n",
        "    for epoch in range(5):  # Reduced epochs for LOO-CV\n",
        "        total_loss = 0\n",
        "        for word1, word2, label in train_loader:\n",
        "            optimizer.zero_grad()\n",
        "            output = model(word1, word2).squeeze()\n",
        "            loss = criterion(output, label)\n",
        "            loss.backward()\n",
        "            optimizer.step()\n",
        "            total_loss += loss.item()\n",
        "    \n",
        "    # Test on the single held-out sample\n",
        "    model.eval()\n",
        "    with torch.no_grad():\n",
        "        for word1, word2, label in test_loader:\n",
        "            output = model(word1, word2).squeeze()\n",
        "            predicted = (output > 0.5).int()\n",
        "            \n",
        "            # Store results\n",
        "            all_predictions.append(predicted.item())\n",
        "            all_true_labels.append(label.int().item())\n",
        "            fold_accuracies.append(1 if predicted.item() == label.int().item() else 0)\n",
        "\n",
        "# Calculate overall statistics\n",
        "overall_accuracy = np.mean(fold_accuracies)\n",
        "correct_predictions = sum(fold_accuracies)\n",
        "total_predictions = len(fold_accuracies)\n",
        "\n",
        "print(f\"\\nCross-Validation Results:\")\n",
        "print(f\"Overall Accuracy: {overall_accuracy * 100:.2f}%\")\n",
        "print(f\"Correct Predictions: {correct_predictions}/{total_predictions}\")\n",
        "\n",
        "# Additional metrics\n",
        "from sklearn.metrics import precision_score, recall_score, f1_score, confusion_matrix\n",
        "\n",
        "precision = precision_score(all_true_labels, all_predictions, zero_division=0)\n",
        "recall = recall_score(all_true_labels, all_predictions, zero_division=0)\n",
        "f1 = f1_score(all_true_labels, all_predictions, zero_division=0)\n",
        "cm = confusion_matrix(all_true_labels, all_predictions)\n",
        "\n",
        "print(f\"Precision: {precision:.3f}\")\n",
        "print(f\"Recall: {recall:.3f}\")\n",
        "print(f\"F1-Score: {f1:.3f}\")\n",
        "print(f\"Confusion Matrix:\")\n",
        "print(cm)"
      ]
    },
    {
      "cell_type": "code",
      "execution_count": 31,
      "metadata": {},
      "outputs": [
        {
          "name": "stdout",
          "output_type": "stream",
          "text": [
            "\n",
            "Training final model on all data...\n"
          ]
        },
        {
          "name": "stderr",
          "output_type": "stream",
          "text": [
            "Training final model:  20%|██        | 1/5 [00:50<03:20, 50.18s/it]"
          ]
        },
        {
          "name": "stdout",
          "output_type": "stream",
          "text": [
            "Final model - Epoch 1/5, Loss: 0.6103\n"
          ]
        },
        {
          "name": "stderr",
          "output_type": "stream",
          "text": [
            "Training final model:  40%|████      | 2/5 [01:42<02:34, 51.39s/it]"
          ]
        },
        {
          "name": "stdout",
          "output_type": "stream",
          "text": [
            "Final model - Epoch 2/5, Loss: 0.6091\n"
          ]
        },
        {
          "name": "stderr",
          "output_type": "stream",
          "text": [
            "Training final model:  60%|██████    | 3/5 [02:31<01:40, 50.15s/it]"
          ]
        },
        {
          "name": "stdout",
          "output_type": "stream",
          "text": [
            "Final model - Epoch 3/5, Loss: 0.6087\n"
          ]
        },
        {
          "name": "stderr",
          "output_type": "stream",
          "text": [
            "Training final model:  80%|████████  | 4/5 [03:19<00:49, 49.41s/it]"
          ]
        },
        {
          "name": "stdout",
          "output_type": "stream",
          "text": [
            "Final model - Epoch 4/5, Loss: 0.5688\n"
          ]
        },
        {
          "name": "stderr",
          "output_type": "stream",
          "text": [
            "Training final model: 100%|██████████| 5/5 [03:54<00:00, 46.89s/it]"
          ]
        },
        {
          "name": "stdout",
          "output_type": "stream",
          "text": [
            "Final model - Epoch 5/5, Loss: 0.4460\n"
          ]
        },
        {
          "name": "stderr",
          "output_type": "stream",
          "text": [
            "\n"
          ]
        }
      ],
      "source": [
        "final_model = SimplePairNN(vocab_size, embedding_dim, hidden_dim)\n",
        "final_criterion = nn.BCELoss()\n",
        "final_optimizer = optim.Adam(final_model.parameters(), lr=0.001)\n",
        "\n",
        "final_dataset = SimpleCognateDataset(pairs, unique_characters, maxlen)\n",
        "final_loader = DataLoader(final_dataset, batch_size=32, shuffle=True, \n",
        "                         generator=torch.Generator(device='cuda'))\n",
        "\n",
        "for epoch in tqdm(range(5), desc=\"Training final model\"):\n",
        "    final_model.train()\n",
        "    total_loss = 0\n",
        "    for word1, word2, label in final_loader:\n",
        "        final_optimizer.zero_grad()\n",
        "        output = final_model(word1, word2).squeeze()\n",
        "        loss = final_criterion(output, label)\n",
        "        loss.backward()\n",
        "        final_optimizer.step()\n",
        "        total_loss += loss.item()\n",
        "    print(f\"Final model - Epoch {epoch+1}/5, Loss: {total_loss / len(final_loader):.4f}\")\n",
        "\n",
        "final_model.eval()\n",
        "final_predictions = []\n",
        "final_true_labels = []\n",
        "\n",
        "with torch.no_grad():\n",
        "    for word1, word2, label in tqdm(final_loader, desc=\"Evaluating final model\"):\n",
        "        output = final_model(word1, word2).squeeze()\n",
        "        predicted = (output > 0.5).int()\n",
        "        \n",
        "        # Handle both single samples and batches\n",
        "        if predicted.dim() == 0:\n",
        "            final_predictions.append(predicted.item())\n",
        "            final_true_labels.append(label.int().item())\n",
        "        else:\n",
        "            final_predictions.extend(predicted.cpu().numpy())\n",
        "            final_true_labels.extend(label.int().cpu().numpy())\n",
        "\n",
        "# Calculate final model metrics\n",
        "final_accuracy = np.mean(np.array(final_predictions) == np.array(final_true_labels))\n",
        "final_precision = precision_score(final_true_labels, final_predictions, zero_division=0)\n",
        "final_recall = recall_score(final_true_labels, final_predictions, zero_division=0)\n",
        "final_f1 = f1_score(final_true_labels, final_predictions, zero_division=0)\n",
        "final_cm = confusion_matrix(final_true_labels, final_predictions)\n",
        "\n",
        "print(f\"\\nFinal Model Performance (on all data):\")\n",
        "print(f\"Accuracy: {final_accuracy * 100:.2f}%\")\n",
        "print(f\"Precision: {final_precision:.3f}\")\n",
        "print(f\"Recall: {final_recall:.3f}\")\n",
        "print(f\"F1-Score: {final_f1:.3f}\")\n",
        "print(f\"Confusion Matrix:\")\n",
        "print(final_cm)"
      ]
    },
    {
      "cell_type": "code",
      "execution_count": null,
      "metadata": {},
      "outputs": [],
      "source": [
        "def predict_pair(word1, word2):\n",
        "    def encode(w):\n",
        "        char_to_idx = {char: i+1 for i, char in enumerate(unique_characters)}\n",
        "        idxs = [char_to_idx.get(c, 0) for c in w]\n",
        "        return idxs + [0] * (maxlen - len(idxs))\n",
        "\n",
        "    w1 = torch.tensor([encode(word1)], dtype=torch.long, device=device)\n",
        "    w2 = torch.tensor([encode(word2)], dtype=torch.long, device=device)\n",
        "    final_model.eval()\n",
        "    with torch.no_grad():\n",
        "        out = final_model(w1, w2)\n",
        "    return \"Yes\" if out.item() > 0.5 else \"No\""
      ]
    },
    {
      "cell_type": "markdown",
      "metadata": {},
      "source": [
        "https://github.com/pytorch/examples/tree/main/word_language_model"
      ]
    }
  ],
  "metadata": {
    "colab": {
      "provenance": []
    },
    "kernelspec": {
      "display_name": "Python 3",
      "name": "python3"
    },
    "language_info": {
      "codemirror_mode": {
        "name": "ipython",
        "version": 3
      },
      "file_extension": ".py",
      "mimetype": "text/x-python",
      "name": "python",
      "nbconvert_exporter": "python",
      "pygments_lexer": "ipython3",
      "version": "3.12.4"
    }
  },
  "nbformat": 4,
  "nbformat_minor": 0
}
