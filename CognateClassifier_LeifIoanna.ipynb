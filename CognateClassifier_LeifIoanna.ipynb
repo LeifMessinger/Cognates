{
  "cells": [
    {
      "cell_type": "code",
      "execution_count": null,
      "metadata": {
        "colab": {
          "base_uri": "https://localhost:8080/"
        },
        "id": "yPo6xTFF09PX",
        "outputId": "1cd6a171-aac8-4392-afa4-00b9f3b174c4"
      },
      "outputs": [],
      "source": [
        "import numpy as np\n",
        "import pandas as pd\n",
        "from torch.utils.data import TensorDataset, DataLoader\n",
        "import torch\n",
        "import torch.nn as nn\n",
        "import torch.optim as optim\n",
        "import torch.nn.functional as F\n",
        "#!pip install lingpy\n",
        "#import lingpy\n",
        "#from lingpy import ipa2tokens\n",
        "import re\n",
        "\n",
        "device = torch.device('cuda' if torch.cuda.is_available() else 'cpu')\n",
        "#device = torch.device(\"cpu\") #For debugging\n",
        "print(f\"Using device: {device}\")\n",
        "torch.set_default_device(device)"
      ]
    },
    {
      "cell_type": "code",
      "execution_count": null,
      "metadata": {
        "id": "s7sFvN-IcYr1"
      },
      "outputs": [],
      "source": [
        "seed = 42\n",
        "torch.manual_seed(seed)\n",
        "np.random.seed(seed)"
      ]
    },
    {
      "cell_type": "code",
      "execution_count": null,
      "metadata": {
        "colab": {
          "base_uri": "https://localhost:8080/",
          "height": 287
        },
        "id": "6YNbkDWOhJkL",
        "outputId": "5866087a-e1f5-4886-cefe-9dc0e6b8cf9f"
      },
      "outputs": [],
      "source": [
        "dat = pd.read_csv('data/ielexData.csv')"
      ]
    },
    {
      "cell_type": "code",
      "execution_count": null,
      "metadata": {
        "id": "BSPctSOEsWls"
      },
      "outputs": [],
      "source": [
        "dat"
      ]
    },
    {
      "cell_type": "code",
      "execution_count": null,
      "metadata": {
        "id": "SVRxPbTss04u"
      },
      "outputs": [],
      "source": [
        "dat[dat['Meaning'] == 'few']"
      ]
    },
    {
      "cell_type": "code",
      "execution_count": null,
      "metadata": {
        "id": "ZuRw0ywqj_pi"
      },
      "outputs": [],
      "source": [
        "concepts = [re.sub(':.*', '', x) for x in dat['cc']]\n",
        "dat['concepts'] = concepts\n",
        "uniqueconcepts = np.unique(concepts)\n",
        "cognates = [list(re.sub('^.*:', '', x))[0] for x in dat['cc']]\n",
        "dat['cognate_char'] = cognates"
      ]
    },
    {
      "cell_type": "code",
      "execution_count": null,
      "metadata": {
        "id": "IkLJo8SXlAsq"
      },
      "outputs": [],
      "source": [
        "source_words = []\n",
        "target_words = []\n",
        "label = []\n",
        "for concept in uniqueconcepts:\n",
        "  tmp_df = dat[dat['concepts'] == concept]\n",
        "  for word_idx in range(len(tmp_df)):\n",
        "    source_word = tmp_df['ASJP'].iloc[word_idx]\n",
        "    source_class = tmp_df['cognate_char'].iloc[word_idx]\n",
        "    if len(list(source_word)) < 11:\n",
        "      for word_idx2 in range(len(tmp_df)):\n",
        "        if word_idx != word_idx2:\n",
        "          target_word = tmp_df['ASJP'].iloc[word_idx2]\n",
        "          target_class = tmp_df['cognate_char'].iloc[word_idx2]\n",
        "          if len(list(target_word)) < 11:\n",
        "            if source_class == target_class:\n",
        "              label.append(1)\n",
        "            else:\n",
        "              label.append(0)\n",
        "            source_words.append(source_word)\n",
        "            target_words.append(target_word)\n"
      ]
    },
    {
      "cell_type": "code",
      "execution_count": null,
      "metadata": {
        "id": "TrFEwTjuo2dP"
      },
      "outputs": [],
      "source": [
        "source_words[0]"
      ]
    },
    {
      "cell_type": "code",
      "execution_count": null,
      "metadata": {
        "id": "Aty0si5lrJSm"
      },
      "outputs": [],
      "source": [
        "charlens = []\n",
        "unique_characters = []\n",
        "for i in source_words:\n",
        "  charlens.append(len(list(i)))\n",
        "  for j in list(i):\n",
        "    unique_characters.append(j)\n",
        "unique_characters = ['PAD'] + np.unique(unique_characters).tolist()"
      ]
    },
    {
      "cell_type": "code",
      "execution_count": null,
      "metadata": {
        "id": "c9rvCsAxvRkP"
      },
      "outputs": [],
      "source": [
        "maxlen = max(charlens)"
      ]
    },
    {
      "cell_type": "code",
      "execution_count": null,
      "metadata": {
        "id": "E6_BhldMr7gC"
      },
      "outputs": [],
      "source": [
        "source_words_tokens = []\n",
        "target_words_tokens = []\n",
        "for j in range(len(source_words)):\n",
        "  source_tmp = [unique_characters.index(i) for i in list(source_words[j])]\n",
        "  target_tmp = [unique_characters.index(i) for i in list(target_words[j])]\n",
        "  source_tmp = source_tmp + [0 for x in range(maxlen-len(source_tmp))]\n",
        "  target_tmp = target_tmp + [0 for x in range(maxlen-len(target_tmp))]\n",
        "\n",
        "  source_words_tokens.append(source_tmp)\n",
        "  target_words_tokens.append(target_tmp)"
      ]
    },
    {
      "cell_type": "code",
      "execution_count": null,
      "metadata": {
        "id": "0yDt6ga1Unur"
      },
      "outputs": [],
      "source": [
        "source_words_tokens[0], target_words_tokens[0]"
      ]
    },
    {
      "cell_type": "code",
      "execution_count": null,
      "metadata": {
        "id": "USKXloHqU5qQ"
      },
      "outputs": [],
      "source": [
        "unique_characters[25]"
      ]
    },
    {
      "cell_type": "code",
      "execution_count": null,
      "metadata": {
        "id": "79Py6Q5ttJpi"
      },
      "outputs": [],
      "source": [
        "#indices = np.arange(len(source_words_tokens))\n",
        "#np.random.shuffle(indices)\n",
        "#split_index = int(0.9 * len(indices))\n",
        "#train_indices = indices[:split_index]\n",
        "#test_indices = indices[split_index:]"
      ]
    },
    {
      "cell_type": "code",
      "execution_count": null,
      "metadata": {
        "id": "ukL-LmvDti90"
      },
      "outputs": [],
      "source": [
        "#source_words_tokens_train = source_words_tokens[train_indices]\n",
        "#source_words_tokens_test = source_words_tokens[test_indices]\n",
        "#target_words_tokens_train = target_words_tokens[train_indices]\n",
        "#target_words_tokens_test = target_words_tokens[test_indices]\n",
        "#label_train = label[train_indices]\n",
        "#label_test = label[test_indices]"
      ]
    },
    {
      "cell_type": "code",
      "execution_count": null,
      "metadata": {
        "id": "m8XwOsXduL5f"
      },
      "outputs": [],
      "source": [
        "from sklearn.model_selection import train_test_split\n",
        "source_train, source_test, target_train, target_test, label_train, label_test = train_test_split(source_words_tokens, target_words_tokens, label, test_size=0.1, shuffle=True, random_state=42)"
      ]
    },
    {
      "cell_type": "code",
      "execution_count": null,
      "metadata": {
        "id": "lehKemrDs1Y4"
      },
      "outputs": [],
      "source": [
        "source_train_tensor = torch.tensor(source_train, dtype=torch.long, device=device)\n",
        "source_test_tensor = torch.tensor(source_test, dtype=torch.long, device=device)\n",
        "target_train_tensor = torch.tensor(target_train, dtype=torch.long, device=device)\n",
        "target_test_tensor = torch.tensor(target_test, dtype=torch.long, device=device)\n",
        "label_train_tensor = torch.tensor(label_train, dtype=torch.int, device=device)\n",
        "label_test_tensor = torch.tensor(label_test, dtype=torch.int, device=device)"
      ]
    },
    {
      "cell_type": "code",
      "execution_count": null,
      "metadata": {
        "id": "7MP_JlcJxwrl"
      },
      "outputs": [],
      "source": [
        "train_dataset = TensorDataset(source_train_tensor, target_train_tensor, label_train_tensor)\n",
        "test_dataset = TensorDataset(source_test_tensor, target_test_tensor, label_test_tensor)"
      ]
    },
    {
      "cell_type": "code",
      "execution_count": null,
      "metadata": {
        "id": "dU6TVNvAyID-"
      },
      "outputs": [],
      "source": [
        "batch_size = 512\n",
        "train_loader = DataLoader(train_dataset, batch_size = batch_size, generator=torch.Generator(device=device.type))\n",
        "test_loader = DataLoader(test_dataset, batch_size = batch_size, generator=torch.Generator(device=device.type))"
      ]
    },
    {
      "cell_type": "markdown",
      "metadata": {
        "id": "UBhBmSPnxdim"
      },
      "source": [
        "Next step: NN that takes in both words, converts them to embeddings and predicts whether they are cognates (yes/no) = (1/0), sigmoid classification"
      ]
    },
    {
      "cell_type": "markdown",
      "metadata": {
        "id": "r4iOIqTKg4B4"
      },
      "source": []
    },
    {
      "cell_type": "markdown",
      "metadata": {
        "id": "YnyQL28rjL1M"
      },
      "source": []
    },
    {
      "cell_type": "code",
      "execution_count": null,
      "metadata": {
        "id": "r9-ZCrmSkZg7"
      },
      "outputs": [],
      "source": [
        "import torch\n",
        "import torch.nn as nn\n",
        "import torch.optim as optim\n",
        "from torch.utils.data import Dataset, DataLoader\n",
        "\n",
        "class SimpleCognateDataset(Dataset):\n",
        "    def __init__(self, data, unique_characters, maxlen):\n",
        "        self.data = data\n",
        "        self.char_to_idx = {char: i+1 for i, char in enumerate(unique_characters)}\n",
        "        self.maxlen = maxlen\n",
        "\n",
        "    def encode_word(self, word):\n",
        "        #This is way faster than the \"proper method\"\n",
        "        #Because all the data on the cpu device, so making a tensor would send it to the gpu, then pull it from the gpu, then send it again\n",
        "        #Maybe if we could make this dataset once and put it on the gpu once, then it would be way faster\n",
        "        encoded = [self.char_to_idx.get(c, 0) for c in word]\n",
        "        return encoded + [0] * (self.maxlen - len(encoded))\n",
        "    \n",
        "        #encoded = [self.char_to_idx.get(c, 0) for c in word]\n",
        "        #return nn.functional.pad(torch.tensor(encoded, dtype=torch.long), (0, self.maxlen - len(encoded)), value=0)\n",
        "\n",
        "    def __len__(self):\n",
        "        return len(self.data)\n",
        "\n",
        "    def __getitem__(self, idx):\n",
        "        word1, word2, label = self.data[idx]\n",
        "        return (\n",
        "            torch.tensor(self.encode_word(word1), dtype=torch.long, device=device),\n",
        "            torch.tensor(self.encode_word(word2), dtype=torch.long, device=device),\n",
        "            torch.tensor(label, dtype=torch.float, device=device)\n",
        "        )"
      ]
    },
    {
      "cell_type": "code",
      "execution_count": null,
      "metadata": {},
      "outputs": [],
      "source": [
        "import pandas as pd\n",
        "from itertools import combinations\n",
        "\n",
        "df = pd.read_csv(\"data/ielexData.csv\")\n",
        "\n",
        "df = df[['Meaning', 'Phonological Form', 'cc']].dropna()\n",
        "df.columns = ['meaning', 'word', 'cognate_class']\n",
        "\n",
        "ilexPairs = []\n",
        "\n",
        "for _, group in df.groupby('meaning'):\n",
        "    entries = group.to_dict('records')\n",
        "    for w1, w2 in combinations(entries, 2):\n",
        "        word1 = str(w1['word'])\n",
        "        word2 = str(w2['word'])\n",
        "        label = int(w1['cognate_class'] == w2['cognate_class'])\n",
        "        ilexPairs.append((word1, word2, label))\n",
        "\n",
        "import csv\n",
        "\n",
        "# Initialize an empty set to store the languages\n",
        "languages = set()\n",
        "\n",
        "# Open and read the CSV file with UTF-8 encoding and error handling\n",
        "with open('data/ielexData.csv', 'r', encoding='utf-8', errors='replace') as file:\n",
        "    reader = csv.reader(file)\n",
        "    next(reader)  # Skip the header row\n",
        "    for row in reader:\n",
        "        languages.add(row[1])  # Add the language (second column) to the set\n",
        "\n",
        "# Print the set of languages\n",
        "print(languages)\n",
        "\n",
        "df"
      ]
    },
    {
      "cell_type": "code",
      "execution_count": null,
      "metadata": {},
      "outputs": [],
      "source": [
        "df = pd.read_csv(\"data/gled.tsv\", delimiter=\"\\t\")\n",
        "\n",
        "df.rename(columns={'LANGUAGE_NAME': 'Language'}, inplace=True)\n",
        "\n",
        "df['Language'] = df['Language'].str.replace('Modern Greek', 'Greek', regex=False)\n",
        "\n",
        "#df = df[df['Language'].isin(languages)]\n",
        "\n",
        "#df = df[df.apply(lambda row: row['DOCULECT'].lower() in row['Language'].lower(), axis=1)]\n",
        "\n",
        "#These languages seem to be aight\n",
        "df = df[df[\"DOCULECT\"].str.contains(\"_2\")]\n",
        "\n",
        "#df.dropna(subset=[\"COGSET\"], inplace=True) All of them have a cogset\n",
        "\n",
        "df"
      ]
    },
    {
      "cell_type": "code",
      "execution_count": null,
      "metadata": {},
      "outputs": [],
      "source": [
        "df = df[['CONCEPT', 'FORM', 'COGSET']].dropna()\n",
        "df.columns = ['meaning', 'word', 'cognate_class']\n",
        "\n",
        "pairs = []\n",
        "\n",
        "from tqdm import tqdm\n",
        "for _, group in tqdm(df.groupby('meaning')):\n",
        "    #if len(pairs) > 100000:\n",
        "    #    break\n",
        "\n",
        "    entries = group.to_dict('records')\n",
        "    for w1, w2 in combinations(entries, 2):\n",
        "        word1 = str(w1['word'])\n",
        "        word2 = str(w2['word'])\n",
        "        if(word1 == word2):\n",
        "            continue\n",
        "        label = int(w1['cognate_class'] == w2['cognate_class'])\n",
        "        #if label == 1:\n",
        "        pairs.append((word1, word2, label))"
      ]
    },
    {
      "cell_type": "code",
      "execution_count": null,
      "metadata": {},
      "outputs": [],
      "source": [
        "len(pairs)"
      ]
    },
    {
      "cell_type": "code",
      "execution_count": null,
      "metadata": {},
      "outputs": [],
      "source": [
        "pairs += ilexPairs"
      ]
    },
    {
      "cell_type": "code",
      "execution_count": null,
      "metadata": {},
      "outputs": [],
      "source": [
        "pairs"
      ]
    },
    {
      "cell_type": "code",
      "execution_count": null,
      "metadata": {},
      "outputs": [],
      "source": [
        "pairs_df = pd.DataFrame(pairs, columns=['Word1', 'Word2', 'Label'])\n",
        "pairs_df"
      ]
    },
    {
      "cell_type": "code",
      "execution_count": null,
      "metadata": {
        "id": "ADOIbTNAlzdh"
      },
      "outputs": [],
      "source": [
        "from sklearn.model_selection import LeaveOneOut, KFold, StratifiedKFold\n",
        "import numpy as np\n",
        "from tqdm import tqdm\n",
        "import time\n",
        "\n",
        "# Prepare data\n",
        "all_words = [w for pair in pairs for w in pair[:2]]\n",
        "all_answers = [w for pair in pairs for w in pair[2:]]\n",
        "unique_characters = sorted(set(\"\".join(all_words)))\n",
        "maxlen = max(len(w) for w in all_words)\n",
        "\n",
        "import matplotlib.pyplot as plt\n",
        "def show_box_plot(data, title=\"Cross Validation Accuracies\"):\n",
        "\tf = plt.figure()\n",
        "\tf.set_figwidth(4)\n",
        "\tf.set_figheight(1)\n",
        "\n",
        "\t# Create a box and whiskers plot\n",
        "\tplt.boxplot(data, vert=False)\n",
        "\n",
        "\tplt.scatter(data, [1]*len(data), color='blue', alpha=0.3, s=20)\n",
        "\n",
        "\t# Add title and labels\n",
        "\tplt.title(title)\n",
        "\tplt.ylabel('Values')\n",
        "\n",
        "\t# Show the plot\n",
        "\tplt.show()\n",
        "\n",
        "def show_confusion_matrix(cm, title=\"Confusion Matrix\"):\n",
        "\tfig, ax = plt.subplots()\n",
        "\tcax = ax.matshow(cm, cmap=plt.cm.Blues)\n",
        "\n",
        "\tfor (i, j), z in np.ndenumerate(cm):\n",
        "\t\tax.text(j, i, '{:0.1f}'.format(z), ha='center', va='center',\n",
        "\t\t\t\tbbox=dict(boxstyle='round', facecolor='white', edgecolor='0.3'))\n",
        "\t\n",
        "\tax.set_xticks([0, 1])\n",
        "\tax.set_yticks([0, 1])   \n",
        "\tax.set_xticklabels(['Predicted Negative', 'Predicted Positive'])\n",
        "\tax.set_yticklabels(['True Negative', 'True Positive'])\n",
        "\tplt.xlabel('Predicted')\n",
        "\tplt.ylabel('True')\n",
        "\tplt.title(title)\n",
        "\tplt.savefig(\"test.svg\", format=\"svg\")\n",
        "\tplt.savefig(\"confusion.svg\")\n",
        "\n",
        "def show_roc_curve(y_true, y_scores, title=\"ROC Curve\"):\n",
        "    \"\"\"\n",
        "    Show ROC curve for binary classification\n",
        "    \n",
        "    Args:\n",
        "        y_true: True binary labels\n",
        "        y_scores: Target scores (probabilities or confidence scores)\n",
        "        title: Title for the plot\n",
        "    \"\"\"\n",
        "    # Calculate ROC curve\n",
        "    fpr, tpr, thresholds = roc_curve(y_true, y_scores)\n",
        "    roc_auc = auc(fpr, tpr)\n",
        "    \n",
        "    # Create the plot\n",
        "    plt.figure(figsize=(6, 6))\n",
        "    plt.plot(fpr, tpr, color='darkorange', lw=2, \n",
        "             label=f'ROC curve (AUC = {roc_auc:.2f})')\n",
        "    plt.plot([0, 1], [0, 1], color='navy', lw=2, linestyle='--', \n",
        "             label='Random classifier')\n",
        "    \n",
        "    plt.xlim([0.0, 1.0])\n",
        "    plt.ylim([0.0, 1.05])\n",
        "    plt.xlabel('False Positive Rate')\n",
        "    plt.ylabel('True Positive Rate')\n",
        "    plt.title(title)\n",
        "    plt.legend(loc=\"lower right\")\n",
        "    plt.grid(True, alpha=0.3)\n",
        "    plt.show()\n",
        "    \n",
        "    return roc_auc\n",
        "\n",
        "def cv_test_model(model_maker, has_history=False):\n",
        "\tcv = StratifiedKFold(n_splits = 5)\n",
        "\tepochs = 15\n",
        "\n",
        "\t# Store results for each fold\n",
        "\t# All of these are [epoch_number, fold, (confusion_matrix, accuracy)]\n",
        "\t\n",
        "\thistory = {\n",
        "\t\t\"train\": [\n",
        "\t\t\t[tuple((None, None)) for _ in range(cv.get_n_splits())]\n",
        "\t\t\tfor _ in range(epochs)\n",
        "\t\t],\n",
        "\t\t\"test\": [\n",
        "\t\t\t[tuple((None, None)) for _ in range(cv.get_n_splits())]\n",
        "\t\t\tfor _ in range(epochs)\n",
        "\t\t]\n",
        "\t}\n",
        "\n",
        "\tfor fold, (train_idx, test_idx) in enumerate(tqdm(cv.split(pairs_df.iloc[:, :2], pairs_df.iloc[:, 2:]), total=cv.get_n_splits(), desc=\"CV Progress\")):\n",
        "\t\t# Split data\n",
        "\t\ttrain_data = [pairs[i] for i in train_idx]\n",
        "\t\ttest_data = [pairs[i] for i in test_idx]\n",
        "\t\t\n",
        "\t\t# Create model for this fold\n",
        "\t\tmodel = model_maker()\n",
        "\t\tcriterion = nn.BCELoss()\n",
        "\t\toptimizer = optim.Adam(model.parameters(), lr=0.001)\n",
        "\t\t\n",
        "\t\t# Create datasets and dataloaders\n",
        "\t\ttrain_dataset = SimpleCognateDataset(train_data, unique_characters, maxlen)\n",
        "\t\ttest_dataset = SimpleCognateDataset(test_data, unique_characters, maxlen)\n",
        "\t\t\n",
        "\t\ttrain_loader = DataLoader(train_dataset, batch_size=3200, shuffle=True, \n",
        "\t\t\t\t\t\t\t\tgenerator=torch.Generator(device=device.type))\n",
        "\t\ttest_loader = DataLoader(test_dataset, batch_size=3200, \n",
        "\t\t\t\t\t\t\t\tgenerator=torch.Generator(device=device.type))\n",
        "\t\t\n",
        "\t\t\n",
        "\t\tdef test_against_loader(model, loader):\n",
        "\t\t\t\"\"\"\n",
        "\t\t\tModified test_against_loader that returns predictions, probabilities, and true labels\n",
        "\t\t\t\"\"\"\n",
        "\t\t\tpredictions = []\n",
        "\t\t\tprobabilities = []  # Raw model outputs (probabilities)\n",
        "\t\t\ttrue_labels = []\n",
        "\n",
        "\t\t\twith torch.no_grad():\n",
        "\t\t\t\tfor word1_batch, word2_batch, label_batch in loader:\n",
        "\t\t\t\t\toutput_batch = model(word1_batch, word2_batch).squeeze()\n",
        "\t\t\t\t\tpredicted_batch = (output_batch > 0.5).int()\n",
        "\n",
        "\t\t\t\t\t# Store results for the entire batch\n",
        "\t\t\t\t\tpredictions.extend(predicted_batch.tolist())\n",
        "\t\t\t\t\tprobabilities.extend(output_batch.tolist())  # Store raw probabilities\n",
        "\t\t\t\t\ttrue_labels.extend(label_batch.int().tolist())\n",
        "\n",
        "\t\t\t# Calculate accuracy\n",
        "\t\t\taccuracy = sum([pred == true for pred, true in zip(predictions, true_labels)]) / len(true_labels)\n",
        "\n",
        "\t\t\t# Additional metrics\n",
        "\t\t\tfrom sklearn.metrics import confusion_matrix\n",
        "\t\t\t\n",
        "\t\t\t# Calculate confusion matrix\n",
        "\t\t\tconf_matrix = confusion_matrix(true_labels, predictions)\n",
        "\n",
        "\t\t\treturn conf_matrix, accuracy, probabilities, true_labels\n",
        "\n",
        "\t\t# Train model\n",
        "\t\tmodel.train()\n",
        "\t\tfor epoch in range(epochs):\n",
        "\t\t\ttotal_loss = 0\n",
        "\t\t\tfor word1, word2, label in train_loader:\n",
        "\t\t\t\toptimizer.zero_grad()\n",
        "\t\t\t\toutput = model(word1, word2).squeeze()\n",
        "\t\t\t\t#print(output.get_device(), label.get_device())\n",
        "\t\t\t\tloss = criterion(output, label)\n",
        "\t\t\t\tloss.backward()\n",
        "\t\t\t\toptimizer.step()\n",
        "\t\t\t\ttotal_loss += loss.item()\n",
        "\t\t\t#print(f\"Epoch {epoch+1}/{epochs}, Loss: {total_loss / len(train_loader):.4f}\")\n",
        "\n",
        "\t\t\tif has_history:\n",
        "\t\t\t\tmodel.eval()\n",
        "\t\t\t\thistory[\"train\"][epoch][fold] = test_against_loader(model, train_loader)\n",
        "\t\t\t\thistory[\"test\"][epoch][fold] = test_against_loader(model, test_loader)\n",
        "\n",
        "\t\t\t\t#Early cutoff if overfitting\n",
        "\t\t\t\tif history[\"train\"][epoch][fold][1] >= .99:\n",
        "\t\t\t\t\thistory[\"train\"] = history[\"train\"][0:epoch]\n",
        "\t\t\t\t\thistory[\"test\"] = history[\"test\"][0:epoch]\n",
        "\t\t\t\t\treturn history, model\n",
        "\t\t\t\t\n",
        "\t\t\t\tmodel.train()\n",
        "\n",
        "\t\tif not has_history:\n",
        "\t\t\thistory[\"test\"][-1][fold] = test_against_loader(model, test_loader)\n",
        "\n",
        "\treturn history, model\n"
      ]
    },
    {
      "cell_type": "code",
      "execution_count": null,
      "metadata": {},
      "outputs": [],
      "source": [
        "from transformer_stuff import TransformerCognateModel, UnbatchedWrapper\n",
        "#from lstm_stuff import SimplePairNN\n",
        "def simple_nn_model_maker():\n",
        "    # Model parameters\n",
        "    embedding_dim = 64\n",
        "    hidden_dim = 128\n",
        "    vocab_size = len(unique_characters)\n",
        "\n",
        "    #return SimplePairNN(vocab_size, embedding_dim, hidden_dim)\n",
        "    return TransformerCognateModel(vocab_size, embedding_dim, hidden_dim)\n",
        "\n",
        "\n",
        "history, model = cv_test_model(simple_nn_model_maker, has_history=True)"
      ]
    },
    {
      "cell_type": "code",
      "execution_count": null,
      "metadata": {},
      "outputs": [],
      "source": [
        "# Calculate overall statistics\n",
        "last_epoch_test_data = history[\"test\"][-1] #[fold, (pred, labels, accuracies, accuracy)]\n",
        "\n",
        "all_confusion = np.sum(np.array([fold_data[0] for fold_data in last_epoch_test_data]), axis=0)\n",
        "all_accuracies = [fold_data[1] for fold_data in last_epoch_test_data]\n",
        "\n",
        "overall_accuracy = np.mean(all_accuracies)\n",
        "correct_predictions = all_confusion[1][1] + all_confusion[0][0]\n",
        "total_predictions = np.sum(all_confusion)\n",
        "\n",
        "print(f\"\\nCross-Validation Results:\")\n",
        "print(f\"Overall Accuracy: {overall_accuracy * 100:.2f}%\")\n",
        "print(f\"Correct Predictions: {correct_predictions}/{total_predictions}\")\n",
        "\n",
        "fold_accuracies = [fold_data[1] for fold_data in history[\"test\"][-1]]\n",
        "show_box_plot(fold_accuracies)\n",
        "\n",
        "show_confusion_matrix(all_confusion)\n",
        "\n",
        "# Initialize lists to store accuracies for each fold\n",
        "train_fold_accuracies = np.zeros((len(history[\"train\"][-1]), len(history[\"train\"])))\n",
        "test_fold_accuracies = np.zeros((len(history[\"train\"][-1]), len(history[\"train\"])))\n",
        "\n",
        "# Extract training and testing accuracies for each fold across all epochs\n",
        "for epoch_index, epoch_data in enumerate(history[\"train\"]):\n",
        "    for fold_index, fold_data in enumerate(epoch_data):\n",
        "        train_fold_accuracies[fold_index][epoch_index] = fold_data[1]\n",
        "\n",
        "for epoch_index, epoch_data in enumerate(history[\"test\"]):\n",
        "    for fold_index, fold_data in enumerate(epoch_data):\n",
        "        test_fold_accuracies[fold_index][epoch_index] = fold_data[1]\n",
        "\n",
        "# Plot training and testing accuracies for each fold on one graph\n",
        "plt.figure(figsize=(10, 5))\n",
        "for fold_index, accuracies in enumerate(train_fold_accuracies):\n",
        "    plt.plot(accuracies, color='orange', alpha=.4)\n",
        "for fold_index, accuracies in enumerate(test_fold_accuracies):\n",
        "    plt.plot(accuracies, color='blue', alpha=.4)\n",
        "\n",
        "# Add custom legend\n",
        "leg = plt.legend(['Training', 'Testing'], loc='upper left')\n",
        "leg.legend_handles[0].set_color('orange')\n",
        "leg.legend_handles[1].set_color('blue')\n",
        "\n",
        "plt.xlabel('Epochs')\n",
        "plt.ylabel('Accuracy')\n",
        "plt.xticks(np.arange(1, len(history[\"train\"]), step=1))\n",
        "plt.title('Training and Testing Accuracies Over Epochs')\n",
        "plt.show()"
      ]
    },
    {
      "cell_type": "code",
      "execution_count": null,
      "metadata": {},
      "outputs": [],
      "source": [
        "history"
      ]
    },
    {
      "cell_type": "code",
      "execution_count": null,
      "metadata": {},
      "outputs": [],
      "source": [
        "from sklearn.metrics import roc_curve, auc\n",
        "\n",
        "def show_multiple_roc_curves(history, title=\"ROC Curves - Last Epoch by Fold\", dataset_type=\"test\"):\n",
        "    \"\"\"\n",
        "    Show ROC curves for each fold from the last epoch only\n",
        "    Each fold gets its own line, with train/test distinguished by color\n",
        "    \n",
        "    Args:\n",
        "        history: The history dictionary from cv_test_model\n",
        "        title: Title for the plot\n",
        "    \"\"\"\n",
        "    plt.figure(figsize=(8, 6))\n",
        "    \n",
        "    # Get last epoch data\n",
        "    test_last_epoch = history[dataset_type][-1]\n",
        "    \n",
        "    test_aucs = []\n",
        "    \n",
        "    # Plot ROC curve for each fold - Test data\n",
        "    for fold_idx, fold_data in enumerate(test_last_epoch):\n",
        "        conf_matrix, accuracy, probabilities, true_labels = fold_data\n",
        "        if probabilities is not None and true_labels is not None:\n",
        "            fpr, tpr, _ = roc_curve(true_labels, probabilities)\n",
        "            roc_auc = auc(fpr, tpr)\n",
        "            test_aucs.append(roc_auc)\n",
        "            plt.plot(fpr, tpr, color='blue', alpha=0.4, linewidth=2)\n",
        "    \n",
        "    # Plot random classifier line\n",
        "    plt.plot([0, 1], [0, 1], color='navy', lw=2, linestyle='--', alpha=0.8)\n",
        "    plt.tight_layout()\n",
        "    plt.xlim([0, 1])\n",
        "    plt.ylim([0, 1])\n",
        "    plt.show()\n",
        "\n",
        "def show_roc_curves_over_epochs(history, title=\"ROC\"):\n",
        "    \"\"\"\n",
        "    Show ROC AUC scores over epochs for train/test data\n",
        "    Similar to the accuracy over epochs plot\n",
        "    \n",
        "    Args:\n",
        "        history: The history dictionary from cv_test_model\n",
        "        title: Title for the plot\n",
        "    \"\"\"\n",
        "    num_folds = len(history[\"train\"][0])\n",
        "    num_epochs = len(history[\"train\"])\n",
        "    \n",
        "    # Initialize arrays to store AUC scores\n",
        "    train_fold_aucs = np.zeros((num_folds, num_epochs))\n",
        "    test_fold_aucs = np.zeros((num_folds, num_epochs))\n",
        "    \n",
        "    # Extract AUC scores for each fold across all epochs\n",
        "    for epoch_index, epoch_data in enumerate(history[\"train\"]):\n",
        "        for fold_index, fold_data in enumerate(epoch_data):\n",
        "            conf_matrix, accuracy, probabilities, true_labels = fold_data\n",
        "            if probabilities is not None and true_labels is not None:\n",
        "                fpr, tpr, _ = roc_curve(true_labels, probabilities)\n",
        "                train_fold_aucs[fold_index][epoch_index] = auc(fpr, tpr)\n",
        "    \n",
        "    for epoch_index, epoch_data in enumerate(history[\"test\"]):\n",
        "        for fold_index, fold_data in enumerate(epoch_data):\n",
        "            conf_matrix, accuracy, probabilities, true_labels = fold_data\n",
        "            if probabilities is not None and true_labels is not None:\n",
        "                fpr, tpr, _ = roc_curve(true_labels, probabilities)\n",
        "                test_fold_aucs[fold_index][epoch_index] = auc(fpr, tpr)\n",
        "    \n",
        "    # Plot AUC scores for each fold on one graph\n",
        "    plt.figure(figsize=(10, 5))\n",
        "    for fold_index, aucs in enumerate(train_fold_aucs):\n",
        "        plt.plot(aucs, color='orange', alpha=0.4)\n",
        "    for fold_index, aucs in enumerate(test_fold_aucs):\n",
        "        plt.plot(aucs, color='blue', alpha=0.4)\n",
        "    \n",
        "    # Add custom legend\n",
        "    leg = plt.legend(['Training', 'Testing'], loc='upper left')\n",
        "    leg.legend_handles[0].set_color('orange')\n",
        "    leg.legend_handles[1].set_color('blue')\n",
        "    \n",
        "    plt.xlabel('Epochs')\n",
        "    plt.ylabel('ROC AUC')\n",
        "    plt.xticks(np.arange(0, num_epochs, step=1))\n",
        "    plt.title(title)\n",
        "    plt.grid(True, alpha=0.3)\n",
        "    plt.ylim([0.0, 1.0])  # AUC is always between 0 and 1\n",
        "    plt.show()\n",
        "    \n",
        "    return train_fold_aucs, test_fold_aucs\n",
        "\n",
        "show_multiple_roc_curves(history)\n",
        "\n",
        "# Show ROC AUC progression over epochs (similar to accuracy plot)\n",
        "train_fold_aucs, test_fold_aucs = show_roc_curves_over_epochs(history, \"ROC AUC Over Epochs\")"
      ]
    },
    {
      "cell_type": "code",
      "execution_count": null,
      "metadata": {},
      "outputs": [],
      "source": [
        "def show_classification_report(history):\n",
        "    all_labels = []\n",
        "    all_predictions = []\n",
        "    for fold_data in history[\"test\"][-1]:\n",
        "        _, _, probabilities, true_labels = fold_data\n",
        "        all_labels.extend(true_labels)\n",
        "        all_predictions.extend([int(prob > .5) for prob in probabilities])\n",
        "    from sklearn.metrics import classification_report\n",
        "    print(classification_report(all_labels, all_predictions))\n",
        "\n",
        "show_classification_report(history)"
      ]
    },
    {
      "cell_type": "markdown",
      "metadata": {},
      "source": [
        "https://github.com/pytorch/examples/tree/main/word_language_model"
      ]
    }
  ],
  "metadata": {
    "colab": {
      "provenance": []
    },
    "kernelspec": {
      "display_name": "Python 3",
      "name": "python3"
    },
    "language_info": {
      "codemirror_mode": {
        "name": "ipython",
        "version": 3
      },
      "file_extension": ".py",
      "mimetype": "text/x-python",
      "name": "python",
      "nbconvert_exporter": "python",
      "pygments_lexer": "ipython3",
      "version": "3.12.4"
    }
  },
  "nbformat": 4,
  "nbformat_minor": 0
}
