{
 "cells": [
  {
   "cell_type": "code",
   "execution_count": 1,
   "metadata": {},
   "outputs": [
    {
     "name": "stdout",
     "output_type": "stream",
     "text": [
      "Levenshtein Distance: [('Substitute', 'k', 's'), ('Nothing', 'i'), ('Nothing', 't'), ('Nothing', 't'), ('Substitute', 'e', 'i'), ('Nothing', 'n'), ('Insert', 'g')]\n",
      "Json: [[\"Substitute\", \"k\", \"s\"], [\"Nothing\", \"i\"], [\"Nothing\", \"t\"], [\"Nothing\", \"t\"], [\"Substitute\", \"e\", \"i\"], [\"Nothing\", \"n\"], [\"Insert\", \"g\"]]\n"
     ]
    }
   ],
   "source": [
    "from LDistanceModel import ldistance\n",
    "\n",
    "# Example input strings\n",
    "str1 = \"kitten\"\n",
    "str2 = \"sitting\"\n",
    "\n",
    "# Function call to calculate Levenshtein distance\n",
    "distance = ldistance(str1, str2)\n",
    "\n",
    "# Print the result\n",
    "print(\"Levenshtein Distance:\", distance)\n",
    "import json\n",
    "print(\"Json:\", json.dumps(distance))\n",
    "\n",
    "data = distance"
   ]
  },
  {
   "cell_type": "code",
   "execution_count": 2,
   "metadata": {},
   "outputs": [
    {
     "data": {
      "text/plain": [
       "{'e', 'g', 'i', 'k', 'n', 's', 't'}"
      ]
     },
     "execution_count": 2,
     "metadata": {},
     "output_type": "execute_result"
    }
   ],
   "source": [
    "str1 = \"kitten\"\n",
    "str2 = \"sitting\"\n",
    "unique_letters = set()\n",
    "unique_letters.update(str1, str2)\n",
    "\n",
    "unique_letters"
   ]
  },
  {
   "cell_type": "code",
   "execution_count": 3,
   "metadata": {},
   "outputs": [
    {
     "data": {
      "text/plain": [
       "tensor([[-0.0201,  1.0752,  0.0275, -1.1097]], grad_fn=<EmbeddingBackward0>)"
      ]
     },
     "execution_count": 3,
     "metadata": {},
     "output_type": "execute_result"
    }
   ],
   "source": [
    "embedding_dim = 4\n",
    "\n",
    "from LDistanceModel import SetEmbedding\n",
    "\n",
    "embedding = SetEmbedding(set_of_things=unique_letters, embedding_dim=embedding_dim)\n",
    "\n",
    "embedding('g')"
   ]
  },
  {
   "cell_type": "code",
   "execution_count": 4,
   "metadata": {},
   "outputs": [
    {
     "data": {
      "text/plain": [
       "[('Substitute', 'k', 's'),\n",
       " ('Nothing', 'i'),\n",
       " ('Nothing', 't'),\n",
       " ('Nothing', 't'),\n",
       " ('Substitute', 'e', 'i'),\n",
       " ('Nothing', 'n'),\n",
       " ('Insert', 'g')]"
      ]
     },
     "execution_count": 4,
     "metadata": {},
     "output_type": "execute_result"
    }
   ],
   "source": [
    "data"
   ]
  },
  {
   "cell_type": "code",
   "execution_count": 5,
   "metadata": {},
   "outputs": [
    {
     "data": {
      "text/plain": [
       "tensor([[ 0.5000,  0.0000,  0.0000,  0.0000,  0.0000,  0.0000],\n",
       "        [ 0.0000,  0.5000, -1.7438, -0.3490, -3.5093,  1.0246],\n",
       "        [ 0.0000,  0.0000,  2.1463, -1.1699, -0.2154,  0.4448],\n",
       "        [ 0.0000,  0.0000, -1.7527,  0.7580,  0.4855,  0.2966],\n",
       "        [ 0.0000,  0.0000, -1.7527,  0.7580,  0.4855,  0.2966],\n",
       "        [ 0.5000,  0.0000,  1.4606, -1.2639, -1.1067, -0.3888],\n",
       "        [ 0.0000,  0.5000,  2.1463, -1.1699, -0.2154,  0.4448],\n",
       "        [ 0.0000,  0.0000, -0.5340, -1.7844,  1.1286, -0.7992],\n",
       "        [ 0.0000,  1.0000, -0.0201,  1.0752,  0.0275, -1.1097]],\n",
       "       grad_fn=<CopySlices>)"
      ]
     },
     "execution_count": 5,
     "metadata": {},
     "output_type": "execute_result"
    }
   ],
   "source": [
    "from LDistanceModel import operation_encoder\n",
    "\n",
    "operation_encoder(data, embedding)"
   ]
  },
  {
   "cell_type": "code",
   "execution_count": 6,
   "metadata": {},
   "outputs": [
    {
     "data": {
      "text/plain": [
       "(tensor([[[ 0.0000,  0.0000, -2.0093,  2.5259, -0.4276,  1.8567, -2.1050,\n",
       "            0.2206,  1.1253,  1.1538,  1.1189,  0.7314],\n",
       "          [ 0.5000,  0.0000,  0.6047, -1.2549,  0.3655,  0.6385, -2.5045,\n",
       "            0.8770,  0.5173, -0.6846, -0.4493,  0.9730],\n",
       "          [ 0.0000,  0.5000,  0.5111, -1.1539, -0.2442, -1.0754, -0.6968,\n",
       "            0.2592,  1.4359,  0.6875, -0.7560,  0.3229],\n",
       "          [ 0.0000,  0.0000,  0.8474, -0.5229,  0.2423, -1.1077, -1.0637,\n",
       "            2.8645,  0.4781, -0.2449, -0.4695, -0.1594],\n",
       "          [ 0.0000,  0.0000,  0.8474, -0.5229,  0.2423, -1.1077, -1.0637,\n",
       "            2.8645,  0.4781, -0.2449, -0.4695, -0.1594],\n",
       "          [ 0.0000,  0.0000, -0.2216,  0.3599, -0.0070,  1.4073, -0.4181,\n",
       "           -1.1262,  0.2773, -0.8467,  0.8706, -0.2134],\n",
       "          [ 0.0000,  0.0000,  0.0000,  0.0000,  0.0000,  0.0000,  0.0000,\n",
       "            0.0000,  0.0000,  0.0000,  0.0000,  0.0000],\n",
       "          [ 0.0000,  0.0000,  0.0000,  0.0000,  0.0000,  0.0000,  0.0000,\n",
       "            0.0000,  0.0000,  0.0000,  0.0000,  0.0000]],\n",
       " \n",
       "         [[ 0.5000,  0.0000, -0.3090,  1.2590,  1.5564,  0.7202, -0.0088,\n",
       "            1.9010,  1.2247,  0.0044, -0.4672, -0.7537],\n",
       "          [ 0.0000,  0.5000,  0.0000,  0.0000,  0.0000,  0.0000,  0.0000,\n",
       "            0.0000,  0.0000,  0.0000,  0.0000,  0.0000],\n",
       "          [ 0.0000,  0.0000,  0.5111, -1.1539, -0.2442, -1.0754, -0.6968,\n",
       "            0.2592,  1.4359,  0.6875, -0.7560,  0.3229],\n",
       "          [ 0.0000,  0.0000,  0.2044, -0.0601,  1.0554, -0.8604, -0.3856,\n",
       "           -1.5611, -1.0802, -2.4426,  0.1333,  0.2670],\n",
       "          [ 0.0000,  0.0000,  0.0000,  0.0000,  0.0000,  0.0000,  0.0000,\n",
       "            0.0000,  0.0000,  0.0000,  0.0000,  0.0000],\n",
       "          [ 0.0000,  0.0000,  0.0000,  0.0000,  0.0000,  0.0000,  0.0000,\n",
       "            0.0000,  0.0000,  0.0000,  0.0000,  0.0000],\n",
       "          [ 0.0000,  0.0000,  0.0000,  0.0000,  0.0000,  0.0000,  0.0000,\n",
       "            0.0000,  0.0000,  0.0000,  0.0000,  0.0000],\n",
       "          [ 0.0000,  0.0000,  0.0000,  0.0000,  0.0000,  0.0000,  0.0000,\n",
       "            0.0000,  0.0000,  0.0000,  0.0000,  0.0000]],\n",
       " \n",
       "         [[ 0.5000,  0.0000,  0.2044, -0.0601,  1.0554, -0.8604, -0.3856,\n",
       "           -1.5611, -1.0802, -2.4426,  0.1333,  0.2670],\n",
       "          [ 0.0000,  0.5000,  1.0374, -0.3384,  0.8276, -1.1959,  1.4262,\n",
       "           -1.5106,  0.4573,  1.2457,  0.3131,  0.5951],\n",
       "          [ 0.5000,  0.0000, -2.0093,  2.5259, -0.4276,  1.8567, -2.1050,\n",
       "            0.2206,  1.1253,  1.1538,  1.1189,  0.7314],\n",
       "          [ 0.0000,  0.5000,  0.5111, -1.1539, -0.2442, -1.0754, -0.6968,\n",
       "            0.2592,  1.4359,  0.6875, -0.7560,  0.3229],\n",
       "          [ 0.5000,  0.0000, -0.2216,  0.3599, -0.0070,  1.4073, -0.4181,\n",
       "           -1.1262,  0.2773, -0.8467,  0.8706, -0.2134],\n",
       "          [ 0.0000,  0.5000,  0.8598, -1.4520,  1.1898, -0.2681,  0.4947,\n",
       "            0.2672,  0.5153,  0.1473, -0.5779,  1.1675],\n",
       "          [ 0.5000,  0.0000, -0.4665, -0.8565,  0.2831,  0.8406,  0.8729,\n",
       "           -1.4695,  1.2939, -0.5307, -0.4103, -1.6817],\n",
       "          [ 0.0000,  0.5000,  0.5111, -1.1539, -0.2442, -1.0754, -0.6968,\n",
       "            0.2592,  1.4359,  0.6875, -0.7560,  0.3229]],\n",
       " \n",
       "         [[ 0.0000,  0.0000,  0.7569,  0.8004, -1.4052,  1.9382,  0.0184,\n",
       "            0.4101,  1.5114,  0.0661, -0.2254, -0.9412],\n",
       "          [ 0.0000,  0.0000,  0.5111, -1.1539, -0.2442, -1.0754, -0.6968,\n",
       "            0.2592,  1.4359,  0.6875, -0.7560,  0.3229],\n",
       "          [ 0.0000,  0.0000,  0.0378, -0.0701, -0.1977, -0.4261,  1.2194,\n",
       "           -0.3874, -1.3266, -1.3410, -0.9407,  0.7459],\n",
       "          [ 0.0000,  0.0000,  0.6047, -1.2549,  0.3655,  0.6385, -2.5045,\n",
       "            0.8770,  0.5173, -0.6846, -0.4493,  0.9730],\n",
       "          [ 0.0000,  0.0000,  0.0000,  0.0000,  0.0000,  0.0000,  0.0000,\n",
       "            0.0000,  0.0000,  0.0000,  0.0000,  0.0000],\n",
       "          [ 0.0000,  0.0000,  0.0000,  0.0000,  0.0000,  0.0000,  0.0000,\n",
       "            0.0000,  0.0000,  0.0000,  0.0000,  0.0000],\n",
       "          [ 0.0000,  0.0000,  0.0000,  0.0000,  0.0000,  0.0000,  0.0000,\n",
       "            0.0000,  0.0000,  0.0000,  0.0000,  0.0000],\n",
       "          [ 0.0000,  0.0000,  0.0000,  0.0000,  0.0000,  0.0000,  0.0000,\n",
       "            0.0000,  0.0000,  0.0000,  0.0000,  0.0000]],\n",
       " \n",
       "         [[ 0.0000,  0.0000,  0.5111, -1.1539, -0.2442, -1.0754, -0.6968,\n",
       "            0.2592,  1.4359,  0.6875, -0.7560,  0.3229],\n",
       "          [ 0.0000,  1.0000,  0.0000,  0.0000,  0.0000,  0.0000,  0.0000,\n",
       "            0.0000,  0.0000,  0.0000,  0.0000,  0.0000],\n",
       "          [ 0.0000,  1.0000, -0.3090,  1.2590,  1.5564,  0.7202, -0.0088,\n",
       "            1.9010,  1.2247,  0.0044, -0.4672, -0.7537],\n",
       "          [ 0.0000,  0.0000,  0.0000,  0.0000,  0.0000,  0.0000,  0.0000,\n",
       "            0.0000,  0.0000,  0.0000,  0.0000,  0.0000],\n",
       "          [ 0.0000,  0.0000,  0.0000,  0.0000,  0.0000,  0.0000,  0.0000,\n",
       "            0.0000,  0.0000,  0.0000,  0.0000,  0.0000],\n",
       "          [ 0.0000,  0.0000,  0.0000,  0.0000,  0.0000,  0.0000,  0.0000,\n",
       "            0.0000,  0.0000,  0.0000,  0.0000,  0.0000],\n",
       "          [ 0.0000,  0.0000,  0.0000,  0.0000,  0.0000,  0.0000,  0.0000,\n",
       "            0.0000,  0.0000,  0.0000,  0.0000,  0.0000],\n",
       "          [ 0.0000,  0.0000,  0.0000,  0.0000,  0.0000,  0.0000,  0.0000,\n",
       "            0.0000,  0.0000,  0.0000,  0.0000,  0.0000]]], grad_fn=<CopySlices>),\n",
       " tensor([[ True,  True,  True,  True,  True,  True, False, False],\n",
       "         [ True,  True,  True,  True, False, False, False, False],\n",
       "         [ True,  True,  True,  True,  True,  True,  True,  True],\n",
       "         [ True,  True,  True,  True, False, False, False, False],\n",
       "         [ True,  True,  True, False, False, False, False, False]]),\n",
       " [6, 4, 8, 4, 3])"
      ]
     },
     "execution_count": 6,
     "metadata": {},
     "output_type": "execute_result"
    }
   ],
   "source": [
    "string_pairs = [\n",
    "    (\"hello\", \"hallo\"),\n",
    "    (\"cat\", \"bat\"),\n",
    "    (\"python\", \"java\"),\n",
    "    (\"same\", \"same\"),\n",
    "    (\"a\", \"abc\")\n",
    "]\n",
    "\n",
    "all_characters_in_pairs = set()\n",
    "for pair in string_pairs:\n",
    "    for word in pair:\n",
    "        all_characters_in_pairs.update(word)\n",
    "\n",
    "string_pair_embedder = SetEmbedding(all_characters_in_pairs, 10)\n",
    "\n",
    "from LDistanceModel import create_batch_with_masks\n",
    "create_batch_with_masks(string_pairs, string_pair_embedder)"
   ]
  },
  {
   "cell_type": "code",
   "execution_count": 12,
   "metadata": {},
   "outputs": [
    {
     "name": "stderr",
     "output_type": "stream",
     "text": [
      "<>:8: SyntaxWarning: list indices must be integers or slices, not tuple; perhaps you missed a comma?\n",
      "<>:8: SyntaxWarning: list indices must be integers or slices, not tuple; perhaps you missed a comma?\n",
      "C:\\Users\\lsm0147\\AppData\\Local\\Temp\\ipykernel_36828\\2517620060.py:8: SyntaxWarning: list indices must be integers or slices, not tuple; perhaps you missed a comma?\n",
      "  [[1,2,3],[1,2,3]][:, 2]\n"
     ]
    },
    {
     "ename": "TypeError",
     "evalue": "list indices must be integers or slices, not tuple",
     "output_type": "error",
     "traceback": [
      "\u001b[31m---------------------------------------------------------------------------\u001b[39m",
      "\u001b[31mTypeError\u001b[39m                                 Traceback (most recent call last)",
      "\u001b[36mCell\u001b[39m\u001b[36m \u001b[39m\u001b[32mIn[12]\u001b[39m\u001b[32m, line 8\u001b[39m\n\u001b[32m      4\u001b[39m yeet = torch.tensor([\u001b[32m1\u001b[39m,\u001b[32m2\u001b[39m,\u001b[32m3\u001b[39m])\n\u001b[32m      6\u001b[39m torch.stack((bruh, yeet))[:, \u001b[32m2\u001b[39m]\n\u001b[32m----> \u001b[39m\u001b[32m8\u001b[39m \u001b[43m[\u001b[49m\u001b[43m[\u001b[49m\u001b[32;43m1\u001b[39;49m\u001b[43m,\u001b[49m\u001b[32;43m2\u001b[39;49m\u001b[43m,\u001b[49m\u001b[32;43m3\u001b[39;49m\u001b[43m]\u001b[49m\u001b[43m,\u001b[49m\u001b[43m[\u001b[49m\u001b[32;43m1\u001b[39;49m\u001b[43m,\u001b[49m\u001b[32;43m2\u001b[39;49m\u001b[43m,\u001b[49m\u001b[32;43m3\u001b[39;49m\u001b[43m]\u001b[49m\u001b[43m]\u001b[49m\u001b[43m[\u001b[49m\u001b[43m:\u001b[49m\u001b[43m,\u001b[49m\u001b[43m \u001b[49m\u001b[32;43m2\u001b[39;49m\u001b[43m]\u001b[49m\n",
      "\u001b[31mTypeError\u001b[39m: list indices must be integers or slices, not tuple"
     ]
    }
   ],
   "source": [
    "import torch\n",
    "\n",
    "bruh = torch.tensor([1,2,3])\n",
    "yeet = torch.tensor([1,2,3])\n",
    "\n",
    "torch.stack((bruh, yeet))[:, 2]\n",
    "\n",
    "[[1,2,3],[1,2,3]][:, 2]"
   ]
  },
  {
   "cell_type": "code",
   "execution_count": 7,
   "metadata": {},
   "outputs": [
    {
     "ename": "TypeError",
     "evalue": "list indices must be integers or slices, not str",
     "output_type": "error",
     "traceback": [
      "\u001b[31m---------------------------------------------------------------------------\u001b[39m",
      "\u001b[31mTypeError\u001b[39m                                 Traceback (most recent call last)",
      "\u001b[36mCell\u001b[39m\u001b[36m \u001b[39m\u001b[32mIn[7]\u001b[39m\u001b[32m, line 24\u001b[39m\n\u001b[32m     21\u001b[39m         add_nodes_edges_reverse_skip_nothing(data[\u001b[33m'\u001b[39m\u001b[33mhistory\u001b[39m\u001b[33m'\u001b[39m], node_id)\n\u001b[32m     23\u001b[39m \u001b[38;5;66;03m# Add nodes and edges starting from the root\u001b[39;00m\n\u001b[32m---> \u001b[39m\u001b[32m24\u001b[39m \u001b[43madd_nodes_edges_reverse_skip_nothing\u001b[49m\u001b[43m(\u001b[49m\u001b[43mdata\u001b[49m\u001b[43m)\u001b[49m\n\u001b[32m     26\u001b[39m \u001b[38;5;66;03m# Save the graph to a file\u001b[39;00m\n\u001b[32m     27\u001b[39m dot.save(\u001b[33m'\u001b[39m\u001b[33mgraph_reverse_skip_nothing_new.dot\u001b[39m\u001b[33m'\u001b[39m)\n",
      "\u001b[36mCell\u001b[39m\u001b[36m \u001b[39m\u001b[32mIn[7]\u001b[39m\u001b[32m, line 8\u001b[39m, in \u001b[36madd_nodes_edges_reverse_skip_nothing\u001b[39m\u001b[34m(data, parent)\u001b[39m\n\u001b[32m      7\u001b[39m \u001b[38;5;28;01mdef\u001b[39;00m\u001b[38;5;250m \u001b[39m\u001b[34madd_nodes_edges_reverse_skip_nothing\u001b[39m(data, parent=\u001b[38;5;28;01mNone\u001b[39;00m):\n\u001b[32m----> \u001b[39m\u001b[32m8\u001b[39m     \u001b[38;5;28;01mif\u001b[39;00m \u001b[43mdata\u001b[49m\u001b[43m[\u001b[49m\u001b[33;43m'\u001b[39;49m\u001b[33;43moperation\u001b[39;49m\u001b[33;43m'\u001b[39;49m\u001b[43m]\u001b[49m[\u001b[32m0\u001b[39m] == \u001b[33m'\u001b[39m\u001b[33mNothing\u001b[39m\u001b[33m'\u001b[39m:\n\u001b[32m      9\u001b[39m         \u001b[38;5;28;01mif\u001b[39;00m data[\u001b[33m'\u001b[39m\u001b[33mhistory\u001b[39m\u001b[33m'\u001b[39m]:\n\u001b[32m     10\u001b[39m             add_nodes_edges_reverse_skip_nothing(data[\u001b[33m'\u001b[39m\u001b[33mhistory\u001b[39m\u001b[33m'\u001b[39m], parent)\n",
      "\u001b[31mTypeError\u001b[39m: list indices must be integers or slices, not str"
     ]
    }
   ],
   "source": [
    "import graphviz\n",
    "\n",
    "# Create a graphviz Digraph object\n",
    "dot = graphviz.Digraph()\n",
    "\n",
    "# Function to add nodes and edges to the graph in reverse order, skipping nodes with operation 'Nothing'\n",
    "def add_nodes_edges_reverse_skip_nothing(data, parent=None):\n",
    "    if data['operation'][0] == 'Nothing':\n",
    "        if data['history']:\n",
    "            add_nodes_edges_reverse_skip_nothing(data['history'], parent)\n",
    "        return\n",
    "    \n",
    "    node_id = str(id(data))\n",
    "    label = f\"Distance: {data['distance']}\\nOperation: {data['operation']}\"\n",
    "    dot.node(node_id, label)\n",
    "    \n",
    "    if parent:\n",
    "        dot.edge(node_id, parent)\n",
    "    \n",
    "    if data['history']:\n",
    "        add_nodes_edges_reverse_skip_nothing(data['history'], node_id)\n",
    "\n",
    "# Add nodes and edges starting from the root\n",
    "add_nodes_edges_reverse_skip_nothing(data)\n",
    "\n",
    "# Save the graph to a file\n",
    "dot.save('graph_reverse_skip_nothing_new.dot')\n",
    "\n",
    "# Render the graph to a PNG image file\n",
    "dot.render('graph_reverse_skip_nothing_new', format='png')\n",
    "\n",
    "print(\"Graph has been successfully created and saved as graph_reverse_skip_nothing_new.png.\")"
   ]
  }
 ],
 "metadata": {
  "kernelspec": {
   "display_name": ".venv",
   "language": "python",
   "name": "python3"
  },
  "language_info": {
   "codemirror_mode": {
    "name": "ipython",
    "version": 3
   },
   "file_extension": ".py",
   "mimetype": "text/x-python",
   "name": "python",
   "nbconvert_exporter": "python",
   "pygments_lexer": "ipython3",
   "version": "3.12.4"
  }
 },
 "nbformat": 4,
 "nbformat_minor": 2
}
