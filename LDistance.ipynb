{
 "cells": [
  {
   "cell_type": "code",
   "execution_count": 1,
   "metadata": {},
   "outputs": [
    {
     "name": "stdout",
     "output_type": "stream",
     "text": [
      "Levenshtein Distance: [('Substitute', 'k', 's'), ('Nothing', 'i'), ('Nothing', 't'), ('Nothing', 't'), ('Substitute', 'e', 'i'), ('Nothing', 'n'), ('Insert', 'g')]\n",
      "Json: [[\"Substitute\", \"k\", \"s\"], [\"Nothing\", \"i\"], [\"Nothing\", \"t\"], [\"Nothing\", \"t\"], [\"Substitute\", \"e\", \"i\"], [\"Nothing\", \"n\"], [\"Insert\", \"g\"]]\n"
     ]
    }
   ],
   "source": [
    "from LDistanceModel import ldistance\n",
    "\n",
    "# Example input strings\n",
    "str1 = \"kitten\"\n",
    "str2 = \"sitting\"\n",
    "\n",
    "# Function call to calculate Levenshtein distance\n",
    "distance = ldistance(str1, str2)\n",
    "\n",
    "# Print the result\n",
    "print(\"Levenshtein Distance:\", distance)\n",
    "import json\n",
    "print(\"Json:\", json.dumps(distance))\n",
    "\n",
    "data = distance"
   ]
  },
  {
   "cell_type": "code",
   "execution_count": 2,
   "metadata": {},
   "outputs": [
    {
     "data": {
      "text/plain": [
       "{'e', 'g', 'i', 'k', 'n', 's', 't'}"
      ]
     },
     "execution_count": 2,
     "metadata": {},
     "output_type": "execute_result"
    }
   ],
   "source": [
    "str1 = \"kitten\"\n",
    "str2 = \"sitting\"\n",
    "unique_letters = set()\n",
    "unique_letters.update(str1, str2)\n",
    "\n",
    "unique_letters"
   ]
  },
  {
   "cell_type": "code",
   "execution_count": 3,
   "metadata": {},
   "outputs": [
    {
     "data": {
      "text/plain": [
       "tensor([[-1.0033,  0.9368, -1.5642,  0.5740]], grad_fn=<EmbeddingBackward0>)"
      ]
     },
     "execution_count": 3,
     "metadata": {},
     "output_type": "execute_result"
    }
   ],
   "source": [
    "embedding_dim = 4\n",
    "\n",
    "class SetEmbedding:\n",
    "    def __init__(self, set_of_things, embedding_dim):\n",
    "        import torch\n",
    "        import torch.nn as nn\n",
    "        self.embedding_dim = embedding_dim\n",
    "        self.embedding = nn.Embedding(len(set_of_things), embedding_dim, padding_idx=0)\n",
    "\n",
    "        self.ids = {thing: torch.tensor([idx]) for idx, thing in enumerate(set_of_things)}\n",
    "\n",
    "    def __call__(self, character):\n",
    "        # This is a dummy embedding; replace with your actual embedding function\n",
    "        return self.embedding(self.ids[character])\n",
    "\n",
    "embedding = SetEmbedding(set_of_things=unique_letters, embedding_dim=embedding_dim)\n",
    "\n",
    "embedding('g')"
   ]
  },
  {
   "cell_type": "code",
   "execution_count": 4,
   "metadata": {},
   "outputs": [
    {
     "data": {
      "text/plain": [
       "[('Substitute', 'k', 's'),\n",
       " ('Nothing', 'i'),\n",
       " ('Nothing', 't'),\n",
       " ('Nothing', 't'),\n",
       " ('Substitute', 'e', 'i'),\n",
       " ('Nothing', 'n'),\n",
       " ('Insert', 'g')]"
      ]
     },
     "execution_count": 4,
     "metadata": {},
     "output_type": "execute_result"
    }
   ],
   "source": [
    "data"
   ]
  },
  {
   "cell_type": "code",
   "execution_count": 5,
   "metadata": {},
   "outputs": [
    {
     "data": {
      "text/plain": [
       "tensor([[ 0.5000,  0.0000, -0.5727, -0.5032, -1.2241,  1.0530],\n",
       "        [ 0.0000,  0.5000,  1.4785, -1.2178, -0.1114, -0.9373],\n",
       "        [ 0.0000,  0.0000, -1.6342, -1.8713,  1.3648, -1.5790],\n",
       "        [ 0.0000,  0.0000,  0.5344, -0.7722, -1.1146, -1.4288],\n",
       "        [ 0.0000,  0.0000,  0.5344, -0.7722, -1.1146, -1.4288],\n",
       "        [ 0.5000,  0.0000,  0.6549,  0.6113,  0.0090, -0.5296],\n",
       "        [ 0.0000,  0.5000, -1.6342, -1.8713,  1.3648, -1.5790],\n",
       "        [ 0.0000,  0.0000,  0.0000,  0.0000,  0.0000,  0.0000],\n",
       "        [ 0.0000,  1.0000, -1.0033,  0.9368, -1.5642,  0.5740]],\n",
       "       grad_fn=<CopySlices>)"
      ]
     },
     "execution_count": 5,
     "metadata": {},
     "output_type": "execute_result"
    }
   ],
   "source": [
    "from LDistanceModel import operation_encoder\n",
    "\n",
    "operation_encoder(data, embedding)"
   ]
  },
  {
   "cell_type": "code",
   "execution_count": 6,
   "metadata": {},
   "outputs": [
    {
     "data": {
      "text/plain": [
       "(tensor([[[ 0.0000,  0.0000, -0.4816, -0.5635, -1.0333, -1.3106,  1.4897,\n",
       "            1.4682,  0.7213, -0.1024,  1.5713, -1.3906],\n",
       "          [ 0.5000,  0.0000,  0.8788,  1.0067,  0.7228, -0.3137, -0.0437,\n",
       "           -0.3619,  0.2688,  1.9943,  0.7123, -0.8152],\n",
       "          [ 0.0000,  0.5000, -0.3906,  3.2407,  0.3253, -1.1309,  0.3228,\n",
       "            1.2674, -1.0280,  0.6302, -0.4874,  0.3016],\n",
       "          [ 0.0000,  0.0000,  2.7115,  0.8182, -0.8084, -1.2800,  0.6548,\n",
       "            0.1492, -0.1591, -0.5944,  0.6402, -0.8973],\n",
       "          [ 0.0000,  0.0000,  2.7115,  0.8182, -0.8084, -1.2800,  0.6548,\n",
       "            0.1492, -0.1591, -0.5944,  0.6402, -0.8973],\n",
       "          [ 0.0000,  0.0000,  0.1882,  1.3087,  0.3298,  0.7031, -1.0170,\n",
       "           -1.2989,  1.6178, -1.5466, -1.1881,  0.0997],\n",
       "          [ 0.0000,  0.0000,  0.0000,  0.0000,  0.0000,  0.0000,  0.0000,\n",
       "            0.0000,  0.0000,  0.0000,  0.0000,  0.0000],\n",
       "          [ 0.0000,  0.0000,  0.0000,  0.0000,  0.0000,  0.0000,  0.0000,\n",
       "            0.0000,  0.0000,  0.0000,  0.0000,  0.0000]],\n",
       " \n",
       "         [[ 0.5000,  0.0000,  0.3238,  2.1119,  2.1122, -0.0367, -1.3491,\n",
       "            0.3971,  0.7884,  0.3190,  0.8296,  0.1573],\n",
       "          [ 0.0000,  0.5000, -0.1902,  1.5642,  0.4611,  0.6898, -0.2543,\n",
       "            0.3358,  0.9133,  2.6837,  0.2402,  0.3976],\n",
       "          [ 0.0000,  0.0000, -0.3906,  3.2407,  0.3253, -1.1309,  0.3228,\n",
       "            1.2674, -1.0280,  0.6302, -0.4874,  0.3016],\n",
       "          [ 0.0000,  0.0000, -0.8822, -1.1547, -0.3743,  1.3982, -0.5452,\n",
       "           -0.5742, -0.4225,  1.1977,  1.0420,  1.0556],\n",
       "          [ 0.0000,  0.0000,  0.0000,  0.0000,  0.0000,  0.0000,  0.0000,\n",
       "            0.0000,  0.0000,  0.0000,  0.0000,  0.0000],\n",
       "          [ 0.0000,  0.0000,  0.0000,  0.0000,  0.0000,  0.0000,  0.0000,\n",
       "            0.0000,  0.0000,  0.0000,  0.0000,  0.0000],\n",
       "          [ 0.0000,  0.0000,  0.0000,  0.0000,  0.0000,  0.0000,  0.0000,\n",
       "            0.0000,  0.0000,  0.0000,  0.0000,  0.0000],\n",
       "          [ 0.0000,  0.0000,  0.0000,  0.0000,  0.0000,  0.0000,  0.0000,\n",
       "            0.0000,  0.0000,  0.0000,  0.0000,  0.0000]],\n",
       " \n",
       "         [[ 0.5000,  0.0000, -0.8822, -1.1547, -0.3743,  1.3982, -0.5452,\n",
       "           -0.5742, -0.4225,  1.1977,  1.0420,  1.0556],\n",
       "          [ 0.0000,  0.5000, -0.7895, -0.8074, -0.1631,  1.4964, -0.7483,\n",
       "           -0.1373, -0.3735, -0.2865,  0.4169,  0.4391],\n",
       "          [ 0.5000,  0.0000, -0.4816, -0.5635, -1.0333, -1.3106,  1.4897,\n",
       "            1.4682,  0.7213, -0.1024,  1.5713, -1.3906],\n",
       "          [ 0.0000,  0.5000, -0.3906,  3.2407,  0.3253, -1.1309,  0.3228,\n",
       "            1.2674, -1.0280,  0.6302, -0.4874,  0.3016],\n",
       "          [ 0.5000,  0.0000,  0.1882,  1.3087,  0.3298,  0.7031, -1.0170,\n",
       "           -1.2989,  1.6178, -1.5466, -1.1881,  0.0997],\n",
       "          [ 0.0000,  0.5000, -0.5783,  0.3800, -0.1388, -0.5454,  1.2247,\n",
       "            0.5539, -2.0425,  0.5586,  0.3809,  1.2474],\n",
       "          [ 0.5000,  0.0000,  0.3259, -0.0150,  0.4396, -0.4466,  0.7274,\n",
       "            0.6822, -0.8910, -2.2405,  0.3667,  0.8018],\n",
       "          [ 0.0000,  0.5000, -0.3906,  3.2407,  0.3253, -1.1309,  0.3228,\n",
       "            1.2674, -1.0280,  0.6302, -0.4874,  0.3016]],\n",
       " \n",
       "         [[ 0.0000,  0.0000, -1.0047,  0.9573, -0.6859,  0.2539, -0.0296,\n",
       "           -0.4233, -0.7539,  0.6437,  1.4967,  0.2125],\n",
       "          [ 0.0000,  0.0000, -0.3906,  3.2407,  0.3253, -1.1309,  0.3228,\n",
       "            1.2674, -1.0280,  0.6302, -0.4874,  0.3016],\n",
       "          [ 0.0000,  0.0000, -0.5630, -0.2828,  0.2242,  0.7752, -1.7066,\n",
       "            0.6538,  0.2776, -0.0060,  0.7723,  1.5072],\n",
       "          [ 0.0000,  0.0000,  0.8788,  1.0067,  0.7228, -0.3137, -0.0437,\n",
       "           -0.3619,  0.2688,  1.9943,  0.7123, -0.8152],\n",
       "          [ 0.0000,  0.0000,  0.0000,  0.0000,  0.0000,  0.0000,  0.0000,\n",
       "            0.0000,  0.0000,  0.0000,  0.0000,  0.0000],\n",
       "          [ 0.0000,  0.0000,  0.0000,  0.0000,  0.0000,  0.0000,  0.0000,\n",
       "            0.0000,  0.0000,  0.0000,  0.0000,  0.0000],\n",
       "          [ 0.0000,  0.0000,  0.0000,  0.0000,  0.0000,  0.0000,  0.0000,\n",
       "            0.0000,  0.0000,  0.0000,  0.0000,  0.0000],\n",
       "          [ 0.0000,  0.0000,  0.0000,  0.0000,  0.0000,  0.0000,  0.0000,\n",
       "            0.0000,  0.0000,  0.0000,  0.0000,  0.0000]],\n",
       " \n",
       "         [[ 0.0000,  0.0000, -0.3906,  3.2407,  0.3253, -1.1309,  0.3228,\n",
       "            1.2674, -1.0280,  0.6302, -0.4874,  0.3016],\n",
       "          [ 0.0000,  1.0000, -0.1902,  1.5642,  0.4611,  0.6898, -0.2543,\n",
       "            0.3358,  0.9133,  2.6837,  0.2402,  0.3976],\n",
       "          [ 0.0000,  1.0000,  0.3238,  2.1119,  2.1122, -0.0367, -1.3491,\n",
       "            0.3971,  0.7884,  0.3190,  0.8296,  0.1573],\n",
       "          [ 0.0000,  0.0000,  0.0000,  0.0000,  0.0000,  0.0000,  0.0000,\n",
       "            0.0000,  0.0000,  0.0000,  0.0000,  0.0000],\n",
       "          [ 0.0000,  0.0000,  0.0000,  0.0000,  0.0000,  0.0000,  0.0000,\n",
       "            0.0000,  0.0000,  0.0000,  0.0000,  0.0000],\n",
       "          [ 0.0000,  0.0000,  0.0000,  0.0000,  0.0000,  0.0000,  0.0000,\n",
       "            0.0000,  0.0000,  0.0000,  0.0000,  0.0000],\n",
       "          [ 0.0000,  0.0000,  0.0000,  0.0000,  0.0000,  0.0000,  0.0000,\n",
       "            0.0000,  0.0000,  0.0000,  0.0000,  0.0000],\n",
       "          [ 0.0000,  0.0000,  0.0000,  0.0000,  0.0000,  0.0000,  0.0000,\n",
       "            0.0000,  0.0000,  0.0000,  0.0000,  0.0000]]], grad_fn=<CopySlices>),\n",
       " tensor([[ True,  True,  True,  True,  True,  True, False, False],\n",
       "         [ True,  True,  True,  True, False, False, False, False],\n",
       "         [ True,  True,  True,  True,  True,  True,  True,  True],\n",
       "         [ True,  True,  True,  True, False, False, False, False],\n",
       "         [ True,  True,  True, False, False, False, False, False]]),\n",
       " [6, 4, 8, 4, 3])"
      ]
     },
     "execution_count": 6,
     "metadata": {},
     "output_type": "execute_result"
    }
   ],
   "source": [
    "string_pairs = [\n",
    "    (\"hello\", \"hallo\"),\n",
    "    (\"cat\", \"bat\"),\n",
    "    (\"python\", \"java\"),\n",
    "    (\"same\", \"same\"),\n",
    "    (\"a\", \"abc\")\n",
    "]\n",
    "\n",
    "all_characters_in_pairs = set()\n",
    "for pair in string_pairs:\n",
    "    for word in pair:\n",
    "        all_characters_in_pairs.update(word)\n",
    "\n",
    "string_pair_embedder = SetEmbedding(all_characters_in_pairs, 10)\n",
    "\n",
    "from LDistanceModel import create_batch_with_masks\n",
    "create_batch_with_masks(string_pairs, string_pair_embedder)"
   ]
  },
  {
   "cell_type": "code",
   "execution_count": null,
   "metadata": {},
   "outputs": [],
   "source": [
    "import graphviz\n",
    "\n",
    "# Create a graphviz Digraph object\n",
    "dot = graphviz.Digraph()\n",
    "\n",
    "# Function to add nodes and edges to the graph in reverse order, skipping nodes with operation 'Nothing'\n",
    "def add_nodes_edges_reverse_skip_nothing(data, parent=None):\n",
    "    if data['operation'][0] == 'Nothing':\n",
    "        if data['history']:\n",
    "            add_nodes_edges_reverse_skip_nothing(data['history'], parent)\n",
    "        return\n",
    "    \n",
    "    node_id = str(id(data))\n",
    "    label = f\"Distance: {data['distance']}\\nOperation: {data['operation']}\"\n",
    "    dot.node(node_id, label)\n",
    "    \n",
    "    if parent:\n",
    "        dot.edge(node_id, parent)\n",
    "    \n",
    "    if data['history']:\n",
    "        add_nodes_edges_reverse_skip_nothing(data['history'], node_id)\n",
    "\n",
    "# Add nodes and edges starting from the root\n",
    "add_nodes_edges_reverse_skip_nothing(data)\n",
    "\n",
    "# Save the graph to a file\n",
    "dot.save('graph_reverse_skip_nothing_new.dot')\n",
    "\n",
    "# Render the graph to a PNG image file\n",
    "dot.render('graph_reverse_skip_nothing_new', format='png')\n",
    "\n",
    "print(\"Graph has been successfully created and saved as graph_reverse_skip_nothing_new.png.\")"
   ]
  }
 ],
 "metadata": {
  "kernelspec": {
   "display_name": ".venv",
   "language": "python",
   "name": "python3"
  },
  "language_info": {
   "codemirror_mode": {
    "name": "ipython",
    "version": 3
   },
   "file_extension": ".py",
   "mimetype": "text/x-python",
   "name": "python",
   "nbconvert_exporter": "python",
   "pygments_lexer": "ipython3",
   "version": "3.12.4"
  }
 },
 "nbformat": 4,
 "nbformat_minor": 2
}
