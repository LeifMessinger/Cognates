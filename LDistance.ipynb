{
 "cells": [
  {
   "cell_type": "code",
   "execution_count": 8,
   "metadata": {},
   "outputs": [
    {
     "name": "stdout",
     "output_type": "stream",
     "text": [
      "Levenshtein Distance: [('Substitute', 'k', 's'), ('Nothing', 'i'), ('Nothing', 't'), ('Nothing', 't'), ('Substitute', 'e', 'i'), ('Nothing', 'n'), ('Insert', 'g')]\n",
      "Json: [[\"Substitute\", \"k\", \"s\"], [\"Nothing\", \"i\"], [\"Nothing\", \"t\"], [\"Nothing\", \"t\"], [\"Substitute\", \"e\", \"i\"], [\"Nothing\", \"n\"], [\"Insert\", \"g\"]]\n"
     ]
    }
   ],
   "source": [
    "from LDistanceModel import ldistance\n",
    "\n",
    "# Example input strings\n",
    "str1 = \"kitten\"\n",
    "str2 = \"sitting\"\n",
    "\n",
    "# Function call to calculate Levenshtein distance\n",
    "distance = ldistance(str1, str2)\n",
    "\n",
    "# Print the result\n",
    "print(\"Levenshtein Distance:\", distance)\n",
    "import json\n",
    "print(\"Json:\", json.dumps(distance))\n",
    "\n",
    "data = distance"
   ]
  },
  {
   "cell_type": "code",
   "execution_count": 9,
   "metadata": {},
   "outputs": [
    {
     "data": {
      "text/plain": [
       "{'e', 'g', 'i', 'k', 'n', 's', 't'}"
      ]
     },
     "execution_count": 9,
     "metadata": {},
     "output_type": "execute_result"
    }
   ],
   "source": [
    "str1 = \"kitten\"\n",
    "str2 = \"sitting\"\n",
    "unique_letters = set()\n",
    "unique_letters.update(str1, str2)\n",
    "\n",
    "unique_letters"
   ]
  },
  {
   "cell_type": "code",
   "execution_count": 10,
   "metadata": {},
   "outputs": [
    {
     "data": {
      "text/plain": [
       "tensor([[-0.3236,  0.5717, -0.7189,  1.7287]])"
      ]
     },
     "execution_count": 10,
     "metadata": {},
     "output_type": "execute_result"
    }
   ],
   "source": [
    "embedding_dim = 4\n",
    "\n",
    "from LDistanceModel import SetEmbedding\n",
    "\n",
    "embedding = SetEmbedding(set_of_things=unique_letters, embedding_dim=embedding_dim)\n",
    "\n",
    "embedding('g')"
   ]
  },
  {
   "cell_type": "code",
   "execution_count": 11,
   "metadata": {},
   "outputs": [
    {
     "data": {
      "text/plain": [
       "[('Substitute', 'k', 's'),\n",
       " ('Nothing', 'i'),\n",
       " ('Nothing', 't'),\n",
       " ('Nothing', 't'),\n",
       " ('Substitute', 'e', 'i'),\n",
       " ('Nothing', 'n'),\n",
       " ('Insert', 'g')]"
      ]
     },
     "execution_count": 11,
     "metadata": {},
     "output_type": "execute_result"
    }
   ],
   "source": [
    "data"
   ]
  },
  {
   "cell_type": "code",
   "execution_count": 12,
   "metadata": {},
   "outputs": [
    {
     "data": {
      "text/plain": [
       "tensor([[ 0.5000,  0.0000, -0.5366,  0.3165, -0.0275, -1.7936],\n",
       "        [ 0.0000,  0.5000, -0.1369,  0.0376,  2.0246, -0.4295],\n",
       "        [ 0.0000,  0.0000,  0.0000,  0.0000,  0.0000,  0.0000],\n",
       "        [ 0.0000,  0.0000,  1.4625,  0.5968, -0.5838, -0.4736],\n",
       "        [ 0.0000,  0.0000,  1.4625,  0.5968, -0.5838, -0.4736],\n",
       "        [ 0.5000,  0.0000,  0.2372,  1.2232,  1.1071,  3.0175],\n",
       "        [ 0.0000,  0.5000,  0.0000,  0.0000,  0.0000,  0.0000],\n",
       "        [ 0.0000,  0.0000, -1.6138, -0.6678, -0.8481, -1.6216],\n",
       "        [ 0.0000,  1.0000, -0.3236,  0.5717, -0.7189,  1.7287]])"
      ]
     },
     "execution_count": 12,
     "metadata": {},
     "output_type": "execute_result"
    }
   ],
   "source": [
    "from LDistanceModel import operation_encoder\n",
    "\n",
    "operation_encoder(data, embedding)"
   ]
  },
  {
   "cell_type": "code",
   "execution_count": 13,
   "metadata": {},
   "outputs": [
    {
     "name": "stderr",
     "output_type": "stream",
     "text": [
      "100%|██████████| 5/5 [00:00<00:00, 5009.92it/s]\n"
     ]
    },
    {
     "data": {
      "text/plain": [
       "(tensor([[[ 0.0000,  0.0000,  0.7664,  0.7679,  0.6648, -0.3996, -0.0641],\n",
       "          [ 0.5000,  0.0000, -0.8758,  0.8610,  0.5925, -1.7178, -0.2086],\n",
       "          [ 0.0000,  0.5000, -1.1649, -0.3646,  0.4869,  2.2650, -1.7304],\n",
       "          [ 0.0000,  0.0000,  1.4065, -2.2335,  1.0291, -0.6604, -0.8419],\n",
       "          [ 0.0000,  0.0000,  1.4065, -2.2335,  1.0291, -0.6604, -0.8419],\n",
       "          [ 0.0000,  0.0000,  1.2469, -0.2773,  1.8645,  0.8814, -2.0055],\n",
       "          [ 0.0000,  0.0000,  0.0000,  0.0000,  0.0000,  0.0000,  0.0000],\n",
       "          [ 0.0000,  0.0000,  0.0000,  0.0000,  0.0000,  0.0000,  0.0000]],\n",
       " \n",
       "         [[ 0.5000,  0.0000, -1.2388, -0.8532, -0.5534,  0.1772,  0.1094],\n",
       "          [ 0.0000,  0.5000, -0.6214, -0.2040,  0.4633,  1.3502, -0.2752],\n",
       "          [ 0.0000,  0.0000, -1.1649, -0.3646,  0.4869,  2.2650, -1.7304],\n",
       "          [ 0.0000,  0.0000, -0.0952,  0.3766, -0.7306,  1.7517,  0.1024],\n",
       "          [ 0.0000,  0.0000,  0.0000,  0.0000,  0.0000,  0.0000,  0.0000],\n",
       "          [ 0.0000,  0.0000,  0.0000,  0.0000,  0.0000,  0.0000,  0.0000],\n",
       "          [ 0.0000,  0.0000,  0.0000,  0.0000,  0.0000,  0.0000,  0.0000],\n",
       "          [ 0.0000,  0.0000,  0.0000,  0.0000,  0.0000,  0.0000,  0.0000]],\n",
       " \n",
       "         [[ 0.5000,  0.0000, -0.0952,  0.3766, -0.7306,  1.7517,  0.1024],\n",
       "          [ 0.0000,  0.5000,  0.0000,  0.0000,  0.0000,  0.0000,  0.0000],\n",
       "          [ 0.5000,  0.0000,  0.7664,  0.7679,  0.6648, -0.3996, -0.0641],\n",
       "          [ 0.0000,  0.5000, -1.1649, -0.3646,  0.4869,  2.2650, -1.7304],\n",
       "          [ 0.5000,  0.0000,  1.2469, -0.2773,  1.8645,  0.8814, -2.0055],\n",
       "          [ 0.0000,  0.5000, -0.7745, -0.3188,  0.4829,  0.4997, -1.4410],\n",
       "          [ 0.5000,  0.0000, -0.3965, -1.7517, -0.5492,  0.0108, -0.4146],\n",
       "          [ 0.0000,  0.5000, -1.1649, -0.3646,  0.4869,  2.2650, -1.7304]],\n",
       " \n",
       "         [[ 0.0000,  0.0000, -0.6502,  0.5513, -0.1958, -0.0841, -0.4167],\n",
       "          [ 0.0000,  0.0000, -1.1649, -0.3646,  0.4869,  2.2650, -1.7304],\n",
       "          [ 0.0000,  0.0000, -0.7774,  0.4287, -0.3641, -0.0154, -1.1078],\n",
       "          [ 0.0000,  0.0000, -0.8758,  0.8610,  0.5925, -1.7178, -0.2086],\n",
       "          [ 0.0000,  0.0000,  0.0000,  0.0000,  0.0000,  0.0000,  0.0000],\n",
       "          [ 0.0000,  0.0000,  0.0000,  0.0000,  0.0000,  0.0000,  0.0000],\n",
       "          [ 0.0000,  0.0000,  0.0000,  0.0000,  0.0000,  0.0000,  0.0000],\n",
       "          [ 0.0000,  0.0000,  0.0000,  0.0000,  0.0000,  0.0000,  0.0000]],\n",
       " \n",
       "         [[ 0.0000,  0.0000, -1.1649, -0.3646,  0.4869,  2.2650, -1.7304],\n",
       "          [ 0.0000,  1.0000, -0.6214, -0.2040,  0.4633,  1.3502, -0.2752],\n",
       "          [ 0.0000,  1.0000, -1.2388, -0.8532, -0.5534,  0.1772,  0.1094],\n",
       "          [ 0.0000,  0.0000,  0.0000,  0.0000,  0.0000,  0.0000,  0.0000],\n",
       "          [ 0.0000,  0.0000,  0.0000,  0.0000,  0.0000,  0.0000,  0.0000],\n",
       "          [ 0.0000,  0.0000,  0.0000,  0.0000,  0.0000,  0.0000,  0.0000],\n",
       "          [ 0.0000,  0.0000,  0.0000,  0.0000,  0.0000,  0.0000,  0.0000],\n",
       "          [ 0.0000,  0.0000,  0.0000,  0.0000,  0.0000,  0.0000,  0.0000]]]),\n",
       " tensor([[False, False, False, False, False, False,  True,  True],\n",
       "         [False, False, False, False,  True,  True,  True,  True],\n",
       "         [False, False, False, False, False, False, False, False],\n",
       "         [False, False, False, False,  True,  True,  True,  True],\n",
       "         [False, False, False,  True,  True,  True,  True,  True]]),\n",
       " [6, 4, 8, 4, 3])"
      ]
     },
     "execution_count": 13,
     "metadata": {},
     "output_type": "execute_result"
    }
   ],
   "source": [
    "string_pairs = [\n",
    "    (\"hello\", \"hallo\"),\n",
    "    (\"cat\", \"bat\"),\n",
    "    (\"python\", \"java\"),\n",
    "    (\"same\", \"same\"),\n",
    "    (\"a\", \"abc\")\n",
    "]\n",
    "\n",
    "all_characters_in_pairs = set()\n",
    "for pair in string_pairs:\n",
    "    for word in pair:\n",
    "        all_characters_in_pairs.update(word)\n",
    "\n",
    "string_pair_embedder = SetEmbedding(all_characters_in_pairs, 5)\n",
    "\n",
    "from LDistanceModel import create_batch_with_masks\n",
    "create_batch_with_masks(string_pairs, string_pair_embedder)"
   ]
  },
  {
   "cell_type": "code",
   "execution_count": 14,
   "metadata": {},
   "outputs": [
    {
     "name": "stderr",
     "output_type": "stream",
     "text": [
      "<>:8: SyntaxWarning: list indices must be integers or slices, not tuple; perhaps you missed a comma?\n",
      "<>:8: SyntaxWarning: list indices must be integers or slices, not tuple; perhaps you missed a comma?\n",
      "C:\\Users\\lsm0147\\AppData\\Local\\Temp\\ipykernel_26932\\2517620060.py:8: SyntaxWarning: list indices must be integers or slices, not tuple; perhaps you missed a comma?\n",
      "  [[1,2,3],[1,2,3]][:, 2]\n"
     ]
    },
    {
     "ename": "TypeError",
     "evalue": "list indices must be integers or slices, not tuple",
     "output_type": "error",
     "traceback": [
      "\u001b[31m---------------------------------------------------------------------------\u001b[39m",
      "\u001b[31mTypeError\u001b[39m                                 Traceback (most recent call last)",
      "\u001b[36mCell\u001b[39m\u001b[36m \u001b[39m\u001b[32mIn[14]\u001b[39m\u001b[32m, line 8\u001b[39m\n\u001b[32m      4\u001b[39m yeet = torch.tensor([\u001b[32m1\u001b[39m,\u001b[32m2\u001b[39m,\u001b[32m3\u001b[39m])\n\u001b[32m      6\u001b[39m torch.stack((bruh, yeet))[:, \u001b[32m2\u001b[39m]\n\u001b[32m----> \u001b[39m\u001b[32m8\u001b[39m \u001b[43m[\u001b[49m\u001b[43m[\u001b[49m\u001b[32;43m1\u001b[39;49m\u001b[43m,\u001b[49m\u001b[32;43m2\u001b[39;49m\u001b[43m,\u001b[49m\u001b[32;43m3\u001b[39;49m\u001b[43m]\u001b[49m\u001b[43m,\u001b[49m\u001b[43m[\u001b[49m\u001b[32;43m1\u001b[39;49m\u001b[43m,\u001b[49m\u001b[32;43m2\u001b[39;49m\u001b[43m,\u001b[49m\u001b[32;43m3\u001b[39;49m\u001b[43m]\u001b[49m\u001b[43m]\u001b[49m\u001b[43m[\u001b[49m\u001b[43m:\u001b[49m\u001b[43m,\u001b[49m\u001b[43m \u001b[49m\u001b[32;43m2\u001b[39;49m\u001b[43m]\u001b[49m\n",
      "\u001b[31mTypeError\u001b[39m: list indices must be integers or slices, not tuple"
     ]
    }
   ],
   "source": [
    "import torch\n",
    "\n",
    "bruh = torch.tensor([1,2,3])\n",
    "yeet = torch.tensor([1,2,3])\n",
    "\n",
    "torch.stack((bruh, yeet))[:, 2]\n",
    "\n",
    "[[1,2,3],[1,2,3]][:, 2]"
   ]
  },
  {
   "cell_type": "code",
   "execution_count": null,
   "metadata": {},
   "outputs": [],
   "source": [
    "import graphviz\n",
    "\n",
    "# Create a graphviz Digraph object\n",
    "dot = graphviz.Digraph()\n",
    "\n",
    "# Function to add nodes and edges to the graph in reverse order, skipping nodes with operation 'Nothing'\n",
    "def add_nodes_edges_reverse_skip_nothing(data, parent=None):\n",
    "    if data['operation'][0] == 'Nothing':\n",
    "        if data['history']:\n",
    "            add_nodes_edges_reverse_skip_nothing(data['history'], parent)\n",
    "        return\n",
    "    \n",
    "    node_id = str(id(data))\n",
    "    label = f\"Distance: {data['distance']}\\nOperation: {data['operation']}\"\n",
    "    dot.node(node_id, label)\n",
    "    \n",
    "    if parent:\n",
    "        dot.edge(node_id, parent)\n",
    "    \n",
    "    if data['history']:\n",
    "        add_nodes_edges_reverse_skip_nothing(data['history'], node_id)\n",
    "\n",
    "# Add nodes and edges starting from the root\n",
    "add_nodes_edges_reverse_skip_nothing(data)\n",
    "\n",
    "# Save the graph to a file\n",
    "dot.save('graph_reverse_skip_nothing_new.dot')\n",
    "\n",
    "# Render the graph to a PNG image file\n",
    "dot.render('graph_reverse_skip_nothing_new', format='png')\n",
    "\n",
    "print(\"Graph has been successfully created and saved as graph_reverse_skip_nothing_new.png.\")"
   ]
  }
 ],
 "metadata": {
  "kernelspec": {
   "display_name": ".venv",
   "language": "python",
   "name": "python3"
  },
  "language_info": {
   "codemirror_mode": {
    "name": "ipython",
    "version": 3
   },
   "file_extension": ".py",
   "mimetype": "text/x-python",
   "name": "python",
   "nbconvert_exporter": "python",
   "pygments_lexer": "ipython3",
   "version": "3.12.4"
  }
 },
 "nbformat": 4,
 "nbformat_minor": 2
}
