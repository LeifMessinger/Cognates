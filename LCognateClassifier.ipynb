{
  "cells": [
    {
      "cell_type": "code",
      "execution_count": null,
      "metadata": {
        "colab": {
          "base_uri": "https://localhost:8080/"
        },
        "id": "yPo6xTFF09PX",
        "outputId": "1cd6a171-aac8-4392-afa4-00b9f3b174c4"
      },
      "outputs": [],
      "source": [
        "import numpy as np\n",
        "import pandas as pd\n",
        "from torch.utils.data import TensorDataset, DataLoader\n",
        "import torch\n",
        "import torch.nn as nn\n",
        "import torch.optim as optim\n",
        "import torch.nn.functional as F\n",
        "#!pip install lingpy\n",
        "#import lingpy\n",
        "#from lingpy import ipa2tokens\n",
        "import re\n",
        "\n",
        "device = torch.device('cuda' if torch.cuda.is_available() else 'cpu')\n",
        "#device = torch.device(\"cpu\") #For debugging\n",
        "print(f\"Using device: {device}\")\n",
        "torch.set_default_device(device)"
      ]
    },
    {
      "cell_type": "code",
      "execution_count": null,
      "metadata": {
        "id": "s7sFvN-IcYr1"
      },
      "outputs": [],
      "source": [
        "seed = 42\n",
        "torch.manual_seed(seed)\n",
        "np.random.seed(seed)"
      ]
    },
    {
      "cell_type": "markdown",
      "metadata": {},
      "source": [
        "## IELEX"
      ]
    },
    {
      "cell_type": "code",
      "execution_count": null,
      "metadata": {},
      "outputs": [],
      "source": [
        "import pandas as pd\n",
        "from itertools import combinations\n",
        "\n",
        "df = pd.read_csv(\"data/ielexData.csv\")\n",
        "\n",
        "df = df[['Meaning', 'Phonological Form', 'cc']].dropna()\n",
        "df.columns = ['meaning', 'word', 'cognate_class']\n",
        "\n",
        "ilexPairs = []\n",
        "\n",
        "for _, group in df.groupby('meaning'):\n",
        "    entries = group.to_dict('records')\n",
        "    for w1, w2 in combinations(entries, 2):\n",
        "        word1 = str(w1['word'])\n",
        "        word2 = str(w2['word'])\n",
        "        label = int(w1['cognate_class'] == w2['cognate_class'])\n",
        "        ilexPairs.append((word1, word2, label))\n",
        "\n",
        "import csv\n",
        "\n",
        "# Initialize an empty set to store the languages\n",
        "languages = set()\n",
        "\n",
        "# Open and read the CSV file with UTF-8 encoding and error handling\n",
        "with open('data/ielexData.csv', 'r', encoding='utf-8', errors='replace') as file:\n",
        "    reader = csv.reader(file)\n",
        "    next(reader)  # Skip the header row\n",
        "    for row in reader:\n",
        "        languages.add(row[1])  # Add the language (second column) to the set\n",
        "\n",
        "# Print the set of languages\n",
        "print(languages)\n",
        "\n",
        "df"
      ]
    },
    {
      "cell_type": "markdown",
      "metadata": {},
      "source": [
        "## GLED\n",
        "\n",
        "### Preprocessing"
      ]
    },
    {
      "cell_type": "code",
      "execution_count": null,
      "metadata": {},
      "outputs": [],
      "source": [
        "df = pd.read_csv(\"data/gled.tsv\", delimiter=\"\\t\")\n",
        "\n",
        "df.rename(columns={'LANGUAGE_NAME': 'Language'}, inplace=True)\n",
        "\n",
        "df['Language'] = df['Language'].str.replace('Modern Greek', 'Greek', regex=False)\n",
        "\n",
        "df = df[df['Language'].isin(languages)]\n",
        "\n",
        "#df = df[df.apply(lambda row: row['DOCULECT'].lower() in row['Language'].lower(), axis=1)]\n",
        "\n",
        "#These languages seem to be aight\n",
        "#df = df[df[\"DOCULECT\"].str.contains(\"_2\")]\n",
        "\n",
        "#df.dropna(subset=[\"COGSET\"], inplace=True) All of them have a cogset\n",
        "\n",
        "df"
      ]
    },
    {
      "cell_type": "code",
      "execution_count": null,
      "metadata": {},
      "outputs": [],
      "source": [
        "df = df[['CONCEPT', 'FORM', 'COGSET']].dropna()\n",
        "df.columns = ['meaning', 'word', 'cognate_class']\n",
        "\n",
        "pairs = []\n",
        "\n",
        "from tqdm.notebook import tqdm\n",
        "for _, group in tqdm(df.groupby('meaning')):\n",
        "    #if len(pairs) > 100000:\n",
        "    #    break\n",
        "\n",
        "    entries = group.to_dict('records')\n",
        "    for w1, w2 in combinations(entries, 2):\n",
        "        word1 = str(w1['word'])\n",
        "        word2 = str(w2['word'])\n",
        "        if(word1 == word2):\n",
        "            continue\n",
        "        label = int(w1['cognate_class'] == w2['cognate_class'])\n",
        "        #if label == 1:\n",
        "        pairs.append((word1, word2, label))"
      ]
    },
    {
      "cell_type": "code",
      "execution_count": null,
      "metadata": {},
      "outputs": [],
      "source": [
        "pairs += ilexPairs"
      ]
    },
    {
      "cell_type": "code",
      "execution_count": null,
      "metadata": {},
      "outputs": [],
      "source": [
        "pairs"
      ]
    },
    {
      "cell_type": "code",
      "execution_count": null,
      "metadata": {},
      "outputs": [],
      "source": [
        "pairs_df = pd.DataFrame(pairs, columns=['Word1', 'Word2', 'Label'])\n",
        "pairs_df"
      ]
    },
    {
      "cell_type": "markdown",
      "metadata": {},
      "source": [
        "### Levenshtein distance preprocessing"
      ]
    },
    {
      "cell_type": "code",
      "execution_count": null,
      "metadata": {},
      "outputs": [],
      "source": [
        "all_pairs = [row[:2] for row in pairs]\n",
        "all_labels = [row[2] for row in pairs]\n",
        "#all_labels = [row[2:] for row in pairs]\n",
        "\n",
        "embedding_dim = 6\n",
        "\n",
        "def embedding_maker(embedding_dim=6):\n",
        "\tall_characters_in_pairs = set()\n",
        "\tfor pair in all_pairs: #For all words (indiscriminately)\n",
        "\t\tfor word in pair:\n",
        "\t\t\tall_characters_in_pairs.update(word)\n",
        "\t\t\t\n",
        "\tfrom embedding_stuff import IPAEmbedding\n",
        "\n",
        "\tipa_embedder = IPAEmbedding(all_characters_in_pairs, embedding_dim=embedding_dim, device=device)\n",
        "\treturn ipa_embedder.frozen()\n",
        "\n",
        "def generate_or_load_embeddings(embedding_maker, embedding_dim=6):\n",
        "\tfile_path = f\"data/embeddings/{embedding_dim}.joblib\"\n",
        "\t\n",
        "\timport os\n",
        "\timport joblib\n",
        "\tif os.path.exists(file_path):\n",
        "\t\t# Load the object from the file\n",
        "\t\tloaded_obj = joblib.load(file_path)\n",
        "\t\treturn loaded_obj\n",
        "\telse:\n",
        "\t\t# Ensure the directory exists\n",
        "\t\tos.makedirs(os.path.dirname(file_path), exist_ok=True)\n",
        "\t\t# Save the object to the file\n",
        "\t\tembeddings = embedding_maker(embedding_dim=embedding_dim)\n",
        "\t\tjoblib.dump(embeddings, file_path)\n",
        "\t\treturn embeddings\n",
        "\n",
        "ipa_embedder = generate_or_load_embeddings(embedding_maker, embedding_dim=embedding_dim)"
      ]
    },
    {
      "cell_type": "code",
      "execution_count": null,
      "metadata": {},
      "outputs": [],
      "source": [
        "import torch\n",
        "import matplotlib.pyplot as plt\n",
        "from sklearn.decomposition import PCA\n",
        "\n",
        "all_characters = set()\n",
        "for pair in all_pairs: #For all words (indiscriminately)\n",
        "    for word in pair:\n",
        "        all_characters.update(word)\n",
        "\n",
        "# Get embeddings for all characters\n",
        "embeddings = torch.stack([ipa_embedder(char).squeeze() for char in all_characters])\n",
        "\n",
        "# Perform PCA to reduce dimensions to 3 for visualization\n",
        "pca = PCA(n_components=3)\n",
        "reduced_embeddings = pca.fit_transform(embeddings.detach().cpu().numpy())\n",
        "\n",
        "# Plot the embeddings in 3D\n",
        "fig = plt.figure(figsize=(10, 10))\n",
        "ax = fig.add_subplot(111, projection='3d')\n",
        "for i, char in enumerate(all_characters):\n",
        "    ax.scatter(reduced_embeddings[i, 0], reduced_embeddings[i, 1], reduced_embeddings[i, 2])\n",
        "    ax.text(reduced_embeddings[i, 0], reduced_embeddings[i, 1], reduced_embeddings[i, 2], char, fontsize=12)\n",
        "ax.set_title('Character Embeddings Visualization')\n",
        "ax.set_xlabel('PCA Component 1')\n",
        "ax.set_ylabel('PCA Component 2')\n",
        "ax.set_zlabel('PCA Component 3')\n",
        "plt.show()\n"
      ]
    },
    {
      "cell_type": "code",
      "execution_count": null,
      "metadata": {},
      "outputs": [],
      "source": [
        "ipa_embedder = ipa_embedder.frozen()\n",
        "from LDistanceModel import create_batch_with_masks\n",
        "import torch\n",
        "import random\n",
        "from tqdm.notebook import tqdm\n",
        "ldistance_operations, ldistance_masks, ldistance_lengths = create_batch_with_masks(all_pairs, ipa_embedder, device)\n",
        "\n",
        "pairs = (ldistance_operations, ldistance_masks, torch.tensor(all_labels, device=device, dtype=torch.float))"
      ]
    },
    {
      "cell_type": "code",
      "execution_count": null,
      "metadata": {
        "id": "ADOIbTNAlzdh"
      },
      "outputs": [],
      "source": [
        "from sklearn.model_selection import LeaveOneOut, KFold, StratifiedKFold\n",
        "import numpy as np\n",
        "from tqdm.notebook import tqdm\n",
        "import time\n",
        "\n",
        "def cv_test_model(model_maker, has_history=False):\n",
        "\tcv = StratifiedKFold(n_splits = 40)\n",
        "\tepochs = 500\n",
        "\n",
        "\t# Store results for each fold\n",
        "\t# All of these are [epoch_number, fold, (confusion_matrix, accuracy)]\n",
        "\n",
        "\ttimestamps = min(30, epochs)\n",
        "\t\n",
        "\tdef is_epoch_return_epoch_number(epoch):\n",
        "\t\tif epoch == 0:\n",
        "\t\t\treturn 0\n",
        "\n",
        "\t\tinterval = epochs / timestamps\n",
        "\n",
        "\t\tif epoch % interval < 1:\n",
        "\t\t\treturn int(epoch // interval)\n",
        "\t\treturn None\n",
        "\t\n",
        "\tdef epoch_number_filter(epoch):\n",
        "\t\treturn is_epoch_return_epoch_number(epoch) != None\n",
        "\t\n",
        "\thistory = {\n",
        "\t\t\"train\": [\n",
        "\t\t\t[tuple((None, None)) for _ in range(cv.get_n_splits())]\n",
        "\t\t\tfor _ in range(timestamps)\n",
        "\t\t],\n",
        "\t\t\"test\": [\n",
        "\t\t\t[tuple((None, None)) for _ in range(cv.get_n_splits())]\n",
        "\t\t\tfor _ in range(timestamps)\n",
        "\t\t]\n",
        "\t}\n",
        "\n",
        "\tfor fold, (train_idx, test_idx) in enumerate(tqdm(cv.split(pairs[0], pairs[2].cpu()), total=cv.get_n_splits(), desc=\"CV Progress\")):\n",
        "\t\ttrain_idx = torch.tensor(train_idx)\n",
        "\t\ttest_idx = torch.tensor(test_idx)\n",
        "\n",
        "\t\t# Split data\n",
        "\t\ttrain_data = list(zip(torch.index_select(pairs[0], 0, train_idx), torch.index_select(pairs[1], 0, train_idx), torch.index_select(pairs[2], 0, train_idx)))\n",
        "\t\ttest_data = list(zip(torch.index_select(pairs[0], 0, test_idx), torch.index_select(pairs[1], 0, test_idx), torch.index_select(pairs[2], 0, test_idx)))\n",
        "\t\t\n",
        "\t\t# Create model for this fold\n",
        "\t\tmodel = model_maker()\n",
        "\t\tcriterion = nn.BCELoss()\n",
        "\t\toptimizer = optim.Adam(model.parameters(), lr=0.001)\n",
        "\t\t\n",
        "\t\ttrain_loader = DataLoader(train_data, batch_size=3200, shuffle=True, \n",
        "\t\t\t\t\t\t\t\tgenerator=torch.Generator(device=device.type))\n",
        "\t\ttest_loader = DataLoader(test_data, batch_size=3200, \n",
        "\t\t\t\t\t\t\t\tgenerator=torch.Generator(device=device.type))\n",
        "\t\t\n",
        "\t\t\n",
        "\t\tdef test_against_loader(model, loader):\n",
        "\t\t\t\"\"\"\n",
        "\t\t\tModified test_against_loader that returns predictions, probabilities, and true labels\n",
        "\t\t\t\"\"\"\n",
        "\t\t\tpredictions = []\n",
        "\t\t\tprobabilities = []  # Raw model outputs (probabilities)\n",
        "\t\t\ttrue_labels = []\n",
        "\n",
        "\t\t\twith torch.no_grad():\n",
        "\t\t\t\tfor word1_batch, word2_batch, label_batch in loader:\n",
        "\t\t\t\t\toutput_batch = model(word1_batch, word2_batch).squeeze()\n",
        "\t\t\t\t\tpredicted_batch = (output_batch > 0.5).int()\n",
        "\n",
        "\t\t\t\t\t# Store results for the entire batch\n",
        "\t\t\t\t\tpredictions.extend(predicted_batch.tolist())\n",
        "\t\t\t\t\tprobabilities.extend(output_batch.tolist())  # Store raw probabilities\n",
        "\t\t\t\t\ttrue_labels.extend(label_batch.int().tolist())\n",
        "\n",
        "\t\t\t# Calculate accuracy\n",
        "\t\t\taccuracy = sum([pred == true for pred, true in zip(predictions, true_labels)]) / len(true_labels)\n",
        "\n",
        "\t\t\t# Additional metrics\n",
        "\t\t\tfrom sklearn.metrics import confusion_matrix\n",
        "\t\t\t\n",
        "\t\t\t# Calculate confusion matrix\n",
        "\t\t\tconf_matrix = confusion_matrix(true_labels, predictions)\n",
        "\n",
        "\t\t\treturn conf_matrix, accuracy, probabilities, true_labels\n",
        "\n",
        "\t\t# Train model\n",
        "\t\tmodel.train()\n",
        "\t\tfor epoch in tqdm(range(epochs), desc=f\"Fold {fold}\", leave=False):\n",
        "\t\t\ttotal_loss = 0\n",
        "\t\t\tfor operations, masks, labels in train_loader:\t# Plural, because it's batches\n",
        "\t\t\t\toptimizer.zero_grad()\n",
        "\t\t\t\toutput = model(operations, masks).squeeze()\n",
        "\t\t\t\t#print(output.get_device(), label.get_device())\n",
        "\t\t\t\tloss = criterion(output, labels)\n",
        "\t\t\t\tloss.backward()\n",
        "\t\t\t\toptimizer.step()\n",
        "\t\t\t\ttotal_loss += loss.item()\n",
        "\t\t\t#print(f\"Epoch {epoch+1}/{epochs}, Loss: {total_loss / len(train_loader):.4f}\")\n",
        "\n",
        "\t\t\tif has_history:\n",
        "\t\t\t\tepoch_number = is_epoch_return_epoch_number(epoch)\n",
        "\t\t\t\tif epoch_number == None:\n",
        "\t\t\t\t\tcontinue\n",
        "\t\t\t\tmodel.eval()\n",
        "\t\t\t\thistory[\"train\"][epoch_number][fold] = test_against_loader(model, train_loader)\n",
        "\t\t\t\thistory[\"test\"][epoch_number][fold] = test_against_loader(model, test_loader)\n",
        "\n",
        "\t\t\t\t#Early cutoff if overfitting\n",
        "\t\t\t\tif history[\"train\"][epoch_number][fold][1] >= .99:\n",
        "\t\t\t\t\thistory[\"train\"] = history[\"train\"][0:epoch_number]\n",
        "\t\t\t\t\thistory[\"test\"] = history[\"test\"][0:epoch_number]\n",
        "\t\t\t\t\treturn history, model\n",
        "\t\t\t\t\n",
        "\t\t\t\tmodel.train()\n",
        "\n",
        "\t\tif not has_history:\n",
        "\t\t\thistory[\"test\"][-1][fold] = test_against_loader(model, test_loader)\n",
        "\n",
        "\treturn history, model"
      ]
    },
    {
      "cell_type": "code",
      "execution_count": null,
      "metadata": {},
      "outputs": [],
      "source": [
        "ipa_embedder.embedding_dim + 2"
      ]
    },
    {
      "cell_type": "code",
      "execution_count": null,
      "metadata": {},
      "outputs": [],
      "source": [
        "from LDistanceModel import LDistanceModel\n",
        "#from lstm_stuff import SimplePairNN\n",
        "def l_distance_model_maker():\n",
        "    hidden_dim = 32\n",
        "    num_layers = 4\n",
        "    num_head = 4\n",
        "\n",
        "    #return SimplePairNN(vocab_size, embedding_dim, hidden_dim)\n",
        "    return LDistanceModel(ipa_embedder, hidden_dim, num_layers, num_head)\n",
        "\n",
        "history, model = cv_test_model(l_distance_model_maker, has_history=True)"
      ]
    },
    {
      "cell_type": "code",
      "execution_count": null,
      "metadata": {},
      "outputs": [],
      "source": [
        "# Calculate overall statistics\n",
        "last_epoch_test_data = history[\"test\"][-1] #[fold, (pred, labels, accuracies, accuracy)]\n",
        "\n",
        "all_confusion = np.sum(np.array([fold_data[0] for fold_data in last_epoch_test_data]), axis=0)\n",
        "all_accuracies = [fold_data[1] for fold_data in last_epoch_test_data]\n",
        "\n",
        "overall_accuracy = np.mean(all_accuracies)\n",
        "correct_predictions = all_confusion[1][1] + all_confusion[0][0]\n",
        "total_predictions = np.sum(all_confusion)\n",
        "\n",
        "print(f\"\\nCross-Validation Results:\")\n",
        "print(f\"Overall Accuracy: {overall_accuracy * 100:.2f}%\")\n",
        "print(f\"Correct Predictions: {correct_predictions}/{total_predictions}\")\n",
        "\n",
        "fold_accuracies = [fold_data[1] for fold_data in history[\"test\"][-1]]\n",
        "\n",
        "from visualization_stuff import show_box_plot, show_confusion_matrix, show_train_and_test_accuracy_over_epochs\n",
        "show_box_plot(fold_accuracies)\n",
        "\n",
        "show_confusion_matrix(all_confusion)\n",
        "\n",
        "show_train_and_test_accuracy_over_epochs(history)"
      ]
    },
    {
      "cell_type": "code",
      "execution_count": null,
      "metadata": {},
      "outputs": [],
      "source": [
        "from visualization_stuff import show_multiple_roc_curves, show_roc_curves_over_epochs\n",
        "\n",
        "show_multiple_roc_curves(history)\n",
        "\n",
        "# Show ROC AUC progression over epochs (similar to accuracy plot)\n",
        "train_fold_aucs, test_fold_aucs = show_roc_curves_over_epochs(history, \"ROC AUC Over Epochs\")"
      ]
    },
    {
      "cell_type": "code",
      "execution_count": null,
      "metadata": {},
      "outputs": [],
      "source": [
        "def show_classification_report(history):\n",
        "    all_labels = []\n",
        "    all_predictions = []\n",
        "    for fold_data in history[\"test\"][-1]:\n",
        "        _, _, probabilities, true_labels = fold_data\n",
        "        all_labels.extend(true_labels)\n",
        "        all_predictions.extend([int(prob > .5) for prob in probabilities])\n",
        "    from sklearn.metrics import classification_report\n",
        "    print(classification_report(all_labels, all_predictions))\n",
        "\n",
        "show_classification_report(history)"
      ]
    },
    {
      "cell_type": "markdown",
      "metadata": {},
      "source": [
        "https://github.com/pytorch/examples/tree/main/word_language_model"
      ]
    }
  ],
  "metadata": {
    "colab": {
      "provenance": []
    },
    "kernelspec": {
      "display_name": ".venv",
      "language": "python",
      "name": "python3"
    },
    "language_info": {
      "codemirror_mode": {
        "name": "ipython",
        "version": 3
      },
      "file_extension": ".py",
      "mimetype": "text/x-python",
      "name": "python",
      "nbconvert_exporter": "python",
      "pygments_lexer": "ipython3",
      "version": "3.12.4"
    }
  },
  "nbformat": 4,
  "nbformat_minor": 0
}
