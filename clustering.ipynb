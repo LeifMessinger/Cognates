{
 "cells": [
  {
   "cell_type": "code",
   "execution_count": 1,
   "metadata": {},
   "outputs": [],
   "source": [
    "from graph_stuff import generate_all_clusters, score_cluster, create_groupings, evaluate_clusters\n",
    "\n",
    "def find_best_clustering(adj_matrix, conductance_weight=0.5, density_weight=0.5):\n",
    "    \"\"\"Find the best clustering using greedy approach.\"\"\"\n",
    "    n_nodes = adj_matrix.shape[0]\n",
    "    available_nodes = list(range(n_nodes))\n",
    "    clusters = []\n",
    "    \n",
    "    while len(available_nodes) > 1:\n",
    "        import math\n",
    "        max_cluster_size = min(math.floor(math.sqrt(len(n_nodes))), 8)\n",
    "        if max_cluster_size < 2:\n",
    "            break\n",
    "        \n",
    "        # Generate all possible clusters\n",
    "        possible_clusters = generate_all_clusters(available_nodes, max_cluster_size)\n",
    "        \n",
    "        best_cluster = None\n",
    "        best_score = -1\n",
    "        \n",
    "        # Find best cluster\n",
    "        from tqdm.notebook import tqdm\n",
    "        for cluster in tqdm(possible_clusters, desc=\"Possible clusters\", leave=False):\n",
    "            score = score_cluster(cluster, adj_matrix, conductance_weight, density_weight)\n",
    "            if score > best_score:\n",
    "                best_score = score\n",
    "                best_cluster = cluster\n",
    "        \n",
    "        if best_cluster is None or best_score <= 0:\n",
    "            break\n",
    "        \n",
    "        # Add best cluster and remove its nodes from available\n",
    "        clusters.append(best_cluster)\n",
    "        available_nodes = [node for node in available_nodes if node not in best_cluster]\n",
    "    \n",
    "    # Add remaining nodes as singleton clusters\n",
    "    for node in available_nodes:\n",
    "        clusters.append([node])\n",
    "    \n",
    "    return clusters\n",
    "\n",
    "def cluster_grouping(word_array, model, device='cpu'):\n",
    "    \"\"\"\n",
    "    Cluster a group of words using the model to create adjacency matrix.\n",
    "    \n",
    "    Args:\n",
    "        word_array: List of tensors representing IPA words\n",
    "        model: Trained transformer model\n",
    "        device: Device to run model on\n",
    "    \n",
    "    Returns:\n",
    "        List of clusters, where each cluster is a list of indices\n",
    "    \"\"\"\n",
    "    n_words = len(word_array)\n",
    "    \n",
    "    # Create adjacency matrix\n",
    "    adj_matrix = torch.zeros((n_words, n_words))\n",
    "    \n",
    "    model.eval()\n",
    "    with torch.no_grad():\n",
    "        for i in range(n_words):\n",
    "            for j in range(i+1, n_words):\n",
    "                # Create word pair tensor\n",
    "                word_pair = torch.stack([word_array[i], word_array[j]], dim=0).unsqueeze(0).to(device)\n",
    "                \n",
    "                # Create masks (True for padding tokens)\n",
    "                mask1 = (word_array[i] == 0).unsqueeze(0).to(device)\n",
    "                mask2 = (word_array[j] == 0).unsqueeze(0).to(device)\n",
    "                word_pair_masks = torch.stack([mask1, mask2], dim=1).to(device)\n",
    "                \n",
    "                # Get similarity score\n",
    "                similarity = model(word_pair, word_pair_masks).item()\n",
    "                \n",
    "                # Fill both triangles of the matrix\n",
    "                adj_matrix[i, j] = similarity\n",
    "                adj_matrix[j, i] = similarity\n",
    "\n",
    "    # Find best clustering\n",
    "    predicted_clusters = find_best_clustering(adj_matrix)\n",
    "    \n",
    "    return predicted_clusters\n",
    "\n",
    "def cluster_and_evaluate_all_meanings(df, model, ipa_to_ids, device='cpu'):\n",
    "    \"\"\"Process all word meanings and evaluate clustering using the modular approach.\"\"\"\n",
    "    # Step 1: Preprocessing\n",
    "    groupings = create_groupings(df, ipa_to_ids)\n",
    "    \n",
    "    results = {}\n",
    "    \n",
    "    # Step 2 & 3: Clustering and Evaluation\n",
    "    from tqdm.notebook import tqdm\n",
    "    for meaning, (word_array, cognate_class_label_array) in tqdm(groupings.items(), total=len(groupings), desc=\"Groupings\"):\n",
    "        #print(f\"\\nProcessing meaning: {meaning}\")\n",
    "        #print(f\"Number of words: {len(word_array)}\")\n",
    "        \n",
    "        # Step 2: Clustering\n",
    "        predicted_clusters = cluster_grouping(word_array, model, device)\n",
    "        \n",
    "        # Step 3: Evaluation\n",
    "        evaluation_results = evaluate_clusters(predicted_clusters, cognate_class_label_array, meaning)\n",
    "        \n",
    "        results[meaning] = evaluation_results\n",
    "        \n",
    "        #print(f\"Predicted clusters: {predicted_clusters}\")\n",
    "        #print(f\"True classes: {cognate_class_label_array}\")\n",
    "        #print(f\"Accuracy: {evaluation_results['accuracy']:.3f}\")\n",
    "    \n",
    "    return results"
   ]
  },
  {
   "cell_type": "code",
   "execution_count": 2,
   "metadata": {},
   "outputs": [
    {
     "data": {
      "text/plain": [
       "TransformerCognateModel(\n",
       "  (embedder): Embedding(129, 34, padding_idx=0)\n",
       "  (pos_encoder): PositionalEncoding(\n",
       "    (dropout): Dropout(p=0.2, inplace=False)\n",
       "  )\n",
       "  (transformer_encoder): TransformerEncoder(\n",
       "    (layers): ModuleList(\n",
       "      (0-3): 4 x TransformerEncoderLayer(\n",
       "        (self_attn): MultiheadAttention(\n",
       "          (out_proj): NonDynamicallyQuantizableLinear(in_features=34, out_features=34, bias=True)\n",
       "        )\n",
       "        (linear1): Linear(in_features=34, out_features=128, bias=True)\n",
       "        (dropout): Dropout(p=0.2, inplace=False)\n",
       "        (linear2): Linear(in_features=128, out_features=34, bias=True)\n",
       "        (norm1): LayerNorm((34,), eps=1e-05, elementwise_affine=True)\n",
       "        (norm2): LayerNorm((34,), eps=1e-05, elementwise_affine=True)\n",
       "        (dropout1): Dropout(p=0.2, inplace=False)\n",
       "        (dropout2): Dropout(p=0.2, inplace=False)\n",
       "      )\n",
       "    )\n",
       "  )\n",
       "  (fc): Sequential(\n",
       "    (0): Linear(in_features=68, out_features=64, bias=True)\n",
       "    (1): ReLU()\n",
       "    (2): Linear(in_features=64, out_features=1, bias=True)\n",
       "    (3): Sigmoid()\n",
       "  )\n",
       "  (cosine_similarity): CosineSimilarity()\n",
       ")"
      ]
     },
     "execution_count": 2,
     "metadata": {},
     "output_type": "execute_result"
    }
   ],
   "source": [
    "import pandas as pd\n",
    "import torch\n",
    "import numpy as np\n",
    "\n",
    "# Load data\n",
    "df = pd.read_csv('data/ielexData.csv')\n",
    "\n",
    "# Create IPA to ID mapping\n",
    "import joblib\n",
    "ipa_embedder = joblib.load(\"data/embeddings/34.joblib\")\n",
    "ipa_to_ids = ipa_embedder.char_to_idx\n",
    "\n",
    "# Example of using the modular approach:\n",
    "from transformer_stuff import TransformerCognateModel\n",
    "model = torch.load('TransformerCognateModel_34.pt', weights_only=False)\n",
    "device = torch.device('cpu' if torch.cuda.is_available() else 'cpu')\n",
    "model.to(device)"
   ]
  },
  {
   "cell_type": "code",
   "execution_count": 3,
   "metadata": {},
   "outputs": [
    {
     "data": {
      "application/vnd.jupyter.widget-view+json": {
       "model_id": "062d2cbb0afe4eef8c13087f861db863",
       "version_major": 2,
       "version_minor": 0
      },
      "text/plain": [
       "Creating batches:   0%|          | 0/47274 [00:00<?, ?it/s]"
      ]
     },
     "metadata": {},
     "output_type": "display_data"
    },
    {
     "name": "stdout",
     "output_type": "stream",
     "text": [
      "torch.Size([1600, 2, 39]) torch.Size([1600, 2, 39])\n",
      "torch.Size([1600, 2, 39]) torch.Size([1600, 2, 39])\n",
      "torch.Size([1600, 2, 39]) torch.Size([1600, 2, 39])\n",
      "torch.Size([1600, 2, 39]) torch.Size([1600, 2, 39])\n",
      "torch.Size([1600, 2, 39]) torch.Size([1600, 2, 39])\n",
      "torch.Size([1600, 2, 39]) torch.Size([1600, 2, 39])\n",
      "torch.Size([1600, 2, 39]) torch.Size([1600, 2, 39])\n",
      "torch.Size([1600, 2, 39]) torch.Size([1600, 2, 39])\n",
      "torch.Size([1600, 2, 39]) torch.Size([1600, 2, 39])\n",
      "torch.Size([1600, 2, 39]) torch.Size([1600, 2, 39])\n",
      "torch.Size([1600, 2, 39]) torch.Size([1600, 2, 39])\n",
      "torch.Size([1600, 2, 39]) torch.Size([1600, 2, 39])\n",
      "torch.Size([1600, 2, 39]) torch.Size([1600, 2, 39])\n",
      "torch.Size([1600, 2, 39]) torch.Size([1600, 2, 39])\n",
      "torch.Size([1600, 2, 39]) torch.Size([1600, 2, 39])\n",
      "torch.Size([1600, 2, 39]) torch.Size([1600, 2, 39])\n",
      "torch.Size([1600, 2, 39]) torch.Size([1600, 2, 39])\n",
      "torch.Size([1600, 2, 39]) torch.Size([1600, 2, 39])\n",
      "torch.Size([1600, 2, 39]) torch.Size([1600, 2, 39])\n",
      "torch.Size([1600, 2, 39]) torch.Size([1600, 2, 39])\n",
      "torch.Size([1600, 2, 39]) torch.Size([1600, 2, 39])\n",
      "torch.Size([1600, 2, 39]) torch.Size([1600, 2, 39])\n",
      "torch.Size([1600, 2, 39]) torch.Size([1600, 2, 39])\n",
      "torch.Size([1600, 2, 39]) torch.Size([1600, 2, 39])\n",
      "torch.Size([1600, 2, 39]) torch.Size([1600, 2, 39])\n",
      "torch.Size([1600, 2, 39]) torch.Size([1600, 2, 39])\n",
      "torch.Size([1600, 2, 39]) torch.Size([1600, 2, 39])\n",
      "torch.Size([1600, 2, 39]) torch.Size([1600, 2, 39])\n",
      "torch.Size([1600, 2, 39]) torch.Size([1600, 2, 39])\n",
      "torch.Size([874, 2, 39]) torch.Size([874, 2, 39])\n",
      "              precision    recall  f1-score   support\n",
      "\n",
      "           0       0.77      0.79      0.78     33221\n",
      "           1       0.47      0.45      0.46     14053\n",
      "\n",
      "    accuracy                           0.69     47274\n",
      "   macro avg       0.62      0.62      0.62     47274\n",
      "weighted avg       0.68      0.69      0.68     47274\n",
      "\n"
     ]
    }
   ],
   "source": [
    "import pandas as pd\n",
    "from itertools import combinations\n",
    "\n",
    "df = pd.read_csv(\"data/ielexData.csv\")\n",
    "\n",
    "df = df[['Meaning', 'Phonological Form', 'cc']].dropna()\n",
    "df.columns = ['meaning', 'word', 'cognate_class']\n",
    "\n",
    "ielexPairs = []\n",
    "\n",
    "for _, group in df.groupby('meaning'):\n",
    "    entries = group.to_dict('records')\n",
    "    for w1, w2 in combinations(entries, 2):\n",
    "        word1 = str(w1['word'])\n",
    "        word2 = str(w2['word'])\n",
    "        label = int(w1['cognate_class'] == w2['cognate_class'])\n",
    "        ielexPairs.append((word1, word2, label))\n",
    "\n",
    "def preprocess(all_pairs, ipa_embedder, device):\n",
    "    from itertools import chain\n",
    "\n",
    "    max_length = 0\n",
    "    for pair in all_pairs:\n",
    "        for word in pair:\n",
    "            length = len(word)\n",
    "            if length > max_length:\n",
    "                max_length = length\n",
    "    \n",
    "    batches = torch.empty((len(all_pairs), 2, max_length), dtype=torch.int, device=device)\n",
    "    batches_masks = torch.zeros((len(all_pairs), 2, max_length), dtype=torch.bool, device=device)\n",
    "\n",
    "    from tqdm.notebook import tqdm\n",
    "    for pair_index, pair in tqdm(enumerate(all_pairs), total=len(all_pairs), desc=\"Creating batches\"):\n",
    "        for word_index, word in enumerate(pair):\n",
    "            for letter_index, letter in enumerate(word):\n",
    "                batches[pair_index, word_index, letter_index] = ipa_embedder.char_to_idx[letter]\n",
    "            \n",
    "            batches_masks[pair_index, word_index, len(word):] = True\n",
    "\n",
    "    return (batches, batches_masks, max_length)\n",
    "\n",
    "all_pairs = [row[:2] for row in ielexPairs]\n",
    "all_labels = [row[2] for row in ielexPairs]\n",
    "\n",
    "ldistance_operations, ldistance_masks, max_length = preprocess(all_pairs, ipa_embedder, device=device)\n",
    "test_data = list(zip(ldistance_operations, ldistance_masks))\n",
    "\n",
    "from torch.utils.data import DataLoader\n",
    "test_loader = DataLoader(test_data, batch_size=1600, generator=torch.Generator(device=torch.get_default_device().type))\n",
    "\n",
    "predicted_labels = []\n",
    "\n",
    "from tqdm.notebook import tqdm\n",
    "for batch in tqdm(test_loader, desc=\"Testing IELEX against GLED\"):\n",
    "    batch_predicted_labels = model(*batch).squeeze()\n",
    "    batch_predicted_labels = (batch_predicted_labels > 0.5).int()\n",
    "    predicted_labels.extend(batch_predicted_labels.tolist())\n",
    "\n",
    "from sklearn.metrics import classification_report\n",
    "print(classification_report(all_labels, predicted_labels))"
   ]
  },
  {
   "cell_type": "code",
   "execution_count": null,
   "metadata": {},
   "outputs": [],
   "source": [
    "# Process a single meaning group\n",
    "# meaning = 'few'\n",
    "# if meaning in groupings:\n",
    "#     word_array, cognate_labels = groupings[meaning]\n",
    "#     clusters = cluster_grouping(word_array, model, device)\n",
    "#     results = evaluate_clusters(clusters, cognate_labels, meaning)\n",
    "#     print(f\"Results for '{meaning}': {results}\")\n",
    "\n",
    "# Or process all meanings\n",
    "all_results = cluster_and_evaluate_all_meanings(df, model, ipa_to_ids, device)"
   ]
  },
  {
   "cell_type": "code",
   "execution_count": 5,
   "metadata": {},
   "outputs": [
    {
     "name": "stdout",
     "output_type": "stream",
     "text": [
      "\n",
      "Overall average accuracy: 0.677\n",
      "\n",
      "Overall f1 score: 0.309\n",
      "\n",
      "Overall nmi score: 0.496\n"
     ]
    }
   ],
   "source": [
    "accuracies = [r['accuracy'] for r in all_results.values()]\n",
    "print(f\"\\nOverall average accuracy: {np.mean(accuracies):.3f}\")\n",
    "\n",
    "f1s = [r['f1'] for r in all_results.values()]\n",
    "print(f\"\\nOverall f1 score: {np.mean(f1s):.3f}\")\n",
    "\n",
    "nmis = [r['nmi'] for r in all_results.values()]\n",
    "print(f\"\\nOverall nmi score: {np.mean(nmis):.3f}\")"
   ]
  },
  {
   "cell_type": "code",
   "execution_count": 4,
   "metadata": {},
   "outputs": [
    {
     "data": {
      "image/png": "[encoded data removed]",
      "text/plain": [
       "<Figure size 400x100 with 1 Axes>"
      ]
     },
     "metadata": {},
     "output_type": "display_data"
    },
    {
     "data": {
      "image/png": "[encoded data removed]",
      "text/plain": [
       "<Figure size 400x100 with 1 Axes>"
      ]
     },
     "metadata": {},
     "output_type": "display_data"
    },
    {
     "data": {
      "image/png": "[encoded data removed]",
      "text/plain": [
       "<Figure size 400x100 with 1 Axes>"
      ]
     },
     "metadata": {},
     "output_type": "display_data"
    }
   ],
   "source": [
    "import matplotlib.pyplot as plt\n",
    "from visualization_stuff import show_box_plot\n",
    "\n",
    "show_box_plot(accuracies, title=\"IELEX Clustering Accuracies\")\n",
    "show_box_plot(f1s, title=\"IELEX Clustering F1 Scores\")\n",
    "show_box_plot(nmis, title=\"IELEX Clustering NMI scores\")"
   ]
  }
 ],
 "metadata": {
  "kernelspec": {
   "display_name": ".venv",
   "language": "python",
   "name": "python3"
  },
  "language_info": {
   "codemirror_mode": {
    "name": "ipython",
    "version": 3
   },
   "file_extension": ".py",
   "mimetype": "text/x-python",
   "name": "python",
   "nbconvert_exporter": "python",
   "pygments_lexer": "ipython3",
   "version": "3.12.4"
  }
 },
 "nbformat": 4,
 "nbformat_minor": 2
}
