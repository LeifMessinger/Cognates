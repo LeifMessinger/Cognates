{
 "cells": [
  {
   "cell_type": "code",
   "execution_count": 1,
   "metadata": {},
   "outputs": [],
   "source": [
    "from graph_stuff import generate_all_clusters, score_cluster, create_groupings, evaluate_clusters\n",
    "\n",
    "def find_best_clustering(adj_matrix, conductance_weight=0.5, density_weight=0.5):\n",
    "    \"\"\"Find the best clustering using greedy approach.\"\"\"\n",
    "    n_nodes = adj_matrix.shape[0]\n",
    "    available_nodes = list(range(n_nodes))\n",
    "    clusters = []\n",
    "    \n",
    "    while len(available_nodes) > 1:\n",
    "        import math\n",
    "        max_cluster_size = min(math.floor(math.sqrt(len(available_nodes))), 7)\n",
    "        if max_cluster_size < 2:\n",
    "            break\n",
    "        \n",
    "        # Generate all possible clusters\n",
    "        possible_clusters = generate_all_clusters(available_nodes, max_cluster_size)\n",
    "        \n",
    "        best_cluster = None\n",
    "        best_score = -1\n",
    "        \n",
    "        # Find best cluster\n",
    "        from tqdm.notebook import tqdm\n",
    "        for cluster in tqdm(possible_clusters, desc=\"Possible clusters\", leave=False):\n",
    "            score = score_cluster(cluster, adj_matrix, conductance_weight, density_weight)\n",
    "            if score > best_score:\n",
    "                best_score = score\n",
    "                best_cluster = cluster\n",
    "        \n",
    "        if best_cluster is None or best_score <= 0:\n",
    "            break\n",
    "        \n",
    "        # Add best cluster and remove its nodes from available\n",
    "        clusters.append(best_cluster)\n",
    "        available_nodes = [node for node in available_nodes if node not in best_cluster]\n",
    "    \n",
    "    # Add remaining nodes as singleton clusters\n",
    "    for node in available_nodes:\n",
    "        clusters.append([node])\n",
    "    \n",
    "    return clusters\n",
    "\n",
    "def cluster_grouping(word_array, model, device='cpu'):\n",
    "    \"\"\"\n",
    "    Cluster a group of words using the model to create adjacency matrix.\n",
    "    \n",
    "    Args:\n",
    "        word_array: List of tensors representing IPA words\n",
    "        model: Trained transformer model\n",
    "        device: Device to run model on\n",
    "    \n",
    "    Returns:\n",
    "        List of clusters, where each cluster is a list of indices\n",
    "    \"\"\"\n",
    "    n_words = len(word_array)\n",
    "    \n",
    "    # Create adjacency matrix\n",
    "    adj_matrix = torch.zeros((n_words, n_words))\n",
    "    \n",
    "    model.eval()\n",
    "    with torch.no_grad():\n",
    "        for i in range(n_words):\n",
    "            for j in range(i+1, n_words):\n",
    "                # Create word pair tensor\n",
    "                word_pair = torch.stack([word_array[i], word_array[j]], dim=0).unsqueeze(0).to(device)\n",
    "                \n",
    "                # Create masks (True for padding tokens)\n",
    "                mask1 = (word_array[i] == 0).unsqueeze(0).to(device)\n",
    "                mask2 = (word_array[j] == 0).unsqueeze(0).to(device)\n",
    "                word_pair_masks = torch.stack([mask1, mask2], dim=1).to(device)\n",
    "                \n",
    "                # Get similarity score\n",
    "                similarity = model(word_pair, word_pair_masks).item()\n",
    "                \n",
    "                # Fill both triangles of the matrix\n",
    "                adj_matrix[i, j] = similarity\n",
    "                adj_matrix[j, i] = similarity\n",
    "\n",
    "    # Find best clustering\n",
    "    predicted_clusters = find_best_clustering(adj_matrix)\n",
    "    \n",
    "    return predicted_clusters\n",
    "\n",
    "def cluster_and_evaluate_all_meanings(df, model, ipa_to_ids, device='cpu'):\n",
    "    \"\"\"Process all word meanings and evaluate clustering using the modular approach.\"\"\"\n",
    "    # Step 1: Preprocessing\n",
    "    groupings = create_groupings(df, ipa_to_ids)\n",
    "    \n",
    "    results = {}\n",
    "    \n",
    "    # Step 2 & 3: Clustering and Evaluation\n",
    "    from tqdm.notebook import tqdm\n",
    "    for meaning, (word_array, cognate_class_label_array) in tqdm(groupings.items(), total=len(groupings), desc=\"Groupings\"):\n",
    "        #print(f\"\\nProcessing meaning: {meaning}\")\n",
    "        #print(f\"Number of words: {len(word_array)}\")\n",
    "        \n",
    "        # Step 2: Clustering\n",
    "        predicted_clusters = cluster_grouping(word_array, model, device)\n",
    "        \n",
    "        # Step 3: Evaluation\n",
    "        evaluation_results = evaluate_clusters(predicted_clusters, cognate_class_label_array, meaning)\n",
    "        \n",
    "        results[meaning] = evaluation_results\n",
    "        \n",
    "        #print(f\"Predicted clusters: {predicted_clusters}\")\n",
    "        #print(f\"True classes: {cognate_class_label_array}\")\n",
    "        #print(f\"Accuracy: {evaluation_results['accuracy']:.3f}\")\n",
    "    \n",
    "    return results"
   ]
  },
  {
   "cell_type": "code",
   "execution_count": 2,
   "metadata": {},
   "outputs": [
    {
     "data": {
      "application/vnd.jupyter.widget-view+json": {
       "model_id": "094aa7fa47e94b62bd9b6b606a114e46",
       "version_major": 2,
       "version_minor": 0
      },
      "text/plain": [
       "Groupings:   0%|          | 0/208 [00:00<?, ?it/s]"
      ]
     },
     "metadata": {},
     "output_type": "display_data"
    },
    {
     "name": "stderr",
     "output_type": "stream",
     "text": [
      "c:\\Users\\lsm0147\\Documents\\Cognates\\.venv\\Lib\\site-packages\\torch\\nn\\modules\\transformer.py:505: UserWarning: The PyTorch API of nested tensors is in prototype stage and will change in the near future. We recommend specifying layout=torch.jagged when constructing a nested tensor, as this layout receives active development, has better operator coverage, and works with torch.compile. (Triggered internally at C:\\actions-runner\\_work\\pytorch\\pytorch\\pytorch\\aten\\src\\ATen\\NestedTensorImpl.cpp:182.)\n",
      "  output = torch._nested_tensor_from_mask(\n"
     ]
    },
    {
     "data": {
      "application/vnd.jupyter.widget-view+json": {
       "model_id": "04d85a67f71245579db8ad0a4b167a48",
       "version_major": 2,
       "version_minor": 0
      },
      "text/plain": [
       "Possible clusters:   0%|          | 0/12926 [00:00<?, ?it/s]"
      ]
     },
     "metadata": {},
     "output_type": "display_data"
    },
    {
     "data": {
      "application/vnd.jupyter.widget-view+json": {
       "model_id": "f095da0859d349d78ac3446056e01c2a",
       "version_major": 2,
       "version_minor": 0
      },
      "text/plain": [
       "Possible clusters:   0%|          | 0/6175 [00:00<?, ?it/s]"
      ]
     },
     "metadata": {},
     "output_type": "display_data"
    },
    {
     "data": {
      "application/vnd.jupyter.widget-view+json": {
       "model_id": "872cc2a8a8384f2ba13d4ae14504acfc",
       "version_major": 2,
       "version_minor": 0
      },
      "text/plain": [
       "Possible clusters:   0%|          | 0/2500 [00:00<?, ?it/s]"
      ]
     },
     "metadata": {},
     "output_type": "display_data"
    },
    {
     "data": {
      "application/vnd.jupyter.widget-view+json": {
       "model_id": "94d7f52d98304e33bdd7ae720421ab6b",
       "version_major": 2,
       "version_minor": 0
      },
      "text/plain": [
       "Possible clusters:   0%|          | 0/286 [00:00<?, ?it/s]"
      ]
     },
     "metadata": {},
     "output_type": "display_data"
    },
    {
     "data": {
      "application/vnd.jupyter.widget-view+json": {
       "model_id": "5b987072ba13421dace842990e304d5f",
       "version_major": 2,
       "version_minor": 0
      },
      "text/plain": [
       "Possible clusters:   0%|          | 0/120 [00:00<?, ?it/s]"
      ]
     },
     "metadata": {},
     "output_type": "display_data"
    },
    {
     "data": {
      "application/vnd.jupyter.widget-view+json": {
       "model_id": "e9ac91423eb847e9ae8b811bdc74a1c0",
       "version_major": 2,
       "version_minor": 0
      },
      "text/plain": [
       "Possible clusters:   0%|          | 0/15 [00:00<?, ?it/s]"
      ]
     },
     "metadata": {},
     "output_type": "display_data"
    },
    {
     "data": {
      "application/vnd.jupyter.widget-view+json": {
       "model_id": "65347114366648edac3a0fdc22e2da32",
       "version_major": 2,
       "version_minor": 0
      },
      "text/plain": [
       "Possible clusters:   0%|          | 0/6 [00:00<?, ?it/s]"
      ]
     },
     "metadata": {},
     "output_type": "display_data"
    },
    {
     "data": {
      "application/vnd.jupyter.widget-view+json": {
       "model_id": "9ccaf8411f5d4a50939504a76bb03922",
       "version_major": 2,
       "version_minor": 0
      },
      "text/plain": [
       "Possible clusters:   0%|          | 0/6175 [00:00<?, ?it/s]"
      ]
     },
     "metadata": {},
     "output_type": "display_data"
    },
    {
     "data": {
      "application/vnd.jupyter.widget-view+json": {
       "model_id": "b27a5f7e98b747ce813dae7bc53b7397",
       "version_major": 2,
       "version_minor": 0
      },
      "text/plain": [
       "Possible clusters:   0%|          | 0/2500 [00:00<?, ?it/s]"
      ]
     },
     "metadata": {},
     "output_type": "display_data"
    },
    {
     "data": {
      "application/vnd.jupyter.widget-view+json": {
       "model_id": "1d74ea3a0b394ffca0d6ff38e68d8428",
       "version_major": 2,
       "version_minor": 0
      },
      "text/plain": [
       "Possible clusters:   0%|          | 0/286 [00:00<?, ?it/s]"
      ]
     },
     "metadata": {},
     "output_type": "display_data"
    },
    {
     "data": {
      "application/vnd.jupyter.widget-view+json": {
       "model_id": "7e5e3f440db2410c87de37018f86ea6a",
       "version_major": 2,
       "version_minor": 0
      },
      "text/plain": [
       "Possible clusters:   0%|          | 0/120 [00:00<?, ?it/s]"
      ]
     },
     "metadata": {},
     "output_type": "display_data"
    },
    {
     "data": {
      "application/vnd.jupyter.widget-view+json": {
       "model_id": "f77205913b384814a045f4a594d9562e",
       "version_major": 2,
       "version_minor": 0
      },
      "text/plain": [
       "Possible clusters:   0%|          | 0/15 [00:00<?, ?it/s]"
      ]
     },
     "metadata": {},
     "output_type": "display_data"
    },
    {
     "data": {
      "application/vnd.jupyter.widget-view+json": {
       "model_id": "cbc73a6914e14d9b852ea967a552fda9",
       "version_major": 2,
       "version_minor": 0
      },
      "text/plain": [
       "Possible clusters:   0%|          | 0/6 [00:00<?, ?it/s]"
      ]
     },
     "metadata": {},
     "output_type": "display_data"
    },
    {
     "data": {
      "application/vnd.jupyter.widget-view+json": {
       "model_id": "faa65cc003a44c2fb469ce5516fcadb5",
       "version_major": 2,
       "version_minor": 0
      },
      "text/plain": [
       "Possible clusters:   0%|          | 0/9086 [00:00<?, ?it/s]"
      ]
     },
     "metadata": {},
     "output_type": "display_data"
    },
    {
     "data": {
      "application/vnd.jupyter.widget-view+json": {
       "model_id": "d8e522001e5e4391b450f9d8b5db2112",
       "version_major": 2,
       "version_minor": 0
      },
      "text/plain": [
       "Possible clusters:   0%|          | 0/4029 [00:00<?, ?it/s]"
      ]
     },
     "metadata": {},
     "output_type": "display_data"
    },
    {
     "data": {
      "application/vnd.jupyter.widget-view+json": {
       "model_id": "777e0589e3574c73aebcc3a14a472fb3",
       "version_major": 2,
       "version_minor": 0
      },
      "text/plain": [
       "Possible clusters:   0%|          | 0/455 [00:00<?, ?it/s]"
      ]
     },
     "metadata": {},
     "output_type": "display_data"
    },
    {
     "data": {
      "application/vnd.jupyter.widget-view+json": {
       "model_id": "75593266000b41e09cfcff9f6cc189c4",
       "version_major": 2,
       "version_minor": 0
      },
      "text/plain": [
       "Possible clusters:   0%|          | 0/220 [00:00<?, ?it/s]"
      ]
     },
     "metadata": {},
     "output_type": "display_data"
    },
    {
     "data": {
      "application/vnd.jupyter.widget-view+json": {
       "model_id": "ea9922eef0e043fba14491a3e0aa4c16",
       "version_major": 2,
       "version_minor": 0
      },
      "text/plain": [
       "Possible clusters:   0%|          | 0/28 [00:00<?, ?it/s]"
      ]
     },
     "metadata": {},
     "output_type": "display_data"
    },
    {
     "data": {
      "application/vnd.jupyter.widget-view+json": {
       "model_id": "cd2a8b5a5e294e0a9432999d22077b1c",
       "version_major": 2,
       "version_minor": 0
      },
      "text/plain": [
       "Possible clusters:   0%|          | 0/15 [00:00<?, ?it/s]"
      ]
     },
     "metadata": {},
     "output_type": "display_data"
    },
    {
     "data": {
      "application/vnd.jupyter.widget-view+json": {
       "model_id": "60f844d619ec47efa922e675a0620dfa",
       "version_major": 2,
       "version_minor": 0
      },
      "text/plain": [
       "Possible clusters:   0%|          | 0/6 [00:00<?, ?it/s]"
      ]
     },
     "metadata": {},
     "output_type": "display_data"
    },
    {
     "data": {
      "application/vnd.jupyter.widget-view+json": {
       "model_id": "5b292d8886af4b3f8522e80228446975",
       "version_major": 2,
       "version_minor": 0
      },
      "text/plain": [
       "Possible clusters:   0%|          | 0/6175 [00:00<?, ?it/s]"
      ]
     },
     "metadata": {},
     "output_type": "display_data"
    },
    {
     "data": {
      "application/vnd.jupyter.widget-view+json": {
       "model_id": "e97d4298f08e4c93bcec7a4d431a79ec",
       "version_major": 2,
       "version_minor": 0
      },
      "text/plain": [
       "Possible clusters:   0%|          | 0/2500 [00:00<?, ?it/s]"
      ]
     },
     "metadata": {},
     "output_type": "display_data"
    },
    {
     "data": {
      "application/vnd.jupyter.widget-view+json": {
       "model_id": "c974409d2d684eec8ab05321b62e836f",
       "version_major": 2,
       "version_minor": 0
      },
      "text/plain": [
       "Possible clusters:   0%|          | 0/286 [00:00<?, ?it/s]"
      ]
     },
     "metadata": {},
     "output_type": "display_data"
    },
    {
     "data": {
      "application/vnd.jupyter.widget-view+json": {
       "model_id": "ef5d835a960b477b8fcf49fe9a9a5eb1",
       "version_major": 2,
       "version_minor": 0
      },
      "text/plain": [
       "Possible clusters:   0%|          | 0/120 [00:00<?, ?it/s]"
      ]
     },
     "metadata": {},
     "output_type": "display_data"
    },
    {
     "data": {
      "application/vnd.jupyter.widget-view+json": {
       "model_id": "c46c5455abc94f27930396d6172768e8",
       "version_major": 2,
       "version_minor": 0
      },
      "text/plain": [
       "Possible clusters:   0%|          | 0/15 [00:00<?, ?it/s]"
      ]
     },
     "metadata": {},
     "output_type": "display_data"
    },
    {
     "data": {
      "application/vnd.jupyter.widget-view+json": {
       "model_id": "9b83cc3627f34c8a892430521ed2db47",
       "version_major": 2,
       "version_minor": 0
      },
      "text/plain": [
       "Possible clusters:   0%|          | 0/6 [00:00<?, ?it/s]"
      ]
     },
     "metadata": {},
     "output_type": "display_data"
    },
    {
     "data": {
      "application/vnd.jupyter.widget-view+json": {
       "model_id": "4625f7c318e84484a4bf21b1313075b2",
       "version_major": 2,
       "version_minor": 0
      },
      "text/plain": [
       "Possible clusters:   0%|          | 0/15 [00:00<?, ?it/s]"
      ]
     },
     "metadata": {},
     "output_type": "display_data"
    },
    {
     "data": {
      "application/vnd.jupyter.widget-view+json": {
       "model_id": "54c3050d2a7048a6bccc317e90fc8572",
       "version_major": 2,
       "version_minor": 0
      },
      "text/plain": [
       "Possible clusters:   0%|          | 0/6 [00:00<?, ?it/s]"
      ]
     },
     "metadata": {},
     "output_type": "display_data"
    },
    {
     "data": {
      "application/vnd.jupyter.widget-view+json": {
       "model_id": "1872411c8a094a27895514b21e5930c3",
       "version_major": 2,
       "version_minor": 0
      },
      "text/plain": [
       "Possible clusters:   0%|          | 0/7525 [00:00<?, ?it/s]"
      ]
     },
     "metadata": {},
     "output_type": "display_data"
    },
    {
     "data": {
      "application/vnd.jupyter.widget-view+json": {
       "model_id": "6a85171e519543298085235579f05569",
       "version_major": 2,
       "version_minor": 0
      },
      "text/plain": [
       "Possible clusters:   0%|          | 0/3196 [00:00<?, ?it/s]"
      ]
     },
     "metadata": {},
     "output_type": "display_data"
    },
    {
     "data": {
      "application/vnd.jupyter.widget-view+json": {
       "model_id": "e70cba57341f4387b90cf063e4fb4f93",
       "version_major": 2,
       "version_minor": 0
      },
      "text/plain": [
       "Possible clusters:   0%|          | 0/364 [00:00<?, ?it/s]"
      ]
     },
     "metadata": {},
     "output_type": "display_data"
    },
    {
     "data": {
      "application/vnd.jupyter.widget-view+json": {
       "model_id": "00498cf9fb314576a137eb769a7d4d55",
       "version_major": 2,
       "version_minor": 0
      },
      "text/plain": [
       "Possible clusters:   0%|          | 0/165 [00:00<?, ?it/s]"
      ]
     },
     "metadata": {},
     "output_type": "display_data"
    },
    {
     "data": {
      "application/vnd.jupyter.widget-view+json": {
       "model_id": "165f31a31c7746fcabc27392d13d0964",
       "version_major": 2,
       "version_minor": 0
      },
      "text/plain": [
       "Possible clusters:   0%|          | 0/21 [00:00<?, ?it/s]"
      ]
     },
     "metadata": {},
     "output_type": "display_data"
    },
    {
     "data": {
      "application/vnd.jupyter.widget-view+json": {
       "model_id": "53b5ceac67404b30be37aa4019f831f0",
       "version_major": 2,
       "version_minor": 0
      },
      "text/plain": [
       "Possible clusters:   0%|          | 0/10 [00:00<?, ?it/s]"
      ]
     },
     "metadata": {},
     "output_type": "display_data"
    },
    {
     "data": {
      "application/vnd.jupyter.widget-view+json": {
       "model_id": "c58fcae0253c45589623f07b9e3fe220",
       "version_major": 2,
       "version_minor": 0
      },
      "text/plain": [
       "Possible clusters:   0%|          | 0/284240 [00:00<?, ?it/s]"
      ]
     },
     "metadata": {},
     "output_type": "display_data"
    },
    {
     "data": {
      "application/vnd.jupyter.widget-view+json": {
       "model_id": "fa689f7f778742a69ec3a5c073a7c387",
       "version_major": 2,
       "version_minor": 0
      },
      "text/plain": [
       "Possible clusters:   0%|          | 0/122409 [00:00<?, ?it/s]"
      ]
     },
     "metadata": {},
     "output_type": "display_data"
    },
    {
     "data": {
      "application/vnd.jupyter.widget-view+json": {
       "model_id": "3a8a8c4c1d6842c190e6b3bcb42a1974",
       "version_major": 2,
       "version_minor": 0
      },
      "text/plain": [
       "Possible clusters:   0%|          | 0/10879 [00:00<?, ?it/s]"
      ]
     },
     "metadata": {},
     "output_type": "display_data"
    },
    {
     "data": {
      "application/vnd.jupyter.widget-view+json": {
       "model_id": "ce604fe88d1b44208a03267eafc493df",
       "version_major": 2,
       "version_minor": 0
      },
      "text/plain": [
       "Possible clusters:   0%|          | 0/5016 [00:00<?, ?it/s]"
      ]
     },
     "metadata": {},
     "output_type": "display_data"
    },
    {
     "data": {
      "application/vnd.jupyter.widget-view+json": {
       "model_id": "42c553c72a1641879219605ce60984f5",
       "version_major": 2,
       "version_minor": 0
      },
      "text/plain": [
       "Possible clusters:   0%|          | 0/560 [00:00<?, ?it/s]"
      ]
     },
     "metadata": {},
     "output_type": "display_data"
    },
    {
     "data": {
      "application/vnd.jupyter.widget-view+json": {
       "model_id": "e38c582b840447869fa84c36b47a7478",
       "version_major": 2,
       "version_minor": 0
      },
      "text/plain": [
       "Possible clusters:   0%|          | 0/286 [00:00<?, ?it/s]"
      ]
     },
     "metadata": {},
     "output_type": "display_data"
    },
    {
     "data": {
      "application/vnd.jupyter.widget-view+json": {
       "model_id": "ba86ba9dd7534d138b7997e4737a6d52",
       "version_major": 2,
       "version_minor": 0
      },
      "text/plain": [
       "Possible clusters:   0%|          | 0/120 [00:00<?, ?it/s]"
      ]
     },
     "metadata": {},
     "output_type": "display_data"
    },
    {
     "data": {
      "application/vnd.jupyter.widget-view+json": {
       "model_id": "4e6223a8f9e947c5b032c8ed1ab8f8e4",
       "version_major": 2,
       "version_minor": 0
      },
      "text/plain": [
       "Possible clusters:   0%|          | 0/15 [00:00<?, ?it/s]"
      ]
     },
     "metadata": {},
     "output_type": "display_data"
    },
    {
     "data": {
      "application/vnd.jupyter.widget-view+json": {
       "model_id": "10bbd64b022e4650889584fc218dc7f2",
       "version_major": 2,
       "version_minor": 0
      },
      "text/plain": [
       "Possible clusters:   0%|          | 0/6 [00:00<?, ?it/s]"
      ]
     },
     "metadata": {},
     "output_type": "display_data"
    },
    {
     "data": {
      "application/vnd.jupyter.widget-view+json": {
       "model_id": "2409fa8d854e4136b52ea9973bb2675a",
       "version_major": 2,
       "version_minor": 0
      },
      "text/plain": [
       "Possible clusters:   0%|          | 0/7525 [00:00<?, ?it/s]"
      ]
     },
     "metadata": {},
     "output_type": "display_data"
    },
    {
     "data": {
      "application/vnd.jupyter.widget-view+json": {
       "model_id": "1b773237fd4045fc8923ac32a0c5ac8c",
       "version_major": 2,
       "version_minor": 0
      },
      "text/plain": [
       "Possible clusters:   0%|          | 0/3196 [00:00<?, ?it/s]"
      ]
     },
     "metadata": {},
     "output_type": "display_data"
    },
    {
     "data": {
      "application/vnd.jupyter.widget-view+json": {
       "model_id": "acc4914d834341d6a906e907d0ba4933",
       "version_major": 2,
       "version_minor": 0
      },
      "text/plain": [
       "Possible clusters:   0%|          | 0/364 [00:00<?, ?it/s]"
      ]
     },
     "metadata": {},
     "output_type": "display_data"
    },
    {
     "data": {
      "application/vnd.jupyter.widget-view+json": {
       "model_id": "d37ce5f239e345f58e59942de09a533b",
       "version_major": 2,
       "version_minor": 0
      },
      "text/plain": [
       "Possible clusters:   0%|          | 0/165 [00:00<?, ?it/s]"
      ]
     },
     "metadata": {},
     "output_type": "display_data"
    },
    {
     "data": {
      "application/vnd.jupyter.widget-view+json": {
       "model_id": "a189b7314e1744cba6ffb1679c23566b",
       "version_major": 2,
       "version_minor": 0
      },
      "text/plain": [
       "Possible clusters:   0%|          | 0/21 [00:00<?, ?it/s]"
      ]
     },
     "metadata": {},
     "output_type": "display_data"
    },
    {
     "data": {
      "application/vnd.jupyter.widget-view+json": {
       "model_id": "b0d0f10783b249cb96c3194625364b66",
       "version_major": 2,
       "version_minor": 0
      },
      "text/plain": [
       "Possible clusters:   0%|          | 0/10 [00:00<?, ?it/s]"
      ]
     },
     "metadata": {},
     "output_type": "display_data"
    },
    {
     "data": {
      "application/vnd.jupyter.widget-view+json": {
       "model_id": "59cf4da0b579427f8258d47e00cde5b7",
       "version_major": 2,
       "version_minor": 0
      },
      "text/plain": [
       "Possible clusters:   0%|          | 0/146566 [00:00<?, ?it/s]"
      ]
     },
     "metadata": {},
     "output_type": "display_data"
    },
    {
     "data": {
      "application/vnd.jupyter.widget-view+json": {
       "model_id": "e83db646fa884ca1b44af62169359dfa",
       "version_major": 2,
       "version_minor": 0
      },
      "text/plain": [
       "Possible clusters:   0%|          | 0/12926 [00:00<?, ?it/s]"
      ]
     },
     "metadata": {},
     "output_type": "display_data"
    },
    {
     "data": {
      "application/vnd.jupyter.widget-view+json": {
       "model_id": "c22ab3fce14746bb8c5b7ffd378eb1f0",
       "version_major": 2,
       "version_minor": 0
      },
      "text/plain": [
       "Possible clusters:   0%|          | 0/6175 [00:00<?, ?it/s]"
      ]
     },
     "metadata": {},
     "output_type": "display_data"
    },
    {
     "data": {
      "application/vnd.jupyter.widget-view+json": {
       "model_id": "167b9d8abe95496ea0a675e2ff3de927",
       "version_major": 2,
       "version_minor": 0
      },
      "text/plain": [
       "Possible clusters:   0%|          | 0/2500 [00:00<?, ?it/s]"
      ]
     },
     "metadata": {},
     "output_type": "display_data"
    },
    {
     "data": {
      "application/vnd.jupyter.widget-view+json": {
       "model_id": "b76a369ae2784aa59ecaff4462937141",
       "version_major": 2,
       "version_minor": 0
      },
      "text/plain": [
       "Possible clusters:   0%|          | 0/286 [00:00<?, ?it/s]"
      ]
     },
     "metadata": {},
     "output_type": "display_data"
    },
    {
     "data": {
      "application/vnd.jupyter.widget-view+json": {
       "model_id": "2c85197578f44dd6a5239d24280fa13f",
       "version_major": 2,
       "version_minor": 0
      },
      "text/plain": [
       "Possible clusters:   0%|          | 0/120 [00:00<?, ?it/s]"
      ]
     },
     "metadata": {},
     "output_type": "display_data"
    },
    {
     "data": {
      "application/vnd.jupyter.widget-view+json": {
       "model_id": "70950b4e8d9544d19de66b215a0b18ca",
       "version_major": 2,
       "version_minor": 0
      },
      "text/plain": [
       "Possible clusters:   0%|          | 0/15 [00:00<?, ?it/s]"
      ]
     },
     "metadata": {},
     "output_type": "display_data"
    },
    {
     "data": {
      "application/vnd.jupyter.widget-view+json": {
       "model_id": "ccc2a325afce4b8484cb3a76b5b56017",
       "version_major": 2,
       "version_minor": 0
      },
      "text/plain": [
       "Possible clusters:   0%|          | 0/6 [00:00<?, ?it/s]"
      ]
     },
     "metadata": {},
     "output_type": "display_data"
    },
    {
     "data": {
      "application/vnd.jupyter.widget-view+json": {
       "model_id": "7ca02c0fb0ea4bd49182c87bbd45f8e4",
       "version_major": 2,
       "version_minor": 0
      },
      "text/plain": [
       "Possible clusters:   0%|          | 0/10879 [00:00<?, ?it/s]"
      ]
     },
     "metadata": {},
     "output_type": "display_data"
    },
    {
     "data": {
      "application/vnd.jupyter.widget-view+json": {
       "model_id": "50afcb8eff3e46688a69c753f0d87f65",
       "version_major": 2,
       "version_minor": 0
      },
      "text/plain": [
       "Possible clusters:   0%|          | 0/5016 [00:00<?, ?it/s]"
      ]
     },
     "metadata": {},
     "output_type": "display_data"
    },
    {
     "data": {
      "application/vnd.jupyter.widget-view+json": {
       "model_id": "abeff53ebc3d4c859359be54e3ac0ffe",
       "version_major": 2,
       "version_minor": 0
      },
      "text/plain": [
       "Possible clusters:   0%|          | 0/560 [00:00<?, ?it/s]"
      ]
     },
     "metadata": {},
     "output_type": "display_data"
    },
    {
     "data": {
      "application/vnd.jupyter.widget-view+json": {
       "model_id": "789aca6a3cad4c76a585df0d3d63a680",
       "version_major": 2,
       "version_minor": 0
      },
      "text/plain": [
       "Possible clusters:   0%|          | 0/286 [00:00<?, ?it/s]"
      ]
     },
     "metadata": {},
     "output_type": "display_data"
    },
    {
     "data": {
      "application/vnd.jupyter.widget-view+json": {
       "model_id": "2fa7e7b415634db085cf2251e2ed1546",
       "version_major": 2,
       "version_minor": 0
      },
      "text/plain": [
       "Possible clusters:   0%|          | 0/120 [00:00<?, ?it/s]"
      ]
     },
     "metadata": {},
     "output_type": "display_data"
    },
    {
     "data": {
      "application/vnd.jupyter.widget-view+json": {
       "model_id": "dbd1e7ea1f7346f3a0ee2e290e63a91b",
       "version_major": 2,
       "version_minor": 0
      },
      "text/plain": [
       "Possible clusters:   0%|          | 0/15 [00:00<?, ?it/s]"
      ]
     },
     "metadata": {},
     "output_type": "display_data"
    },
    {
     "data": {
      "application/vnd.jupyter.widget-view+json": {
       "model_id": "a81d556b3bf24b2b9daa5333a0a10baa",
       "version_major": 2,
       "version_minor": 0
      },
      "text/plain": [
       "Possible clusters:   0%|          | 0/6 [00:00<?, ?it/s]"
      ]
     },
     "metadata": {},
     "output_type": "display_data"
    },
    {
     "data": {
      "application/vnd.jupyter.widget-view+json": {
       "model_id": "79ed60a9da9d4500be03928bc272d135",
       "version_major": 2,
       "version_minor": 0
      },
      "text/plain": [
       "Possible clusters:   0%|          | 0/83655 [00:00<?, ?it/s]"
      ]
     },
     "metadata": {},
     "output_type": "display_data"
    },
    {
     "data": {
      "application/vnd.jupyter.widget-view+json": {
       "model_id": "e0fd6cc9e3ec48c4ae1ffefdf350d50b",
       "version_major": 2,
       "version_minor": 0
      },
      "text/plain": [
       "Possible clusters:   0%|          | 0/7525 [00:00<?, ?it/s]"
      ]
     },
     "metadata": {},
     "output_type": "display_data"
    },
    {
     "data": {
      "application/vnd.jupyter.widget-view+json": {
       "model_id": "4d56037fab0f478f831fd6cc680c29d3",
       "version_major": 2,
       "version_minor": 0
      },
      "text/plain": [
       "Possible clusters:   0%|          | 0/3196 [00:00<?, ?it/s]"
      ]
     },
     "metadata": {},
     "output_type": "display_data"
    },
    {
     "data": {
      "application/vnd.jupyter.widget-view+json": {
       "model_id": "19c0fb282e7a493bbb2857d9487c6cba",
       "version_major": 2,
       "version_minor": 0
      },
      "text/plain": [
       "Possible clusters:   0%|          | 0/364 [00:00<?, ?it/s]"
      ]
     },
     "metadata": {},
     "output_type": "display_data"
    },
    {
     "data": {
      "application/vnd.jupyter.widget-view+json": {
       "model_id": "ab0301a270f14d68989d649600a6892a",
       "version_major": 2,
       "version_minor": 0
      },
      "text/plain": [
       "Possible clusters:   0%|          | 0/165 [00:00<?, ?it/s]"
      ]
     },
     "metadata": {},
     "output_type": "display_data"
    },
    {
     "data": {
      "application/vnd.jupyter.widget-view+json": {
       "model_id": "506b2aa83c5b4ac080aaf65096f2265f",
       "version_major": 2,
       "version_minor": 0
      },
      "text/plain": [
       "Possible clusters:   0%|          | 0/21 [00:00<?, ?it/s]"
      ]
     },
     "metadata": {},
     "output_type": "display_data"
    },
    {
     "data": {
      "application/vnd.jupyter.widget-view+json": {
       "model_id": "4e7f08e28c934977b3d0b7a065cf6f9a",
       "version_major": 2,
       "version_minor": 0
      },
      "text/plain": [
       "Possible clusters:   0%|          | 0/10 [00:00<?, ?it/s]"
      ]
     },
     "metadata": {},
     "output_type": "display_data"
    },
    {
     "data": {
      "application/vnd.jupyter.widget-view+json": {
       "model_id": "931a74b6694e4d7fa86cb480bf0bd18e",
       "version_major": 2,
       "version_minor": 0
      },
      "text/plain": [
       "Possible clusters:   0%|          | 0/12926 [00:00<?, ?it/s]"
      ]
     },
     "metadata": {},
     "output_type": "display_data"
    },
    {
     "data": {
      "application/vnd.jupyter.widget-view+json": {
       "model_id": "c8f3bcab2e0f4626b982cea7c6107bf0",
       "version_major": 2,
       "version_minor": 0
      },
      "text/plain": [
       "Possible clusters:   0%|          | 0/6175 [00:00<?, ?it/s]"
      ]
     },
     "metadata": {},
     "output_type": "display_data"
    },
    {
     "data": {
      "application/vnd.jupyter.widget-view+json": {
       "model_id": "7aaab53bcfec4254bf09501e548f4e29",
       "version_major": 2,
       "version_minor": 0
      },
      "text/plain": [
       "Possible clusters:   0%|          | 0/2500 [00:00<?, ?it/s]"
      ]
     },
     "metadata": {},
     "output_type": "display_data"
    },
    {
     "data": {
      "application/vnd.jupyter.widget-view+json": {
       "model_id": "126d18b6117d498dabf1432d82f65405",
       "version_major": 2,
       "version_minor": 0
      },
      "text/plain": [
       "Possible clusters:   0%|          | 0/286 [00:00<?, ?it/s]"
      ]
     },
     "metadata": {},
     "output_type": "display_data"
    },
    {
     "data": {
      "application/vnd.jupyter.widget-view+json": {
       "model_id": "17ca099a6ebc4b1b9f3fca21872da7cd",
       "version_major": 2,
       "version_minor": 0
      },
      "text/plain": [
       "Possible clusters:   0%|          | 0/120 [00:00<?, ?it/s]"
      ]
     },
     "metadata": {},
     "output_type": "display_data"
    },
    {
     "data": {
      "application/vnd.jupyter.widget-view+json": {
       "model_id": "563020acbdaf4bc08987e9c980e3bda6",
       "version_major": 2,
       "version_minor": 0
      },
      "text/plain": [
       "Possible clusters:   0%|          | 0/15 [00:00<?, ?it/s]"
      ]
     },
     "metadata": {},
     "output_type": "display_data"
    },
    {
     "data": {
      "application/vnd.jupyter.widget-view+json": {
       "model_id": "4432d0dd038442dd8aa7150e794ed8b0",
       "version_major": 2,
       "version_minor": 0
      },
      "text/plain": [
       "Possible clusters:   0%|          | 0/6 [00:00<?, ?it/s]"
      ]
     },
     "metadata": {},
     "output_type": "display_data"
    },
    {
     "data": {
      "application/vnd.jupyter.widget-view+json": {
       "model_id": "c6a1aa4dcd524cc4ac1f3829927cc00c",
       "version_major": 2,
       "version_minor": 0
      },
      "text/plain": [
       "Possible clusters:   0%|          | 0/10879 [00:00<?, ?it/s]"
      ]
     },
     "metadata": {},
     "output_type": "display_data"
    },
    {
     "data": {
      "application/vnd.jupyter.widget-view+json": {
       "model_id": "dbf2fa6eb9334c36ba24167d41c69e0a",
       "version_major": 2,
       "version_minor": 0
      },
      "text/plain": [
       "Possible clusters:   0%|          | 0/5016 [00:00<?, ?it/s]"
      ]
     },
     "metadata": {},
     "output_type": "display_data"
    },
    {
     "data": {
      "application/vnd.jupyter.widget-view+json": {
       "model_id": "d1d5ef059b6f424d8ba27ab84de9bae2",
       "version_major": 2,
       "version_minor": 0
      },
      "text/plain": [
       "Possible clusters:   0%|          | 0/560 [00:00<?, ?it/s]"
      ]
     },
     "metadata": {},
     "output_type": "display_data"
    },
    {
     "data": {
      "application/vnd.jupyter.widget-view+json": {
       "model_id": "270647c6d4ae4dbe96fd5ddd5c4f936c",
       "version_major": 2,
       "version_minor": 0
      },
      "text/plain": [
       "Possible clusters:   0%|          | 0/286 [00:00<?, ?it/s]"
      ]
     },
     "metadata": {},
     "output_type": "display_data"
    },
    {
     "data": {
      "application/vnd.jupyter.widget-view+json": {
       "model_id": "9c5c2135b27c41a68ccdee0f63a8d611",
       "version_major": 2,
       "version_minor": 0
      },
      "text/plain": [
       "Possible clusters:   0%|          | 0/120 [00:00<?, ?it/s]"
      ]
     },
     "metadata": {},
     "output_type": "display_data"
    },
    {
     "data": {
      "application/vnd.jupyter.widget-view+json": {
       "model_id": "1d535ea319dc4a2e8932ecb106927f3c",
       "version_major": 2,
       "version_minor": 0
      },
      "text/plain": [
       "Possible clusters:   0%|          | 0/15 [00:00<?, ?it/s]"
      ]
     },
     "metadata": {},
     "output_type": "display_data"
    },
    {
     "data": {
      "application/vnd.jupyter.widget-view+json": {
       "model_id": "51a2f248e449445a8ff9ceb2a6395d6a",
       "version_major": 2,
       "version_minor": 0
      },
      "text/plain": [
       "Possible clusters:   0%|          | 0/6 [00:00<?, ?it/s]"
      ]
     },
     "metadata": {},
     "output_type": "display_data"
    },
    {
     "data": {
      "application/vnd.jupyter.widget-view+json": {
       "model_id": "d5b3db21fc354daba5f0423e914aef22",
       "version_major": 2,
       "version_minor": 0
      },
      "text/plain": [
       "Possible clusters:   0%|          | 0/9086 [00:00<?, ?it/s]"
      ]
     },
     "metadata": {},
     "output_type": "display_data"
    },
    {
     "data": {
      "application/vnd.jupyter.widget-view+json": {
       "model_id": "0bb3167d11a940f8a1c43de433d87c13",
       "version_major": 2,
       "version_minor": 0
      },
      "text/plain": [
       "Possible clusters:   0%|          | 0/4029 [00:00<?, ?it/s]"
      ]
     },
     "metadata": {},
     "output_type": "display_data"
    },
    {
     "data": {
      "application/vnd.jupyter.widget-view+json": {
       "model_id": "db786135d9744af68f7c92c4b34934a2",
       "version_major": 2,
       "version_minor": 0
      },
      "text/plain": [
       "Possible clusters:   0%|          | 0/455 [00:00<?, ?it/s]"
      ]
     },
     "metadata": {},
     "output_type": "display_data"
    },
    {
     "data": {
      "application/vnd.jupyter.widget-view+json": {
       "model_id": "d9b4e1083a704939a7eb3f57a3d65328",
       "version_major": 2,
       "version_minor": 0
      },
      "text/plain": [
       "Possible clusters:   0%|          | 0/220 [00:00<?, ?it/s]"
      ]
     },
     "metadata": {},
     "output_type": "display_data"
    },
    {
     "data": {
      "application/vnd.jupyter.widget-view+json": {
       "model_id": "11a12fc31138420885deb366b05fa5db",
       "version_major": 2,
       "version_minor": 0
      },
      "text/plain": [
       "Possible clusters:   0%|          | 0/28 [00:00<?, ?it/s]"
      ]
     },
     "metadata": {},
     "output_type": "display_data"
    },
    {
     "data": {
      "application/vnd.jupyter.widget-view+json": {
       "model_id": "e5bf59d98d6246d989a6cd27fd10e644",
       "version_major": 2,
       "version_minor": 0
      },
      "text/plain": [
       "Possible clusters:   0%|          | 0/15 [00:00<?, ?it/s]"
      ]
     },
     "metadata": {},
     "output_type": "display_data"
    },
    {
     "data": {
      "application/vnd.jupyter.widget-view+json": {
       "model_id": "eca37abe47a54d48ab335431d11f5084",
       "version_major": 2,
       "version_minor": 0
      },
      "text/plain": [
       "Possible clusters:   0%|          | 0/6 [00:00<?, ?it/s]"
      ]
     },
     "metadata": {},
     "output_type": "display_data"
    },
    {
     "data": {
      "application/vnd.jupyter.widget-view+json": {
       "model_id": "d42d9d2dc1644f7d8275da940a2e4f3f",
       "version_major": 2,
       "version_minor": 0
      },
      "text/plain": [
       "Possible clusters:   0%|          | 0/5016 [00:00<?, ?it/s]"
      ]
     },
     "metadata": {},
     "output_type": "display_data"
    },
    {
     "data": {
      "application/vnd.jupyter.widget-view+json": {
       "model_id": "ac0a509689f340abb960151715319ebd",
       "version_major": 2,
       "version_minor": 0
      },
      "text/plain": [
       "Possible clusters:   0%|          | 0/560 [00:00<?, ?it/s]"
      ]
     },
     "metadata": {},
     "output_type": "display_data"
    },
    {
     "data": {
      "application/vnd.jupyter.widget-view+json": {
       "model_id": "9b98b1bea1284d62981b8ad95aca1c07",
       "version_major": 2,
       "version_minor": 0
      },
      "text/plain": [
       "Possible clusters:   0%|          | 0/286 [00:00<?, ?it/s]"
      ]
     },
     "metadata": {},
     "output_type": "display_data"
    },
    {
     "data": {
      "application/vnd.jupyter.widget-view+json": {
       "model_id": "124fae4fe39349969d49289f9645170c",
       "version_major": 2,
       "version_minor": 0
      },
      "text/plain": [
       "Possible clusters:   0%|          | 0/120 [00:00<?, ?it/s]"
      ]
     },
     "metadata": {},
     "output_type": "display_data"
    },
    {
     "data": {
      "application/vnd.jupyter.widget-view+json": {
       "model_id": "67ed9ab7ca7b45beaadd8335e5e3f352",
       "version_major": 2,
       "version_minor": 0
      },
      "text/plain": [
       "Possible clusters:   0%|          | 0/15 [00:00<?, ?it/s]"
      ]
     },
     "metadata": {},
     "output_type": "display_data"
    },
    {
     "data": {
      "application/vnd.jupyter.widget-view+json": {
       "model_id": "c3ed7e3ab4754cceb58212ee314f6077",
       "version_major": 2,
       "version_minor": 0
      },
      "text/plain": [
       "Possible clusters:   0%|          | 0/6 [00:00<?, ?it/s]"
      ]
     },
     "metadata": {},
     "output_type": "display_data"
    },
    {
     "data": {
      "application/vnd.jupyter.widget-view+json": {
       "model_id": "381165d607224e54a791d800871d8234",
       "version_major": 2,
       "version_minor": 0
      },
      "text/plain": [
       "Possible clusters:   0%|          | 0/10879 [00:00<?, ?it/s]"
      ]
     },
     "metadata": {},
     "output_type": "display_data"
    },
    {
     "data": {
      "application/vnd.jupyter.widget-view+json": {
       "model_id": "972f2fd4e2154b3ca16f9eabdc136d4b",
       "version_major": 2,
       "version_minor": 0
      },
      "text/plain": [
       "Possible clusters:   0%|          | 0/5016 [00:00<?, ?it/s]"
      ]
     },
     "metadata": {},
     "output_type": "display_data"
    },
    {
     "data": {
      "application/vnd.jupyter.widget-view+json": {
       "model_id": "986140b88f6c410988e4a17579b95f6f",
       "version_major": 2,
       "version_minor": 0
      },
      "text/plain": [
       "Possible clusters:   0%|          | 0/560 [00:00<?, ?it/s]"
      ]
     },
     "metadata": {},
     "output_type": "display_data"
    },
    {
     "data": {
      "application/vnd.jupyter.widget-view+json": {
       "model_id": "d6547b38d688413d9c81c5498d34f60d",
       "version_major": 2,
       "version_minor": 0
      },
      "text/plain": [
       "Possible clusters:   0%|          | 0/286 [00:00<?, ?it/s]"
      ]
     },
     "metadata": {},
     "output_type": "display_data"
    },
    {
     "data": {
      "application/vnd.jupyter.widget-view+json": {
       "model_id": "fddaae7689ed4952ab0528f327261aa3",
       "version_major": 2,
       "version_minor": 0
      },
      "text/plain": [
       "Possible clusters:   0%|          | 0/120 [00:00<?, ?it/s]"
      ]
     },
     "metadata": {},
     "output_type": "display_data"
    },
    {
     "data": {
      "application/vnd.jupyter.widget-view+json": {
       "model_id": "a7f2448118da49129202f9b7d375ee11",
       "version_major": 2,
       "version_minor": 0
      },
      "text/plain": [
       "Possible clusters:   0%|          | 0/15 [00:00<?, ?it/s]"
      ]
     },
     "metadata": {},
     "output_type": "display_data"
    },
    {
     "data": {
      "application/vnd.jupyter.widget-view+json": {
       "model_id": "47b88cb045074b648f9ceea24e09abc0",
       "version_major": 2,
       "version_minor": 0
      },
      "text/plain": [
       "Possible clusters:   0%|          | 0/6 [00:00<?, ?it/s]"
      ]
     },
     "metadata": {},
     "output_type": "display_data"
    },
    {
     "data": {
      "application/vnd.jupyter.widget-view+json": {
       "model_id": "b3747003c7f84b51ac75a7a97e25296f",
       "version_major": 2,
       "version_minor": 0
      },
      "text/plain": [
       "Possible clusters:   0%|          | 0/6175 [00:00<?, ?it/s]"
      ]
     },
     "metadata": {},
     "output_type": "display_data"
    },
    {
     "data": {
      "application/vnd.jupyter.widget-view+json": {
       "model_id": "594f7d3dfe2541c2911e64abde3dd100",
       "version_major": 2,
       "version_minor": 0
      },
      "text/plain": [
       "Possible clusters:   0%|          | 0/2500 [00:00<?, ?it/s]"
      ]
     },
     "metadata": {},
     "output_type": "display_data"
    },
    {
     "data": {
      "application/vnd.jupyter.widget-view+json": {
       "model_id": "e55d057d6f0e4b519fbf345539fc0781",
       "version_major": 2,
       "version_minor": 0
      },
      "text/plain": [
       "Possible clusters:   0%|          | 0/286 [00:00<?, ?it/s]"
      ]
     },
     "metadata": {},
     "output_type": "display_data"
    },
    {
     "data": {
      "application/vnd.jupyter.widget-view+json": {
       "model_id": "35a79de7a31e4ad6bc1a6642bd7e2723",
       "version_major": 2,
       "version_minor": 0
      },
      "text/plain": [
       "Possible clusters:   0%|          | 0/120 [00:00<?, ?it/s]"
      ]
     },
     "metadata": {},
     "output_type": "display_data"
    },
    {
     "data": {
      "application/vnd.jupyter.widget-view+json": {
       "model_id": "2adf977fabc040d0bd26b720e6778a9f",
       "version_major": 2,
       "version_minor": 0
      },
      "text/plain": [
       "Possible clusters:   0%|          | 0/15 [00:00<?, ?it/s]"
      ]
     },
     "metadata": {},
     "output_type": "display_data"
    },
    {
     "data": {
      "application/vnd.jupyter.widget-view+json": {
       "model_id": "46c11c3fc2f0405a96045e2d5537c78a",
       "version_major": 2,
       "version_minor": 0
      },
      "text/plain": [
       "Possible clusters:   0%|          | 0/6 [00:00<?, ?it/s]"
      ]
     },
     "metadata": {},
     "output_type": "display_data"
    },
    {
     "data": {
      "application/vnd.jupyter.widget-view+json": {
       "model_id": "f7c13c4dd83046a79b9b7093684979bb",
       "version_major": 2,
       "version_minor": 0
      },
      "text/plain": [
       "Possible clusters:   0%|          | 0/5016 [00:00<?, ?it/s]"
      ]
     },
     "metadata": {},
     "output_type": "display_data"
    },
    {
     "data": {
      "application/vnd.jupyter.widget-view+json": {
       "model_id": "b2e7cbb161b24029b783c5e461bcc06c",
       "version_major": 2,
       "version_minor": 0
      },
      "text/plain": [
       "Possible clusters:   0%|          | 0/560 [00:00<?, ?it/s]"
      ]
     },
     "metadata": {},
     "output_type": "display_data"
    },
    {
     "data": {
      "application/vnd.jupyter.widget-view+json": {
       "model_id": "bc1416e8ec8a42f0be2bdefc3d72a670",
       "version_major": 2,
       "version_minor": 0
      },
      "text/plain": [
       "Possible clusters:   0%|          | 0/286 [00:00<?, ?it/s]"
      ]
     },
     "metadata": {},
     "output_type": "display_data"
    },
    {
     "data": {
      "application/vnd.jupyter.widget-view+json": {
       "model_id": "99897c98ea0048178c00a08ade429f09",
       "version_major": 2,
       "version_minor": 0
      },
      "text/plain": [
       "Possible clusters:   0%|          | 0/120 [00:00<?, ?it/s]"
      ]
     },
     "metadata": {},
     "output_type": "display_data"
    },
    {
     "data": {
      "application/vnd.jupyter.widget-view+json": {
       "model_id": "903a5e1052a34771a70f7df0d1fc2537",
       "version_major": 2,
       "version_minor": 0
      },
      "text/plain": [
       "Possible clusters:   0%|          | 0/21 [00:00<?, ?it/s]"
      ]
     },
     "metadata": {},
     "output_type": "display_data"
    },
    {
     "data": {
      "application/vnd.jupyter.widget-view+json": {
       "model_id": "a2b71e301184409d8272173e6f3a357f",
       "version_major": 2,
       "version_minor": 0
      },
      "text/plain": [
       "Possible clusters:   0%|          | 0/10 [00:00<?, ?it/s]"
      ]
     },
     "metadata": {},
     "output_type": "display_data"
    },
    {
     "data": {
      "application/vnd.jupyter.widget-view+json": {
       "model_id": "caaa7fb72e694e26b7cac7a3c0d7603b",
       "version_major": 2,
       "version_minor": 0
      },
      "text/plain": [
       "Possible clusters:   0%|          | 0/9086 [00:00<?, ?it/s]"
      ]
     },
     "metadata": {},
     "output_type": "display_data"
    },
    {
     "data": {
      "application/vnd.jupyter.widget-view+json": {
       "model_id": "a8133d9b01784ac39d5f18ea8d04651e",
       "version_major": 2,
       "version_minor": 0
      },
      "text/plain": [
       "Possible clusters:   0%|          | 0/4029 [00:00<?, ?it/s]"
      ]
     },
     "metadata": {},
     "output_type": "display_data"
    },
    {
     "data": {
      "application/vnd.jupyter.widget-view+json": {
       "model_id": "ccdd92b387344c3392cdcf839689a2f0",
       "version_major": 2,
       "version_minor": 0
      },
      "text/plain": [
       "Possible clusters:   0%|          | 0/455 [00:00<?, ?it/s]"
      ]
     },
     "metadata": {},
     "output_type": "display_data"
    },
    {
     "data": {
      "application/vnd.jupyter.widget-view+json": {
       "model_id": "6a7ee40012f44551bb897048af895516",
       "version_major": 2,
       "version_minor": 0
      },
      "text/plain": [
       "Possible clusters:   0%|          | 0/220 [00:00<?, ?it/s]"
      ]
     },
     "metadata": {},
     "output_type": "display_data"
    },
    {
     "data": {
      "application/vnd.jupyter.widget-view+json": {
       "model_id": "d2b6bf7c17684077ad9e32fbfdd6c8bf",
       "version_major": 2,
       "version_minor": 0
      },
      "text/plain": [
       "Possible clusters:   0%|          | 0/28 [00:00<?, ?it/s]"
      ]
     },
     "metadata": {},
     "output_type": "display_data"
    },
    {
     "data": {
      "application/vnd.jupyter.widget-view+json": {
       "model_id": "5155d4654099472ca1f0a3d2c0a17486",
       "version_major": 2,
       "version_minor": 0
      },
      "text/plain": [
       "Possible clusters:   0%|          | 0/15 [00:00<?, ?it/s]"
      ]
     },
     "metadata": {},
     "output_type": "display_data"
    },
    {
     "data": {
      "application/vnd.jupyter.widget-view+json": {
       "model_id": "2b3c3ad0e9574469b84c274660ce6703",
       "version_major": 2,
       "version_minor": 0
      },
      "text/plain": [
       "Possible clusters:   0%|          | 0/6 [00:00<?, ?it/s]"
      ]
     },
     "metadata": {},
     "output_type": "display_data"
    },
    {
     "data": {
      "application/vnd.jupyter.widget-view+json": {
       "model_id": "ab9a9b34bfc94e8baa621e5fdfab1301",
       "version_major": 2,
       "version_minor": 0
      },
      "text/plain": [
       "Possible clusters:   0%|          | 0/4029 [00:00<?, ?it/s]"
      ]
     },
     "metadata": {},
     "output_type": "display_data"
    },
    {
     "data": {
      "application/vnd.jupyter.widget-view+json": {
       "model_id": "ee50b35e1914451aaa6226293d4de4ca",
       "version_major": 2,
       "version_minor": 0
      },
      "text/plain": [
       "Possible clusters:   0%|          | 0/455 [00:00<?, ?it/s]"
      ]
     },
     "metadata": {},
     "output_type": "display_data"
    },
    {
     "data": {
      "application/vnd.jupyter.widget-view+json": {
       "model_id": "afa502f6f749458295857284f7ed2115",
       "version_major": 2,
       "version_minor": 0
      },
      "text/plain": [
       "Possible clusters:   0%|          | 0/220 [00:00<?, ?it/s]"
      ]
     },
     "metadata": {},
     "output_type": "display_data"
    },
    {
     "data": {
      "application/vnd.jupyter.widget-view+json": {
       "model_id": "c83a3e06d3da4885bc62b249ee0e550a",
       "version_major": 2,
       "version_minor": 0
      },
      "text/plain": [
       "Possible clusters:   0%|          | 0/28 [00:00<?, ?it/s]"
      ]
     },
     "metadata": {},
     "output_type": "display_data"
    },
    {
     "data": {
      "application/vnd.jupyter.widget-view+json": {
       "model_id": "c1c5a2cb017b4a569b85491c70f2e5ec",
       "version_major": 2,
       "version_minor": 0
      },
      "text/plain": [
       "Possible clusters:   0%|          | 0/15 [00:00<?, ?it/s]"
      ]
     },
     "metadata": {},
     "output_type": "display_data"
    },
    {
     "data": {
      "application/vnd.jupyter.widget-view+json": {
       "model_id": "31643ab82f3746d093d32d085bc4a140",
       "version_major": 2,
       "version_minor": 0
      },
      "text/plain": [
       "Possible clusters:   0%|          | 0/6 [00:00<?, ?it/s]"
      ]
     },
     "metadata": {},
     "output_type": "display_data"
    },
    {
     "data": {
      "application/vnd.jupyter.widget-view+json": {
       "model_id": "461666c812b94087923c0d5dc5730428",
       "version_major": 2,
       "version_minor": 0
      },
      "text/plain": [
       "Possible clusters:   0%|          | 0/5016 [00:00<?, ?it/s]"
      ]
     },
     "metadata": {},
     "output_type": "display_data"
    },
    {
     "data": {
      "application/vnd.jupyter.widget-view+json": {
       "model_id": "75ef111af45a4e23919b91c93bf41548",
       "version_major": 2,
       "version_minor": 0
      },
      "text/plain": [
       "Possible clusters:   0%|          | 0/560 [00:00<?, ?it/s]"
      ]
     },
     "metadata": {},
     "output_type": "display_data"
    },
    {
     "data": {
      "application/vnd.jupyter.widget-view+json": {
       "model_id": "b8b14a848433486494f0f37e8296b2f5",
       "version_major": 2,
       "version_minor": 0
      },
      "text/plain": [
       "Possible clusters:   0%|          | 0/286 [00:00<?, ?it/s]"
      ]
     },
     "metadata": {},
     "output_type": "display_data"
    },
    {
     "data": {
      "application/vnd.jupyter.widget-view+json": {
       "model_id": "52c2292f966b4716819c2a996787d3d3",
       "version_major": 2,
       "version_minor": 0
      },
      "text/plain": [
       "Possible clusters:   0%|          | 0/165 [00:00<?, ?it/s]"
      ]
     },
     "metadata": {},
     "output_type": "display_data"
    },
    {
     "data": {
      "application/vnd.jupyter.widget-view+json": {
       "model_id": "fbb1e95698b147bcbaee5a962a105d5b",
       "version_major": 2,
       "version_minor": 0
      },
      "text/plain": [
       "Possible clusters:   0%|          | 0/21 [00:00<?, ?it/s]"
      ]
     },
     "metadata": {},
     "output_type": "display_data"
    },
    {
     "data": {
      "application/vnd.jupyter.widget-view+json": {
       "model_id": "a4bac4ccf0f34fff918b373916127a24",
       "version_major": 2,
       "version_minor": 0
      },
      "text/plain": [
       "Possible clusters:   0%|          | 0/10 [00:00<?, ?it/s]"
      ]
     },
     "metadata": {},
     "output_type": "display_data"
    },
    {
     "data": {
      "application/vnd.jupyter.widget-view+json": {
       "model_id": "80775e59056e4ee89b904819b8dd7056",
       "version_major": 2,
       "version_minor": 0
      },
      "text/plain": [
       "Possible clusters:   0%|          | 0/12926 [00:00<?, ?it/s]"
      ]
     },
     "metadata": {},
     "output_type": "display_data"
    },
    {
     "data": {
      "application/vnd.jupyter.widget-view+json": {
       "model_id": "caa81fea204a4803a684c40772f46087",
       "version_major": 2,
       "version_minor": 0
      },
      "text/plain": [
       "Possible clusters:   0%|          | 0/6175 [00:00<?, ?it/s]"
      ]
     },
     "metadata": {},
     "output_type": "display_data"
    },
    {
     "data": {
      "application/vnd.jupyter.widget-view+json": {
       "model_id": "c48b9f4201234f13a357847927d37ff6",
       "version_major": 2,
       "version_minor": 0
      },
      "text/plain": [
       "Possible clusters:   0%|          | 0/2500 [00:00<?, ?it/s]"
      ]
     },
     "metadata": {},
     "output_type": "display_data"
    },
    {
     "data": {
      "application/vnd.jupyter.widget-view+json": {
       "model_id": "ca17276cd49044aa93ec017d0682aa9d",
       "version_major": 2,
       "version_minor": 0
      },
      "text/plain": [
       "Possible clusters:   0%|          | 0/286 [00:00<?, ?it/s]"
      ]
     },
     "metadata": {},
     "output_type": "display_data"
    },
    {
     "data": {
      "application/vnd.jupyter.widget-view+json": {
       "model_id": "8c9350cc84ec4dcbb386711fbed56c2b",
       "version_major": 2,
       "version_minor": 0
      },
      "text/plain": [
       "Possible clusters:   0%|          | 0/120 [00:00<?, ?it/s]"
      ]
     },
     "metadata": {},
     "output_type": "display_data"
    },
    {
     "data": {
      "application/vnd.jupyter.widget-view+json": {
       "model_id": "bf2c0f036fe84c06b1dfb7eefae7e75a",
       "version_major": 2,
       "version_minor": 0
      },
      "text/plain": [
       "Possible clusters:   0%|          | 0/15 [00:00<?, ?it/s]"
      ]
     },
     "metadata": {},
     "output_type": "display_data"
    },
    {
     "data": {
      "application/vnd.jupyter.widget-view+json": {
       "model_id": "6e4313d9224844cd9a7d92c0143d0f72",
       "version_major": 2,
       "version_minor": 0
      },
      "text/plain": [
       "Possible clusters:   0%|          | 0/6 [00:00<?, ?it/s]"
      ]
     },
     "metadata": {},
     "output_type": "display_data"
    },
    {
     "data": {
      "application/vnd.jupyter.widget-view+json": {
       "model_id": "9acdaeb1960f47ae9e6f84a35e1144c5",
       "version_major": 2,
       "version_minor": 0
      },
      "text/plain": [
       "Possible clusters:   0%|          | 0/10879 [00:00<?, ?it/s]"
      ]
     },
     "metadata": {},
     "output_type": "display_data"
    },
    {
     "data": {
      "application/vnd.jupyter.widget-view+json": {
       "model_id": "26829b35bf2e41d5bf1b21a641d02df8",
       "version_major": 2,
       "version_minor": 0
      },
      "text/plain": [
       "Possible clusters:   0%|          | 0/5016 [00:00<?, ?it/s]"
      ]
     },
     "metadata": {},
     "output_type": "display_data"
    },
    {
     "data": {
      "application/vnd.jupyter.widget-view+json": {
       "model_id": "0a0a2d5d7e4049d99a87f7ce769b09a6",
       "version_major": 2,
       "version_minor": 0
      },
      "text/plain": [
       "Possible clusters:   0%|          | 0/560 [00:00<?, ?it/s]"
      ]
     },
     "metadata": {},
     "output_type": "display_data"
    },
    {
     "data": {
      "application/vnd.jupyter.widget-view+json": {
       "model_id": "7fe5accf5a74402689f432cf700e584c",
       "version_major": 2,
       "version_minor": 0
      },
      "text/plain": [
       "Possible clusters:   0%|          | 0/286 [00:00<?, ?it/s]"
      ]
     },
     "metadata": {},
     "output_type": "display_data"
    },
    {
     "data": {
      "application/vnd.jupyter.widget-view+json": {
       "model_id": "507518df40004fd88799a039d77f859e",
       "version_major": 2,
       "version_minor": 0
      },
      "text/plain": [
       "Possible clusters:   0%|          | 0/120 [00:00<?, ?it/s]"
      ]
     },
     "metadata": {},
     "output_type": "display_data"
    },
    {
     "data": {
      "application/vnd.jupyter.widget-view+json": {
       "model_id": "45e06d4ece8d4c6bb50d0296c11b0854",
       "version_major": 2,
       "version_minor": 0
      },
      "text/plain": [
       "Possible clusters:   0%|          | 0/15 [00:00<?, ?it/s]"
      ]
     },
     "metadata": {},
     "output_type": "display_data"
    },
    {
     "data": {
      "application/vnd.jupyter.widget-view+json": {
       "model_id": "220b531fda85495481ed57e9c446c4fe",
       "version_major": 2,
       "version_minor": 0
      },
      "text/plain": [
       "Possible clusters:   0%|          | 0/6 [00:00<?, ?it/s]"
      ]
     },
     "metadata": {},
     "output_type": "display_data"
    },
    {
     "data": {
      "application/vnd.jupyter.widget-view+json": {
       "model_id": "005008af925a438e83e1bc03f347df23",
       "version_major": 2,
       "version_minor": 0
      },
      "text/plain": [
       "Possible clusters:   0%|          | 0/6175 [00:00<?, ?it/s]"
      ]
     },
     "metadata": {},
     "output_type": "display_data"
    },
    {
     "data": {
      "application/vnd.jupyter.widget-view+json": {
       "model_id": "b43002b5036f402ca598fcd01c3661a5",
       "version_major": 2,
       "version_minor": 0
      },
      "text/plain": [
       "Possible clusters:   0%|          | 0/2500 [00:00<?, ?it/s]"
      ]
     },
     "metadata": {},
     "output_type": "display_data"
    },
    {
     "data": {
      "application/vnd.jupyter.widget-view+json": {
       "model_id": "63278a385d994e43a4d60d3bd03f73c3",
       "version_major": 2,
       "version_minor": 0
      },
      "text/plain": [
       "Possible clusters:   0%|          | 0/286 [00:00<?, ?it/s]"
      ]
     },
     "metadata": {},
     "output_type": "display_data"
    },
    {
     "data": {
      "application/vnd.jupyter.widget-view+json": {
       "model_id": "146986fcc57d4d918b384c0e57d792c1",
       "version_major": 2,
       "version_minor": 0
      },
      "text/plain": [
       "Possible clusters:   0%|          | 0/120 [00:00<?, ?it/s]"
      ]
     },
     "metadata": {},
     "output_type": "display_data"
    },
    {
     "data": {
      "application/vnd.jupyter.widget-view+json": {
       "model_id": "b1a6e70f00e242a8a16349845aa4aab3",
       "version_major": 2,
       "version_minor": 0
      },
      "text/plain": [
       "Possible clusters:   0%|          | 0/15 [00:00<?, ?it/s]"
      ]
     },
     "metadata": {},
     "output_type": "display_data"
    },
    {
     "data": {
      "application/vnd.jupyter.widget-view+json": {
       "model_id": "2944eda91e844dac83bcd7b4a2396b27",
       "version_major": 2,
       "version_minor": 0
      },
      "text/plain": [
       "Possible clusters:   0%|          | 0/6 [00:00<?, ?it/s]"
      ]
     },
     "metadata": {},
     "output_type": "display_data"
    },
    {
     "data": {
      "application/vnd.jupyter.widget-view+json": {
       "model_id": "f774ea319bd3471dbd25dce4718ed690",
       "version_major": 2,
       "version_minor": 0
      },
      "text/plain": [
       "Possible clusters:   0%|          | 0/6175 [00:00<?, ?it/s]"
      ]
     },
     "metadata": {},
     "output_type": "display_data"
    },
    {
     "data": {
      "application/vnd.jupyter.widget-view+json": {
       "model_id": "b9e7d005deed46e581afd6a0cc0769bf",
       "version_major": 2,
       "version_minor": 0
      },
      "text/plain": [
       "Possible clusters:   0%|          | 0/2500 [00:00<?, ?it/s]"
      ]
     },
     "metadata": {},
     "output_type": "display_data"
    },
    {
     "data": {
      "application/vnd.jupyter.widget-view+json": {
       "model_id": "3fc7e2780ed74f8c9137578b12a71e1d",
       "version_major": 2,
       "version_minor": 0
      },
      "text/plain": [
       "Possible clusters:   0%|          | 0/286 [00:00<?, ?it/s]"
      ]
     },
     "metadata": {},
     "output_type": "display_data"
    },
    {
     "data": {
      "application/vnd.jupyter.widget-view+json": {
       "model_id": "31e73408eef14a6faaff01c949753eb1",
       "version_major": 2,
       "version_minor": 0
      },
      "text/plain": [
       "Possible clusters:   0%|          | 0/120 [00:00<?, ?it/s]"
      ]
     },
     "metadata": {},
     "output_type": "display_data"
    },
    {
     "data": {
      "application/vnd.jupyter.widget-view+json": {
       "model_id": "70411d82a17040ea9b8c58d68b610394",
       "version_major": 2,
       "version_minor": 0
      },
      "text/plain": [
       "Possible clusters:   0%|          | 0/15 [00:00<?, ?it/s]"
      ]
     },
     "metadata": {},
     "output_type": "display_data"
    },
    {
     "data": {
      "application/vnd.jupyter.widget-view+json": {
       "model_id": "c3d1950dafd24ec9920af794d5fe6190",
       "version_major": 2,
       "version_minor": 0
      },
      "text/plain": [
       "Possible clusters:   0%|          | 0/6 [00:00<?, ?it/s]"
      ]
     },
     "metadata": {},
     "output_type": "display_data"
    },
    {
     "data": {
      "application/vnd.jupyter.widget-view+json": {
       "model_id": "38530b615a9741768c49e1cfc861a579",
       "version_major": 2,
       "version_minor": 0
      },
      "text/plain": [
       "Possible clusters:   0%|          | 0/12926 [00:00<?, ?it/s]"
      ]
     },
     "metadata": {},
     "output_type": "display_data"
    },
    {
     "data": {
      "application/vnd.jupyter.widget-view+json": {
       "model_id": "4835bcab46754c3792b126ba53bc5394",
       "version_major": 2,
       "version_minor": 0
      },
      "text/plain": [
       "Possible clusters:   0%|          | 0/6175 [00:00<?, ?it/s]"
      ]
     },
     "metadata": {},
     "output_type": "display_data"
    },
    {
     "data": {
      "application/vnd.jupyter.widget-view+json": {
       "model_id": "8d01178a9dba4d5b90fe103a3dad772e",
       "version_major": 2,
       "version_minor": 0
      },
      "text/plain": [
       "Possible clusters:   0%|          | 0/2500 [00:00<?, ?it/s]"
      ]
     },
     "metadata": {},
     "output_type": "display_data"
    },
    {
     "data": {
      "application/vnd.jupyter.widget-view+json": {
       "model_id": "8d82a4c61b8e4f9a9e75e89226d66c46",
       "version_major": 2,
       "version_minor": 0
      },
      "text/plain": [
       "Possible clusters:   0%|          | 0/286 [00:00<?, ?it/s]"
      ]
     },
     "metadata": {},
     "output_type": "display_data"
    },
    {
     "data": {
      "application/vnd.jupyter.widget-view+json": {
       "model_id": "19d1ac50c6de4ecc9b23548f4f3014b1",
       "version_major": 2,
       "version_minor": 0
      },
      "text/plain": [
       "Possible clusters:   0%|          | 0/120 [00:00<?, ?it/s]"
      ]
     },
     "metadata": {},
     "output_type": "display_data"
    },
    {
     "data": {
      "application/vnd.jupyter.widget-view+json": {
       "model_id": "a813177399984ce5ac3e54e130165c94",
       "version_major": 2,
       "version_minor": 0
      },
      "text/plain": [
       "Possible clusters:   0%|          | 0/15 [00:00<?, ?it/s]"
      ]
     },
     "metadata": {},
     "output_type": "display_data"
    },
    {
     "data": {
      "application/vnd.jupyter.widget-view+json": {
       "model_id": "27dba6d4c0c1422d8e5e7afdbfbd10d5",
       "version_major": 2,
       "version_minor": 0
      },
      "text/plain": [
       "Possible clusters:   0%|          | 0/6 [00:00<?, ?it/s]"
      ]
     },
     "metadata": {},
     "output_type": "display_data"
    },
    {
     "data": {
      "application/vnd.jupyter.widget-view+json": {
       "model_id": "03bfa388488146abbaab8aa0ed015488",
       "version_major": 2,
       "version_minor": 0
      },
      "text/plain": [
       "Possible clusters:   0%|          | 0/7525 [00:00<?, ?it/s]"
      ]
     },
     "metadata": {},
     "output_type": "display_data"
    },
    {
     "data": {
      "application/vnd.jupyter.widget-view+json": {
       "model_id": "8ffe406e54a04418bf132e4f7e6e667b",
       "version_major": 2,
       "version_minor": 0
      },
      "text/plain": [
       "Possible clusters:   0%|          | 0/3196 [00:00<?, ?it/s]"
      ]
     },
     "metadata": {},
     "output_type": "display_data"
    },
    {
     "data": {
      "application/vnd.jupyter.widget-view+json": {
       "model_id": "633df6fdf3dc4bc7a238fe67672853cf",
       "version_major": 2,
       "version_minor": 0
      },
      "text/plain": [
       "Possible clusters:   0%|          | 0/364 [00:00<?, ?it/s]"
      ]
     },
     "metadata": {},
     "output_type": "display_data"
    },
    {
     "data": {
      "application/vnd.jupyter.widget-view+json": {
       "model_id": "ce52dbbec45e4657a8dfbdd62579e72a",
       "version_major": 2,
       "version_minor": 0
      },
      "text/plain": [
       "Possible clusters:   0%|          | 0/220 [00:00<?, ?it/s]"
      ]
     },
     "metadata": {},
     "output_type": "display_data"
    },
    {
     "data": {
      "application/vnd.jupyter.widget-view+json": {
       "model_id": "8a3d6fefd98149bf80aade94311d0bfa",
       "version_major": 2,
       "version_minor": 0
      },
      "text/plain": [
       "Possible clusters:   0%|          | 0/28 [00:00<?, ?it/s]"
      ]
     },
     "metadata": {},
     "output_type": "display_data"
    },
    {
     "data": {
      "application/vnd.jupyter.widget-view+json": {
       "model_id": "c5135c4d1b434954a805558ff94783a4",
       "version_major": 2,
       "version_minor": 0
      },
      "text/plain": [
       "Possible clusters:   0%|          | 0/15 [00:00<?, ?it/s]"
      ]
     },
     "metadata": {},
     "output_type": "display_data"
    },
    {
     "data": {
      "application/vnd.jupyter.widget-view+json": {
       "model_id": "c432f96e2c814b39ba59a32224f0bbc6",
       "version_major": 2,
       "version_minor": 0
      },
      "text/plain": [
       "Possible clusters:   0%|          | 0/6 [00:00<?, ?it/s]"
      ]
     },
     "metadata": {},
     "output_type": "display_data"
    },
    {
     "data": {
      "application/vnd.jupyter.widget-view+json": {
       "model_id": "f130ec6645dd47eb8a014506d73634cd",
       "version_major": 2,
       "version_minor": 0
      },
      "text/plain": [
       "Possible clusters:   0%|          | 0/6175 [00:00<?, ?it/s]"
      ]
     },
     "metadata": {},
     "output_type": "display_data"
    },
    {
     "data": {
      "application/vnd.jupyter.widget-view+json": {
       "model_id": "d8b9d010d28a484694173118dd988b72",
       "version_major": 2,
       "version_minor": 0
      },
      "text/plain": [
       "Possible clusters:   0%|          | 0/2500 [00:00<?, ?it/s]"
      ]
     },
     "metadata": {},
     "output_type": "display_data"
    },
    {
     "data": {
      "application/vnd.jupyter.widget-view+json": {
       "model_id": "3753b429d13b42bc861882c835946fdc",
       "version_major": 2,
       "version_minor": 0
      },
      "text/plain": [
       "Possible clusters:   0%|          | 0/286 [00:00<?, ?it/s]"
      ]
     },
     "metadata": {},
     "output_type": "display_data"
    },
    {
     "data": {
      "application/vnd.jupyter.widget-view+json": {
       "model_id": "e2b5d813cb224e92aa061f28c53d54f3",
       "version_major": 2,
       "version_minor": 0
      },
      "text/plain": [
       "Possible clusters:   0%|          | 0/120 [00:00<?, ?it/s]"
      ]
     },
     "metadata": {},
     "output_type": "display_data"
    },
    {
     "data": {
      "application/vnd.jupyter.widget-view+json": {
       "model_id": "b15ca1ffd33445fabf147cb3f3fdb2e5",
       "version_major": 2,
       "version_minor": 0
      },
      "text/plain": [
       "Possible clusters:   0%|          | 0/15 [00:00<?, ?it/s]"
      ]
     },
     "metadata": {},
     "output_type": "display_data"
    },
    {
     "data": {
      "application/vnd.jupyter.widget-view+json": {
       "model_id": "fa3882b05dcf457dbb03aec3f5af3943",
       "version_major": 2,
       "version_minor": 0
      },
      "text/plain": [
       "Possible clusters:   0%|          | 0/6 [00:00<?, ?it/s]"
      ]
     },
     "metadata": {},
     "output_type": "display_data"
    },
    {
     "data": {
      "application/vnd.jupyter.widget-view+json": {
       "model_id": "e88b3f05d1a44b24b637a6a1bba38e35",
       "version_major": 2,
       "version_minor": 0
      },
      "text/plain": [
       "Possible clusters:   0%|          | 0/6 [00:00<?, ?it/s]"
      ]
     },
     "metadata": {},
     "output_type": "display_data"
    },
    {
     "data": {
      "application/vnd.jupyter.widget-view+json": {
       "model_id": "5ee5d013155e416a924dceda688ec26d",
       "version_major": 2,
       "version_minor": 0
      },
      "text/plain": [
       "Possible clusters:   0%|          | 0/9086 [00:00<?, ?it/s]"
      ]
     },
     "metadata": {},
     "output_type": "display_data"
    },
    {
     "data": {
      "application/vnd.jupyter.widget-view+json": {
       "model_id": "6b4eac72c8fe47f2ac7efc3c13cea006",
       "version_major": 2,
       "version_minor": 0
      },
      "text/plain": [
       "Possible clusters:   0%|          | 0/4029 [00:00<?, ?it/s]"
      ]
     },
     "metadata": {},
     "output_type": "display_data"
    },
    {
     "data": {
      "application/vnd.jupyter.widget-view+json": {
       "model_id": "dfb87f3c64fa40d3bbb5f24477ba1e69",
       "version_major": 2,
       "version_minor": 0
      },
      "text/plain": [
       "Possible clusters:   0%|          | 0/455 [00:00<?, ?it/s]"
      ]
     },
     "metadata": {},
     "output_type": "display_data"
    },
    {
     "data": {
      "application/vnd.jupyter.widget-view+json": {
       "model_id": "a8f4afd6da61430e846baf15258e71d2",
       "version_major": 2,
       "version_minor": 0
      },
      "text/plain": [
       "Possible clusters:   0%|          | 0/220 [00:00<?, ?it/s]"
      ]
     },
     "metadata": {},
     "output_type": "display_data"
    },
    {
     "data": {
      "application/vnd.jupyter.widget-view+json": {
       "model_id": "c42254e4e03241cd9e8b7fee93fc0c3e",
       "version_major": 2,
       "version_minor": 0
      },
      "text/plain": [
       "Possible clusters:   0%|          | 0/28 [00:00<?, ?it/s]"
      ]
     },
     "metadata": {},
     "output_type": "display_data"
    },
    {
     "data": {
      "application/vnd.jupyter.widget-view+json": {
       "model_id": "c27efb7f46b84eab8237ce8912964e7d",
       "version_major": 2,
       "version_minor": 0
      },
      "text/plain": [
       "Possible clusters:   0%|          | 0/15 [00:00<?, ?it/s]"
      ]
     },
     "metadata": {},
     "output_type": "display_data"
    },
    {
     "data": {
      "application/vnd.jupyter.widget-view+json": {
       "model_id": "484b4158f96d4cc69c46a44bddbcc982",
       "version_major": 2,
       "version_minor": 0
      },
      "text/plain": [
       "Possible clusters:   0%|          | 0/6 [00:00<?, ?it/s]"
      ]
     },
     "metadata": {},
     "output_type": "display_data"
    },
    {
     "data": {
      "application/vnd.jupyter.widget-view+json": {
       "model_id": "261ae8618a2b4698ae346b5953b13401",
       "version_major": 2,
       "version_minor": 0
      },
      "text/plain": [
       "Possible clusters:   0%|          | 0/7525 [00:00<?, ?it/s]"
      ]
     },
     "metadata": {},
     "output_type": "display_data"
    },
    {
     "data": {
      "application/vnd.jupyter.widget-view+json": {
       "model_id": "c4f87dc3a4a04690836e5b2ad4095817",
       "version_major": 2,
       "version_minor": 0
      },
      "text/plain": [
       "Possible clusters:   0%|          | 0/3196 [00:00<?, ?it/s]"
      ]
     },
     "metadata": {},
     "output_type": "display_data"
    },
    {
     "data": {
      "application/vnd.jupyter.widget-view+json": {
       "model_id": "e1867a188e8149928872d8c43e8d6b5d",
       "version_major": 2,
       "version_minor": 0
      },
      "text/plain": [
       "Possible clusters:   0%|          | 0/364 [00:00<?, ?it/s]"
      ]
     },
     "metadata": {},
     "output_type": "display_data"
    },
    {
     "data": {
      "application/vnd.jupyter.widget-view+json": {
       "model_id": "98f9d6a9c463450ca096795896195d99",
       "version_major": 2,
       "version_minor": 0
      },
      "text/plain": [
       "Possible clusters:   0%|          | 0/220 [00:00<?, ?it/s]"
      ]
     },
     "metadata": {},
     "output_type": "display_data"
    },
    {
     "data": {
      "application/vnd.jupyter.widget-view+json": {
       "model_id": "a137b54f43454a929465290e8d116f6e",
       "version_major": 2,
       "version_minor": 0
      },
      "text/plain": [
       "Possible clusters:   0%|          | 0/28 [00:00<?, ?it/s]"
      ]
     },
     "metadata": {},
     "output_type": "display_data"
    },
    {
     "data": {
      "application/vnd.jupyter.widget-view+json": {
       "model_id": "e2e76b71a7664ca2a53fdd5656a27182",
       "version_major": 2,
       "version_minor": 0
      },
      "text/plain": [
       "Possible clusters:   0%|          | 0/15 [00:00<?, ?it/s]"
      ]
     },
     "metadata": {},
     "output_type": "display_data"
    },
    {
     "data": {
      "application/vnd.jupyter.widget-view+json": {
       "model_id": "78bb091b85fc4661a7bb4d6ff6f844fe",
       "version_major": 2,
       "version_minor": 0
      },
      "text/plain": [
       "Possible clusters:   0%|          | 0/6 [00:00<?, ?it/s]"
      ]
     },
     "metadata": {},
     "output_type": "display_data"
    },
    {
     "data": {
      "application/vnd.jupyter.widget-view+json": {
       "model_id": "6ff4795407274a99b274956cda89b2e3",
       "version_major": 2,
       "version_minor": 0
      },
      "text/plain": [
       "Possible clusters:   0%|          | 0/101556 [00:00<?, ?it/s]"
      ]
     },
     "metadata": {},
     "output_type": "display_data"
    },
    {
     "data": {
      "application/vnd.jupyter.widget-view+json": {
       "model_id": "0851bcf8c96e4bf39ae1b0abd70df4a5",
       "version_major": 2,
       "version_minor": 0
      },
      "text/plain": [
       "Possible clusters:   0%|          | 0/9086 [00:00<?, ?it/s]"
      ]
     },
     "metadata": {},
     "output_type": "display_data"
    },
    {
     "data": {
      "application/vnd.jupyter.widget-view+json": {
       "model_id": "3505e8a073d441cbbba580f37addedf5",
       "version_major": 2,
       "version_minor": 0
      },
      "text/plain": [
       "Possible clusters:   0%|          | 0/4029 [00:00<?, ?it/s]"
      ]
     },
     "metadata": {},
     "output_type": "display_data"
    },
    {
     "data": {
      "application/vnd.jupyter.widget-view+json": {
       "model_id": "6ae4233e02204be19424a768b8957003",
       "version_major": 2,
       "version_minor": 0
      },
      "text/plain": [
       "Possible clusters:   0%|          | 0/455 [00:00<?, ?it/s]"
      ]
     },
     "metadata": {},
     "output_type": "display_data"
    },
    {
     "data": {
      "application/vnd.jupyter.widget-view+json": {
       "model_id": "d09071b503bf45018be76a8c9405a8c0",
       "version_major": 2,
       "version_minor": 0
      },
      "text/plain": [
       "Possible clusters:   0%|          | 0/220 [00:00<?, ?it/s]"
      ]
     },
     "metadata": {},
     "output_type": "display_data"
    },
    {
     "data": {
      "application/vnd.jupyter.widget-view+json": {
       "model_id": "37b93d3d5c644922a2f5f5279ee9482d",
       "version_major": 2,
       "version_minor": 0
      },
      "text/plain": [
       "Possible clusters:   0%|          | 0/28 [00:00<?, ?it/s]"
      ]
     },
     "metadata": {},
     "output_type": "display_data"
    },
    {
     "data": {
      "application/vnd.jupyter.widget-view+json": {
       "model_id": "f77c1602104f4439a9c24815f8e7a5eb",
       "version_major": 2,
       "version_minor": 0
      },
      "text/plain": [
       "Possible clusters:   0%|          | 0/15 [00:00<?, ?it/s]"
      ]
     },
     "metadata": {},
     "output_type": "display_data"
    },
    {
     "data": {
      "application/vnd.jupyter.widget-view+json": {
       "model_id": "41d57036b94149d3839e275bdce63667",
       "version_major": 2,
       "version_minor": 0
      },
      "text/plain": [
       "Possible clusters:   0%|          | 0/6 [00:00<?, ?it/s]"
      ]
     },
     "metadata": {},
     "output_type": "display_data"
    },
    {
     "data": {
      "application/vnd.jupyter.widget-view+json": {
       "model_id": "9dbdc43ed5ea48f1a9896e49b1b891fe",
       "version_major": 2,
       "version_minor": 0
      },
      "text/plain": [
       "Possible clusters:   0%|          | 0/83655 [00:00<?, ?it/s]"
      ]
     },
     "metadata": {},
     "output_type": "display_data"
    },
    {
     "data": {
      "application/vnd.jupyter.widget-view+json": {
       "model_id": "cb151622e7d448df919f6848c34a044c",
       "version_major": 2,
       "version_minor": 0
      },
      "text/plain": [
       "Possible clusters:   0%|          | 0/7525 [00:00<?, ?it/s]"
      ]
     },
     "metadata": {},
     "output_type": "display_data"
    },
    {
     "data": {
      "application/vnd.jupyter.widget-view+json": {
       "model_id": "8d58536c8eb34ad39b2e4aa53752cc69",
       "version_major": 2,
       "version_minor": 0
      },
      "text/plain": [
       "Possible clusters:   0%|          | 0/3196 [00:00<?, ?it/s]"
      ]
     },
     "metadata": {},
     "output_type": "display_data"
    },
    {
     "data": {
      "application/vnd.jupyter.widget-view+json": {
       "model_id": "e9cdb78c30e8421fbf375735b619bebb",
       "version_major": 2,
       "version_minor": 0
      },
      "text/plain": [
       "Possible clusters:   0%|          | 0/364 [00:00<?, ?it/s]"
      ]
     },
     "metadata": {},
     "output_type": "display_data"
    },
    {
     "data": {
      "application/vnd.jupyter.widget-view+json": {
       "model_id": "4d8b1797d5624e589bae43139fdc20c6",
       "version_major": 2,
       "version_minor": 0
      },
      "text/plain": [
       "Possible clusters:   0%|          | 0/165 [00:00<?, ?it/s]"
      ]
     },
     "metadata": {},
     "output_type": "display_data"
    },
    {
     "data": {
      "application/vnd.jupyter.widget-view+json": {
       "model_id": "073f1fe3566140029e21395df3ece196",
       "version_major": 2,
       "version_minor": 0
      },
      "text/plain": [
       "Possible clusters:   0%|          | 0/21 [00:00<?, ?it/s]"
      ]
     },
     "metadata": {},
     "output_type": "display_data"
    },
    {
     "data": {
      "application/vnd.jupyter.widget-view+json": {
       "model_id": "8a061ba7f0cb4e648e4e3c98df410b99",
       "version_major": 2,
       "version_minor": 0
      },
      "text/plain": [
       "Possible clusters:   0%|          | 0/10 [00:00<?, ?it/s]"
      ]
     },
     "metadata": {},
     "output_type": "display_data"
    },
    {
     "data": {
      "application/vnd.jupyter.widget-view+json": {
       "model_id": "90640c52bb004cd288aa6699065204a3",
       "version_major": 2,
       "version_minor": 0
      },
      "text/plain": [
       "Possible clusters:   0%|          | 0/10879 [00:00<?, ?it/s]"
      ]
     },
     "metadata": {},
     "output_type": "display_data"
    },
    {
     "data": {
      "application/vnd.jupyter.widget-view+json": {
       "model_id": "d6408ae601c146fea40ca0a969182362",
       "version_major": 2,
       "version_minor": 0
      },
      "text/plain": [
       "Possible clusters:   0%|          | 0/5016 [00:00<?, ?it/s]"
      ]
     },
     "metadata": {},
     "output_type": "display_data"
    },
    {
     "data": {
      "application/vnd.jupyter.widget-view+json": {
       "model_id": "34e98cc2328048af9b023854d8597170",
       "version_major": 2,
       "version_minor": 0
      },
      "text/plain": [
       "Possible clusters:   0%|          | 0/560 [00:00<?, ?it/s]"
      ]
     },
     "metadata": {},
     "output_type": "display_data"
    },
    {
     "data": {
      "application/vnd.jupyter.widget-view+json": {
       "model_id": "fd34e0707e5e4e4bac73b1bec38adfdd",
       "version_major": 2,
       "version_minor": 0
      },
      "text/plain": [
       "Possible clusters:   0%|          | 0/286 [00:00<?, ?it/s]"
      ]
     },
     "metadata": {},
     "output_type": "display_data"
    },
    {
     "data": {
      "application/vnd.jupyter.widget-view+json": {
       "model_id": "c7fae27eceda4995bdf004b500857af6",
       "version_major": 2,
       "version_minor": 0
      },
      "text/plain": [
       "Possible clusters:   0%|          | 0/120 [00:00<?, ?it/s]"
      ]
     },
     "metadata": {},
     "output_type": "display_data"
    },
    {
     "data": {
      "application/vnd.jupyter.widget-view+json": {
       "model_id": "ad5fa1f0927f4a3ca440b150abb8336d",
       "version_major": 2,
       "version_minor": 0
      },
      "text/plain": [
       "Possible clusters:   0%|          | 0/15 [00:00<?, ?it/s]"
      ]
     },
     "metadata": {},
     "output_type": "display_data"
    },
    {
     "data": {
      "application/vnd.jupyter.widget-view+json": {
       "model_id": "67f6eb4a7dae4555be1ec43e64264cc2",
       "version_major": 2,
       "version_minor": 0
      },
      "text/plain": [
       "Possible clusters:   0%|          | 0/6 [00:00<?, ?it/s]"
      ]
     },
     "metadata": {},
     "output_type": "display_data"
    },
    {
     "data": {
      "application/vnd.jupyter.widget-view+json": {
       "model_id": "cd5484de7ae74727842acc146efa4bb7",
       "version_major": 2,
       "version_minor": 0
      },
      "text/plain": [
       "Possible clusters:   0%|          | 0/6175 [00:00<?, ?it/s]"
      ]
     },
     "metadata": {},
     "output_type": "display_data"
    },
    {
     "data": {
      "application/vnd.jupyter.widget-view+json": {
       "model_id": "75ee1c90e9e84325bba1e7a9901cab4b",
       "version_major": 2,
       "version_minor": 0
      },
      "text/plain": [
       "Possible clusters:   0%|          | 0/2500 [00:00<?, ?it/s]"
      ]
     },
     "metadata": {},
     "output_type": "display_data"
    },
    {
     "data": {
      "application/vnd.jupyter.widget-view+json": {
       "model_id": "ad4a05eaaa1e4657a5ada73bedaac619",
       "version_major": 2,
       "version_minor": 0
      },
      "text/plain": [
       "Possible clusters:   0%|          | 0/286 [00:00<?, ?it/s]"
      ]
     },
     "metadata": {},
     "output_type": "display_data"
    },
    {
     "data": {
      "application/vnd.jupyter.widget-view+json": {
       "model_id": "b25dfbd294f24a39bb0359f7ee7c67e2",
       "version_major": 2,
       "version_minor": 0
      },
      "text/plain": [
       "Possible clusters:   0%|          | 0/120 [00:00<?, ?it/s]"
      ]
     },
     "metadata": {},
     "output_type": "display_data"
    },
    {
     "data": {
      "application/vnd.jupyter.widget-view+json": {
       "model_id": "14126e58f6c34b76b10ffe13cb053ac8",
       "version_major": 2,
       "version_minor": 0
      },
      "text/plain": [
       "Possible clusters:   0%|          | 0/15 [00:00<?, ?it/s]"
      ]
     },
     "metadata": {},
     "output_type": "display_data"
    },
    {
     "data": {
      "application/vnd.jupyter.widget-view+json": {
       "model_id": "e24d0062b4f94c6da80186d219b3fb77",
       "version_major": 2,
       "version_minor": 0
      },
      "text/plain": [
       "Possible clusters:   0%|          | 0/6 [00:00<?, ?it/s]"
      ]
     },
     "metadata": {},
     "output_type": "display_data"
    },
    {
     "data": {
      "application/vnd.jupyter.widget-view+json": {
       "model_id": "60a464af9e5f43cfba048759e7a10688",
       "version_major": 2,
       "version_minor": 0
      },
      "text/plain": [
       "Possible clusters:   0%|          | 0/7525 [00:00<?, ?it/s]"
      ]
     },
     "metadata": {},
     "output_type": "display_data"
    },
    {
     "data": {
      "application/vnd.jupyter.widget-view+json": {
       "model_id": "398c786f90cf41ad8954a6756f6908f3",
       "version_major": 2,
       "version_minor": 0
      },
      "text/plain": [
       "Possible clusters:   0%|          | 0/3196 [00:00<?, ?it/s]"
      ]
     },
     "metadata": {},
     "output_type": "display_data"
    },
    {
     "data": {
      "application/vnd.jupyter.widget-view+json": {
       "model_id": "acdb2f2d432241339d365e31249d2c27",
       "version_major": 2,
       "version_minor": 0
      },
      "text/plain": [
       "Possible clusters:   0%|          | 0/364 [00:00<?, ?it/s]"
      ]
     },
     "metadata": {},
     "output_type": "display_data"
    },
    {
     "data": {
      "application/vnd.jupyter.widget-view+json": {
       "model_id": "844a38b35172423c8a551fca1e6e1b9d",
       "version_major": 2,
       "version_minor": 0
      },
      "text/plain": [
       "Possible clusters:   0%|          | 0/165 [00:00<?, ?it/s]"
      ]
     },
     "metadata": {},
     "output_type": "display_data"
    },
    {
     "data": {
      "application/vnd.jupyter.widget-view+json": {
       "model_id": "78b6bd0c943848089694338f4a388f7d",
       "version_major": 2,
       "version_minor": 0
      },
      "text/plain": [
       "Possible clusters:   0%|          | 0/21 [00:00<?, ?it/s]"
      ]
     },
     "metadata": {},
     "output_type": "display_data"
    },
    {
     "data": {
      "application/vnd.jupyter.widget-view+json": {
       "model_id": "540adcda39e54f6caf36b53d5cc64141",
       "version_major": 2,
       "version_minor": 0
      },
      "text/plain": [
       "Possible clusters:   0%|          | 0/10 [00:00<?, ?it/s]"
      ]
     },
     "metadata": {},
     "output_type": "display_data"
    },
    {
     "data": {
      "application/vnd.jupyter.widget-view+json": {
       "model_id": "7c165e775c7e4db59293f1808bf71681",
       "version_major": 2,
       "version_minor": 0
      },
      "text/plain": [
       "Possible clusters:   0%|          | 0/7525 [00:00<?, ?it/s]"
      ]
     },
     "metadata": {},
     "output_type": "display_data"
    },
    {
     "data": {
      "application/vnd.jupyter.widget-view+json": {
       "model_id": "7b508af6f8864546a7d03100e01c7641",
       "version_major": 2,
       "version_minor": 0
      },
      "text/plain": [
       "Possible clusters:   0%|          | 0/3196 [00:00<?, ?it/s]"
      ]
     },
     "metadata": {},
     "output_type": "display_data"
    },
    {
     "data": {
      "application/vnd.jupyter.widget-view+json": {
       "model_id": "a167f0988f124bd2ac5951ff1258c40c",
       "version_major": 2,
       "version_minor": 0
      },
      "text/plain": [
       "Possible clusters:   0%|          | 0/364 [00:00<?, ?it/s]"
      ]
     },
     "metadata": {},
     "output_type": "display_data"
    },
    {
     "data": {
      "application/vnd.jupyter.widget-view+json": {
       "model_id": "ab719d828a374568a026625ae7bacac7",
       "version_major": 2,
       "version_minor": 0
      },
      "text/plain": [
       "Possible clusters:   0%|          | 0/165 [00:00<?, ?it/s]"
      ]
     },
     "metadata": {},
     "output_type": "display_data"
    },
    {
     "data": {
      "application/vnd.jupyter.widget-view+json": {
       "model_id": "9147c50fe4974023a49c82f2e21c8537",
       "version_major": 2,
       "version_minor": 0
      },
      "text/plain": [
       "Possible clusters:   0%|          | 0/21 [00:00<?, ?it/s]"
      ]
     },
     "metadata": {},
     "output_type": "display_data"
    },
    {
     "data": {
      "application/vnd.jupyter.widget-view+json": {
       "model_id": "002334d26e714cd9bfffbb218e3c0d0e",
       "version_major": 2,
       "version_minor": 0
      },
      "text/plain": [
       "Possible clusters:   0%|          | 0/10 [00:00<?, ?it/s]"
      ]
     },
     "metadata": {},
     "output_type": "display_data"
    },
    {
     "data": {
      "application/vnd.jupyter.widget-view+json": {
       "model_id": "6c87bc10fdf64ca8ba51d8a8ff50a2b2",
       "version_major": 2,
       "version_minor": 0
      },
      "text/plain": [
       "Possible clusters:   0%|          | 0/7525 [00:00<?, ?it/s]"
      ]
     },
     "metadata": {},
     "output_type": "display_data"
    },
    {
     "data": {
      "application/vnd.jupyter.widget-view+json": {
       "model_id": "284cecb05d8e4300aaf3379740551c25",
       "version_major": 2,
       "version_minor": 0
      },
      "text/plain": [
       "Possible clusters:   0%|          | 0/3196 [00:00<?, ?it/s]"
      ]
     },
     "metadata": {},
     "output_type": "display_data"
    },
    {
     "data": {
      "application/vnd.jupyter.widget-view+json": {
       "model_id": "e0f2dc92e33745489ef15a41cc869d2d",
       "version_major": 2,
       "version_minor": 0
      },
      "text/plain": [
       "Possible clusters:   0%|          | 0/364 [00:00<?, ?it/s]"
      ]
     },
     "metadata": {},
     "output_type": "display_data"
    },
    {
     "data": {
      "application/vnd.jupyter.widget-view+json": {
       "model_id": "85570c1946f74f0a8d867fcf8651210f",
       "version_major": 2,
       "version_minor": 0
      },
      "text/plain": [
       "Possible clusters:   0%|          | 0/165 [00:00<?, ?it/s]"
      ]
     },
     "metadata": {},
     "output_type": "display_data"
    },
    {
     "data": {
      "application/vnd.jupyter.widget-view+json": {
       "model_id": "db4348a89e4c42c99e7df561b1a82afe",
       "version_major": 2,
       "version_minor": 0
      },
      "text/plain": [
       "Possible clusters:   0%|          | 0/21 [00:00<?, ?it/s]"
      ]
     },
     "metadata": {},
     "output_type": "display_data"
    },
    {
     "data": {
      "application/vnd.jupyter.widget-view+json": {
       "model_id": "bb9e68bf52b143e3897d21438e532d24",
       "version_major": 2,
       "version_minor": 0
      },
      "text/plain": [
       "Possible clusters:   0%|          | 0/10 [00:00<?, ?it/s]"
      ]
     },
     "metadata": {},
     "output_type": "display_data"
    },
    {
     "data": {
      "application/vnd.jupyter.widget-view+json": {
       "model_id": "248103bbf56042829fc4f160bab6ab32",
       "version_major": 2,
       "version_minor": 0
      },
      "text/plain": [
       "Possible clusters:   0%|          | 0/10879 [00:00<?, ?it/s]"
      ]
     },
     "metadata": {},
     "output_type": "display_data"
    },
    {
     "data": {
      "application/vnd.jupyter.widget-view+json": {
       "model_id": "28d1ae05e23a48eeaea0219e4b25ae1f",
       "version_major": 2,
       "version_minor": 0
      },
      "text/plain": [
       "Possible clusters:   0%|          | 0/5016 [00:00<?, ?it/s]"
      ]
     },
     "metadata": {},
     "output_type": "display_data"
    },
    {
     "data": {
      "application/vnd.jupyter.widget-view+json": {
       "model_id": "f5f97aa3021b4499864c5c6b476e702f",
       "version_major": 2,
       "version_minor": 0
      },
      "text/plain": [
       "Possible clusters:   0%|          | 0/560 [00:00<?, ?it/s]"
      ]
     },
     "metadata": {},
     "output_type": "display_data"
    },
    {
     "data": {
      "application/vnd.jupyter.widget-view+json": {
       "model_id": "7566dcb27daf4d3ba8f86ae29ea68632",
       "version_major": 2,
       "version_minor": 0
      },
      "text/plain": [
       "Possible clusters:   0%|          | 0/286 [00:00<?, ?it/s]"
      ]
     },
     "metadata": {},
     "output_type": "display_data"
    },
    {
     "data": {
      "application/vnd.jupyter.widget-view+json": {
       "model_id": "14a8854160ec426b9c8aa8c1d2f4ecf7",
       "version_major": 2,
       "version_minor": 0
      },
      "text/plain": [
       "Possible clusters:   0%|          | 0/120 [00:00<?, ?it/s]"
      ]
     },
     "metadata": {},
     "output_type": "display_data"
    },
    {
     "data": {
      "application/vnd.jupyter.widget-view+json": {
       "model_id": "f6217c20f8564b8886e2ad68bb90b907",
       "version_major": 2,
       "version_minor": 0
      },
      "text/plain": [
       "Possible clusters:   0%|          | 0/15 [00:00<?, ?it/s]"
      ]
     },
     "metadata": {},
     "output_type": "display_data"
    },
    {
     "data": {
      "application/vnd.jupyter.widget-view+json": {
       "model_id": "6a508c47d3914594936616a7876679ba",
       "version_major": 2,
       "version_minor": 0
      },
      "text/plain": [
       "Possible clusters:   0%|          | 0/6 [00:00<?, ?it/s]"
      ]
     },
     "metadata": {},
     "output_type": "display_data"
    },
    {
     "data": {
      "application/vnd.jupyter.widget-view+json": {
       "model_id": "709ee673f0ad4c1b88cb02b21d53155d",
       "version_major": 2,
       "version_minor": 0
      },
      "text/plain": [
       "Possible clusters:   0%|          | 0/12926 [00:00<?, ?it/s]"
      ]
     },
     "metadata": {},
     "output_type": "display_data"
    },
    {
     "data": {
      "application/vnd.jupyter.widget-view+json": {
       "model_id": "d2ed6aa3d34b4b70a0bbb660b7d64c65",
       "version_major": 2,
       "version_minor": 0
      },
      "text/plain": [
       "Possible clusters:   0%|          | 0/6175 [00:00<?, ?it/s]"
      ]
     },
     "metadata": {},
     "output_type": "display_data"
    },
    {
     "data": {
      "application/vnd.jupyter.widget-view+json": {
       "model_id": "f4171582523349f293321ba5124476c3",
       "version_major": 2,
       "version_minor": 0
      },
      "text/plain": [
       "Possible clusters:   0%|          | 0/2500 [00:00<?, ?it/s]"
      ]
     },
     "metadata": {},
     "output_type": "display_data"
    },
    {
     "data": {
      "application/vnd.jupyter.widget-view+json": {
       "model_id": "6120bc66d8184c93ae1e93552cda9721",
       "version_major": 2,
       "version_minor": 0
      },
      "text/plain": [
       "Possible clusters:   0%|          | 0/286 [00:00<?, ?it/s]"
      ]
     },
     "metadata": {},
     "output_type": "display_data"
    },
    {
     "data": {
      "application/vnd.jupyter.widget-view+json": {
       "model_id": "9ffa805ddbc549e8a4ee24804d832cf4",
       "version_major": 2,
       "version_minor": 0
      },
      "text/plain": [
       "Possible clusters:   0%|          | 0/120 [00:00<?, ?it/s]"
      ]
     },
     "metadata": {},
     "output_type": "display_data"
    },
    {
     "data": {
      "application/vnd.jupyter.widget-view+json": {
       "model_id": "f697ddb5e3c14736aa897dedc4895c9e",
       "version_major": 2,
       "version_minor": 0
      },
      "text/plain": [
       "Possible clusters:   0%|          | 0/15 [00:00<?, ?it/s]"
      ]
     },
     "metadata": {},
     "output_type": "display_data"
    },
    {
     "data": {
      "application/vnd.jupyter.widget-view+json": {
       "model_id": "c71be22acefa4460897ce1f9c1e18ba0",
       "version_major": 2,
       "version_minor": 0
      },
      "text/plain": [
       "Possible clusters:   0%|          | 0/6 [00:00<?, ?it/s]"
      ]
     },
     "metadata": {},
     "output_type": "display_data"
    },
    {
     "data": {
      "application/vnd.jupyter.widget-view+json": {
       "model_id": "47c18d473f2246b78d3b8470d1555d84",
       "version_major": 2,
       "version_minor": 0
      },
      "text/plain": [
       "Possible clusters:   0%|          | 0/6175 [00:00<?, ?it/s]"
      ]
     },
     "metadata": {},
     "output_type": "display_data"
    },
    {
     "data": {
      "application/vnd.jupyter.widget-view+json": {
       "model_id": "b9ba612ebfdc482497e155bdc998996e",
       "version_major": 2,
       "version_minor": 0
      },
      "text/plain": [
       "Possible clusters:   0%|          | 0/2500 [00:00<?, ?it/s]"
      ]
     },
     "metadata": {},
     "output_type": "display_data"
    },
    {
     "data": {
      "application/vnd.jupyter.widget-view+json": {
       "model_id": "1aff03d6314b42f992721088fdf294fb",
       "version_major": 2,
       "version_minor": 0
      },
      "text/plain": [
       "Possible clusters:   0%|          | 0/286 [00:00<?, ?it/s]"
      ]
     },
     "metadata": {},
     "output_type": "display_data"
    },
    {
     "data": {
      "application/vnd.jupyter.widget-view+json": {
       "model_id": "52c59e50d5924cbb92b5ad1a1d1d22ed",
       "version_major": 2,
       "version_minor": 0
      },
      "text/plain": [
       "Possible clusters:   0%|          | 0/120 [00:00<?, ?it/s]"
      ]
     },
     "metadata": {},
     "output_type": "display_data"
    },
    {
     "data": {
      "application/vnd.jupyter.widget-view+json": {
       "model_id": "0d502045a2bf491695f66874f5119541",
       "version_major": 2,
       "version_minor": 0
      },
      "text/plain": [
       "Possible clusters:   0%|          | 0/15 [00:00<?, ?it/s]"
      ]
     },
     "metadata": {},
     "output_type": "display_data"
    },
    {
     "data": {
      "application/vnd.jupyter.widget-view+json": {
       "model_id": "7f4b24eb1feb475ba14c12305120dfca",
       "version_major": 2,
       "version_minor": 0
      },
      "text/plain": [
       "Possible clusters:   0%|          | 0/6 [00:00<?, ?it/s]"
      ]
     },
     "metadata": {},
     "output_type": "display_data"
    },
    {
     "data": {
      "application/vnd.jupyter.widget-view+json": {
       "model_id": "70e459117abe425d905ac02e8848b57e",
       "version_major": 2,
       "version_minor": 0
      },
      "text/plain": [
       "Possible clusters:   0%|          | 0/10879 [00:00<?, ?it/s]"
      ]
     },
     "metadata": {},
     "output_type": "display_data"
    },
    {
     "data": {
      "application/vnd.jupyter.widget-view+json": {
       "model_id": "2b6c97cbb5f54d89bf2b81d29f6a49b6",
       "version_major": 2,
       "version_minor": 0
      },
      "text/plain": [
       "Possible clusters:   0%|          | 0/5016 [00:00<?, ?it/s]"
      ]
     },
     "metadata": {},
     "output_type": "display_data"
    },
    {
     "data": {
      "application/vnd.jupyter.widget-view+json": {
       "model_id": "3da47c69b2a343a8895501243f0e528f",
       "version_major": 2,
       "version_minor": 0
      },
      "text/plain": [
       "Possible clusters:   0%|          | 0/560 [00:00<?, ?it/s]"
      ]
     },
     "metadata": {},
     "output_type": "display_data"
    },
    {
     "data": {
      "application/vnd.jupyter.widget-view+json": {
       "model_id": "f4d107a2cf56454aa2747145ab2f0b87",
       "version_major": 2,
       "version_minor": 0
      },
      "text/plain": [
       "Possible clusters:   0%|          | 0/286 [00:00<?, ?it/s]"
      ]
     },
     "metadata": {},
     "output_type": "display_data"
    },
    {
     "data": {
      "application/vnd.jupyter.widget-view+json": {
       "model_id": "50e147bf9b6d4e21ac467d5a155df570",
       "version_major": 2,
       "version_minor": 0
      },
      "text/plain": [
       "Possible clusters:   0%|          | 0/120 [00:00<?, ?it/s]"
      ]
     },
     "metadata": {},
     "output_type": "display_data"
    },
    {
     "data": {
      "application/vnd.jupyter.widget-view+json": {
       "model_id": "049c0a6b0f204524803af43bb6500dea",
       "version_major": 2,
       "version_minor": 0
      },
      "text/plain": [
       "Possible clusters:   0%|          | 0/15 [00:00<?, ?it/s]"
      ]
     },
     "metadata": {},
     "output_type": "display_data"
    },
    {
     "data": {
      "application/vnd.jupyter.widget-view+json": {
       "model_id": "9e8b67f3be884adf90ea90b46e72042b",
       "version_major": 2,
       "version_minor": 0
      },
      "text/plain": [
       "Possible clusters:   0%|          | 0/6 [00:00<?, ?it/s]"
      ]
     },
     "metadata": {},
     "output_type": "display_data"
    },
    {
     "data": {
      "application/vnd.jupyter.widget-view+json": {
       "model_id": "d0ff9d4fe8754ffc9884803eb39520b3",
       "version_major": 2,
       "version_minor": 0
      },
      "text/plain": [
       "Possible clusters:   0%|          | 0/6175 [00:00<?, ?it/s]"
      ]
     },
     "metadata": {},
     "output_type": "display_data"
    },
    {
     "data": {
      "application/vnd.jupyter.widget-view+json": {
       "model_id": "02286cc9e95d4839abd3f78b5ee070eb",
       "version_major": 2,
       "version_minor": 0
      },
      "text/plain": [
       "Possible clusters:   0%|          | 0/2500 [00:00<?, ?it/s]"
      ]
     },
     "metadata": {},
     "output_type": "display_data"
    },
    {
     "data": {
      "application/vnd.jupyter.widget-view+json": {
       "model_id": "34ad72e999b646d9a75d1ba0ea515964",
       "version_major": 2,
       "version_minor": 0
      },
      "text/plain": [
       "Possible clusters:   0%|          | 0/286 [00:00<?, ?it/s]"
      ]
     },
     "metadata": {},
     "output_type": "display_data"
    },
    {
     "data": {
      "application/vnd.jupyter.widget-view+json": {
       "model_id": "5e90f0639f724102815efed63c08e189",
       "version_major": 2,
       "version_minor": 0
      },
      "text/plain": [
       "Possible clusters:   0%|          | 0/120 [00:00<?, ?it/s]"
      ]
     },
     "metadata": {},
     "output_type": "display_data"
    },
    {
     "data": {
      "application/vnd.jupyter.widget-view+json": {
       "model_id": "c3df8967ef524f9c9a2a95b705364c1f",
       "version_major": 2,
       "version_minor": 0
      },
      "text/plain": [
       "Possible clusters:   0%|          | 0/15 [00:00<?, ?it/s]"
      ]
     },
     "metadata": {},
     "output_type": "display_data"
    },
    {
     "data": {
      "application/vnd.jupyter.widget-view+json": {
       "model_id": "a173b031fd8944ba8d78daa0052f2241",
       "version_major": 2,
       "version_minor": 0
      },
      "text/plain": [
       "Possible clusters:   0%|          | 0/6 [00:00<?, ?it/s]"
      ]
     },
     "metadata": {},
     "output_type": "display_data"
    },
    {
     "data": {
      "application/vnd.jupyter.widget-view+json": {
       "model_id": "8c86c207078749debedcfbfb6789cc6e",
       "version_major": 2,
       "version_minor": 0
      },
      "text/plain": [
       "Possible clusters:   0%|          | 0/10879 [00:00<?, ?it/s]"
      ]
     },
     "metadata": {},
     "output_type": "display_data"
    },
    {
     "data": {
      "application/vnd.jupyter.widget-view+json": {
       "model_id": "c65779d18be14a7aa665daab07e68adc",
       "version_major": 2,
       "version_minor": 0
      },
      "text/plain": [
       "Possible clusters:   0%|          | 0/5016 [00:00<?, ?it/s]"
      ]
     },
     "metadata": {},
     "output_type": "display_data"
    },
    {
     "data": {
      "application/vnd.jupyter.widget-view+json": {
       "model_id": "5f206dea6b6f4feeac9d23129c2ae426",
       "version_major": 2,
       "version_minor": 0
      },
      "text/plain": [
       "Possible clusters:   0%|          | 0/560 [00:00<?, ?it/s]"
      ]
     },
     "metadata": {},
     "output_type": "display_data"
    },
    {
     "data": {
      "application/vnd.jupyter.widget-view+json": {
       "model_id": "81fb5bbd412b41ad890660bf811b42a5",
       "version_major": 2,
       "version_minor": 0
      },
      "text/plain": [
       "Possible clusters:   0%|          | 0/286 [00:00<?, ?it/s]"
      ]
     },
     "metadata": {},
     "output_type": "display_data"
    },
    {
     "data": {
      "application/vnd.jupyter.widget-view+json": {
       "model_id": "6cdce91c458e496fad4dde539c0d8a08",
       "version_major": 2,
       "version_minor": 0
      },
      "text/plain": [
       "Possible clusters:   0%|          | 0/120 [00:00<?, ?it/s]"
      ]
     },
     "metadata": {},
     "output_type": "display_data"
    },
    {
     "data": {
      "application/vnd.jupyter.widget-view+json": {
       "model_id": "e91c399e5ab449b288dc38266ac510fc",
       "version_major": 2,
       "version_minor": 0
      },
      "text/plain": [
       "Possible clusters:   0%|          | 0/15 [00:00<?, ?it/s]"
      ]
     },
     "metadata": {},
     "output_type": "display_data"
    },
    {
     "data": {
      "application/vnd.jupyter.widget-view+json": {
       "model_id": "3a68f1eea023486fa6980ac40eb41f4d",
       "version_major": 2,
       "version_minor": 0
      },
      "text/plain": [
       "Possible clusters:   0%|          | 0/6 [00:00<?, ?it/s]"
      ]
     },
     "metadata": {},
     "output_type": "display_data"
    },
    {
     "data": {
      "application/vnd.jupyter.widget-view+json": {
       "model_id": "4a4ea946aeb8427a90a15640c2f89268",
       "version_major": 2,
       "version_minor": 0
      },
      "text/plain": [
       "Possible clusters:   0%|          | 0/10879 [00:00<?, ?it/s]"
      ]
     },
     "metadata": {},
     "output_type": "display_data"
    },
    {
     "data": {
      "application/vnd.jupyter.widget-view+json": {
       "model_id": "44779f9984f743f489d5cb8e682a2581",
       "version_major": 2,
       "version_minor": 0
      },
      "text/plain": [
       "Possible clusters:   0%|          | 0/5016 [00:00<?, ?it/s]"
      ]
     },
     "metadata": {},
     "output_type": "display_data"
    },
    {
     "data": {
      "application/vnd.jupyter.widget-view+json": {
       "model_id": "d2ec7562d1a541c19339ea72c15eaf49",
       "version_major": 2,
       "version_minor": 0
      },
      "text/plain": [
       "Possible clusters:   0%|          | 0/560 [00:00<?, ?it/s]"
      ]
     },
     "metadata": {},
     "output_type": "display_data"
    },
    {
     "data": {
      "application/vnd.jupyter.widget-view+json": {
       "model_id": "440ed297afe740478a873f0042dbf6cf",
       "version_major": 2,
       "version_minor": 0
      },
      "text/plain": [
       "Possible clusters:   0%|          | 0/286 [00:00<?, ?it/s]"
      ]
     },
     "metadata": {},
     "output_type": "display_data"
    },
    {
     "data": {
      "application/vnd.jupyter.widget-view+json": {
       "model_id": "38e958b8e8a748db82863dcc32c77ed1",
       "version_major": 2,
       "version_minor": 0
      },
      "text/plain": [
       "Possible clusters:   0%|          | 0/120 [00:00<?, ?it/s]"
      ]
     },
     "metadata": {},
     "output_type": "display_data"
    },
    {
     "data": {
      "application/vnd.jupyter.widget-view+json": {
       "model_id": "60fe549002dc40a5a39d99cb56b88f51",
       "version_major": 2,
       "version_minor": 0
      },
      "text/plain": [
       "Possible clusters:   0%|          | 0/15 [00:00<?, ?it/s]"
      ]
     },
     "metadata": {},
     "output_type": "display_data"
    },
    {
     "data": {
      "application/vnd.jupyter.widget-view+json": {
       "model_id": "727489a7979c4e3d8856ac96108b3072",
       "version_major": 2,
       "version_minor": 0
      },
      "text/plain": [
       "Possible clusters:   0%|          | 0/6 [00:00<?, ?it/s]"
      ]
     },
     "metadata": {},
     "output_type": "display_data"
    },
    {
     "data": {
      "application/vnd.jupyter.widget-view+json": {
       "model_id": "882d87026bf7496cae489d553a2d2921",
       "version_major": 2,
       "version_minor": 0
      },
      "text/plain": [
       "Possible clusters:   0%|          | 0/7525 [00:00<?, ?it/s]"
      ]
     },
     "metadata": {},
     "output_type": "display_data"
    },
    {
     "data": {
      "application/vnd.jupyter.widget-view+json": {
       "model_id": "208f4bb53a3c4ae7a254ea3bc5ae0d5d",
       "version_major": 2,
       "version_minor": 0
      },
      "text/plain": [
       "Possible clusters:   0%|          | 0/3196 [00:00<?, ?it/s]"
      ]
     },
     "metadata": {},
     "output_type": "display_data"
    },
    {
     "data": {
      "application/vnd.jupyter.widget-view+json": {
       "model_id": "c3974125f6df4f17a347ab8024b3a563",
       "version_major": 2,
       "version_minor": 0
      },
      "text/plain": [
       "Possible clusters:   0%|          | 0/364 [00:00<?, ?it/s]"
      ]
     },
     "metadata": {},
     "output_type": "display_data"
    },
    {
     "data": {
      "application/vnd.jupyter.widget-view+json": {
       "model_id": "11646cfb2bb642758ca84e5e077d86bd",
       "version_major": 2,
       "version_minor": 0
      },
      "text/plain": [
       "Possible clusters:   0%|          | 0/165 [00:00<?, ?it/s]"
      ]
     },
     "metadata": {},
     "output_type": "display_data"
    },
    {
     "data": {
      "application/vnd.jupyter.widget-view+json": {
       "model_id": "89d9324e8bea4a149e377b3596a57b73",
       "version_major": 2,
       "version_minor": 0
      },
      "text/plain": [
       "Possible clusters:   0%|          | 0/21 [00:00<?, ?it/s]"
      ]
     },
     "metadata": {},
     "output_type": "display_data"
    },
    {
     "data": {
      "application/vnd.jupyter.widget-view+json": {
       "model_id": "4318cc4a553e454aafc2359042363837",
       "version_major": 2,
       "version_minor": 0
      },
      "text/plain": [
       "Possible clusters:   0%|          | 0/10 [00:00<?, ?it/s]"
      ]
     },
     "metadata": {},
     "output_type": "display_data"
    },
    {
     "data": {
      "application/vnd.jupyter.widget-view+json": {
       "model_id": "34dd0fe0954348ff84d9437d6c7ac2b5",
       "version_major": 2,
       "version_minor": 0
      },
      "text/plain": [
       "Possible clusters:   0%|          | 0/68380 [00:00<?, ?it/s]"
      ]
     },
     "metadata": {},
     "output_type": "display_data"
    },
    {
     "data": {
      "application/vnd.jupyter.widget-view+json": {
       "model_id": "644f3b1b5e90462dbb8de8be00d7fb07",
       "version_major": 2,
       "version_minor": 0
      },
      "text/plain": [
       "Possible clusters:   0%|          | 0/6175 [00:00<?, ?it/s]"
      ]
     },
     "metadata": {},
     "output_type": "display_data"
    },
    {
     "data": {
      "application/vnd.jupyter.widget-view+json": {
       "model_id": "706f4a1e007d4f7bbd8601dd9e3a70d1",
       "version_major": 2,
       "version_minor": 0
      },
      "text/plain": [
       "Possible clusters:   0%|          | 0/2500 [00:00<?, ?it/s]"
      ]
     },
     "metadata": {},
     "output_type": "display_data"
    },
    {
     "data": {
      "application/vnd.jupyter.widget-view+json": {
       "model_id": "8f7362d31ad74f5c845962b11e12386a",
       "version_major": 2,
       "version_minor": 0
      },
      "text/plain": [
       "Possible clusters:   0%|          | 0/286 [00:00<?, ?it/s]"
      ]
     },
     "metadata": {},
     "output_type": "display_data"
    },
    {
     "data": {
      "application/vnd.jupyter.widget-view+json": {
       "model_id": "4fdc18aafab449569c577d36b54925c4",
       "version_major": 2,
       "version_minor": 0
      },
      "text/plain": [
       "Possible clusters:   0%|          | 0/120 [00:00<?, ?it/s]"
      ]
     },
     "metadata": {},
     "output_type": "display_data"
    },
    {
     "data": {
      "application/vnd.jupyter.widget-view+json": {
       "model_id": "812a852975fb45ee97256034511ea756",
       "version_major": 2,
       "version_minor": 0
      },
      "text/plain": [
       "Possible clusters:   0%|          | 0/15 [00:00<?, ?it/s]"
      ]
     },
     "metadata": {},
     "output_type": "display_data"
    },
    {
     "data": {
      "application/vnd.jupyter.widget-view+json": {
       "model_id": "c665a602c77742db97e5a6345baedefb",
       "version_major": 2,
       "version_minor": 0
      },
      "text/plain": [
       "Possible clusters:   0%|          | 0/6 [00:00<?, ?it/s]"
      ]
     },
     "metadata": {},
     "output_type": "display_data"
    },
    {
     "data": {
      "application/vnd.jupyter.widget-view+json": {
       "model_id": "2dea827a57af4b61a10a788903ffbc06",
       "version_major": 2,
       "version_minor": 0
      },
      "text/plain": [
       "Possible clusters:   0%|          | 0/4029 [00:00<?, ?it/s]"
      ]
     },
     "metadata": {},
     "output_type": "display_data"
    },
    {
     "data": {
      "application/vnd.jupyter.widget-view+json": {
       "model_id": "28b9e792881f4e02bff43c77ecd1f7b4",
       "version_major": 2,
       "version_minor": 0
      },
      "text/plain": [
       "Possible clusters:   0%|          | 0/455 [00:00<?, ?it/s]"
      ]
     },
     "metadata": {},
     "output_type": "display_data"
    },
    {
     "data": {
      "application/vnd.jupyter.widget-view+json": {
       "model_id": "6976b5fafa3741888ed81cea9b0ad8f4",
       "version_major": 2,
       "version_minor": 0
      },
      "text/plain": [
       "Possible clusters:   0%|          | 0/220 [00:00<?, ?it/s]"
      ]
     },
     "metadata": {},
     "output_type": "display_data"
    },
    {
     "data": {
      "application/vnd.jupyter.widget-view+json": {
       "model_id": "63f94ee1c99f41b48b3b968ad30d0114",
       "version_major": 2,
       "version_minor": 0
      },
      "text/plain": [
       "Possible clusters:   0%|          | 0/28 [00:00<?, ?it/s]"
      ]
     },
     "metadata": {},
     "output_type": "display_data"
    },
    {
     "data": {
      "application/vnd.jupyter.widget-view+json": {
       "model_id": "1fb076b4393647bdb511ce41c98f2a70",
       "version_major": 2,
       "version_minor": 0
      },
      "text/plain": [
       "Possible clusters:   0%|          | 0/15 [00:00<?, ?it/s]"
      ]
     },
     "metadata": {},
     "output_type": "display_data"
    },
    {
     "data": {
      "application/vnd.jupyter.widget-view+json": {
       "model_id": "57f2155a67814eeeab63bddd4a7e0584",
       "version_major": 2,
       "version_minor": 0
      },
      "text/plain": [
       "Possible clusters:   0%|          | 0/6 [00:00<?, ?it/s]"
      ]
     },
     "metadata": {},
     "output_type": "display_data"
    },
    {
     "data": {
      "application/vnd.jupyter.widget-view+json": {
       "model_id": "14ac2634874a41d3a928ffe841e25768",
       "version_major": 2,
       "version_minor": 0
      },
      "text/plain": [
       "Possible clusters:   0%|          | 0/4029 [00:00<?, ?it/s]"
      ]
     },
     "metadata": {},
     "output_type": "display_data"
    },
    {
     "data": {
      "application/vnd.jupyter.widget-view+json": {
       "model_id": "ea7ba9fdd9ac47e791b6549118398f3d",
       "version_major": 2,
       "version_minor": 0
      },
      "text/plain": [
       "Possible clusters:   0%|          | 0/455 [00:00<?, ?it/s]"
      ]
     },
     "metadata": {},
     "output_type": "display_data"
    },
    {
     "data": {
      "application/vnd.jupyter.widget-view+json": {
       "model_id": "20bd71b0d90d4dbcadb051eb1532ea9d",
       "version_major": 2,
       "version_minor": 0
      },
      "text/plain": [
       "Possible clusters:   0%|          | 0/220 [00:00<?, ?it/s]"
      ]
     },
     "metadata": {},
     "output_type": "display_data"
    },
    {
     "data": {
      "application/vnd.jupyter.widget-view+json": {
       "model_id": "0b69ccf67b3f4d45a3866a0304c60686",
       "version_major": 2,
       "version_minor": 0
      },
      "text/plain": [
       "Possible clusters:   0%|          | 0/28 [00:00<?, ?it/s]"
      ]
     },
     "metadata": {},
     "output_type": "display_data"
    },
    {
     "data": {
      "application/vnd.jupyter.widget-view+json": {
       "model_id": "25ebaca959a14d87b0335f31f36e1745",
       "version_major": 2,
       "version_minor": 0
      },
      "text/plain": [
       "Possible clusters:   0%|          | 0/15 [00:00<?, ?it/s]"
      ]
     },
     "metadata": {},
     "output_type": "display_data"
    },
    {
     "data": {
      "application/vnd.jupyter.widget-view+json": {
       "model_id": "c683e1c7910e469098ed0d56209faa1b",
       "version_major": 2,
       "version_minor": 0
      },
      "text/plain": [
       "Possible clusters:   0%|          | 0/6 [00:00<?, ?it/s]"
      ]
     },
     "metadata": {},
     "output_type": "display_data"
    },
    {
     "data": {
      "application/vnd.jupyter.widget-view+json": {
       "model_id": "a13f7fe5726c464db018843e5f9918e6",
       "version_major": 2,
       "version_minor": 0
      },
      "text/plain": [
       "Possible clusters:   0%|          | 0/174406 [00:00<?, ?it/s]"
      ]
     },
     "metadata": {},
     "output_type": "display_data"
    },
    {
     "data": {
      "application/vnd.jupyter.widget-view+json": {
       "model_id": "1bf729c16c1a48098ead1eb0337a985e",
       "version_major": 2,
       "version_minor": 0
      },
      "text/plain": [
       "Possible clusters:   0%|          | 0/68380 [00:00<?, ?it/s]"
      ]
     },
     "metadata": {},
     "output_type": "display_data"
    },
    {
     "data": {
      "application/vnd.jupyter.widget-view+json": {
       "model_id": "ca1fd3935ccd46b0bdca7efa1c0c554b",
       "version_major": 2,
       "version_minor": 0
      },
      "text/plain": [
       "Possible clusters:   0%|          | 0/6175 [00:00<?, ?it/s]"
      ]
     },
     "metadata": {},
     "output_type": "display_data"
    },
    {
     "data": {
      "application/vnd.jupyter.widget-view+json": {
       "model_id": "affd0cdc287843aab21ac963c04eb9e1",
       "version_major": 2,
       "version_minor": 0
      },
      "text/plain": [
       "Possible clusters:   0%|          | 0/2500 [00:00<?, ?it/s]"
      ]
     },
     "metadata": {},
     "output_type": "display_data"
    },
    {
     "data": {
      "application/vnd.jupyter.widget-view+json": {
       "model_id": "ecf56304139646ba9926cf38cb9032ff",
       "version_major": 2,
       "version_minor": 0
      },
      "text/plain": [
       "Possible clusters:   0%|          | 0/286 [00:00<?, ?it/s]"
      ]
     },
     "metadata": {},
     "output_type": "display_data"
    },
    {
     "data": {
      "application/vnd.jupyter.widget-view+json": {
       "model_id": "46d32133565c4c8fad99c3987e5c4ca6",
       "version_major": 2,
       "version_minor": 0
      },
      "text/plain": [
       "Possible clusters:   0%|          | 0/120 [00:00<?, ?it/s]"
      ]
     },
     "metadata": {},
     "output_type": "display_data"
    },
    {
     "data": {
      "application/vnd.jupyter.widget-view+json": {
       "model_id": "4a26ab256d794052bc07a1063253f056",
       "version_major": 2,
       "version_minor": 0
      },
      "text/plain": [
       "Possible clusters:   0%|          | 0/15 [00:00<?, ?it/s]"
      ]
     },
     "metadata": {},
     "output_type": "display_data"
    },
    {
     "data": {
      "application/vnd.jupyter.widget-view+json": {
       "model_id": "c24e231019384c0ba723f85a3e5f23ba",
       "version_major": 2,
       "version_minor": 0
      },
      "text/plain": [
       "Possible clusters:   0%|          | 0/6 [00:00<?, ?it/s]"
      ]
     },
     "metadata": {},
     "output_type": "display_data"
    },
    {
     "data": {
      "application/vnd.jupyter.widget-view+json": {
       "model_id": "78f71ef029c34d60a676203af2835c2b",
       "version_major": 2,
       "version_minor": 0
      },
      "text/plain": [
       "Possible clusters:   0%|          | 0/3196 [00:00<?, ?it/s]"
      ]
     },
     "metadata": {},
     "output_type": "display_data"
    },
    {
     "data": {
      "application/vnd.jupyter.widget-view+json": {
       "model_id": "718a0ded934845c687c971b12a7f1a94",
       "version_major": 2,
       "version_minor": 0
      },
      "text/plain": [
       "Possible clusters:   0%|          | 0/364 [00:00<?, ?it/s]"
      ]
     },
     "metadata": {},
     "output_type": "display_data"
    },
    {
     "data": {
      "application/vnd.jupyter.widget-view+json": {
       "model_id": "7e7eb7dd19534159aedae47f0db77a80",
       "version_major": 2,
       "version_minor": 0
      },
      "text/plain": [
       "Possible clusters:   0%|          | 0/165 [00:00<?, ?it/s]"
      ]
     },
     "metadata": {},
     "output_type": "display_data"
    },
    {
     "data": {
      "application/vnd.jupyter.widget-view+json": {
       "model_id": "9979aab3436c4873a3be914de237186b",
       "version_major": 2,
       "version_minor": 0
      },
      "text/plain": [
       "Possible clusters:   0%|          | 0/21 [00:00<?, ?it/s]"
      ]
     },
     "metadata": {},
     "output_type": "display_data"
    },
    {
     "data": {
      "application/vnd.jupyter.widget-view+json": {
       "model_id": "a3d82778e65b4e1dbf2ed099fe4e9976",
       "version_major": 2,
       "version_minor": 0
      },
      "text/plain": [
       "Possible clusters:   0%|          | 0/10 [00:00<?, ?it/s]"
      ]
     },
     "metadata": {},
     "output_type": "display_data"
    },
    {
     "data": {
      "application/vnd.jupyter.widget-view+json": {
       "model_id": "38a7daf3fc9944bb8c077d4dba704850",
       "version_major": 2,
       "version_minor": 0
      },
      "text/plain": [
       "Possible clusters:   0%|          | 0/7525 [00:00<?, ?it/s]"
      ]
     },
     "metadata": {},
     "output_type": "display_data"
    },
    {
     "data": {
      "application/vnd.jupyter.widget-view+json": {
       "model_id": "02c6b6b966f241e6b3242b53b2f84306",
       "version_major": 2,
       "version_minor": 0
      },
      "text/plain": [
       "Possible clusters:   0%|          | 0/3196 [00:00<?, ?it/s]"
      ]
     },
     "metadata": {},
     "output_type": "display_data"
    },
    {
     "data": {
      "application/vnd.jupyter.widget-view+json": {
       "model_id": "0587ae618dc14aaf83c91172165cd4ec",
       "version_major": 2,
       "version_minor": 0
      },
      "text/plain": [
       "Possible clusters:   0%|          | 0/364 [00:00<?, ?it/s]"
      ]
     },
     "metadata": {},
     "output_type": "display_data"
    },
    {
     "data": {
      "application/vnd.jupyter.widget-view+json": {
       "model_id": "1b4cdd2a62394e83887e8b09454d8280",
       "version_major": 2,
       "version_minor": 0
      },
      "text/plain": [
       "Possible clusters:   0%|          | 0/165 [00:00<?, ?it/s]"
      ]
     },
     "metadata": {},
     "output_type": "display_data"
    },
    {
     "data": {
      "application/vnd.jupyter.widget-view+json": {
       "model_id": "c3b395f5d64c4c53a4d0466da1e5d262",
       "version_major": 2,
       "version_minor": 0
      },
      "text/plain": [
       "Possible clusters:   0%|          | 0/21 [00:00<?, ?it/s]"
      ]
     },
     "metadata": {},
     "output_type": "display_data"
    },
    {
     "data": {
      "application/vnd.jupyter.widget-view+json": {
       "model_id": "7a92b33b4e7f42c2820b2319da90f30f",
       "version_major": 2,
       "version_minor": 0
      },
      "text/plain": [
       "Possible clusters:   0%|          | 0/10 [00:00<?, ?it/s]"
      ]
     },
     "metadata": {},
     "output_type": "display_data"
    },
    {
     "data": {
      "application/vnd.jupyter.widget-view+json": {
       "model_id": "9151cc963cc74528bca7dfa227b4409b",
       "version_major": 2,
       "version_minor": 0
      },
      "text/plain": [
       "Possible clusters:   0%|          | 0/7525 [00:00<?, ?it/s]"
      ]
     },
     "metadata": {},
     "output_type": "display_data"
    },
    {
     "data": {
      "application/vnd.jupyter.widget-view+json": {
       "model_id": "bcfcee38895c4754a1c5d7ee5f79de1d",
       "version_major": 2,
       "version_minor": 0
      },
      "text/plain": [
       "Possible clusters:   0%|          | 0/3196 [00:00<?, ?it/s]"
      ]
     },
     "metadata": {},
     "output_type": "display_data"
    },
    {
     "data": {
      "application/vnd.jupyter.widget-view+json": {
       "model_id": "a262c87b87d749639d0412cecdc62d94",
       "version_major": 2,
       "version_minor": 0
      },
      "text/plain": [
       "Possible clusters:   0%|          | 0/364 [00:00<?, ?it/s]"
      ]
     },
     "metadata": {},
     "output_type": "display_data"
    },
    {
     "data": {
      "application/vnd.jupyter.widget-view+json": {
       "model_id": "96c4a17da9af4c0aa01e82cdefaf3736",
       "version_major": 2,
       "version_minor": 0
      },
      "text/plain": [
       "Possible clusters:   0%|          | 0/165 [00:00<?, ?it/s]"
      ]
     },
     "metadata": {},
     "output_type": "display_data"
    },
    {
     "data": {
      "application/vnd.jupyter.widget-view+json": {
       "model_id": "19a6dc4db86a47ad916acea31d2d3a17",
       "version_major": 2,
       "version_minor": 0
      },
      "text/plain": [
       "Possible clusters:   0%|          | 0/21 [00:00<?, ?it/s]"
      ]
     },
     "metadata": {},
     "output_type": "display_data"
    },
    {
     "data": {
      "application/vnd.jupyter.widget-view+json": {
       "model_id": "180d20f5d3bc4b3081e987c18ae5a8f2",
       "version_major": 2,
       "version_minor": 0
      },
      "text/plain": [
       "Possible clusters:   0%|          | 0/10 [00:00<?, ?it/s]"
      ]
     },
     "metadata": {},
     "output_type": "display_data"
    },
    {
     "data": {
      "application/vnd.jupyter.widget-view+json": {
       "model_id": "be0a8e8991d04796bd8cf48e520895fe",
       "version_major": 2,
       "version_minor": 0
      },
      "text/plain": [
       "Possible clusters:   0%|          | 0/10879 [00:00<?, ?it/s]"
      ]
     },
     "metadata": {},
     "output_type": "display_data"
    },
    {
     "data": {
      "application/vnd.jupyter.widget-view+json": {
       "model_id": "4881008e891b4a6b8188e54723ddb4b5",
       "version_major": 2,
       "version_minor": 0
      },
      "text/plain": [
       "Possible clusters:   0%|          | 0/5016 [00:00<?, ?it/s]"
      ]
     },
     "metadata": {},
     "output_type": "display_data"
    },
    {
     "data": {
      "application/vnd.jupyter.widget-view+json": {
       "model_id": "65bacb0f7f744a21b312156797db4a94",
       "version_major": 2,
       "version_minor": 0
      },
      "text/plain": [
       "Possible clusters:   0%|          | 0/560 [00:00<?, ?it/s]"
      ]
     },
     "metadata": {},
     "output_type": "display_data"
    },
    {
     "data": {
      "application/vnd.jupyter.widget-view+json": {
       "model_id": "7431e6de0b524e12ac88dfb381a67eac",
       "version_major": 2,
       "version_minor": 0
      },
      "text/plain": [
       "Possible clusters:   0%|          | 0/286 [00:00<?, ?it/s]"
      ]
     },
     "metadata": {},
     "output_type": "display_data"
    },
    {
     "data": {
      "application/vnd.jupyter.widget-view+json": {
       "model_id": "9d37fba99da844ae94e7c58b7974e436",
       "version_major": 2,
       "version_minor": 0
      },
      "text/plain": [
       "Possible clusters:   0%|          | 0/120 [00:00<?, ?it/s]"
      ]
     },
     "metadata": {},
     "output_type": "display_data"
    },
    {
     "data": {
      "application/vnd.jupyter.widget-view+json": {
       "model_id": "8cd49b9403314a078b4e910e79e5d510",
       "version_major": 2,
       "version_minor": 0
      },
      "text/plain": [
       "Possible clusters:   0%|          | 0/15 [00:00<?, ?it/s]"
      ]
     },
     "metadata": {},
     "output_type": "display_data"
    },
    {
     "data": {
      "application/vnd.jupyter.widget-view+json": {
       "model_id": "6600812f937e4d3188dc709f552a5975",
       "version_major": 2,
       "version_minor": 0
      },
      "text/plain": [
       "Possible clusters:   0%|          | 0/6 [00:00<?, ?it/s]"
      ]
     },
     "metadata": {},
     "output_type": "display_data"
    },
    {
     "data": {
      "application/vnd.jupyter.widget-view+json": {
       "model_id": "ee278bcc7034454b917aa2fe0888cdad",
       "version_major": 2,
       "version_minor": 0
      },
      "text/plain": [
       "Possible clusters:   0%|          | 0/4029 [00:00<?, ?it/s]"
      ]
     },
     "metadata": {},
     "output_type": "display_data"
    },
    {
     "data": {
      "application/vnd.jupyter.widget-view+json": {
       "model_id": "4b9ab4fc639548bf9ffe0f1d0292e713",
       "version_major": 2,
       "version_minor": 0
      },
      "text/plain": [
       "Possible clusters:   0%|          | 0/455 [00:00<?, ?it/s]"
      ]
     },
     "metadata": {},
     "output_type": "display_data"
    },
    {
     "data": {
      "application/vnd.jupyter.widget-view+json": {
       "model_id": "3c383284c319479e8b5e95efd87ba518",
       "version_major": 2,
       "version_minor": 0
      },
      "text/plain": [
       "Possible clusters:   0%|          | 0/220 [00:00<?, ?it/s]"
      ]
     },
     "metadata": {},
     "output_type": "display_data"
    },
    {
     "data": {
      "application/vnd.jupyter.widget-view+json": {
       "model_id": "6fb350c3c328455ca7b9540faa7fe662",
       "version_major": 2,
       "version_minor": 0
      },
      "text/plain": [
       "Possible clusters:   0%|          | 0/28 [00:00<?, ?it/s]"
      ]
     },
     "metadata": {},
     "output_type": "display_data"
    },
    {
     "data": {
      "application/vnd.jupyter.widget-view+json": {
       "model_id": "90fd12b506ac4e6ca46123f89468441d",
       "version_major": 2,
       "version_minor": 0
      },
      "text/plain": [
       "Possible clusters:   0%|          | 0/15 [00:00<?, ?it/s]"
      ]
     },
     "metadata": {},
     "output_type": "display_data"
    },
    {
     "data": {
      "application/vnd.jupyter.widget-view+json": {
       "model_id": "4963267a96a04365983cc0ee2812e869",
       "version_major": 2,
       "version_minor": 0
      },
      "text/plain": [
       "Possible clusters:   0%|          | 0/6 [00:00<?, ?it/s]"
      ]
     },
     "metadata": {},
     "output_type": "display_data"
    },
    {
     "data": {
      "application/vnd.jupyter.widget-view+json": {
       "model_id": "b3115e1ce4f7457ba996c176754a75f4",
       "version_major": 2,
       "version_minor": 0
      },
      "text/plain": [
       "Possible clusters:   0%|          | 0/101556 [00:00<?, ?it/s]"
      ]
     },
     "metadata": {},
     "output_type": "display_data"
    },
    {
     "data": {
      "application/vnd.jupyter.widget-view+json": {
       "model_id": "123957bcfd834da5a2b677331ac15682",
       "version_major": 2,
       "version_minor": 0
      },
      "text/plain": [
       "Possible clusters:   0%|          | 0/9086 [00:00<?, ?it/s]"
      ]
     },
     "metadata": {},
     "output_type": "display_data"
    },
    {
     "data": {
      "application/vnd.jupyter.widget-view+json": {
       "model_id": "a93df139e8ea45eeb082aeea2ec8a2eb",
       "version_major": 2,
       "version_minor": 0
      },
      "text/plain": [
       "Possible clusters:   0%|          | 0/4029 [00:00<?, ?it/s]"
      ]
     },
     "metadata": {},
     "output_type": "display_data"
    },
    {
     "data": {
      "application/vnd.jupyter.widget-view+json": {
       "model_id": "0cfc7019ac1a413e8b83c208e6ac2720",
       "version_major": 2,
       "version_minor": 0
      },
      "text/plain": [
       "Possible clusters:   0%|          | 0/455 [00:00<?, ?it/s]"
      ]
     },
     "metadata": {},
     "output_type": "display_data"
    },
    {
     "data": {
      "application/vnd.jupyter.widget-view+json": {
       "model_id": "0d1e54dffb704a35bd2a62615e9ede8a",
       "version_major": 2,
       "version_minor": 0
      },
      "text/plain": [
       "Possible clusters:   0%|          | 0/220 [00:00<?, ?it/s]"
      ]
     },
     "metadata": {},
     "output_type": "display_data"
    },
    {
     "data": {
      "application/vnd.jupyter.widget-view+json": {
       "model_id": "0e70f50b9e0b4410b36d0deb682b7f1d",
       "version_major": 2,
       "version_minor": 0
      },
      "text/plain": [
       "Possible clusters:   0%|          | 0/28 [00:00<?, ?it/s]"
      ]
     },
     "metadata": {},
     "output_type": "display_data"
    },
    {
     "data": {
      "application/vnd.jupyter.widget-view+json": {
       "model_id": "71b3101ec96844ba9a7058203fdaffa1",
       "version_major": 2,
       "version_minor": 0
      },
      "text/plain": [
       "Possible clusters:   0%|          | 0/15 [00:00<?, ?it/s]"
      ]
     },
     "metadata": {},
     "output_type": "display_data"
    },
    {
     "data": {
      "application/vnd.jupyter.widget-view+json": {
       "model_id": "537b85a3c9524fbf8a946f57b2934100",
       "version_major": 2,
       "version_minor": 0
      },
      "text/plain": [
       "Possible clusters:   0%|          | 0/6 [00:00<?, ?it/s]"
      ]
     },
     "metadata": {},
     "output_type": "display_data"
    },
    {
     "data": {
      "application/vnd.jupyter.widget-view+json": {
       "model_id": "cbd4647ac564442c83bccd4c025a2542",
       "version_major": 2,
       "version_minor": 0
      },
      "text/plain": [
       "Possible clusters:   0%|          | 0/10879 [00:00<?, ?it/s]"
      ]
     },
     "metadata": {},
     "output_type": "display_data"
    },
    {
     "data": {
      "application/vnd.jupyter.widget-view+json": {
       "model_id": "d804587a9aed4e92a78ed4f8e7e17269",
       "version_major": 2,
       "version_minor": 0
      },
      "text/plain": [
       "Possible clusters:   0%|          | 0/5016 [00:00<?, ?it/s]"
      ]
     },
     "metadata": {},
     "output_type": "display_data"
    },
    {
     "data": {
      "application/vnd.jupyter.widget-view+json": {
       "model_id": "7cf7a5e9b2e74b3f95d2edca64ee1632",
       "version_major": 2,
       "version_minor": 0
      },
      "text/plain": [
       "Possible clusters:   0%|          | 0/560 [00:00<?, ?it/s]"
      ]
     },
     "metadata": {},
     "output_type": "display_data"
    },
    {
     "data": {
      "application/vnd.jupyter.widget-view+json": {
       "model_id": "75892bef207340e394bbfcbe010e0b29",
       "version_major": 2,
       "version_minor": 0
      },
      "text/plain": [
       "Possible clusters:   0%|          | 0/286 [00:00<?, ?it/s]"
      ]
     },
     "metadata": {},
     "output_type": "display_data"
    },
    {
     "data": {
      "application/vnd.jupyter.widget-view+json": {
       "model_id": "a34d7a23a32b4b3984db776c24f87843",
       "version_major": 2,
       "version_minor": 0
      },
      "text/plain": [
       "Possible clusters:   0%|          | 0/120 [00:00<?, ?it/s]"
      ]
     },
     "metadata": {},
     "output_type": "display_data"
    },
    {
     "data": {
      "application/vnd.jupyter.widget-view+json": {
       "model_id": "357d0ac428ce4086af369583f635c7ce",
       "version_major": 2,
       "version_minor": 0
      },
      "text/plain": [
       "Possible clusters:   0%|          | 0/21 [00:00<?, ?it/s]"
      ]
     },
     "metadata": {},
     "output_type": "display_data"
    },
    {
     "data": {
      "application/vnd.jupyter.widget-view+json": {
       "model_id": "c4968e8da8ce4290bc339e43bff58386",
       "version_major": 2,
       "version_minor": 0
      },
      "text/plain": [
       "Possible clusters:   0%|          | 0/10 [00:00<?, ?it/s]"
      ]
     },
     "metadata": {},
     "output_type": "display_data"
    },
    {
     "data": {
      "application/vnd.jupyter.widget-view+json": {
       "model_id": "e2599223607346a78efac0b62263d43d",
       "version_major": 2,
       "version_minor": 0
      },
      "text/plain": [
       "Possible clusters:   0%|          | 0/5016 [00:00<?, ?it/s]"
      ]
     },
     "metadata": {},
     "output_type": "display_data"
    },
    {
     "data": {
      "application/vnd.jupyter.widget-view+json": {
       "model_id": "bc0e1987cc1d49619a11508ae3da157d",
       "version_major": 2,
       "version_minor": 0
      },
      "text/plain": [
       "Possible clusters:   0%|          | 0/560 [00:00<?, ?it/s]"
      ]
     },
     "metadata": {},
     "output_type": "display_data"
    },
    {
     "data": {
      "application/vnd.jupyter.widget-view+json": {
       "model_id": "cd3927a83c9640db897a7d86a298010c",
       "version_major": 2,
       "version_minor": 0
      },
      "text/plain": [
       "Possible clusters:   0%|          | 0/286 [00:00<?, ?it/s]"
      ]
     },
     "metadata": {},
     "output_type": "display_data"
    },
    {
     "data": {
      "application/vnd.jupyter.widget-view+json": {
       "model_id": "43bb318b82224b3aa0cb4cb7ff35456a",
       "version_major": 2,
       "version_minor": 0
      },
      "text/plain": [
       "Possible clusters:   0%|          | 0/120 [00:00<?, ?it/s]"
      ]
     },
     "metadata": {},
     "output_type": "display_data"
    },
    {
     "data": {
      "application/vnd.jupyter.widget-view+json": {
       "model_id": "0db6350ae545456cbb8550e9b72e7f08",
       "version_major": 2,
       "version_minor": 0
      },
      "text/plain": [
       "Possible clusters:   0%|          | 0/15 [00:00<?, ?it/s]"
      ]
     },
     "metadata": {},
     "output_type": "display_data"
    },
    {
     "data": {
      "application/vnd.jupyter.widget-view+json": {
       "model_id": "6b99251d3a384db08601c972f2b560f7",
       "version_major": 2,
       "version_minor": 0
      },
      "text/plain": [
       "Possible clusters:   0%|          | 0/6 [00:00<?, ?it/s]"
      ]
     },
     "metadata": {},
     "output_type": "display_data"
    },
    {
     "data": {
      "application/vnd.jupyter.widget-view+json": {
       "model_id": "938ebfdbc081475299d19b2243949b59",
       "version_major": 2,
       "version_minor": 0
      },
      "text/plain": [
       "Possible clusters:   0%|          | 0/9086 [00:00<?, ?it/s]"
      ]
     },
     "metadata": {},
     "output_type": "display_data"
    },
    {
     "data": {
      "application/vnd.jupyter.widget-view+json": {
       "model_id": "ad0687d83a1d45e9957f8842469faa12",
       "version_major": 2,
       "version_minor": 0
      },
      "text/plain": [
       "Possible clusters:   0%|          | 0/4029 [00:00<?, ?it/s]"
      ]
     },
     "metadata": {},
     "output_type": "display_data"
    },
    {
     "data": {
      "application/vnd.jupyter.widget-view+json": {
       "model_id": "d407769bab5a4330ad5a5324d6f04192",
       "version_major": 2,
       "version_minor": 0
      },
      "text/plain": [
       "Possible clusters:   0%|          | 0/455 [00:00<?, ?it/s]"
      ]
     },
     "metadata": {},
     "output_type": "display_data"
    },
    {
     "data": {
      "application/vnd.jupyter.widget-view+json": {
       "model_id": "431e8232c9a744b38c1a7daa0d538b2c",
       "version_major": 2,
       "version_minor": 0
      },
      "text/plain": [
       "Possible clusters:   0%|          | 0/220 [00:00<?, ?it/s]"
      ]
     },
     "metadata": {},
     "output_type": "display_data"
    },
    {
     "data": {
      "application/vnd.jupyter.widget-view+json": {
       "model_id": "95933fa0a38e4a23b31e76c37331c0a6",
       "version_major": 2,
       "version_minor": 0
      },
      "text/plain": [
       "Possible clusters:   0%|          | 0/28 [00:00<?, ?it/s]"
      ]
     },
     "metadata": {},
     "output_type": "display_data"
    },
    {
     "data": {
      "application/vnd.jupyter.widget-view+json": {
       "model_id": "84aa5fb46094401ea5f14902dae92b90",
       "version_major": 2,
       "version_minor": 0
      },
      "text/plain": [
       "Possible clusters:   0%|          | 0/15 [00:00<?, ?it/s]"
      ]
     },
     "metadata": {},
     "output_type": "display_data"
    },
    {
     "data": {
      "application/vnd.jupyter.widget-view+json": {
       "model_id": "7d2b0177672d483c8b11c33046da742f",
       "version_major": 2,
       "version_minor": 0
      },
      "text/plain": [
       "Possible clusters:   0%|          | 0/6 [00:00<?, ?it/s]"
      ]
     },
     "metadata": {},
     "output_type": "display_data"
    },
    {
     "data": {
      "application/vnd.jupyter.widget-view+json": {
       "model_id": "59ee6a3ecf6d452db36e8ed837607ac0",
       "version_major": 2,
       "version_minor": 0
      },
      "text/plain": [
       "Possible clusters:   0%|          | 0/9086 [00:00<?, ?it/s]"
      ]
     },
     "metadata": {},
     "output_type": "display_data"
    },
    {
     "data": {
      "application/vnd.jupyter.widget-view+json": {
       "model_id": "892ff13c11bc49f680e26de654d25a3c",
       "version_major": 2,
       "version_minor": 0
      },
      "text/plain": [
       "Possible clusters:   0%|          | 0/4029 [00:00<?, ?it/s]"
      ]
     },
     "metadata": {},
     "output_type": "display_data"
    },
    {
     "data": {
      "application/vnd.jupyter.widget-view+json": {
       "model_id": "b09bf5823f474c30b70deb1c3c394e41",
       "version_major": 2,
       "version_minor": 0
      },
      "text/plain": [
       "Possible clusters:   0%|          | 0/455 [00:00<?, ?it/s]"
      ]
     },
     "metadata": {},
     "output_type": "display_data"
    },
    {
     "data": {
      "application/vnd.jupyter.widget-view+json": {
       "model_id": "9082f842ffcd42cebe65c04466f78306",
       "version_major": 2,
       "version_minor": 0
      },
      "text/plain": [
       "Possible clusters:   0%|          | 0/220 [00:00<?, ?it/s]"
      ]
     },
     "metadata": {},
     "output_type": "display_data"
    },
    {
     "data": {
      "application/vnd.jupyter.widget-view+json": {
       "model_id": "13cfc998b842442a975696c2205109c1",
       "version_major": 2,
       "version_minor": 0
      },
      "text/plain": [
       "Possible clusters:   0%|          | 0/28 [00:00<?, ?it/s]"
      ]
     },
     "metadata": {},
     "output_type": "display_data"
    },
    {
     "data": {
      "application/vnd.jupyter.widget-view+json": {
       "model_id": "9af99ebf644147388388b90b247143bf",
       "version_major": 2,
       "version_minor": 0
      },
      "text/plain": [
       "Possible clusters:   0%|          | 0/15 [00:00<?, ?it/s]"
      ]
     },
     "metadata": {},
     "output_type": "display_data"
    },
    {
     "data": {
      "application/vnd.jupyter.widget-view+json": {
       "model_id": "d9efa882f6254b9d9637b5d1f85c48a2",
       "version_major": 2,
       "version_minor": 0
      },
      "text/plain": [
       "Possible clusters:   0%|          | 0/6 [00:00<?, ?it/s]"
      ]
     },
     "metadata": {},
     "output_type": "display_data"
    },
    {
     "data": {
      "application/vnd.jupyter.widget-view+json": {
       "model_id": "19f1e4c7f73d41f8bf25f403807a8767",
       "version_major": 2,
       "version_minor": 0
      },
      "text/plain": [
       "Possible clusters:   0%|          | 0/6175 [00:00<?, ?it/s]"
      ]
     },
     "metadata": {},
     "output_type": "display_data"
    },
    {
     "data": {
      "application/vnd.jupyter.widget-view+json": {
       "model_id": "2497867d8a3a44bab1e6e0fc62b6dc22",
       "version_major": 2,
       "version_minor": 0
      },
      "text/plain": [
       "Possible clusters:   0%|          | 0/2500 [00:00<?, ?it/s]"
      ]
     },
     "metadata": {},
     "output_type": "display_data"
    },
    {
     "data": {
      "application/vnd.jupyter.widget-view+json": {
       "model_id": "2819c2002b1c43bcbd2fb13447f312e4",
       "version_major": 2,
       "version_minor": 0
      },
      "text/plain": [
       "Possible clusters:   0%|          | 0/286 [00:00<?, ?it/s]"
      ]
     },
     "metadata": {},
     "output_type": "display_data"
    },
    {
     "data": {
      "application/vnd.jupyter.widget-view+json": {
       "model_id": "2aad23b6e0a344a4baa5e8b1f57ca5f7",
       "version_major": 2,
       "version_minor": 0
      },
      "text/plain": [
       "Possible clusters:   0%|          | 0/120 [00:00<?, ?it/s]"
      ]
     },
     "metadata": {},
     "output_type": "display_data"
    },
    {
     "data": {
      "application/vnd.jupyter.widget-view+json": {
       "model_id": "e46057c84eb04f4488154a31ef5a0e59",
       "version_major": 2,
       "version_minor": 0
      },
      "text/plain": [
       "Possible clusters:   0%|          | 0/15 [00:00<?, ?it/s]"
      ]
     },
     "metadata": {},
     "output_type": "display_data"
    },
    {
     "data": {
      "application/vnd.jupyter.widget-view+json": {
       "model_id": "21f670a36e7a484eb8a351d307647368",
       "version_major": 2,
       "version_minor": 0
      },
      "text/plain": [
       "Possible clusters:   0%|          | 0/6 [00:00<?, ?it/s]"
      ]
     },
     "metadata": {},
     "output_type": "display_data"
    },
    {
     "data": {
      "application/vnd.jupyter.widget-view+json": {
       "model_id": "c2f3a8e393f742bd998b98e491e46228",
       "version_major": 2,
       "version_minor": 0
      },
      "text/plain": [
       "Possible clusters:   0%|          | 0/4029 [00:00<?, ?it/s]"
      ]
     },
     "metadata": {},
     "output_type": "display_data"
    },
    {
     "data": {
      "application/vnd.jupyter.widget-view+json": {
       "model_id": "69dc9adbda3b46908d176fe286c499ad",
       "version_major": 2,
       "version_minor": 0
      },
      "text/plain": [
       "Possible clusters:   0%|          | 0/455 [00:00<?, ?it/s]"
      ]
     },
     "metadata": {},
     "output_type": "display_data"
    },
    {
     "data": {
      "application/vnd.jupyter.widget-view+json": {
       "model_id": "80a2ab7482e84296a7193d6e2f44c002",
       "version_major": 2,
       "version_minor": 0
      },
      "text/plain": [
       "Possible clusters:   0%|          | 0/220 [00:00<?, ?it/s]"
      ]
     },
     "metadata": {},
     "output_type": "display_data"
    },
    {
     "data": {
      "application/vnd.jupyter.widget-view+json": {
       "model_id": "299db6d892ea4af69d3209d72cb535c2",
       "version_major": 2,
       "version_minor": 0
      },
      "text/plain": [
       "Possible clusters:   0%|          | 0/28 [00:00<?, ?it/s]"
      ]
     },
     "metadata": {},
     "output_type": "display_data"
    },
    {
     "data": {
      "application/vnd.jupyter.widget-view+json": {
       "model_id": "f1243b6e300c4c6c924960590112e618",
       "version_major": 2,
       "version_minor": 0
      },
      "text/plain": [
       "Possible clusters:   0%|          | 0/15 [00:00<?, ?it/s]"
      ]
     },
     "metadata": {},
     "output_type": "display_data"
    },
    {
     "data": {
      "application/vnd.jupyter.widget-view+json": {
       "model_id": "22a9a54b4cff4ba1aa5c6080e717c20b",
       "version_major": 2,
       "version_minor": 0
      },
      "text/plain": [
       "Possible clusters:   0%|          | 0/6 [00:00<?, ?it/s]"
      ]
     },
     "metadata": {},
     "output_type": "display_data"
    },
    {
     "data": {
      "application/vnd.jupyter.widget-view+json": {
       "model_id": "eb37999bb9984466b87d9ae10a448f90",
       "version_major": 2,
       "version_minor": 0
      },
      "text/plain": [
       "Possible clusters:   0%|          | 0/7525 [00:00<?, ?it/s]"
      ]
     },
     "metadata": {},
     "output_type": "display_data"
    },
    {
     "data": {
      "application/vnd.jupyter.widget-view+json": {
       "model_id": "9f4329a50bd94192ab32400903cf8e49",
       "version_major": 2,
       "version_minor": 0
      },
      "text/plain": [
       "Possible clusters:   0%|          | 0/3196 [00:00<?, ?it/s]"
      ]
     },
     "metadata": {},
     "output_type": "display_data"
    },
    {
     "data": {
      "application/vnd.jupyter.widget-view+json": {
       "model_id": "df1105ec68e7439e93314a934530c88f",
       "version_major": 2,
       "version_minor": 0
      },
      "text/plain": [
       "Possible clusters:   0%|          | 0/364 [00:00<?, ?it/s]"
      ]
     },
     "metadata": {},
     "output_type": "display_data"
    },
    {
     "data": {
      "application/vnd.jupyter.widget-view+json": {
       "model_id": "2c2cd43a1a954bd8bb3366742912d1d9",
       "version_major": 2,
       "version_minor": 0
      },
      "text/plain": [
       "Possible clusters:   0%|          | 0/165 [00:00<?, ?it/s]"
      ]
     },
     "metadata": {},
     "output_type": "display_data"
    },
    {
     "data": {
      "application/vnd.jupyter.widget-view+json": {
       "model_id": "1908c4e43887458286cfb2fc0317d556",
       "version_major": 2,
       "version_minor": 0
      },
      "text/plain": [
       "Possible clusters:   0%|          | 0/21 [00:00<?, ?it/s]"
      ]
     },
     "metadata": {},
     "output_type": "display_data"
    },
    {
     "data": {
      "application/vnd.jupyter.widget-view+json": {
       "model_id": "2bf879ca403f44eab17d2ef070d83523",
       "version_major": 2,
       "version_minor": 0
      },
      "text/plain": [
       "Possible clusters:   0%|          | 0/10 [00:00<?, ?it/s]"
      ]
     },
     "metadata": {},
     "output_type": "display_data"
    },
    {
     "data": {
      "application/vnd.jupyter.widget-view+json": {
       "model_id": "097de4e426a740169ad4fcb50f48a1f2",
       "version_major": 2,
       "version_minor": 0
      },
      "text/plain": [
       "Possible clusters:   0%|          | 0/4029 [00:00<?, ?it/s]"
      ]
     },
     "metadata": {},
     "output_type": "display_data"
    },
    {
     "data": {
      "application/vnd.jupyter.widget-view+json": {
       "model_id": "228aa0f0daec42eea105c10ba30c736d",
       "version_major": 2,
       "version_minor": 0
      },
      "text/plain": [
       "Possible clusters:   0%|          | 0/455 [00:00<?, ?it/s]"
      ]
     },
     "metadata": {},
     "output_type": "display_data"
    },
    {
     "data": {
      "application/vnd.jupyter.widget-view+json": {
       "model_id": "80f606a726434876b46b97406b4a2afd",
       "version_major": 2,
       "version_minor": 0
      },
      "text/plain": [
       "Possible clusters:   0%|          | 0/220 [00:00<?, ?it/s]"
      ]
     },
     "metadata": {},
     "output_type": "display_data"
    },
    {
     "data": {
      "application/vnd.jupyter.widget-view+json": {
       "model_id": "a0d421ac00da40f78257e556c6af54a5",
       "version_major": 2,
       "version_minor": 0
      },
      "text/plain": [
       "Possible clusters:   0%|          | 0/28 [00:00<?, ?it/s]"
      ]
     },
     "metadata": {},
     "output_type": "display_data"
    },
    {
     "data": {
      "application/vnd.jupyter.widget-view+json": {
       "model_id": "4309145591544a299fb7b081cf2beb2a",
       "version_major": 2,
       "version_minor": 0
      },
      "text/plain": [
       "Possible clusters:   0%|          | 0/15 [00:00<?, ?it/s]"
      ]
     },
     "metadata": {},
     "output_type": "display_data"
    },
    {
     "data": {
      "application/vnd.jupyter.widget-view+json": {
       "model_id": "828a7d3a5aac4a5d95d98f754fa1419b",
       "version_major": 2,
       "version_minor": 0
      },
      "text/plain": [
       "Possible clusters:   0%|          | 0/6 [00:00<?, ?it/s]"
      ]
     },
     "metadata": {},
     "output_type": "display_data"
    },
    {
     "data": {
      "application/vnd.jupyter.widget-view+json": {
       "model_id": "0fb1d55935e243f4ab2953392be10e3a",
       "version_major": 2,
       "version_minor": 0
      },
      "text/plain": [
       "Possible clusters:   0%|          | 0/7525 [00:00<?, ?it/s]"
      ]
     },
     "metadata": {},
     "output_type": "display_data"
    },
    {
     "data": {
      "application/vnd.jupyter.widget-view+json": {
       "model_id": "123b8c871a2a41e7a30b48f4b5d20f9a",
       "version_major": 2,
       "version_minor": 0
      },
      "text/plain": [
       "Possible clusters:   0%|          | 0/3196 [00:00<?, ?it/s]"
      ]
     },
     "metadata": {},
     "output_type": "display_data"
    },
    {
     "data": {
      "application/vnd.jupyter.widget-view+json": {
       "model_id": "de7384d7def3430e8fb32cdb6d02fb3c",
       "version_major": 2,
       "version_minor": 0
      },
      "text/plain": [
       "Possible clusters:   0%|          | 0/364 [00:00<?, ?it/s]"
      ]
     },
     "metadata": {},
     "output_type": "display_data"
    },
    {
     "data": {
      "application/vnd.jupyter.widget-view+json": {
       "model_id": "1c571cb2ca2444748441d96b6aeff06d",
       "version_major": 2,
       "version_minor": 0
      },
      "text/plain": [
       "Possible clusters:   0%|          | 0/165 [00:00<?, ?it/s]"
      ]
     },
     "metadata": {},
     "output_type": "display_data"
    },
    {
     "data": {
      "application/vnd.jupyter.widget-view+json": {
       "model_id": "146fe8f1026d41a79a16374b0b17540b",
       "version_major": 2,
       "version_minor": 0
      },
      "text/plain": [
       "Possible clusters:   0%|          | 0/21 [00:00<?, ?it/s]"
      ]
     },
     "metadata": {},
     "output_type": "display_data"
    },
    {
     "data": {
      "application/vnd.jupyter.widget-view+json": {
       "model_id": "7094de154a4647c2948438ef6f06d705",
       "version_major": 2,
       "version_minor": 0
      },
      "text/plain": [
       "Possible clusters:   0%|          | 0/10 [00:00<?, ?it/s]"
      ]
     },
     "metadata": {},
     "output_type": "display_data"
    },
    {
     "data": {
      "application/vnd.jupyter.widget-view+json": {
       "model_id": "c2b9a6e586b64fd492db692dec9bc48a",
       "version_major": 2,
       "version_minor": 0
      },
      "text/plain": [
       "Possible clusters:   0%|          | 0/10879 [00:00<?, ?it/s]"
      ]
     },
     "metadata": {},
     "output_type": "display_data"
    },
    {
     "data": {
      "application/vnd.jupyter.widget-view+json": {
       "model_id": "191ca54dbc684176a49eb841ac60c29f",
       "version_major": 2,
       "version_minor": 0
      },
      "text/plain": [
       "Possible clusters:   0%|          | 0/5016 [00:00<?, ?it/s]"
      ]
     },
     "metadata": {},
     "output_type": "display_data"
    },
    {
     "data": {
      "application/vnd.jupyter.widget-view+json": {
       "model_id": "d212a75ebc1a497ebb71416e3fb33f43",
       "version_major": 2,
       "version_minor": 0
      },
      "text/plain": [
       "Possible clusters:   0%|          | 0/560 [00:00<?, ?it/s]"
      ]
     },
     "metadata": {},
     "output_type": "display_data"
    },
    {
     "data": {
      "application/vnd.jupyter.widget-view+json": {
       "model_id": "cf637480b20b496ebbc85f44c07557b5",
       "version_major": 2,
       "version_minor": 0
      },
      "text/plain": [
       "Possible clusters:   0%|          | 0/286 [00:00<?, ?it/s]"
      ]
     },
     "metadata": {},
     "output_type": "display_data"
    },
    {
     "data": {
      "application/vnd.jupyter.widget-view+json": {
       "model_id": "4b3b5337bc6f41f2879914e13a40b3fd",
       "version_major": 2,
       "version_minor": 0
      },
      "text/plain": [
       "Possible clusters:   0%|          | 0/120 [00:00<?, ?it/s]"
      ]
     },
     "metadata": {},
     "output_type": "display_data"
    },
    {
     "data": {
      "application/vnd.jupyter.widget-view+json": {
       "model_id": "5c713d70812e4e8bb3e385e0b66e649f",
       "version_major": 2,
       "version_minor": 0
      },
      "text/plain": [
       "Possible clusters:   0%|          | 0/15 [00:00<?, ?it/s]"
      ]
     },
     "metadata": {},
     "output_type": "display_data"
    },
    {
     "data": {
      "application/vnd.jupyter.widget-view+json": {
       "model_id": "6506de11b23a4608861a2f783385862b",
       "version_major": 2,
       "version_minor": 0
      },
      "text/plain": [
       "Possible clusters:   0%|          | 0/6 [00:00<?, ?it/s]"
      ]
     },
     "metadata": {},
     "output_type": "display_data"
    },
    {
     "data": {
      "application/vnd.jupyter.widget-view+json": {
       "model_id": "ea6287a7c9b041618f31e3cf3b5e834a",
       "version_major": 2,
       "version_minor": 0
      },
      "text/plain": [
       "Possible clusters:   0%|          | 0/5016 [00:00<?, ?it/s]"
      ]
     },
     "metadata": {},
     "output_type": "display_data"
    },
    {
     "data": {
      "application/vnd.jupyter.widget-view+json": {
       "model_id": "349ad31a63b649cfbb8b7bb3145623d4",
       "version_major": 2,
       "version_minor": 0
      },
      "text/plain": [
       "Possible clusters:   0%|          | 0/560 [00:00<?, ?it/s]"
      ]
     },
     "metadata": {},
     "output_type": "display_data"
    },
    {
     "data": {
      "application/vnd.jupyter.widget-view+json": {
       "model_id": "64397098596a493086ea9ef1f22a1daf",
       "version_major": 2,
       "version_minor": 0
      },
      "text/plain": [
       "Possible clusters:   0%|          | 0/286 [00:00<?, ?it/s]"
      ]
     },
     "metadata": {},
     "output_type": "display_data"
    },
    {
     "data": {
      "application/vnd.jupyter.widget-view+json": {
       "model_id": "aeb8e4dee6be49128fef189a21e60475",
       "version_major": 2,
       "version_minor": 0
      },
      "text/plain": [
       "Possible clusters:   0%|          | 0/120 [00:00<?, ?it/s]"
      ]
     },
     "metadata": {},
     "output_type": "display_data"
    },
    {
     "data": {
      "application/vnd.jupyter.widget-view+json": {
       "model_id": "c807a2e482974bae8137662e5c4aad64",
       "version_major": 2,
       "version_minor": 0
      },
      "text/plain": [
       "Possible clusters:   0%|          | 0/15 [00:00<?, ?it/s]"
      ]
     },
     "metadata": {},
     "output_type": "display_data"
    },
    {
     "data": {
      "application/vnd.jupyter.widget-view+json": {
       "model_id": "7258cc89205d49e68c86a62b34f17133",
       "version_major": 2,
       "version_minor": 0
      },
      "text/plain": [
       "Possible clusters:   0%|          | 0/6 [00:00<?, ?it/s]"
      ]
     },
     "metadata": {},
     "output_type": "display_data"
    },
    {
     "data": {
      "application/vnd.jupyter.widget-view+json": {
       "model_id": "a161eb6e683f46d9ad9ced20ca4f5b95",
       "version_major": 2,
       "version_minor": 0
      },
      "text/plain": [
       "Possible clusters:   0%|          | 0/9086 [00:00<?, ?it/s]"
      ]
     },
     "metadata": {},
     "output_type": "display_data"
    },
    {
     "data": {
      "application/vnd.jupyter.widget-view+json": {
       "model_id": "b6b8bdb10938416982ecbc6e52636c3d",
       "version_major": 2,
       "version_minor": 0
      },
      "text/plain": [
       "Possible clusters:   0%|          | 0/4029 [00:00<?, ?it/s]"
      ]
     },
     "metadata": {},
     "output_type": "display_data"
    },
    {
     "data": {
      "application/vnd.jupyter.widget-view+json": {
       "model_id": "4b17f322aaea47ff9a518fe04dff650d",
       "version_major": 2,
       "version_minor": 0
      },
      "text/plain": [
       "Possible clusters:   0%|          | 0/455 [00:00<?, ?it/s]"
      ]
     },
     "metadata": {},
     "output_type": "display_data"
    },
    {
     "data": {
      "application/vnd.jupyter.widget-view+json": {
       "model_id": "27f4bef6de7b4214b2f06fefcb99389b",
       "version_major": 2,
       "version_minor": 0
      },
      "text/plain": [
       "Possible clusters:   0%|          | 0/220 [00:00<?, ?it/s]"
      ]
     },
     "metadata": {},
     "output_type": "display_data"
    },
    {
     "data": {
      "application/vnd.jupyter.widget-view+json": {
       "model_id": "32940ffabf5c409ea4d1f55f4442a172",
       "version_major": 2,
       "version_minor": 0
      },
      "text/plain": [
       "Possible clusters:   0%|          | 0/28 [00:00<?, ?it/s]"
      ]
     },
     "metadata": {},
     "output_type": "display_data"
    },
    {
     "data": {
      "application/vnd.jupyter.widget-view+json": {
       "model_id": "f91c63ac0c124b0ca0a153a5371a7452",
       "version_major": 2,
       "version_minor": 0
      },
      "text/plain": [
       "Possible clusters:   0%|          | 0/15 [00:00<?, ?it/s]"
      ]
     },
     "metadata": {},
     "output_type": "display_data"
    },
    {
     "data": {
      "application/vnd.jupyter.widget-view+json": {
       "model_id": "b015831f1a144da6a3712d9d96ea19fe",
       "version_major": 2,
       "version_minor": 0
      },
      "text/plain": [
       "Possible clusters:   0%|          | 0/6 [00:00<?, ?it/s]"
      ]
     },
     "metadata": {},
     "output_type": "display_data"
    },
    {
     "data": {
      "application/vnd.jupyter.widget-view+json": {
       "model_id": "edd64ecd7e354429995e44329f933027",
       "version_major": 2,
       "version_minor": 0
      },
      "text/plain": [
       "Possible clusters:   0%|          | 0/9086 [00:00<?, ?it/s]"
      ]
     },
     "metadata": {},
     "output_type": "display_data"
    },
    {
     "data": {
      "application/vnd.jupyter.widget-view+json": {
       "model_id": "56990d67baf24ad6927a92df91aa8a94",
       "version_major": 2,
       "version_minor": 0
      },
      "text/plain": [
       "Possible clusters:   0%|          | 0/4029 [00:00<?, ?it/s]"
      ]
     },
     "metadata": {},
     "output_type": "display_data"
    },
    {
     "data": {
      "application/vnd.jupyter.widget-view+json": {
       "model_id": "d34074cfeb6242219976df01f71f204f",
       "version_major": 2,
       "version_minor": 0
      },
      "text/plain": [
       "Possible clusters:   0%|          | 0/455 [00:00<?, ?it/s]"
      ]
     },
     "metadata": {},
     "output_type": "display_data"
    },
    {
     "data": {
      "application/vnd.jupyter.widget-view+json": {
       "model_id": "f99d01639dce4869811e83452b002ab9",
       "version_major": 2,
       "version_minor": 0
      },
      "text/plain": [
       "Possible clusters:   0%|          | 0/220 [00:00<?, ?it/s]"
      ]
     },
     "metadata": {},
     "output_type": "display_data"
    },
    {
     "data": {
      "application/vnd.jupyter.widget-view+json": {
       "model_id": "c3f07feee5724eb6a5a6c5289a32d6f0",
       "version_major": 2,
       "version_minor": 0
      },
      "text/plain": [
       "Possible clusters:   0%|          | 0/28 [00:00<?, ?it/s]"
      ]
     },
     "metadata": {},
     "output_type": "display_data"
    },
    {
     "data": {
      "application/vnd.jupyter.widget-view+json": {
       "model_id": "a75d5117261841cba348a929b2e7b7f2",
       "version_major": 2,
       "version_minor": 0
      },
      "text/plain": [
       "Possible clusters:   0%|          | 0/15 [00:00<?, ?it/s]"
      ]
     },
     "metadata": {},
     "output_type": "display_data"
    },
    {
     "data": {
      "application/vnd.jupyter.widget-view+json": {
       "model_id": "4426100e984b4c12a91a1f85130796d9",
       "version_major": 2,
       "version_minor": 0
      },
      "text/plain": [
       "Possible clusters:   0%|          | 0/6 [00:00<?, ?it/s]"
      ]
     },
     "metadata": {},
     "output_type": "display_data"
    },
    {
     "data": {
      "application/vnd.jupyter.widget-view+json": {
       "model_id": "3cf1595c0b1e455bb51a2c21d7e93a8e",
       "version_major": 2,
       "version_minor": 0
      },
      "text/plain": [
       "Possible clusters:   0%|          | 0/6175 [00:00<?, ?it/s]"
      ]
     },
     "metadata": {},
     "output_type": "display_data"
    },
    {
     "data": {
      "application/vnd.jupyter.widget-view+json": {
       "model_id": "8de05bc6168e4f6b8138874af10d64da",
       "version_major": 2,
       "version_minor": 0
      },
      "text/plain": [
       "Possible clusters:   0%|          | 0/2500 [00:00<?, ?it/s]"
      ]
     },
     "metadata": {},
     "output_type": "display_data"
    },
    {
     "data": {
      "application/vnd.jupyter.widget-view+json": {
       "model_id": "be4e8241d9eb4e8f810c7441572d087a",
       "version_major": 2,
       "version_minor": 0
      },
      "text/plain": [
       "Possible clusters:   0%|          | 0/286 [00:00<?, ?it/s]"
      ]
     },
     "metadata": {},
     "output_type": "display_data"
    },
    {
     "data": {
      "application/vnd.jupyter.widget-view+json": {
       "model_id": "ad117d34674f43c1ad246f187955a7b5",
       "version_major": 2,
       "version_minor": 0
      },
      "text/plain": [
       "Possible clusters:   0%|          | 0/120 [00:00<?, ?it/s]"
      ]
     },
     "metadata": {},
     "output_type": "display_data"
    },
    {
     "data": {
      "application/vnd.jupyter.widget-view+json": {
       "model_id": "b5255db84d564adb9f19bd2664af9bbd",
       "version_major": 2,
       "version_minor": 0
      },
      "text/plain": [
       "Possible clusters:   0%|          | 0/15 [00:00<?, ?it/s]"
      ]
     },
     "metadata": {},
     "output_type": "display_data"
    },
    {
     "data": {
      "application/vnd.jupyter.widget-view+json": {
       "model_id": "712f02b1fd63439b8c94359c078d63a6",
       "version_major": 2,
       "version_minor": 0
      },
      "text/plain": [
       "Possible clusters:   0%|          | 0/6 [00:00<?, ?it/s]"
      ]
     },
     "metadata": {},
     "output_type": "display_data"
    },
    {
     "data": {
      "application/vnd.jupyter.widget-view+json": {
       "model_id": "625cc51170c04bc592f24efe8eafdb35",
       "version_major": 2,
       "version_minor": 0
      },
      "text/plain": [
       "Possible clusters:   0%|          | 0/10879 [00:00<?, ?it/s]"
      ]
     },
     "metadata": {},
     "output_type": "display_data"
    },
    {
     "data": {
      "application/vnd.jupyter.widget-view+json": {
       "model_id": "27ad39cc61d64c3087327dad81761497",
       "version_major": 2,
       "version_minor": 0
      },
      "text/plain": [
       "Possible clusters:   0%|          | 0/5016 [00:00<?, ?it/s]"
      ]
     },
     "metadata": {},
     "output_type": "display_data"
    },
    {
     "data": {
      "application/vnd.jupyter.widget-view+json": {
       "model_id": "207a5b5c0f69484cb8d8c91f21f1a6e0",
       "version_major": 2,
       "version_minor": 0
      },
      "text/plain": [
       "Possible clusters:   0%|          | 0/560 [00:00<?, ?it/s]"
      ]
     },
     "metadata": {},
     "output_type": "display_data"
    },
    {
     "data": {
      "application/vnd.jupyter.widget-view+json": {
       "model_id": "d81efab05ef743aaa4daed8038d2e898",
       "version_major": 2,
       "version_minor": 0
      },
      "text/plain": [
       "Possible clusters:   0%|          | 0/286 [00:00<?, ?it/s]"
      ]
     },
     "metadata": {},
     "output_type": "display_data"
    },
    {
     "data": {
      "application/vnd.jupyter.widget-view+json": {
       "model_id": "8b94e631db4e4c739cda922f710352b6",
       "version_major": 2,
       "version_minor": 0
      },
      "text/plain": [
       "Possible clusters:   0%|          | 0/120 [00:00<?, ?it/s]"
      ]
     },
     "metadata": {},
     "output_type": "display_data"
    },
    {
     "data": {
      "application/vnd.jupyter.widget-view+json": {
       "model_id": "30c8b03b85ee49f58b474a25a633dee2",
       "version_major": 2,
       "version_minor": 0
      },
      "text/plain": [
       "Possible clusters:   0%|          | 0/15 [00:00<?, ?it/s]"
      ]
     },
     "metadata": {},
     "output_type": "display_data"
    },
    {
     "data": {
      "application/vnd.jupyter.widget-view+json": {
       "model_id": "aa6c6d4f76d4481aacac00b3fcf68b36",
       "version_major": 2,
       "version_minor": 0
      },
      "text/plain": [
       "Possible clusters:   0%|          | 0/6 [00:00<?, ?it/s]"
      ]
     },
     "metadata": {},
     "output_type": "display_data"
    },
    {
     "data": {
      "application/vnd.jupyter.widget-view+json": {
       "model_id": "9810a06cf5a24d2e8b61e4a42176f81c",
       "version_major": 2,
       "version_minor": 0
      },
      "text/plain": [
       "Possible clusters:   0%|          | 0/68380 [00:00<?, ?it/s]"
      ]
     },
     "metadata": {},
     "output_type": "display_data"
    },
    {
     "data": {
      "application/vnd.jupyter.widget-view+json": {
       "model_id": "ad075bd351f641739bf251a5cc8517db",
       "version_major": 2,
       "version_minor": 0
      },
      "text/plain": [
       "Possible clusters:   0%|          | 0/6175 [00:00<?, ?it/s]"
      ]
     },
     "metadata": {},
     "output_type": "display_data"
    },
    {
     "data": {
      "application/vnd.jupyter.widget-view+json": {
       "model_id": "39c44146a5d44a9eb54213f0cb36f02f",
       "version_major": 2,
       "version_minor": 0
      },
      "text/plain": [
       "Possible clusters:   0%|          | 0/2500 [00:00<?, ?it/s]"
      ]
     },
     "metadata": {},
     "output_type": "display_data"
    },
    {
     "data": {
      "application/vnd.jupyter.widget-view+json": {
       "model_id": "ddf28bbda7ab4161ba5addb815fa76d7",
       "version_major": 2,
       "version_minor": 0
      },
      "text/plain": [
       "Possible clusters:   0%|          | 0/286 [00:00<?, ?it/s]"
      ]
     },
     "metadata": {},
     "output_type": "display_data"
    },
    {
     "data": {
      "application/vnd.jupyter.widget-view+json": {
       "model_id": "977f5fab17b841349a2200de5960d37b",
       "version_major": 2,
       "version_minor": 0
      },
      "text/plain": [
       "Possible clusters:   0%|          | 0/120 [00:00<?, ?it/s]"
      ]
     },
     "metadata": {},
     "output_type": "display_data"
    },
    {
     "data": {
      "application/vnd.jupyter.widget-view+json": {
       "model_id": "f4abd62c46a647909a56fbd3111c071e",
       "version_major": 2,
       "version_minor": 0
      },
      "text/plain": [
       "Possible clusters:   0%|          | 0/15 [00:00<?, ?it/s]"
      ]
     },
     "metadata": {},
     "output_type": "display_data"
    },
    {
     "data": {
      "application/vnd.jupyter.widget-view+json": {
       "model_id": "ea6ca2ea48cc4823aee0578825e32c4f",
       "version_major": 2,
       "version_minor": 0
      },
      "text/plain": [
       "Possible clusters:   0%|          | 0/6 [00:00<?, ?it/s]"
      ]
     },
     "metadata": {},
     "output_type": "display_data"
    },
    {
     "data": {
      "application/vnd.jupyter.widget-view+json": {
       "model_id": "8328e0cc8aac4ad09cb7b5b733dc27da",
       "version_major": 2,
       "version_minor": 0
      },
      "text/plain": [
       "Possible clusters:   0%|          | 0/7525 [00:00<?, ?it/s]"
      ]
     },
     "metadata": {},
     "output_type": "display_data"
    },
    {
     "data": {
      "application/vnd.jupyter.widget-view+json": {
       "model_id": "35a6f3747171403b943d6c6a5c52be94",
       "version_major": 2,
       "version_minor": 0
      },
      "text/plain": [
       "Possible clusters:   0%|          | 0/3196 [00:00<?, ?it/s]"
      ]
     },
     "metadata": {},
     "output_type": "display_data"
    },
    {
     "data": {
      "application/vnd.jupyter.widget-view+json": {
       "model_id": "2bbb28dc9929401f88558b1e388a9680",
       "version_major": 2,
       "version_minor": 0
      },
      "text/plain": [
       "Possible clusters:   0%|          | 0/364 [00:00<?, ?it/s]"
      ]
     },
     "metadata": {},
     "output_type": "display_data"
    },
    {
     "data": {
      "application/vnd.jupyter.widget-view+json": {
       "model_id": "f01b85cc11974767a7632f8865e7f5f4",
       "version_major": 2,
       "version_minor": 0
      },
      "text/plain": [
       "Possible clusters:   0%|          | 0/165 [00:00<?, ?it/s]"
      ]
     },
     "metadata": {},
     "output_type": "display_data"
    },
    {
     "data": {
      "application/vnd.jupyter.widget-view+json": {
       "model_id": "c78053de9d2a45f886991018ff666b61",
       "version_major": 2,
       "version_minor": 0
      },
      "text/plain": [
       "Possible clusters:   0%|          | 0/21 [00:00<?, ?it/s]"
      ]
     },
     "metadata": {},
     "output_type": "display_data"
    },
    {
     "data": {
      "application/vnd.jupyter.widget-view+json": {
       "model_id": "7dc02c327f78477bb2ea04d7f1b5ac3e",
       "version_major": 2,
       "version_minor": 0
      },
      "text/plain": [
       "Possible clusters:   0%|          | 0/10 [00:00<?, ?it/s]"
      ]
     },
     "metadata": {},
     "output_type": "display_data"
    },
    {
     "data": {
      "application/vnd.jupyter.widget-view+json": {
       "model_id": "3c08bd1d5cf5468cb6ccf8a231ed5ed0",
       "version_major": 2,
       "version_minor": 0
      },
      "text/plain": [
       "Possible clusters:   0%|          | 0/7525 [00:00<?, ?it/s]"
      ]
     },
     "metadata": {},
     "output_type": "display_data"
    },
    {
     "data": {
      "application/vnd.jupyter.widget-view+json": {
       "model_id": "bd1b79c658654163872b5d3c1ebb7b91",
       "version_major": 2,
       "version_minor": 0
      },
      "text/plain": [
       "Possible clusters:   0%|          | 0/3196 [00:00<?, ?it/s]"
      ]
     },
     "metadata": {},
     "output_type": "display_data"
    },
    {
     "data": {
      "application/vnd.jupyter.widget-view+json": {
       "model_id": "53db542ae1da4837aa67be932918d14d",
       "version_major": 2,
       "version_minor": 0
      },
      "text/plain": [
       "Possible clusters:   0%|          | 0/364 [00:00<?, ?it/s]"
      ]
     },
     "metadata": {},
     "output_type": "display_data"
    },
    {
     "data": {
      "application/vnd.jupyter.widget-view+json": {
       "model_id": "ec7fb7b5467d4f919aab2a7bb840db7b",
       "version_major": 2,
       "version_minor": 0
      },
      "text/plain": [
       "Possible clusters:   0%|          | 0/165 [00:00<?, ?it/s]"
      ]
     },
     "metadata": {},
     "output_type": "display_data"
    },
    {
     "data": {
      "application/vnd.jupyter.widget-view+json": {
       "model_id": "82f88525e7784da2a51d7c3a3c9f9ae2",
       "version_major": 2,
       "version_minor": 0
      },
      "text/plain": [
       "Possible clusters:   0%|          | 0/21 [00:00<?, ?it/s]"
      ]
     },
     "metadata": {},
     "output_type": "display_data"
    },
    {
     "data": {
      "application/vnd.jupyter.widget-view+json": {
       "model_id": "fc87cbe7f20748d588f142960816c55c",
       "version_major": 2,
       "version_minor": 0
      },
      "text/plain": [
       "Possible clusters:   0%|          | 0/10 [00:00<?, ?it/s]"
      ]
     },
     "metadata": {},
     "output_type": "display_data"
    },
    {
     "data": {
      "application/vnd.jupyter.widget-view+json": {
       "model_id": "9ea8eff6ee7f49b290f48046ebc7dbaf",
       "version_major": 2,
       "version_minor": 0
      },
      "text/plain": [
       "Possible clusters:   0%|          | 0/7525 [00:00<?, ?it/s]"
      ]
     },
     "metadata": {},
     "output_type": "display_data"
    },
    {
     "data": {
      "application/vnd.jupyter.widget-view+json": {
       "model_id": "04b9ba2118154a7c864957ee533a01d9",
       "version_major": 2,
       "version_minor": 0
      },
      "text/plain": [
       "Possible clusters:   0%|          | 0/3196 [00:00<?, ?it/s]"
      ]
     },
     "metadata": {},
     "output_type": "display_data"
    },
    {
     "data": {
      "application/vnd.jupyter.widget-view+json": {
       "model_id": "d8bcf3611cda45eb98849d2e3ed6548b",
       "version_major": 2,
       "version_minor": 0
      },
      "text/plain": [
       "Possible clusters:   0%|          | 0/364 [00:00<?, ?it/s]"
      ]
     },
     "metadata": {},
     "output_type": "display_data"
    },
    {
     "data": {
      "application/vnd.jupyter.widget-view+json": {
       "model_id": "eab9ba79e87845bb95e94ed9c2c65e6b",
       "version_major": 2,
       "version_minor": 0
      },
      "text/plain": [
       "Possible clusters:   0%|          | 0/165 [00:00<?, ?it/s]"
      ]
     },
     "metadata": {},
     "output_type": "display_data"
    },
    {
     "data": {
      "application/vnd.jupyter.widget-view+json": {
       "model_id": "fce61425c1b14c8c9ee733cc7fb0908f",
       "version_major": 2,
       "version_minor": 0
      },
      "text/plain": [
       "Possible clusters:   0%|          | 0/21 [00:00<?, ?it/s]"
      ]
     },
     "metadata": {},
     "output_type": "display_data"
    },
    {
     "data": {
      "application/vnd.jupyter.widget-view+json": {
       "model_id": "c8dfa2d5b2484518983cbae984ed10da",
       "version_major": 2,
       "version_minor": 0
      },
      "text/plain": [
       "Possible clusters:   0%|          | 0/10 [00:00<?, ?it/s]"
      ]
     },
     "metadata": {},
     "output_type": "display_data"
    },
    {
     "data": {
      "application/vnd.jupyter.widget-view+json": {
       "model_id": "8baee94ae97f4f16bf9c3a214ce4f707",
       "version_major": 2,
       "version_minor": 0
      },
      "text/plain": [
       "Possible clusters:   0%|          | 0/7525 [00:00<?, ?it/s]"
      ]
     },
     "metadata": {},
     "output_type": "display_data"
    },
    {
     "data": {
      "application/vnd.jupyter.widget-view+json": {
       "model_id": "55b19d079a514d799c95d9181522e809",
       "version_major": 2,
       "version_minor": 0
      },
      "text/plain": [
       "Possible clusters:   0%|          | 0/3196 [00:00<?, ?it/s]"
      ]
     },
     "metadata": {},
     "output_type": "display_data"
    },
    {
     "data": {
      "application/vnd.jupyter.widget-view+json": {
       "model_id": "3253a40df8ca476b81215bad3d067eeb",
       "version_major": 2,
       "version_minor": 0
      },
      "text/plain": [
       "Possible clusters:   0%|          | 0/364 [00:00<?, ?it/s]"
      ]
     },
     "metadata": {},
     "output_type": "display_data"
    },
    {
     "data": {
      "application/vnd.jupyter.widget-view+json": {
       "model_id": "863a4f9b844e4d36aa2e682b3da90c01",
       "version_major": 2,
       "version_minor": 0
      },
      "text/plain": [
       "Possible clusters:   0%|          | 0/165 [00:00<?, ?it/s]"
      ]
     },
     "metadata": {},
     "output_type": "display_data"
    },
    {
     "data": {
      "application/vnd.jupyter.widget-view+json": {
       "model_id": "eb35482bc226456d8a689b04d8eba80e",
       "version_major": 2,
       "version_minor": 0
      },
      "text/plain": [
       "Possible clusters:   0%|          | 0/21 [00:00<?, ?it/s]"
      ]
     },
     "metadata": {},
     "output_type": "display_data"
    },
    {
     "data": {
      "application/vnd.jupyter.widget-view+json": {
       "model_id": "cfc70b22e9c54c8a81bc0af975d963a9",
       "version_major": 2,
       "version_minor": 0
      },
      "text/plain": [
       "Possible clusters:   0%|          | 0/10 [00:00<?, ?it/s]"
      ]
     },
     "metadata": {},
     "output_type": "display_data"
    },
    {
     "data": {
      "application/vnd.jupyter.widget-view+json": {
       "model_id": "25259f4fe7294104ada9539d5025368b",
       "version_major": 2,
       "version_minor": 0
      },
      "text/plain": [
       "Possible clusters:   0%|          | 0/7525 [00:00<?, ?it/s]"
      ]
     },
     "metadata": {},
     "output_type": "display_data"
    },
    {
     "data": {
      "application/vnd.jupyter.widget-view+json": {
       "model_id": "33d6dfe83c8c475b842d7f6962a4b890",
       "version_major": 2,
       "version_minor": 0
      },
      "text/plain": [
       "Possible clusters:   0%|          | 0/3196 [00:00<?, ?it/s]"
      ]
     },
     "metadata": {},
     "output_type": "display_data"
    },
    {
     "data": {
      "application/vnd.jupyter.widget-view+json": {
       "model_id": "c8cfb05e47bb4920a5d9d6ff973579de",
       "version_major": 2,
       "version_minor": 0
      },
      "text/plain": [
       "Possible clusters:   0%|          | 0/364 [00:00<?, ?it/s]"
      ]
     },
     "metadata": {},
     "output_type": "display_data"
    },
    {
     "data": {
      "application/vnd.jupyter.widget-view+json": {
       "model_id": "ea7f595152604b11b3eaeacd638003f0",
       "version_major": 2,
       "version_minor": 0
      },
      "text/plain": [
       "Possible clusters:   0%|          | 0/165 [00:00<?, ?it/s]"
      ]
     },
     "metadata": {},
     "output_type": "display_data"
    },
    {
     "data": {
      "application/vnd.jupyter.widget-view+json": {
       "model_id": "f1e789642753495391d0c6d8d8fa0919",
       "version_major": 2,
       "version_minor": 0
      },
      "text/plain": [
       "Possible clusters:   0%|          | 0/21 [00:00<?, ?it/s]"
      ]
     },
     "metadata": {},
     "output_type": "display_data"
    },
    {
     "data": {
      "application/vnd.jupyter.widget-view+json": {
       "model_id": "09f02e99578a4fe0b7d67454a7ae31ec",
       "version_major": 2,
       "version_minor": 0
      },
      "text/plain": [
       "Possible clusters:   0%|          | 0/10 [00:00<?, ?it/s]"
      ]
     },
     "metadata": {},
     "output_type": "display_data"
    },
    {
     "data": {
      "application/vnd.jupyter.widget-view+json": {
       "model_id": "5f91b7391fa140128810dd7a8aefcf6d",
       "version_major": 2,
       "version_minor": 0
      },
      "text/plain": [
       "Possible clusters:   0%|          | 0/101556 [00:00<?, ?it/s]"
      ]
     },
     "metadata": {},
     "output_type": "display_data"
    },
    {
     "data": {
      "application/vnd.jupyter.widget-view+json": {
       "model_id": "c1013430eafd42c08518ad9a6a6917fd",
       "version_major": 2,
       "version_minor": 0
      },
      "text/plain": [
       "Possible clusters:   0%|          | 0/9086 [00:00<?, ?it/s]"
      ]
     },
     "metadata": {},
     "output_type": "display_data"
    },
    {
     "data": {
      "application/vnd.jupyter.widget-view+json": {
       "model_id": "4bd4ea1264564ed2b70cd46e9cb844f2",
       "version_major": 2,
       "version_minor": 0
      },
      "text/plain": [
       "Possible clusters:   0%|          | 0/4029 [00:00<?, ?it/s]"
      ]
     },
     "metadata": {},
     "output_type": "display_data"
    },
    {
     "data": {
      "application/vnd.jupyter.widget-view+json": {
       "model_id": "b0cfc46966e34164831f216ac02d3cef",
       "version_major": 2,
       "version_minor": 0
      },
      "text/plain": [
       "Possible clusters:   0%|          | 0/455 [00:00<?, ?it/s]"
      ]
     },
     "metadata": {},
     "output_type": "display_data"
    },
    {
     "data": {
      "application/vnd.jupyter.widget-view+json": {
       "model_id": "e9d759316162408baecfa301fed25bf7",
       "version_major": 2,
       "version_minor": 0
      },
      "text/plain": [
       "Possible clusters:   0%|          | 0/220 [00:00<?, ?it/s]"
      ]
     },
     "metadata": {},
     "output_type": "display_data"
    },
    {
     "data": {
      "application/vnd.jupyter.widget-view+json": {
       "model_id": "f2c98b098c5e4440bf15a1b119b275f4",
       "version_major": 2,
       "version_minor": 0
      },
      "text/plain": [
       "Possible clusters:   0%|          | 0/28 [00:00<?, ?it/s]"
      ]
     },
     "metadata": {},
     "output_type": "display_data"
    },
    {
     "data": {
      "application/vnd.jupyter.widget-view+json": {
       "model_id": "fd9ecc485ac44c77a98829ff527ad366",
       "version_major": 2,
       "version_minor": 0
      },
      "text/plain": [
       "Possible clusters:   0%|          | 0/15 [00:00<?, ?it/s]"
      ]
     },
     "metadata": {},
     "output_type": "display_data"
    },
    {
     "data": {
      "application/vnd.jupyter.widget-view+json": {
       "model_id": "a2a49331a7334ef1b2295b909ecdd046",
       "version_major": 2,
       "version_minor": 0
      },
      "text/plain": [
       "Possible clusters:   0%|          | 0/6 [00:00<?, ?it/s]"
      ]
     },
     "metadata": {},
     "output_type": "display_data"
    },
    {
     "data": {
      "application/vnd.jupyter.widget-view+json": {
       "model_id": "5b5da39fca004ce8a5465e1d09a19dc1",
       "version_major": 2,
       "version_minor": 0
      },
      "text/plain": [
       "Possible clusters:   0%|          | 0/6175 [00:00<?, ?it/s]"
      ]
     },
     "metadata": {},
     "output_type": "display_data"
    },
    {
     "data": {
      "application/vnd.jupyter.widget-view+json": {
       "model_id": "4aeade2d578c4a1488734facaab615dc",
       "version_major": 2,
       "version_minor": 0
      },
      "text/plain": [
       "Possible clusters:   0%|          | 0/2500 [00:00<?, ?it/s]"
      ]
     },
     "metadata": {},
     "output_type": "display_data"
    },
    {
     "data": {
      "application/vnd.jupyter.widget-view+json": {
       "model_id": "6cac10a6654e40efbc3c15390eeb91f0",
       "version_major": 2,
       "version_minor": 0
      },
      "text/plain": [
       "Possible clusters:   0%|          | 0/455 [00:00<?, ?it/s]"
      ]
     },
     "metadata": {},
     "output_type": "display_data"
    },
    {
     "data": {
      "application/vnd.jupyter.widget-view+json": {
       "model_id": "7a0ea91a4ec14ea480434d2231bb5075",
       "version_major": 2,
       "version_minor": 0
      },
      "text/plain": [
       "Possible clusters:   0%|          | 0/220 [00:00<?, ?it/s]"
      ]
     },
     "metadata": {},
     "output_type": "display_data"
    },
    {
     "data": {
      "application/vnd.jupyter.widget-view+json": {
       "model_id": "0890a0fef8f440928a11c3ac441a7bae",
       "version_major": 2,
       "version_minor": 0
      },
      "text/plain": [
       "Possible clusters:   0%|          | 0/28 [00:00<?, ?it/s]"
      ]
     },
     "metadata": {},
     "output_type": "display_data"
    },
    {
     "data": {
      "application/vnd.jupyter.widget-view+json": {
       "model_id": "f571bb2f710c400880593986e47da712",
       "version_major": 2,
       "version_minor": 0
      },
      "text/plain": [
       "Possible clusters:   0%|          | 0/15 [00:00<?, ?it/s]"
      ]
     },
     "metadata": {},
     "output_type": "display_data"
    },
    {
     "data": {
      "application/vnd.jupyter.widget-view+json": {
       "model_id": "e4ffea9d36fe40a5ba95f6c961282b6c",
       "version_major": 2,
       "version_minor": 0
      },
      "text/plain": [
       "Possible clusters:   0%|          | 0/6 [00:00<?, ?it/s]"
      ]
     },
     "metadata": {},
     "output_type": "display_data"
    },
    {
     "data": {
      "application/vnd.jupyter.widget-view+json": {
       "model_id": "3c1827113e574fb5861cfe5d0bfc4964",
       "version_major": 2,
       "version_minor": 0
      },
      "text/plain": [
       "Possible clusters:   0%|          | 0/5016 [00:00<?, ?it/s]"
      ]
     },
     "metadata": {},
     "output_type": "display_data"
    },
    {
     "data": {
      "application/vnd.jupyter.widget-view+json": {
       "model_id": "23a6632448b4421a84264c21262480e1",
       "version_major": 2,
       "version_minor": 0
      },
      "text/plain": [
       "Possible clusters:   0%|          | 0/560 [00:00<?, ?it/s]"
      ]
     },
     "metadata": {},
     "output_type": "display_data"
    },
    {
     "data": {
      "application/vnd.jupyter.widget-view+json": {
       "model_id": "30c4ec464cda4201931e770a134dde91",
       "version_major": 2,
       "version_minor": 0
      },
      "text/plain": [
       "Possible clusters:   0%|          | 0/286 [00:00<?, ?it/s]"
      ]
     },
     "metadata": {},
     "output_type": "display_data"
    },
    {
     "data": {
      "application/vnd.jupyter.widget-view+json": {
       "model_id": "73f823b9544c4a6dbacb482e7c9f9e50",
       "version_major": 2,
       "version_minor": 0
      },
      "text/plain": [
       "Possible clusters:   0%|          | 0/120 [00:00<?, ?it/s]"
      ]
     },
     "metadata": {},
     "output_type": "display_data"
    },
    {
     "data": {
      "application/vnd.jupyter.widget-view+json": {
       "model_id": "3c4aa0015c0d4c75ad7ca14f1a1c7bea",
       "version_major": 2,
       "version_minor": 0
      },
      "text/plain": [
       "Possible clusters:   0%|          | 0/15 [00:00<?, ?it/s]"
      ]
     },
     "metadata": {},
     "output_type": "display_data"
    },
    {
     "data": {
      "application/vnd.jupyter.widget-view+json": {
       "model_id": "29ed90362a834749b6c3d08fdd8c4cf1",
       "version_major": 2,
       "version_minor": 0
      },
      "text/plain": [
       "Possible clusters:   0%|          | 0/6 [00:00<?, ?it/s]"
      ]
     },
     "metadata": {},
     "output_type": "display_data"
    },
    {
     "data": {
      "application/vnd.jupyter.widget-view+json": {
       "model_id": "d2d0bc77faea438c8f9cd189369af258",
       "version_major": 2,
       "version_minor": 0
      },
      "text/plain": [
       "Possible clusters:   0%|          | 0/6175 [00:00<?, ?it/s]"
      ]
     },
     "metadata": {},
     "output_type": "display_data"
    },
    {
     "data": {
      "application/vnd.jupyter.widget-view+json": {
       "model_id": "6636720086aa455a9b1290887697a701",
       "version_major": 2,
       "version_minor": 0
      },
      "text/plain": [
       "Possible clusters:   0%|          | 0/2500 [00:00<?, ?it/s]"
      ]
     },
     "metadata": {},
     "output_type": "display_data"
    },
    {
     "data": {
      "application/vnd.jupyter.widget-view+json": {
       "model_id": "cf8e7a7d44fa4ef983c57e95c9cff53f",
       "version_major": 2,
       "version_minor": 0
      },
      "text/plain": [
       "Possible clusters:   0%|          | 0/286 [00:00<?, ?it/s]"
      ]
     },
     "metadata": {},
     "output_type": "display_data"
    },
    {
     "data": {
      "application/vnd.jupyter.widget-view+json": {
       "model_id": "553601d1a5a34736be45c081c18fb365",
       "version_major": 2,
       "version_minor": 0
      },
      "text/plain": [
       "Possible clusters:   0%|          | 0/120 [00:00<?, ?it/s]"
      ]
     },
     "metadata": {},
     "output_type": "display_data"
    },
    {
     "data": {
      "application/vnd.jupyter.widget-view+json": {
       "model_id": "23f08bb82330473eacbe401c76653be6",
       "version_major": 2,
       "version_minor": 0
      },
      "text/plain": [
       "Possible clusters:   0%|          | 0/15 [00:00<?, ?it/s]"
      ]
     },
     "metadata": {},
     "output_type": "display_data"
    },
    {
     "data": {
      "application/vnd.jupyter.widget-view+json": {
       "model_id": "a4e16560709f49eb81999726491a088d",
       "version_major": 2,
       "version_minor": 0
      },
      "text/plain": [
       "Possible clusters:   0%|          | 0/6 [00:00<?, ?it/s]"
      ]
     },
     "metadata": {},
     "output_type": "display_data"
    },
    {
     "data": {
      "application/vnd.jupyter.widget-view+json": {
       "model_id": "12a0a087667b42d195bdec0e2b305e92",
       "version_major": 2,
       "version_minor": 0
      },
      "text/plain": [
       "Possible clusters:   0%|          | 0/6175 [00:00<?, ?it/s]"
      ]
     },
     "metadata": {},
     "output_type": "display_data"
    },
    {
     "data": {
      "application/vnd.jupyter.widget-view+json": {
       "model_id": "daed18a042254e3c8dcb18af2ebdae67",
       "version_major": 2,
       "version_minor": 0
      },
      "text/plain": [
       "Possible clusters:   0%|          | 0/2500 [00:00<?, ?it/s]"
      ]
     },
     "metadata": {},
     "output_type": "display_data"
    },
    {
     "data": {
      "application/vnd.jupyter.widget-view+json": {
       "model_id": "00f304a1c7aa4b89926c6ed50f76c35c",
       "version_major": 2,
       "version_minor": 0
      },
      "text/plain": [
       "Possible clusters:   0%|          | 0/364 [00:00<?, ?it/s]"
      ]
     },
     "metadata": {},
     "output_type": "display_data"
    },
    {
     "data": {
      "application/vnd.jupyter.widget-view+json": {
       "model_id": "fb8dbc18532843baa682d8283b4c2cc2",
       "version_major": 2,
       "version_minor": 0
      },
      "text/plain": [
       "Possible clusters:   0%|          | 0/165 [00:00<?, ?it/s]"
      ]
     },
     "metadata": {},
     "output_type": "display_data"
    },
    {
     "data": {
      "application/vnd.jupyter.widget-view+json": {
       "model_id": "1de88932cfe0433f90c16e2d7f3ce1f3",
       "version_major": 2,
       "version_minor": 0
      },
      "text/plain": [
       "Possible clusters:   0%|          | 0/21 [00:00<?, ?it/s]"
      ]
     },
     "metadata": {},
     "output_type": "display_data"
    },
    {
     "data": {
      "application/vnd.jupyter.widget-view+json": {
       "model_id": "69cd746e668045048e3632fca1774a6d",
       "version_major": 2,
       "version_minor": 0
      },
      "text/plain": [
       "Possible clusters:   0%|          | 0/10 [00:00<?, ?it/s]"
      ]
     },
     "metadata": {},
     "output_type": "display_data"
    },
    {
     "data": {
      "application/vnd.jupyter.widget-view+json": {
       "model_id": "4e659fcf1669467291ca0706de91f34c",
       "version_major": 2,
       "version_minor": 0
      },
      "text/plain": [
       "Possible clusters:   0%|          | 0/242792 [00:00<?, ?it/s]"
      ]
     },
     "metadata": {},
     "output_type": "display_data"
    },
    {
     "data": {
      "application/vnd.jupyter.widget-view+json": {
       "model_id": "49ef61473fbc48e28e15ed3b0135c85a",
       "version_major": 2,
       "version_minor": 0
      },
      "text/plain": [
       "Possible clusters:   0%|          | 0/101556 [00:00<?, ?it/s]"
      ]
     },
     "metadata": {},
     "output_type": "display_data"
    },
    {
     "data": {
      "application/vnd.jupyter.widget-view+json": {
       "model_id": "1e844e10a51f46e1b713a530a5e4c8ae",
       "version_major": 2,
       "version_minor": 0
      },
      "text/plain": [
       "Possible clusters:   0%|          | 0/9086 [00:00<?, ?it/s]"
      ]
     },
     "metadata": {},
     "output_type": "display_data"
    },
    {
     "data": {
      "application/vnd.jupyter.widget-view+json": {
       "model_id": "df9db6d78c3443e1a5f1b4bc7f2c62ed",
       "version_major": 2,
       "version_minor": 0
      },
      "text/plain": [
       "Possible clusters:   0%|          | 0/4029 [00:00<?, ?it/s]"
      ]
     },
     "metadata": {},
     "output_type": "display_data"
    },
    {
     "data": {
      "application/vnd.jupyter.widget-view+json": {
       "model_id": "a8f241bde45041f7a38be35cdbd44df9",
       "version_major": 2,
       "version_minor": 0
      },
      "text/plain": [
       "Possible clusters:   0%|          | 0/455 [00:00<?, ?it/s]"
      ]
     },
     "metadata": {},
     "output_type": "display_data"
    },
    {
     "data": {
      "application/vnd.jupyter.widget-view+json": {
       "model_id": "a6c727fa36ce4b1aa08520922724fc8b",
       "version_major": 2,
       "version_minor": 0
      },
      "text/plain": [
       "Possible clusters:   0%|          | 0/220 [00:00<?, ?it/s]"
      ]
     },
     "metadata": {},
     "output_type": "display_data"
    },
    {
     "data": {
      "application/vnd.jupyter.widget-view+json": {
       "model_id": "a6c0f23f13bc40bc86edbc9805c14ad3",
       "version_major": 2,
       "version_minor": 0
      },
      "text/plain": [
       "Possible clusters:   0%|          | 0/28 [00:00<?, ?it/s]"
      ]
     },
     "metadata": {},
     "output_type": "display_data"
    },
    {
     "data": {
      "application/vnd.jupyter.widget-view+json": {
       "model_id": "ff244bbcef824f03a3db9f58913b62b8",
       "version_major": 2,
       "version_minor": 0
      },
      "text/plain": [
       "Possible clusters:   0%|          | 0/15 [00:00<?, ?it/s]"
      ]
     },
     "metadata": {},
     "output_type": "display_data"
    },
    {
     "data": {
      "application/vnd.jupyter.widget-view+json": {
       "model_id": "63fabdd6191e41ffbb1b1e687a51ec16",
       "version_major": 2,
       "version_minor": 0
      },
      "text/plain": [
       "Possible clusters:   0%|          | 0/6 [00:00<?, ?it/s]"
      ]
     },
     "metadata": {},
     "output_type": "display_data"
    },
    {
     "data": {
      "application/vnd.jupyter.widget-view+json": {
       "model_id": "936d16fb5a804ff1938694b1b65fb702",
       "version_major": 2,
       "version_minor": 0
      },
      "text/plain": [
       "Possible clusters:   0%|          | 0/6175 [00:00<?, ?it/s]"
      ]
     },
     "metadata": {},
     "output_type": "display_data"
    },
    {
     "data": {
      "application/vnd.jupyter.widget-view+json": {
       "model_id": "35d99e68db5c41a584f3ebc0c6117a06",
       "version_major": 2,
       "version_minor": 0
      },
      "text/plain": [
       "Possible clusters:   0%|          | 0/2500 [00:00<?, ?it/s]"
      ]
     },
     "metadata": {},
     "output_type": "display_data"
    },
    {
     "data": {
      "application/vnd.jupyter.widget-view+json": {
       "model_id": "4996b8f403764fdaa8037d9c24d10a5a",
       "version_major": 2,
       "version_minor": 0
      },
      "text/plain": [
       "Possible clusters:   0%|          | 0/286 [00:00<?, ?it/s]"
      ]
     },
     "metadata": {},
     "output_type": "display_data"
    },
    {
     "data": {
      "application/vnd.jupyter.widget-view+json": {
       "model_id": "684354b06cfe4271b142d07be9b8a9fa",
       "version_major": 2,
       "version_minor": 0
      },
      "text/plain": [
       "Possible clusters:   0%|          | 0/120 [00:00<?, ?it/s]"
      ]
     },
     "metadata": {},
     "output_type": "display_data"
    },
    {
     "data": {
      "application/vnd.jupyter.widget-view+json": {
       "model_id": "1e2da7be1863434a85cd5936fd387f32",
       "version_major": 2,
       "version_minor": 0
      },
      "text/plain": [
       "Possible clusters:   0%|          | 0/15 [00:00<?, ?it/s]"
      ]
     },
     "metadata": {},
     "output_type": "display_data"
    },
    {
     "data": {
      "application/vnd.jupyter.widget-view+json": {
       "model_id": "b935c85d37814e37bfd1a4741499782c",
       "version_major": 2,
       "version_minor": 0
      },
      "text/plain": [
       "Possible clusters:   0%|          | 0/6 [00:00<?, ?it/s]"
      ]
     },
     "metadata": {},
     "output_type": "display_data"
    },
    {
     "data": {
      "application/vnd.jupyter.widget-view+json": {
       "model_id": "8bef7c95f8fc4dfcb22f246a989fc95e",
       "version_major": 2,
       "version_minor": 0
      },
      "text/plain": [
       "Possible clusters:   0%|          | 0/12926 [00:00<?, ?it/s]"
      ]
     },
     "metadata": {},
     "output_type": "display_data"
    },
    {
     "data": {
      "application/vnd.jupyter.widget-view+json": {
       "model_id": "35eae04bc7c74cac86c14cb88a9f5f8f",
       "version_major": 2,
       "version_minor": 0
      },
      "text/plain": [
       "Possible clusters:   0%|          | 0/6175 [00:00<?, ?it/s]"
      ]
     },
     "metadata": {},
     "output_type": "display_data"
    },
    {
     "data": {
      "application/vnd.jupyter.widget-view+json": {
       "model_id": "f3d683f0f0fc4ee89bd3031b650c31e8",
       "version_major": 2,
       "version_minor": 0
      },
      "text/plain": [
       "Possible clusters:   0%|          | 0/2500 [00:00<?, ?it/s]"
      ]
     },
     "metadata": {},
     "output_type": "display_data"
    },
    {
     "data": {
      "application/vnd.jupyter.widget-view+json": {
       "model_id": "a0fe3faf1240405eae25f6d5099f158c",
       "version_major": 2,
       "version_minor": 0
      },
      "text/plain": [
       "Possible clusters:   0%|          | 0/286 [00:00<?, ?it/s]"
      ]
     },
     "metadata": {},
     "output_type": "display_data"
    },
    {
     "data": {
      "application/vnd.jupyter.widget-view+json": {
       "model_id": "452b2745683443fc9109e335853e0099",
       "version_major": 2,
       "version_minor": 0
      },
      "text/plain": [
       "Possible clusters:   0%|          | 0/120 [00:00<?, ?it/s]"
      ]
     },
     "metadata": {},
     "output_type": "display_data"
    },
    {
     "data": {
      "application/vnd.jupyter.widget-view+json": {
       "model_id": "0e5a78d56a224510b17e2cb79a8def7f",
       "version_major": 2,
       "version_minor": 0
      },
      "text/plain": [
       "Possible clusters:   0%|          | 0/15 [00:00<?, ?it/s]"
      ]
     },
     "metadata": {},
     "output_type": "display_data"
    },
    {
     "data": {
      "application/vnd.jupyter.widget-view+json": {
       "model_id": "53d0fb94e78d47b6aeee64ae679b0b9a",
       "version_major": 2,
       "version_minor": 0
      },
      "text/plain": [
       "Possible clusters:   0%|          | 0/6 [00:00<?, ?it/s]"
      ]
     },
     "metadata": {},
     "output_type": "display_data"
    },
    {
     "data": {
      "application/vnd.jupyter.widget-view+json": {
       "model_id": "9bd7c4bf2d6f44ff9a697cbebfbb2b81",
       "version_major": 2,
       "version_minor": 0
      },
      "text/plain": [
       "Possible clusters:   0%|          | 0/206336 [00:00<?, ?it/s]"
      ]
     },
     "metadata": {},
     "output_type": "display_data"
    },
    {
     "data": {
      "application/vnd.jupyter.widget-view+json": {
       "model_id": "fc9ff213b6ba4e70a06a67a1da300829",
       "version_major": 2,
       "version_minor": 0
      },
      "text/plain": [
       "Possible clusters:   0%|          | 0/83655 [00:00<?, ?it/s]"
      ]
     },
     "metadata": {},
     "output_type": "display_data"
    },
    {
     "data": {
      "application/vnd.jupyter.widget-view+json": {
       "model_id": "d71db16b7b654359bc3d361c783c7a11",
       "version_major": 2,
       "version_minor": 0
      },
      "text/plain": [
       "Possible clusters:   0%|          | 0/7525 [00:00<?, ?it/s]"
      ]
     },
     "metadata": {},
     "output_type": "display_data"
    },
    {
     "data": {
      "application/vnd.jupyter.widget-view+json": {
       "model_id": "d5f9c0c7da8f4c268da99d494f749669",
       "version_major": 2,
       "version_minor": 0
      },
      "text/plain": [
       "Possible clusters:   0%|          | 0/3196 [00:00<?, ?it/s]"
      ]
     },
     "metadata": {},
     "output_type": "display_data"
    },
    {
     "data": {
      "application/vnd.jupyter.widget-view+json": {
       "model_id": "81e03214acd04a46a9124b8e72d10ef3",
       "version_major": 2,
       "version_minor": 0
      },
      "text/plain": [
       "Possible clusters:   0%|          | 0/364 [00:00<?, ?it/s]"
      ]
     },
     "metadata": {},
     "output_type": "display_data"
    },
    {
     "data": {
      "application/vnd.jupyter.widget-view+json": {
       "model_id": "8cd04049312d474a942cfa54f1351c95",
       "version_major": 2,
       "version_minor": 0
      },
      "text/plain": [
       "Possible clusters:   0%|          | 0/165 [00:00<?, ?it/s]"
      ]
     },
     "metadata": {},
     "output_type": "display_data"
    },
    {
     "data": {
      "application/vnd.jupyter.widget-view+json": {
       "model_id": "51ebf8db3f974650a076afcb6a6bc786",
       "version_major": 2,
       "version_minor": 0
      },
      "text/plain": [
       "Possible clusters:   0%|          | 0/21 [00:00<?, ?it/s]"
      ]
     },
     "metadata": {},
     "output_type": "display_data"
    },
    {
     "data": {
      "application/vnd.jupyter.widget-view+json": {
       "model_id": "113e3a532ea64eafa625c010262df743",
       "version_major": 2,
       "version_minor": 0
      },
      "text/plain": [
       "Possible clusters:   0%|          | 0/10 [00:00<?, ?it/s]"
      ]
     },
     "metadata": {},
     "output_type": "display_data"
    },
    {
     "data": {
      "application/vnd.jupyter.widget-view+json": {
       "model_id": "0394511db49a4091996fc6a33ecc1bbb",
       "version_major": 2,
       "version_minor": 0
      },
      "text/plain": [
       "Possible clusters:   0%|          | 0/83655 [00:00<?, ?it/s]"
      ]
     },
     "metadata": {},
     "output_type": "display_data"
    },
    {
     "data": {
      "application/vnd.jupyter.widget-view+json": {
       "model_id": "e39505a1171e4214835c6b81a0d097ad",
       "version_major": 2,
       "version_minor": 0
      },
      "text/plain": [
       "Possible clusters:   0%|          | 0/7525 [00:00<?, ?it/s]"
      ]
     },
     "metadata": {},
     "output_type": "display_data"
    },
    {
     "data": {
      "application/vnd.jupyter.widget-view+json": {
       "model_id": "7a613f60eb55424ebb23504de649921c",
       "version_major": 2,
       "version_minor": 0
      },
      "text/plain": [
       "Possible clusters:   0%|          | 0/3196 [00:00<?, ?it/s]"
      ]
     },
     "metadata": {},
     "output_type": "display_data"
    },
    {
     "data": {
      "application/vnd.jupyter.widget-view+json": {
       "model_id": "141572979369400a80efe9e3f671b502",
       "version_major": 2,
       "version_minor": 0
      },
      "text/plain": [
       "Possible clusters:   0%|          | 0/364 [00:00<?, ?it/s]"
      ]
     },
     "metadata": {},
     "output_type": "display_data"
    },
    {
     "data": {
      "application/vnd.jupyter.widget-view+json": {
       "model_id": "313c40b2a5294681b851facdec1e6b62",
       "version_major": 2,
       "version_minor": 0
      },
      "text/plain": [
       "Possible clusters:   0%|          | 0/165 [00:00<?, ?it/s]"
      ]
     },
     "metadata": {},
     "output_type": "display_data"
    },
    {
     "data": {
      "application/vnd.jupyter.widget-view+json": {
       "model_id": "3aa07bc722a74ee7b4808fb31bc4eed8",
       "version_major": 2,
       "version_minor": 0
      },
      "text/plain": [
       "Possible clusters:   0%|          | 0/21 [00:00<?, ?it/s]"
      ]
     },
     "metadata": {},
     "output_type": "display_data"
    },
    {
     "data": {
      "application/vnd.jupyter.widget-view+json": {
       "model_id": "3c4a95a67ede4c579d9a2ff189f61e9a",
       "version_major": 2,
       "version_minor": 0
      },
      "text/plain": [
       "Possible clusters:   0%|          | 0/10 [00:00<?, ?it/s]"
      ]
     },
     "metadata": {},
     "output_type": "display_data"
    },
    {
     "data": {
      "application/vnd.jupyter.widget-view+json": {
       "model_id": "a8add8d427dd4a12889adc98e7adc068",
       "version_major": 2,
       "version_minor": 0
      },
      "text/plain": [
       "Possible clusters:   0%|          | 0/9086 [00:00<?, ?it/s]"
      ]
     },
     "metadata": {},
     "output_type": "display_data"
    },
    {
     "data": {
      "application/vnd.jupyter.widget-view+json": {
       "model_id": "11bbc1bddac24b94b69bd2aa2b8b66c9",
       "version_major": 2,
       "version_minor": 0
      },
      "text/plain": [
       "Possible clusters:   0%|          | 0/6175 [00:00<?, ?it/s]"
      ]
     },
     "metadata": {},
     "output_type": "display_data"
    },
    {
     "data": {
      "application/vnd.jupyter.widget-view+json": {
       "model_id": "c43959b81dac49fab0f13b37a7b1b9e0",
       "version_major": 2,
       "version_minor": 0
      },
      "text/plain": [
       "Possible clusters:   0%|          | 0/2500 [00:00<?, ?it/s]"
      ]
     },
     "metadata": {},
     "output_type": "display_data"
    },
    {
     "data": {
      "application/vnd.jupyter.widget-view+json": {
       "model_id": "10b90c515b7940dbb43d341b5d9ee7a1",
       "version_major": 2,
       "version_minor": 0
      },
      "text/plain": [
       "Possible clusters:   0%|          | 0/286 [00:00<?, ?it/s]"
      ]
     },
     "metadata": {},
     "output_type": "display_data"
    },
    {
     "data": {
      "application/vnd.jupyter.widget-view+json": {
       "model_id": "5a368aed325842c99d7303a2be75d0e6",
       "version_major": 2,
       "version_minor": 0
      },
      "text/plain": [
       "Possible clusters:   0%|          | 0/120 [00:00<?, ?it/s]"
      ]
     },
     "metadata": {},
     "output_type": "display_data"
    },
    {
     "data": {
      "application/vnd.jupyter.widget-view+json": {
       "model_id": "fc8baaf50f1346169fe4d998124d73aa",
       "version_major": 2,
       "version_minor": 0
      },
      "text/plain": [
       "Possible clusters:   0%|          | 0/15 [00:00<?, ?it/s]"
      ]
     },
     "metadata": {},
     "output_type": "display_data"
    },
    {
     "data": {
      "application/vnd.jupyter.widget-view+json": {
       "model_id": "d68630305453422e944d0179e98758af",
       "version_major": 2,
       "version_minor": 0
      },
      "text/plain": [
       "Possible clusters:   0%|          | 0/6 [00:00<?, ?it/s]"
      ]
     },
     "metadata": {},
     "output_type": "display_data"
    },
    {
     "data": {
      "application/vnd.jupyter.widget-view+json": {
       "model_id": "b7cf709581ed43e68e1aff1ee59eeea3",
       "version_major": 2,
       "version_minor": 0
      },
      "text/plain": [
       "Possible clusters:   0%|          | 0/10879 [00:00<?, ?it/s]"
      ]
     },
     "metadata": {},
     "output_type": "display_data"
    },
    {
     "data": {
      "application/vnd.jupyter.widget-view+json": {
       "model_id": "f639cfbb3a754611b87f68a67aa3a710",
       "version_major": 2,
       "version_minor": 0
      },
      "text/plain": [
       "Possible clusters:   0%|          | 0/5016 [00:00<?, ?it/s]"
      ]
     },
     "metadata": {},
     "output_type": "display_data"
    },
    {
     "data": {
      "application/vnd.jupyter.widget-view+json": {
       "model_id": "b7d184aa518d468286231e14eee13f6d",
       "version_major": 2,
       "version_minor": 0
      },
      "text/plain": [
       "Possible clusters:   0%|          | 0/560 [00:00<?, ?it/s]"
      ]
     },
     "metadata": {},
     "output_type": "display_data"
    },
    {
     "data": {
      "application/vnd.jupyter.widget-view+json": {
       "model_id": "dd8cb189f7ce4e0c8de5ec70ddae3159",
       "version_major": 2,
       "version_minor": 0
      },
      "text/plain": [
       "Possible clusters:   0%|          | 0/286 [00:00<?, ?it/s]"
      ]
     },
     "metadata": {},
     "output_type": "display_data"
    },
    {
     "data": {
      "application/vnd.jupyter.widget-view+json": {
       "model_id": "de84c14568ba467f85cce22897c20117",
       "version_major": 2,
       "version_minor": 0
      },
      "text/plain": [
       "Possible clusters:   0%|          | 0/120 [00:00<?, ?it/s]"
      ]
     },
     "metadata": {},
     "output_type": "display_data"
    },
    {
     "data": {
      "application/vnd.jupyter.widget-view+json": {
       "model_id": "2f411bf0c7744e0f80a56cf3df9b57d1",
       "version_major": 2,
       "version_minor": 0
      },
      "text/plain": [
       "Possible clusters:   0%|          | 0/15 [00:00<?, ?it/s]"
      ]
     },
     "metadata": {},
     "output_type": "display_data"
    },
    {
     "data": {
      "application/vnd.jupyter.widget-view+json": {
       "model_id": "e10e238d4f2543ebae24c1b1c7553030",
       "version_major": 2,
       "version_minor": 0
      },
      "text/plain": [
       "Possible clusters:   0%|          | 0/6 [00:00<?, ?it/s]"
      ]
     },
     "metadata": {},
     "output_type": "display_data"
    },
    {
     "data": {
      "application/vnd.jupyter.widget-view+json": {
       "model_id": "a7bc498033b443cb98eb3f9e7364961b",
       "version_major": 2,
       "version_minor": 0
      },
      "text/plain": [
       "Possible clusters:   0%|          | 0/9086 [00:00<?, ?it/s]"
      ]
     },
     "metadata": {},
     "output_type": "display_data"
    },
    {
     "data": {
      "application/vnd.jupyter.widget-view+json": {
       "model_id": "ba9754ac2b1e4204ac2a2ed0bb8efb98",
       "version_major": 2,
       "version_minor": 0
      },
      "text/plain": [
       "Possible clusters:   0%|          | 0/4029 [00:00<?, ?it/s]"
      ]
     },
     "metadata": {},
     "output_type": "display_data"
    },
    {
     "data": {
      "application/vnd.jupyter.widget-view+json": {
       "model_id": "c2593923f6c94fd1add1ac7c5aa19989",
       "version_major": 2,
       "version_minor": 0
      },
      "text/plain": [
       "Possible clusters:   0%|          | 0/455 [00:00<?, ?it/s]"
      ]
     },
     "metadata": {},
     "output_type": "display_data"
    },
    {
     "data": {
      "application/vnd.jupyter.widget-view+json": {
       "model_id": "d96e1ae5eba549869cd9aed9f5a0821a",
       "version_major": 2,
       "version_minor": 0
      },
      "text/plain": [
       "Possible clusters:   0%|          | 0/220 [00:00<?, ?it/s]"
      ]
     },
     "metadata": {},
     "output_type": "display_data"
    },
    {
     "data": {
      "application/vnd.jupyter.widget-view+json": {
       "model_id": "13113d86784d4db8ad11f6731e848a18",
       "version_major": 2,
       "version_minor": 0
      },
      "text/plain": [
       "Possible clusters:   0%|          | 0/28 [00:00<?, ?it/s]"
      ]
     },
     "metadata": {},
     "output_type": "display_data"
    },
    {
     "data": {
      "application/vnd.jupyter.widget-view+json": {
       "model_id": "b768c3bd9ac64fb9898f586298ea4c16",
       "version_major": 2,
       "version_minor": 0
      },
      "text/plain": [
       "Possible clusters:   0%|          | 0/15 [00:00<?, ?it/s]"
      ]
     },
     "metadata": {},
     "output_type": "display_data"
    },
    {
     "data": {
      "application/vnd.jupyter.widget-view+json": {
       "model_id": "c347895cf89f4bdcb5daa077a2f0a25e",
       "version_major": 2,
       "version_minor": 0
      },
      "text/plain": [
       "Possible clusters:   0%|          | 0/6 [00:00<?, ?it/s]"
      ]
     },
     "metadata": {},
     "output_type": "display_data"
    },
    {
     "data": {
      "application/vnd.jupyter.widget-view+json": {
       "model_id": "6d46b41924e44e138662ffd7a5cc21c1",
       "version_major": 2,
       "version_minor": 0
      },
      "text/plain": [
       "Possible clusters:   0%|          | 0/5016 [00:00<?, ?it/s]"
      ]
     },
     "metadata": {},
     "output_type": "display_data"
    },
    {
     "data": {
      "application/vnd.jupyter.widget-view+json": {
       "model_id": "20b647d4087a4fa999835a815627a693",
       "version_major": 2,
       "version_minor": 0
      },
      "text/plain": [
       "Possible clusters:   0%|          | 0/560 [00:00<?, ?it/s]"
      ]
     },
     "metadata": {},
     "output_type": "display_data"
    },
    {
     "data": {
      "application/vnd.jupyter.widget-view+json": {
       "model_id": "5c134a8de1cc4378a671308e6e674a78",
       "version_major": 2,
       "version_minor": 0
      },
      "text/plain": [
       "Possible clusters:   0%|          | 0/286 [00:00<?, ?it/s]"
      ]
     },
     "metadata": {},
     "output_type": "display_data"
    },
    {
     "data": {
      "application/vnd.jupyter.widget-view+json": {
       "model_id": "ed85973722dc4b46b4aabbc4d47cf5cc",
       "version_major": 2,
       "version_minor": 0
      },
      "text/plain": [
       "Possible clusters:   0%|          | 0/120 [00:00<?, ?it/s]"
      ]
     },
     "metadata": {},
     "output_type": "display_data"
    },
    {
     "data": {
      "application/vnd.jupyter.widget-view+json": {
       "model_id": "72440b242fee437992ccf7b44f9dfbb9",
       "version_major": 2,
       "version_minor": 0
      },
      "text/plain": [
       "Possible clusters:   0%|          | 0/15 [00:00<?, ?it/s]"
      ]
     },
     "metadata": {},
     "output_type": "display_data"
    },
    {
     "data": {
      "application/vnd.jupyter.widget-view+json": {
       "model_id": "0e709fd33c88444db2bad90e9bc8f7d9",
       "version_major": 2,
       "version_minor": 0
      },
      "text/plain": [
       "Possible clusters:   0%|          | 0/6 [00:00<?, ?it/s]"
      ]
     },
     "metadata": {},
     "output_type": "display_data"
    },
    {
     "data": {
      "application/vnd.jupyter.widget-view+json": {
       "model_id": "5c71a09817374badaea1468ae3caf800",
       "version_major": 2,
       "version_minor": 0
      },
      "text/plain": [
       "Possible clusters:   0%|          | 0/10879 [00:00<?, ?it/s]"
      ]
     },
     "metadata": {},
     "output_type": "display_data"
    },
    {
     "data": {
      "application/vnd.jupyter.widget-view+json": {
       "model_id": "48e698eac9ae497794fdc5d24ef9ff2d",
       "version_major": 2,
       "version_minor": 0
      },
      "text/plain": [
       "Possible clusters:   0%|          | 0/5016 [00:00<?, ?it/s]"
      ]
     },
     "metadata": {},
     "output_type": "display_data"
    },
    {
     "data": {
      "application/vnd.jupyter.widget-view+json": {
       "model_id": "e90e49d8491d429297b0505045cd2939",
       "version_major": 2,
       "version_minor": 0
      },
      "text/plain": [
       "Possible clusters:   0%|          | 0/560 [00:00<?, ?it/s]"
      ]
     },
     "metadata": {},
     "output_type": "display_data"
    },
    {
     "data": {
      "application/vnd.jupyter.widget-view+json": {
       "model_id": "be3eaffcf1f04c3b95b9ab39676a6a41",
       "version_major": 2,
       "version_minor": 0
      },
      "text/plain": [
       "Possible clusters:   0%|          | 0/286 [00:00<?, ?it/s]"
      ]
     },
     "metadata": {},
     "output_type": "display_data"
    },
    {
     "data": {
      "application/vnd.jupyter.widget-view+json": {
       "model_id": "c7e1811294e741ac9902e64f8120aec0",
       "version_major": 2,
       "version_minor": 0
      },
      "text/plain": [
       "Possible clusters:   0%|          | 0/120 [00:00<?, ?it/s]"
      ]
     },
     "metadata": {},
     "output_type": "display_data"
    },
    {
     "data": {
      "application/vnd.jupyter.widget-view+json": {
       "model_id": "d72c6fb19f5f4245a1fd4de610925486",
       "version_major": 2,
       "version_minor": 0
      },
      "text/plain": [
       "Possible clusters:   0%|          | 0/15 [00:00<?, ?it/s]"
      ]
     },
     "metadata": {},
     "output_type": "display_data"
    },
    {
     "data": {
      "application/vnd.jupyter.widget-view+json": {
       "model_id": "4de727c311c448df9c09e9d47a07f0b4",
       "version_major": 2,
       "version_minor": 0
      },
      "text/plain": [
       "Possible clusters:   0%|          | 0/6 [00:00<?, ?it/s]"
      ]
     },
     "metadata": {},
     "output_type": "display_data"
    },
    {
     "data": {
      "application/vnd.jupyter.widget-view+json": {
       "model_id": "de33453ca6224d46a961cb83fc25fb6a",
       "version_major": 2,
       "version_minor": 0
      },
      "text/plain": [
       "Possible clusters:   0%|          | 0/6175 [00:00<?, ?it/s]"
      ]
     },
     "metadata": {},
     "output_type": "display_data"
    },
    {
     "data": {
      "application/vnd.jupyter.widget-view+json": {
       "model_id": "9f5b2f403fda427f9464608ec5bc602e",
       "version_major": 2,
       "version_minor": 0
      },
      "text/plain": [
       "Possible clusters:   0%|          | 0/2500 [00:00<?, ?it/s]"
      ]
     },
     "metadata": {},
     "output_type": "display_data"
    },
    {
     "data": {
      "application/vnd.jupyter.widget-view+json": {
       "model_id": "22ff5cf930bb48eb92b2278e8fe2639b",
       "version_major": 2,
       "version_minor": 0
      },
      "text/plain": [
       "Possible clusters:   0%|          | 0/286 [00:00<?, ?it/s]"
      ]
     },
     "metadata": {},
     "output_type": "display_data"
    },
    {
     "data": {
      "application/vnd.jupyter.widget-view+json": {
       "model_id": "8d45d4be9d594f0cb7d9da6d267ff253",
       "version_major": 2,
       "version_minor": 0
      },
      "text/plain": [
       "Possible clusters:   0%|          | 0/120 [00:00<?, ?it/s]"
      ]
     },
     "metadata": {},
     "output_type": "display_data"
    },
    {
     "data": {
      "application/vnd.jupyter.widget-view+json": {
       "model_id": "1a6591a1f6c14a1fa20098da4484024d",
       "version_major": 2,
       "version_minor": 0
      },
      "text/plain": [
       "Possible clusters:   0%|          | 0/15 [00:00<?, ?it/s]"
      ]
     },
     "metadata": {},
     "output_type": "display_data"
    },
    {
     "data": {
      "application/vnd.jupyter.widget-view+json": {
       "model_id": "c92420a2f3e64f96bad21e5f2686b74a",
       "version_major": 2,
       "version_minor": 0
      },
      "text/plain": [
       "Possible clusters:   0%|          | 0/6 [00:00<?, ?it/s]"
      ]
     },
     "metadata": {},
     "output_type": "display_data"
    },
    {
     "data": {
      "application/vnd.jupyter.widget-view+json": {
       "model_id": "982b42aa3ee641e79b8f1b56f52e2a1e",
       "version_major": 2,
       "version_minor": 0
      },
      "text/plain": [
       "Possible clusters:   0%|          | 0/7525 [00:00<?, ?it/s]"
      ]
     },
     "metadata": {},
     "output_type": "display_data"
    },
    {
     "data": {
      "application/vnd.jupyter.widget-view+json": {
       "model_id": "1a29930842be4428b96277ee89f1418e",
       "version_major": 2,
       "version_minor": 0
      },
      "text/plain": [
       "Possible clusters:   0%|          | 0/3196 [00:00<?, ?it/s]"
      ]
     },
     "metadata": {},
     "output_type": "display_data"
    },
    {
     "data": {
      "application/vnd.jupyter.widget-view+json": {
       "model_id": "36cae62e8a214e1dbe545a135d1652d5",
       "version_major": 2,
       "version_minor": 0
      },
      "text/plain": [
       "Possible clusters:   0%|          | 0/364 [00:00<?, ?it/s]"
      ]
     },
     "metadata": {},
     "output_type": "display_data"
    },
    {
     "data": {
      "application/vnd.jupyter.widget-view+json": {
       "model_id": "dc4210a2914c4bc692833949eb461586",
       "version_major": 2,
       "version_minor": 0
      },
      "text/plain": [
       "Possible clusters:   0%|          | 0/165 [00:00<?, ?it/s]"
      ]
     },
     "metadata": {},
     "output_type": "display_data"
    },
    {
     "data": {
      "application/vnd.jupyter.widget-view+json": {
       "model_id": "564a0e97ed4a482cb0d2343a48de4de9",
       "version_major": 2,
       "version_minor": 0
      },
      "text/plain": [
       "Possible clusters:   0%|          | 0/21 [00:00<?, ?it/s]"
      ]
     },
     "metadata": {},
     "output_type": "display_data"
    },
    {
     "data": {
      "application/vnd.jupyter.widget-view+json": {
       "model_id": "17fa73bb50ff44b2b108524222a5eea0",
       "version_major": 2,
       "version_minor": 0
      },
      "text/plain": [
       "Possible clusters:   0%|          | 0/10 [00:00<?, ?it/s]"
      ]
     },
     "metadata": {},
     "output_type": "display_data"
    },
    {
     "data": {
      "application/vnd.jupyter.widget-view+json": {
       "model_id": "729f7241762149ffaf10ced3cd0159c2",
       "version_major": 2,
       "version_minor": 0
      },
      "text/plain": [
       "Possible clusters:   0%|          | 0/4029 [00:00<?, ?it/s]"
      ]
     },
     "metadata": {},
     "output_type": "display_data"
    },
    {
     "data": {
      "application/vnd.jupyter.widget-view+json": {
       "model_id": "2b72b58ebe2a4d84bbee4571c1406ecb",
       "version_major": 2,
       "version_minor": 0
      },
      "text/plain": [
       "Possible clusters:   0%|          | 0/455 [00:00<?, ?it/s]"
      ]
     },
     "metadata": {},
     "output_type": "display_data"
    },
    {
     "data": {
      "application/vnd.jupyter.widget-view+json": {
       "model_id": "8344e6d4351a4d4d90bc6ddcd3891ad7",
       "version_major": 2,
       "version_minor": 0
      },
      "text/plain": [
       "Possible clusters:   0%|          | 0/220 [00:00<?, ?it/s]"
      ]
     },
     "metadata": {},
     "output_type": "display_data"
    },
    {
     "data": {
      "application/vnd.jupyter.widget-view+json": {
       "model_id": "ad8a2d5811f14a06be57c81c0dfa0857",
       "version_major": 2,
       "version_minor": 0
      },
      "text/plain": [
       "Possible clusters:   0%|          | 0/28 [00:00<?, ?it/s]"
      ]
     },
     "metadata": {},
     "output_type": "display_data"
    },
    {
     "data": {
      "application/vnd.jupyter.widget-view+json": {
       "model_id": "74fd5ff054d5488f958bf7651efc8046",
       "version_major": 2,
       "version_minor": 0
      },
      "text/plain": [
       "Possible clusters:   0%|          | 0/15 [00:00<?, ?it/s]"
      ]
     },
     "metadata": {},
     "output_type": "display_data"
    },
    {
     "data": {
      "application/vnd.jupyter.widget-view+json": {
       "model_id": "d322ebae9d2a420bac91b888f3b57868",
       "version_major": 2,
       "version_minor": 0
      },
      "text/plain": [
       "Possible clusters:   0%|          | 0/6 [00:00<?, ?it/s]"
      ]
     },
     "metadata": {},
     "output_type": "display_data"
    },
    {
     "data": {
      "application/vnd.jupyter.widget-view+json": {
       "model_id": "a1ad3479a68d44e28056d28133c7e513",
       "version_major": 2,
       "version_minor": 0
      },
      "text/plain": [
       "Possible clusters:   0%|          | 0/122409 [00:00<?, ?it/s]"
      ]
     },
     "metadata": {},
     "output_type": "display_data"
    },
    {
     "data": {
      "application/vnd.jupyter.widget-view+json": {
       "model_id": "e0afb8deef2a40e39e05863ba87a71d1",
       "version_major": 2,
       "version_minor": 0
      },
      "text/plain": [
       "Possible clusters:   0%|          | 0/10879 [00:00<?, ?it/s]"
      ]
     },
     "metadata": {},
     "output_type": "display_data"
    },
    {
     "data": {
      "application/vnd.jupyter.widget-view+json": {
       "model_id": "f9f3733107d84e53bda57c8cab0aaf2f",
       "version_major": 2,
       "version_minor": 0
      },
      "text/plain": [
       "Possible clusters:   0%|          | 0/5016 [00:00<?, ?it/s]"
      ]
     },
     "metadata": {},
     "output_type": "display_data"
    },
    {
     "data": {
      "application/vnd.jupyter.widget-view+json": {
       "model_id": "c1ef7419021748fcba41ac5589d873f9",
       "version_major": 2,
       "version_minor": 0
      },
      "text/plain": [
       "Possible clusters:   0%|          | 0/3196 [00:00<?, ?it/s]"
      ]
     },
     "metadata": {},
     "output_type": "display_data"
    },
    {
     "data": {
      "application/vnd.jupyter.widget-view+json": {
       "model_id": "6fcad73303db4341b97334e81c7d2a42",
       "version_major": 2,
       "version_minor": 0
      },
      "text/plain": [
       "Possible clusters:   0%|          | 0/364 [00:00<?, ?it/s]"
      ]
     },
     "metadata": {},
     "output_type": "display_data"
    },
    {
     "data": {
      "application/vnd.jupyter.widget-view+json": {
       "model_id": "cebe21d708e845a6897ac9da85b54671",
       "version_major": 2,
       "version_minor": 0
      },
      "text/plain": [
       "Possible clusters:   0%|          | 0/165 [00:00<?, ?it/s]"
      ]
     },
     "metadata": {},
     "output_type": "display_data"
    },
    {
     "data": {
      "application/vnd.jupyter.widget-view+json": {
       "model_id": "c0565f70f67e4b82b697e59d78ab83e9",
       "version_major": 2,
       "version_minor": 0
      },
      "text/plain": [
       "Possible clusters:   0%|          | 0/21 [00:00<?, ?it/s]"
      ]
     },
     "metadata": {},
     "output_type": "display_data"
    },
    {
     "data": {
      "application/vnd.jupyter.widget-view+json": {
       "model_id": "10fa6a1319de40189f01400b3759b2f7",
       "version_major": 2,
       "version_minor": 0
      },
      "text/plain": [
       "Possible clusters:   0%|          | 0/10 [00:00<?, ?it/s]"
      ]
     },
     "metadata": {},
     "output_type": "display_data"
    },
    {
     "data": {
      "application/vnd.jupyter.widget-view+json": {
       "model_id": "a34d0320e23048b3b085539892fe49fc",
       "version_major": 2,
       "version_minor": 0
      },
      "text/plain": [
       "Possible clusters:   0%|          | 0/5016 [00:00<?, ?it/s]"
      ]
     },
     "metadata": {},
     "output_type": "display_data"
    },
    {
     "data": {
      "application/vnd.jupyter.widget-view+json": {
       "model_id": "158320316868431f986bbc5aa460e588",
       "version_major": 2,
       "version_minor": 0
      },
      "text/plain": [
       "Possible clusters:   0%|          | 0/560 [00:00<?, ?it/s]"
      ]
     },
     "metadata": {},
     "output_type": "display_data"
    },
    {
     "data": {
      "application/vnd.jupyter.widget-view+json": {
       "model_id": "17a9d5d10daf46b0b6523199aa4180c7",
       "version_major": 2,
       "version_minor": 0
      },
      "text/plain": [
       "Possible clusters:   0%|          | 0/286 [00:00<?, ?it/s]"
      ]
     },
     "metadata": {},
     "output_type": "display_data"
    },
    {
     "data": {
      "application/vnd.jupyter.widget-view+json": {
       "model_id": "dd2d26a2e9f540a2be210481fad44786",
       "version_major": 2,
       "version_minor": 0
      },
      "text/plain": [
       "Possible clusters:   0%|          | 0/120 [00:00<?, ?it/s]"
      ]
     },
     "metadata": {},
     "output_type": "display_data"
    },
    {
     "data": {
      "application/vnd.jupyter.widget-view+json": {
       "model_id": "fbdbc6687e2e4c75b85f54acbff57f1f",
       "version_major": 2,
       "version_minor": 0
      },
      "text/plain": [
       "Possible clusters:   0%|          | 0/15 [00:00<?, ?it/s]"
      ]
     },
     "metadata": {},
     "output_type": "display_data"
    },
    {
     "data": {
      "application/vnd.jupyter.widget-view+json": {
       "model_id": "a5fb9175a3e0490a9ef0df92363b5288",
       "version_major": 2,
       "version_minor": 0
      },
      "text/plain": [
       "Possible clusters:   0%|          | 0/6 [00:00<?, ?it/s]"
      ]
     },
     "metadata": {},
     "output_type": "display_data"
    },
    {
     "data": {
      "application/vnd.jupyter.widget-view+json": {
       "model_id": "7a9c4474a67d4047b723134f2bd7777a",
       "version_major": 2,
       "version_minor": 0
      },
      "text/plain": [
       "Possible clusters:   0%|          | 0/5016 [00:00<?, ?it/s]"
      ]
     },
     "metadata": {},
     "output_type": "display_data"
    },
    {
     "data": {
      "application/vnd.jupyter.widget-view+json": {
       "model_id": "5e25e60264b24f76b88d273c0e962f78",
       "version_major": 2,
       "version_minor": 0
      },
      "text/plain": [
       "Possible clusters:   0%|          | 0/560 [00:00<?, ?it/s]"
      ]
     },
     "metadata": {},
     "output_type": "display_data"
    },
    {
     "data": {
      "application/vnd.jupyter.widget-view+json": {
       "model_id": "552ba2648c46468787313ef8d519719f",
       "version_major": 2,
       "version_minor": 0
      },
      "text/plain": [
       "Possible clusters:   0%|          | 0/286 [00:00<?, ?it/s]"
      ]
     },
     "metadata": {},
     "output_type": "display_data"
    },
    {
     "data": {
      "application/vnd.jupyter.widget-view+json": {
       "model_id": "bf435f47b40542ec9b04b4859a0fa2de",
       "version_major": 2,
       "version_minor": 0
      },
      "text/plain": [
       "Possible clusters:   0%|          | 0/120 [00:00<?, ?it/s]"
      ]
     },
     "metadata": {},
     "output_type": "display_data"
    },
    {
     "data": {
      "application/vnd.jupyter.widget-view+json": {
       "model_id": "d46c910f08e849f38be58170860cb1ae",
       "version_major": 2,
       "version_minor": 0
      },
      "text/plain": [
       "Possible clusters:   0%|          | 0/15 [00:00<?, ?it/s]"
      ]
     },
     "metadata": {},
     "output_type": "display_data"
    },
    {
     "data": {
      "application/vnd.jupyter.widget-view+json": {
       "model_id": "f6c79f26b344436b8f54398539d49c6d",
       "version_major": 2,
       "version_minor": 0
      },
      "text/plain": [
       "Possible clusters:   0%|          | 0/6 [00:00<?, ?it/s]"
      ]
     },
     "metadata": {},
     "output_type": "display_data"
    },
    {
     "data": {
      "application/vnd.jupyter.widget-view+json": {
       "model_id": "075e316df40642d191f3880476f41f57",
       "version_major": 2,
       "version_minor": 0
      },
      "text/plain": [
       "Possible clusters:   0%|          | 0/5016 [00:00<?, ?it/s]"
      ]
     },
     "metadata": {},
     "output_type": "display_data"
    },
    {
     "data": {
      "application/vnd.jupyter.widget-view+json": {
       "model_id": "017e9b3a9c2141aa95ea6b044f85c798",
       "version_major": 2,
       "version_minor": 0
      },
      "text/plain": [
       "Possible clusters:   0%|          | 0/560 [00:00<?, ?it/s]"
      ]
     },
     "metadata": {},
     "output_type": "display_data"
    },
    {
     "data": {
      "application/vnd.jupyter.widget-view+json": {
       "model_id": "f68fcd19bfc24964bf2395e38cb37f92",
       "version_major": 2,
       "version_minor": 0
      },
      "text/plain": [
       "Possible clusters:   0%|          | 0/286 [00:00<?, ?it/s]"
      ]
     },
     "metadata": {},
     "output_type": "display_data"
    },
    {
     "data": {
      "application/vnd.jupyter.widget-view+json": {
       "model_id": "a89f588ca8ec437b9bb3647ccede117c",
       "version_major": 2,
       "version_minor": 0
      },
      "text/plain": [
       "Possible clusters:   0%|          | 0/120 [00:00<?, ?it/s]"
      ]
     },
     "metadata": {},
     "output_type": "display_data"
    },
    {
     "data": {
      "application/vnd.jupyter.widget-view+json": {
       "model_id": "4bbf94cfda9e47ca9dc9d8c3e6c30fe8",
       "version_major": 2,
       "version_minor": 0
      },
      "text/plain": [
       "Possible clusters:   0%|          | 0/15 [00:00<?, ?it/s]"
      ]
     },
     "metadata": {},
     "output_type": "display_data"
    },
    {
     "data": {
      "application/vnd.jupyter.widget-view+json": {
       "model_id": "e0242c85bb4244469341f26fc07850fc",
       "version_major": 2,
       "version_minor": 0
      },
      "text/plain": [
       "Possible clusters:   0%|          | 0/6 [00:00<?, ?it/s]"
      ]
     },
     "metadata": {},
     "output_type": "display_data"
    },
    {
     "data": {
      "application/vnd.jupyter.widget-view+json": {
       "model_id": "ea85a09b20ed40e6b06f779ce0f5b5ec",
       "version_major": 2,
       "version_minor": 0
      },
      "text/plain": [
       "Possible clusters:   0%|          | 0/12926 [00:00<?, ?it/s]"
      ]
     },
     "metadata": {},
     "output_type": "display_data"
    },
    {
     "data": {
      "application/vnd.jupyter.widget-view+json": {
       "model_id": "cd0cb4ed9beb4d8fbfa8e3c84b071881",
       "version_major": 2,
       "version_minor": 0
      },
      "text/plain": [
       "Possible clusters:   0%|          | 0/9086 [00:00<?, ?it/s]"
      ]
     },
     "metadata": {},
     "output_type": "display_data"
    },
    {
     "data": {
      "application/vnd.jupyter.widget-view+json": {
       "model_id": "a15ce485ad4942afa4eff3140d5a4792",
       "version_major": 2,
       "version_minor": 0
      },
      "text/plain": [
       "Possible clusters:   0%|          | 0/4029 [00:00<?, ?it/s]"
      ]
     },
     "metadata": {},
     "output_type": "display_data"
    },
    {
     "data": {
      "application/vnd.jupyter.widget-view+json": {
       "model_id": "4c33c0d6692945309e99718e1a3e6654",
       "version_major": 2,
       "version_minor": 0
      },
      "text/plain": [
       "Possible clusters:   0%|          | 0/455 [00:00<?, ?it/s]"
      ]
     },
     "metadata": {},
     "output_type": "display_data"
    },
    {
     "data": {
      "application/vnd.jupyter.widget-view+json": {
       "model_id": "b1eb9d20006e4d4d9f824f598f59651f",
       "version_major": 2,
       "version_minor": 0
      },
      "text/plain": [
       "Possible clusters:   0%|          | 0/220 [00:00<?, ?it/s]"
      ]
     },
     "metadata": {},
     "output_type": "display_data"
    },
    {
     "data": {
      "application/vnd.jupyter.widget-view+json": {
       "model_id": "6f5b8d6cd29d491eaec77758d45f10a7",
       "version_major": 2,
       "version_minor": 0
      },
      "text/plain": [
       "Possible clusters:   0%|          | 0/28 [00:00<?, ?it/s]"
      ]
     },
     "metadata": {},
     "output_type": "display_data"
    },
    {
     "data": {
      "application/vnd.jupyter.widget-view+json": {
       "model_id": "6134c46cffd74a82812609b27897a6e3",
       "version_major": 2,
       "version_minor": 0
      },
      "text/plain": [
       "Possible clusters:   0%|          | 0/15 [00:00<?, ?it/s]"
      ]
     },
     "metadata": {},
     "output_type": "display_data"
    },
    {
     "data": {
      "application/vnd.jupyter.widget-view+json": {
       "model_id": "0f338c900b0b40478271311305f8a421",
       "version_major": 2,
       "version_minor": 0
      },
      "text/plain": [
       "Possible clusters:   0%|          | 0/6 [00:00<?, ?it/s]"
      ]
     },
     "metadata": {},
     "output_type": "display_data"
    },
    {
     "data": {
      "application/vnd.jupyter.widget-view+json": {
       "model_id": "3df81f8da93446ec984a60ab22d53c85",
       "version_major": 2,
       "version_minor": 0
      },
      "text/plain": [
       "Possible clusters:   0%|          | 0/9086 [00:00<?, ?it/s]"
      ]
     },
     "metadata": {},
     "output_type": "display_data"
    },
    {
     "data": {
      "application/vnd.jupyter.widget-view+json": {
       "model_id": "18569ea0c3c644b2809cb09949ab3308",
       "version_major": 2,
       "version_minor": 0
      },
      "text/plain": [
       "Possible clusters:   0%|          | 0/4029 [00:00<?, ?it/s]"
      ]
     },
     "metadata": {},
     "output_type": "display_data"
    },
    {
     "data": {
      "application/vnd.jupyter.widget-view+json": {
       "model_id": "dfa891b925f5479d9991c8abb3393919",
       "version_major": 2,
       "version_minor": 0
      },
      "text/plain": [
       "Possible clusters:   0%|          | 0/455 [00:00<?, ?it/s]"
      ]
     },
     "metadata": {},
     "output_type": "display_data"
    },
    {
     "data": {
      "application/vnd.jupyter.widget-view+json": {
       "model_id": "c6f993a020de4122a2854b2c3bab8299",
       "version_major": 2,
       "version_minor": 0
      },
      "text/plain": [
       "Possible clusters:   0%|          | 0/220 [00:00<?, ?it/s]"
      ]
     },
     "metadata": {},
     "output_type": "display_data"
    },
    {
     "data": {
      "application/vnd.jupyter.widget-view+json": {
       "model_id": "de37802d5b744e1aae56a5e1cac7d21c",
       "version_major": 2,
       "version_minor": 0
      },
      "text/plain": [
       "Possible clusters:   0%|          | 0/28 [00:00<?, ?it/s]"
      ]
     },
     "metadata": {},
     "output_type": "display_data"
    },
    {
     "data": {
      "application/vnd.jupyter.widget-view+json": {
       "model_id": "7fbcad3f82f84fa7a8ac1219598d556c",
       "version_major": 2,
       "version_minor": 0
      },
      "text/plain": [
       "Possible clusters:   0%|          | 0/15 [00:00<?, ?it/s]"
      ]
     },
     "metadata": {},
     "output_type": "display_data"
    },
    {
     "data": {
      "application/vnd.jupyter.widget-view+json": {
       "model_id": "4ef451cccd09455190df0013e69a4fdd",
       "version_major": 2,
       "version_minor": 0
      },
      "text/plain": [
       "Possible clusters:   0%|          | 0/6 [00:00<?, ?it/s]"
      ]
     },
     "metadata": {},
     "output_type": "display_data"
    },
    {
     "data": {
      "application/vnd.jupyter.widget-view+json": {
       "model_id": "042c0a0f20f841a2ba6ef39206d34817",
       "version_major": 2,
       "version_minor": 0
      },
      "text/plain": [
       "Possible clusters:   0%|          | 0/10879 [00:00<?, ?it/s]"
      ]
     },
     "metadata": {},
     "output_type": "display_data"
    },
    {
     "data": {
      "application/vnd.jupyter.widget-view+json": {
       "model_id": "c4fee2587f4c4a8e87407c8dca75fe45",
       "version_major": 2,
       "version_minor": 0
      },
      "text/plain": [
       "Possible clusters:   0%|          | 0/5016 [00:00<?, ?it/s]"
      ]
     },
     "metadata": {},
     "output_type": "display_data"
    },
    {
     "data": {
      "application/vnd.jupyter.widget-view+json": {
       "model_id": "5d287026d4b4483ab9c9054d2f3a49b0",
       "version_major": 2,
       "version_minor": 0
      },
      "text/plain": [
       "Possible clusters:   0%|          | 0/560 [00:00<?, ?it/s]"
      ]
     },
     "metadata": {},
     "output_type": "display_data"
    },
    {
     "data": {
      "application/vnd.jupyter.widget-view+json": {
       "model_id": "8e16cc100d1c4898a7987dd5a73e6310",
       "version_major": 2,
       "version_minor": 0
      },
      "text/plain": [
       "Possible clusters:   0%|          | 0/286 [00:00<?, ?it/s]"
      ]
     },
     "metadata": {},
     "output_type": "display_data"
    },
    {
     "data": {
      "application/vnd.jupyter.widget-view+json": {
       "model_id": "1258f574ed974227aaf45c92b02f7b70",
       "version_major": 2,
       "version_minor": 0
      },
      "text/plain": [
       "Possible clusters:   0%|          | 0/120 [00:00<?, ?it/s]"
      ]
     },
     "metadata": {},
     "output_type": "display_data"
    },
    {
     "data": {
      "application/vnd.jupyter.widget-view+json": {
       "model_id": "6d5c64f8a56c4766b83e3594de0cab2e",
       "version_major": 2,
       "version_minor": 0
      },
      "text/plain": [
       "Possible clusters:   0%|          | 0/15 [00:00<?, ?it/s]"
      ]
     },
     "metadata": {},
     "output_type": "display_data"
    },
    {
     "data": {
      "application/vnd.jupyter.widget-view+json": {
       "model_id": "abe342832a8e45d4ac8ceb117b031dd1",
       "version_major": 2,
       "version_minor": 0
      },
      "text/plain": [
       "Possible clusters:   0%|          | 0/6 [00:00<?, ?it/s]"
      ]
     },
     "metadata": {},
     "output_type": "display_data"
    },
    {
     "data": {
      "application/vnd.jupyter.widget-view+json": {
       "model_id": "ee8306a6568d4ff9a8e72714185c3132",
       "version_major": 2,
       "version_minor": 0
      },
      "text/plain": [
       "Possible clusters:   0%|          | 0/2500 [00:00<?, ?it/s]"
      ]
     },
     "metadata": {},
     "output_type": "display_data"
    },
    {
     "data": {
      "application/vnd.jupyter.widget-view+json": {
       "model_id": "95a719ebe0114c8ba108831950a13653",
       "version_major": 2,
       "version_minor": 0
      },
      "text/plain": [
       "Possible clusters:   0%|          | 0/286 [00:00<?, ?it/s]"
      ]
     },
     "metadata": {},
     "output_type": "display_data"
    },
    {
     "data": {
      "application/vnd.jupyter.widget-view+json": {
       "model_id": "c1c0c926031b4b3cb6b489a03564558c",
       "version_major": 2,
       "version_minor": 0
      },
      "text/plain": [
       "Possible clusters:   0%|          | 0/120 [00:00<?, ?it/s]"
      ]
     },
     "metadata": {},
     "output_type": "display_data"
    },
    {
     "data": {
      "application/vnd.jupyter.widget-view+json": {
       "model_id": "f14c3f3f4b72468496017536df2976b6",
       "version_major": 2,
       "version_minor": 0
      },
      "text/plain": [
       "Possible clusters:   0%|          | 0/15 [00:00<?, ?it/s]"
      ]
     },
     "metadata": {},
     "output_type": "display_data"
    },
    {
     "data": {
      "application/vnd.jupyter.widget-view+json": {
       "model_id": "30c790d80c934b018b14db6f395c0f7f",
       "version_major": 2,
       "version_minor": 0
      },
      "text/plain": [
       "Possible clusters:   0%|          | 0/6 [00:00<?, ?it/s]"
      ]
     },
     "metadata": {},
     "output_type": "display_data"
    },
    {
     "data": {
      "application/vnd.jupyter.widget-view+json": {
       "model_id": "9e0b93425d5b494d8b4ede74801abee7",
       "version_major": 2,
       "version_minor": 0
      },
      "text/plain": [
       "Possible clusters:   0%|          | 0/6175 [00:00<?, ?it/s]"
      ]
     },
     "metadata": {},
     "output_type": "display_data"
    },
    {
     "data": {
      "application/vnd.jupyter.widget-view+json": {
       "model_id": "1eb009577f424ad39e40f147a1ccfd21",
       "version_major": 2,
       "version_minor": 0
      },
      "text/plain": [
       "Possible clusters:   0%|          | 0/2500 [00:00<?, ?it/s]"
      ]
     },
     "metadata": {},
     "output_type": "display_data"
    },
    {
     "data": {
      "application/vnd.jupyter.widget-view+json": {
       "model_id": "2ffc2c4eb80540ee8f08d668c9c39413",
       "version_major": 2,
       "version_minor": 0
      },
      "text/plain": [
       "Possible clusters:   0%|          | 0/286 [00:00<?, ?it/s]"
      ]
     },
     "metadata": {},
     "output_type": "display_data"
    },
    {
     "data": {
      "application/vnd.jupyter.widget-view+json": {
       "model_id": "6efa0744f8ab4962bec975c59975ad7c",
       "version_major": 2,
       "version_minor": 0
      },
      "text/plain": [
       "Possible clusters:   0%|          | 0/120 [00:00<?, ?it/s]"
      ]
     },
     "metadata": {},
     "output_type": "display_data"
    },
    {
     "data": {
      "application/vnd.jupyter.widget-view+json": {
       "model_id": "2b0cb2ae571f41918c998c4282b7aa92",
       "version_major": 2,
       "version_minor": 0
      },
      "text/plain": [
       "Possible clusters:   0%|          | 0/15 [00:00<?, ?it/s]"
      ]
     },
     "metadata": {},
     "output_type": "display_data"
    },
    {
     "data": {
      "application/vnd.jupyter.widget-view+json": {
       "model_id": "82ef578c5d8348abb9fe4376aa808a85",
       "version_major": 2,
       "version_minor": 0
      },
      "text/plain": [
       "Possible clusters:   0%|          | 0/6 [00:00<?, ?it/s]"
      ]
     },
     "metadata": {},
     "output_type": "display_data"
    },
    {
     "data": {
      "application/vnd.jupyter.widget-view+json": {
       "model_id": "eb2c748b903f43819caaa9b04684b7a3",
       "version_major": 2,
       "version_minor": 0
      },
      "text/plain": [
       "Possible clusters:   0%|          | 0/9086 [00:00<?, ?it/s]"
      ]
     },
     "metadata": {},
     "output_type": "display_data"
    },
    {
     "data": {
      "application/vnd.jupyter.widget-view+json": {
       "model_id": "d915b095a7c54e93a2e4bcbd6d6e4e6c",
       "version_major": 2,
       "version_minor": 0
      },
      "text/plain": [
       "Possible clusters:   0%|          | 0/4029 [00:00<?, ?it/s]"
      ]
     },
     "metadata": {},
     "output_type": "display_data"
    },
    {
     "data": {
      "application/vnd.jupyter.widget-view+json": {
       "model_id": "41679283621444858a2b6bdd976badf3",
       "version_major": 2,
       "version_minor": 0
      },
      "text/plain": [
       "Possible clusters:   0%|          | 0/455 [00:00<?, ?it/s]"
      ]
     },
     "metadata": {},
     "output_type": "display_data"
    },
    {
     "data": {
      "application/vnd.jupyter.widget-view+json": {
       "model_id": "318673dd2f1646c5b957cb1452aaf9d7",
       "version_major": 2,
       "version_minor": 0
      },
      "text/plain": [
       "Possible clusters:   0%|          | 0/220 [00:00<?, ?it/s]"
      ]
     },
     "metadata": {},
     "output_type": "display_data"
    },
    {
     "data": {
      "application/vnd.jupyter.widget-view+json": {
       "model_id": "88a33824457c4ca6984c8a7041b177ab",
       "version_major": 2,
       "version_minor": 0
      },
      "text/plain": [
       "Possible clusters:   0%|          | 0/28 [00:00<?, ?it/s]"
      ]
     },
     "metadata": {},
     "output_type": "display_data"
    },
    {
     "data": {
      "application/vnd.jupyter.widget-view+json": {
       "model_id": "0c8305f9d3614dada402041c169fc991",
       "version_major": 2,
       "version_minor": 0
      },
      "text/plain": [
       "Possible clusters:   0%|          | 0/15 [00:00<?, ?it/s]"
      ]
     },
     "metadata": {},
     "output_type": "display_data"
    },
    {
     "data": {
      "application/vnd.jupyter.widget-view+json": {
       "model_id": "92a3a28f59904d29b29608221a685486",
       "version_major": 2,
       "version_minor": 0
      },
      "text/plain": [
       "Possible clusters:   0%|          | 0/6 [00:00<?, ?it/s]"
      ]
     },
     "metadata": {},
     "output_type": "display_data"
    },
    {
     "data": {
      "application/vnd.jupyter.widget-view+json": {
       "model_id": "47f47a3afaac498999d8c88bcb77ecd2",
       "version_major": 2,
       "version_minor": 0
      },
      "text/plain": [
       "Possible clusters:   0%|          | 0/9086 [00:00<?, ?it/s]"
      ]
     },
     "metadata": {},
     "output_type": "display_data"
    },
    {
     "data": {
      "application/vnd.jupyter.widget-view+json": {
       "model_id": "d4c5a3ead90642c5be9dad79927ad795",
       "version_major": 2,
       "version_minor": 0
      },
      "text/plain": [
       "Possible clusters:   0%|          | 0/4029 [00:00<?, ?it/s]"
      ]
     },
     "metadata": {},
     "output_type": "display_data"
    },
    {
     "data": {
      "application/vnd.jupyter.widget-view+json": {
       "model_id": "d8dd38dc0583455a87ff860a2305c4ba",
       "version_major": 2,
       "version_minor": 0
      },
      "text/plain": [
       "Possible clusters:   0%|          | 0/455 [00:00<?, ?it/s]"
      ]
     },
     "metadata": {},
     "output_type": "display_data"
    },
    {
     "data": {
      "application/vnd.jupyter.widget-view+json": {
       "model_id": "30ab231a4bb14e61aa20273f36663d90",
       "version_major": 2,
       "version_minor": 0
      },
      "text/plain": [
       "Possible clusters:   0%|          | 0/220 [00:00<?, ?it/s]"
      ]
     },
     "metadata": {},
     "output_type": "display_data"
    },
    {
     "data": {
      "application/vnd.jupyter.widget-view+json": {
       "model_id": "719758d00a174b79bc06f579cfff9d9f",
       "version_major": 2,
       "version_minor": 0
      },
      "text/plain": [
       "Possible clusters:   0%|          | 0/28 [00:00<?, ?it/s]"
      ]
     },
     "metadata": {},
     "output_type": "display_data"
    },
    {
     "data": {
      "application/vnd.jupyter.widget-view+json": {
       "model_id": "61dfbbfbc2314ef5a9d2c3a7f8ad450f",
       "version_major": 2,
       "version_minor": 0
      },
      "text/plain": [
       "Possible clusters:   0%|          | 0/15 [00:00<?, ?it/s]"
      ]
     },
     "metadata": {},
     "output_type": "display_data"
    },
    {
     "data": {
      "application/vnd.jupyter.widget-view+json": {
       "model_id": "cdbb8c9779fd416b948b7195b870ce22",
       "version_major": 2,
       "version_minor": 0
      },
      "text/plain": [
       "Possible clusters:   0%|          | 0/6 [00:00<?, ?it/s]"
      ]
     },
     "metadata": {},
     "output_type": "display_data"
    },
    {
     "data": {
      "application/vnd.jupyter.widget-view+json": {
       "model_id": "165afc177e80400d95068370daa65d41",
       "version_major": 2,
       "version_minor": 0
      },
      "text/plain": [
       "Possible clusters:   0%|          | 0/10879 [00:00<?, ?it/s]"
      ]
     },
     "metadata": {},
     "output_type": "display_data"
    },
    {
     "data": {
      "application/vnd.jupyter.widget-view+json": {
       "model_id": "48a740ad18fa4fa494d3a91d91a27a2d",
       "version_major": 2,
       "version_minor": 0
      },
      "text/plain": [
       "Possible clusters:   0%|          | 0/5016 [00:00<?, ?it/s]"
      ]
     },
     "metadata": {},
     "output_type": "display_data"
    },
    {
     "data": {
      "application/vnd.jupyter.widget-view+json": {
       "model_id": "1c23ae1b9bc44f09bf4dd0c7962c9f32",
       "version_major": 2,
       "version_minor": 0
      },
      "text/plain": [
       "Possible clusters:   0%|          | 0/560 [00:00<?, ?it/s]"
      ]
     },
     "metadata": {},
     "output_type": "display_data"
    },
    {
     "data": {
      "application/vnd.jupyter.widget-view+json": {
       "model_id": "408f4eb870474eda8c1cb6e664aceba7",
       "version_major": 2,
       "version_minor": 0
      },
      "text/plain": [
       "Possible clusters:   0%|          | 0/286 [00:00<?, ?it/s]"
      ]
     },
     "metadata": {},
     "output_type": "display_data"
    },
    {
     "data": {
      "application/vnd.jupyter.widget-view+json": {
       "model_id": "2c2943576e084812bf9b210928012988",
       "version_major": 2,
       "version_minor": 0
      },
      "text/plain": [
       "Possible clusters:   0%|          | 0/120 [00:00<?, ?it/s]"
      ]
     },
     "metadata": {},
     "output_type": "display_data"
    },
    {
     "data": {
      "application/vnd.jupyter.widget-view+json": {
       "model_id": "74c2bdb0044a4f2fbd6540313daf7d51",
       "version_major": 2,
       "version_minor": 0
      },
      "text/plain": [
       "Possible clusters:   0%|          | 0/15 [00:00<?, ?it/s]"
      ]
     },
     "metadata": {},
     "output_type": "display_data"
    },
    {
     "data": {
      "application/vnd.jupyter.widget-view+json": {
       "model_id": "281d5584181c488195722e2714ae2f0d",
       "version_major": 2,
       "version_minor": 0
      },
      "text/plain": [
       "Possible clusters:   0%|          | 0/6 [00:00<?, ?it/s]"
      ]
     },
     "metadata": {},
     "output_type": "display_data"
    },
    {
     "data": {
      "application/vnd.jupyter.widget-view+json": {
       "model_id": "082535231c3843aa9aa2b0e449be9ccc",
       "version_major": 2,
       "version_minor": 0
      },
      "text/plain": [
       "Possible clusters:   0%|          | 0/12926 [00:00<?, ?it/s]"
      ]
     },
     "metadata": {},
     "output_type": "display_data"
    },
    {
     "data": {
      "application/vnd.jupyter.widget-view+json": {
       "model_id": "b912f0e05db04ed4834f3141f38e7a64",
       "version_major": 2,
       "version_minor": 0
      },
      "text/plain": [
       "Possible clusters:   0%|          | 0/6175 [00:00<?, ?it/s]"
      ]
     },
     "metadata": {},
     "output_type": "display_data"
    },
    {
     "data": {
      "application/vnd.jupyter.widget-view+json": {
       "model_id": "1f4a9f95155440eeb26e0fa1042a22db",
       "version_major": 2,
       "version_minor": 0
      },
      "text/plain": [
       "Possible clusters:   0%|          | 0/2500 [00:00<?, ?it/s]"
      ]
     },
     "metadata": {},
     "output_type": "display_data"
    },
    {
     "data": {
      "application/vnd.jupyter.widget-view+json": {
       "model_id": "e92e6735a72b4bae9a4e94bc6600eced",
       "version_major": 2,
       "version_minor": 0
      },
      "text/plain": [
       "Possible clusters:   0%|          | 0/286 [00:00<?, ?it/s]"
      ]
     },
     "metadata": {},
     "output_type": "display_data"
    },
    {
     "data": {
      "application/vnd.jupyter.widget-view+json": {
       "model_id": "9d4a681466cc468c8636d60318925b54",
       "version_major": 2,
       "version_minor": 0
      },
      "text/plain": [
       "Possible clusters:   0%|          | 0/120 [00:00<?, ?it/s]"
      ]
     },
     "metadata": {},
     "output_type": "display_data"
    },
    {
     "data": {
      "application/vnd.jupyter.widget-view+json": {
       "model_id": "d1ec0606fc784f34b56a7fca348c92f8",
       "version_major": 2,
       "version_minor": 0
      },
      "text/plain": [
       "Possible clusters:   0%|          | 0/15 [00:00<?, ?it/s]"
      ]
     },
     "metadata": {},
     "output_type": "display_data"
    },
    {
     "data": {
      "application/vnd.jupyter.widget-view+json": {
       "model_id": "c6943bda30474cb99eabb041e5a85691",
       "version_major": 2,
       "version_minor": 0
      },
      "text/plain": [
       "Possible clusters:   0%|          | 0/6 [00:00<?, ?it/s]"
      ]
     },
     "metadata": {},
     "output_type": "display_data"
    },
    {
     "data": {
      "application/vnd.jupyter.widget-view+json": {
       "model_id": "a88751333c1d407ca04c06d065e4e70c",
       "version_major": 2,
       "version_minor": 0
      },
      "text/plain": [
       "Possible clusters:   0%|          | 0/560 [00:00<?, ?it/s]"
      ]
     },
     "metadata": {},
     "output_type": "display_data"
    },
    {
     "data": {
      "application/vnd.jupyter.widget-view+json": {
       "model_id": "2816cab6e82642109dc60a9f58e7401c",
       "version_major": 2,
       "version_minor": 0
      },
      "text/plain": [
       "Possible clusters:   0%|          | 0/286 [00:00<?, ?it/s]"
      ]
     },
     "metadata": {},
     "output_type": "display_data"
    },
    {
     "data": {
      "application/vnd.jupyter.widget-view+json": {
       "model_id": "356c555fc9aa4913bd5d62d115a68850",
       "version_major": 2,
       "version_minor": 0
      },
      "text/plain": [
       "Possible clusters:   0%|          | 0/120 [00:00<?, ?it/s]"
      ]
     },
     "metadata": {},
     "output_type": "display_data"
    },
    {
     "data": {
      "application/vnd.jupyter.widget-view+json": {
       "model_id": "9cf2fc7091ae41a1aca21ccd1eb38ac0",
       "version_major": 2,
       "version_minor": 0
      },
      "text/plain": [
       "Possible clusters:   0%|          | 0/15 [00:00<?, ?it/s]"
      ]
     },
     "metadata": {},
     "output_type": "display_data"
    },
    {
     "data": {
      "application/vnd.jupyter.widget-view+json": {
       "model_id": "83a4875c9529419799d8f595c145a43f",
       "version_major": 2,
       "version_minor": 0
      },
      "text/plain": [
       "Possible clusters:   0%|          | 0/6 [00:00<?, ?it/s]"
      ]
     },
     "metadata": {},
     "output_type": "display_data"
    },
    {
     "data": {
      "application/vnd.jupyter.widget-view+json": {
       "model_id": "5b94835430c542fe8ca0e9dafe621bc0",
       "version_major": 2,
       "version_minor": 0
      },
      "text/plain": [
       "Possible clusters:   0%|          | 0/83655 [00:00<?, ?it/s]"
      ]
     },
     "metadata": {},
     "output_type": "display_data"
    },
    {
     "data": {
      "application/vnd.jupyter.widget-view+json": {
       "model_id": "031788b6d2944b55a45e36df40d73909",
       "version_major": 2,
       "version_minor": 0
      },
      "text/plain": [
       "Possible clusters:   0%|          | 0/7525 [00:00<?, ?it/s]"
      ]
     },
     "metadata": {},
     "output_type": "display_data"
    },
    {
     "data": {
      "application/vnd.jupyter.widget-view+json": {
       "model_id": "48b60ced13964fd3b5fc0c3362264066",
       "version_major": 2,
       "version_minor": 0
      },
      "text/plain": [
       "Possible clusters:   0%|          | 0/3196 [00:00<?, ?it/s]"
      ]
     },
     "metadata": {},
     "output_type": "display_data"
    },
    {
     "data": {
      "application/vnd.jupyter.widget-view+json": {
       "model_id": "e6e9d70a12894ea9bb671aaf9e890307",
       "version_major": 2,
       "version_minor": 0
      },
      "text/plain": [
       "Possible clusters:   0%|          | 0/364 [00:00<?, ?it/s]"
      ]
     },
     "metadata": {},
     "output_type": "display_data"
    },
    {
     "data": {
      "application/vnd.jupyter.widget-view+json": {
       "model_id": "8180ebdafbeb41d581c1656a251b45a8",
       "version_major": 2,
       "version_minor": 0
      },
      "text/plain": [
       "Possible clusters:   0%|          | 0/165 [00:00<?, ?it/s]"
      ]
     },
     "metadata": {},
     "output_type": "display_data"
    },
    {
     "data": {
      "application/vnd.jupyter.widget-view+json": {
       "model_id": "857e1926456540c2867df6aef1c71617",
       "version_major": 2,
       "version_minor": 0
      },
      "text/plain": [
       "Possible clusters:   0%|          | 0/21 [00:00<?, ?it/s]"
      ]
     },
     "metadata": {},
     "output_type": "display_data"
    },
    {
     "data": {
      "application/vnd.jupyter.widget-view+json": {
       "model_id": "532392ac859c4aed937d2b1b6aba4a4b",
       "version_major": 2,
       "version_minor": 0
      },
      "text/plain": [
       "Possible clusters:   0%|          | 0/10 [00:00<?, ?it/s]"
      ]
     },
     "metadata": {},
     "output_type": "display_data"
    },
    {
     "data": {
      "application/vnd.jupyter.widget-view+json": {
       "model_id": "a0bbde034a5341a49bd90cf4422f29e9",
       "version_major": 2,
       "version_minor": 0
      },
      "text/plain": [
       "Possible clusters:   0%|          | 0/10879 [00:00<?, ?it/s]"
      ]
     },
     "metadata": {},
     "output_type": "display_data"
    },
    {
     "data": {
      "application/vnd.jupyter.widget-view+json": {
       "model_id": "a02c6357d0354a0fb66f144062c55de9",
       "version_major": 2,
       "version_minor": 0
      },
      "text/plain": [
       "Possible clusters:   0%|          | 0/5016 [00:00<?, ?it/s]"
      ]
     },
     "metadata": {},
     "output_type": "display_data"
    },
    {
     "data": {
      "application/vnd.jupyter.widget-view+json": {
       "model_id": "0a89613705bf429e8cf1f36239be878c",
       "version_major": 2,
       "version_minor": 0
      },
      "text/plain": [
       "Possible clusters:   0%|          | 0/560 [00:00<?, ?it/s]"
      ]
     },
     "metadata": {},
     "output_type": "display_data"
    },
    {
     "data": {
      "application/vnd.jupyter.widget-view+json": {
       "model_id": "479954c0148f43eaa75a3cfa63d699e6",
       "version_major": 2,
       "version_minor": 0
      },
      "text/plain": [
       "Possible clusters:   0%|          | 0/286 [00:00<?, ?it/s]"
      ]
     },
     "metadata": {},
     "output_type": "display_data"
    },
    {
     "data": {
      "application/vnd.jupyter.widget-view+json": {
       "model_id": "7e466200341a4660a6b2799fa0552b10",
       "version_major": 2,
       "version_minor": 0
      },
      "text/plain": [
       "Possible clusters:   0%|          | 0/120 [00:00<?, ?it/s]"
      ]
     },
     "metadata": {},
     "output_type": "display_data"
    },
    {
     "data": {
      "application/vnd.jupyter.widget-view+json": {
       "model_id": "1c31b420f2c547389be5451a77f07434",
       "version_major": 2,
       "version_minor": 0
      },
      "text/plain": [
       "Possible clusters:   0%|          | 0/15 [00:00<?, ?it/s]"
      ]
     },
     "metadata": {},
     "output_type": "display_data"
    },
    {
     "data": {
      "application/vnd.jupyter.widget-view+json": {
       "model_id": "4173f27f27a645b09e0f4e2155cbf55f",
       "version_major": 2,
       "version_minor": 0
      },
      "text/plain": [
       "Possible clusters:   0%|          | 0/6 [00:00<?, ?it/s]"
      ]
     },
     "metadata": {},
     "output_type": "display_data"
    },
    {
     "data": {
      "application/vnd.jupyter.widget-view+json": {
       "model_id": "348deb4ec5984704988ecec2fc8ac907",
       "version_major": 2,
       "version_minor": 0
      },
      "text/plain": [
       "Possible clusters:   0%|          | 0/10879 [00:00<?, ?it/s]"
      ]
     },
     "metadata": {},
     "output_type": "display_data"
    },
    {
     "data": {
      "application/vnd.jupyter.widget-view+json": {
       "model_id": "de290576f9184830aa9f158209217152",
       "version_major": 2,
       "version_minor": 0
      },
      "text/plain": [
       "Possible clusters:   0%|          | 0/5016 [00:00<?, ?it/s]"
      ]
     },
     "metadata": {},
     "output_type": "display_data"
    },
    {
     "data": {
      "application/vnd.jupyter.widget-view+json": {
       "model_id": "db8c7a4773954c7891debf3962780abf",
       "version_major": 2,
       "version_minor": 0
      },
      "text/plain": [
       "Possible clusters:   0%|          | 0/560 [00:00<?, ?it/s]"
      ]
     },
     "metadata": {},
     "output_type": "display_data"
    },
    {
     "data": {
      "application/vnd.jupyter.widget-view+json": {
       "model_id": "e651de7ad13e4ac4bc7ee92f7afa0bfc",
       "version_major": 2,
       "version_minor": 0
      },
      "text/plain": [
       "Possible clusters:   0%|          | 0/286 [00:00<?, ?it/s]"
      ]
     },
     "metadata": {},
     "output_type": "display_data"
    },
    {
     "data": {
      "application/vnd.jupyter.widget-view+json": {
       "model_id": "5e716dee76654e36bf812e1a2d2c235b",
       "version_major": 2,
       "version_minor": 0
      },
      "text/plain": [
       "Possible clusters:   0%|          | 0/120 [00:00<?, ?it/s]"
      ]
     },
     "metadata": {},
     "output_type": "display_data"
    },
    {
     "data": {
      "application/vnd.jupyter.widget-view+json": {
       "model_id": "66048a8e805e4fb09588aa526b5f1a0e",
       "version_major": 2,
       "version_minor": 0
      },
      "text/plain": [
       "Possible clusters:   0%|          | 0/15 [00:00<?, ?it/s]"
      ]
     },
     "metadata": {},
     "output_type": "display_data"
    },
    {
     "data": {
      "application/vnd.jupyter.widget-view+json": {
       "model_id": "0aadabc6b45b40cc8722c38f075da471",
       "version_major": 2,
       "version_minor": 0
      },
      "text/plain": [
       "Possible clusters:   0%|          | 0/6 [00:00<?, ?it/s]"
      ]
     },
     "metadata": {},
     "output_type": "display_data"
    },
    {
     "data": {
      "application/vnd.jupyter.widget-view+json": {
       "model_id": "a4113b20e2254b59865c66daf003f600",
       "version_major": 2,
       "version_minor": 0
      },
      "text/plain": [
       "Possible clusters:   0%|          | 0/4029 [00:00<?, ?it/s]"
      ]
     },
     "metadata": {},
     "output_type": "display_data"
    },
    {
     "data": {
      "application/vnd.jupyter.widget-view+json": {
       "model_id": "c081bec9355f4921a0a95294d7e1f957",
       "version_major": 2,
       "version_minor": 0
      },
      "text/plain": [
       "Possible clusters:   0%|          | 0/455 [00:00<?, ?it/s]"
      ]
     },
     "metadata": {},
     "output_type": "display_data"
    },
    {
     "data": {
      "application/vnd.jupyter.widget-view+json": {
       "model_id": "3aab6fd7841b44d081b43b823b6497ad",
       "version_major": 2,
       "version_minor": 0
      },
      "text/plain": [
       "Possible clusters:   0%|          | 0/220 [00:00<?, ?it/s]"
      ]
     },
     "metadata": {},
     "output_type": "display_data"
    },
    {
     "data": {
      "application/vnd.jupyter.widget-view+json": {
       "model_id": "433555aa51f84a208715b53d11a4ea17",
       "version_major": 2,
       "version_minor": 0
      },
      "text/plain": [
       "Possible clusters:   0%|          | 0/28 [00:00<?, ?it/s]"
      ]
     },
     "metadata": {},
     "output_type": "display_data"
    },
    {
     "data": {
      "application/vnd.jupyter.widget-view+json": {
       "model_id": "6137be50348948479bac647ea80b05f9",
       "version_major": 2,
       "version_minor": 0
      },
      "text/plain": [
       "Possible clusters:   0%|          | 0/15 [00:00<?, ?it/s]"
      ]
     },
     "metadata": {},
     "output_type": "display_data"
    },
    {
     "data": {
      "application/vnd.jupyter.widget-view+json": {
       "model_id": "13fee15c2d944e7789ce9143d39ef17f",
       "version_major": 2,
       "version_minor": 0
      },
      "text/plain": [
       "Possible clusters:   0%|          | 0/6 [00:00<?, ?it/s]"
      ]
     },
     "metadata": {},
     "output_type": "display_data"
    },
    {
     "data": {
      "application/vnd.jupyter.widget-view+json": {
       "model_id": "07acf85fc42e40019e395fef711e9caa",
       "version_major": 2,
       "version_minor": 0
      },
      "text/plain": [
       "Possible clusters:   0%|          | 0/10879 [00:00<?, ?it/s]"
      ]
     },
     "metadata": {},
     "output_type": "display_data"
    },
    {
     "data": {
      "application/vnd.jupyter.widget-view+json": {
       "model_id": "7a563086caa94de6b350d6e1be857efd",
       "version_major": 2,
       "version_minor": 0
      },
      "text/plain": [
       "Possible clusters:   0%|          | 0/5016 [00:00<?, ?it/s]"
      ]
     },
     "metadata": {},
     "output_type": "display_data"
    },
    {
     "data": {
      "application/vnd.jupyter.widget-view+json": {
       "model_id": "93e9bab6c74d46378a0833ab2231344e",
       "version_major": 2,
       "version_minor": 0
      },
      "text/plain": [
       "Possible clusters:   0%|          | 0/560 [00:00<?, ?it/s]"
      ]
     },
     "metadata": {},
     "output_type": "display_data"
    },
    {
     "data": {
      "application/vnd.jupyter.widget-view+json": {
       "model_id": "136c0d1ed8bb4d169f65c93500c29519",
       "version_major": 2,
       "version_minor": 0
      },
      "text/plain": [
       "Possible clusters:   0%|          | 0/286 [00:00<?, ?it/s]"
      ]
     },
     "metadata": {},
     "output_type": "display_data"
    },
    {
     "data": {
      "application/vnd.jupyter.widget-view+json": {
       "model_id": "19fefa25d66f400d9796253c3726d3bc",
       "version_major": 2,
       "version_minor": 0
      },
      "text/plain": [
       "Possible clusters:   0%|          | 0/120 [00:00<?, ?it/s]"
      ]
     },
     "metadata": {},
     "output_type": "display_data"
    },
    {
     "data": {
      "application/vnd.jupyter.widget-view+json": {
       "model_id": "2cd410ed63f3452eb28342cc7f1f325b",
       "version_major": 2,
       "version_minor": 0
      },
      "text/plain": [
       "Possible clusters:   0%|          | 0/15 [00:00<?, ?it/s]"
      ]
     },
     "metadata": {},
     "output_type": "display_data"
    },
    {
     "data": {
      "application/vnd.jupyter.widget-view+json": {
       "model_id": "4e18f85ab36b4e66970ca5b01fbf462e",
       "version_major": 2,
       "version_minor": 0
      },
      "text/plain": [
       "Possible clusters:   0%|          | 0/6 [00:00<?, ?it/s]"
      ]
     },
     "metadata": {},
     "output_type": "display_data"
    },
    {
     "data": {
      "application/vnd.jupyter.widget-view+json": {
       "model_id": "fb076d8cb803425e8f547940136f1519",
       "version_major": 2,
       "version_minor": 0
      },
      "text/plain": [
       "Possible clusters:   0%|          | 0/10879 [00:00<?, ?it/s]"
      ]
     },
     "metadata": {},
     "output_type": "display_data"
    },
    {
     "data": {
      "application/vnd.jupyter.widget-view+json": {
       "model_id": "22ca7c686ac940e7b8ab64e9f2799e02",
       "version_major": 2,
       "version_minor": 0
      },
      "text/plain": [
       "Possible clusters:   0%|          | 0/6175 [00:00<?, ?it/s]"
      ]
     },
     "metadata": {},
     "output_type": "display_data"
    },
    {
     "data": {
      "application/vnd.jupyter.widget-view+json": {
       "model_id": "a1689d9f2c6842839b43ccb02698933e",
       "version_major": 2,
       "version_minor": 0
      },
      "text/plain": [
       "Possible clusters:   0%|          | 0/2500 [00:00<?, ?it/s]"
      ]
     },
     "metadata": {},
     "output_type": "display_data"
    },
    {
     "data": {
      "application/vnd.jupyter.widget-view+json": {
       "model_id": "d1c2bdcd01a04c49883e9a02a6f4a961",
       "version_major": 2,
       "version_minor": 0
      },
      "text/plain": [
       "Possible clusters:   0%|          | 0/286 [00:00<?, ?it/s]"
      ]
     },
     "metadata": {},
     "output_type": "display_data"
    },
    {
     "data": {
      "application/vnd.jupyter.widget-view+json": {
       "model_id": "5e94a2d2da454bcbaabf2fe4f4b3b111",
       "version_major": 2,
       "version_minor": 0
      },
      "text/plain": [
       "Possible clusters:   0%|          | 0/120 [00:00<?, ?it/s]"
      ]
     },
     "metadata": {},
     "output_type": "display_data"
    },
    {
     "data": {
      "application/vnd.jupyter.widget-view+json": {
       "model_id": "d505a12546f24b6391ce1c408d890ad1",
       "version_major": 2,
       "version_minor": 0
      },
      "text/plain": [
       "Possible clusters:   0%|          | 0/15 [00:00<?, ?it/s]"
      ]
     },
     "metadata": {},
     "output_type": "display_data"
    },
    {
     "data": {
      "application/vnd.jupyter.widget-view+json": {
       "model_id": "566c61496f6a4e6ea51f20d31a2d9da9",
       "version_major": 2,
       "version_minor": 0
      },
      "text/plain": [
       "Possible clusters:   0%|          | 0/6 [00:00<?, ?it/s]"
      ]
     },
     "metadata": {},
     "output_type": "display_data"
    },
    {
     "data": {
      "application/vnd.jupyter.widget-view+json": {
       "model_id": "d390edf97dea49efa2d6a0a2c6ef50ca",
       "version_major": 2,
       "version_minor": 0
      },
      "text/plain": [
       "Possible clusters:   0%|          | 0/9086 [00:00<?, ?it/s]"
      ]
     },
     "metadata": {},
     "output_type": "display_data"
    },
    {
     "data": {
      "application/vnd.jupyter.widget-view+json": {
       "model_id": "0b98a57b38ad434482a62fac04b559a0",
       "version_major": 2,
       "version_minor": 0
      },
      "text/plain": [
       "Possible clusters:   0%|          | 0/4029 [00:00<?, ?it/s]"
      ]
     },
     "metadata": {},
     "output_type": "display_data"
    },
    {
     "data": {
      "application/vnd.jupyter.widget-view+json": {
       "model_id": "432900f0395745c79af49696d87e8436",
       "version_major": 2,
       "version_minor": 0
      },
      "text/plain": [
       "Possible clusters:   0%|          | 0/455 [00:00<?, ?it/s]"
      ]
     },
     "metadata": {},
     "output_type": "display_data"
    },
    {
     "data": {
      "application/vnd.jupyter.widget-view+json": {
       "model_id": "ea699776f98f4ddfaa2f2ccaf37c3eea",
       "version_major": 2,
       "version_minor": 0
      },
      "text/plain": [
       "Possible clusters:   0%|          | 0/220 [00:00<?, ?it/s]"
      ]
     },
     "metadata": {},
     "output_type": "display_data"
    },
    {
     "data": {
      "application/vnd.jupyter.widget-view+json": {
       "model_id": "8f7b7539b37e4512b150820a6d7c8de1",
       "version_major": 2,
       "version_minor": 0
      },
      "text/plain": [
       "Possible clusters:   0%|          | 0/28 [00:00<?, ?it/s]"
      ]
     },
     "metadata": {},
     "output_type": "display_data"
    },
    {
     "data": {
      "application/vnd.jupyter.widget-view+json": {
       "model_id": "74d8d34f29834c639c96cf73d50ee1e1",
       "version_major": 2,
       "version_minor": 0
      },
      "text/plain": [
       "Possible clusters:   0%|          | 0/15 [00:00<?, ?it/s]"
      ]
     },
     "metadata": {},
     "output_type": "display_data"
    },
    {
     "data": {
      "application/vnd.jupyter.widget-view+json": {
       "model_id": "e60ea9bb7e7f4035a52dd4140e0babde",
       "version_major": 2,
       "version_minor": 0
      },
      "text/plain": [
       "Possible clusters:   0%|          | 0/6 [00:00<?, ?it/s]"
      ]
     },
     "metadata": {},
     "output_type": "display_data"
    },
    {
     "data": {
      "application/vnd.jupyter.widget-view+json": {
       "model_id": "c057ab54f1024a798ff32e6a79a65592",
       "version_major": 2,
       "version_minor": 0
      },
      "text/plain": [
       "Possible clusters:   0%|          | 0/7525 [00:00<?, ?it/s]"
      ]
     },
     "metadata": {},
     "output_type": "display_data"
    },
    {
     "data": {
      "application/vnd.jupyter.widget-view+json": {
       "model_id": "a08b379be1c34fe88fa7e4481af2b6e3",
       "version_major": 2,
       "version_minor": 0
      },
      "text/plain": [
       "Possible clusters:   0%|          | 0/3196 [00:00<?, ?it/s]"
      ]
     },
     "metadata": {},
     "output_type": "display_data"
    },
    {
     "data": {
      "application/vnd.jupyter.widget-view+json": {
       "model_id": "1c3eac30d2c045a481217d7b1ec00fdf",
       "version_major": 2,
       "version_minor": 0
      },
      "text/plain": [
       "Possible clusters:   0%|          | 0/364 [00:00<?, ?it/s]"
      ]
     },
     "metadata": {},
     "output_type": "display_data"
    },
    {
     "data": {
      "application/vnd.jupyter.widget-view+json": {
       "model_id": "fc47daddb569431a8853a037db3daa4d",
       "version_major": 2,
       "version_minor": 0
      },
      "text/plain": [
       "Possible clusters:   0%|          | 0/165 [00:00<?, ?it/s]"
      ]
     },
     "metadata": {},
     "output_type": "display_data"
    },
    {
     "data": {
      "application/vnd.jupyter.widget-view+json": {
       "model_id": "1bffcf152269435f9f8b3e534957bace",
       "version_major": 2,
       "version_minor": 0
      },
      "text/plain": [
       "Possible clusters:   0%|          | 0/21 [00:00<?, ?it/s]"
      ]
     },
     "metadata": {},
     "output_type": "display_data"
    },
    {
     "data": {
      "application/vnd.jupyter.widget-view+json": {
       "model_id": "30ac7f478cf14d61a44bb1f13fb19a82",
       "version_major": 2,
       "version_minor": 0
      },
      "text/plain": [
       "Possible clusters:   0%|          | 0/10 [00:00<?, ?it/s]"
      ]
     },
     "metadata": {},
     "output_type": "display_data"
    },
    {
     "data": {
      "application/vnd.jupyter.widget-view+json": {
       "model_id": "bf1645be17484ac6850ce67083b25d72",
       "version_major": 2,
       "version_minor": 0
      },
      "text/plain": [
       "Possible clusters:   0%|          | 0/9086 [00:00<?, ?it/s]"
      ]
     },
     "metadata": {},
     "output_type": "display_data"
    },
    {
     "data": {
      "application/vnd.jupyter.widget-view+json": {
       "model_id": "d1773e9f5dea40abb5c59499e974b758",
       "version_major": 2,
       "version_minor": 0
      },
      "text/plain": [
       "Possible clusters:   0%|          | 0/4029 [00:00<?, ?it/s]"
      ]
     },
     "metadata": {},
     "output_type": "display_data"
    },
    {
     "data": {
      "application/vnd.jupyter.widget-view+json": {
       "model_id": "727c39d69e2542afa0ec81d7d7bbefa8",
       "version_major": 2,
       "version_minor": 0
      },
      "text/plain": [
       "Possible clusters:   0%|          | 0/455 [00:00<?, ?it/s]"
      ]
     },
     "metadata": {},
     "output_type": "display_data"
    },
    {
     "data": {
      "application/vnd.jupyter.widget-view+json": {
       "model_id": "7bec78e05324473c9bcd3044b76ba7ab",
       "version_major": 2,
       "version_minor": 0
      },
      "text/plain": [
       "Possible clusters:   0%|          | 0/220 [00:00<?, ?it/s]"
      ]
     },
     "metadata": {},
     "output_type": "display_data"
    },
    {
     "data": {
      "application/vnd.jupyter.widget-view+json": {
       "model_id": "9a4c5b641ad4453aa73bcd18c4ae7602",
       "version_major": 2,
       "version_minor": 0
      },
      "text/plain": [
       "Possible clusters:   0%|          | 0/28 [00:00<?, ?it/s]"
      ]
     },
     "metadata": {},
     "output_type": "display_data"
    },
    {
     "data": {
      "application/vnd.jupyter.widget-view+json": {
       "model_id": "ad327e995dac489797493a6eb58b7abf",
       "version_major": 2,
       "version_minor": 0
      },
      "text/plain": [
       "Possible clusters:   0%|          | 0/15 [00:00<?, ?it/s]"
      ]
     },
     "metadata": {},
     "output_type": "display_data"
    },
    {
     "data": {
      "application/vnd.jupyter.widget-view+json": {
       "model_id": "38e6bd7e9b234be3b35ceb70de159c39",
       "version_major": 2,
       "version_minor": 0
      },
      "text/plain": [
       "Possible clusters:   0%|          | 0/6 [00:00<?, ?it/s]"
      ]
     },
     "metadata": {},
     "output_type": "display_data"
    },
    {
     "data": {
      "application/vnd.jupyter.widget-view+json": {
       "model_id": "552005aa45f744f283b8b8eb01a78307",
       "version_major": 2,
       "version_minor": 0
      },
      "text/plain": [
       "Possible clusters:   0%|          | 0/7525 [00:00<?, ?it/s]"
      ]
     },
     "metadata": {},
     "output_type": "display_data"
    },
    {
     "data": {
      "application/vnd.jupyter.widget-view+json": {
       "model_id": "c8e7452b3ed245639da9352de602cba3",
       "version_major": 2,
       "version_minor": 0
      },
      "text/plain": [
       "Possible clusters:   0%|          | 0/3196 [00:00<?, ?it/s]"
      ]
     },
     "metadata": {},
     "output_type": "display_data"
    },
    {
     "data": {
      "application/vnd.jupyter.widget-view+json": {
       "model_id": "0f22ebf719184da7b33006bcb3c4b7bf",
       "version_major": 2,
       "version_minor": 0
      },
      "text/plain": [
       "Possible clusters:   0%|          | 0/364 [00:00<?, ?it/s]"
      ]
     },
     "metadata": {},
     "output_type": "display_data"
    },
    {
     "data": {
      "application/vnd.jupyter.widget-view+json": {
       "model_id": "458f02b6c1954eeaad24dca4494d676b",
       "version_major": 2,
       "version_minor": 0
      },
      "text/plain": [
       "Possible clusters:   0%|          | 0/165 [00:00<?, ?it/s]"
      ]
     },
     "metadata": {},
     "output_type": "display_data"
    },
    {
     "data": {
      "application/vnd.jupyter.widget-view+json": {
       "model_id": "9de2b216d2724658810a0fb043a57bf4",
       "version_major": 2,
       "version_minor": 0
      },
      "text/plain": [
       "Possible clusters:   0%|          | 0/21 [00:00<?, ?it/s]"
      ]
     },
     "metadata": {},
     "output_type": "display_data"
    },
    {
     "data": {
      "application/vnd.jupyter.widget-view+json": {
       "model_id": "6372827937cd4d8993c908b42bf9e2b7",
       "version_major": 2,
       "version_minor": 0
      },
      "text/plain": [
       "Possible clusters:   0%|          | 0/10 [00:00<?, ?it/s]"
      ]
     },
     "metadata": {},
     "output_type": "display_data"
    },
    {
     "data": {
      "application/vnd.jupyter.widget-view+json": {
       "model_id": "d5afb4cc04fc465580430c40a338cfb2",
       "version_major": 2,
       "version_minor": 0
      },
      "text/plain": [
       "Possible clusters:   0%|          | 0/7525 [00:00<?, ?it/s]"
      ]
     },
     "metadata": {},
     "output_type": "display_data"
    },
    {
     "data": {
      "application/vnd.jupyter.widget-view+json": {
       "model_id": "1820d1b8c0e24a93b73d1e4ac616ecd3",
       "version_major": 2,
       "version_minor": 0
      },
      "text/plain": [
       "Possible clusters:   0%|          | 0/3196 [00:00<?, ?it/s]"
      ]
     },
     "metadata": {},
     "output_type": "display_data"
    },
    {
     "data": {
      "application/vnd.jupyter.widget-view+json": {
       "model_id": "7a58d1e558fa4bb5b883dabb564e0d22",
       "version_major": 2,
       "version_minor": 0
      },
      "text/plain": [
       "Possible clusters:   0%|          | 0/364 [00:00<?, ?it/s]"
      ]
     },
     "metadata": {},
     "output_type": "display_data"
    },
    {
     "data": {
      "application/vnd.jupyter.widget-view+json": {
       "model_id": "838bc907296b4757870566723f56ee86",
       "version_major": 2,
       "version_minor": 0
      },
      "text/plain": [
       "Possible clusters:   0%|          | 0/165 [00:00<?, ?it/s]"
      ]
     },
     "metadata": {},
     "output_type": "display_data"
    },
    {
     "data": {
      "application/vnd.jupyter.widget-view+json": {
       "model_id": "b62fc95a5ac24798968edee1b899229f",
       "version_major": 2,
       "version_minor": 0
      },
      "text/plain": [
       "Possible clusters:   0%|          | 0/21 [00:00<?, ?it/s]"
      ]
     },
     "metadata": {},
     "output_type": "display_data"
    },
    {
     "data": {
      "application/vnd.jupyter.widget-view+json": {
       "model_id": "566e272fbd9c4f96bfa3b208b9648c18",
       "version_major": 2,
       "version_minor": 0
      },
      "text/plain": [
       "Possible clusters:   0%|          | 0/10 [00:00<?, ?it/s]"
      ]
     },
     "metadata": {},
     "output_type": "display_data"
    },
    {
     "data": {
      "application/vnd.jupyter.widget-view+json": {
       "model_id": "588c3c2ef19c44da8721f2803d6299ed",
       "version_major": 2,
       "version_minor": 0
      },
      "text/plain": [
       "Possible clusters:   0%|          | 0/101556 [00:00<?, ?it/s]"
      ]
     },
     "metadata": {},
     "output_type": "display_data"
    },
    {
     "data": {
      "application/vnd.jupyter.widget-view+json": {
       "model_id": "b757ebff43ac4ba7a8d45962ac2f10f8",
       "version_major": 2,
       "version_minor": 0
      },
      "text/plain": [
       "Possible clusters:   0%|          | 0/9086 [00:00<?, ?it/s]"
      ]
     },
     "metadata": {},
     "output_type": "display_data"
    },
    {
     "data": {
      "application/vnd.jupyter.widget-view+json": {
       "model_id": "66a823b44f904b43876e88ada2b7ba3a",
       "version_major": 2,
       "version_minor": 0
      },
      "text/plain": [
       "Possible clusters:   0%|          | 0/4029 [00:00<?, ?it/s]"
      ]
     },
     "metadata": {},
     "output_type": "display_data"
    },
    {
     "data": {
      "application/vnd.jupyter.widget-view+json": {
       "model_id": "889796e722d74e6d9d2db8754a42dc45",
       "version_major": 2,
       "version_minor": 0
      },
      "text/plain": [
       "Possible clusters:   0%|          | 0/455 [00:00<?, ?it/s]"
      ]
     },
     "metadata": {},
     "output_type": "display_data"
    },
    {
     "data": {
      "application/vnd.jupyter.widget-view+json": {
       "model_id": "06266f8876c24e06a7d57f857f8fc3e5",
       "version_major": 2,
       "version_minor": 0
      },
      "text/plain": [
       "Possible clusters:   0%|          | 0/220 [00:00<?, ?it/s]"
      ]
     },
     "metadata": {},
     "output_type": "display_data"
    },
    {
     "data": {
      "application/vnd.jupyter.widget-view+json": {
       "model_id": "a8fe02c577114cf9ba3f4a11db6eec22",
       "version_major": 2,
       "version_minor": 0
      },
      "text/plain": [
       "Possible clusters:   0%|          | 0/28 [00:00<?, ?it/s]"
      ]
     },
     "metadata": {},
     "output_type": "display_data"
    },
    {
     "data": {
      "application/vnd.jupyter.widget-view+json": {
       "model_id": "35ea949d40f54496a6e56c8856554bdc",
       "version_major": 2,
       "version_minor": 0
      },
      "text/plain": [
       "Possible clusters:   0%|          | 0/15 [00:00<?, ?it/s]"
      ]
     },
     "metadata": {},
     "output_type": "display_data"
    },
    {
     "data": {
      "application/vnd.jupyter.widget-view+json": {
       "model_id": "1ab1fc6809e346b5880d2f78a6c18741",
       "version_major": 2,
       "version_minor": 0
      },
      "text/plain": [
       "Possible clusters:   0%|          | 0/6 [00:00<?, ?it/s]"
      ]
     },
     "metadata": {},
     "output_type": "display_data"
    },
    {
     "data": {
      "application/vnd.jupyter.widget-view+json": {
       "model_id": "5460e1577323424187890429c896c5e1",
       "version_major": 2,
       "version_minor": 0
      },
      "text/plain": [
       "Possible clusters:   0%|          | 0/7525 [00:00<?, ?it/s]"
      ]
     },
     "metadata": {},
     "output_type": "display_data"
    },
    {
     "data": {
      "application/vnd.jupyter.widget-view+json": {
       "model_id": "014f30de52b940a4849827c6d403ece6",
       "version_major": 2,
       "version_minor": 0
      },
      "text/plain": [
       "Possible clusters:   0%|          | 0/3196 [00:00<?, ?it/s]"
      ]
     },
     "metadata": {},
     "output_type": "display_data"
    },
    {
     "data": {
      "application/vnd.jupyter.widget-view+json": {
       "model_id": "fabb1560d60542e897369fb770271b52",
       "version_major": 2,
       "version_minor": 0
      },
      "text/plain": [
       "Possible clusters:   0%|          | 0/364 [00:00<?, ?it/s]"
      ]
     },
     "metadata": {},
     "output_type": "display_data"
    },
    {
     "data": {
      "application/vnd.jupyter.widget-view+json": {
       "model_id": "caf1853588c14fb99c3bea737a7eef03",
       "version_major": 2,
       "version_minor": 0
      },
      "text/plain": [
       "Possible clusters:   0%|          | 0/165 [00:00<?, ?it/s]"
      ]
     },
     "metadata": {},
     "output_type": "display_data"
    },
    {
     "data": {
      "application/vnd.jupyter.widget-view+json": {
       "model_id": "25675271d9324894a06edcf926e01e7b",
       "version_major": 2,
       "version_minor": 0
      },
      "text/plain": [
       "Possible clusters:   0%|          | 0/21 [00:00<?, ?it/s]"
      ]
     },
     "metadata": {},
     "output_type": "display_data"
    },
    {
     "data": {
      "application/vnd.jupyter.widget-view+json": {
       "model_id": "0d4dc1ade2164bee836c9a2966a5fe07",
       "version_major": 2,
       "version_minor": 0
      },
      "text/plain": [
       "Possible clusters:   0%|          | 0/10 [00:00<?, ?it/s]"
      ]
     },
     "metadata": {},
     "output_type": "display_data"
    },
    {
     "data": {
      "application/vnd.jupyter.widget-view+json": {
       "model_id": "3daf4f7c2a524f0882c7ae285a253d91",
       "version_major": 2,
       "version_minor": 0
      },
      "text/plain": [
       "Possible clusters:   0%|          | 0/10879 [00:00<?, ?it/s]"
      ]
     },
     "metadata": {},
     "output_type": "display_data"
    },
    {
     "data": {
      "application/vnd.jupyter.widget-view+json": {
       "model_id": "751906b9cc524e71b2bc8f38afb6a1e5",
       "version_major": 2,
       "version_minor": 0
      },
      "text/plain": [
       "Possible clusters:   0%|          | 0/5016 [00:00<?, ?it/s]"
      ]
     },
     "metadata": {},
     "output_type": "display_data"
    },
    {
     "data": {
      "application/vnd.jupyter.widget-view+json": {
       "model_id": "0080929ea2d146e6af9f56531a811419",
       "version_major": 2,
       "version_minor": 0
      },
      "text/plain": [
       "Possible clusters:   0%|          | 0/560 [00:00<?, ?it/s]"
      ]
     },
     "metadata": {},
     "output_type": "display_data"
    },
    {
     "data": {
      "application/vnd.jupyter.widget-view+json": {
       "model_id": "9f1f40edf0d8467c9b95d02009e211d7",
       "version_major": 2,
       "version_minor": 0
      },
      "text/plain": [
       "Possible clusters:   0%|          | 0/286 [00:00<?, ?it/s]"
      ]
     },
     "metadata": {},
     "output_type": "display_data"
    },
    {
     "data": {
      "application/vnd.jupyter.widget-view+json": {
       "model_id": "f79505265bdf463082c753d93806a374",
       "version_major": 2,
       "version_minor": 0
      },
      "text/plain": [
       "Possible clusters:   0%|          | 0/120 [00:00<?, ?it/s]"
      ]
     },
     "metadata": {},
     "output_type": "display_data"
    },
    {
     "data": {
      "application/vnd.jupyter.widget-view+json": {
       "model_id": "163f1f3b800449d7b8e9fcbfc4cf7d87",
       "version_major": 2,
       "version_minor": 0
      },
      "text/plain": [
       "Possible clusters:   0%|          | 0/15 [00:00<?, ?it/s]"
      ]
     },
     "metadata": {},
     "output_type": "display_data"
    },
    {
     "data": {
      "application/vnd.jupyter.widget-view+json": {
       "model_id": "ba46d64d532d45f3b6615e6ee4826c54",
       "version_major": 2,
       "version_minor": 0
      },
      "text/plain": [
       "Possible clusters:   0%|          | 0/6 [00:00<?, ?it/s]"
      ]
     },
     "metadata": {},
     "output_type": "display_data"
    },
    {
     "data": {
      "application/vnd.jupyter.widget-view+json": {
       "model_id": "5976b71e8e8648b2888871f7fbfbdcb0",
       "version_major": 2,
       "version_minor": 0
      },
      "text/plain": [
       "Possible clusters:   0%|          | 0/122409 [00:00<?, ?it/s]"
      ]
     },
     "metadata": {},
     "output_type": "display_data"
    },
    {
     "data": {
      "application/vnd.jupyter.widget-view+json": {
       "model_id": "eac7a8d5a115480f91e3947180a6d2e7",
       "version_major": 2,
       "version_minor": 0
      },
      "text/plain": [
       "Possible clusters:   0%|          | 0/10879 [00:00<?, ?it/s]"
      ]
     },
     "metadata": {},
     "output_type": "display_data"
    },
    {
     "data": {
      "application/vnd.jupyter.widget-view+json": {
       "model_id": "87d0d0c8d1d6447fa14177f4aeee9fd6",
       "version_major": 2,
       "version_minor": 0
      },
      "text/plain": [
       "Possible clusters:   0%|          | 0/5016 [00:00<?, ?it/s]"
      ]
     },
     "metadata": {},
     "output_type": "display_data"
    },
    {
     "data": {
      "application/vnd.jupyter.widget-view+json": {
       "model_id": "bffb508d5c504dca9078079df200af26",
       "version_major": 2,
       "version_minor": 0
      },
      "text/plain": [
       "Possible clusters:   0%|          | 0/560 [00:00<?, ?it/s]"
      ]
     },
     "metadata": {},
     "output_type": "display_data"
    },
    {
     "data": {
      "application/vnd.jupyter.widget-view+json": {
       "model_id": "764260784ad844fea6b57ea8230713b0",
       "version_major": 2,
       "version_minor": 0
      },
      "text/plain": [
       "Possible clusters:   0%|          | 0/286 [00:00<?, ?it/s]"
      ]
     },
     "metadata": {},
     "output_type": "display_data"
    },
    {
     "data": {
      "application/vnd.jupyter.widget-view+json": {
       "model_id": "e72fbbb014f34f008ddf29bb5c5f586f",
       "version_major": 2,
       "version_minor": 0
      },
      "text/plain": [
       "Possible clusters:   0%|          | 0/120 [00:00<?, ?it/s]"
      ]
     },
     "metadata": {},
     "output_type": "display_data"
    },
    {
     "data": {
      "application/vnd.jupyter.widget-view+json": {
       "model_id": "f034f7275dbb4801885a03a5c5c0f7b4",
       "version_major": 2,
       "version_minor": 0
      },
      "text/plain": [
       "Possible clusters:   0%|          | 0/15 [00:00<?, ?it/s]"
      ]
     },
     "metadata": {},
     "output_type": "display_data"
    },
    {
     "data": {
      "application/vnd.jupyter.widget-view+json": {
       "model_id": "85ad6c82ba7947dc9201497bc533322e",
       "version_major": 2,
       "version_minor": 0
      },
      "text/plain": [
       "Possible clusters:   0%|          | 0/6 [00:00<?, ?it/s]"
      ]
     },
     "metadata": {},
     "output_type": "display_data"
    },
    {
     "data": {
      "application/vnd.jupyter.widget-view+json": {
       "model_id": "a9b7cc5978b54fcd96f2b55decf7be6c",
       "version_major": 2,
       "version_minor": 0
      },
      "text/plain": [
       "Possible clusters:   0%|          | 0/6175 [00:00<?, ?it/s]"
      ]
     },
     "metadata": {},
     "output_type": "display_data"
    },
    {
     "data": {
      "application/vnd.jupyter.widget-view+json": {
       "model_id": "c8d1b3ebf0ff46a69478b5971ee3850b",
       "version_major": 2,
       "version_minor": 0
      },
      "text/plain": [
       "Possible clusters:   0%|          | 0/2500 [00:00<?, ?it/s]"
      ]
     },
     "metadata": {},
     "output_type": "display_data"
    },
    {
     "data": {
      "application/vnd.jupyter.widget-view+json": {
       "model_id": "2d09dad0b0e442a7bdcc57a2671a4ac6",
       "version_major": 2,
       "version_minor": 0
      },
      "text/plain": [
       "Possible clusters:   0%|          | 0/286 [00:00<?, ?it/s]"
      ]
     },
     "metadata": {},
     "output_type": "display_data"
    },
    {
     "data": {
      "application/vnd.jupyter.widget-view+json": {
       "model_id": "cde2f0bcb8fe4856b6b1cd36dbb8d0ee",
       "version_major": 2,
       "version_minor": 0
      },
      "text/plain": [
       "Possible clusters:   0%|          | 0/120 [00:00<?, ?it/s]"
      ]
     },
     "metadata": {},
     "output_type": "display_data"
    },
    {
     "data": {
      "application/vnd.jupyter.widget-view+json": {
       "model_id": "578ecbbbe9924f4bb3b0876f4ac3ce0b",
       "version_major": 2,
       "version_minor": 0
      },
      "text/plain": [
       "Possible clusters:   0%|          | 0/15 [00:00<?, ?it/s]"
      ]
     },
     "metadata": {},
     "output_type": "display_data"
    },
    {
     "data": {
      "application/vnd.jupyter.widget-view+json": {
       "model_id": "f5bf7d7e22a748c5bc94b1223f7ed9c2",
       "version_major": 2,
       "version_minor": 0
      },
      "text/plain": [
       "Possible clusters:   0%|          | 0/6 [00:00<?, ?it/s]"
      ]
     },
     "metadata": {},
     "output_type": "display_data"
    },
    {
     "data": {
      "application/vnd.jupyter.widget-view+json": {
       "model_id": "950f317a46f545ddb39365a1c7b7e2fc",
       "version_major": 2,
       "version_minor": 0
      },
      "text/plain": [
       "Possible clusters:   0%|          | 0/101556 [00:00<?, ?it/s]"
      ]
     },
     "metadata": {},
     "output_type": "display_data"
    },
    {
     "data": {
      "application/vnd.jupyter.widget-view+json": {
       "model_id": "ca6126e705a74794a6915f68acd3f863",
       "version_major": 2,
       "version_minor": 0
      },
      "text/plain": [
       "Possible clusters:   0%|          | 0/9086 [00:00<?, ?it/s]"
      ]
     },
     "metadata": {},
     "output_type": "display_data"
    },
    {
     "data": {
      "application/vnd.jupyter.widget-view+json": {
       "model_id": "03429a71b5b847f2a29610291f96db09",
       "version_major": 2,
       "version_minor": 0
      },
      "text/plain": [
       "Possible clusters:   0%|          | 0/4029 [00:00<?, ?it/s]"
      ]
     },
     "metadata": {},
     "output_type": "display_data"
    },
    {
     "data": {
      "application/vnd.jupyter.widget-view+json": {
       "model_id": "a41bf119dbd545c6b7802f6a4a5d77ee",
       "version_major": 2,
       "version_minor": 0
      },
      "text/plain": [
       "Possible clusters:   0%|          | 0/455 [00:00<?, ?it/s]"
      ]
     },
     "metadata": {},
     "output_type": "display_data"
    },
    {
     "data": {
      "application/vnd.jupyter.widget-view+json": {
       "model_id": "e1972f26b61047a78e0d4cf7b0a3820a",
       "version_major": 2,
       "version_minor": 0
      },
      "text/plain": [
       "Possible clusters:   0%|          | 0/220 [00:00<?, ?it/s]"
      ]
     },
     "metadata": {},
     "output_type": "display_data"
    },
    {
     "data": {
      "application/vnd.jupyter.widget-view+json": {
       "model_id": "532de812457942059ac90b24c16ca6d8",
       "version_major": 2,
       "version_minor": 0
      },
      "text/plain": [
       "Possible clusters:   0%|          | 0/28 [00:00<?, ?it/s]"
      ]
     },
     "metadata": {},
     "output_type": "display_data"
    },
    {
     "data": {
      "application/vnd.jupyter.widget-view+json": {
       "model_id": "aeadc3454e2f46dd95e65fadf6a6555f",
       "version_major": 2,
       "version_minor": 0
      },
      "text/plain": [
       "Possible clusters:   0%|          | 0/15 [00:00<?, ?it/s]"
      ]
     },
     "metadata": {},
     "output_type": "display_data"
    },
    {
     "data": {
      "application/vnd.jupyter.widget-view+json": {
       "model_id": "8e1cb421db9c420f99d2b3b5bda0eedc",
       "version_major": 2,
       "version_minor": 0
      },
      "text/plain": [
       "Possible clusters:   0%|          | 0/6 [00:00<?, ?it/s]"
      ]
     },
     "metadata": {},
     "output_type": "display_data"
    },
    {
     "data": {
      "application/vnd.jupyter.widget-view+json": {
       "model_id": "e91dfadedfc94b3a96e70940832d2437",
       "version_major": 2,
       "version_minor": 0
      },
      "text/plain": [
       "Possible clusters:   0%|          | 0/10879 [00:00<?, ?it/s]"
      ]
     },
     "metadata": {},
     "output_type": "display_data"
    },
    {
     "data": {
      "application/vnd.jupyter.widget-view+json": {
       "model_id": "06e40c04daee4c3182ece3238949f8f0",
       "version_major": 2,
       "version_minor": 0
      },
      "text/plain": [
       "Possible clusters:   0%|          | 0/5016 [00:00<?, ?it/s]"
      ]
     },
     "metadata": {},
     "output_type": "display_data"
    },
    {
     "data": {
      "application/vnd.jupyter.widget-view+json": {
       "model_id": "50258be5617647baa43927baf9361868",
       "version_major": 2,
       "version_minor": 0
      },
      "text/plain": [
       "Possible clusters:   0%|          | 0/560 [00:00<?, ?it/s]"
      ]
     },
     "metadata": {},
     "output_type": "display_data"
    },
    {
     "data": {
      "application/vnd.jupyter.widget-view+json": {
       "model_id": "64d3764e4ab047f5bb079f2ebe425561",
       "version_major": 2,
       "version_minor": 0
      },
      "text/plain": [
       "Possible clusters:   0%|          | 0/286 [00:00<?, ?it/s]"
      ]
     },
     "metadata": {},
     "output_type": "display_data"
    },
    {
     "data": {
      "application/vnd.jupyter.widget-view+json": {
       "model_id": "eb6bd3a96c984a5e918b056389693cbc",
       "version_major": 2,
       "version_minor": 0
      },
      "text/plain": [
       "Possible clusters:   0%|          | 0/120 [00:00<?, ?it/s]"
      ]
     },
     "metadata": {},
     "output_type": "display_data"
    },
    {
     "data": {
      "application/vnd.jupyter.widget-view+json": {
       "model_id": "4665faba213e43a4a3d2be1a01c101b7",
       "version_major": 2,
       "version_minor": 0
      },
      "text/plain": [
       "Possible clusters:   0%|          | 0/15 [00:00<?, ?it/s]"
      ]
     },
     "metadata": {},
     "output_type": "display_data"
    },
    {
     "data": {
      "application/vnd.jupyter.widget-view+json": {
       "model_id": "3d73670c434546caa73c6f7758bdeabe",
       "version_major": 2,
       "version_minor": 0
      },
      "text/plain": [
       "Possible clusters:   0%|          | 0/6 [00:00<?, ?it/s]"
      ]
     },
     "metadata": {},
     "output_type": "display_data"
    },
    {
     "data": {
      "application/vnd.jupyter.widget-view+json": {
       "model_id": "066be09c9d1c49adbede397d280428b2",
       "version_major": 2,
       "version_minor": 0
      },
      "text/plain": [
       "Possible clusters:   0%|          | 0/4029 [00:00<?, ?it/s]"
      ]
     },
     "metadata": {},
     "output_type": "display_data"
    },
    {
     "data": {
      "application/vnd.jupyter.widget-view+json": {
       "model_id": "f12cfbccd44d417a9c8c9f190c64877c",
       "version_major": 2,
       "version_minor": 0
      },
      "text/plain": [
       "Possible clusters:   0%|          | 0/455 [00:00<?, ?it/s]"
      ]
     },
     "metadata": {},
     "output_type": "display_data"
    },
    {
     "data": {
      "application/vnd.jupyter.widget-view+json": {
       "model_id": "7da8984d144f461e81408546eb7cc6d1",
       "version_major": 2,
       "version_minor": 0
      },
      "text/plain": [
       "Possible clusters:   0%|          | 0/220 [00:00<?, ?it/s]"
      ]
     },
     "metadata": {},
     "output_type": "display_data"
    },
    {
     "data": {
      "application/vnd.jupyter.widget-view+json": {
       "model_id": "ed4ff37131014380ac434009446e74ab",
       "version_major": 2,
       "version_minor": 0
      },
      "text/plain": [
       "Possible clusters:   0%|          | 0/28 [00:00<?, ?it/s]"
      ]
     },
     "metadata": {},
     "output_type": "display_data"
    },
    {
     "data": {
      "application/vnd.jupyter.widget-view+json": {
       "model_id": "d4a0ba2ac37b49e6b328c1649aa468f7",
       "version_major": 2,
       "version_minor": 0
      },
      "text/plain": [
       "Possible clusters:   0%|          | 0/15 [00:00<?, ?it/s]"
      ]
     },
     "metadata": {},
     "output_type": "display_data"
    },
    {
     "data": {
      "application/vnd.jupyter.widget-view+json": {
       "model_id": "d19653a18ce244a58fe8d1b1f467f513",
       "version_major": 2,
       "version_minor": 0
      },
      "text/plain": [
       "Possible clusters:   0%|          | 0/6 [00:00<?, ?it/s]"
      ]
     },
     "metadata": {},
     "output_type": "display_data"
    },
    {
     "data": {
      "application/vnd.jupyter.widget-view+json": {
       "model_id": "3e1cb85569a24ea1917dd56d8b6c5ea9",
       "version_major": 2,
       "version_minor": 0
      },
      "text/plain": [
       "Possible clusters:   0%|          | 0/122409 [00:00<?, ?it/s]"
      ]
     },
     "metadata": {},
     "output_type": "display_data"
    },
    {
     "data": {
      "application/vnd.jupyter.widget-view+json": {
       "model_id": "e1ee19e31dc946db922cc5c058e03e74",
       "version_major": 2,
       "version_minor": 0
      },
      "text/plain": [
       "Possible clusters:   0%|          | 0/10879 [00:00<?, ?it/s]"
      ]
     },
     "metadata": {},
     "output_type": "display_data"
    },
    {
     "data": {
      "application/vnd.jupyter.widget-view+json": {
       "model_id": "bf0adb957d6d48e68b023ae0f705f1fd",
       "version_major": 2,
       "version_minor": 0
      },
      "text/plain": [
       "Possible clusters:   0%|          | 0/5016 [00:00<?, ?it/s]"
      ]
     },
     "metadata": {},
     "output_type": "display_data"
    },
    {
     "data": {
      "application/vnd.jupyter.widget-view+json": {
       "model_id": "4eee71de00384baa9eb04534cec3bcd1",
       "version_major": 2,
       "version_minor": 0
      },
      "text/plain": [
       "Possible clusters:   0%|          | 0/560 [00:00<?, ?it/s]"
      ]
     },
     "metadata": {},
     "output_type": "display_data"
    },
    {
     "data": {
      "application/vnd.jupyter.widget-view+json": {
       "model_id": "4972d07faeca46e9a98ddc7abfa68e30",
       "version_major": 2,
       "version_minor": 0
      },
      "text/plain": [
       "Possible clusters:   0%|          | 0/286 [00:00<?, ?it/s]"
      ]
     },
     "metadata": {},
     "output_type": "display_data"
    },
    {
     "data": {
      "application/vnd.jupyter.widget-view+json": {
       "model_id": "8d534c5d63774ada91cdd6aadff28ab6",
       "version_major": 2,
       "version_minor": 0
      },
      "text/plain": [
       "Possible clusters:   0%|          | 0/120 [00:00<?, ?it/s]"
      ]
     },
     "metadata": {},
     "output_type": "display_data"
    },
    {
     "data": {
      "application/vnd.jupyter.widget-view+json": {
       "model_id": "e482fbcae3f9494bb8000b3001d9dfe4",
       "version_major": 2,
       "version_minor": 0
      },
      "text/plain": [
       "Possible clusters:   0%|          | 0/15 [00:00<?, ?it/s]"
      ]
     },
     "metadata": {},
     "output_type": "display_data"
    },
    {
     "data": {
      "application/vnd.jupyter.widget-view+json": {
       "model_id": "8da755c49cc448f2bfffc2d3d8a7f48f",
       "version_major": 2,
       "version_minor": 0
      },
      "text/plain": [
       "Possible clusters:   0%|          | 0/6 [00:00<?, ?it/s]"
      ]
     },
     "metadata": {},
     "output_type": "display_data"
    },
    {
     "data": {
      "application/vnd.jupyter.widget-view+json": {
       "model_id": "2b7a25cb9b0f4e399932d07c9add8e50",
       "version_major": 2,
       "version_minor": 0
      },
      "text/plain": [
       "Possible clusters:   0%|          | 0/9086 [00:00<?, ?it/s]"
      ]
     },
     "metadata": {},
     "output_type": "display_data"
    },
    {
     "data": {
      "application/vnd.jupyter.widget-view+json": {
       "model_id": "9c5452ea64c14bd9bf666eef2991d96e",
       "version_major": 2,
       "version_minor": 0
      },
      "text/plain": [
       "Possible clusters:   0%|          | 0/4029 [00:00<?, ?it/s]"
      ]
     },
     "metadata": {},
     "output_type": "display_data"
    },
    {
     "data": {
      "application/vnd.jupyter.widget-view+json": {
       "model_id": "e565063e295e4884acb84dbed6fbdc2e",
       "version_major": 2,
       "version_minor": 0
      },
      "text/plain": [
       "Possible clusters:   0%|          | 0/455 [00:00<?, ?it/s]"
      ]
     },
     "metadata": {},
     "output_type": "display_data"
    },
    {
     "data": {
      "application/vnd.jupyter.widget-view+json": {
       "model_id": "9051064ba7f6483589fb5363eabc699a",
       "version_major": 2,
       "version_minor": 0
      },
      "text/plain": [
       "Possible clusters:   0%|          | 0/286 [00:00<?, ?it/s]"
      ]
     },
     "metadata": {},
     "output_type": "display_data"
    },
    {
     "data": {
      "application/vnd.jupyter.widget-view+json": {
       "model_id": "cd3ac6262cac49249826435800a1f4e9",
       "version_major": 2,
       "version_minor": 0
      },
      "text/plain": [
       "Possible clusters:   0%|          | 0/120 [00:00<?, ?it/s]"
      ]
     },
     "metadata": {},
     "output_type": "display_data"
    },
    {
     "data": {
      "application/vnd.jupyter.widget-view+json": {
       "model_id": "dbec1629b19c44c5b5e813459953bc9f",
       "version_major": 2,
       "version_minor": 0
      },
      "text/plain": [
       "Possible clusters:   0%|          | 0/15 [00:00<?, ?it/s]"
      ]
     },
     "metadata": {},
     "output_type": "display_data"
    },
    {
     "data": {
      "application/vnd.jupyter.widget-view+json": {
       "model_id": "a97e8adebfaa4c70a698c6d36cf8146c",
       "version_major": 2,
       "version_minor": 0
      },
      "text/plain": [
       "Possible clusters:   0%|          | 0/6 [00:00<?, ?it/s]"
      ]
     },
     "metadata": {},
     "output_type": "display_data"
    },
    {
     "data": {
      "application/vnd.jupyter.widget-view+json": {
       "model_id": "d88a91bd25434ad4833cbe5a0cbc4c33",
       "version_major": 2,
       "version_minor": 0
      },
      "text/plain": [
       "Possible clusters:   0%|          | 0/5016 [00:00<?, ?it/s]"
      ]
     },
     "metadata": {},
     "output_type": "display_data"
    },
    {
     "data": {
      "application/vnd.jupyter.widget-view+json": {
       "model_id": "5ac6d2946d6842588823226c4a00a269",
       "version_major": 2,
       "version_minor": 0
      },
      "text/plain": [
       "Possible clusters:   0%|          | 0/560 [00:00<?, ?it/s]"
      ]
     },
     "metadata": {},
     "output_type": "display_data"
    },
    {
     "data": {
      "application/vnd.jupyter.widget-view+json": {
       "model_id": "68f91653f44347e4bab8d4ee3358b72e",
       "version_major": 2,
       "version_minor": 0
      },
      "text/plain": [
       "Possible clusters:   0%|          | 0/286 [00:00<?, ?it/s]"
      ]
     },
     "metadata": {},
     "output_type": "display_data"
    },
    {
     "data": {
      "application/vnd.jupyter.widget-view+json": {
       "model_id": "42200b93e2c341af94cd2e83660aba26",
       "version_major": 2,
       "version_minor": 0
      },
      "text/plain": [
       "Possible clusters:   0%|          | 0/120 [00:00<?, ?it/s]"
      ]
     },
     "metadata": {},
     "output_type": "display_data"
    },
    {
     "data": {
      "application/vnd.jupyter.widget-view+json": {
       "model_id": "7c755e80ba894ee29e3a1f16a3d0735c",
       "version_major": 2,
       "version_minor": 0
      },
      "text/plain": [
       "Possible clusters:   0%|          | 0/15 [00:00<?, ?it/s]"
      ]
     },
     "metadata": {},
     "output_type": "display_data"
    },
    {
     "data": {
      "application/vnd.jupyter.widget-view+json": {
       "model_id": "29f3070add02470fa8442ce0d223a733",
       "version_major": 2,
       "version_minor": 0
      },
      "text/plain": [
       "Possible clusters:   0%|          | 0/6 [00:00<?, ?it/s]"
      ]
     },
     "metadata": {},
     "output_type": "display_data"
    },
    {
     "data": {
      "application/vnd.jupyter.widget-view+json": {
       "model_id": "dd79fe8c69d04cff87c97de857d9a5b3",
       "version_major": 2,
       "version_minor": 0
      },
      "text/plain": [
       "Possible clusters:   0%|          | 0/7525 [00:00<?, ?it/s]"
      ]
     },
     "metadata": {},
     "output_type": "display_data"
    },
    {
     "data": {
      "application/vnd.jupyter.widget-view+json": {
       "model_id": "fa8829cd93ef401bb062769e3fc93388",
       "version_major": 2,
       "version_minor": 0
      },
      "text/plain": [
       "Possible clusters:   0%|          | 0/3196 [00:00<?, ?it/s]"
      ]
     },
     "metadata": {},
     "output_type": "display_data"
    },
    {
     "data": {
      "application/vnd.jupyter.widget-view+json": {
       "model_id": "3661b27963174bf9b42e6bdf9772cac3",
       "version_major": 2,
       "version_minor": 0
      },
      "text/plain": [
       "Possible clusters:   0%|          | 0/364 [00:00<?, ?it/s]"
      ]
     },
     "metadata": {},
     "output_type": "display_data"
    },
    {
     "data": {
      "application/vnd.jupyter.widget-view+json": {
       "model_id": "8fba38eb7c45424e8a40968648a03424",
       "version_major": 2,
       "version_minor": 0
      },
      "text/plain": [
       "Possible clusters:   0%|          | 0/165 [00:00<?, ?it/s]"
      ]
     },
     "metadata": {},
     "output_type": "display_data"
    },
    {
     "data": {
      "application/vnd.jupyter.widget-view+json": {
       "model_id": "fa95215136f9485c806f05435fe10bad",
       "version_major": 2,
       "version_minor": 0
      },
      "text/plain": [
       "Possible clusters:   0%|          | 0/21 [00:00<?, ?it/s]"
      ]
     },
     "metadata": {},
     "output_type": "display_data"
    },
    {
     "data": {
      "application/vnd.jupyter.widget-view+json": {
       "model_id": "9ef3874b1ab646d7a5950a4f8c13a399",
       "version_major": 2,
       "version_minor": 0
      },
      "text/plain": [
       "Possible clusters:   0%|          | 0/10 [00:00<?, ?it/s]"
      ]
     },
     "metadata": {},
     "output_type": "display_data"
    },
    {
     "data": {
      "application/vnd.jupyter.widget-view+json": {
       "model_id": "eccd873b5c8940559aae4895822f2c37",
       "version_major": 2,
       "version_minor": 0
      },
      "text/plain": [
       "Possible clusters:   0%|          | 0/4029 [00:00<?, ?it/s]"
      ]
     },
     "metadata": {},
     "output_type": "display_data"
    },
    {
     "data": {
      "application/vnd.jupyter.widget-view+json": {
       "model_id": "1eb51a24b90947089a65c28cf60ebc3e",
       "version_major": 2,
       "version_minor": 0
      },
      "text/plain": [
       "Possible clusters:   0%|          | 0/455 [00:00<?, ?it/s]"
      ]
     },
     "metadata": {},
     "output_type": "display_data"
    },
    {
     "data": {
      "application/vnd.jupyter.widget-view+json": {
       "model_id": "e1152c767b464a4090dc883d47e1783f",
       "version_major": 2,
       "version_minor": 0
      },
      "text/plain": [
       "Possible clusters:   0%|          | 0/220 [00:00<?, ?it/s]"
      ]
     },
     "metadata": {},
     "output_type": "display_data"
    },
    {
     "data": {
      "application/vnd.jupyter.widget-view+json": {
       "model_id": "9205bdd9a91e40fe8527d27385e95bcd",
       "version_major": 2,
       "version_minor": 0
      },
      "text/plain": [
       "Possible clusters:   0%|          | 0/28 [00:00<?, ?it/s]"
      ]
     },
     "metadata": {},
     "output_type": "display_data"
    },
    {
     "data": {
      "application/vnd.jupyter.widget-view+json": {
       "model_id": "8d79bc6bd2924c318929cb5a40d00195",
       "version_major": 2,
       "version_minor": 0
      },
      "text/plain": [
       "Possible clusters:   0%|          | 0/15 [00:00<?, ?it/s]"
      ]
     },
     "metadata": {},
     "output_type": "display_data"
    },
    {
     "data": {
      "application/vnd.jupyter.widget-view+json": {
       "model_id": "6394df97e94f4ae987a1c2fed610bce9",
       "version_major": 2,
       "version_minor": 0
      },
      "text/plain": [
       "Possible clusters:   0%|          | 0/6 [00:00<?, ?it/s]"
      ]
     },
     "metadata": {},
     "output_type": "display_data"
    },
    {
     "data": {
      "application/vnd.jupyter.widget-view+json": {
       "model_id": "c461a44ff1c14a7594f493549ccb543a",
       "version_major": 2,
       "version_minor": 0
      },
      "text/plain": [
       "Possible clusters:   0%|          | 0/4029 [00:00<?, ?it/s]"
      ]
     },
     "metadata": {},
     "output_type": "display_data"
    },
    {
     "data": {
      "application/vnd.jupyter.widget-view+json": {
       "model_id": "955c571f84384c1fb4072e8b6a51c059",
       "version_major": 2,
       "version_minor": 0
      },
      "text/plain": [
       "Possible clusters:   0%|          | 0/455 [00:00<?, ?it/s]"
      ]
     },
     "metadata": {},
     "output_type": "display_data"
    },
    {
     "data": {
      "application/vnd.jupyter.widget-view+json": {
       "model_id": "3de508ac32d44f478e46c04d6ccdecf4",
       "version_major": 2,
       "version_minor": 0
      },
      "text/plain": [
       "Possible clusters:   0%|          | 0/220 [00:00<?, ?it/s]"
      ]
     },
     "metadata": {},
     "output_type": "display_data"
    },
    {
     "data": {
      "application/vnd.jupyter.widget-view+json": {
       "model_id": "3a8653acd6714e1c841c8c45658abf7d",
       "version_major": 2,
       "version_minor": 0
      },
      "text/plain": [
       "Possible clusters:   0%|          | 0/28 [00:00<?, ?it/s]"
      ]
     },
     "metadata": {},
     "output_type": "display_data"
    },
    {
     "data": {
      "application/vnd.jupyter.widget-view+json": {
       "model_id": "69dc853d31a34ff09a5037a8180c0cf8",
       "version_major": 2,
       "version_minor": 0
      },
      "text/plain": [
       "Possible clusters:   0%|          | 0/15 [00:00<?, ?it/s]"
      ]
     },
     "metadata": {},
     "output_type": "display_data"
    },
    {
     "data": {
      "application/vnd.jupyter.widget-view+json": {
       "model_id": "61027ac088c44a138f599e5b15de1ca1",
       "version_major": 2,
       "version_minor": 0
      },
      "text/plain": [
       "Possible clusters:   0%|          | 0/6 [00:00<?, ?it/s]"
      ]
     },
     "metadata": {},
     "output_type": "display_data"
    },
    {
     "data": {
      "application/vnd.jupyter.widget-view+json": {
       "model_id": "550a7c094a40428e93003ede25f0c455",
       "version_major": 2,
       "version_minor": 0
      },
      "text/plain": [
       "Possible clusters:   0%|          | 0/7525 [00:00<?, ?it/s]"
      ]
     },
     "metadata": {},
     "output_type": "display_data"
    },
    {
     "data": {
      "application/vnd.jupyter.widget-view+json": {
       "model_id": "9e34d748d1ef4a1fb059678523273f6e",
       "version_major": 2,
       "version_minor": 0
      },
      "text/plain": [
       "Possible clusters:   0%|          | 0/3196 [00:00<?, ?it/s]"
      ]
     },
     "metadata": {},
     "output_type": "display_data"
    },
    {
     "data": {
      "application/vnd.jupyter.widget-view+json": {
       "model_id": "c4ab2fff17364b92b1934408a8c8daf0",
       "version_major": 2,
       "version_minor": 0
      },
      "text/plain": [
       "Possible clusters:   0%|          | 0/364 [00:00<?, ?it/s]"
      ]
     },
     "metadata": {},
     "output_type": "display_data"
    },
    {
     "data": {
      "application/vnd.jupyter.widget-view+json": {
       "model_id": "311d8cf16add433faafd61c23c82583a",
       "version_major": 2,
       "version_minor": 0
      },
      "text/plain": [
       "Possible clusters:   0%|          | 0/165 [00:00<?, ?it/s]"
      ]
     },
     "metadata": {},
     "output_type": "display_data"
    },
    {
     "data": {
      "application/vnd.jupyter.widget-view+json": {
       "model_id": "5e0b8f581e5f48d08bd1938c05b96b7d",
       "version_major": 2,
       "version_minor": 0
      },
      "text/plain": [
       "Possible clusters:   0%|          | 0/21 [00:00<?, ?it/s]"
      ]
     },
     "metadata": {},
     "output_type": "display_data"
    },
    {
     "data": {
      "application/vnd.jupyter.widget-view+json": {
       "model_id": "f49d41dd427946368caf354e3e1f95e3",
       "version_major": 2,
       "version_minor": 0
      },
      "text/plain": [
       "Possible clusters:   0%|          | 0/10 [00:00<?, ?it/s]"
      ]
     },
     "metadata": {},
     "output_type": "display_data"
    },
    {
     "data": {
      "application/vnd.jupyter.widget-view+json": {
       "model_id": "9cf1fd517b31476b882aa984f046979b",
       "version_major": 2,
       "version_minor": 0
      },
      "text/plain": [
       "Possible clusters:   0%|          | 0/6175 [00:00<?, ?it/s]"
      ]
     },
     "metadata": {},
     "output_type": "display_data"
    },
    {
     "data": {
      "application/vnd.jupyter.widget-view+json": {
       "model_id": "34503a20f17344f7b96b95f555d53297",
       "version_major": 2,
       "version_minor": 0
      },
      "text/plain": [
       "Possible clusters:   0%|          | 0/2500 [00:00<?, ?it/s]"
      ]
     },
     "metadata": {},
     "output_type": "display_data"
    },
    {
     "data": {
      "application/vnd.jupyter.widget-view+json": {
       "model_id": "af72e854e45842e6a4628c870ca55e3c",
       "version_major": 2,
       "version_minor": 0
      },
      "text/plain": [
       "Possible clusters:   0%|          | 0/286 [00:00<?, ?it/s]"
      ]
     },
     "metadata": {},
     "output_type": "display_data"
    },
    {
     "data": {
      "application/vnd.jupyter.widget-view+json": {
       "model_id": "9c6003d901dc46109dad970c778e9130",
       "version_major": 2,
       "version_minor": 0
      },
      "text/plain": [
       "Possible clusters:   0%|          | 0/120 [00:00<?, ?it/s]"
      ]
     },
     "metadata": {},
     "output_type": "display_data"
    },
    {
     "data": {
      "application/vnd.jupyter.widget-view+json": {
       "model_id": "3b498683c6b14e5593f8fb89a5de8807",
       "version_major": 2,
       "version_minor": 0
      },
      "text/plain": [
       "Possible clusters:   0%|          | 0/15 [00:00<?, ?it/s]"
      ]
     },
     "metadata": {},
     "output_type": "display_data"
    },
    {
     "data": {
      "application/vnd.jupyter.widget-view+json": {
       "model_id": "f3ceadabc7bd40a281a70d6c24fe96f0",
       "version_major": 2,
       "version_minor": 0
      },
      "text/plain": [
       "Possible clusters:   0%|          | 0/6 [00:00<?, ?it/s]"
      ]
     },
     "metadata": {},
     "output_type": "display_data"
    },
    {
     "data": {
      "application/vnd.jupyter.widget-view+json": {
       "model_id": "1f05ab5648ef441ca65733ef263c33aa",
       "version_major": 2,
       "version_minor": 0
      },
      "text/plain": [
       "Possible clusters:   0%|          | 0/68380 [00:00<?, ?it/s]"
      ]
     },
     "metadata": {},
     "output_type": "display_data"
    },
    {
     "data": {
      "application/vnd.jupyter.widget-view+json": {
       "model_id": "d3753571f25c4e7b885c27258501c375",
       "version_major": 2,
       "version_minor": 0
      },
      "text/plain": [
       "Possible clusters:   0%|          | 0/6175 [00:00<?, ?it/s]"
      ]
     },
     "metadata": {},
     "output_type": "display_data"
    },
    {
     "data": {
      "application/vnd.jupyter.widget-view+json": {
       "model_id": "c2c3f421186f430483d0e1ccb0ab43eb",
       "version_major": 2,
       "version_minor": 0
      },
      "text/plain": [
       "Possible clusters:   0%|          | 0/2500 [00:00<?, ?it/s]"
      ]
     },
     "metadata": {},
     "output_type": "display_data"
    },
    {
     "data": {
      "application/vnd.jupyter.widget-view+json": {
       "model_id": "b1c99741548a453f877a0f3c6b67982e",
       "version_major": 2,
       "version_minor": 0
      },
      "text/plain": [
       "Possible clusters:   0%|          | 0/286 [00:00<?, ?it/s]"
      ]
     },
     "metadata": {},
     "output_type": "display_data"
    },
    {
     "data": {
      "application/vnd.jupyter.widget-view+json": {
       "model_id": "11dd7b03358a4ed59cdfe79524934e45",
       "version_major": 2,
       "version_minor": 0
      },
      "text/plain": [
       "Possible clusters:   0%|          | 0/165 [00:00<?, ?it/s]"
      ]
     },
     "metadata": {},
     "output_type": "display_data"
    },
    {
     "data": {
      "application/vnd.jupyter.widget-view+json": {
       "model_id": "08c533c61a6541b79da2e5aef59e6888",
       "version_major": 2,
       "version_minor": 0
      },
      "text/plain": [
       "Possible clusters:   0%|          | 0/21 [00:00<?, ?it/s]"
      ]
     },
     "metadata": {},
     "output_type": "display_data"
    },
    {
     "data": {
      "application/vnd.jupyter.widget-view+json": {
       "model_id": "07a14544a4824a9987c164ceb8307c20",
       "version_major": 2,
       "version_minor": 0
      },
      "text/plain": [
       "Possible clusters:   0%|          | 0/10 [00:00<?, ?it/s]"
      ]
     },
     "metadata": {},
     "output_type": "display_data"
    },
    {
     "data": {
      "application/vnd.jupyter.widget-view+json": {
       "model_id": "d7a9851f3fd1486f968346e00a5519c9",
       "version_major": 2,
       "version_minor": 0
      },
      "text/plain": [
       "Possible clusters:   0%|          | 0/6175 [00:00<?, ?it/s]"
      ]
     },
     "metadata": {},
     "output_type": "display_data"
    },
    {
     "data": {
      "application/vnd.jupyter.widget-view+json": {
       "model_id": "c381b4fbdd754fce972e4a5df2e45d86",
       "version_major": 2,
       "version_minor": 0
      },
      "text/plain": [
       "Possible clusters:   0%|          | 0/2500 [00:00<?, ?it/s]"
      ]
     },
     "metadata": {},
     "output_type": "display_data"
    },
    {
     "data": {
      "application/vnd.jupyter.widget-view+json": {
       "model_id": "66c1280cdefe4cd486465c5e591e17ef",
       "version_major": 2,
       "version_minor": 0
      },
      "text/plain": [
       "Possible clusters:   0%|          | 0/286 [00:00<?, ?it/s]"
      ]
     },
     "metadata": {},
     "output_type": "display_data"
    },
    {
     "data": {
      "application/vnd.jupyter.widget-view+json": {
       "model_id": "42ac3400837d4cb5b4c9dc77ee59a96c",
       "version_major": 2,
       "version_minor": 0
      },
      "text/plain": [
       "Possible clusters:   0%|          | 0/120 [00:00<?, ?it/s]"
      ]
     },
     "metadata": {},
     "output_type": "display_data"
    },
    {
     "data": {
      "application/vnd.jupyter.widget-view+json": {
       "model_id": "ca5c2deefa724a1a9482ded7ddf93148",
       "version_major": 2,
       "version_minor": 0
      },
      "text/plain": [
       "Possible clusters:   0%|          | 0/15 [00:00<?, ?it/s]"
      ]
     },
     "metadata": {},
     "output_type": "display_data"
    },
    {
     "data": {
      "application/vnd.jupyter.widget-view+json": {
       "model_id": "2be514b835864904ada5a55c69aea851",
       "version_major": 2,
       "version_minor": 0
      },
      "text/plain": [
       "Possible clusters:   0%|          | 0/6 [00:00<?, ?it/s]"
      ]
     },
     "metadata": {},
     "output_type": "display_data"
    },
    {
     "data": {
      "application/vnd.jupyter.widget-view+json": {
       "model_id": "c74e404f0490424dacba880f6460d81b",
       "version_major": 2,
       "version_minor": 0
      },
      "text/plain": [
       "Possible clusters:   0%|          | 0/9086 [00:00<?, ?it/s]"
      ]
     },
     "metadata": {},
     "output_type": "display_data"
    },
    {
     "data": {
      "application/vnd.jupyter.widget-view+json": {
       "model_id": "45b3e0ab8e9e479c851ffe11a8c033d4",
       "version_major": 2,
       "version_minor": 0
      },
      "text/plain": [
       "Possible clusters:   0%|          | 0/4029 [00:00<?, ?it/s]"
      ]
     },
     "metadata": {},
     "output_type": "display_data"
    },
    {
     "data": {
      "application/vnd.jupyter.widget-view+json": {
       "model_id": "64b3ffe3b73247b78442aaf5845cc5ae",
       "version_major": 2,
       "version_minor": 0
      },
      "text/plain": [
       "Possible clusters:   0%|          | 0/455 [00:00<?, ?it/s]"
      ]
     },
     "metadata": {},
     "output_type": "display_data"
    },
    {
     "data": {
      "application/vnd.jupyter.widget-view+json": {
       "model_id": "c45e999268834c4b8dcc5efcc596503a",
       "version_major": 2,
       "version_minor": 0
      },
      "text/plain": [
       "Possible clusters:   0%|          | 0/220 [00:00<?, ?it/s]"
      ]
     },
     "metadata": {},
     "output_type": "display_data"
    },
    {
     "data": {
      "application/vnd.jupyter.widget-view+json": {
       "model_id": "323ff12dca9546a6a33566ed81c274f2",
       "version_major": 2,
       "version_minor": 0
      },
      "text/plain": [
       "Possible clusters:   0%|          | 0/28 [00:00<?, ?it/s]"
      ]
     },
     "metadata": {},
     "output_type": "display_data"
    },
    {
     "data": {
      "application/vnd.jupyter.widget-view+json": {
       "model_id": "f45ec09521fb47e59893a71d7ba37cd3",
       "version_major": 2,
       "version_minor": 0
      },
      "text/plain": [
       "Possible clusters:   0%|          | 0/15 [00:00<?, ?it/s]"
      ]
     },
     "metadata": {},
     "output_type": "display_data"
    },
    {
     "data": {
      "application/vnd.jupyter.widget-view+json": {
       "model_id": "a68e13ca2ae144769af18e55b05c0c1e",
       "version_major": 2,
       "version_minor": 0
      },
      "text/plain": [
       "Possible clusters:   0%|          | 0/6 [00:00<?, ?it/s]"
      ]
     },
     "metadata": {},
     "output_type": "display_data"
    },
    {
     "data": {
      "application/vnd.jupyter.widget-view+json": {
       "model_id": "9d42cedd85834e4aafd7ec836a8b25d1",
       "version_major": 2,
       "version_minor": 0
      },
      "text/plain": [
       "Possible clusters:   0%|          | 0/4029 [00:00<?, ?it/s]"
      ]
     },
     "metadata": {},
     "output_type": "display_data"
    },
    {
     "data": {
      "application/vnd.jupyter.widget-view+json": {
       "model_id": "c962bed106ea4a39863a1f553769870a",
       "version_major": 2,
       "version_minor": 0
      },
      "text/plain": [
       "Possible clusters:   0%|          | 0/455 [00:00<?, ?it/s]"
      ]
     },
     "metadata": {},
     "output_type": "display_data"
    },
    {
     "data": {
      "application/vnd.jupyter.widget-view+json": {
       "model_id": "644e802a55e8420fbe0fdbc11d98bac0",
       "version_major": 2,
       "version_minor": 0
      },
      "text/plain": [
       "Possible clusters:   0%|          | 0/220 [00:00<?, ?it/s]"
      ]
     },
     "metadata": {},
     "output_type": "display_data"
    },
    {
     "data": {
      "application/vnd.jupyter.widget-view+json": {
       "model_id": "8a01071dc04c48bda18bdd3de87d68f8",
       "version_major": 2,
       "version_minor": 0
      },
      "text/plain": [
       "Possible clusters:   0%|          | 0/28 [00:00<?, ?it/s]"
      ]
     },
     "metadata": {},
     "output_type": "display_data"
    },
    {
     "data": {
      "application/vnd.jupyter.widget-view+json": {
       "model_id": "a35ed613016e4bc6a0d4aed0a113838d",
       "version_major": 2,
       "version_minor": 0
      },
      "text/plain": [
       "Possible clusters:   0%|          | 0/15 [00:00<?, ?it/s]"
      ]
     },
     "metadata": {},
     "output_type": "display_data"
    },
    {
     "data": {
      "application/vnd.jupyter.widget-view+json": {
       "model_id": "8e0a4af0083042deb90da206efa4382e",
       "version_major": 2,
       "version_minor": 0
      },
      "text/plain": [
       "Possible clusters:   0%|          | 0/6 [00:00<?, ?it/s]"
      ]
     },
     "metadata": {},
     "output_type": "display_data"
    },
    {
     "data": {
      "application/vnd.jupyter.widget-view+json": {
       "model_id": "5449d0340d344c7589ac9e1c7b3388f8",
       "version_major": 2,
       "version_minor": 0
      },
      "text/plain": [
       "Possible clusters:   0%|          | 0/9086 [00:00<?, ?it/s]"
      ]
     },
     "metadata": {},
     "output_type": "display_data"
    },
    {
     "data": {
      "application/vnd.jupyter.widget-view+json": {
       "model_id": "0dafd6ed023e4371a2eb5a43705d9dfa",
       "version_major": 2,
       "version_minor": 0
      },
      "text/plain": [
       "Possible clusters:   0%|          | 0/4029 [00:00<?, ?it/s]"
      ]
     },
     "metadata": {},
     "output_type": "display_data"
    },
    {
     "data": {
      "application/vnd.jupyter.widget-view+json": {
       "model_id": "f0bf7d899d574beb85f981b9f144309b",
       "version_major": 2,
       "version_minor": 0
      },
      "text/plain": [
       "Possible clusters:   0%|          | 0/455 [00:00<?, ?it/s]"
      ]
     },
     "metadata": {},
     "output_type": "display_data"
    },
    {
     "data": {
      "application/vnd.jupyter.widget-view+json": {
       "model_id": "7c3aa736e114450b843edf2857d000c3",
       "version_major": 2,
       "version_minor": 0
      },
      "text/plain": [
       "Possible clusters:   0%|          | 0/220 [00:00<?, ?it/s]"
      ]
     },
     "metadata": {},
     "output_type": "display_data"
    },
    {
     "data": {
      "application/vnd.jupyter.widget-view+json": {
       "model_id": "28d5e4df69b547398a713431eb8ba48d",
       "version_major": 2,
       "version_minor": 0
      },
      "text/plain": [
       "Possible clusters:   0%|          | 0/28 [00:00<?, ?it/s]"
      ]
     },
     "metadata": {},
     "output_type": "display_data"
    },
    {
     "data": {
      "application/vnd.jupyter.widget-view+json": {
       "model_id": "e849e8f0a6044f2db939956eb80c01a7",
       "version_major": 2,
       "version_minor": 0
      },
      "text/plain": [
       "Possible clusters:   0%|          | 0/15 [00:00<?, ?it/s]"
      ]
     },
     "metadata": {},
     "output_type": "display_data"
    },
    {
     "data": {
      "application/vnd.jupyter.widget-view+json": {
       "model_id": "27ced2f2435149bbbc7703e5bf0895f1",
       "version_major": 2,
       "version_minor": 0
      },
      "text/plain": [
       "Possible clusters:   0%|          | 0/6 [00:00<?, ?it/s]"
      ]
     },
     "metadata": {},
     "output_type": "display_data"
    },
    {
     "data": {
      "application/vnd.jupyter.widget-view+json": {
       "model_id": "51b6991a84f145ee80ff0b0fec18f211",
       "version_major": 2,
       "version_minor": 0
      },
      "text/plain": [
       "Possible clusters:   0%|          | 0/4029 [00:00<?, ?it/s]"
      ]
     },
     "metadata": {},
     "output_type": "display_data"
    },
    {
     "data": {
      "application/vnd.jupyter.widget-view+json": {
       "model_id": "a283279a3e9e4a58afd135ed9bfa0f6c",
       "version_major": 2,
       "version_minor": 0
      },
      "text/plain": [
       "Possible clusters:   0%|          | 0/455 [00:00<?, ?it/s]"
      ]
     },
     "metadata": {},
     "output_type": "display_data"
    },
    {
     "data": {
      "application/vnd.jupyter.widget-view+json": {
       "model_id": "f6228686271f4be3a53ec31a55835fc9",
       "version_major": 2,
       "version_minor": 0
      },
      "text/plain": [
       "Possible clusters:   0%|          | 0/220 [00:00<?, ?it/s]"
      ]
     },
     "metadata": {},
     "output_type": "display_data"
    },
    {
     "data": {
      "application/vnd.jupyter.widget-view+json": {
       "model_id": "60a12054f7054eef80ceda61da41d065",
       "version_major": 2,
       "version_minor": 0
      },
      "text/plain": [
       "Possible clusters:   0%|          | 0/28 [00:00<?, ?it/s]"
      ]
     },
     "metadata": {},
     "output_type": "display_data"
    },
    {
     "data": {
      "application/vnd.jupyter.widget-view+json": {
       "model_id": "ed9da521717b437c9f0b165f6666b432",
       "version_major": 2,
       "version_minor": 0
      },
      "text/plain": [
       "Possible clusters:   0%|          | 0/15 [00:00<?, ?it/s]"
      ]
     },
     "metadata": {},
     "output_type": "display_data"
    },
    {
     "data": {
      "application/vnd.jupyter.widget-view+json": {
       "model_id": "2a7776a253ec48b89fd97e2c6c3fa9e7",
       "version_major": 2,
       "version_minor": 0
      },
      "text/plain": [
       "Possible clusters:   0%|          | 0/6 [00:00<?, ?it/s]"
      ]
     },
     "metadata": {},
     "output_type": "display_data"
    },
    {
     "data": {
      "application/vnd.jupyter.widget-view+json": {
       "model_id": "f8736a2fd2a146548e68c599a4967b62",
       "version_major": 2,
       "version_minor": 0
      },
      "text/plain": [
       "Possible clusters:   0%|          | 0/7525 [00:00<?, ?it/s]"
      ]
     },
     "metadata": {},
     "output_type": "display_data"
    },
    {
     "data": {
      "application/vnd.jupyter.widget-view+json": {
       "model_id": "2a141527a6134264998cbc5a395cf000",
       "version_major": 2,
       "version_minor": 0
      },
      "text/plain": [
       "Possible clusters:   0%|          | 0/3196 [00:00<?, ?it/s]"
      ]
     },
     "metadata": {},
     "output_type": "display_data"
    },
    {
     "data": {
      "application/vnd.jupyter.widget-view+json": {
       "model_id": "e19d060c03454349afb47951943e16d6",
       "version_major": 2,
       "version_minor": 0
      },
      "text/plain": [
       "Possible clusters:   0%|          | 0/364 [00:00<?, ?it/s]"
      ]
     },
     "metadata": {},
     "output_type": "display_data"
    },
    {
     "data": {
      "application/vnd.jupyter.widget-view+json": {
       "model_id": "4cf5a7ea43244406b356e62f6681c623",
       "version_major": 2,
       "version_minor": 0
      },
      "text/plain": [
       "Possible clusters:   0%|          | 0/165 [00:00<?, ?it/s]"
      ]
     },
     "metadata": {},
     "output_type": "display_data"
    },
    {
     "data": {
      "application/vnd.jupyter.widget-view+json": {
       "model_id": "dd2c7322c77e4abe95e52ce70b24d8f5",
       "version_major": 2,
       "version_minor": 0
      },
      "text/plain": [
       "Possible clusters:   0%|          | 0/21 [00:00<?, ?it/s]"
      ]
     },
     "metadata": {},
     "output_type": "display_data"
    },
    {
     "data": {
      "application/vnd.jupyter.widget-view+json": {
       "model_id": "d53f1d970b7a4201872236498bfd3aef",
       "version_major": 2,
       "version_minor": 0
      },
      "text/plain": [
       "Possible clusters:   0%|          | 0/10 [00:00<?, ?it/s]"
      ]
     },
     "metadata": {},
     "output_type": "display_data"
    },
    {
     "data": {
      "application/vnd.jupyter.widget-view+json": {
       "model_id": "9d866b8038bf47f392f4c7a088084418",
       "version_major": 2,
       "version_minor": 0
      },
      "text/plain": [
       "Possible clusters:   0%|          | 0/6175 [00:00<?, ?it/s]"
      ]
     },
     "metadata": {},
     "output_type": "display_data"
    },
    {
     "data": {
      "application/vnd.jupyter.widget-view+json": {
       "model_id": "dbfc3ccdfffe4ddca6c9d993a88fbdb2",
       "version_major": 2,
       "version_minor": 0
      },
      "text/plain": [
       "Possible clusters:   0%|          | 0/2500 [00:00<?, ?it/s]"
      ]
     },
     "metadata": {},
     "output_type": "display_data"
    },
    {
     "data": {
      "application/vnd.jupyter.widget-view+json": {
       "model_id": "43adc4029f074dfbbc33dec728603d90",
       "version_major": 2,
       "version_minor": 0
      },
      "text/plain": [
       "Possible clusters:   0%|          | 0/286 [00:00<?, ?it/s]"
      ]
     },
     "metadata": {},
     "output_type": "display_data"
    },
    {
     "data": {
      "application/vnd.jupyter.widget-view+json": {
       "model_id": "55fe86fc24bb46eb9f659677707c4bbd",
       "version_major": 2,
       "version_minor": 0
      },
      "text/plain": [
       "Possible clusters:   0%|          | 0/120 [00:00<?, ?it/s]"
      ]
     },
     "metadata": {},
     "output_type": "display_data"
    },
    {
     "data": {
      "application/vnd.jupyter.widget-view+json": {
       "model_id": "4a6e047c83c4403783ebcbe89d529490",
       "version_major": 2,
       "version_minor": 0
      },
      "text/plain": [
       "Possible clusters:   0%|          | 0/15 [00:00<?, ?it/s]"
      ]
     },
     "metadata": {},
     "output_type": "display_data"
    },
    {
     "data": {
      "application/vnd.jupyter.widget-view+json": {
       "model_id": "ea889be761ae4ece9bc066da9de867f5",
       "version_major": 2,
       "version_minor": 0
      },
      "text/plain": [
       "Possible clusters:   0%|          | 0/6 [00:00<?, ?it/s]"
      ]
     },
     "metadata": {},
     "output_type": "display_data"
    },
    {
     "data": {
      "application/vnd.jupyter.widget-view+json": {
       "model_id": "6fa9a98075684dab8523457aaf730cfd",
       "version_major": 2,
       "version_minor": 0
      },
      "text/plain": [
       "Possible clusters:   0%|          | 0/68380 [00:00<?, ?it/s]"
      ]
     },
     "metadata": {},
     "output_type": "display_data"
    },
    {
     "data": {
      "application/vnd.jupyter.widget-view+json": {
       "model_id": "8991fbdc33a14ea4a8975efd858a16af",
       "version_major": 2,
       "version_minor": 0
      },
      "text/plain": [
       "Possible clusters:   0%|          | 0/6175 [00:00<?, ?it/s]"
      ]
     },
     "metadata": {},
     "output_type": "display_data"
    },
    {
     "data": {
      "application/vnd.jupyter.widget-view+json": {
       "model_id": "7eea855e04634f328ad1f7320f0a3797",
       "version_major": 2,
       "version_minor": 0
      },
      "text/plain": [
       "Possible clusters:   0%|          | 0/2500 [00:00<?, ?it/s]"
      ]
     },
     "metadata": {},
     "output_type": "display_data"
    },
    {
     "data": {
      "application/vnd.jupyter.widget-view+json": {
       "model_id": "4bfa8c2e43104ffab477776f10df4967",
       "version_major": 2,
       "version_minor": 0
      },
      "text/plain": [
       "Possible clusters:   0%|          | 0/286 [00:00<?, ?it/s]"
      ]
     },
     "metadata": {},
     "output_type": "display_data"
    },
    {
     "data": {
      "application/vnd.jupyter.widget-view+json": {
       "model_id": "ef8fb28024324615a25184ba6137d276",
       "version_major": 2,
       "version_minor": 0
      },
      "text/plain": [
       "Possible clusters:   0%|          | 0/120 [00:00<?, ?it/s]"
      ]
     },
     "metadata": {},
     "output_type": "display_data"
    },
    {
     "data": {
      "application/vnd.jupyter.widget-view+json": {
       "model_id": "8904df1a0bb840faa9217a226ef32d2a",
       "version_major": 2,
       "version_minor": 0
      },
      "text/plain": [
       "Possible clusters:   0%|          | 0/15 [00:00<?, ?it/s]"
      ]
     },
     "metadata": {},
     "output_type": "display_data"
    },
    {
     "data": {
      "application/vnd.jupyter.widget-view+json": {
       "model_id": "9c6ad58b656e4ad0adcfecbb06919d4f",
       "version_major": 2,
       "version_minor": 0
      },
      "text/plain": [
       "Possible clusters:   0%|          | 0/6 [00:00<?, ?it/s]"
      ]
     },
     "metadata": {},
     "output_type": "display_data"
    },
    {
     "data": {
      "application/vnd.jupyter.widget-view+json": {
       "model_id": "2d3dd1abf30b45d39a0ffcce3c2d52c3",
       "version_major": 2,
       "version_minor": 0
      },
      "text/plain": [
       "Possible clusters:   0%|          | 0/10879 [00:00<?, ?it/s]"
      ]
     },
     "metadata": {},
     "output_type": "display_data"
    },
    {
     "data": {
      "application/vnd.jupyter.widget-view+json": {
       "model_id": "4874881bc9ec448e89e1af768f7af4a3",
       "version_major": 2,
       "version_minor": 0
      },
      "text/plain": [
       "Possible clusters:   0%|          | 0/5016 [00:00<?, ?it/s]"
      ]
     },
     "metadata": {},
     "output_type": "display_data"
    },
    {
     "data": {
      "application/vnd.jupyter.widget-view+json": {
       "model_id": "dd2d1f36fa1c4e60a3febb1313a37d48",
       "version_major": 2,
       "version_minor": 0
      },
      "text/plain": [
       "Possible clusters:   0%|          | 0/560 [00:00<?, ?it/s]"
      ]
     },
     "metadata": {},
     "output_type": "display_data"
    },
    {
     "data": {
      "application/vnd.jupyter.widget-view+json": {
       "model_id": "5de68baa0f2c49d0935db9cf934dcb6a",
       "version_major": 2,
       "version_minor": 0
      },
      "text/plain": [
       "Possible clusters:   0%|          | 0/286 [00:00<?, ?it/s]"
      ]
     },
     "metadata": {},
     "output_type": "display_data"
    },
    {
     "data": {
      "application/vnd.jupyter.widget-view+json": {
       "model_id": "1c2ee0db5c6840fdb5521e233007fa5b",
       "version_major": 2,
       "version_minor": 0
      },
      "text/plain": [
       "Possible clusters:   0%|          | 0/120 [00:00<?, ?it/s]"
      ]
     },
     "metadata": {},
     "output_type": "display_data"
    },
    {
     "data": {
      "application/vnd.jupyter.widget-view+json": {
       "model_id": "56cae1bf389a48a38c182d573ff9a2ba",
       "version_major": 2,
       "version_minor": 0
      },
      "text/plain": [
       "Possible clusters:   0%|          | 0/15 [00:00<?, ?it/s]"
      ]
     },
     "metadata": {},
     "output_type": "display_data"
    },
    {
     "data": {
      "application/vnd.jupyter.widget-view+json": {
       "model_id": "2e8ac6b275c54096844e613155b1bd37",
       "version_major": 2,
       "version_minor": 0
      },
      "text/plain": [
       "Possible clusters:   0%|          | 0/6 [00:00<?, ?it/s]"
      ]
     },
     "metadata": {},
     "output_type": "display_data"
    },
    {
     "data": {
      "application/vnd.jupyter.widget-view+json": {
       "model_id": "e509935ef67d4905b8d25241f195d6ef",
       "version_major": 2,
       "version_minor": 0
      },
      "text/plain": [
       "Possible clusters:   0%|          | 0/4029 [00:00<?, ?it/s]"
      ]
     },
     "metadata": {},
     "output_type": "display_data"
    },
    {
     "data": {
      "application/vnd.jupyter.widget-view+json": {
       "model_id": "4bacd9c493b74e1e8ce4be15d93f10bf",
       "version_major": 2,
       "version_minor": 0
      },
      "text/plain": [
       "Possible clusters:   0%|          | 0/455 [00:00<?, ?it/s]"
      ]
     },
     "metadata": {},
     "output_type": "display_data"
    },
    {
     "data": {
      "application/vnd.jupyter.widget-view+json": {
       "model_id": "e088d3731acd4542b36c246499672612",
       "version_major": 2,
       "version_minor": 0
      },
      "text/plain": [
       "Possible clusters:   0%|          | 0/220 [00:00<?, ?it/s]"
      ]
     },
     "metadata": {},
     "output_type": "display_data"
    },
    {
     "data": {
      "application/vnd.jupyter.widget-view+json": {
       "model_id": "113adabf04024d4ca1d8a9d7afa8e626",
       "version_major": 2,
       "version_minor": 0
      },
      "text/plain": [
       "Possible clusters:   0%|          | 0/28 [00:00<?, ?it/s]"
      ]
     },
     "metadata": {},
     "output_type": "display_data"
    },
    {
     "data": {
      "application/vnd.jupyter.widget-view+json": {
       "model_id": "d9ef8ca6480146eb8e15d03e1655a664",
       "version_major": 2,
       "version_minor": 0
      },
      "text/plain": [
       "Possible clusters:   0%|          | 0/15 [00:00<?, ?it/s]"
      ]
     },
     "metadata": {},
     "output_type": "display_data"
    },
    {
     "data": {
      "application/vnd.jupyter.widget-view+json": {
       "model_id": "08f591802bc840699f846adf77bcc7f1",
       "version_major": 2,
       "version_minor": 0
      },
      "text/plain": [
       "Possible clusters:   0%|          | 0/6 [00:00<?, ?it/s]"
      ]
     },
     "metadata": {},
     "output_type": "display_data"
    },
    {
     "data": {
      "application/vnd.jupyter.widget-view+json": {
       "model_id": "17f7dbb3cdd84c4cb9cda6308d203af0",
       "version_major": 2,
       "version_minor": 0
      },
      "text/plain": [
       "Possible clusters:   0%|          | 0/10879 [00:00<?, ?it/s]"
      ]
     },
     "metadata": {},
     "output_type": "display_data"
    },
    {
     "data": {
      "application/vnd.jupyter.widget-view+json": {
       "model_id": "65e70ea05ed84d069ba311b22066ed24",
       "version_major": 2,
       "version_minor": 0
      },
      "text/plain": [
       "Possible clusters:   0%|          | 0/5016 [00:00<?, ?it/s]"
      ]
     },
     "metadata": {},
     "output_type": "display_data"
    },
    {
     "data": {
      "application/vnd.jupyter.widget-view+json": {
       "model_id": "5bbade3a0ef0424db824d3590b41ccbf",
       "version_major": 2,
       "version_minor": 0
      },
      "text/plain": [
       "Possible clusters:   0%|          | 0/560 [00:00<?, ?it/s]"
      ]
     },
     "metadata": {},
     "output_type": "display_data"
    },
    {
     "data": {
      "application/vnd.jupyter.widget-view+json": {
       "model_id": "a5cfbffa85c34d659c4ac713871a6951",
       "version_major": 2,
       "version_minor": 0
      },
      "text/plain": [
       "Possible clusters:   0%|          | 0/286 [00:00<?, ?it/s]"
      ]
     },
     "metadata": {},
     "output_type": "display_data"
    },
    {
     "data": {
      "application/vnd.jupyter.widget-view+json": {
       "model_id": "97caf7e05c67416eb566b239c0e765e0",
       "version_major": 2,
       "version_minor": 0
      },
      "text/plain": [
       "Possible clusters:   0%|          | 0/120 [00:00<?, ?it/s]"
      ]
     },
     "metadata": {},
     "output_type": "display_data"
    },
    {
     "data": {
      "application/vnd.jupyter.widget-view+json": {
       "model_id": "96f8fb7595034f3f8a68012f2ffaf8da",
       "version_major": 2,
       "version_minor": 0
      },
      "text/plain": [
       "Possible clusters:   0%|          | 0/15 [00:00<?, ?it/s]"
      ]
     },
     "metadata": {},
     "output_type": "display_data"
    },
    {
     "data": {
      "application/vnd.jupyter.widget-view+json": {
       "model_id": "4932dfeefff94e2bb4138b5e4b7f0329",
       "version_major": 2,
       "version_minor": 0
      },
      "text/plain": [
       "Possible clusters:   0%|          | 0/6 [00:00<?, ?it/s]"
      ]
     },
     "metadata": {},
     "output_type": "display_data"
    },
    {
     "data": {
      "application/vnd.jupyter.widget-view+json": {
       "model_id": "c34f34160fb94977963f54ef5e92c93b",
       "version_major": 2,
       "version_minor": 0
      },
      "text/plain": [
       "Possible clusters:   0%|          | 0/3196 [00:00<?, ?it/s]"
      ]
     },
     "metadata": {},
     "output_type": "display_data"
    },
    {
     "data": {
      "application/vnd.jupyter.widget-view+json": {
       "model_id": "f8aeb214b1454331adbef3ba047513e4",
       "version_major": 2,
       "version_minor": 0
      },
      "text/plain": [
       "Possible clusters:   0%|          | 0/364 [00:00<?, ?it/s]"
      ]
     },
     "metadata": {},
     "output_type": "display_data"
    },
    {
     "data": {
      "application/vnd.jupyter.widget-view+json": {
       "model_id": "b38b13c1d3d74c3b9691366966d38b5c",
       "version_major": 2,
       "version_minor": 0
      },
      "text/plain": [
       "Possible clusters:   0%|          | 0/165 [00:00<?, ?it/s]"
      ]
     },
     "metadata": {},
     "output_type": "display_data"
    },
    {
     "data": {
      "application/vnd.jupyter.widget-view+json": {
       "model_id": "b66056f9b09c4bb2bb7265ae36e6830e",
       "version_major": 2,
       "version_minor": 0
      },
      "text/plain": [
       "Possible clusters:   0%|          | 0/21 [00:00<?, ?it/s]"
      ]
     },
     "metadata": {},
     "output_type": "display_data"
    },
    {
     "data": {
      "application/vnd.jupyter.widget-view+json": {
       "model_id": "a5b156760dfc4fc6b3b0602ac3920f74",
       "version_major": 2,
       "version_minor": 0
      },
      "text/plain": [
       "Possible clusters:   0%|          | 0/10 [00:00<?, ?it/s]"
      ]
     },
     "metadata": {},
     "output_type": "display_data"
    },
    {
     "data": {
      "application/vnd.jupyter.widget-view+json": {
       "model_id": "70b23e0c1a1b42a09941c39eb0ad9a4a",
       "version_major": 2,
       "version_minor": 0
      },
      "text/plain": [
       "Possible clusters:   0%|          | 0/4029 [00:00<?, ?it/s]"
      ]
     },
     "metadata": {},
     "output_type": "display_data"
    },
    {
     "data": {
      "application/vnd.jupyter.widget-view+json": {
       "model_id": "48adb31d697c498680724a5e332184b6",
       "version_major": 2,
       "version_minor": 0
      },
      "text/plain": [
       "Possible clusters:   0%|          | 0/455 [00:00<?, ?it/s]"
      ]
     },
     "metadata": {},
     "output_type": "display_data"
    },
    {
     "data": {
      "application/vnd.jupyter.widget-view+json": {
       "model_id": "0f8bf7b59dfa482cb4d5be70bf96b78a",
       "version_major": 2,
       "version_minor": 0
      },
      "text/plain": [
       "Possible clusters:   0%|          | 0/220 [00:00<?, ?it/s]"
      ]
     },
     "metadata": {},
     "output_type": "display_data"
    },
    {
     "data": {
      "application/vnd.jupyter.widget-view+json": {
       "model_id": "5b35062b31a740d48d03901aed75edae",
       "version_major": 2,
       "version_minor": 0
      },
      "text/plain": [
       "Possible clusters:   0%|          | 0/28 [00:00<?, ?it/s]"
      ]
     },
     "metadata": {},
     "output_type": "display_data"
    },
    {
     "data": {
      "application/vnd.jupyter.widget-view+json": {
       "model_id": "5ba92ae6b2984d25a7a1e3256954a85c",
       "version_major": 2,
       "version_minor": 0
      },
      "text/plain": [
       "Possible clusters:   0%|          | 0/15 [00:00<?, ?it/s]"
      ]
     },
     "metadata": {},
     "output_type": "display_data"
    },
    {
     "data": {
      "application/vnd.jupyter.widget-view+json": {
       "model_id": "b98fde6f5d33490e9dd97ec7cce93e72",
       "version_major": 2,
       "version_minor": 0
      },
      "text/plain": [
       "Possible clusters:   0%|          | 0/6 [00:00<?, ?it/s]"
      ]
     },
     "metadata": {},
     "output_type": "display_data"
    },
    {
     "data": {
      "application/vnd.jupyter.widget-view+json": {
       "model_id": "c797f252884e414d83c745aad7a0c47b",
       "version_major": 2,
       "version_minor": 0
      },
      "text/plain": [
       "Possible clusters:   0%|          | 0/9086 [00:00<?, ?it/s]"
      ]
     },
     "metadata": {},
     "output_type": "display_data"
    },
    {
     "data": {
      "application/vnd.jupyter.widget-view+json": {
       "model_id": "4836887bb38941f7a032877d91363c1f",
       "version_major": 2,
       "version_minor": 0
      },
      "text/plain": [
       "Possible clusters:   0%|          | 0/4029 [00:00<?, ?it/s]"
      ]
     },
     "metadata": {},
     "output_type": "display_data"
    },
    {
     "data": {
      "application/vnd.jupyter.widget-view+json": {
       "model_id": "7a949dfd7399479c9a875d696fc97cb5",
       "version_major": 2,
       "version_minor": 0
      },
      "text/plain": [
       "Possible clusters:   0%|          | 0/455 [00:00<?, ?it/s]"
      ]
     },
     "metadata": {},
     "output_type": "display_data"
    },
    {
     "data": {
      "application/vnd.jupyter.widget-view+json": {
       "model_id": "310dd0afd3ee490a9ef29d0a58c7784a",
       "version_major": 2,
       "version_minor": 0
      },
      "text/plain": [
       "Possible clusters:   0%|          | 0/220 [00:00<?, ?it/s]"
      ]
     },
     "metadata": {},
     "output_type": "display_data"
    },
    {
     "data": {
      "application/vnd.jupyter.widget-view+json": {
       "model_id": "4bb1a58e4f4245218b76a53af020adeb",
       "version_major": 2,
       "version_minor": 0
      },
      "text/plain": [
       "Possible clusters:   0%|          | 0/28 [00:00<?, ?it/s]"
      ]
     },
     "metadata": {},
     "output_type": "display_data"
    },
    {
     "data": {
      "application/vnd.jupyter.widget-view+json": {
       "model_id": "642372f39b5f40949f7d7b3322aceccb",
       "version_major": 2,
       "version_minor": 0
      },
      "text/plain": [
       "Possible clusters:   0%|          | 0/15 [00:00<?, ?it/s]"
      ]
     },
     "metadata": {},
     "output_type": "display_data"
    },
    {
     "data": {
      "application/vnd.jupyter.widget-view+json": {
       "model_id": "2f866e351d7d4df1af63e5093021c395",
       "version_major": 2,
       "version_minor": 0
      },
      "text/plain": [
       "Possible clusters:   0%|          | 0/6 [00:00<?, ?it/s]"
      ]
     },
     "metadata": {},
     "output_type": "display_data"
    },
    {
     "data": {
      "application/vnd.jupyter.widget-view+json": {
       "model_id": "f1f476865e444e18938e54f36e0fa0b1",
       "version_major": 2,
       "version_minor": 0
      },
      "text/plain": [
       "Possible clusters:   0%|          | 0/68380 [00:00<?, ?it/s]"
      ]
     },
     "metadata": {},
     "output_type": "display_data"
    },
    {
     "data": {
      "application/vnd.jupyter.widget-view+json": {
       "model_id": "acc1bc8e073b4046b4f99c30819f33fa",
       "version_major": 2,
       "version_minor": 0
      },
      "text/plain": [
       "Possible clusters:   0%|          | 0/6175 [00:00<?, ?it/s]"
      ]
     },
     "metadata": {},
     "output_type": "display_data"
    },
    {
     "data": {
      "application/vnd.jupyter.widget-view+json": {
       "model_id": "d8ba4f0fc65e46f3bcb4045d2905cef3",
       "version_major": 2,
       "version_minor": 0
      },
      "text/plain": [
       "Possible clusters:   0%|          | 0/2500 [00:00<?, ?it/s]"
      ]
     },
     "metadata": {},
     "output_type": "display_data"
    },
    {
     "data": {
      "application/vnd.jupyter.widget-view+json": {
       "model_id": "8d5d51f0a9f94789a1bbd317f6a49de4",
       "version_major": 2,
       "version_minor": 0
      },
      "text/plain": [
       "Possible clusters:   0%|          | 0/286 [00:00<?, ?it/s]"
      ]
     },
     "metadata": {},
     "output_type": "display_data"
    },
    {
     "data": {
      "application/vnd.jupyter.widget-view+json": {
       "model_id": "b152d022f1434d1389951294dfeb4cb8",
       "version_major": 2,
       "version_minor": 0
      },
      "text/plain": [
       "Possible clusters:   0%|          | 0/120 [00:00<?, ?it/s]"
      ]
     },
     "metadata": {},
     "output_type": "display_data"
    },
    {
     "data": {
      "application/vnd.jupyter.widget-view+json": {
       "model_id": "e3d51b76c11b48fc846277011fcc4517",
       "version_major": 2,
       "version_minor": 0
      },
      "text/plain": [
       "Possible clusters:   0%|          | 0/15 [00:00<?, ?it/s]"
      ]
     },
     "metadata": {},
     "output_type": "display_data"
    },
    {
     "data": {
      "application/vnd.jupyter.widget-view+json": {
       "model_id": "98baa64c58db4583a3021ca6b4a31aa4",
       "version_major": 2,
       "version_minor": 0
      },
      "text/plain": [
       "Possible clusters:   0%|          | 0/6 [00:00<?, ?it/s]"
      ]
     },
     "metadata": {},
     "output_type": "display_data"
    },
    {
     "data": {
      "application/vnd.jupyter.widget-view+json": {
       "model_id": "b206d4064e39450db23865b39bec0361",
       "version_major": 2,
       "version_minor": 0
      },
      "text/plain": [
       "Possible clusters:   0%|          | 0/6175 [00:00<?, ?it/s]"
      ]
     },
     "metadata": {},
     "output_type": "display_data"
    },
    {
     "data": {
      "application/vnd.jupyter.widget-view+json": {
       "model_id": "7053773a7d0b4f368a6fa95a033dbcc8",
       "version_major": 2,
       "version_minor": 0
      },
      "text/plain": [
       "Possible clusters:   0%|          | 0/2500 [00:00<?, ?it/s]"
      ]
     },
     "metadata": {},
     "output_type": "display_data"
    },
    {
     "data": {
      "application/vnd.jupyter.widget-view+json": {
       "model_id": "0086468492b749b08ceeebd15a1becef",
       "version_major": 2,
       "version_minor": 0
      },
      "text/plain": [
       "Possible clusters:   0%|          | 0/286 [00:00<?, ?it/s]"
      ]
     },
     "metadata": {},
     "output_type": "display_data"
    },
    {
     "data": {
      "application/vnd.jupyter.widget-view+json": {
       "model_id": "1d28bc66898a4d4d8f22b4d55555d758",
       "version_major": 2,
       "version_minor": 0
      },
      "text/plain": [
       "Possible clusters:   0%|          | 0/120 [00:00<?, ?it/s]"
      ]
     },
     "metadata": {},
     "output_type": "display_data"
    },
    {
     "data": {
      "application/vnd.jupyter.widget-view+json": {
       "model_id": "ea247ae14db7480ba05c21f2f3de1e72",
       "version_major": 2,
       "version_minor": 0
      },
      "text/plain": [
       "Possible clusters:   0%|          | 0/15 [00:00<?, ?it/s]"
      ]
     },
     "metadata": {},
     "output_type": "display_data"
    },
    {
     "data": {
      "application/vnd.jupyter.widget-view+json": {
       "model_id": "8e9f2e54c8704e4e8fba39ae41a6e1f2",
       "version_major": 2,
       "version_minor": 0
      },
      "text/plain": [
       "Possible clusters:   0%|          | 0/6 [00:00<?, ?it/s]"
      ]
     },
     "metadata": {},
     "output_type": "display_data"
    },
    {
     "data": {
      "application/vnd.jupyter.widget-view+json": {
       "model_id": "31feaf1748fc43e49a5cdee5af920d2b",
       "version_major": 2,
       "version_minor": 0
      },
      "text/plain": [
       "Possible clusters:   0%|          | 0/9086 [00:00<?, ?it/s]"
      ]
     },
     "metadata": {},
     "output_type": "display_data"
    },
    {
     "data": {
      "application/vnd.jupyter.widget-view+json": {
       "model_id": "2ee9af9d570e420986074c48924800b7",
       "version_major": 2,
       "version_minor": 0
      },
      "text/plain": [
       "Possible clusters:   0%|          | 0/4029 [00:00<?, ?it/s]"
      ]
     },
     "metadata": {},
     "output_type": "display_data"
    },
    {
     "data": {
      "application/vnd.jupyter.widget-view+json": {
       "model_id": "78a3a49960b6443f9951d77258c8af3a",
       "version_major": 2,
       "version_minor": 0
      },
      "text/plain": [
       "Possible clusters:   0%|          | 0/455 [00:00<?, ?it/s]"
      ]
     },
     "metadata": {},
     "output_type": "display_data"
    },
    {
     "data": {
      "application/vnd.jupyter.widget-view+json": {
       "model_id": "d586d423f9ae4e50bacc966f48345055",
       "version_major": 2,
       "version_minor": 0
      },
      "text/plain": [
       "Possible clusters:   0%|          | 0/220 [00:00<?, ?it/s]"
      ]
     },
     "metadata": {},
     "output_type": "display_data"
    },
    {
     "data": {
      "application/vnd.jupyter.widget-view+json": {
       "model_id": "924632081abe40caa394f3771df9634f",
       "version_major": 2,
       "version_minor": 0
      },
      "text/plain": [
       "Possible clusters:   0%|          | 0/28 [00:00<?, ?it/s]"
      ]
     },
     "metadata": {},
     "output_type": "display_data"
    },
    {
     "data": {
      "application/vnd.jupyter.widget-view+json": {
       "model_id": "0b1d2e0404ac4685a30d14df1d41ca47",
       "version_major": 2,
       "version_minor": 0
      },
      "text/plain": [
       "Possible clusters:   0%|          | 0/15 [00:00<?, ?it/s]"
      ]
     },
     "metadata": {},
     "output_type": "display_data"
    },
    {
     "data": {
      "application/vnd.jupyter.widget-view+json": {
       "model_id": "8845d6310a1d4697ac870b599b608c08",
       "version_major": 2,
       "version_minor": 0
      },
      "text/plain": [
       "Possible clusters:   0%|          | 0/6 [00:00<?, ?it/s]"
      ]
     },
     "metadata": {},
     "output_type": "display_data"
    },
    {
     "data": {
      "application/vnd.jupyter.widget-view+json": {
       "model_id": "260e6e6060db43499f82342f6e97e801",
       "version_major": 2,
       "version_minor": 0
      },
      "text/plain": [
       "Possible clusters:   0%|          | 0/4029 [00:00<?, ?it/s]"
      ]
     },
     "metadata": {},
     "output_type": "display_data"
    },
    {
     "data": {
      "application/vnd.jupyter.widget-view+json": {
       "model_id": "12dd1a6847b74ad7b832c253c52c7e72",
       "version_major": 2,
       "version_minor": 0
      },
      "text/plain": [
       "Possible clusters:   0%|          | 0/455 [00:00<?, ?it/s]"
      ]
     },
     "metadata": {},
     "output_type": "display_data"
    },
    {
     "data": {
      "application/vnd.jupyter.widget-view+json": {
       "model_id": "ef4d9ec8e4e94e999ecdc79c2c17bbb1",
       "version_major": 2,
       "version_minor": 0
      },
      "text/plain": [
       "Possible clusters:   0%|          | 0/220 [00:00<?, ?it/s]"
      ]
     },
     "metadata": {},
     "output_type": "display_data"
    },
    {
     "data": {
      "application/vnd.jupyter.widget-view+json": {
       "model_id": "b8f4a4ec327949979ef8b5ce825a0b03",
       "version_major": 2,
       "version_minor": 0
      },
      "text/plain": [
       "Possible clusters:   0%|          | 0/28 [00:00<?, ?it/s]"
      ]
     },
     "metadata": {},
     "output_type": "display_data"
    },
    {
     "data": {
      "application/vnd.jupyter.widget-view+json": {
       "model_id": "95c986d29226453f9d8e57b57dc99b4a",
       "version_major": 2,
       "version_minor": 0
      },
      "text/plain": [
       "Possible clusters:   0%|          | 0/15 [00:00<?, ?it/s]"
      ]
     },
     "metadata": {},
     "output_type": "display_data"
    },
    {
     "data": {
      "application/vnd.jupyter.widget-view+json": {
       "model_id": "a7646b3f06c744029036b61c8cd95d3f",
       "version_major": 2,
       "version_minor": 0
      },
      "text/plain": [
       "Possible clusters:   0%|          | 0/6 [00:00<?, ?it/s]"
      ]
     },
     "metadata": {},
     "output_type": "display_data"
    },
    {
     "data": {
      "application/vnd.jupyter.widget-view+json": {
       "model_id": "46ac3f87311b448aac3b8cb7206e5353",
       "version_major": 2,
       "version_minor": 0
      },
      "text/plain": [
       "Possible clusters:   0%|          | 0/9086 [00:00<?, ?it/s]"
      ]
     },
     "metadata": {},
     "output_type": "display_data"
    },
    {
     "data": {
      "application/vnd.jupyter.widget-view+json": {
       "model_id": "70ad009602b044d4b3f20c5bf7f54858",
       "version_major": 2,
       "version_minor": 0
      },
      "text/plain": [
       "Possible clusters:   0%|          | 0/4029 [00:00<?, ?it/s]"
      ]
     },
     "metadata": {},
     "output_type": "display_data"
    },
    {
     "data": {
      "application/vnd.jupyter.widget-view+json": {
       "model_id": "8db37d595d6f473b88cf35187cd82ec8",
       "version_major": 2,
       "version_minor": 0
      },
      "text/plain": [
       "Possible clusters:   0%|          | 0/455 [00:00<?, ?it/s]"
      ]
     },
     "metadata": {},
     "output_type": "display_data"
    },
    {
     "data": {
      "application/vnd.jupyter.widget-view+json": {
       "model_id": "90f786dd07654cb484598f628dc4b36a",
       "version_major": 2,
       "version_minor": 0
      },
      "text/plain": [
       "Possible clusters:   0%|          | 0/220 [00:00<?, ?it/s]"
      ]
     },
     "metadata": {},
     "output_type": "display_data"
    },
    {
     "data": {
      "application/vnd.jupyter.widget-view+json": {
       "model_id": "c53e860bb451439caaaa45ca23d8f64d",
       "version_major": 2,
       "version_minor": 0
      },
      "text/plain": [
       "Possible clusters:   0%|          | 0/28 [00:00<?, ?it/s]"
      ]
     },
     "metadata": {},
     "output_type": "display_data"
    },
    {
     "data": {
      "application/vnd.jupyter.widget-view+json": {
       "model_id": "ae2b154945a34b7180f2d74fc67b09ba",
       "version_major": 2,
       "version_minor": 0
      },
      "text/plain": [
       "Possible clusters:   0%|          | 0/15 [00:00<?, ?it/s]"
      ]
     },
     "metadata": {},
     "output_type": "display_data"
    },
    {
     "data": {
      "application/vnd.jupyter.widget-view+json": {
       "model_id": "271e0b1d2c1f404cae8a3622e4725db7",
       "version_major": 2,
       "version_minor": 0
      },
      "text/plain": [
       "Possible clusters:   0%|          | 0/6 [00:00<?, ?it/s]"
      ]
     },
     "metadata": {},
     "output_type": "display_data"
    },
    {
     "data": {
      "application/vnd.jupyter.widget-view+json": {
       "model_id": "2db0e326819a41ab9cf9529800b34f56",
       "version_major": 2,
       "version_minor": 0
      },
      "text/plain": [
       "Possible clusters:   0%|          | 0/68380 [00:00<?, ?it/s]"
      ]
     },
     "metadata": {},
     "output_type": "display_data"
    },
    {
     "data": {
      "application/vnd.jupyter.widget-view+json": {
       "model_id": "f4fe47c28c224558977a1641a6281048",
       "version_major": 2,
       "version_minor": 0
      },
      "text/plain": [
       "Possible clusters:   0%|          | 0/6175 [00:00<?, ?it/s]"
      ]
     },
     "metadata": {},
     "output_type": "display_data"
    },
    {
     "data": {
      "application/vnd.jupyter.widget-view+json": {
       "model_id": "28a415f2d45248ac97004b120a86cd88",
       "version_major": 2,
       "version_minor": 0
      },
      "text/plain": [
       "Possible clusters:   0%|          | 0/2500 [00:00<?, ?it/s]"
      ]
     },
     "metadata": {},
     "output_type": "display_data"
    },
    {
     "data": {
      "application/vnd.jupyter.widget-view+json": {
       "model_id": "66d511e4c893420fbdcc8b49a975ba12",
       "version_major": 2,
       "version_minor": 0
      },
      "text/plain": [
       "Possible clusters:   0%|          | 0/286 [00:00<?, ?it/s]"
      ]
     },
     "metadata": {},
     "output_type": "display_data"
    },
    {
     "data": {
      "application/vnd.jupyter.widget-view+json": {
       "model_id": "cdc5d54574354de78cb8fce830d84b57",
       "version_major": 2,
       "version_minor": 0
      },
      "text/plain": [
       "Possible clusters:   0%|          | 0/120 [00:00<?, ?it/s]"
      ]
     },
     "metadata": {},
     "output_type": "display_data"
    },
    {
     "data": {
      "application/vnd.jupyter.widget-view+json": {
       "model_id": "ee1f5ba729844a5295ece435fb361b16",
       "version_major": 2,
       "version_minor": 0
      },
      "text/plain": [
       "Possible clusters:   0%|          | 0/15 [00:00<?, ?it/s]"
      ]
     },
     "metadata": {},
     "output_type": "display_data"
    },
    {
     "data": {
      "application/vnd.jupyter.widget-view+json": {
       "model_id": "820447f4965e49948dfdc103d8df14c1",
       "version_major": 2,
       "version_minor": 0
      },
      "text/plain": [
       "Possible clusters:   0%|          | 0/6 [00:00<?, ?it/s]"
      ]
     },
     "metadata": {},
     "output_type": "display_data"
    },
    {
     "data": {
      "application/vnd.jupyter.widget-view+json": {
       "model_id": "ec8adb646a23487ab930c3e52ea8f668",
       "version_major": 2,
       "version_minor": 0
      },
      "text/plain": [
       "Possible clusters:   0%|          | 0/5016 [00:00<?, ?it/s]"
      ]
     },
     "metadata": {},
     "output_type": "display_data"
    },
    {
     "data": {
      "application/vnd.jupyter.widget-view+json": {
       "model_id": "027d31ef3674463291ccd5c2e4646e20",
       "version_major": 2,
       "version_minor": 0
      },
      "text/plain": [
       "Possible clusters:   0%|          | 0/560 [00:00<?, ?it/s]"
      ]
     },
     "metadata": {},
     "output_type": "display_data"
    },
    {
     "data": {
      "application/vnd.jupyter.widget-view+json": {
       "model_id": "e5aa71433cf34aa3b789ef335d72a565",
       "version_major": 2,
       "version_minor": 0
      },
      "text/plain": [
       "Possible clusters:   0%|          | 0/286 [00:00<?, ?it/s]"
      ]
     },
     "metadata": {},
     "output_type": "display_data"
    },
    {
     "data": {
      "application/vnd.jupyter.widget-view+json": {
       "model_id": "3fc3256c6db14128a73e5e11dc12e577",
       "version_major": 2,
       "version_minor": 0
      },
      "text/plain": [
       "Possible clusters:   0%|          | 0/120 [00:00<?, ?it/s]"
      ]
     },
     "metadata": {},
     "output_type": "display_data"
    },
    {
     "data": {
      "application/vnd.jupyter.widget-view+json": {
       "model_id": "9f92ab3733cf4267b96b76df2a70b334",
       "version_major": 2,
       "version_minor": 0
      },
      "text/plain": [
       "Possible clusters:   0%|          | 0/15 [00:00<?, ?it/s]"
      ]
     },
     "metadata": {},
     "output_type": "display_data"
    },
    {
     "data": {
      "application/vnd.jupyter.widget-view+json": {
       "model_id": "a4faa53fc74446ffa8ec1e49f1900912",
       "version_major": 2,
       "version_minor": 0
      },
      "text/plain": [
       "Possible clusters:   0%|          | 0/6 [00:00<?, ?it/s]"
      ]
     },
     "metadata": {},
     "output_type": "display_data"
    },
    {
     "data": {
      "application/vnd.jupyter.widget-view+json": {
       "model_id": "44553eb367ef4ed3b04cee78abe920bf",
       "version_major": 2,
       "version_minor": 0
      },
      "text/plain": [
       "Possible clusters:   0%|          | 0/3196 [00:00<?, ?it/s]"
      ]
     },
     "metadata": {},
     "output_type": "display_data"
    },
    {
     "data": {
      "application/vnd.jupyter.widget-view+json": {
       "model_id": "f650eb30710848d88e58ef3cc65c4461",
       "version_major": 2,
       "version_minor": 0
      },
      "text/plain": [
       "Possible clusters:   0%|          | 0/364 [00:00<?, ?it/s]"
      ]
     },
     "metadata": {},
     "output_type": "display_data"
    },
    {
     "data": {
      "application/vnd.jupyter.widget-view+json": {
       "model_id": "0cb915696b034f1388eec3d80d8a5311",
       "version_major": 2,
       "version_minor": 0
      },
      "text/plain": [
       "Possible clusters:   0%|          | 0/165 [00:00<?, ?it/s]"
      ]
     },
     "metadata": {},
     "output_type": "display_data"
    },
    {
     "data": {
      "application/vnd.jupyter.widget-view+json": {
       "model_id": "53309a4a07df4a9ab0a810d62f3242d4",
       "version_major": 2,
       "version_minor": 0
      },
      "text/plain": [
       "Possible clusters:   0%|          | 0/21 [00:00<?, ?it/s]"
      ]
     },
     "metadata": {},
     "output_type": "display_data"
    },
    {
     "data": {
      "application/vnd.jupyter.widget-view+json": {
       "model_id": "b1a2241dc5e9461e8c2f96d58e3dd429",
       "version_major": 2,
       "version_minor": 0
      },
      "text/plain": [
       "Possible clusters:   0%|          | 0/10 [00:00<?, ?it/s]"
      ]
     },
     "metadata": {},
     "output_type": "display_data"
    },
    {
     "data": {
      "application/vnd.jupyter.widget-view+json": {
       "model_id": "299a9b6293294d58954a57670516f154",
       "version_major": 2,
       "version_minor": 0
      },
      "text/plain": [
       "Possible clusters:   0%|          | 0/6175 [00:00<?, ?it/s]"
      ]
     },
     "metadata": {},
     "output_type": "display_data"
    },
    {
     "data": {
      "application/vnd.jupyter.widget-view+json": {
       "model_id": "7205ab6e69d24ce9b9ff9a695d2c5f65",
       "version_major": 2,
       "version_minor": 0
      },
      "text/plain": [
       "Possible clusters:   0%|          | 0/2500 [00:00<?, ?it/s]"
      ]
     },
     "metadata": {},
     "output_type": "display_data"
    },
    {
     "data": {
      "application/vnd.jupyter.widget-view+json": {
       "model_id": "1247588ac34e494db89a6295bcfa523f",
       "version_major": 2,
       "version_minor": 0
      },
      "text/plain": [
       "Possible clusters:   0%|          | 0/286 [00:00<?, ?it/s]"
      ]
     },
     "metadata": {},
     "output_type": "display_data"
    },
    {
     "data": {
      "application/vnd.jupyter.widget-view+json": {
       "model_id": "f00de5c62d5f4549af3e2661981dacb5",
       "version_major": 2,
       "version_minor": 0
      },
      "text/plain": [
       "Possible clusters:   0%|          | 0/120 [00:00<?, ?it/s]"
      ]
     },
     "metadata": {},
     "output_type": "display_data"
    },
    {
     "data": {
      "application/vnd.jupyter.widget-view+json": {
       "model_id": "9aaf6ee3c1ca46c8b7ea627cfd5a7908",
       "version_major": 2,
       "version_minor": 0
      },
      "text/plain": [
       "Possible clusters:   0%|          | 0/15 [00:00<?, ?it/s]"
      ]
     },
     "metadata": {},
     "output_type": "display_data"
    },
    {
     "data": {
      "application/vnd.jupyter.widget-view+json": {
       "model_id": "097fc2955ca14e44a343bf09d1513959",
       "version_major": 2,
       "version_minor": 0
      },
      "text/plain": [
       "Possible clusters:   0%|          | 0/6 [00:00<?, ?it/s]"
      ]
     },
     "metadata": {},
     "output_type": "display_data"
    },
    {
     "data": {
      "application/vnd.jupyter.widget-view+json": {
       "model_id": "c0dc67ccf639418cbbc6e504d0b0d7c4",
       "version_major": 2,
       "version_minor": 0
      },
      "text/plain": [
       "Possible clusters:   0%|          | 0/12926 [00:00<?, ?it/s]"
      ]
     },
     "metadata": {},
     "output_type": "display_data"
    },
    {
     "data": {
      "application/vnd.jupyter.widget-view+json": {
       "model_id": "6c1753be861e45c996ce1fa53f6e10a2",
       "version_major": 2,
       "version_minor": 0
      },
      "text/plain": [
       "Possible clusters:   0%|          | 0/6175 [00:00<?, ?it/s]"
      ]
     },
     "metadata": {},
     "output_type": "display_data"
    },
    {
     "data": {
      "application/vnd.jupyter.widget-view+json": {
       "model_id": "721469cc90f144f8addb7c5156a2f45b",
       "version_major": 2,
       "version_minor": 0
      },
      "text/plain": [
       "Possible clusters:   0%|          | 0/2500 [00:00<?, ?it/s]"
      ]
     },
     "metadata": {},
     "output_type": "display_data"
    },
    {
     "data": {
      "application/vnd.jupyter.widget-view+json": {
       "model_id": "21f089ed5cec40e2a13b16b02663ed70",
       "version_major": 2,
       "version_minor": 0
      },
      "text/plain": [
       "Possible clusters:   0%|          | 0/286 [00:00<?, ?it/s]"
      ]
     },
     "metadata": {},
     "output_type": "display_data"
    },
    {
     "data": {
      "application/vnd.jupyter.widget-view+json": {
       "model_id": "0f0630ab1879448dbd0b562ab5308444",
       "version_major": 2,
       "version_minor": 0
      },
      "text/plain": [
       "Possible clusters:   0%|          | 0/120 [00:00<?, ?it/s]"
      ]
     },
     "metadata": {},
     "output_type": "display_data"
    },
    {
     "data": {
      "application/vnd.jupyter.widget-view+json": {
       "model_id": "6d78f8191ae04e9b91c52f8526bc7170",
       "version_major": 2,
       "version_minor": 0
      },
      "text/plain": [
       "Possible clusters:   0%|          | 0/15 [00:00<?, ?it/s]"
      ]
     },
     "metadata": {},
     "output_type": "display_data"
    },
    {
     "data": {
      "application/vnd.jupyter.widget-view+json": {
       "model_id": "716cf99b4b0540d988036466a619dd9d",
       "version_major": 2,
       "version_minor": 0
      },
      "text/plain": [
       "Possible clusters:   0%|          | 0/6 [00:00<?, ?it/s]"
      ]
     },
     "metadata": {},
     "output_type": "display_data"
    },
    {
     "data": {
      "application/vnd.jupyter.widget-view+json": {
       "model_id": "47459c2093a74587bb22140dd88fa5dc",
       "version_major": 2,
       "version_minor": 0
      },
      "text/plain": [
       "Possible clusters:   0%|          | 0/4029 [00:00<?, ?it/s]"
      ]
     },
     "metadata": {},
     "output_type": "display_data"
    },
    {
     "data": {
      "application/vnd.jupyter.widget-view+json": {
       "model_id": "a8a28fd020384300833e4ba93ef34f54",
       "version_major": 2,
       "version_minor": 0
      },
      "text/plain": [
       "Possible clusters:   0%|          | 0/455 [00:00<?, ?it/s]"
      ]
     },
     "metadata": {},
     "output_type": "display_data"
    },
    {
     "data": {
      "application/vnd.jupyter.widget-view+json": {
       "model_id": "a6715fea8b83417dbe5751a2086aba6b",
       "version_major": 2,
       "version_minor": 0
      },
      "text/plain": [
       "Possible clusters:   0%|          | 0/220 [00:00<?, ?it/s]"
      ]
     },
     "metadata": {},
     "output_type": "display_data"
    },
    {
     "data": {
      "application/vnd.jupyter.widget-view+json": {
       "model_id": "89127019d3f44022a1e4a539af4c4098",
       "version_major": 2,
       "version_minor": 0
      },
      "text/plain": [
       "Possible clusters:   0%|          | 0/28 [00:00<?, ?it/s]"
      ]
     },
     "metadata": {},
     "output_type": "display_data"
    },
    {
     "data": {
      "application/vnd.jupyter.widget-view+json": {
       "model_id": "99bc71e3fd564ff2aceebbe53687700f",
       "version_major": 2,
       "version_minor": 0
      },
      "text/plain": [
       "Possible clusters:   0%|          | 0/15 [00:00<?, ?it/s]"
      ]
     },
     "metadata": {},
     "output_type": "display_data"
    },
    {
     "data": {
      "application/vnd.jupyter.widget-view+json": {
       "model_id": "2342b093f1504024acb1f0599e7c35a4",
       "version_major": 2,
       "version_minor": 0
      },
      "text/plain": [
       "Possible clusters:   0%|          | 0/6 [00:00<?, ?it/s]"
      ]
     },
     "metadata": {},
     "output_type": "display_data"
    },
    {
     "data": {
      "application/vnd.jupyter.widget-view+json": {
       "model_id": "0dcbd50fa4ad4668b817f1675abb5528",
       "version_major": 2,
       "version_minor": 0
      },
      "text/plain": [
       "Possible clusters:   0%|          | 0/7525 [00:00<?, ?it/s]"
      ]
     },
     "metadata": {},
     "output_type": "display_data"
    },
    {
     "data": {
      "application/vnd.jupyter.widget-view+json": {
       "model_id": "26917179058941039200796ee78bfc71",
       "version_major": 2,
       "version_minor": 0
      },
      "text/plain": [
       "Possible clusters:   0%|          | 0/3196 [00:00<?, ?it/s]"
      ]
     },
     "metadata": {},
     "output_type": "display_data"
    },
    {
     "data": {
      "application/vnd.jupyter.widget-view+json": {
       "model_id": "167cad124ad0422b95987d3b1182e5c4",
       "version_major": 2,
       "version_minor": 0
      },
      "text/plain": [
       "Possible clusters:   0%|          | 0/364 [00:00<?, ?it/s]"
      ]
     },
     "metadata": {},
     "output_type": "display_data"
    },
    {
     "data": {
      "application/vnd.jupyter.widget-view+json": {
       "model_id": "c651fdbce6be4616adbe5752892153a5",
       "version_major": 2,
       "version_minor": 0
      },
      "text/plain": [
       "Possible clusters:   0%|          | 0/220 [00:00<?, ?it/s]"
      ]
     },
     "metadata": {},
     "output_type": "display_data"
    },
    {
     "data": {
      "application/vnd.jupyter.widget-view+json": {
       "model_id": "fada16fc1efc44ecba9e43a0603052fa",
       "version_major": 2,
       "version_minor": 0
      },
      "text/plain": [
       "Possible clusters:   0%|          | 0/28 [00:00<?, ?it/s]"
      ]
     },
     "metadata": {},
     "output_type": "display_data"
    },
    {
     "data": {
      "application/vnd.jupyter.widget-view+json": {
       "model_id": "afec48ab29284b31b4bd5d415662dd7b",
       "version_major": 2,
       "version_minor": 0
      },
      "text/plain": [
       "Possible clusters:   0%|          | 0/15 [00:00<?, ?it/s]"
      ]
     },
     "metadata": {},
     "output_type": "display_data"
    },
    {
     "data": {
      "application/vnd.jupyter.widget-view+json": {
       "model_id": "d2540e46f1c2471996cb1b4ac29f27f5",
       "version_major": 2,
       "version_minor": 0
      },
      "text/plain": [
       "Possible clusters:   0%|          | 0/6 [00:00<?, ?it/s]"
      ]
     },
     "metadata": {},
     "output_type": "display_data"
    },
    {
     "data": {
      "application/vnd.jupyter.widget-view+json": {
       "model_id": "23ebb7954d8e4caebc742554a08ad0de",
       "version_major": 2,
       "version_minor": 0
      },
      "text/plain": [
       "Possible clusters:   0%|          | 0/7525 [00:00<?, ?it/s]"
      ]
     },
     "metadata": {},
     "output_type": "display_data"
    },
    {
     "data": {
      "application/vnd.jupyter.widget-view+json": {
       "model_id": "26dbf2dd68fc4948a3b28fb9d7c790d6",
       "version_major": 2,
       "version_minor": 0
      },
      "text/plain": [
       "Possible clusters:   0%|          | 0/3196 [00:00<?, ?it/s]"
      ]
     },
     "metadata": {},
     "output_type": "display_data"
    },
    {
     "data": {
      "application/vnd.jupyter.widget-view+json": {
       "model_id": "c1e608fefafb43ea82d3519e52579739",
       "version_major": 2,
       "version_minor": 0
      },
      "text/plain": [
       "Possible clusters:   0%|          | 0/364 [00:00<?, ?it/s]"
      ]
     },
     "metadata": {},
     "output_type": "display_data"
    },
    {
     "data": {
      "application/vnd.jupyter.widget-view+json": {
       "model_id": "7c18afd55a6c460c9ed969cd6dfdd481",
       "version_major": 2,
       "version_minor": 0
      },
      "text/plain": [
       "Possible clusters:   0%|          | 0/165 [00:00<?, ?it/s]"
      ]
     },
     "metadata": {},
     "output_type": "display_data"
    },
    {
     "data": {
      "application/vnd.jupyter.widget-view+json": {
       "model_id": "5597e60ff7aa4aa5ac8938de95e386c3",
       "version_major": 2,
       "version_minor": 0
      },
      "text/plain": [
       "Possible clusters:   0%|          | 0/21 [00:00<?, ?it/s]"
      ]
     },
     "metadata": {},
     "output_type": "display_data"
    },
    {
     "data": {
      "application/vnd.jupyter.widget-view+json": {
       "model_id": "25c1f05b7f2041b593c56b1139e37a27",
       "version_major": 2,
       "version_minor": 0
      },
      "text/plain": [
       "Possible clusters:   0%|          | 0/10 [00:00<?, ?it/s]"
      ]
     },
     "metadata": {},
     "output_type": "display_data"
    },
    {
     "data": {
      "application/vnd.jupyter.widget-view+json": {
       "model_id": "93165455516042cc9a5d75b5c2f1a341",
       "version_major": 2,
       "version_minor": 0
      },
      "text/plain": [
       "Possible clusters:   0%|          | 0/7525 [00:00<?, ?it/s]"
      ]
     },
     "metadata": {},
     "output_type": "display_data"
    },
    {
     "data": {
      "application/vnd.jupyter.widget-view+json": {
       "model_id": "11440b6f012f4c19ad73d92fb0dd46c0",
       "version_major": 2,
       "version_minor": 0
      },
      "text/plain": [
       "Possible clusters:   0%|          | 0/3196 [00:00<?, ?it/s]"
      ]
     },
     "metadata": {},
     "output_type": "display_data"
    },
    {
     "data": {
      "application/vnd.jupyter.widget-view+json": {
       "model_id": "9d0dc288f6d3446c9b5c5ea52074ef4b",
       "version_major": 2,
       "version_minor": 0
      },
      "text/plain": [
       "Possible clusters:   0%|          | 0/364 [00:00<?, ?it/s]"
      ]
     },
     "metadata": {},
     "output_type": "display_data"
    },
    {
     "data": {
      "application/vnd.jupyter.widget-view+json": {
       "model_id": "e3f38a7921cf4c088b2d11651577a0bb",
       "version_major": 2,
       "version_minor": 0
      },
      "text/plain": [
       "Possible clusters:   0%|          | 0/165 [00:00<?, ?it/s]"
      ]
     },
     "metadata": {},
     "output_type": "display_data"
    },
    {
     "data": {
      "application/vnd.jupyter.widget-view+json": {
       "model_id": "dec34e11f29543dc9c5a09c382e50b5d",
       "version_major": 2,
       "version_minor": 0
      },
      "text/plain": [
       "Possible clusters:   0%|          | 0/21 [00:00<?, ?it/s]"
      ]
     },
     "metadata": {},
     "output_type": "display_data"
    },
    {
     "data": {
      "application/vnd.jupyter.widget-view+json": {
       "model_id": "ab70417213824af0992fde0800453aae",
       "version_major": 2,
       "version_minor": 0
      },
      "text/plain": [
       "Possible clusters:   0%|          | 0/10 [00:00<?, ?it/s]"
      ]
     },
     "metadata": {},
     "output_type": "display_data"
    },
    {
     "data": {
      "application/vnd.jupyter.widget-view+json": {
       "model_id": "d4e858bbc67743c0afa39f6a20377bcc",
       "version_major": 2,
       "version_minor": 0
      },
      "text/plain": [
       "Possible clusters:   0%|          | 0/101556 [00:00<?, ?it/s]"
      ]
     },
     "metadata": {},
     "output_type": "display_data"
    },
    {
     "data": {
      "application/vnd.jupyter.widget-view+json": {
       "model_id": "6a2de781c990434c9a9d30c1a3b3dda1",
       "version_major": 2,
       "version_minor": 0
      },
      "text/plain": [
       "Possible clusters:   0%|          | 0/9086 [00:00<?, ?it/s]"
      ]
     },
     "metadata": {},
     "output_type": "display_data"
    },
    {
     "data": {
      "application/vnd.jupyter.widget-view+json": {
       "model_id": "a2f87f10239c4962a59b7987ed519c23",
       "version_major": 2,
       "version_minor": 0
      },
      "text/plain": [
       "Possible clusters:   0%|          | 0/5016 [00:00<?, ?it/s]"
      ]
     },
     "metadata": {},
     "output_type": "display_data"
    },
    {
     "data": {
      "application/vnd.jupyter.widget-view+json": {
       "model_id": "af82ccbb376d42cd86d85a1e8609b6c7",
       "version_major": 2,
       "version_minor": 0
      },
      "text/plain": [
       "Possible clusters:   0%|          | 0/560 [00:00<?, ?it/s]"
      ]
     },
     "metadata": {},
     "output_type": "display_data"
    },
    {
     "data": {
      "application/vnd.jupyter.widget-view+json": {
       "model_id": "576ad644bda8414e97b5475efcfccaea",
       "version_major": 2,
       "version_minor": 0
      },
      "text/plain": [
       "Possible clusters:   0%|          | 0/286 [00:00<?, ?it/s]"
      ]
     },
     "metadata": {},
     "output_type": "display_data"
    },
    {
     "data": {
      "application/vnd.jupyter.widget-view+json": {
       "model_id": "cfc8630bc5b24eb6a9e3605d5582767b",
       "version_major": 2,
       "version_minor": 0
      },
      "text/plain": [
       "Possible clusters:   0%|          | 0/120 [00:00<?, ?it/s]"
      ]
     },
     "metadata": {},
     "output_type": "display_data"
    },
    {
     "data": {
      "application/vnd.jupyter.widget-view+json": {
       "model_id": "a5dde5ca51ea46afa8b6f8d8c9c393d9",
       "version_major": 2,
       "version_minor": 0
      },
      "text/plain": [
       "Possible clusters:   0%|          | 0/21 [00:00<?, ?it/s]"
      ]
     },
     "metadata": {},
     "output_type": "display_data"
    },
    {
     "data": {
      "application/vnd.jupyter.widget-view+json": {
       "model_id": "33dd8ca75f014615a4459778be40ff66",
       "version_major": 2,
       "version_minor": 0
      },
      "text/plain": [
       "Possible clusters:   0%|          | 0/10 [00:00<?, ?it/s]"
      ]
     },
     "metadata": {},
     "output_type": "display_data"
    },
    {
     "data": {
      "application/vnd.jupyter.widget-view+json": {
       "model_id": "3292215fbd3044cc90b3b8528d1aade3",
       "version_major": 2,
       "version_minor": 0
      },
      "text/plain": [
       "Possible clusters:   0%|          | 0/3196 [00:00<?, ?it/s]"
      ]
     },
     "metadata": {},
     "output_type": "display_data"
    },
    {
     "data": {
      "application/vnd.jupyter.widget-view+json": {
       "model_id": "10700b44b9354bd5a991debcd78716e6",
       "version_major": 2,
       "version_minor": 0
      },
      "text/plain": [
       "Possible clusters:   0%|          | 0/364 [00:00<?, ?it/s]"
      ]
     },
     "metadata": {},
     "output_type": "display_data"
    },
    {
     "data": {
      "application/vnd.jupyter.widget-view+json": {
       "model_id": "09af0d0be578411aa0f974137ff49844",
       "version_major": 2,
       "version_minor": 0
      },
      "text/plain": [
       "Possible clusters:   0%|          | 0/165 [00:00<?, ?it/s]"
      ]
     },
     "metadata": {},
     "output_type": "display_data"
    },
    {
     "data": {
      "application/vnd.jupyter.widget-view+json": {
       "model_id": "6887b57408ad4c0f948dcda2e4aa9525",
       "version_major": 2,
       "version_minor": 0
      },
      "text/plain": [
       "Possible clusters:   0%|          | 0/21 [00:00<?, ?it/s]"
      ]
     },
     "metadata": {},
     "output_type": "display_data"
    },
    {
     "data": {
      "application/vnd.jupyter.widget-view+json": {
       "model_id": "3b4a73e5a5fc46c19016987fe62b5eb5",
       "version_major": 2,
       "version_minor": 0
      },
      "text/plain": [
       "Possible clusters:   0%|          | 0/10 [00:00<?, ?it/s]"
      ]
     },
     "metadata": {},
     "output_type": "display_data"
    },
    {
     "data": {
      "application/vnd.jupyter.widget-view+json": {
       "model_id": "8d7e051ce70e4c3fa1149a1c9ed70cb4",
       "version_major": 2,
       "version_minor": 0
      },
      "text/plain": [
       "Possible clusters:   0%|          | 0/12926 [00:00<?, ?it/s]"
      ]
     },
     "metadata": {},
     "output_type": "display_data"
    },
    {
     "data": {
      "application/vnd.jupyter.widget-view+json": {
       "model_id": "b452008386234d1d8f656ef6ef777d55",
       "version_major": 2,
       "version_minor": 0
      },
      "text/plain": [
       "Possible clusters:   0%|          | 0/6175 [00:00<?, ?it/s]"
      ]
     },
     "metadata": {},
     "output_type": "display_data"
    },
    {
     "data": {
      "application/vnd.jupyter.widget-view+json": {
       "model_id": "a396394e072348789a9b69ff34e41886",
       "version_major": 2,
       "version_minor": 0
      },
      "text/plain": [
       "Possible clusters:   0%|          | 0/2500 [00:00<?, ?it/s]"
      ]
     },
     "metadata": {},
     "output_type": "display_data"
    },
    {
     "data": {
      "application/vnd.jupyter.widget-view+json": {
       "model_id": "a8f78f3131104c30b699b66875713c09",
       "version_major": 2,
       "version_minor": 0
      },
      "text/plain": [
       "Possible clusters:   0%|          | 0/286 [00:00<?, ?it/s]"
      ]
     },
     "metadata": {},
     "output_type": "display_data"
    },
    {
     "data": {
      "application/vnd.jupyter.widget-view+json": {
       "model_id": "d33897894df543d9923a9e1c47cce8c5",
       "version_major": 2,
       "version_minor": 0
      },
      "text/plain": [
       "Possible clusters:   0%|          | 0/120 [00:00<?, ?it/s]"
      ]
     },
     "metadata": {},
     "output_type": "display_data"
    },
    {
     "data": {
      "application/vnd.jupyter.widget-view+json": {
       "model_id": "b9cc7cb6704d48c9bb4ce636d90c9ba1",
       "version_major": 2,
       "version_minor": 0
      },
      "text/plain": [
       "Possible clusters:   0%|          | 0/15 [00:00<?, ?it/s]"
      ]
     },
     "metadata": {},
     "output_type": "display_data"
    },
    {
     "data": {
      "application/vnd.jupyter.widget-view+json": {
       "model_id": "44877129b8964dedb372213492a9122c",
       "version_major": 2,
       "version_minor": 0
      },
      "text/plain": [
       "Possible clusters:   0%|          | 0/6 [00:00<?, ?it/s]"
      ]
     },
     "metadata": {},
     "output_type": "display_data"
    },
    {
     "data": {
      "application/vnd.jupyter.widget-view+json": {
       "model_id": "cd7ce630aef846afabc7a577e5a595b5",
       "version_major": 2,
       "version_minor": 0
      },
      "text/plain": [
       "Possible clusters:   0%|          | 0/9086 [00:00<?, ?it/s]"
      ]
     },
     "metadata": {},
     "output_type": "display_data"
    },
    {
     "data": {
      "application/vnd.jupyter.widget-view+json": {
       "model_id": "c32736f1c9e04f2a87f256fa38bc237a",
       "version_major": 2,
       "version_minor": 0
      },
      "text/plain": [
       "Possible clusters:   0%|          | 0/6175 [00:00<?, ?it/s]"
      ]
     },
     "metadata": {},
     "output_type": "display_data"
    },
    {
     "data": {
      "application/vnd.jupyter.widget-view+json": {
       "model_id": "b9330226211c4cd39912316b97ef796e",
       "version_major": 2,
       "version_minor": 0
      },
      "text/plain": [
       "Possible clusters:   0%|          | 0/2500 [00:00<?, ?it/s]"
      ]
     },
     "metadata": {},
     "output_type": "display_data"
    },
    {
     "data": {
      "application/vnd.jupyter.widget-view+json": {
       "model_id": "fb0aaefd9ea94b7f93085b29e43ed893",
       "version_major": 2,
       "version_minor": 0
      },
      "text/plain": [
       "Possible clusters:   0%|          | 0/455 [00:00<?, ?it/s]"
      ]
     },
     "metadata": {},
     "output_type": "display_data"
    },
    {
     "data": {
      "application/vnd.jupyter.widget-view+json": {
       "model_id": "6c87126e0a3f49f7b6d75ca8a2c0be04",
       "version_major": 2,
       "version_minor": 0
      },
      "text/plain": [
       "Possible clusters:   0%|          | 0/220 [00:00<?, ?it/s]"
      ]
     },
     "metadata": {},
     "output_type": "display_data"
    },
    {
     "data": {
      "application/vnd.jupyter.widget-view+json": {
       "model_id": "ad20908348bd431184337ae94c288193",
       "version_major": 2,
       "version_minor": 0
      },
      "text/plain": [
       "Possible clusters:   0%|          | 0/28 [00:00<?, ?it/s]"
      ]
     },
     "metadata": {},
     "output_type": "display_data"
    },
    {
     "data": {
      "application/vnd.jupyter.widget-view+json": {
       "model_id": "ba43013c2fc24aef993c220aae88c983",
       "version_major": 2,
       "version_minor": 0
      },
      "text/plain": [
       "Possible clusters:   0%|          | 0/15 [00:00<?, ?it/s]"
      ]
     },
     "metadata": {},
     "output_type": "display_data"
    },
    {
     "data": {
      "application/vnd.jupyter.widget-view+json": {
       "model_id": "6bc34969ae9640fa9396b1a1a7afcb63",
       "version_major": 2,
       "version_minor": 0
      },
      "text/plain": [
       "Possible clusters:   0%|          | 0/6 [00:00<?, ?it/s]"
      ]
     },
     "metadata": {},
     "output_type": "display_data"
    },
    {
     "data": {
      "application/vnd.jupyter.widget-view+json": {
       "model_id": "ec847529d64b46d0bbeb39b1da373ce7",
       "version_major": 2,
       "version_minor": 0
      },
      "text/plain": [
       "Possible clusters:   0%|          | 0/5016 [00:00<?, ?it/s]"
      ]
     },
     "metadata": {},
     "output_type": "display_data"
    },
    {
     "data": {
      "application/vnd.jupyter.widget-view+json": {
       "model_id": "a1e98c947ceb4c7f94d44c4ea52dce22",
       "version_major": 2,
       "version_minor": 0
      },
      "text/plain": [
       "Possible clusters:   0%|          | 0/560 [00:00<?, ?it/s]"
      ]
     },
     "metadata": {},
     "output_type": "display_data"
    },
    {
     "data": {
      "application/vnd.jupyter.widget-view+json": {
       "model_id": "f7515ea6ac124c2bb934db6bfa6632cc",
       "version_major": 2,
       "version_minor": 0
      },
      "text/plain": [
       "Possible clusters:   0%|          | 0/286 [00:00<?, ?it/s]"
      ]
     },
     "metadata": {},
     "output_type": "display_data"
    },
    {
     "data": {
      "application/vnd.jupyter.widget-view+json": {
       "model_id": "13ac6e3bd12b4081be7c9691396ac714",
       "version_major": 2,
       "version_minor": 0
      },
      "text/plain": [
       "Possible clusters:   0%|          | 0/120 [00:00<?, ?it/s]"
      ]
     },
     "metadata": {},
     "output_type": "display_data"
    },
    {
     "data": {
      "application/vnd.jupyter.widget-view+json": {
       "model_id": "d9b6aa8d12c54210952d7ad8711bcf2f",
       "version_major": 2,
       "version_minor": 0
      },
      "text/plain": [
       "Possible clusters:   0%|          | 0/15 [00:00<?, ?it/s]"
      ]
     },
     "metadata": {},
     "output_type": "display_data"
    },
    {
     "data": {
      "application/vnd.jupyter.widget-view+json": {
       "model_id": "6832665067b14ad2b0efbfe91a414fd8",
       "version_major": 2,
       "version_minor": 0
      },
      "text/plain": [
       "Possible clusters:   0%|          | 0/6 [00:00<?, ?it/s]"
      ]
     },
     "metadata": {},
     "output_type": "display_data"
    },
    {
     "data": {
      "application/vnd.jupyter.widget-view+json": {
       "model_id": "aa8fb50205354f3685dac265d12f6042",
       "version_major": 2,
       "version_minor": 0
      },
      "text/plain": [
       "Possible clusters:   0%|          | 0/10879 [00:00<?, ?it/s]"
      ]
     },
     "metadata": {},
     "output_type": "display_data"
    },
    {
     "data": {
      "application/vnd.jupyter.widget-view+json": {
       "model_id": "9fe40b44c40a40baa0d0b2a6e3ea7809",
       "version_major": 2,
       "version_minor": 0
      },
      "text/plain": [
       "Possible clusters:   0%|          | 0/5016 [00:00<?, ?it/s]"
      ]
     },
     "metadata": {},
     "output_type": "display_data"
    },
    {
     "data": {
      "application/vnd.jupyter.widget-view+json": {
       "model_id": "540534c5d5924a2b921ff2205107343a",
       "version_major": 2,
       "version_minor": 0
      },
      "text/plain": [
       "Possible clusters:   0%|          | 0/560 [00:00<?, ?it/s]"
      ]
     },
     "metadata": {},
     "output_type": "display_data"
    },
    {
     "data": {
      "application/vnd.jupyter.widget-view+json": {
       "model_id": "4bec6e34bcaa4b68af52089f55d3dc2d",
       "version_major": 2,
       "version_minor": 0
      },
      "text/plain": [
       "Possible clusters:   0%|          | 0/286 [00:00<?, ?it/s]"
      ]
     },
     "metadata": {},
     "output_type": "display_data"
    },
    {
     "data": {
      "application/vnd.jupyter.widget-view+json": {
       "model_id": "0693f3f3892646cfa5082ceaa28e5cca",
       "version_major": 2,
       "version_minor": 0
      },
      "text/plain": [
       "Possible clusters:   0%|          | 0/120 [00:00<?, ?it/s]"
      ]
     },
     "metadata": {},
     "output_type": "display_data"
    },
    {
     "data": {
      "application/vnd.jupyter.widget-view+json": {
       "model_id": "3b23adb5db454247a93667c0acadb279",
       "version_major": 2,
       "version_minor": 0
      },
      "text/plain": [
       "Possible clusters:   0%|          | 0/15 [00:00<?, ?it/s]"
      ]
     },
     "metadata": {},
     "output_type": "display_data"
    },
    {
     "data": {
      "application/vnd.jupyter.widget-view+json": {
       "model_id": "a8168504a389414a83a67ce3914a30c7",
       "version_major": 2,
       "version_minor": 0
      },
      "text/plain": [
       "Possible clusters:   0%|          | 0/6 [00:00<?, ?it/s]"
      ]
     },
     "metadata": {},
     "output_type": "display_data"
    },
    {
     "data": {
      "application/vnd.jupyter.widget-view+json": {
       "model_id": "baa01f0b8f5b4eec8ed5f7e83c572ddb",
       "version_major": 2,
       "version_minor": 0
      },
      "text/plain": [
       "Possible clusters:   0%|          | 0/7525 [00:00<?, ?it/s]"
      ]
     },
     "metadata": {},
     "output_type": "display_data"
    },
    {
     "data": {
      "application/vnd.jupyter.widget-view+json": {
       "model_id": "1aa44b065ed14d3d97a585d32fff5f47",
       "version_major": 2,
       "version_minor": 0
      },
      "text/plain": [
       "Possible clusters:   0%|          | 0/3196 [00:00<?, ?it/s]"
      ]
     },
     "metadata": {},
     "output_type": "display_data"
    },
    {
     "data": {
      "application/vnd.jupyter.widget-view+json": {
       "model_id": "08b11a33c5164664947bdcedca0044b4",
       "version_major": 2,
       "version_minor": 0
      },
      "text/plain": [
       "Possible clusters:   0%|          | 0/364 [00:00<?, ?it/s]"
      ]
     },
     "metadata": {},
     "output_type": "display_data"
    },
    {
     "data": {
      "application/vnd.jupyter.widget-view+json": {
       "model_id": "ad73cdc469a5473e8eac2d42e17cd2a8",
       "version_major": 2,
       "version_minor": 0
      },
      "text/plain": [
       "Possible clusters:   0%|          | 0/165 [00:00<?, ?it/s]"
      ]
     },
     "metadata": {},
     "output_type": "display_data"
    },
    {
     "data": {
      "application/vnd.jupyter.widget-view+json": {
       "model_id": "3fb3c9e9d46d4652bd76f8f8f5120cc4",
       "version_major": 2,
       "version_minor": 0
      },
      "text/plain": [
       "Possible clusters:   0%|          | 0/21 [00:00<?, ?it/s]"
      ]
     },
     "metadata": {},
     "output_type": "display_data"
    },
    {
     "data": {
      "application/vnd.jupyter.widget-view+json": {
       "model_id": "253df00988cb42199e7d2cdff84dc7fc",
       "version_major": 2,
       "version_minor": 0
      },
      "text/plain": [
       "Possible clusters:   0%|          | 0/10 [00:00<?, ?it/s]"
      ]
     },
     "metadata": {},
     "output_type": "display_data"
    },
    {
     "data": {
      "application/vnd.jupyter.widget-view+json": {
       "model_id": "dad09f647c044114ba9a3d1fabbf7fa0",
       "version_major": 2,
       "version_minor": 0
      },
      "text/plain": [
       "Possible clusters:   0%|          | 0/4029 [00:00<?, ?it/s]"
      ]
     },
     "metadata": {},
     "output_type": "display_data"
    },
    {
     "data": {
      "application/vnd.jupyter.widget-view+json": {
       "model_id": "749835686f7841f1a7b40e05204b2d92",
       "version_major": 2,
       "version_minor": 0
      },
      "text/plain": [
       "Possible clusters:   0%|          | 0/455 [00:00<?, ?it/s]"
      ]
     },
     "metadata": {},
     "output_type": "display_data"
    },
    {
     "data": {
      "application/vnd.jupyter.widget-view+json": {
       "model_id": "8d4ffe2b29ad432d92c94814893f8dd7",
       "version_major": 2,
       "version_minor": 0
      },
      "text/plain": [
       "Possible clusters:   0%|          | 0/220 [00:00<?, ?it/s]"
      ]
     },
     "metadata": {},
     "output_type": "display_data"
    },
    {
     "data": {
      "application/vnd.jupyter.widget-view+json": {
       "model_id": "10d96cfc69654c879219abdd48ddacb1",
       "version_major": 2,
       "version_minor": 0
      },
      "text/plain": [
       "Possible clusters:   0%|          | 0/28 [00:00<?, ?it/s]"
      ]
     },
     "metadata": {},
     "output_type": "display_data"
    },
    {
     "data": {
      "application/vnd.jupyter.widget-view+json": {
       "model_id": "0f1b7857eb3845dd99da64af9259977f",
       "version_major": 2,
       "version_minor": 0
      },
      "text/plain": [
       "Possible clusters:   0%|          | 0/15 [00:00<?, ?it/s]"
      ]
     },
     "metadata": {},
     "output_type": "display_data"
    },
    {
     "data": {
      "application/vnd.jupyter.widget-view+json": {
       "model_id": "01eaa5ce47dc448ab7ca3f7d3d642faa",
       "version_major": 2,
       "version_minor": 0
      },
      "text/plain": [
       "Possible clusters:   0%|          | 0/6 [00:00<?, ?it/s]"
      ]
     },
     "metadata": {},
     "output_type": "display_data"
    },
    {
     "data": {
      "application/vnd.jupyter.widget-view+json": {
       "model_id": "fe9d6dfba38848f687523dc19692b020",
       "version_major": 2,
       "version_minor": 0
      },
      "text/plain": [
       "Possible clusters:   0%|          | 0/6175 [00:00<?, ?it/s]"
      ]
     },
     "metadata": {},
     "output_type": "display_data"
    },
    {
     "data": {
      "application/vnd.jupyter.widget-view+json": {
       "model_id": "47e93db30d094d0f9b24ca16bb07c0d2",
       "version_major": 2,
       "version_minor": 0
      },
      "text/plain": [
       "Possible clusters:   0%|          | 0/2500 [00:00<?, ?it/s]"
      ]
     },
     "metadata": {},
     "output_type": "display_data"
    },
    {
     "data": {
      "application/vnd.jupyter.widget-view+json": {
       "model_id": "9d7bed83001146d5a32e2c6509c20d56",
       "version_major": 2,
       "version_minor": 0
      },
      "text/plain": [
       "Possible clusters:   0%|          | 0/286 [00:00<?, ?it/s]"
      ]
     },
     "metadata": {},
     "output_type": "display_data"
    },
    {
     "data": {
      "application/vnd.jupyter.widget-view+json": {
       "model_id": "738711e91d95455f851b9aa4392c0ae4",
       "version_major": 2,
       "version_minor": 0
      },
      "text/plain": [
       "Possible clusters:   0%|          | 0/120 [00:00<?, ?it/s]"
      ]
     },
     "metadata": {},
     "output_type": "display_data"
    },
    {
     "data": {
      "application/vnd.jupyter.widget-view+json": {
       "model_id": "e4d241657f9948d9b6e2f73c702e0a5f",
       "version_major": 2,
       "version_minor": 0
      },
      "text/plain": [
       "Possible clusters:   0%|          | 0/15 [00:00<?, ?it/s]"
      ]
     },
     "metadata": {},
     "output_type": "display_data"
    },
    {
     "data": {
      "application/vnd.jupyter.widget-view+json": {
       "model_id": "e57b58d579314ab7a1fde5e01e033459",
       "version_major": 2,
       "version_minor": 0
      },
      "text/plain": [
       "Possible clusters:   0%|          | 0/6 [00:00<?, ?it/s]"
      ]
     },
     "metadata": {},
     "output_type": "display_data"
    },
    {
     "data": {
      "application/vnd.jupyter.widget-view+json": {
       "model_id": "bbb19c51e3644f83b9f05429e5f225f6",
       "version_major": 2,
       "version_minor": 0
      },
      "text/plain": [
       "Possible clusters:   0%|          | 0/6175 [00:00<?, ?it/s]"
      ]
     },
     "metadata": {},
     "output_type": "display_data"
    },
    {
     "data": {
      "application/vnd.jupyter.widget-view+json": {
       "model_id": "a328e0c5398e47bb80ff19d9edd0372b",
       "version_major": 2,
       "version_minor": 0
      },
      "text/plain": [
       "Possible clusters:   0%|          | 0/2500 [00:00<?, ?it/s]"
      ]
     },
     "metadata": {},
     "output_type": "display_data"
    },
    {
     "data": {
      "application/vnd.jupyter.widget-view+json": {
       "model_id": "a9429757798e47fba63d73b2c0c2732b",
       "version_major": 2,
       "version_minor": 0
      },
      "text/plain": [
       "Possible clusters:   0%|          | 0/286 [00:00<?, ?it/s]"
      ]
     },
     "metadata": {},
     "output_type": "display_data"
    },
    {
     "data": {
      "application/vnd.jupyter.widget-view+json": {
       "model_id": "3120dd4997d242d59d2c80158c7ada82",
       "version_major": 2,
       "version_minor": 0
      },
      "text/plain": [
       "Possible clusters:   0%|          | 0/120 [00:00<?, ?it/s]"
      ]
     },
     "metadata": {},
     "output_type": "display_data"
    },
    {
     "data": {
      "application/vnd.jupyter.widget-view+json": {
       "model_id": "880ddf9f8bee4bfbbf29cde13cb3c1a9",
       "version_major": 2,
       "version_minor": 0
      },
      "text/plain": [
       "Possible clusters:   0%|          | 0/15 [00:00<?, ?it/s]"
      ]
     },
     "metadata": {},
     "output_type": "display_data"
    },
    {
     "data": {
      "application/vnd.jupyter.widget-view+json": {
       "model_id": "02b122e940ab45e799f88bce5de3e835",
       "version_major": 2,
       "version_minor": 0
      },
      "text/plain": [
       "Possible clusters:   0%|          | 0/6 [00:00<?, ?it/s]"
      ]
     },
     "metadata": {},
     "output_type": "display_data"
    },
    {
     "data": {
      "application/vnd.jupyter.widget-view+json": {
       "model_id": "2ae3d6bf5a7d430ab74432b214ca0982",
       "version_major": 2,
       "version_minor": 0
      },
      "text/plain": [
       "Possible clusters:   0%|          | 0/68380 [00:00<?, ?it/s]"
      ]
     },
     "metadata": {},
     "output_type": "display_data"
    },
    {
     "data": {
      "application/vnd.jupyter.widget-view+json": {
       "model_id": "448879007cbb46c7b26d8af7588f5232",
       "version_major": 2,
       "version_minor": 0
      },
      "text/plain": [
       "Possible clusters:   0%|          | 0/6175 [00:00<?, ?it/s]"
      ]
     },
     "metadata": {},
     "output_type": "display_data"
    },
    {
     "data": {
      "application/vnd.jupyter.widget-view+json": {
       "model_id": "c2538eddf4e341098d5e6c94e0cef6ba",
       "version_major": 2,
       "version_minor": 0
      },
      "text/plain": [
       "Possible clusters:   0%|          | 0/2500 [00:00<?, ?it/s]"
      ]
     },
     "metadata": {},
     "output_type": "display_data"
    },
    {
     "data": {
      "application/vnd.jupyter.widget-view+json": {
       "model_id": "279b127931f348e9b49e98b8f96d8647",
       "version_major": 2,
       "version_minor": 0
      },
      "text/plain": [
       "Possible clusters:   0%|          | 0/286 [00:00<?, ?it/s]"
      ]
     },
     "metadata": {},
     "output_type": "display_data"
    },
    {
     "data": {
      "application/vnd.jupyter.widget-view+json": {
       "model_id": "8cb294622c304c599be227082a6757bb",
       "version_major": 2,
       "version_minor": 0
      },
      "text/plain": [
       "Possible clusters:   0%|          | 0/120 [00:00<?, ?it/s]"
      ]
     },
     "metadata": {},
     "output_type": "display_data"
    },
    {
     "data": {
      "application/vnd.jupyter.widget-view+json": {
       "model_id": "0f2601d8d6234f0381c74fdce6215f8e",
       "version_major": 2,
       "version_minor": 0
      },
      "text/plain": [
       "Possible clusters:   0%|          | 0/15 [00:00<?, ?it/s]"
      ]
     },
     "metadata": {},
     "output_type": "display_data"
    },
    {
     "data": {
      "application/vnd.jupyter.widget-view+json": {
       "model_id": "4f181034c9a948a6bebd571a972873ae",
       "version_major": 2,
       "version_minor": 0
      },
      "text/plain": [
       "Possible clusters:   0%|          | 0/6 [00:00<?, ?it/s]"
      ]
     },
     "metadata": {},
     "output_type": "display_data"
    },
    {
     "data": {
      "application/vnd.jupyter.widget-view+json": {
       "model_id": "aa5ff2ab266d414098147ec3987f5f24",
       "version_major": 2,
       "version_minor": 0
      },
      "text/plain": [
       "Possible clusters:   0%|          | 0/7525 [00:00<?, ?it/s]"
      ]
     },
     "metadata": {},
     "output_type": "display_data"
    },
    {
     "data": {
      "application/vnd.jupyter.widget-view+json": {
       "model_id": "8aefdcefe64a4cb6afdabf7dff125755",
       "version_major": 2,
       "version_minor": 0
      },
      "text/plain": [
       "Possible clusters:   0%|          | 0/3196 [00:00<?, ?it/s]"
      ]
     },
     "metadata": {},
     "output_type": "display_data"
    },
    {
     "data": {
      "application/vnd.jupyter.widget-view+json": {
       "model_id": "cc5b6400c9be48798d2e7b06d782f056",
       "version_major": 2,
       "version_minor": 0
      },
      "text/plain": [
       "Possible clusters:   0%|          | 0/364 [00:00<?, ?it/s]"
      ]
     },
     "metadata": {},
     "output_type": "display_data"
    },
    {
     "data": {
      "application/vnd.jupyter.widget-view+json": {
       "model_id": "623beb4928594ba19f8bd4942a59db57",
       "version_major": 2,
       "version_minor": 0
      },
      "text/plain": [
       "Possible clusters:   0%|          | 0/165 [00:00<?, ?it/s]"
      ]
     },
     "metadata": {},
     "output_type": "display_data"
    },
    {
     "data": {
      "application/vnd.jupyter.widget-view+json": {
       "model_id": "7ca768301b7a45b79251dd2363867abd",
       "version_major": 2,
       "version_minor": 0
      },
      "text/plain": [
       "Possible clusters:   0%|          | 0/21 [00:00<?, ?it/s]"
      ]
     },
     "metadata": {},
     "output_type": "display_data"
    },
    {
     "data": {
      "application/vnd.jupyter.widget-view+json": {
       "model_id": "02cc44b398014e028515384354607df5",
       "version_major": 2,
       "version_minor": 0
      },
      "text/plain": [
       "Possible clusters:   0%|          | 0/10 [00:00<?, ?it/s]"
      ]
     },
     "metadata": {},
     "output_type": "display_data"
    },
    {
     "data": {
      "application/vnd.jupyter.widget-view+json": {
       "model_id": "d79b191bf8894d388018dcaf62d66e29",
       "version_major": 2,
       "version_minor": 0
      },
      "text/plain": [
       "Possible clusters:   0%|          | 0/10879 [00:00<?, ?it/s]"
      ]
     },
     "metadata": {},
     "output_type": "display_data"
    },
    {
     "data": {
      "application/vnd.jupyter.widget-view+json": {
       "model_id": "340ee6cf87444af58a336a6fc1819abe",
       "version_major": 2,
       "version_minor": 0
      },
      "text/plain": [
       "Possible clusters:   0%|          | 0/5016 [00:00<?, ?it/s]"
      ]
     },
     "metadata": {},
     "output_type": "display_data"
    },
    {
     "data": {
      "application/vnd.jupyter.widget-view+json": {
       "model_id": "e0cde4df260946a68a02f5716d111f7d",
       "version_major": 2,
       "version_minor": 0
      },
      "text/plain": [
       "Possible clusters:   0%|          | 0/560 [00:00<?, ?it/s]"
      ]
     },
     "metadata": {},
     "output_type": "display_data"
    },
    {
     "data": {
      "application/vnd.jupyter.widget-view+json": {
       "model_id": "c2a08378e7454cfb8caf92d7f69cb900",
       "version_major": 2,
       "version_minor": 0
      },
      "text/plain": [
       "Possible clusters:   0%|          | 0/286 [00:00<?, ?it/s]"
      ]
     },
     "metadata": {},
     "output_type": "display_data"
    },
    {
     "data": {
      "application/vnd.jupyter.widget-view+json": {
       "model_id": "1f00f883e4dc4b8eb1884448d8b46e42",
       "version_major": 2,
       "version_minor": 0
      },
      "text/plain": [
       "Possible clusters:   0%|          | 0/165 [00:00<?, ?it/s]"
      ]
     },
     "metadata": {},
     "output_type": "display_data"
    },
    {
     "data": {
      "application/vnd.jupyter.widget-view+json": {
       "model_id": "3bc67e49b1984ba79b9b4600a61db169",
       "version_major": 2,
       "version_minor": 0
      },
      "text/plain": [
       "Possible clusters:   0%|          | 0/21 [00:00<?, ?it/s]"
      ]
     },
     "metadata": {},
     "output_type": "display_data"
    },
    {
     "data": {
      "application/vnd.jupyter.widget-view+json": {
       "model_id": "d856facdc8b94af5b705cfae0880711e",
       "version_major": 2,
       "version_minor": 0
      },
      "text/plain": [
       "Possible clusters:   0%|          | 0/10 [00:00<?, ?it/s]"
      ]
     },
     "metadata": {},
     "output_type": "display_data"
    },
    {
     "data": {
      "application/vnd.jupyter.widget-view+json": {
       "model_id": "9483f7085354410385b4275343bc6ce2",
       "version_major": 2,
       "version_minor": 0
      },
      "text/plain": [
       "Possible clusters:   0%|          | 0/7525 [00:00<?, ?it/s]"
      ]
     },
     "metadata": {},
     "output_type": "display_data"
    },
    {
     "data": {
      "application/vnd.jupyter.widget-view+json": {
       "model_id": "9f75fc5b2f324893af69846a89e2f293",
       "version_major": 2,
       "version_minor": 0
      },
      "text/plain": [
       "Possible clusters:   0%|          | 0/3196 [00:00<?, ?it/s]"
      ]
     },
     "metadata": {},
     "output_type": "display_data"
    },
    {
     "data": {
      "application/vnd.jupyter.widget-view+json": {
       "model_id": "58be63f8f13242909417663d910dea61",
       "version_major": 2,
       "version_minor": 0
      },
      "text/plain": [
       "Possible clusters:   0%|          | 0/364 [00:00<?, ?it/s]"
      ]
     },
     "metadata": {},
     "output_type": "display_data"
    },
    {
     "data": {
      "application/vnd.jupyter.widget-view+json": {
       "model_id": "3e84bb7499784b73b2254e2098d526af",
       "version_major": 2,
       "version_minor": 0
      },
      "text/plain": [
       "Possible clusters:   0%|          | 0/165 [00:00<?, ?it/s]"
      ]
     },
     "metadata": {},
     "output_type": "display_data"
    },
    {
     "data": {
      "application/vnd.jupyter.widget-view+json": {
       "model_id": "d535d1069b4a4b818694f4ed750910f2",
       "version_major": 2,
       "version_minor": 0
      },
      "text/plain": [
       "Possible clusters:   0%|          | 0/21 [00:00<?, ?it/s]"
      ]
     },
     "metadata": {},
     "output_type": "display_data"
    },
    {
     "data": {
      "application/vnd.jupyter.widget-view+json": {
       "model_id": "38270aeff7a44e589893f01502bc6e42",
       "version_major": 2,
       "version_minor": 0
      },
      "text/plain": [
       "Possible clusters:   0%|          | 0/10 [00:00<?, ?it/s]"
      ]
     },
     "metadata": {},
     "output_type": "display_data"
    },
    {
     "data": {
      "application/vnd.jupyter.widget-view+json": {
       "model_id": "d0f203dc71b0494fa0ed66e7f8e1c89e",
       "version_major": 2,
       "version_minor": 0
      },
      "text/plain": [
       "Possible clusters:   0%|          | 0/5016 [00:00<?, ?it/s]"
      ]
     },
     "metadata": {},
     "output_type": "display_data"
    },
    {
     "data": {
      "application/vnd.jupyter.widget-view+json": {
       "model_id": "ccb0a557ba674ec1a6401d5a9f585f06",
       "version_major": 2,
       "version_minor": 0
      },
      "text/plain": [
       "Possible clusters:   0%|          | 0/560 [00:00<?, ?it/s]"
      ]
     },
     "metadata": {},
     "output_type": "display_data"
    },
    {
     "data": {
      "application/vnd.jupyter.widget-view+json": {
       "model_id": "5e0bbde1faad45119117c90ab0288dd0",
       "version_major": 2,
       "version_minor": 0
      },
      "text/plain": [
       "Possible clusters:   0%|          | 0/286 [00:00<?, ?it/s]"
      ]
     },
     "metadata": {},
     "output_type": "display_data"
    },
    {
     "data": {
      "application/vnd.jupyter.widget-view+json": {
       "model_id": "1f7e50cb19ca482c96093658abf11c6e",
       "version_major": 2,
       "version_minor": 0
      },
      "text/plain": [
       "Possible clusters:   0%|          | 0/120 [00:00<?, ?it/s]"
      ]
     },
     "metadata": {},
     "output_type": "display_data"
    },
    {
     "data": {
      "application/vnd.jupyter.widget-view+json": {
       "model_id": "39adac93f8e54231b9fc79479d5bb7d8",
       "version_major": 2,
       "version_minor": 0
      },
      "text/plain": [
       "Possible clusters:   0%|          | 0/15 [00:00<?, ?it/s]"
      ]
     },
     "metadata": {},
     "output_type": "display_data"
    },
    {
     "data": {
      "application/vnd.jupyter.widget-view+json": {
       "model_id": "cc7d942ba14d417c84fce03642f62c26",
       "version_major": 2,
       "version_minor": 0
      },
      "text/plain": [
       "Possible clusters:   0%|          | 0/6 [00:00<?, ?it/s]"
      ]
     },
     "metadata": {},
     "output_type": "display_data"
    },
    {
     "data": {
      "application/vnd.jupyter.widget-view+json": {
       "model_id": "11df899028ed4b24ad93447de99a3618",
       "version_major": 2,
       "version_minor": 0
      },
      "text/plain": [
       "Possible clusters:   0%|          | 0/6175 [00:00<?, ?it/s]"
      ]
     },
     "metadata": {},
     "output_type": "display_data"
    },
    {
     "data": {
      "application/vnd.jupyter.widget-view+json": {
       "model_id": "9d1dfd6e17fe4b96aa409dc7574d1919",
       "version_major": 2,
       "version_minor": 0
      },
      "text/plain": [
       "Possible clusters:   0%|          | 0/2500 [00:00<?, ?it/s]"
      ]
     },
     "metadata": {},
     "output_type": "display_data"
    },
    {
     "data": {
      "application/vnd.jupyter.widget-view+json": {
       "model_id": "382d3ea3c8b0426f8badd530e1d93205",
       "version_major": 2,
       "version_minor": 0
      },
      "text/plain": [
       "Possible clusters:   0%|          | 0/286 [00:00<?, ?it/s]"
      ]
     },
     "metadata": {},
     "output_type": "display_data"
    },
    {
     "data": {
      "application/vnd.jupyter.widget-view+json": {
       "model_id": "3640ac46910547849cf23189dac23e5d",
       "version_major": 2,
       "version_minor": 0
      },
      "text/plain": [
       "Possible clusters:   0%|          | 0/120 [00:00<?, ?it/s]"
      ]
     },
     "metadata": {},
     "output_type": "display_data"
    },
    {
     "data": {
      "application/vnd.jupyter.widget-view+json": {
       "model_id": "0b9dfcd47aaf44d0a1284cca0f4ca1fe",
       "version_major": 2,
       "version_minor": 0
      },
      "text/plain": [
       "Possible clusters:   0%|          | 0/15 [00:00<?, ?it/s]"
      ]
     },
     "metadata": {},
     "output_type": "display_data"
    },
    {
     "data": {
      "application/vnd.jupyter.widget-view+json": {
       "model_id": "da723e404d7e4db59d0fb882f77db64f",
       "version_major": 2,
       "version_minor": 0
      },
      "text/plain": [
       "Possible clusters:   0%|          | 0/6 [00:00<?, ?it/s]"
      ]
     },
     "metadata": {},
     "output_type": "display_data"
    },
    {
     "data": {
      "application/vnd.jupyter.widget-view+json": {
       "model_id": "ffb6c1e3ac3744839b46ecf01aaeaf43",
       "version_major": 2,
       "version_minor": 0
      },
      "text/plain": [
       "Possible clusters:   0%|          | 0/6175 [00:00<?, ?it/s]"
      ]
     },
     "metadata": {},
     "output_type": "display_data"
    },
    {
     "data": {
      "application/vnd.jupyter.widget-view+json": {
       "model_id": "c8d3f8a28d6f49d897eef4a5d7bc25d5",
       "version_major": 2,
       "version_minor": 0
      },
      "text/plain": [
       "Possible clusters:   0%|          | 0/2500 [00:00<?, ?it/s]"
      ]
     },
     "metadata": {},
     "output_type": "display_data"
    },
    {
     "data": {
      "application/vnd.jupyter.widget-view+json": {
       "model_id": "c6d64160a5094ac3b788f56b7ac4f0db",
       "version_major": 2,
       "version_minor": 0
      },
      "text/plain": [
       "Possible clusters:   0%|          | 0/286 [00:00<?, ?it/s]"
      ]
     },
     "metadata": {},
     "output_type": "display_data"
    },
    {
     "data": {
      "application/vnd.jupyter.widget-view+json": {
       "model_id": "2c8d986e159a4175842bf05cb82098f1",
       "version_major": 2,
       "version_minor": 0
      },
      "text/plain": [
       "Possible clusters:   0%|          | 0/120 [00:00<?, ?it/s]"
      ]
     },
     "metadata": {},
     "output_type": "display_data"
    },
    {
     "data": {
      "application/vnd.jupyter.widget-view+json": {
       "model_id": "6ae196d85ea24735966e36d30fea2343",
       "version_major": 2,
       "version_minor": 0
      },
      "text/plain": [
       "Possible clusters:   0%|          | 0/15 [00:00<?, ?it/s]"
      ]
     },
     "metadata": {},
     "output_type": "display_data"
    },
    {
     "data": {
      "application/vnd.jupyter.widget-view+json": {
       "model_id": "2ed81518de134665acdda1160fe42fc6",
       "version_major": 2,
       "version_minor": 0
      },
      "text/plain": [
       "Possible clusters:   0%|          | 0/6 [00:00<?, ?it/s]"
      ]
     },
     "metadata": {},
     "output_type": "display_data"
    },
    {
     "data": {
      "application/vnd.jupyter.widget-view+json": {
       "model_id": "1a9c66f8c77a42d1931e86fc9d68384a",
       "version_major": 2,
       "version_minor": 0
      },
      "text/plain": [
       "Possible clusters:   0%|          | 0/83655 [00:00<?, ?it/s]"
      ]
     },
     "metadata": {},
     "output_type": "display_data"
    },
    {
     "data": {
      "application/vnd.jupyter.widget-view+json": {
       "model_id": "3cce925567d3431ba40a030b6d6246a3",
       "version_major": 2,
       "version_minor": 0
      },
      "text/plain": [
       "Possible clusters:   0%|          | 0/7525 [00:00<?, ?it/s]"
      ]
     },
     "metadata": {},
     "output_type": "display_data"
    },
    {
     "data": {
      "application/vnd.jupyter.widget-view+json": {
       "model_id": "65b5c05a006b4ba18427d6be10b1882c",
       "version_major": 2,
       "version_minor": 0
      },
      "text/plain": [
       "Possible clusters:   0%|          | 0/3196 [00:00<?, ?it/s]"
      ]
     },
     "metadata": {},
     "output_type": "display_data"
    },
    {
     "data": {
      "application/vnd.jupyter.widget-view+json": {
       "model_id": "b44f444b46a54c6aa409c4af4d24585d",
       "version_major": 2,
       "version_minor": 0
      },
      "text/plain": [
       "Possible clusters:   0%|          | 0/364 [00:00<?, ?it/s]"
      ]
     },
     "metadata": {},
     "output_type": "display_data"
    },
    {
     "data": {
      "application/vnd.jupyter.widget-view+json": {
       "model_id": "04cb4494e42e43c0ad7935d241cfbf3f",
       "version_major": 2,
       "version_minor": 0
      },
      "text/plain": [
       "Possible clusters:   0%|          | 0/220 [00:00<?, ?it/s]"
      ]
     },
     "metadata": {},
     "output_type": "display_data"
    },
    {
     "data": {
      "application/vnd.jupyter.widget-view+json": {
       "model_id": "c56a08713a0241618e888b04924b378f",
       "version_major": 2,
       "version_minor": 0
      },
      "text/plain": [
       "Possible clusters:   0%|          | 0/28 [00:00<?, ?it/s]"
      ]
     },
     "metadata": {},
     "output_type": "display_data"
    },
    {
     "data": {
      "application/vnd.jupyter.widget-view+json": {
       "model_id": "168a84c3214a4c3fa2c779dbf95c3016",
       "version_major": 2,
       "version_minor": 0
      },
      "text/plain": [
       "Possible clusters:   0%|          | 0/15 [00:00<?, ?it/s]"
      ]
     },
     "metadata": {},
     "output_type": "display_data"
    },
    {
     "data": {
      "application/vnd.jupyter.widget-view+json": {
       "model_id": "677de5c738d34d0bbf1d9332932cdfb8",
       "version_major": 2,
       "version_minor": 0
      },
      "text/plain": [
       "Possible clusters:   0%|          | 0/6 [00:00<?, ?it/s]"
      ]
     },
     "metadata": {},
     "output_type": "display_data"
    },
    {
     "data": {
      "application/vnd.jupyter.widget-view+json": {
       "model_id": "6428caf34390472ea338aa7649169f9e",
       "version_major": 2,
       "version_minor": 0
      },
      "text/plain": [
       "Possible clusters:   0%|          | 0/5016 [00:00<?, ?it/s]"
      ]
     },
     "metadata": {},
     "output_type": "display_data"
    },
    {
     "data": {
      "application/vnd.jupyter.widget-view+json": {
       "model_id": "62919fb5a8094b709ae558e21eeb8954",
       "version_major": 2,
       "version_minor": 0
      },
      "text/plain": [
       "Possible clusters:   0%|          | 0/560 [00:00<?, ?it/s]"
      ]
     },
     "metadata": {},
     "output_type": "display_data"
    },
    {
     "data": {
      "application/vnd.jupyter.widget-view+json": {
       "model_id": "e00df8519eb8443a96ce7435fea82ffb",
       "version_major": 2,
       "version_minor": 0
      },
      "text/plain": [
       "Possible clusters:   0%|          | 0/286 [00:00<?, ?it/s]"
      ]
     },
     "metadata": {},
     "output_type": "display_data"
    },
    {
     "data": {
      "application/vnd.jupyter.widget-view+json": {
       "model_id": "0656d8ef950d4221abb33fbcc98bad75",
       "version_major": 2,
       "version_minor": 0
      },
      "text/plain": [
       "Possible clusters:   0%|          | 0/120 [00:00<?, ?it/s]"
      ]
     },
     "metadata": {},
     "output_type": "display_data"
    },
    {
     "data": {
      "application/vnd.jupyter.widget-view+json": {
       "model_id": "6074fa69ad734dfd9909f663313954c5",
       "version_major": 2,
       "version_minor": 0
      },
      "text/plain": [
       "Possible clusters:   0%|          | 0/15 [00:00<?, ?it/s]"
      ]
     },
     "metadata": {},
     "output_type": "display_data"
    },
    {
     "data": {
      "application/vnd.jupyter.widget-view+json": {
       "model_id": "aee3e081c9d14fbabe5cb6d66ebdfa30",
       "version_major": 2,
       "version_minor": 0
      },
      "text/plain": [
       "Possible clusters:   0%|          | 0/6 [00:00<?, ?it/s]"
      ]
     },
     "metadata": {},
     "output_type": "display_data"
    },
    {
     "data": {
      "application/vnd.jupyter.widget-view+json": {
       "model_id": "8902432b56764e9e9276681e9780096e",
       "version_major": 2,
       "version_minor": 0
      },
      "text/plain": [
       "Possible clusters:   0%|          | 0/10879 [00:00<?, ?it/s]"
      ]
     },
     "metadata": {},
     "output_type": "display_data"
    },
    {
     "data": {
      "application/vnd.jupyter.widget-view+json": {
       "model_id": "2cd30af8aff746b7899d22a35677ccda",
       "version_major": 2,
       "version_minor": 0
      },
      "text/plain": [
       "Possible clusters:   0%|          | 0/5016 [00:00<?, ?it/s]"
      ]
     },
     "metadata": {},
     "output_type": "display_data"
    },
    {
     "data": {
      "application/vnd.jupyter.widget-view+json": {
       "model_id": "9bf6bb55fec744bb9e33f53ecd46130b",
       "version_major": 2,
       "version_minor": 0
      },
      "text/plain": [
       "Possible clusters:   0%|          | 0/560 [00:00<?, ?it/s]"
      ]
     },
     "metadata": {},
     "output_type": "display_data"
    },
    {
     "data": {
      "application/vnd.jupyter.widget-view+json": {
       "model_id": "96cbcf9a5791471f8c79324803b15a9b",
       "version_major": 2,
       "version_minor": 0
      },
      "text/plain": [
       "Possible clusters:   0%|          | 0/286 [00:00<?, ?it/s]"
      ]
     },
     "metadata": {},
     "output_type": "display_data"
    },
    {
     "data": {
      "application/vnd.jupyter.widget-view+json": {
       "model_id": "e70f75217c2e417aa8c47ea769102339",
       "version_major": 2,
       "version_minor": 0
      },
      "text/plain": [
       "Possible clusters:   0%|          | 0/120 [00:00<?, ?it/s]"
      ]
     },
     "metadata": {},
     "output_type": "display_data"
    },
    {
     "data": {
      "application/vnd.jupyter.widget-view+json": {
       "model_id": "c547152cc1b243d08b7a37c699aafe8e",
       "version_major": 2,
       "version_minor": 0
      },
      "text/plain": [
       "Possible clusters:   0%|          | 0/15 [00:00<?, ?it/s]"
      ]
     },
     "metadata": {},
     "output_type": "display_data"
    },
    {
     "data": {
      "application/vnd.jupyter.widget-view+json": {
       "model_id": "78046d59b41441c9a907cffc4a92b66c",
       "version_major": 2,
       "version_minor": 0
      },
      "text/plain": [
       "Possible clusters:   0%|          | 0/6 [00:00<?, ?it/s]"
      ]
     },
     "metadata": {},
     "output_type": "display_data"
    },
    {
     "data": {
      "application/vnd.jupyter.widget-view+json": {
       "model_id": "60020474744a47c4a52ae8e81807ad14",
       "version_major": 2,
       "version_minor": 0
      },
      "text/plain": [
       "Possible clusters:   0%|          | 0/12926 [00:00<?, ?it/s]"
      ]
     },
     "metadata": {},
     "output_type": "display_data"
    },
    {
     "data": {
      "application/vnd.jupyter.widget-view+json": {
       "model_id": "f7c7e364a46147258619a3223d8b0ca3",
       "version_major": 2,
       "version_minor": 0
      },
      "text/plain": [
       "Possible clusters:   0%|          | 0/6175 [00:00<?, ?it/s]"
      ]
     },
     "metadata": {},
     "output_type": "display_data"
    },
    {
     "data": {
      "application/vnd.jupyter.widget-view+json": {
       "model_id": "b4daede930a7422aa5b1a900a96c56ea",
       "version_major": 2,
       "version_minor": 0
      },
      "text/plain": [
       "Possible clusters:   0%|          | 0/2500 [00:00<?, ?it/s]"
      ]
     },
     "metadata": {},
     "output_type": "display_data"
    },
    {
     "data": {
      "application/vnd.jupyter.widget-view+json": {
       "model_id": "65f60c99705848ec83d1742802ec9d6c",
       "version_major": 2,
       "version_minor": 0
      },
      "text/plain": [
       "Possible clusters:   0%|          | 0/286 [00:00<?, ?it/s]"
      ]
     },
     "metadata": {},
     "output_type": "display_data"
    },
    {
     "data": {
      "application/vnd.jupyter.widget-view+json": {
       "model_id": "f801ee6ca4f547d88f687b181ad97aec",
       "version_major": 2,
       "version_minor": 0
      },
      "text/plain": [
       "Possible clusters:   0%|          | 0/120 [00:00<?, ?it/s]"
      ]
     },
     "metadata": {},
     "output_type": "display_data"
    },
    {
     "data": {
      "application/vnd.jupyter.widget-view+json": {
       "model_id": "037bc97bc866482fa7883907f87b6567",
       "version_major": 2,
       "version_minor": 0
      },
      "text/plain": [
       "Possible clusters:   0%|          | 0/15 [00:00<?, ?it/s]"
      ]
     },
     "metadata": {},
     "output_type": "display_data"
    },
    {
     "data": {
      "application/vnd.jupyter.widget-view+json": {
       "model_id": "f3830ae932814d17b9e1dab5eea4eb43",
       "version_major": 2,
       "version_minor": 0
      },
      "text/plain": [
       "Possible clusters:   0%|          | 0/6 [00:00<?, ?it/s]"
      ]
     },
     "metadata": {},
     "output_type": "display_data"
    },
    {
     "data": {
      "application/vnd.jupyter.widget-view+json": {
       "model_id": "db411682adc94237871ec52ac9eb3536",
       "version_major": 2,
       "version_minor": 0
      },
      "text/plain": [
       "Possible clusters:   0%|          | 0/7525 [00:00<?, ?it/s]"
      ]
     },
     "metadata": {},
     "output_type": "display_data"
    },
    {
     "data": {
      "application/vnd.jupyter.widget-view+json": {
       "model_id": "9f1afdd4379743f1b2f282421d1843c4",
       "version_major": 2,
       "version_minor": 0
      },
      "text/plain": [
       "Possible clusters:   0%|          | 0/3196 [00:00<?, ?it/s]"
      ]
     },
     "metadata": {},
     "output_type": "display_data"
    },
    {
     "data": {
      "application/vnd.jupyter.widget-view+json": {
       "model_id": "d782d764c8e14d58ba76e069cfff3ff3",
       "version_major": 2,
       "version_minor": 0
      },
      "text/plain": [
       "Possible clusters:   0%|          | 0/364 [00:00<?, ?it/s]"
      ]
     },
     "metadata": {},
     "output_type": "display_data"
    },
    {
     "data": {
      "application/vnd.jupyter.widget-view+json": {
       "model_id": "638961b532094e55bbd9ca787266c1a1",
       "version_major": 2,
       "version_minor": 0
      },
      "text/plain": [
       "Possible clusters:   0%|          | 0/165 [00:00<?, ?it/s]"
      ]
     },
     "metadata": {},
     "output_type": "display_data"
    },
    {
     "data": {
      "application/vnd.jupyter.widget-view+json": {
       "model_id": "f526835b8bd34468b45bd6468bd01e04",
       "version_major": 2,
       "version_minor": 0
      },
      "text/plain": [
       "Possible clusters:   0%|          | 0/21 [00:00<?, ?it/s]"
      ]
     },
     "metadata": {},
     "output_type": "display_data"
    },
    {
     "data": {
      "application/vnd.jupyter.widget-view+json": {
       "model_id": "e689bb807e724cee9af8f544c8ab38e0",
       "version_major": 2,
       "version_minor": 0
      },
      "text/plain": [
       "Possible clusters:   0%|          | 0/10 [00:00<?, ?it/s]"
      ]
     },
     "metadata": {},
     "output_type": "display_data"
    },
    {
     "data": {
      "application/vnd.jupyter.widget-view+json": {
       "model_id": "62687f9a047648e7a585bcf2a279d3bb",
       "version_major": 2,
       "version_minor": 0
      },
      "text/plain": [
       "Possible clusters:   0%|          | 0/5016 [00:00<?, ?it/s]"
      ]
     },
     "metadata": {},
     "output_type": "display_data"
    },
    {
     "data": {
      "application/vnd.jupyter.widget-view+json": {
       "model_id": "f8d7ba6c03b142f3ae935293a873f44b",
       "version_major": 2,
       "version_minor": 0
      },
      "text/plain": [
       "Possible clusters:   0%|          | 0/560 [00:00<?, ?it/s]"
      ]
     },
     "metadata": {},
     "output_type": "display_data"
    },
    {
     "data": {
      "application/vnd.jupyter.widget-view+json": {
       "model_id": "87207fec57584ff38d83405381735a0b",
       "version_major": 2,
       "version_minor": 0
      },
      "text/plain": [
       "Possible clusters:   0%|          | 0/286 [00:00<?, ?it/s]"
      ]
     },
     "metadata": {},
     "output_type": "display_data"
    },
    {
     "data": {
      "application/vnd.jupyter.widget-view+json": {
       "model_id": "aa20c9dc982c4f3fb03c690af9f735cc",
       "version_major": 2,
       "version_minor": 0
      },
      "text/plain": [
       "Possible clusters:   0%|          | 0/120 [00:00<?, ?it/s]"
      ]
     },
     "metadata": {},
     "output_type": "display_data"
    },
    {
     "data": {
      "application/vnd.jupyter.widget-view+json": {
       "model_id": "5cb18466f003415d9ee1054f79c39e0d",
       "version_major": 2,
       "version_minor": 0
      },
      "text/plain": [
       "Possible clusters:   0%|          | 0/15 [00:00<?, ?it/s]"
      ]
     },
     "metadata": {},
     "output_type": "display_data"
    },
    {
     "data": {
      "application/vnd.jupyter.widget-view+json": {
       "model_id": "fdff29ba93e54890a421a1a9c748a3b4",
       "version_major": 2,
       "version_minor": 0
      },
      "text/plain": [
       "Possible clusters:   0%|          | 0/6 [00:00<?, ?it/s]"
      ]
     },
     "metadata": {},
     "output_type": "display_data"
    },
    {
     "data": {
      "application/vnd.jupyter.widget-view+json": {
       "model_id": "0da430d56b9442b293e28f2335065744",
       "version_major": 2,
       "version_minor": 0
      },
      "text/plain": [
       "Possible clusters:   0%|          | 0/12926 [00:00<?, ?it/s]"
      ]
     },
     "metadata": {},
     "output_type": "display_data"
    },
    {
     "data": {
      "application/vnd.jupyter.widget-view+json": {
       "model_id": "f68e0a2fa3734cb58ab5bc24c7126241",
       "version_major": 2,
       "version_minor": 0
      },
      "text/plain": [
       "Possible clusters:   0%|          | 0/6175 [00:00<?, ?it/s]"
      ]
     },
     "metadata": {},
     "output_type": "display_data"
    },
    {
     "data": {
      "application/vnd.jupyter.widget-view+json": {
       "model_id": "34d9f577155a4df8b0f174fe1f5e75da",
       "version_major": 2,
       "version_minor": 0
      },
      "text/plain": [
       "Possible clusters:   0%|          | 0/2500 [00:00<?, ?it/s]"
      ]
     },
     "metadata": {},
     "output_type": "display_data"
    },
    {
     "data": {
      "application/vnd.jupyter.widget-view+json": {
       "model_id": "82b4c67fa4814353837f9c27889ce869",
       "version_major": 2,
       "version_minor": 0
      },
      "text/plain": [
       "Possible clusters:   0%|          | 0/286 [00:00<?, ?it/s]"
      ]
     },
     "metadata": {},
     "output_type": "display_data"
    },
    {
     "data": {
      "application/vnd.jupyter.widget-view+json": {
       "model_id": "d2c4be7a9535475b908fc5b922f4865c",
       "version_major": 2,
       "version_minor": 0
      },
      "text/plain": [
       "Possible clusters:   0%|          | 0/120 [00:00<?, ?it/s]"
      ]
     },
     "metadata": {},
     "output_type": "display_data"
    },
    {
     "data": {
      "application/vnd.jupyter.widget-view+json": {
       "model_id": "829d844c3e9346759a9f522fe1c4ecea",
       "version_major": 2,
       "version_minor": 0
      },
      "text/plain": [
       "Possible clusters:   0%|          | 0/15 [00:00<?, ?it/s]"
      ]
     },
     "metadata": {},
     "output_type": "display_data"
    },
    {
     "data": {
      "application/vnd.jupyter.widget-view+json": {
       "model_id": "ba1495968bc540bea5f484abd2bd5e7b",
       "version_major": 2,
       "version_minor": 0
      },
      "text/plain": [
       "Possible clusters:   0%|          | 0/6 [00:00<?, ?it/s]"
      ]
     },
     "metadata": {},
     "output_type": "display_data"
    },
    {
     "data": {
      "application/vnd.jupyter.widget-view+json": {
       "model_id": "5d5ec5d12b434e8dbcf8cc51cfc68314",
       "version_major": 2,
       "version_minor": 0
      },
      "text/plain": [
       "Possible clusters:   0%|          | 0/7525 [00:00<?, ?it/s]"
      ]
     },
     "metadata": {},
     "output_type": "display_data"
    },
    {
     "data": {
      "application/vnd.jupyter.widget-view+json": {
       "model_id": "d1c93c067ae5471e8ff5a1d7edf20f35",
       "version_major": 2,
       "version_minor": 0
      },
      "text/plain": [
       "Possible clusters:   0%|          | 0/3196 [00:00<?, ?it/s]"
      ]
     },
     "metadata": {},
     "output_type": "display_data"
    },
    {
     "data": {
      "application/vnd.jupyter.widget-view+json": {
       "model_id": "8c20d05d56a541c98e34aa263a373536",
       "version_major": 2,
       "version_minor": 0
      },
      "text/plain": [
       "Possible clusters:   0%|          | 0/364 [00:00<?, ?it/s]"
      ]
     },
     "metadata": {},
     "output_type": "display_data"
    },
    {
     "data": {
      "application/vnd.jupyter.widget-view+json": {
       "model_id": "6c28979a33714d9fb52a943e7a647bba",
       "version_major": 2,
       "version_minor": 0
      },
      "text/plain": [
       "Possible clusters:   0%|          | 0/165 [00:00<?, ?it/s]"
      ]
     },
     "metadata": {},
     "output_type": "display_data"
    },
    {
     "data": {
      "application/vnd.jupyter.widget-view+json": {
       "model_id": "a307cd0efe76431a934019234a958dce",
       "version_major": 2,
       "version_minor": 0
      },
      "text/plain": [
       "Possible clusters:   0%|          | 0/21 [00:00<?, ?it/s]"
      ]
     },
     "metadata": {},
     "output_type": "display_data"
    },
    {
     "data": {
      "application/vnd.jupyter.widget-view+json": {
       "model_id": "23ef27fd27554251b8928bc93f412135",
       "version_major": 2,
       "version_minor": 0
      },
      "text/plain": [
       "Possible clusters:   0%|          | 0/10 [00:00<?, ?it/s]"
      ]
     },
     "metadata": {},
     "output_type": "display_data"
    },
    {
     "data": {
      "application/vnd.jupyter.widget-view+json": {
       "model_id": "255cd075a1704dabb85a3d76fa22a00f",
       "version_major": 2,
       "version_minor": 0
      },
      "text/plain": [
       "Possible clusters:   0%|          | 0/6175 [00:00<?, ?it/s]"
      ]
     },
     "metadata": {},
     "output_type": "display_data"
    },
    {
     "data": {
      "application/vnd.jupyter.widget-view+json": {
       "model_id": "0c9fbc0decbb406fae70b7611d22ae54",
       "version_major": 2,
       "version_minor": 0
      },
      "text/plain": [
       "Possible clusters:   0%|          | 0/2500 [00:00<?, ?it/s]"
      ]
     },
     "metadata": {},
     "output_type": "display_data"
    },
    {
     "data": {
      "application/vnd.jupyter.widget-view+json": {
       "model_id": "ea22c596a7c549c5927ba852ea1111ad",
       "version_major": 2,
       "version_minor": 0
      },
      "text/plain": [
       "Possible clusters:   0%|          | 0/286 [00:00<?, ?it/s]"
      ]
     },
     "metadata": {},
     "output_type": "display_data"
    },
    {
     "data": {
      "application/vnd.jupyter.widget-view+json": {
       "model_id": "82dbf2ed144247d1b4d1758b59b5c320",
       "version_major": 2,
       "version_minor": 0
      },
      "text/plain": [
       "Possible clusters:   0%|          | 0/120 [00:00<?, ?it/s]"
      ]
     },
     "metadata": {},
     "output_type": "display_data"
    },
    {
     "data": {
      "application/vnd.jupyter.widget-view+json": {
       "model_id": "32a8b7d21bb5403db3b33ce6a9561679",
       "version_major": 2,
       "version_minor": 0
      },
      "text/plain": [
       "Possible clusters:   0%|          | 0/15 [00:00<?, ?it/s]"
      ]
     },
     "metadata": {},
     "output_type": "display_data"
    },
    {
     "data": {
      "application/vnd.jupyter.widget-view+json": {
       "model_id": "8ac86ce96cce4297ae97d5449e6b2575",
       "version_major": 2,
       "version_minor": 0
      },
      "text/plain": [
       "Possible clusters:   0%|          | 0/6 [00:00<?, ?it/s]"
      ]
     },
     "metadata": {},
     "output_type": "display_data"
    },
    {
     "data": {
      "application/vnd.jupyter.widget-view+json": {
       "model_id": "0973a1c6e0e34b27bffb682543d75bf0",
       "version_major": 2,
       "version_minor": 0
      },
      "text/plain": [
       "Possible clusters:   0%|          | 0/6175 [00:00<?, ?it/s]"
      ]
     },
     "metadata": {},
     "output_type": "display_data"
    },
    {
     "data": {
      "application/vnd.jupyter.widget-view+json": {
       "model_id": "c830e6f8b8854a8d9debd6170cc7e44a",
       "version_major": 2,
       "version_minor": 0
      },
      "text/plain": [
       "Possible clusters:   0%|          | 0/2500 [00:00<?, ?it/s]"
      ]
     },
     "metadata": {},
     "output_type": "display_data"
    },
    {
     "data": {
      "application/vnd.jupyter.widget-view+json": {
       "model_id": "2bf720196da442dbaef1486e06b6d1ee",
       "version_major": 2,
       "version_minor": 0
      },
      "text/plain": [
       "Possible clusters:   0%|          | 0/286 [00:00<?, ?it/s]"
      ]
     },
     "metadata": {},
     "output_type": "display_data"
    },
    {
     "data": {
      "application/vnd.jupyter.widget-view+json": {
       "model_id": "dab96c4cef2f4f3bb92ea9bcecd61047",
       "version_major": 2,
       "version_minor": 0
      },
      "text/plain": [
       "Possible clusters:   0%|          | 0/120 [00:00<?, ?it/s]"
      ]
     },
     "metadata": {},
     "output_type": "display_data"
    },
    {
     "data": {
      "application/vnd.jupyter.widget-view+json": {
       "model_id": "727e5751669e475f8f80a21e9b5b9a3c",
       "version_major": 2,
       "version_minor": 0
      },
      "text/plain": [
       "Possible clusters:   0%|          | 0/15 [00:00<?, ?it/s]"
      ]
     },
     "metadata": {},
     "output_type": "display_data"
    },
    {
     "data": {
      "application/vnd.jupyter.widget-view+json": {
       "model_id": "846e0a5f92a84fcda821e94197f015b4",
       "version_major": 2,
       "version_minor": 0
      },
      "text/plain": [
       "Possible clusters:   0%|          | 0/6 [00:00<?, ?it/s]"
      ]
     },
     "metadata": {},
     "output_type": "display_data"
    },
    {
     "data": {
      "application/vnd.jupyter.widget-view+json": {
       "model_id": "c2ca350a1dfc457cb876828b0c07b256",
       "version_major": 2,
       "version_minor": 0
      },
      "text/plain": [
       "Possible clusters:   0%|          | 0/6175 [00:00<?, ?it/s]"
      ]
     },
     "metadata": {},
     "output_type": "display_data"
    },
    {
     "data": {
      "application/vnd.jupyter.widget-view+json": {
       "model_id": "25e1258fa3b24471a7f3104fad5df7c7",
       "version_major": 2,
       "version_minor": 0
      },
      "text/plain": [
       "Possible clusters:   0%|          | 0/2500 [00:00<?, ?it/s]"
      ]
     },
     "metadata": {},
     "output_type": "display_data"
    },
    {
     "data": {
      "application/vnd.jupyter.widget-view+json": {
       "model_id": "ff4ba6efe322472a85f04942eb728ecd",
       "version_major": 2,
       "version_minor": 0
      },
      "text/plain": [
       "Possible clusters:   0%|          | 0/286 [00:00<?, ?it/s]"
      ]
     },
     "metadata": {},
     "output_type": "display_data"
    },
    {
     "data": {
      "application/vnd.jupyter.widget-view+json": {
       "model_id": "37e53076017b4eea89a0121d3ef2e0c0",
       "version_major": 2,
       "version_minor": 0
      },
      "text/plain": [
       "Possible clusters:   0%|          | 0/120 [00:00<?, ?it/s]"
      ]
     },
     "metadata": {},
     "output_type": "display_data"
    },
    {
     "data": {
      "application/vnd.jupyter.widget-view+json": {
       "model_id": "e8dbb948a9694b49bd3d7c5865ec04fe",
       "version_major": 2,
       "version_minor": 0
      },
      "text/plain": [
       "Possible clusters:   0%|          | 0/15 [00:00<?, ?it/s]"
      ]
     },
     "metadata": {},
     "output_type": "display_data"
    },
    {
     "data": {
      "application/vnd.jupyter.widget-view+json": {
       "model_id": "6c18e9da678e4ebd9df5831e2e3b1b2f",
       "version_major": 2,
       "version_minor": 0
      },
      "text/plain": [
       "Possible clusters:   0%|          | 0/6 [00:00<?, ?it/s]"
      ]
     },
     "metadata": {},
     "output_type": "display_data"
    },
    {
     "data": {
      "application/vnd.jupyter.widget-view+json": {
       "model_id": "875c37d5ad474b08a1f9a57658413fee",
       "version_major": 2,
       "version_minor": 0
      },
      "text/plain": [
       "Possible clusters:   0%|          | 0/7525 [00:00<?, ?it/s]"
      ]
     },
     "metadata": {},
     "output_type": "display_data"
    },
    {
     "data": {
      "application/vnd.jupyter.widget-view+json": {
       "model_id": "584e6fb8373e4675ba80cc622070cef6",
       "version_major": 2,
       "version_minor": 0
      },
      "text/plain": [
       "Possible clusters:   0%|          | 0/3196 [00:00<?, ?it/s]"
      ]
     },
     "metadata": {},
     "output_type": "display_data"
    },
    {
     "data": {
      "application/vnd.jupyter.widget-view+json": {
       "model_id": "2e76fc411a4745edb23f495e16b8f835",
       "version_major": 2,
       "version_minor": 0
      },
      "text/plain": [
       "Possible clusters:   0%|          | 0/364 [00:00<?, ?it/s]"
      ]
     },
     "metadata": {},
     "output_type": "display_data"
    },
    {
     "data": {
      "application/vnd.jupyter.widget-view+json": {
       "model_id": "f6f7b97c411c422d8465935ffe6d4f88",
       "version_major": 2,
       "version_minor": 0
      },
      "text/plain": [
       "Possible clusters:   0%|          | 0/165 [00:00<?, ?it/s]"
      ]
     },
     "metadata": {},
     "output_type": "display_data"
    },
    {
     "data": {
      "application/vnd.jupyter.widget-view+json": {
       "model_id": "62f939b94c9a4a93b12ab3dc3381541e",
       "version_major": 2,
       "version_minor": 0
      },
      "text/plain": [
       "Possible clusters:   0%|          | 0/21 [00:00<?, ?it/s]"
      ]
     },
     "metadata": {},
     "output_type": "display_data"
    },
    {
     "data": {
      "application/vnd.jupyter.widget-view+json": {
       "model_id": "87c0e2cefba74076a3d94c3f564c5650",
       "version_major": 2,
       "version_minor": 0
      },
      "text/plain": [
       "Possible clusters:   0%|          | 0/10 [00:00<?, ?it/s]"
      ]
     },
     "metadata": {},
     "output_type": "display_data"
    },
    {
     "data": {
      "application/vnd.jupyter.widget-view+json": {
       "model_id": "d3e5475eb68c4310abada4ccf0638779",
       "version_major": 2,
       "version_minor": 0
      },
      "text/plain": [
       "Possible clusters:   0%|          | 0/6175 [00:00<?, ?it/s]"
      ]
     },
     "metadata": {},
     "output_type": "display_data"
    },
    {
     "data": {
      "application/vnd.jupyter.widget-view+json": {
       "model_id": "06345950a5254f0abb521ee72b44790a",
       "version_major": 2,
       "version_minor": 0
      },
      "text/plain": [
       "Possible clusters:   0%|          | 0/2500 [00:00<?, ?it/s]"
      ]
     },
     "metadata": {},
     "output_type": "display_data"
    },
    {
     "data": {
      "application/vnd.jupyter.widget-view+json": {
       "model_id": "12ba49dfdb7247c98b616cee51a861cc",
       "version_major": 2,
       "version_minor": 0
      },
      "text/plain": [
       "Possible clusters:   0%|          | 0/286 [00:00<?, ?it/s]"
      ]
     },
     "metadata": {},
     "output_type": "display_data"
    },
    {
     "data": {
      "application/vnd.jupyter.widget-view+json": {
       "model_id": "fc2d0c427e764a8b87998d4826a3dce0",
       "version_major": 2,
       "version_minor": 0
      },
      "text/plain": [
       "Possible clusters:   0%|          | 0/120 [00:00<?, ?it/s]"
      ]
     },
     "metadata": {},
     "output_type": "display_data"
    },
    {
     "data": {
      "application/vnd.jupyter.widget-view+json": {
       "model_id": "5f380d7cd62b499ea26edfb1753fda27",
       "version_major": 2,
       "version_minor": 0
      },
      "text/plain": [
       "Possible clusters:   0%|          | 0/15 [00:00<?, ?it/s]"
      ]
     },
     "metadata": {},
     "output_type": "display_data"
    },
    {
     "data": {
      "application/vnd.jupyter.widget-view+json": {
       "model_id": "1e7a7bb97ea94bfd9a1018e20ec57c73",
       "version_major": 2,
       "version_minor": 0
      },
      "text/plain": [
       "Possible clusters:   0%|          | 0/6 [00:00<?, ?it/s]"
      ]
     },
     "metadata": {},
     "output_type": "display_data"
    },
    {
     "data": {
      "application/vnd.jupyter.widget-view+json": {
       "model_id": "d545820a8a0741589de748135d2765c7",
       "version_major": 2,
       "version_minor": 0
      },
      "text/plain": [
       "Possible clusters:   0%|          | 0/5016 [00:00<?, ?it/s]"
      ]
     },
     "metadata": {},
     "output_type": "display_data"
    },
    {
     "data": {
      "application/vnd.jupyter.widget-view+json": {
       "model_id": "31c65acf472c4c48953791ec5fb76257",
       "version_major": 2,
       "version_minor": 0
      },
      "text/plain": [
       "Possible clusters:   0%|          | 0/560 [00:00<?, ?it/s]"
      ]
     },
     "metadata": {},
     "output_type": "display_data"
    },
    {
     "data": {
      "application/vnd.jupyter.widget-view+json": {
       "model_id": "3dbf417632f846edb51371bdb94a98e7",
       "version_major": 2,
       "version_minor": 0
      },
      "text/plain": [
       "Possible clusters:   0%|          | 0/286 [00:00<?, ?it/s]"
      ]
     },
     "metadata": {},
     "output_type": "display_data"
    },
    {
     "data": {
      "application/vnd.jupyter.widget-view+json": {
       "model_id": "2ad099717bdc4a95a51b98c102ff811f",
       "version_major": 2,
       "version_minor": 0
      },
      "text/plain": [
       "Possible clusters:   0%|          | 0/120 [00:00<?, ?it/s]"
      ]
     },
     "metadata": {},
     "output_type": "display_data"
    },
    {
     "data": {
      "application/vnd.jupyter.widget-view+json": {
       "model_id": "268d7523ff6b416880377b8176683822",
       "version_major": 2,
       "version_minor": 0
      },
      "text/plain": [
       "Possible clusters:   0%|          | 0/15 [00:00<?, ?it/s]"
      ]
     },
     "metadata": {},
     "output_type": "display_data"
    },
    {
     "data": {
      "application/vnd.jupyter.widget-view+json": {
       "model_id": "38df5f53bfb544ecac6f900500d81abd",
       "version_major": 2,
       "version_minor": 0
      },
      "text/plain": [
       "Possible clusters:   0%|          | 0/6 [00:00<?, ?it/s]"
      ]
     },
     "metadata": {},
     "output_type": "display_data"
    },
    {
     "data": {
      "application/vnd.jupyter.widget-view+json": {
       "model_id": "874b374b3e3e4b37b56946de4f2a66d5",
       "version_major": 2,
       "version_minor": 0
      },
      "text/plain": [
       "Possible clusters:   0%|          | 0/122409 [00:00<?, ?it/s]"
      ]
     },
     "metadata": {},
     "output_type": "display_data"
    },
    {
     "data": {
      "application/vnd.jupyter.widget-view+json": {
       "model_id": "7ef53aa3ab604f5aaa750202a23cc46f",
       "version_major": 2,
       "version_minor": 0
      },
      "text/plain": [
       "Possible clusters:   0%|          | 0/10879 [00:00<?, ?it/s]"
      ]
     },
     "metadata": {},
     "output_type": "display_data"
    },
    {
     "data": {
      "application/vnd.jupyter.widget-view+json": {
       "model_id": "655635f0aadd4aa1b0ced0ed45a8f8a1",
       "version_major": 2,
       "version_minor": 0
      },
      "text/plain": [
       "Possible clusters:   0%|          | 0/5016 [00:00<?, ?it/s]"
      ]
     },
     "metadata": {},
     "output_type": "display_data"
    },
    {
     "data": {
      "application/vnd.jupyter.widget-view+json": {
       "model_id": "41f3811d17374d15876d71fd62bd3936",
       "version_major": 2,
       "version_minor": 0
      },
      "text/plain": [
       "Possible clusters:   0%|          | 0/560 [00:00<?, ?it/s]"
      ]
     },
     "metadata": {},
     "output_type": "display_data"
    },
    {
     "data": {
      "application/vnd.jupyter.widget-view+json": {
       "model_id": "6d3e770834794ea1a54363f2dfba1abf",
       "version_major": 2,
       "version_minor": 0
      },
      "text/plain": [
       "Possible clusters:   0%|          | 0/286 [00:00<?, ?it/s]"
      ]
     },
     "metadata": {},
     "output_type": "display_data"
    },
    {
     "data": {
      "application/vnd.jupyter.widget-view+json": {
       "model_id": "6aaba07f645c456d8781c93d00fbdb4a",
       "version_major": 2,
       "version_minor": 0
      },
      "text/plain": [
       "Possible clusters:   0%|          | 0/120 [00:00<?, ?it/s]"
      ]
     },
     "metadata": {},
     "output_type": "display_data"
    },
    {
     "data": {
      "application/vnd.jupyter.widget-view+json": {
       "model_id": "3648297d94734e829cae7132ffa087fd",
       "version_major": 2,
       "version_minor": 0
      },
      "text/plain": [
       "Possible clusters:   0%|          | 0/15 [00:00<?, ?it/s]"
      ]
     },
     "metadata": {},
     "output_type": "display_data"
    },
    {
     "data": {
      "application/vnd.jupyter.widget-view+json": {
       "model_id": "41d2d1ba0c29487ba236c59ee8f4a94b",
       "version_major": 2,
       "version_minor": 0
      },
      "text/plain": [
       "Possible clusters:   0%|          | 0/6 [00:00<?, ?it/s]"
      ]
     },
     "metadata": {},
     "output_type": "display_data"
    },
    {
     "data": {
      "application/vnd.jupyter.widget-view+json": {
       "model_id": "37513c8903444bfd89dc5b256047988c",
       "version_major": 2,
       "version_minor": 0
      },
      "text/plain": [
       "Possible clusters:   0%|          | 0/174406 [00:00<?, ?it/s]"
      ]
     },
     "metadata": {},
     "output_type": "display_data"
    },
    {
     "data": {
      "application/vnd.jupyter.widget-view+json": {
       "model_id": "737c12f8b91843e881c0859fc783bdd3",
       "version_major": 2,
       "version_minor": 0
      },
      "text/plain": [
       "Possible clusters:   0%|          | 0/68380 [00:00<?, ?it/s]"
      ]
     },
     "metadata": {},
     "output_type": "display_data"
    },
    {
     "data": {
      "application/vnd.jupyter.widget-view+json": {
       "model_id": "a8fbee75307f43f1bae026e43ddb08de",
       "version_major": 2,
       "version_minor": 0
      },
      "text/plain": [
       "Possible clusters:   0%|          | 0/6175 [00:00<?, ?it/s]"
      ]
     },
     "metadata": {},
     "output_type": "display_data"
    },
    {
     "data": {
      "application/vnd.jupyter.widget-view+json": {
       "model_id": "88ab04a919d9464aa0300b1f85db6502",
       "version_major": 2,
       "version_minor": 0
      },
      "text/plain": [
       "Possible clusters:   0%|          | 0/2500 [00:00<?, ?it/s]"
      ]
     },
     "metadata": {},
     "output_type": "display_data"
    },
    {
     "data": {
      "application/vnd.jupyter.widget-view+json": {
       "model_id": "186037b936784410b2130f0bca0f8ead",
       "version_major": 2,
       "version_minor": 0
      },
      "text/plain": [
       "Possible clusters:   0%|          | 0/286 [00:00<?, ?it/s]"
      ]
     },
     "metadata": {},
     "output_type": "display_data"
    },
    {
     "data": {
      "application/vnd.jupyter.widget-view+json": {
       "model_id": "814fa67089e845998bfeb74266131c67",
       "version_major": 2,
       "version_minor": 0
      },
      "text/plain": [
       "Possible clusters:   0%|          | 0/120 [00:00<?, ?it/s]"
      ]
     },
     "metadata": {},
     "output_type": "display_data"
    },
    {
     "data": {
      "application/vnd.jupyter.widget-view+json": {
       "model_id": "02cf3eb093a8431795b063e0e92b7ca1",
       "version_major": 2,
       "version_minor": 0
      },
      "text/plain": [
       "Possible clusters:   0%|          | 0/15 [00:00<?, ?it/s]"
      ]
     },
     "metadata": {},
     "output_type": "display_data"
    },
    {
     "data": {
      "application/vnd.jupyter.widget-view+json": {
       "model_id": "faa6675cbd7c4161b3951c224c8c6dbb",
       "version_major": 2,
       "version_minor": 0
      },
      "text/plain": [
       "Possible clusters:   0%|          | 0/6 [00:00<?, ?it/s]"
      ]
     },
     "metadata": {},
     "output_type": "display_data"
    },
    {
     "data": {
      "application/vnd.jupyter.widget-view+json": {
       "model_id": "0bfeb136fed74e80a1a4f20522483a29",
       "version_major": 2,
       "version_minor": 0
      },
      "text/plain": [
       "Possible clusters:   0%|          | 0/7525 [00:00<?, ?it/s]"
      ]
     },
     "metadata": {},
     "output_type": "display_data"
    },
    {
     "data": {
      "application/vnd.jupyter.widget-view+json": {
       "model_id": "5851ca0d30ad4649ab28951fd4cb235e",
       "version_major": 2,
       "version_minor": 0
      },
      "text/plain": [
       "Possible clusters:   0%|          | 0/3196 [00:00<?, ?it/s]"
      ]
     },
     "metadata": {},
     "output_type": "display_data"
    },
    {
     "data": {
      "application/vnd.jupyter.widget-view+json": {
       "model_id": "697ca129022447c985f07998c46e0843",
       "version_major": 2,
       "version_minor": 0
      },
      "text/plain": [
       "Possible clusters:   0%|          | 0/364 [00:00<?, ?it/s]"
      ]
     },
     "metadata": {},
     "output_type": "display_data"
    },
    {
     "data": {
      "application/vnd.jupyter.widget-view+json": {
       "model_id": "303b926650984ca5a7bff201c92d80a5",
       "version_major": 2,
       "version_minor": 0
      },
      "text/plain": [
       "Possible clusters:   0%|          | 0/165 [00:00<?, ?it/s]"
      ]
     },
     "metadata": {},
     "output_type": "display_data"
    },
    {
     "data": {
      "application/vnd.jupyter.widget-view+json": {
       "model_id": "a76f9114039e4f478d4de3b586dada4c",
       "version_major": 2,
       "version_minor": 0
      },
      "text/plain": [
       "Possible clusters:   0%|          | 0/21 [00:00<?, ?it/s]"
      ]
     },
     "metadata": {},
     "output_type": "display_data"
    },
    {
     "data": {
      "application/vnd.jupyter.widget-view+json": {
       "model_id": "5abc17299e9d43389a9be7a244cb0c58",
       "version_major": 2,
       "version_minor": 0
      },
      "text/plain": [
       "Possible clusters:   0%|          | 0/10 [00:00<?, ?it/s]"
      ]
     },
     "metadata": {},
     "output_type": "display_data"
    },
    {
     "data": {
      "application/vnd.jupyter.widget-view+json": {
       "model_id": "1567daca19fe42df968cda397231d283",
       "version_major": 2,
       "version_minor": 0
      },
      "text/plain": [
       "Possible clusters:   0%|          | 0/4029 [00:00<?, ?it/s]"
      ]
     },
     "metadata": {},
     "output_type": "display_data"
    },
    {
     "data": {
      "application/vnd.jupyter.widget-view+json": {
       "model_id": "ed5eea004baa4932902882b80ac8384f",
       "version_major": 2,
       "version_minor": 0
      },
      "text/plain": [
       "Possible clusters:   0%|          | 0/455 [00:00<?, ?it/s]"
      ]
     },
     "metadata": {},
     "output_type": "display_data"
    },
    {
     "data": {
      "application/vnd.jupyter.widget-view+json": {
       "model_id": "b7141f0af3524650b915ce9c8bc53e65",
       "version_major": 2,
       "version_minor": 0
      },
      "text/plain": [
       "Possible clusters:   0%|          | 0/220 [00:00<?, ?it/s]"
      ]
     },
     "metadata": {},
     "output_type": "display_data"
    },
    {
     "data": {
      "application/vnd.jupyter.widget-view+json": {
       "model_id": "4398c33dbcf947d394115887f512fbea",
       "version_major": 2,
       "version_minor": 0
      },
      "text/plain": [
       "Possible clusters:   0%|          | 0/28 [00:00<?, ?it/s]"
      ]
     },
     "metadata": {},
     "output_type": "display_data"
    },
    {
     "data": {
      "application/vnd.jupyter.widget-view+json": {
       "model_id": "d9f438d247c143c3b15dc2990b96ae88",
       "version_major": 2,
       "version_minor": 0
      },
      "text/plain": [
       "Possible clusters:   0%|          | 0/15 [00:00<?, ?it/s]"
      ]
     },
     "metadata": {},
     "output_type": "display_data"
    },
    {
     "data": {
      "application/vnd.jupyter.widget-view+json": {
       "model_id": "7f5dc1c70d334259a2ec32d96ed15034",
       "version_major": 2,
       "version_minor": 0
      },
      "text/plain": [
       "Possible clusters:   0%|          | 0/6 [00:00<?, ?it/s]"
      ]
     },
     "metadata": {},
     "output_type": "display_data"
    },
    {
     "data": {
      "application/vnd.jupyter.widget-view+json": {
       "model_id": "4a12354c90484e2ba33885cd9baf9af8",
       "version_major": 2,
       "version_minor": 0
      },
      "text/plain": [
       "Possible clusters:   0%|          | 0/6175 [00:00<?, ?it/s]"
      ]
     },
     "metadata": {},
     "output_type": "display_data"
    },
    {
     "data": {
      "application/vnd.jupyter.widget-view+json": {
       "model_id": "80db81fd455f474289041f3049ddb16a",
       "version_major": 2,
       "version_minor": 0
      },
      "text/plain": [
       "Possible clusters:   0%|          | 0/2500 [00:00<?, ?it/s]"
      ]
     },
     "metadata": {},
     "output_type": "display_data"
    },
    {
     "data": {
      "application/vnd.jupyter.widget-view+json": {
       "model_id": "b937b8d61fd54dc68fb198104b9cb221",
       "version_major": 2,
       "version_minor": 0
      },
      "text/plain": [
       "Possible clusters:   0%|          | 0/286 [00:00<?, ?it/s]"
      ]
     },
     "metadata": {},
     "output_type": "display_data"
    },
    {
     "data": {
      "application/vnd.jupyter.widget-view+json": {
       "model_id": "0d51ee640a984d7ba2d1832bb4368cc3",
       "version_major": 2,
       "version_minor": 0
      },
      "text/plain": [
       "Possible clusters:   0%|          | 0/120 [00:00<?, ?it/s]"
      ]
     },
     "metadata": {},
     "output_type": "display_data"
    },
    {
     "data": {
      "application/vnd.jupyter.widget-view+json": {
       "model_id": "dbd5eaaf2322488896de5a9dbb990775",
       "version_major": 2,
       "version_minor": 0
      },
      "text/plain": [
       "Possible clusters:   0%|          | 0/15 [00:00<?, ?it/s]"
      ]
     },
     "metadata": {},
     "output_type": "display_data"
    },
    {
     "data": {
      "application/vnd.jupyter.widget-view+json": {
       "model_id": "72343f554aeb41c6bb037546ec3e8881",
       "version_major": 2,
       "version_minor": 0
      },
      "text/plain": [
       "Possible clusters:   0%|          | 0/6 [00:00<?, ?it/s]"
      ]
     },
     "metadata": {},
     "output_type": "display_data"
    },
    {
     "data": {
      "application/vnd.jupyter.widget-view+json": {
       "model_id": "12ddcb3988714b0bbe0ae0201eb1e822",
       "version_major": 2,
       "version_minor": 0
      },
      "text/plain": [
       "Possible clusters:   0%|          | 0/10879 [00:00<?, ?it/s]"
      ]
     },
     "metadata": {},
     "output_type": "display_data"
    },
    {
     "data": {
      "application/vnd.jupyter.widget-view+json": {
       "model_id": "f0746b34c20241988b3d5a57196fd47c",
       "version_major": 2,
       "version_minor": 0
      },
      "text/plain": [
       "Possible clusters:   0%|          | 0/7525 [00:00<?, ?it/s]"
      ]
     },
     "metadata": {},
     "output_type": "display_data"
    },
    {
     "data": {
      "application/vnd.jupyter.widget-view+json": {
       "model_id": "986419bedec444319fd86c160ad1d621",
       "version_major": 2,
       "version_minor": 0
      },
      "text/plain": [
       "Possible clusters:   0%|          | 0/3196 [00:00<?, ?it/s]"
      ]
     },
     "metadata": {},
     "output_type": "display_data"
    },
    {
     "data": {
      "application/vnd.jupyter.widget-view+json": {
       "model_id": "63856c5d14c447dd822ec34c9edea6e0",
       "version_major": 2,
       "version_minor": 0
      },
      "text/plain": [
       "Possible clusters:   0%|          | 0/364 [00:00<?, ?it/s]"
      ]
     },
     "metadata": {},
     "output_type": "display_data"
    },
    {
     "data": {
      "application/vnd.jupyter.widget-view+json": {
       "model_id": "2ae3075f4f3b40caab626c3a667c481a",
       "version_major": 2,
       "version_minor": 0
      },
      "text/plain": [
       "Possible clusters:   0%|          | 0/165 [00:00<?, ?it/s]"
      ]
     },
     "metadata": {},
     "output_type": "display_data"
    },
    {
     "data": {
      "application/vnd.jupyter.widget-view+json": {
       "model_id": "cf9c4d98040d4091b5b006751359713b",
       "version_major": 2,
       "version_minor": 0
      },
      "text/plain": [
       "Possible clusters:   0%|          | 0/21 [00:00<?, ?it/s]"
      ]
     },
     "metadata": {},
     "output_type": "display_data"
    },
    {
     "data": {
      "application/vnd.jupyter.widget-view+json": {
       "model_id": "c0050e3e8e2043a582378c06230f590d",
       "version_major": 2,
       "version_minor": 0
      },
      "text/plain": [
       "Possible clusters:   0%|          | 0/10 [00:00<?, ?it/s]"
      ]
     },
     "metadata": {},
     "output_type": "display_data"
    },
    {
     "data": {
      "application/vnd.jupyter.widget-view+json": {
       "model_id": "35a1a18d1b9a4b3bb26f2d061e11c2fb",
       "version_major": 2,
       "version_minor": 0
      },
      "text/plain": [
       "Possible clusters:   0%|          | 0/83655 [00:00<?, ?it/s]"
      ]
     },
     "metadata": {},
     "output_type": "display_data"
    },
    {
     "data": {
      "application/vnd.jupyter.widget-view+json": {
       "model_id": "b3c3549fe8db40d1a67eab39511ddb9f",
       "version_major": 2,
       "version_minor": 0
      },
      "text/plain": [
       "Possible clusters:   0%|          | 0/7525 [00:00<?, ?it/s]"
      ]
     },
     "metadata": {},
     "output_type": "display_data"
    },
    {
     "data": {
      "application/vnd.jupyter.widget-view+json": {
       "model_id": "6e9a592b28464199b6d6f59e17e07c61",
       "version_major": 2,
       "version_minor": 0
      },
      "text/plain": [
       "Possible clusters:   0%|          | 0/3196 [00:00<?, ?it/s]"
      ]
     },
     "metadata": {},
     "output_type": "display_data"
    },
    {
     "data": {
      "application/vnd.jupyter.widget-view+json": {
       "model_id": "8a9bc16d579842a3bb7f609d07330166",
       "version_major": 2,
       "version_minor": 0
      },
      "text/plain": [
       "Possible clusters:   0%|          | 0/364 [00:00<?, ?it/s]"
      ]
     },
     "metadata": {},
     "output_type": "display_data"
    },
    {
     "data": {
      "application/vnd.jupyter.widget-view+json": {
       "model_id": "fd6d72ecddad420c839ceb105bb83226",
       "version_major": 2,
       "version_minor": 0
      },
      "text/plain": [
       "Possible clusters:   0%|          | 0/165 [00:00<?, ?it/s]"
      ]
     },
     "metadata": {},
     "output_type": "display_data"
    },
    {
     "data": {
      "application/vnd.jupyter.widget-view+json": {
       "model_id": "f44292cd91214e34ae1eccd1bcb0a03b",
       "version_major": 2,
       "version_minor": 0
      },
      "text/plain": [
       "Possible clusters:   0%|          | 0/21 [00:00<?, ?it/s]"
      ]
     },
     "metadata": {},
     "output_type": "display_data"
    },
    {
     "data": {
      "application/vnd.jupyter.widget-view+json": {
       "model_id": "53998849fc2b4e1b8f00ab3cad1bcb91",
       "version_major": 2,
       "version_minor": 0
      },
      "text/plain": [
       "Possible clusters:   0%|          | 0/10 [00:00<?, ?it/s]"
      ]
     },
     "metadata": {},
     "output_type": "display_data"
    },
    {
     "data": {
      "application/vnd.jupyter.widget-view+json": {
       "model_id": "6c17bf4664f14c4a827df0851a91ecc4",
       "version_major": 2,
       "version_minor": 0
      },
      "text/plain": [
       "Possible clusters:   0%|          | 0/7525 [00:00<?, ?it/s]"
      ]
     },
     "metadata": {},
     "output_type": "display_data"
    },
    {
     "data": {
      "application/vnd.jupyter.widget-view+json": {
       "model_id": "76cf03fa92124506af77d45e6140881b",
       "version_major": 2,
       "version_minor": 0
      },
      "text/plain": [
       "Possible clusters:   0%|          | 0/3196 [00:00<?, ?it/s]"
      ]
     },
     "metadata": {},
     "output_type": "display_data"
    },
    {
     "data": {
      "application/vnd.jupyter.widget-view+json": {
       "model_id": "6eff8111163c41f8952d37f2cb6d8232",
       "version_major": 2,
       "version_minor": 0
      },
      "text/plain": [
       "Possible clusters:   0%|          | 0/364 [00:00<?, ?it/s]"
      ]
     },
     "metadata": {},
     "output_type": "display_data"
    },
    {
     "data": {
      "application/vnd.jupyter.widget-view+json": {
       "model_id": "c73993b652c04bce9db95e63be458fe8",
       "version_major": 2,
       "version_minor": 0
      },
      "text/plain": [
       "Possible clusters:   0%|          | 0/220 [00:00<?, ?it/s]"
      ]
     },
     "metadata": {},
     "output_type": "display_data"
    },
    {
     "data": {
      "application/vnd.jupyter.widget-view+json": {
       "model_id": "ab1032c40bb34c33ae70f0677b89e554",
       "version_major": 2,
       "version_minor": 0
      },
      "text/plain": [
       "Possible clusters:   0%|          | 0/28 [00:00<?, ?it/s]"
      ]
     },
     "metadata": {},
     "output_type": "display_data"
    },
    {
     "data": {
      "application/vnd.jupyter.widget-view+json": {
       "model_id": "e06b5d8ec7fe49e58a3b7b30203d47fc",
       "version_major": 2,
       "version_minor": 0
      },
      "text/plain": [
       "Possible clusters:   0%|          | 0/15 [00:00<?, ?it/s]"
      ]
     },
     "metadata": {},
     "output_type": "display_data"
    },
    {
     "data": {
      "application/vnd.jupyter.widget-view+json": {
       "model_id": "ad61074ff657477d85a06c72b411e435",
       "version_major": 2,
       "version_minor": 0
      },
      "text/plain": [
       "Possible clusters:   0%|          | 0/6 [00:00<?, ?it/s]"
      ]
     },
     "metadata": {},
     "output_type": "display_data"
    },
    {
     "data": {
      "application/vnd.jupyter.widget-view+json": {
       "model_id": "16b4d1374bc8411081added5f32801cc",
       "version_major": 2,
       "version_minor": 0
      },
      "text/plain": [
       "Possible clusters:   0%|          | 0/7525 [00:00<?, ?it/s]"
      ]
     },
     "metadata": {},
     "output_type": "display_data"
    },
    {
     "data": {
      "application/vnd.jupyter.widget-view+json": {
       "model_id": "336886f97e114ee8bf20d9e41cb9c9ba",
       "version_major": 2,
       "version_minor": 0
      },
      "text/plain": [
       "Possible clusters:   0%|          | 0/3196 [00:00<?, ?it/s]"
      ]
     },
     "metadata": {},
     "output_type": "display_data"
    },
    {
     "data": {
      "application/vnd.jupyter.widget-view+json": {
       "model_id": "401b689d6570464e9ffcb96ed0a09ee7",
       "version_major": 2,
       "version_minor": 0
      },
      "text/plain": [
       "Possible clusters:   0%|          | 0/364 [00:00<?, ?it/s]"
      ]
     },
     "metadata": {},
     "output_type": "display_data"
    },
    {
     "data": {
      "application/vnd.jupyter.widget-view+json": {
       "model_id": "5d2dd21cf60247549d6e9e952b398064",
       "version_major": 2,
       "version_minor": 0
      },
      "text/plain": [
       "Possible clusters:   0%|          | 0/165 [00:00<?, ?it/s]"
      ]
     },
     "metadata": {},
     "output_type": "display_data"
    },
    {
     "data": {
      "application/vnd.jupyter.widget-view+json": {
       "model_id": "de96e82452784e2e8e5fafda6cc7124c",
       "version_major": 2,
       "version_minor": 0
      },
      "text/plain": [
       "Possible clusters:   0%|          | 0/21 [00:00<?, ?it/s]"
      ]
     },
     "metadata": {},
     "output_type": "display_data"
    },
    {
     "data": {
      "application/vnd.jupyter.widget-view+json": {
       "model_id": "8958b8b0f7db4215984c13b058555439",
       "version_major": 2,
       "version_minor": 0
      },
      "text/plain": [
       "Possible clusters:   0%|          | 0/10 [00:00<?, ?it/s]"
      ]
     },
     "metadata": {},
     "output_type": "display_data"
    },
    {
     "data": {
      "application/vnd.jupyter.widget-view+json": {
       "model_id": "13e2ab996e22473eb7dcac34cef9b389",
       "version_major": 2,
       "version_minor": 0
      },
      "text/plain": [
       "Possible clusters:   0%|          | 0/6175 [00:00<?, ?it/s]"
      ]
     },
     "metadata": {},
     "output_type": "display_data"
    },
    {
     "data": {
      "application/vnd.jupyter.widget-view+json": {
       "model_id": "321a287228de42049370e89b435695df",
       "version_major": 2,
       "version_minor": 0
      },
      "text/plain": [
       "Possible clusters:   0%|          | 0/2500 [00:00<?, ?it/s]"
      ]
     },
     "metadata": {},
     "output_type": "display_data"
    },
    {
     "data": {
      "application/vnd.jupyter.widget-view+json": {
       "model_id": "a0746380cea44bbb8e9b6ccf69fab503",
       "version_major": 2,
       "version_minor": 0
      },
      "text/plain": [
       "Possible clusters:   0%|          | 0/286 [00:00<?, ?it/s]"
      ]
     },
     "metadata": {},
     "output_type": "display_data"
    },
    {
     "data": {
      "application/vnd.jupyter.widget-view+json": {
       "model_id": "18969ee178b44beca9606b2b81acfc7a",
       "version_major": 2,
       "version_minor": 0
      },
      "text/plain": [
       "Possible clusters:   0%|          | 0/120 [00:00<?, ?it/s]"
      ]
     },
     "metadata": {},
     "output_type": "display_data"
    },
    {
     "data": {
      "application/vnd.jupyter.widget-view+json": {
       "model_id": "b07b9e0be8de43cd99234dc75bff98d4",
       "version_major": 2,
       "version_minor": 0
      },
      "text/plain": [
       "Possible clusters:   0%|          | 0/21 [00:00<?, ?it/s]"
      ]
     },
     "metadata": {},
     "output_type": "display_data"
    },
    {
     "data": {
      "application/vnd.jupyter.widget-view+json": {
       "model_id": "d5edf61d0c6b48e596f086249231b6f8",
       "version_major": 2,
       "version_minor": 0
      },
      "text/plain": [
       "Possible clusters:   0%|          | 0/10 [00:00<?, ?it/s]"
      ]
     },
     "metadata": {},
     "output_type": "display_data"
    },
    {
     "data": {
      "application/vnd.jupyter.widget-view+json": {
       "model_id": "09196b0457c3410ca7a6b04eb46c0c6c",
       "version_major": 2,
       "version_minor": 0
      },
      "text/plain": [
       "Possible clusters:   0%|          | 0/6175 [00:00<?, ?it/s]"
      ]
     },
     "metadata": {},
     "output_type": "display_data"
    },
    {
     "data": {
      "application/vnd.jupyter.widget-view+json": {
       "model_id": "0f9bb94049aa43c8b29dbcccd9687f52",
       "version_major": 2,
       "version_minor": 0
      },
      "text/plain": [
       "Possible clusters:   0%|          | 0/2500 [00:00<?, ?it/s]"
      ]
     },
     "metadata": {},
     "output_type": "display_data"
    },
    {
     "data": {
      "application/vnd.jupyter.widget-view+json": {
       "model_id": "e7e0824f604548edb94bdc27bd802135",
       "version_major": 2,
       "version_minor": 0
      },
      "text/plain": [
       "Possible clusters:   0%|          | 0/286 [00:00<?, ?it/s]"
      ]
     },
     "metadata": {},
     "output_type": "display_data"
    },
    {
     "data": {
      "application/vnd.jupyter.widget-view+json": {
       "model_id": "26513ac510b84a098c66016903cc22e5",
       "version_major": 2,
       "version_minor": 0
      },
      "text/plain": [
       "Possible clusters:   0%|          | 0/120 [00:00<?, ?it/s]"
      ]
     },
     "metadata": {},
     "output_type": "display_data"
    },
    {
     "data": {
      "application/vnd.jupyter.widget-view+json": {
       "model_id": "bec58d9ee626450e9098c4af9718649b",
       "version_major": 2,
       "version_minor": 0
      },
      "text/plain": [
       "Possible clusters:   0%|          | 0/15 [00:00<?, ?it/s]"
      ]
     },
     "metadata": {},
     "output_type": "display_data"
    },
    {
     "data": {
      "application/vnd.jupyter.widget-view+json": {
       "model_id": "81822a749f9b4a68b4e8dc736dbc5acb",
       "version_major": 2,
       "version_minor": 0
      },
      "text/plain": [
       "Possible clusters:   0%|          | 0/6 [00:00<?, ?it/s]"
      ]
     },
     "metadata": {},
     "output_type": "display_data"
    },
    {
     "data": {
      "application/vnd.jupyter.widget-view+json": {
       "model_id": "869a95618be549588107993a58c42e37",
       "version_major": 2,
       "version_minor": 0
      },
      "text/plain": [
       "Possible clusters:   0%|          | 0/12926 [00:00<?, ?it/s]"
      ]
     },
     "metadata": {},
     "output_type": "display_data"
    },
    {
     "data": {
      "application/vnd.jupyter.widget-view+json": {
       "model_id": "89da310db6d94cb29e92158b68b477da",
       "version_major": 2,
       "version_minor": 0
      },
      "text/plain": [
       "Possible clusters:   0%|          | 0/6175 [00:00<?, ?it/s]"
      ]
     },
     "metadata": {},
     "output_type": "display_data"
    },
    {
     "data": {
      "application/vnd.jupyter.widget-view+json": {
       "model_id": "89d9fc7894fc451e9e6df8aadf90dd9f",
       "version_major": 2,
       "version_minor": 0
      },
      "text/plain": [
       "Possible clusters:   0%|          | 0/2500 [00:00<?, ?it/s]"
      ]
     },
     "metadata": {},
     "output_type": "display_data"
    },
    {
     "data": {
      "application/vnd.jupyter.widget-view+json": {
       "model_id": "447e5803fd3342d4a304ace26d5fe5ad",
       "version_major": 2,
       "version_minor": 0
      },
      "text/plain": [
       "Possible clusters:   0%|          | 0/286 [00:00<?, ?it/s]"
      ]
     },
     "metadata": {},
     "output_type": "display_data"
    },
    {
     "data": {
      "application/vnd.jupyter.widget-view+json": {
       "model_id": "b7f402ba610245ccbc2e484085bd8325",
       "version_major": 2,
       "version_minor": 0
      },
      "text/plain": [
       "Possible clusters:   0%|          | 0/120 [00:00<?, ?it/s]"
      ]
     },
     "metadata": {},
     "output_type": "display_data"
    },
    {
     "data": {
      "application/vnd.jupyter.widget-view+json": {
       "model_id": "a7b2d7e2a0cd4cf599f1bac249556fd2",
       "version_major": 2,
       "version_minor": 0
      },
      "text/plain": [
       "Possible clusters:   0%|          | 0/15 [00:00<?, ?it/s]"
      ]
     },
     "metadata": {},
     "output_type": "display_data"
    },
    {
     "data": {
      "application/vnd.jupyter.widget-view+json": {
       "model_id": "12e78a25bab4445b8c809fc2650cf26e",
       "version_major": 2,
       "version_minor": 0
      },
      "text/plain": [
       "Possible clusters:   0%|          | 0/6 [00:00<?, ?it/s]"
      ]
     },
     "metadata": {},
     "output_type": "display_data"
    }
   ],
   "source": [
    "import pandas as pd\n",
    "import torch\n",
    "import numpy as np\n",
    "\n",
    "# Load data\n",
    "df = pd.read_csv('data/ielexData.csv')\n",
    "\n",
    "# Create IPA to ID mapping\n",
    "import joblib\n",
    "ipa_embedder = joblib.load(\"data/embeddings/34.joblib\")\n",
    "ipa_to_ids = ipa_embedder.char_to_idx\n",
    "\n",
    "# Example of using the modular approach:\n",
    "from transformer_stuff import TransformerCognateModel\n",
    "model = torch.load('TransformerCognateModel_34.pt', weights_only=False)\n",
    "device = torch.device('cuda' if torch.cuda.is_available() else 'cpu')\n",
    "model.to(device)\n",
    "\n",
    "# Process a single meaning group\n",
    "# meaning = 'few'\n",
    "# if meaning in groupings:\n",
    "#     word_array, cognate_labels = groupings[meaning]\n",
    "#     clusters = cluster_grouping(word_array, model, device)\n",
    "#     results = evaluate_clusters(clusters, cognate_labels, meaning)\n",
    "#     print(f\"Results for '{meaning}': {results}\")\n",
    "\n",
    "# Or process all meanings\n",
    "all_results = cluster_and_evaluate_all_meanings(df, model, ipa_to_ids, device)"
   ]
  },
  {
   "cell_type": "code",
   "execution_count": 3,
   "metadata": {},
   "outputs": [
    {
     "name": "stdout",
     "output_type": "stream",
     "text": [
      "\n",
      "Overall average accuracy: 0.686\n"
     ]
    }
   ],
   "source": [
    "accuracies = [r['accuracy'] for r in all_results.values()]\n",
    "print(f\"\\nOverall average accuracy: {np.mean(accuracies):.3f}\")"
   ]
  },
  {
   "cell_type": "code",
   "execution_count": 4,
   "metadata": {},
   "outputs": [
    {
     "data": {
      "image/png": "[encoded data removed]",
      "text/plain": [
       "<Figure size 400x100 with 1 Axes>"
      ]
     },
     "metadata": {},
     "output_type": "display_data"
    }
   ],
   "source": [
    "import matplotlib.pyplot as plt\n",
    "from visualization_stuff import show_box_plot\n",
    "\n",
    "accuracies = [r['accuracy'] for r in all_results.values()]\n",
    "\n",
    "show_box_plot(accuracies, title=\"IELEX Clustering Accuracies\")"
   ]
  }
 ],
 "metadata": {
  "kernelspec": {
   "display_name": ".venv",
   "language": "python",
   "name": "python3"
  },
  "language_info": {
   "codemirror_mode": {
    "name": "ipython",
    "version": 3
   },
   "file_extension": ".py",
   "mimetype": "text/x-python",
   "name": "python",
   "nbconvert_exporter": "python",
   "pygments_lexer": "ipython3",
   "version": "3.12.4"
  }
 },
 "nbformat": 4,
 "nbformat_minor": 2
}
