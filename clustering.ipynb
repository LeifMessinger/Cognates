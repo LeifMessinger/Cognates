{
 "cells": [
  {
   "cell_type": "code",
   "execution_count": 1,
   "metadata": {},
   "outputs": [],
   "source": [
    "from graph_stuff import generate_all_clusters, score_cluster, create_groupings, evaluate_clusters\n",
    "\n",
    "def find_best_clustering(adj_matrix, conductance_weight=0.5, density_weight=0.5):\n",
    "    \"\"\"Find the best clustering using greedy approach.\"\"\"\n",
    "    n_nodes = adj_matrix.shape[0]\n",
    "    available_nodes = list(range(n_nodes))\n",
    "    clusters = []\n",
    "    \n",
    "    while len(available_nodes) > 1:\n",
    "        import math\n",
    "        max_cluster_size = min(math.floor(math.sqrt(len(available_nodes))), 7)\n",
    "        if max_cluster_size < 2:\n",
    "            break\n",
    "        \n",
    "        # Generate all possible clusters\n",
    "        possible_clusters = generate_all_clusters(available_nodes, max_cluster_size)\n",
    "        \n",
    "        best_cluster = None\n",
    "        best_score = -1\n",
    "        \n",
    "        # Find best cluster\n",
    "        from tqdm.notebook import tqdm\n",
    "        for cluster in tqdm(possible_clusters, desc=\"Possible clusters\", leave=False):\n",
    "            score = score_cluster(cluster, adj_matrix, conductance_weight, density_weight)\n",
    "            if score > best_score:\n",
    "                best_score = score\n",
    "                best_cluster = cluster\n",
    "        \n",
    "        if best_cluster is None or best_score <= 0:\n",
    "            break\n",
    "        \n",
    "        # Add best cluster and remove its nodes from available\n",
    "        clusters.append(best_cluster)\n",
    "        available_nodes = [node for node in available_nodes if node not in best_cluster]\n",
    "    \n",
    "    # Add remaining nodes as singleton clusters\n",
    "    for node in available_nodes:\n",
    "        clusters.append([node])\n",
    "    \n",
    "    return clusters\n",
    "\n",
    "def cluster_grouping(word_array, model, device='cpu'):\n",
    "    \"\"\"\n",
    "    Cluster a group of words using the model to create adjacency matrix.\n",
    "    \n",
    "    Args:\n",
    "        word_array: List of tensors representing IPA words\n",
    "        model: Trained transformer model\n",
    "        device: Device to run model on\n",
    "    \n",
    "    Returns:\n",
    "        List of clusters, where each cluster is a list of indices\n",
    "    \"\"\"\n",
    "    n_words = len(word_array)\n",
    "    \n",
    "    # Create adjacency matrix\n",
    "    adj_matrix = torch.zeros((n_words, n_words))\n",
    "    \n",
    "    model.eval()\n",
    "    with torch.no_grad():\n",
    "        for i in range(n_words):\n",
    "            for j in range(i+1, n_words):\n",
    "                # Create word pair tensor\n",
    "                word_pair = torch.stack([word_array[i], word_array[j]], dim=0).unsqueeze(0).to(device)\n",
    "                \n",
    "                # Create masks (True for padding tokens)\n",
    "                mask1 = (word_array[i] == 0).unsqueeze(0).to(device)\n",
    "                mask2 = (word_array[j] == 0).unsqueeze(0).to(device)\n",
    "                word_pair_masks = torch.stack([mask1, mask2], dim=1).to(device)\n",
    "                \n",
    "                # Get similarity score\n",
    "                similarity = model(word_pair, word_pair_masks).item()\n",
    "                \n",
    "                # Fill both triangles of the matrix\n",
    "                adj_matrix[i, j] = similarity\n",
    "                adj_matrix[j, i] = similarity\n",
    "\n",
    "    # Find best clustering\n",
    "    predicted_clusters = find_best_clustering(adj_matrix)\n",
    "    \n",
    "    return predicted_clusters\n",
    "\n",
    "def cluster_and_evaluate_all_meanings(df, model, ipa_to_ids, device='cpu'):\n",
    "    \"\"\"Process all word meanings and evaluate clustering using the modular approach.\"\"\"\n",
    "    # Step 1: Preprocessing\n",
    "    groupings = create_groupings(df, ipa_to_ids)\n",
    "    \n",
    "    results = {}\n",
    "    \n",
    "    # Step 2 & 3: Clustering and Evaluation\n",
    "    from tqdm.notebook import tqdm\n",
    "    for meaning, (word_array, cognate_class_label_array) in tqdm(groupings.items(), total=len(groupings), desc=\"Groupings\"):\n",
    "        #print(f\"\\nProcessing meaning: {meaning}\")\n",
    "        #print(f\"Number of words: {len(word_array)}\")\n",
    "        \n",
    "        # Step 2: Clustering\n",
    "        predicted_clusters = cluster_grouping(word_array, model, device)\n",
    "        \n",
    "        # Step 3: Evaluation\n",
    "        evaluation_results = evaluate_clusters(predicted_clusters, cognate_class_label_array, meaning)\n",
    "        \n",
    "        results[meaning] = evaluation_results\n",
    "        \n",
    "        #print(f\"Predicted clusters: {predicted_clusters}\")\n",
    "        #print(f\"True classes: {cognate_class_label_array}\")\n",
    "        #print(f\"Accuracy: {evaluation_results['accuracy']:.3f}\")\n",
    "    \n",
    "    return results"
   ]
  },
  {
   "cell_type": "code",
   "execution_count": 2,
   "metadata": {},
   "outputs": [
    {
     "data": {
      "application/vnd.jupyter.widget-view+json": {
       "model_id": "6dd147dec78b464abedd74de3e6c4735",
       "version_major": 2,
       "version_minor": 0
      },
      "text/plain": [
       "Groupings:   0%|          | 0/208 [00:00<?, ?it/s]"
      ]
     },
     "metadata": {},
     "output_type": "display_data"
    },
    {
     "name": "stderr",
     "output_type": "stream",
     "text": [
      "c:\\Users\\lsm0147\\Documents\\Cognates\\.venv\\Lib\\site-packages\\torch\\nn\\modules\\transformer.py:505: UserWarning: The PyTorch API of nested tensors is in prototype stage and will change in the near future. We recommend specifying layout=torch.jagged when constructing a nested tensor, as this layout receives active development, has better operator coverage, and works with torch.compile. (Triggered internally at C:\\actions-runner\\_work\\pytorch\\pytorch\\pytorch\\aten\\src\\ATen\\NestedTensorImpl.cpp:182.)\n",
      "  output = torch._nested_tensor_from_mask(\n"
     ]
    },
    {
     "data": {
      "application/vnd.jupyter.widget-view+json": {
       "model_id": "31607990061a4692bf6f10b90db131a8",
       "version_major": 2,
       "version_minor": 0
      },
      "text/plain": [
       "Possible clusters:   0%|          | 0/12926 [00:00<?, ?it/s]"
      ]
     },
     "metadata": {},
     "output_type": "display_data"
    },
    {
     "data": {
      "application/vnd.jupyter.widget-view+json": {
       "model_id": "f8e9139d497849c7833942fce2d25ec5",
       "version_major": 2,
       "version_minor": 0
      },
      "text/plain": [
       "Possible clusters:   0%|          | 0/6175 [00:00<?, ?it/s]"
      ]
     },
     "metadata": {},
     "output_type": "display_data"
    },
    {
     "data": {
      "application/vnd.jupyter.widget-view+json": {
       "model_id": "99f1b4576c754ca381b37bff1bf1c126",
       "version_major": 2,
       "version_minor": 0
      },
      "text/plain": [
       "Possible clusters:   0%|          | 0/2500 [00:00<?, ?it/s]"
      ]
     },
     "metadata": {},
     "output_type": "display_data"
    },
    {
     "data": {
      "application/vnd.jupyter.widget-view+json": {
       "model_id": "03d6b75cba6a45439b1b46ba10e024eb",
       "version_major": 2,
       "version_minor": 0
      },
      "text/plain": [
       "Possible clusters:   0%|          | 0/286 [00:00<?, ?it/s]"
      ]
     },
     "metadata": {},
     "output_type": "display_data"
    },
    {
     "data": {
      "application/vnd.jupyter.widget-view+json": {
       "model_id": "e6f51a7452e5425fbfabaaeed6b53504",
       "version_major": 2,
       "version_minor": 0
      },
      "text/plain": [
       "Possible clusters:   0%|          | 0/120 [00:00<?, ?it/s]"
      ]
     },
     "metadata": {},
     "output_type": "display_data"
    },
    {
     "data": {
      "application/vnd.jupyter.widget-view+json": {
       "model_id": "37cb4b7acbf4448c981632918a6fea27",
       "version_major": 2,
       "version_minor": 0
      },
      "text/plain": [
       "Possible clusters:   0%|          | 0/15 [00:00<?, ?it/s]"
      ]
     },
     "metadata": {},
     "output_type": "display_data"
    },
    {
     "data": {
      "application/vnd.jupyter.widget-view+json": {
       "model_id": "c7dd1644cd674a9cb72623b4cf3af892",
       "version_major": 2,
       "version_minor": 0
      },
      "text/plain": [
       "Possible clusters:   0%|          | 0/6 [00:00<?, ?it/s]"
      ]
     },
     "metadata": {},
     "output_type": "display_data"
    },
    {
     "data": {
      "application/vnd.jupyter.widget-view+json": {
       "model_id": "f66630fe10f94339ade318be7a4e9b54",
       "version_major": 2,
       "version_minor": 0
      },
      "text/plain": [
       "Possible clusters:   0%|          | 0/6175 [00:00<?, ?it/s]"
      ]
     },
     "metadata": {},
     "output_type": "display_data"
    },
    {
     "data": {
      "application/vnd.jupyter.widget-view+json": {
       "model_id": "dd4124acfcec49f580f09958d43f507f",
       "version_major": 2,
       "version_minor": 0
      },
      "text/plain": [
       "Possible clusters:   0%|          | 0/2500 [00:00<?, ?it/s]"
      ]
     },
     "metadata": {},
     "output_type": "display_data"
    },
    {
     "data": {
      "application/vnd.jupyter.widget-view+json": {
       "model_id": "7045a2134e674b6f8fa3b0904227a544",
       "version_major": 2,
       "version_minor": 0
      },
      "text/plain": [
       "Possible clusters:   0%|          | 0/286 [00:00<?, ?it/s]"
      ]
     },
     "metadata": {},
     "output_type": "display_data"
    },
    {
     "data": {
      "application/vnd.jupyter.widget-view+json": {
       "model_id": "029be49a333f4de8ade83e3ec62ba84c",
       "version_major": 2,
       "version_minor": 0
      },
      "text/plain": [
       "Possible clusters:   0%|          | 0/120 [00:00<?, ?it/s]"
      ]
     },
     "metadata": {},
     "output_type": "display_data"
    },
    {
     "data": {
      "application/vnd.jupyter.widget-view+json": {
       "model_id": "285f0b20352a41118126498459534c25",
       "version_major": 2,
       "version_minor": 0
      },
      "text/plain": [
       "Possible clusters:   0%|          | 0/15 [00:00<?, ?it/s]"
      ]
     },
     "metadata": {},
     "output_type": "display_data"
    },
    {
     "data": {
      "application/vnd.jupyter.widget-view+json": {
       "model_id": "bfe5c6304aa74227a82d3d6ee3b28702",
       "version_major": 2,
       "version_minor": 0
      },
      "text/plain": [
       "Possible clusters:   0%|          | 0/6 [00:00<?, ?it/s]"
      ]
     },
     "metadata": {},
     "output_type": "display_data"
    },
    {
     "data": {
      "application/vnd.jupyter.widget-view+json": {
       "model_id": "7a5406ed87534645ac37314e795d201b",
       "version_major": 2,
       "version_minor": 0
      },
      "text/plain": [
       "Possible clusters:   0%|          | 0/9086 [00:00<?, ?it/s]"
      ]
     },
     "metadata": {},
     "output_type": "display_data"
    },
    {
     "data": {
      "application/vnd.jupyter.widget-view+json": {
       "model_id": "869f63cbe8fc419588665f409571bae3",
       "version_major": 2,
       "version_minor": 0
      },
      "text/plain": [
       "Possible clusters:   0%|          | 0/4029 [00:00<?, ?it/s]"
      ]
     },
     "metadata": {},
     "output_type": "display_data"
    },
    {
     "data": {
      "application/vnd.jupyter.widget-view+json": {
       "model_id": "d72ea364a90c4a26b7ce9a612d04ea2f",
       "version_major": 2,
       "version_minor": 0
      },
      "text/plain": [
       "Possible clusters:   0%|          | 0/455 [00:00<?, ?it/s]"
      ]
     },
     "metadata": {},
     "output_type": "display_data"
    },
    {
     "data": {
      "application/vnd.jupyter.widget-view+json": {
       "model_id": "a38fb1a34b7344c786be310fd3dfadf5",
       "version_major": 2,
       "version_minor": 0
      },
      "text/plain": [
       "Possible clusters:   0%|          | 0/220 [00:00<?, ?it/s]"
      ]
     },
     "metadata": {},
     "output_type": "display_data"
    },
    {
     "data": {
      "application/vnd.jupyter.widget-view+json": {
       "model_id": "36bf1e933bad43f4bb95279c1f441ce0",
       "version_major": 2,
       "version_minor": 0
      },
      "text/plain": [
       "Possible clusters:   0%|          | 0/28 [00:00<?, ?it/s]"
      ]
     },
     "metadata": {},
     "output_type": "display_data"
    },
    {
     "data": {
      "application/vnd.jupyter.widget-view+json": {
       "model_id": "b3fa78e7ef6243dcb6acc7ba49d2f3f4",
       "version_major": 2,
       "version_minor": 0
      },
      "text/plain": [
       "Possible clusters:   0%|          | 0/15 [00:00<?, ?it/s]"
      ]
     },
     "metadata": {},
     "output_type": "display_data"
    },
    {
     "data": {
      "application/vnd.jupyter.widget-view+json": {
       "model_id": "706fd9f461ea4d1ab8ef5da653797822",
       "version_major": 2,
       "version_minor": 0
      },
      "text/plain": [
       "Possible clusters:   0%|          | 0/6 [00:00<?, ?it/s]"
      ]
     },
     "metadata": {},
     "output_type": "display_data"
    },
    {
     "data": {
      "application/vnd.jupyter.widget-view+json": {
       "model_id": "bb0b31c93ec64c8dbc9845d36d4aaab4",
       "version_major": 2,
       "version_minor": 0
      },
      "text/plain": [
       "Possible clusters:   0%|          | 0/6175 [00:00<?, ?it/s]"
      ]
     },
     "metadata": {},
     "output_type": "display_data"
    },
    {
     "data": {
      "application/vnd.jupyter.widget-view+json": {
       "model_id": "04d09d3c295249d5ad271cab804fac5a",
       "version_major": 2,
       "version_minor": 0
      },
      "text/plain": [
       "Possible clusters:   0%|          | 0/2500 [00:00<?, ?it/s]"
      ]
     },
     "metadata": {},
     "output_type": "display_data"
    },
    {
     "data": {
      "application/vnd.jupyter.widget-view+json": {
       "model_id": "87bb80666fd7486e8ca5ac6453a5ecba",
       "version_major": 2,
       "version_minor": 0
      },
      "text/plain": [
       "Possible clusters:   0%|          | 0/286 [00:00<?, ?it/s]"
      ]
     },
     "metadata": {},
     "output_type": "display_data"
    },
    {
     "data": {
      "application/vnd.jupyter.widget-view+json": {
       "model_id": "105c349830a4497d961cbc01ec1040c4",
       "version_major": 2,
       "version_minor": 0
      },
      "text/plain": [
       "Possible clusters:   0%|          | 0/120 [00:00<?, ?it/s]"
      ]
     },
     "metadata": {},
     "output_type": "display_data"
    },
    {
     "data": {
      "application/vnd.jupyter.widget-view+json": {
       "model_id": "945a75f9a9a844c99e50cb2091a2149b",
       "version_major": 2,
       "version_minor": 0
      },
      "text/plain": [
       "Possible clusters:   0%|          | 0/15 [00:00<?, ?it/s]"
      ]
     },
     "metadata": {},
     "output_type": "display_data"
    },
    {
     "data": {
      "application/vnd.jupyter.widget-view+json": {
       "model_id": "549bea644f4440cebd87458e433cef00",
       "version_major": 2,
       "version_minor": 0
      },
      "text/plain": [
       "Possible clusters:   0%|          | 0/6 [00:00<?, ?it/s]"
      ]
     },
     "metadata": {},
     "output_type": "display_data"
    },
    {
     "data": {
      "application/vnd.jupyter.widget-view+json": {
       "model_id": "dbc4e8bed9934c31a54099766cfa6515",
       "version_major": 2,
       "version_minor": 0
      },
      "text/plain": [
       "Possible clusters:   0%|          | 0/15 [00:00<?, ?it/s]"
      ]
     },
     "metadata": {},
     "output_type": "display_data"
    },
    {
     "data": {
      "application/vnd.jupyter.widget-view+json": {
       "model_id": "3908c28d2a4f4764963129432757ff4f",
       "version_major": 2,
       "version_minor": 0
      },
      "text/plain": [
       "Possible clusters:   0%|          | 0/6 [00:00<?, ?it/s]"
      ]
     },
     "metadata": {},
     "output_type": "display_data"
    },
    {
     "data": {
      "application/vnd.jupyter.widget-view+json": {
       "model_id": "dc5e9614afb249e58e99c5c2d6b69470",
       "version_major": 2,
       "version_minor": 0
      },
      "text/plain": [
       "Possible clusters:   0%|          | 0/7525 [00:00<?, ?it/s]"
      ]
     },
     "metadata": {},
     "output_type": "display_data"
    },
    {
     "data": {
      "application/vnd.jupyter.widget-view+json": {
       "model_id": "21307a74e35242a5b2cd3099d7ff6864",
       "version_major": 2,
       "version_minor": 0
      },
      "text/plain": [
       "Possible clusters:   0%|          | 0/3196 [00:00<?, ?it/s]"
      ]
     },
     "metadata": {},
     "output_type": "display_data"
    },
    {
     "data": {
      "application/vnd.jupyter.widget-view+json": {
       "model_id": "bae08c7459b0437d8c4ce57e5a292c8e",
       "version_major": 2,
       "version_minor": 0
      },
      "text/plain": [
       "Possible clusters:   0%|          | 0/364 [00:00<?, ?it/s]"
      ]
     },
     "metadata": {},
     "output_type": "display_data"
    },
    {
     "data": {
      "application/vnd.jupyter.widget-view+json": {
       "model_id": "c965b1faae4a4616b7318d9d8fabb910",
       "version_major": 2,
       "version_minor": 0
      },
      "text/plain": [
       "Possible clusters:   0%|          | 0/165 [00:00<?, ?it/s]"
      ]
     },
     "metadata": {},
     "output_type": "display_data"
    },
    {
     "data": {
      "application/vnd.jupyter.widget-view+json": {
       "model_id": "1ee04804250e4dc79f0cb885af6e7377",
       "version_major": 2,
       "version_minor": 0
      },
      "text/plain": [
       "Possible clusters:   0%|          | 0/21 [00:00<?, ?it/s]"
      ]
     },
     "metadata": {},
     "output_type": "display_data"
    },
    {
     "data": {
      "application/vnd.jupyter.widget-view+json": {
       "model_id": "4b061673514a4f2ea9e511fc1d7aeb81",
       "version_major": 2,
       "version_minor": 0
      },
      "text/plain": [
       "Possible clusters:   0%|          | 0/10 [00:00<?, ?it/s]"
      ]
     },
     "metadata": {},
     "output_type": "display_data"
    },
    {
     "data": {
      "application/vnd.jupyter.widget-view+json": {
       "model_id": "0d7ae0cfce464d249a6724f78f8c5627",
       "version_major": 2,
       "version_minor": 0
      },
      "text/plain": [
       "Possible clusters:   0%|          | 0/284240 [00:00<?, ?it/s]"
      ]
     },
     "metadata": {},
     "output_type": "display_data"
    },
    {
     "data": {
      "application/vnd.jupyter.widget-view+json": {
       "model_id": "bf23d789295d4c05ba925cf3901232e8",
       "version_major": 2,
       "version_minor": 0
      },
      "text/plain": [
       "Possible clusters:   0%|          | 0/122409 [00:00<?, ?it/s]"
      ]
     },
     "metadata": {},
     "output_type": "display_data"
    },
    {
     "data": {
      "application/vnd.jupyter.widget-view+json": {
       "model_id": "f50dd7b1deec43bdbf29a58d3a0d0825",
       "version_major": 2,
       "version_minor": 0
      },
      "text/plain": [
       "Possible clusters:   0%|          | 0/10879 [00:00<?, ?it/s]"
      ]
     },
     "metadata": {},
     "output_type": "display_data"
    },
    {
     "data": {
      "application/vnd.jupyter.widget-view+json": {
       "model_id": "a0d23fe12201493589d44d492f929fb5",
       "version_major": 2,
       "version_minor": 0
      },
      "text/plain": [
       "Possible clusters:   0%|          | 0/5016 [00:00<?, ?it/s]"
      ]
     },
     "metadata": {},
     "output_type": "display_data"
    },
    {
     "data": {
      "application/vnd.jupyter.widget-view+json": {
       "model_id": "86a0fa09903545b28b2a479e308c5556",
       "version_major": 2,
       "version_minor": 0
      },
      "text/plain": [
       "Possible clusters:   0%|          | 0/560 [00:00<?, ?it/s]"
      ]
     },
     "metadata": {},
     "output_type": "display_data"
    },
    {
     "data": {
      "application/vnd.jupyter.widget-view+json": {
       "model_id": "751aba40df264fb39720223a20b7ca2e",
       "version_major": 2,
       "version_minor": 0
      },
      "text/plain": [
       "Possible clusters:   0%|          | 0/286 [00:00<?, ?it/s]"
      ]
     },
     "metadata": {},
     "output_type": "display_data"
    },
    {
     "data": {
      "application/vnd.jupyter.widget-view+json": {
       "model_id": "8c6031dd288f4d2bba2e37470b0bfa59",
       "version_major": 2,
       "version_minor": 0
      },
      "text/plain": [
       "Possible clusters:   0%|          | 0/120 [00:00<?, ?it/s]"
      ]
     },
     "metadata": {},
     "output_type": "display_data"
    },
    {
     "data": {
      "application/vnd.jupyter.widget-view+json": {
       "model_id": "49cb4c8f9e4944c8832dae4d8a3200b2",
       "version_major": 2,
       "version_minor": 0
      },
      "text/plain": [
       "Possible clusters:   0%|          | 0/15 [00:00<?, ?it/s]"
      ]
     },
     "metadata": {},
     "output_type": "display_data"
    },
    {
     "data": {
      "application/vnd.jupyter.widget-view+json": {
       "model_id": "ad6a35edd55b428d846411426057996d",
       "version_major": 2,
       "version_minor": 0
      },
      "text/plain": [
       "Possible clusters:   0%|          | 0/6 [00:00<?, ?it/s]"
      ]
     },
     "metadata": {},
     "output_type": "display_data"
    },
    {
     "data": {
      "application/vnd.jupyter.widget-view+json": {
       "model_id": "0b5dfd273b3e4463be625d3bbf3374c5",
       "version_major": 2,
       "version_minor": 0
      },
      "text/plain": [
       "Possible clusters:   0%|          | 0/7525 [00:00<?, ?it/s]"
      ]
     },
     "metadata": {},
     "output_type": "display_data"
    },
    {
     "data": {
      "application/vnd.jupyter.widget-view+json": {
       "model_id": "cc1d39eb48154146b31f40d8abad9954",
       "version_major": 2,
       "version_minor": 0
      },
      "text/plain": [
       "Possible clusters:   0%|          | 0/3196 [00:00<?, ?it/s]"
      ]
     },
     "metadata": {},
     "output_type": "display_data"
    },
    {
     "data": {
      "application/vnd.jupyter.widget-view+json": {
       "model_id": "e03cec6203ca42dcbcee8b8e3d993993",
       "version_major": 2,
       "version_minor": 0
      },
      "text/plain": [
       "Possible clusters:   0%|          | 0/364 [00:00<?, ?it/s]"
      ]
     },
     "metadata": {},
     "output_type": "display_data"
    },
    {
     "data": {
      "application/vnd.jupyter.widget-view+json": {
       "model_id": "5e2526e8854e4a90a91bc1af072f6ae1",
       "version_major": 2,
       "version_minor": 0
      },
      "text/plain": [
       "Possible clusters:   0%|          | 0/165 [00:00<?, ?it/s]"
      ]
     },
     "metadata": {},
     "output_type": "display_data"
    },
    {
     "data": {
      "application/vnd.jupyter.widget-view+json": {
       "model_id": "216e646959404353a8b82bae4449065d",
       "version_major": 2,
       "version_minor": 0
      },
      "text/plain": [
       "Possible clusters:   0%|          | 0/21 [00:00<?, ?it/s]"
      ]
     },
     "metadata": {},
     "output_type": "display_data"
    },
    {
     "data": {
      "application/vnd.jupyter.widget-view+json": {
       "model_id": "8baa02d37828431488c697624c2236d1",
       "version_major": 2,
       "version_minor": 0
      },
      "text/plain": [
       "Possible clusters:   0%|          | 0/10 [00:00<?, ?it/s]"
      ]
     },
     "metadata": {},
     "output_type": "display_data"
    },
    {
     "data": {
      "application/vnd.jupyter.widget-view+json": {
       "model_id": "1f24f85f87c348f39ea0b858deb24abe",
       "version_major": 2,
       "version_minor": 0
      },
      "text/plain": [
       "Possible clusters:   0%|          | 0/146566 [00:00<?, ?it/s]"
      ]
     },
     "metadata": {},
     "output_type": "display_data"
    },
    {
     "data": {
      "application/vnd.jupyter.widget-view+json": {
       "model_id": "c30b4be002574ead977279769e798512",
       "version_major": 2,
       "version_minor": 0
      },
      "text/plain": [
       "Possible clusters:   0%|          | 0/12926 [00:00<?, ?it/s]"
      ]
     },
     "metadata": {},
     "output_type": "display_data"
    },
    {
     "data": {
      "application/vnd.jupyter.widget-view+json": {
       "model_id": "a2dafe6b4a0e41f19e991883a1720026",
       "version_major": 2,
       "version_minor": 0
      },
      "text/plain": [
       "Possible clusters:   0%|          | 0/6175 [00:00<?, ?it/s]"
      ]
     },
     "metadata": {},
     "output_type": "display_data"
    },
    {
     "data": {
      "application/vnd.jupyter.widget-view+json": {
       "model_id": "4182e13d7c2940c8af8849cc255f1f78",
       "version_major": 2,
       "version_minor": 0
      },
      "text/plain": [
       "Possible clusters:   0%|          | 0/2500 [00:00<?, ?it/s]"
      ]
     },
     "metadata": {},
     "output_type": "display_data"
    },
    {
     "data": {
      "application/vnd.jupyter.widget-view+json": {
       "model_id": "4e22794bd05940a883c18d8c8e979676",
       "version_major": 2,
       "version_minor": 0
      },
      "text/plain": [
       "Possible clusters:   0%|          | 0/286 [00:00<?, ?it/s]"
      ]
     },
     "metadata": {},
     "output_type": "display_data"
    },
    {
     "data": {
      "application/vnd.jupyter.widget-view+json": {
       "model_id": "6e3752df858e4374a3d88c1ab99bafea",
       "version_major": 2,
       "version_minor": 0
      },
      "text/plain": [
       "Possible clusters:   0%|          | 0/120 [00:00<?, ?it/s]"
      ]
     },
     "metadata": {},
     "output_type": "display_data"
    },
    {
     "data": {
      "application/vnd.jupyter.widget-view+json": {
       "model_id": "e26bfa4ccd52429da4ba5e53345a5237",
       "version_major": 2,
       "version_minor": 0
      },
      "text/plain": [
       "Possible clusters:   0%|          | 0/15 [00:00<?, ?it/s]"
      ]
     },
     "metadata": {},
     "output_type": "display_data"
    },
    {
     "data": {
      "application/vnd.jupyter.widget-view+json": {
       "model_id": "59c0fee65fdc4a3ab81af1d3b3868c51",
       "version_major": 2,
       "version_minor": 0
      },
      "text/plain": [
       "Possible clusters:   0%|          | 0/6 [00:00<?, ?it/s]"
      ]
     },
     "metadata": {},
     "output_type": "display_data"
    },
    {
     "data": {
      "application/vnd.jupyter.widget-view+json": {
       "model_id": "3d0fd5e306634909bce3f55387b1e198",
       "version_major": 2,
       "version_minor": 0
      },
      "text/plain": [
       "Possible clusters:   0%|          | 0/10879 [00:00<?, ?it/s]"
      ]
     },
     "metadata": {},
     "output_type": "display_data"
    },
    {
     "data": {
      "application/vnd.jupyter.widget-view+json": {
       "model_id": "d1dce86dcb0b42d7bc3029e937555476",
       "version_major": 2,
       "version_minor": 0
      },
      "text/plain": [
       "Possible clusters:   0%|          | 0/5016 [00:00<?, ?it/s]"
      ]
     },
     "metadata": {},
     "output_type": "display_data"
    },
    {
     "data": {
      "application/vnd.jupyter.widget-view+json": {
       "model_id": "0658e94c55bc403fa14bfbad46ea195b",
       "version_major": 2,
       "version_minor": 0
      },
      "text/plain": [
       "Possible clusters:   0%|          | 0/560 [00:00<?, ?it/s]"
      ]
     },
     "metadata": {},
     "output_type": "display_data"
    },
    {
     "data": {
      "application/vnd.jupyter.widget-view+json": {
       "model_id": "964ff86d0ea04a84b60c456098cd3dc7",
       "version_major": 2,
       "version_minor": 0
      },
      "text/plain": [
       "Possible clusters:   0%|          | 0/286 [00:00<?, ?it/s]"
      ]
     },
     "metadata": {},
     "output_type": "display_data"
    },
    {
     "data": {
      "application/vnd.jupyter.widget-view+json": {
       "model_id": "3b81a096015447f6b5b1b29e25b5c6d3",
       "version_major": 2,
       "version_minor": 0
      },
      "text/plain": [
       "Possible clusters:   0%|          | 0/120 [00:00<?, ?it/s]"
      ]
     },
     "metadata": {},
     "output_type": "display_data"
    },
    {
     "data": {
      "application/vnd.jupyter.widget-view+json": {
       "model_id": "2270470ea2d64dd98bbe55b913a3117e",
       "version_major": 2,
       "version_minor": 0
      },
      "text/plain": [
       "Possible clusters:   0%|          | 0/15 [00:00<?, ?it/s]"
      ]
     },
     "metadata": {},
     "output_type": "display_data"
    },
    {
     "data": {
      "application/vnd.jupyter.widget-view+json": {
       "model_id": "1c32b2b81d774391b7900096b5d9934a",
       "version_major": 2,
       "version_minor": 0
      },
      "text/plain": [
       "Possible clusters:   0%|          | 0/6 [00:00<?, ?it/s]"
      ]
     },
     "metadata": {},
     "output_type": "display_data"
    },
    {
     "data": {
      "application/vnd.jupyter.widget-view+json": {
       "model_id": "c9b162582b0142cb9fb390b752150759",
       "version_major": 2,
       "version_minor": 0
      },
      "text/plain": [
       "Possible clusters:   0%|          | 0/83655 [00:00<?, ?it/s]"
      ]
     },
     "metadata": {},
     "output_type": "display_data"
    },
    {
     "data": {
      "application/vnd.jupyter.widget-view+json": {
       "model_id": "801df6333f3d464fb677514e51fa63db",
       "version_major": 2,
       "version_minor": 0
      },
      "text/plain": [
       "Possible clusters:   0%|          | 0/7525 [00:00<?, ?it/s]"
      ]
     },
     "metadata": {},
     "output_type": "display_data"
    },
    {
     "data": {
      "application/vnd.jupyter.widget-view+json": {
       "model_id": "afa8277fb3ce422295991a577eaf5b43",
       "version_major": 2,
       "version_minor": 0
      },
      "text/plain": [
       "Possible clusters:   0%|          | 0/3196 [00:00<?, ?it/s]"
      ]
     },
     "metadata": {},
     "output_type": "display_data"
    },
    {
     "data": {
      "application/vnd.jupyter.widget-view+json": {
       "model_id": "6dacff7bdcfc45ffa567969d98fc007a",
       "version_major": 2,
       "version_minor": 0
      },
      "text/plain": [
       "Possible clusters:   0%|          | 0/364 [00:00<?, ?it/s]"
      ]
     },
     "metadata": {},
     "output_type": "display_data"
    },
    {
     "data": {
      "application/vnd.jupyter.widget-view+json": {
       "model_id": "dbea2266dc8f4da88c7b6ad7f753ede9",
       "version_major": 2,
       "version_minor": 0
      },
      "text/plain": [
       "Possible clusters:   0%|          | 0/165 [00:00<?, ?it/s]"
      ]
     },
     "metadata": {},
     "output_type": "display_data"
    },
    {
     "data": {
      "application/vnd.jupyter.widget-view+json": {
       "model_id": "1a5ec36f0eba4184a6af2c05a308a6c8",
       "version_major": 2,
       "version_minor": 0
      },
      "text/plain": [
       "Possible clusters:   0%|          | 0/21 [00:00<?, ?it/s]"
      ]
     },
     "metadata": {},
     "output_type": "display_data"
    },
    {
     "data": {
      "application/vnd.jupyter.widget-view+json": {
       "model_id": "7bb83880fae045c9bd6b186618188079",
       "version_major": 2,
       "version_minor": 0
      },
      "text/plain": [
       "Possible clusters:   0%|          | 0/10 [00:00<?, ?it/s]"
      ]
     },
     "metadata": {},
     "output_type": "display_data"
    },
    {
     "data": {
      "application/vnd.jupyter.widget-view+json": {
       "model_id": "7e3d767842664a49a7949d89f75b53c0",
       "version_major": 2,
       "version_minor": 0
      },
      "text/plain": [
       "Possible clusters:   0%|          | 0/12926 [00:00<?, ?it/s]"
      ]
     },
     "metadata": {},
     "output_type": "display_data"
    },
    {
     "data": {
      "application/vnd.jupyter.widget-view+json": {
       "model_id": "2dd99e14ccde45359681bd39384767a1",
       "version_major": 2,
       "version_minor": 0
      },
      "text/plain": [
       "Possible clusters:   0%|          | 0/6175 [00:00<?, ?it/s]"
      ]
     },
     "metadata": {},
     "output_type": "display_data"
    },
    {
     "data": {
      "application/vnd.jupyter.widget-view+json": {
       "model_id": "99d9ff96a3494d2abe1f969028952f28",
       "version_major": 2,
       "version_minor": 0
      },
      "text/plain": [
       "Possible clusters:   0%|          | 0/2500 [00:00<?, ?it/s]"
      ]
     },
     "metadata": {},
     "output_type": "display_data"
    },
    {
     "data": {
      "application/vnd.jupyter.widget-view+json": {
       "model_id": "f34400790995407496374ec9de08d6e6",
       "version_major": 2,
       "version_minor": 0
      },
      "text/plain": [
       "Possible clusters:   0%|          | 0/286 [00:00<?, ?it/s]"
      ]
     },
     "metadata": {},
     "output_type": "display_data"
    },
    {
     "data": {
      "application/vnd.jupyter.widget-view+json": {
       "model_id": "3cf968a94c3f41809f49b26a96e0f196",
       "version_major": 2,
       "version_minor": 0
      },
      "text/plain": [
       "Possible clusters:   0%|          | 0/120 [00:00<?, ?it/s]"
      ]
     },
     "metadata": {},
     "output_type": "display_data"
    },
    {
     "data": {
      "application/vnd.jupyter.widget-view+json": {
       "model_id": "e8dc158716a848cc899125909bc2effd",
       "version_major": 2,
       "version_minor": 0
      },
      "text/plain": [
       "Possible clusters:   0%|          | 0/15 [00:00<?, ?it/s]"
      ]
     },
     "metadata": {},
     "output_type": "display_data"
    },
    {
     "data": {
      "application/vnd.jupyter.widget-view+json": {
       "model_id": "885fedbbe2e747f590a2585d1836a67b",
       "version_major": 2,
       "version_minor": 0
      },
      "text/plain": [
       "Possible clusters:   0%|          | 0/6 [00:00<?, ?it/s]"
      ]
     },
     "metadata": {},
     "output_type": "display_data"
    },
    {
     "data": {
      "application/vnd.jupyter.widget-view+json": {
       "model_id": "90451977b1ea41f09c6e9ed98267a4ec",
       "version_major": 2,
       "version_minor": 0
      },
      "text/plain": [
       "Possible clusters:   0%|          | 0/10879 [00:00<?, ?it/s]"
      ]
     },
     "metadata": {},
     "output_type": "display_data"
    },
    {
     "data": {
      "application/vnd.jupyter.widget-view+json": {
       "model_id": "1029e050332e434ba6bcbf8ef5ebf21a",
       "version_major": 2,
       "version_minor": 0
      },
      "text/plain": [
       "Possible clusters:   0%|          | 0/5016 [00:00<?, ?it/s]"
      ]
     },
     "metadata": {},
     "output_type": "display_data"
    },
    {
     "data": {
      "application/vnd.jupyter.widget-view+json": {
       "model_id": "692219e7c79142b189353e09f35a0ee0",
       "version_major": 2,
       "version_minor": 0
      },
      "text/plain": [
       "Possible clusters:   0%|          | 0/560 [00:00<?, ?it/s]"
      ]
     },
     "metadata": {},
     "output_type": "display_data"
    },
    {
     "data": {
      "application/vnd.jupyter.widget-view+json": {
       "model_id": "a847b77f33034ee7ae0e8dda3abeb63e",
       "version_major": 2,
       "version_minor": 0
      },
      "text/plain": [
       "Possible clusters:   0%|          | 0/286 [00:00<?, ?it/s]"
      ]
     },
     "metadata": {},
     "output_type": "display_data"
    },
    {
     "data": {
      "application/vnd.jupyter.widget-view+json": {
       "model_id": "18a2e22408d84556a9a8239d27b86455",
       "version_major": 2,
       "version_minor": 0
      },
      "text/plain": [
       "Possible clusters:   0%|          | 0/120 [00:00<?, ?it/s]"
      ]
     },
     "metadata": {},
     "output_type": "display_data"
    },
    {
     "data": {
      "application/vnd.jupyter.widget-view+json": {
       "model_id": "0834fd61e7004594b1860b167caaf5cd",
       "version_major": 2,
       "version_minor": 0
      },
      "text/plain": [
       "Possible clusters:   0%|          | 0/15 [00:00<?, ?it/s]"
      ]
     },
     "metadata": {},
     "output_type": "display_data"
    },
    {
     "data": {
      "application/vnd.jupyter.widget-view+json": {
       "model_id": "a594fd8a440544848f8cb5a8366c588b",
       "version_major": 2,
       "version_minor": 0
      },
      "text/plain": [
       "Possible clusters:   0%|          | 0/6 [00:00<?, ?it/s]"
      ]
     },
     "metadata": {},
     "output_type": "display_data"
    },
    {
     "data": {
      "application/vnd.jupyter.widget-view+json": {
       "model_id": "26425a3defbe4bbc836230c15c821d76",
       "version_major": 2,
       "version_minor": 0
      },
      "text/plain": [
       "Possible clusters:   0%|          | 0/9086 [00:00<?, ?it/s]"
      ]
     },
     "metadata": {},
     "output_type": "display_data"
    },
    {
     "data": {
      "application/vnd.jupyter.widget-view+json": {
       "model_id": "ea39e8e8b0c44fe083f8927c6f89267e",
       "version_major": 2,
       "version_minor": 0
      },
      "text/plain": [
       "Possible clusters:   0%|          | 0/4029 [00:00<?, ?it/s]"
      ]
     },
     "metadata": {},
     "output_type": "display_data"
    },
    {
     "data": {
      "application/vnd.jupyter.widget-view+json": {
       "model_id": "7e8fe15a786f41daaec86450c23b4f5e",
       "version_major": 2,
       "version_minor": 0
      },
      "text/plain": [
       "Possible clusters:   0%|          | 0/455 [00:00<?, ?it/s]"
      ]
     },
     "metadata": {},
     "output_type": "display_data"
    },
    {
     "data": {
      "application/vnd.jupyter.widget-view+json": {
       "model_id": "a86db1aa040f4050bd66de6dd4879eba",
       "version_major": 2,
       "version_minor": 0
      },
      "text/plain": [
       "Possible clusters:   0%|          | 0/220 [00:00<?, ?it/s]"
      ]
     },
     "metadata": {},
     "output_type": "display_data"
    },
    {
     "data": {
      "application/vnd.jupyter.widget-view+json": {
       "model_id": "5b4c03e23f2649c499acb3e71217eade",
       "version_major": 2,
       "version_minor": 0
      },
      "text/plain": [
       "Possible clusters:   0%|          | 0/28 [00:00<?, ?it/s]"
      ]
     },
     "metadata": {},
     "output_type": "display_data"
    },
    {
     "data": {
      "application/vnd.jupyter.widget-view+json": {
       "model_id": "a915f28a931944dda89c550d3ac99072",
       "version_major": 2,
       "version_minor": 0
      },
      "text/plain": [
       "Possible clusters:   0%|          | 0/15 [00:00<?, ?it/s]"
      ]
     },
     "metadata": {},
     "output_type": "display_data"
    },
    {
     "data": {
      "application/vnd.jupyter.widget-view+json": {
       "model_id": "f3cb34eb1eca45fc8fdaab81ee98d624",
       "version_major": 2,
       "version_minor": 0
      },
      "text/plain": [
       "Possible clusters:   0%|          | 0/6 [00:00<?, ?it/s]"
      ]
     },
     "metadata": {},
     "output_type": "display_data"
    },
    {
     "data": {
      "application/vnd.jupyter.widget-view+json": {
       "model_id": "404c9d0fef354561b439244679ed0f95",
       "version_major": 2,
       "version_minor": 0
      },
      "text/plain": [
       "Possible clusters:   0%|          | 0/5016 [00:00<?, ?it/s]"
      ]
     },
     "metadata": {},
     "output_type": "display_data"
    },
    {
     "data": {
      "application/vnd.jupyter.widget-view+json": {
       "model_id": "9a59cf762a2e483dbbbb1ac0274f6a93",
       "version_major": 2,
       "version_minor": 0
      },
      "text/plain": [
       "Possible clusters:   0%|          | 0/560 [00:00<?, ?it/s]"
      ]
     },
     "metadata": {},
     "output_type": "display_data"
    },
    {
     "data": {
      "application/vnd.jupyter.widget-view+json": {
       "model_id": "9acc5cab598048df8c26d3689f316663",
       "version_major": 2,
       "version_minor": 0
      },
      "text/plain": [
       "Possible clusters:   0%|          | 0/286 [00:00<?, ?it/s]"
      ]
     },
     "metadata": {},
     "output_type": "display_data"
    },
    {
     "data": {
      "application/vnd.jupyter.widget-view+json": {
       "model_id": "5a955d49659646248aa17141f1efebef",
       "version_major": 2,
       "version_minor": 0
      },
      "text/plain": [
       "Possible clusters:   0%|          | 0/120 [00:00<?, ?it/s]"
      ]
     },
     "metadata": {},
     "output_type": "display_data"
    },
    {
     "data": {
      "application/vnd.jupyter.widget-view+json": {
       "model_id": "8e4e00c9b2394468a28e4066fbceeeb7",
       "version_major": 2,
       "version_minor": 0
      },
      "text/plain": [
       "Possible clusters:   0%|          | 0/15 [00:00<?, ?it/s]"
      ]
     },
     "metadata": {},
     "output_type": "display_data"
    },
    {
     "data": {
      "application/vnd.jupyter.widget-view+json": {
       "model_id": "8e2a76b3c3c14c49af10e284f0a78bc6",
       "version_major": 2,
       "version_minor": 0
      },
      "text/plain": [
       "Possible clusters:   0%|          | 0/6 [00:00<?, ?it/s]"
      ]
     },
     "metadata": {},
     "output_type": "display_data"
    },
    {
     "data": {
      "application/vnd.jupyter.widget-view+json": {
       "model_id": "ef2d24e4b8614cecbfff4f0a13cc37ce",
       "version_major": 2,
       "version_minor": 0
      },
      "text/plain": [
       "Possible clusters:   0%|          | 0/10879 [00:00<?, ?it/s]"
      ]
     },
     "metadata": {},
     "output_type": "display_data"
    },
    {
     "data": {
      "application/vnd.jupyter.widget-view+json": {
       "model_id": "7c37955f85ad42cf9db0507ce26ac3d1",
       "version_major": 2,
       "version_minor": 0
      },
      "text/plain": [
       "Possible clusters:   0%|          | 0/5016 [00:00<?, ?it/s]"
      ]
     },
     "metadata": {},
     "output_type": "display_data"
    },
    {
     "data": {
      "application/vnd.jupyter.widget-view+json": {
       "model_id": "306419a006344a55831b21293331c1cb",
       "version_major": 2,
       "version_minor": 0
      },
      "text/plain": [
       "Possible clusters:   0%|          | 0/560 [00:00<?, ?it/s]"
      ]
     },
     "metadata": {},
     "output_type": "display_data"
    },
    {
     "data": {
      "application/vnd.jupyter.widget-view+json": {
       "model_id": "e28da816d2164ce3b95208e9c17d4fd6",
       "version_major": 2,
       "version_minor": 0
      },
      "text/plain": [
       "Possible clusters:   0%|          | 0/286 [00:00<?, ?it/s]"
      ]
     },
     "metadata": {},
     "output_type": "display_data"
    },
    {
     "data": {
      "application/vnd.jupyter.widget-view+json": {
       "model_id": "823ff28e51354ad1a4f39342740776f4",
       "version_major": 2,
       "version_minor": 0
      },
      "text/plain": [
       "Possible clusters:   0%|          | 0/120 [00:00<?, ?it/s]"
      ]
     },
     "metadata": {},
     "output_type": "display_data"
    },
    {
     "data": {
      "application/vnd.jupyter.widget-view+json": {
       "model_id": "013188143f23434a9d8d8560a989df4d",
       "version_major": 2,
       "version_minor": 0
      },
      "text/plain": [
       "Possible clusters:   0%|          | 0/15 [00:00<?, ?it/s]"
      ]
     },
     "metadata": {},
     "output_type": "display_data"
    },
    {
     "data": {
      "application/vnd.jupyter.widget-view+json": {
       "model_id": "60bd4b2be44f4fdb9e7ff139a4ee5e15",
       "version_major": 2,
       "version_minor": 0
      },
      "text/plain": [
       "Possible clusters:   0%|          | 0/6 [00:00<?, ?it/s]"
      ]
     },
     "metadata": {},
     "output_type": "display_data"
    },
    {
     "data": {
      "application/vnd.jupyter.widget-view+json": {
       "model_id": "6cae6d8aa9024c4bb306477aabae52a1",
       "version_major": 2,
       "version_minor": 0
      },
      "text/plain": [
       "Possible clusters:   0%|          | 0/6175 [00:00<?, ?it/s]"
      ]
     },
     "metadata": {},
     "output_type": "display_data"
    },
    {
     "data": {
      "application/vnd.jupyter.widget-view+json": {
       "model_id": "74be184c57c0478587046f16105a8ebd",
       "version_major": 2,
       "version_minor": 0
      },
      "text/plain": [
       "Possible clusters:   0%|          | 0/2500 [00:00<?, ?it/s]"
      ]
     },
     "metadata": {},
     "output_type": "display_data"
    },
    {
     "data": {
      "application/vnd.jupyter.widget-view+json": {
       "model_id": "33a13a63b87e454eb65aa431b6617f4d",
       "version_major": 2,
       "version_minor": 0
      },
      "text/plain": [
       "Possible clusters:   0%|          | 0/286 [00:00<?, ?it/s]"
      ]
     },
     "metadata": {},
     "output_type": "display_data"
    },
    {
     "data": {
      "application/vnd.jupyter.widget-view+json": {
       "model_id": "4818b40fa2c54438911f3ca346ab7342",
       "version_major": 2,
       "version_minor": 0
      },
      "text/plain": [
       "Possible clusters:   0%|          | 0/120 [00:00<?, ?it/s]"
      ]
     },
     "metadata": {},
     "output_type": "display_data"
    },
    {
     "data": {
      "application/vnd.jupyter.widget-view+json": {
       "model_id": "e218af941ff3463aa0b77efdc6bfea8c",
       "version_major": 2,
       "version_minor": 0
      },
      "text/plain": [
       "Possible clusters:   0%|          | 0/15 [00:00<?, ?it/s]"
      ]
     },
     "metadata": {},
     "output_type": "display_data"
    },
    {
     "data": {
      "application/vnd.jupyter.widget-view+json": {
       "model_id": "8ed6d25bd1344e05a13ca5eea7fbf15d",
       "version_major": 2,
       "version_minor": 0
      },
      "text/plain": [
       "Possible clusters:   0%|          | 0/6 [00:00<?, ?it/s]"
      ]
     },
     "metadata": {},
     "output_type": "display_data"
    },
    {
     "data": {
      "application/vnd.jupyter.widget-view+json": {
       "model_id": "3d4d355956af4cc5b933dba80e3ca855",
       "version_major": 2,
       "version_minor": 0
      },
      "text/plain": [
       "Possible clusters:   0%|          | 0/5016 [00:00<?, ?it/s]"
      ]
     },
     "metadata": {},
     "output_type": "display_data"
    },
    {
     "data": {
      "application/vnd.jupyter.widget-view+json": {
       "model_id": "93d2a6b0b129465a85b5c909ff878599",
       "version_major": 2,
       "version_minor": 0
      },
      "text/plain": [
       "Possible clusters:   0%|          | 0/560 [00:00<?, ?it/s]"
      ]
     },
     "metadata": {},
     "output_type": "display_data"
    },
    {
     "data": {
      "application/vnd.jupyter.widget-view+json": {
       "model_id": "6d21f9103ce6489591620992206f9170",
       "version_major": 2,
       "version_minor": 0
      },
      "text/plain": [
       "Possible clusters:   0%|          | 0/286 [00:00<?, ?it/s]"
      ]
     },
     "metadata": {},
     "output_type": "display_data"
    },
    {
     "data": {
      "application/vnd.jupyter.widget-view+json": {
       "model_id": "1029b0881bf64b3ebe1bc926baee82e6",
       "version_major": 2,
       "version_minor": 0
      },
      "text/plain": [
       "Possible clusters:   0%|          | 0/120 [00:00<?, ?it/s]"
      ]
     },
     "metadata": {},
     "output_type": "display_data"
    },
    {
     "data": {
      "application/vnd.jupyter.widget-view+json": {
       "model_id": "78cb766ad0d14ca28ca07148f124a7e5",
       "version_major": 2,
       "version_minor": 0
      },
      "text/plain": [
       "Possible clusters:   0%|          | 0/21 [00:00<?, ?it/s]"
      ]
     },
     "metadata": {},
     "output_type": "display_data"
    },
    {
     "data": {
      "application/vnd.jupyter.widget-view+json": {
       "model_id": "2f79eb220acc4a8eb715427b96f9fcd6",
       "version_major": 2,
       "version_minor": 0
      },
      "text/plain": [
       "Possible clusters:   0%|          | 0/10 [00:00<?, ?it/s]"
      ]
     },
     "metadata": {},
     "output_type": "display_data"
    },
    {
     "data": {
      "application/vnd.jupyter.widget-view+json": {
       "model_id": "22a1d4750f2942d79a1bbaeeb91ba464",
       "version_major": 2,
       "version_minor": 0
      },
      "text/plain": [
       "Possible clusters:   0%|          | 0/9086 [00:00<?, ?it/s]"
      ]
     },
     "metadata": {},
     "output_type": "display_data"
    },
    {
     "data": {
      "application/vnd.jupyter.widget-view+json": {
       "model_id": "fc4cbedca1bc4fa6a7dfb821712b1170",
       "version_major": 2,
       "version_minor": 0
      },
      "text/plain": [
       "Possible clusters:   0%|          | 0/4029 [00:00<?, ?it/s]"
      ]
     },
     "metadata": {},
     "output_type": "display_data"
    },
    {
     "data": {
      "application/vnd.jupyter.widget-view+json": {
       "model_id": "024befebb5a84850adf13590b40e5098",
       "version_major": 2,
       "version_minor": 0
      },
      "text/plain": [
       "Possible clusters:   0%|          | 0/455 [00:00<?, ?it/s]"
      ]
     },
     "metadata": {},
     "output_type": "display_data"
    },
    {
     "data": {
      "application/vnd.jupyter.widget-view+json": {
       "model_id": "b0d32fa9bc1f46809596ff1ea641923a",
       "version_major": 2,
       "version_minor": 0
      },
      "text/plain": [
       "Possible clusters:   0%|          | 0/220 [00:00<?, ?it/s]"
      ]
     },
     "metadata": {},
     "output_type": "display_data"
    },
    {
     "data": {
      "application/vnd.jupyter.widget-view+json": {
       "model_id": "51e89a7703634912af1d099c8504e4ac",
       "version_major": 2,
       "version_minor": 0
      },
      "text/plain": [
       "Possible clusters:   0%|          | 0/28 [00:00<?, ?it/s]"
      ]
     },
     "metadata": {},
     "output_type": "display_data"
    },
    {
     "data": {
      "application/vnd.jupyter.widget-view+json": {
       "model_id": "30f8c6b2090c411d95db48e43554967c",
       "version_major": 2,
       "version_minor": 0
      },
      "text/plain": [
       "Possible clusters:   0%|          | 0/15 [00:00<?, ?it/s]"
      ]
     },
     "metadata": {},
     "output_type": "display_data"
    },
    {
     "data": {
      "application/vnd.jupyter.widget-view+json": {
       "model_id": "26dbb239305b4f6fa355c3b43e75f79e",
       "version_major": 2,
       "version_minor": 0
      },
      "text/plain": [
       "Possible clusters:   0%|          | 0/6 [00:00<?, ?it/s]"
      ]
     },
     "metadata": {},
     "output_type": "display_data"
    },
    {
     "data": {
      "application/vnd.jupyter.widget-view+json": {
       "model_id": "b2250010892d423fa25b873f60b3c754",
       "version_major": 2,
       "version_minor": 0
      },
      "text/plain": [
       "Possible clusters:   0%|          | 0/4029 [00:00<?, ?it/s]"
      ]
     },
     "metadata": {},
     "output_type": "display_data"
    },
    {
     "data": {
      "application/vnd.jupyter.widget-view+json": {
       "model_id": "b18d5e0a4afb47d19e2ba844be0982c7",
       "version_major": 2,
       "version_minor": 0
      },
      "text/plain": [
       "Possible clusters:   0%|          | 0/455 [00:00<?, ?it/s]"
      ]
     },
     "metadata": {},
     "output_type": "display_data"
    },
    {
     "data": {
      "application/vnd.jupyter.widget-view+json": {
       "model_id": "6a15d0a162d54d6f832ef705585bc5c9",
       "version_major": 2,
       "version_minor": 0
      },
      "text/plain": [
       "Possible clusters:   0%|          | 0/220 [00:00<?, ?it/s]"
      ]
     },
     "metadata": {},
     "output_type": "display_data"
    },
    {
     "data": {
      "application/vnd.jupyter.widget-view+json": {
       "model_id": "c2f5b7a8198b400d828fa96b1b5a01d2",
       "version_major": 2,
       "version_minor": 0
      },
      "text/plain": [
       "Possible clusters:   0%|          | 0/28 [00:00<?, ?it/s]"
      ]
     },
     "metadata": {},
     "output_type": "display_data"
    },
    {
     "data": {
      "application/vnd.jupyter.widget-view+json": {
       "model_id": "65d204bf03af4b24b6361cd78445013a",
       "version_major": 2,
       "version_minor": 0
      },
      "text/plain": [
       "Possible clusters:   0%|          | 0/15 [00:00<?, ?it/s]"
      ]
     },
     "metadata": {},
     "output_type": "display_data"
    },
    {
     "data": {
      "application/vnd.jupyter.widget-view+json": {
       "model_id": "88c748923edf4ba28f35b64d3889ec07",
       "version_major": 2,
       "version_minor": 0
      },
      "text/plain": [
       "Possible clusters:   0%|          | 0/6 [00:00<?, ?it/s]"
      ]
     },
     "metadata": {},
     "output_type": "display_data"
    },
    {
     "data": {
      "application/vnd.jupyter.widget-view+json": {
       "model_id": "4b364dcd7ed74eb596e21a5450d21561",
       "version_major": 2,
       "version_minor": 0
      },
      "text/plain": [
       "Possible clusters:   0%|          | 0/5016 [00:00<?, ?it/s]"
      ]
     },
     "metadata": {},
     "output_type": "display_data"
    },
    {
     "data": {
      "application/vnd.jupyter.widget-view+json": {
       "model_id": "48a67346777244fc9208ecc6cde03219",
       "version_major": 2,
       "version_minor": 0
      },
      "text/plain": [
       "Possible clusters:   0%|          | 0/560 [00:00<?, ?it/s]"
      ]
     },
     "metadata": {},
     "output_type": "display_data"
    },
    {
     "data": {
      "application/vnd.jupyter.widget-view+json": {
       "model_id": "535b63d414db4f14a001869a6b2ea907",
       "version_major": 2,
       "version_minor": 0
      },
      "text/plain": [
       "Possible clusters:   0%|          | 0/286 [00:00<?, ?it/s]"
      ]
     },
     "metadata": {},
     "output_type": "display_data"
    },
    {
     "data": {
      "application/vnd.jupyter.widget-view+json": {
       "model_id": "3f7dca19eed7452d96055932be2adeb7",
       "version_major": 2,
       "version_minor": 0
      },
      "text/plain": [
       "Possible clusters:   0%|          | 0/165 [00:00<?, ?it/s]"
      ]
     },
     "metadata": {},
     "output_type": "display_data"
    },
    {
     "data": {
      "application/vnd.jupyter.widget-view+json": {
       "model_id": "4c03b639b03e4c2f8dc739f7ee62ff5d",
       "version_major": 2,
       "version_minor": 0
      },
      "text/plain": [
       "Possible clusters:   0%|          | 0/21 [00:00<?, ?it/s]"
      ]
     },
     "metadata": {},
     "output_type": "display_data"
    },
    {
     "data": {
      "application/vnd.jupyter.widget-view+json": {
       "model_id": "fdf4f117029e4c9ca008ddd20f3f8bef",
       "version_major": 2,
       "version_minor": 0
      },
      "text/plain": [
       "Possible clusters:   0%|          | 0/10 [00:00<?, ?it/s]"
      ]
     },
     "metadata": {},
     "output_type": "display_data"
    },
    {
     "data": {
      "application/vnd.jupyter.widget-view+json": {
       "model_id": "cf4988587d8145fe8148aebc720e46f9",
       "version_major": 2,
       "version_minor": 0
      },
      "text/plain": [
       "Possible clusters:   0%|          | 0/12926 [00:00<?, ?it/s]"
      ]
     },
     "metadata": {},
     "output_type": "display_data"
    },
    {
     "data": {
      "application/vnd.jupyter.widget-view+json": {
       "model_id": "9428e4a504f44f6589b8bc3afa95c006",
       "version_major": 2,
       "version_minor": 0
      },
      "text/plain": [
       "Possible clusters:   0%|          | 0/6175 [00:00<?, ?it/s]"
      ]
     },
     "metadata": {},
     "output_type": "display_data"
    },
    {
     "data": {
      "application/vnd.jupyter.widget-view+json": {
       "model_id": "1d8dea10a70b41c2b70d731571fb4596",
       "version_major": 2,
       "version_minor": 0
      },
      "text/plain": [
       "Possible clusters:   0%|          | 0/2500 [00:00<?, ?it/s]"
      ]
     },
     "metadata": {},
     "output_type": "display_data"
    },
    {
     "data": {
      "application/vnd.jupyter.widget-view+json": {
       "model_id": "9e36ebffc7a94e27a3db641d30c82896",
       "version_major": 2,
       "version_minor": 0
      },
      "text/plain": [
       "Possible clusters:   0%|          | 0/286 [00:00<?, ?it/s]"
      ]
     },
     "metadata": {},
     "output_type": "display_data"
    },
    {
     "data": {
      "application/vnd.jupyter.widget-view+json": {
       "model_id": "6e7ec6e85fa141629856f9c75743da68",
       "version_major": 2,
       "version_minor": 0
      },
      "text/plain": [
       "Possible clusters:   0%|          | 0/120 [00:00<?, ?it/s]"
      ]
     },
     "metadata": {},
     "output_type": "display_data"
    },
    {
     "data": {
      "application/vnd.jupyter.widget-view+json": {
       "model_id": "a0e0bae4cd074808938575869158c5ac",
       "version_major": 2,
       "version_minor": 0
      },
      "text/plain": [
       "Possible clusters:   0%|          | 0/15 [00:00<?, ?it/s]"
      ]
     },
     "metadata": {},
     "output_type": "display_data"
    },
    {
     "data": {
      "application/vnd.jupyter.widget-view+json": {
       "model_id": "de74af22bba14188b672d664d8a4b40a",
       "version_major": 2,
       "version_minor": 0
      },
      "text/plain": [
       "Possible clusters:   0%|          | 0/6 [00:00<?, ?it/s]"
      ]
     },
     "metadata": {},
     "output_type": "display_data"
    },
    {
     "data": {
      "application/vnd.jupyter.widget-view+json": {
       "model_id": "f1b54bd0601941118241a5ed5f519968",
       "version_major": 2,
       "version_minor": 0
      },
      "text/plain": [
       "Possible clusters:   0%|          | 0/10879 [00:00<?, ?it/s]"
      ]
     },
     "metadata": {},
     "output_type": "display_data"
    },
    {
     "data": {
      "application/vnd.jupyter.widget-view+json": {
       "model_id": "669eddc921154e4ca7346da1f788fb74",
       "version_major": 2,
       "version_minor": 0
      },
      "text/plain": [
       "Possible clusters:   0%|          | 0/5016 [00:00<?, ?it/s]"
      ]
     },
     "metadata": {},
     "output_type": "display_data"
    },
    {
     "data": {
      "application/vnd.jupyter.widget-view+json": {
       "model_id": "c0e5e4a6c57e49bfa4792d3b1f47c7c7",
       "version_major": 2,
       "version_minor": 0
      },
      "text/plain": [
       "Possible clusters:   0%|          | 0/560 [00:00<?, ?it/s]"
      ]
     },
     "metadata": {},
     "output_type": "display_data"
    },
    {
     "data": {
      "application/vnd.jupyter.widget-view+json": {
       "model_id": "2a53fc827157494fa935370b69abdd59",
       "version_major": 2,
       "version_minor": 0
      },
      "text/plain": [
       "Possible clusters:   0%|          | 0/286 [00:00<?, ?it/s]"
      ]
     },
     "metadata": {},
     "output_type": "display_data"
    },
    {
     "data": {
      "application/vnd.jupyter.widget-view+json": {
       "model_id": "beb73766b865461c98c277cac755a671",
       "version_major": 2,
       "version_minor": 0
      },
      "text/plain": [
       "Possible clusters:   0%|          | 0/120 [00:00<?, ?it/s]"
      ]
     },
     "metadata": {},
     "output_type": "display_data"
    },
    {
     "data": {
      "application/vnd.jupyter.widget-view+json": {
       "model_id": "587ef3e293c74f67a3eb0f0ab1e4a386",
       "version_major": 2,
       "version_minor": 0
      },
      "text/plain": [
       "Possible clusters:   0%|          | 0/15 [00:00<?, ?it/s]"
      ]
     },
     "metadata": {},
     "output_type": "display_data"
    },
    {
     "data": {
      "application/vnd.jupyter.widget-view+json": {
       "model_id": "9917fd2616e7477da348508c68ad5705",
       "version_major": 2,
       "version_minor": 0
      },
      "text/plain": [
       "Possible clusters:   0%|          | 0/6 [00:00<?, ?it/s]"
      ]
     },
     "metadata": {},
     "output_type": "display_data"
    },
    {
     "data": {
      "application/vnd.jupyter.widget-view+json": {
       "model_id": "138de574c0cf43b8851c5c1c337e19cd",
       "version_major": 2,
       "version_minor": 0
      },
      "text/plain": [
       "Possible clusters:   0%|          | 0/6175 [00:00<?, ?it/s]"
      ]
     },
     "metadata": {},
     "output_type": "display_data"
    },
    {
     "data": {
      "application/vnd.jupyter.widget-view+json": {
       "model_id": "c71ffcc3339848d1b3895fdaa3d65e68",
       "version_major": 2,
       "version_minor": 0
      },
      "text/plain": [
       "Possible clusters:   0%|          | 0/2500 [00:00<?, ?it/s]"
      ]
     },
     "metadata": {},
     "output_type": "display_data"
    },
    {
     "data": {
      "application/vnd.jupyter.widget-view+json": {
       "model_id": "c7104266299646f584080c615a0b92bb",
       "version_major": 2,
       "version_minor": 0
      },
      "text/plain": [
       "Possible clusters:   0%|          | 0/286 [00:00<?, ?it/s]"
      ]
     },
     "metadata": {},
     "output_type": "display_data"
    },
    {
     "data": {
      "application/vnd.jupyter.widget-view+json": {
       "model_id": "644ba619fda84953be41bf7ae5e33aaf",
       "version_major": 2,
       "version_minor": 0
      },
      "text/plain": [
       "Possible clusters:   0%|          | 0/120 [00:00<?, ?it/s]"
      ]
     },
     "metadata": {},
     "output_type": "display_data"
    },
    {
     "data": {
      "application/vnd.jupyter.widget-view+json": {
       "model_id": "f29c92094c244d6e9fdd71bae1d56e08",
       "version_major": 2,
       "version_minor": 0
      },
      "text/plain": [
       "Possible clusters:   0%|          | 0/15 [00:00<?, ?it/s]"
      ]
     },
     "metadata": {},
     "output_type": "display_data"
    },
    {
     "data": {
      "application/vnd.jupyter.widget-view+json": {
       "model_id": "f35702ca4aac4692846f8bca3dd0e7f3",
       "version_major": 2,
       "version_minor": 0
      },
      "text/plain": [
       "Possible clusters:   0%|          | 0/6 [00:00<?, ?it/s]"
      ]
     },
     "metadata": {},
     "output_type": "display_data"
    },
    {
     "data": {
      "application/vnd.jupyter.widget-view+json": {
       "model_id": "d88e979f859042dc91788d88fea1cf56",
       "version_major": 2,
       "version_minor": 0
      },
      "text/plain": [
       "Possible clusters:   0%|          | 0/6175 [00:00<?, ?it/s]"
      ]
     },
     "metadata": {},
     "output_type": "display_data"
    },
    {
     "data": {
      "application/vnd.jupyter.widget-view+json": {
       "model_id": "d26cc57c7d9548bc8d6bcefd401cf9e4",
       "version_major": 2,
       "version_minor": 0
      },
      "text/plain": [
       "Possible clusters:   0%|          | 0/2500 [00:00<?, ?it/s]"
      ]
     },
     "metadata": {},
     "output_type": "display_data"
    },
    {
     "data": {
      "application/vnd.jupyter.widget-view+json": {
       "model_id": "a9d673586e8448a1930bd2acd33d33be",
       "version_major": 2,
       "version_minor": 0
      },
      "text/plain": [
       "Possible clusters:   0%|          | 0/286 [00:00<?, ?it/s]"
      ]
     },
     "metadata": {},
     "output_type": "display_data"
    },
    {
     "data": {
      "application/vnd.jupyter.widget-view+json": {
       "model_id": "de8ad5bb2ff34bfb88ec3e651741f9cc",
       "version_major": 2,
       "version_minor": 0
      },
      "text/plain": [
       "Possible clusters:   0%|          | 0/120 [00:00<?, ?it/s]"
      ]
     },
     "metadata": {},
     "output_type": "display_data"
    },
    {
     "data": {
      "application/vnd.jupyter.widget-view+json": {
       "model_id": "d75a6681a2664ca5afe7d28dcd8111fc",
       "version_major": 2,
       "version_minor": 0
      },
      "text/plain": [
       "Possible clusters:   0%|          | 0/15 [00:00<?, ?it/s]"
      ]
     },
     "metadata": {},
     "output_type": "display_data"
    },
    {
     "data": {
      "application/vnd.jupyter.widget-view+json": {
       "model_id": "1c0b0aff61114fe3b5b1cd50327bd090",
       "version_major": 2,
       "version_minor": 0
      },
      "text/plain": [
       "Possible clusters:   0%|          | 0/6 [00:00<?, ?it/s]"
      ]
     },
     "metadata": {},
     "output_type": "display_data"
    },
    {
     "data": {
      "application/vnd.jupyter.widget-view+json": {
       "model_id": "b5a13cbc1e0d4af2b93a6f321dc8d468",
       "version_major": 2,
       "version_minor": 0
      },
      "text/plain": [
       "Possible clusters:   0%|          | 0/12926 [00:00<?, ?it/s]"
      ]
     },
     "metadata": {},
     "output_type": "display_data"
    },
    {
     "data": {
      "application/vnd.jupyter.widget-view+json": {
       "model_id": "7d35fe3717dd42288df5c595b55e72cd",
       "version_major": 2,
       "version_minor": 0
      },
      "text/plain": [
       "Possible clusters:   0%|          | 0/6175 [00:00<?, ?it/s]"
      ]
     },
     "metadata": {},
     "output_type": "display_data"
    },
    {
     "data": {
      "application/vnd.jupyter.widget-view+json": {
       "model_id": "dc7b996fce6f4d08a211d5d201559cec",
       "version_major": 2,
       "version_minor": 0
      },
      "text/plain": [
       "Possible clusters:   0%|          | 0/2500 [00:00<?, ?it/s]"
      ]
     },
     "metadata": {},
     "output_type": "display_data"
    },
    {
     "data": {
      "application/vnd.jupyter.widget-view+json": {
       "model_id": "03a299b4331945a096381182251470cf",
       "version_major": 2,
       "version_minor": 0
      },
      "text/plain": [
       "Possible clusters:   0%|          | 0/286 [00:00<?, ?it/s]"
      ]
     },
     "metadata": {},
     "output_type": "display_data"
    },
    {
     "data": {
      "application/vnd.jupyter.widget-view+json": {
       "model_id": "ca62136fe29849a99cc527a9e68b2568",
       "version_major": 2,
       "version_minor": 0
      },
      "text/plain": [
       "Possible clusters:   0%|          | 0/120 [00:00<?, ?it/s]"
      ]
     },
     "metadata": {},
     "output_type": "display_data"
    },
    {
     "data": {
      "application/vnd.jupyter.widget-view+json": {
       "model_id": "9c1808c3eee8442ab2e0019e6e06f1c8",
       "version_major": 2,
       "version_minor": 0
      },
      "text/plain": [
       "Possible clusters:   0%|          | 0/15 [00:00<?, ?it/s]"
      ]
     },
     "metadata": {},
     "output_type": "display_data"
    },
    {
     "data": {
      "application/vnd.jupyter.widget-view+json": {
       "model_id": "0a2bb0afc45940ce9811a4bdb82a9e5b",
       "version_major": 2,
       "version_minor": 0
      },
      "text/plain": [
       "Possible clusters:   0%|          | 0/6 [00:00<?, ?it/s]"
      ]
     },
     "metadata": {},
     "output_type": "display_data"
    },
    {
     "data": {
      "application/vnd.jupyter.widget-view+json": {
       "model_id": "60d85c3a833e47899e66a7392616f386",
       "version_major": 2,
       "version_minor": 0
      },
      "text/plain": [
       "Possible clusters:   0%|          | 0/7525 [00:00<?, ?it/s]"
      ]
     },
     "metadata": {},
     "output_type": "display_data"
    },
    {
     "data": {
      "application/vnd.jupyter.widget-view+json": {
       "model_id": "30cd91c8a60842de8fa051027d22c437",
       "version_major": 2,
       "version_minor": 0
      },
      "text/plain": [
       "Possible clusters:   0%|          | 0/3196 [00:00<?, ?it/s]"
      ]
     },
     "metadata": {},
     "output_type": "display_data"
    },
    {
     "data": {
      "application/vnd.jupyter.widget-view+json": {
       "model_id": "da5d37031de6434ab9e10dd5953b7d77",
       "version_major": 2,
       "version_minor": 0
      },
      "text/plain": [
       "Possible clusters:   0%|          | 0/364 [00:00<?, ?it/s]"
      ]
     },
     "metadata": {},
     "output_type": "display_data"
    },
    {
     "data": {
      "application/vnd.jupyter.widget-view+json": {
       "model_id": "9d06763c5d7d45bb993898693aecfb5a",
       "version_major": 2,
       "version_minor": 0
      },
      "text/plain": [
       "Possible clusters:   0%|          | 0/165 [00:00<?, ?it/s]"
      ]
     },
     "metadata": {},
     "output_type": "display_data"
    },
    {
     "data": {
      "application/vnd.jupyter.widget-view+json": {
       "model_id": "9bc11f7fb6df4f8a96d4b3c3d81a7244",
       "version_major": 2,
       "version_minor": 0
      },
      "text/plain": [
       "Possible clusters:   0%|          | 0/21 [00:00<?, ?it/s]"
      ]
     },
     "metadata": {},
     "output_type": "display_data"
    },
    {
     "data": {
      "application/vnd.jupyter.widget-view+json": {
       "model_id": "3e9762c586d241a7adb50e29f69947a4",
       "version_major": 2,
       "version_minor": 0
      },
      "text/plain": [
       "Possible clusters:   0%|          | 0/10 [00:00<?, ?it/s]"
      ]
     },
     "metadata": {},
     "output_type": "display_data"
    },
    {
     "data": {
      "application/vnd.jupyter.widget-view+json": {
       "model_id": "4dc0ddce4fcb447a858233305aaeb989",
       "version_major": 2,
       "version_minor": 0
      },
      "text/plain": [
       "Possible clusters:   0%|          | 0/6175 [00:00<?, ?it/s]"
      ]
     },
     "metadata": {},
     "output_type": "display_data"
    },
    {
     "data": {
      "application/vnd.jupyter.widget-view+json": {
       "model_id": "7840529e38fa4326a0ee5a0e1617270f",
       "version_major": 2,
       "version_minor": 0
      },
      "text/plain": [
       "Possible clusters:   0%|          | 0/2500 [00:00<?, ?it/s]"
      ]
     },
     "metadata": {},
     "output_type": "display_data"
    },
    {
     "data": {
      "application/vnd.jupyter.widget-view+json": {
       "model_id": "6e3d48910faa48159001c1edf2b6d797",
       "version_major": 2,
       "version_minor": 0
      },
      "text/plain": [
       "Possible clusters:   0%|          | 0/286 [00:00<?, ?it/s]"
      ]
     },
     "metadata": {},
     "output_type": "display_data"
    },
    {
     "data": {
      "application/vnd.jupyter.widget-view+json": {
       "model_id": "fa67794dc11748e99a408a85e1af8663",
       "version_major": 2,
       "version_minor": 0
      },
      "text/plain": [
       "Possible clusters:   0%|          | 0/120 [00:00<?, ?it/s]"
      ]
     },
     "metadata": {},
     "output_type": "display_data"
    },
    {
     "data": {
      "application/vnd.jupyter.widget-view+json": {
       "model_id": "185a94be29c046c2a72f95422999387c",
       "version_major": 2,
       "version_minor": 0
      },
      "text/plain": [
       "Possible clusters:   0%|          | 0/15 [00:00<?, ?it/s]"
      ]
     },
     "metadata": {},
     "output_type": "display_data"
    },
    {
     "data": {
      "application/vnd.jupyter.widget-view+json": {
       "model_id": "99a95f642d11406fbb6322b87752b8e2",
       "version_major": 2,
       "version_minor": 0
      },
      "text/plain": [
       "Possible clusters:   0%|          | 0/6 [00:00<?, ?it/s]"
      ]
     },
     "metadata": {},
     "output_type": "display_data"
    },
    {
     "data": {
      "application/vnd.jupyter.widget-view+json": {
       "model_id": "1d5c002dbc21496fa4850249cadf45c5",
       "version_major": 2,
       "version_minor": 0
      },
      "text/plain": [
       "Possible clusters:   0%|          | 0/6 [00:00<?, ?it/s]"
      ]
     },
     "metadata": {},
     "output_type": "display_data"
    },
    {
     "data": {
      "application/vnd.jupyter.widget-view+json": {
       "model_id": "200064e34a9f427aa5bac50158239a17",
       "version_major": 2,
       "version_minor": 0
      },
      "text/plain": [
       "Possible clusters:   0%|          | 0/9086 [00:00<?, ?it/s]"
      ]
     },
     "metadata": {},
     "output_type": "display_data"
    },
    {
     "data": {
      "application/vnd.jupyter.widget-view+json": {
       "model_id": "c005720e4f5844f6b45acea215e3780e",
       "version_major": 2,
       "version_minor": 0
      },
      "text/plain": [
       "Possible clusters:   0%|          | 0/4029 [00:00<?, ?it/s]"
      ]
     },
     "metadata": {},
     "output_type": "display_data"
    },
    {
     "data": {
      "application/vnd.jupyter.widget-view+json": {
       "model_id": "ab6d188de5974e5b883f7be54ee2b380",
       "version_major": 2,
       "version_minor": 0
      },
      "text/plain": [
       "Possible clusters:   0%|          | 0/455 [00:00<?, ?it/s]"
      ]
     },
     "metadata": {},
     "output_type": "display_data"
    },
    {
     "data": {
      "application/vnd.jupyter.widget-view+json": {
       "model_id": "075cb43430f349af9918b62913080ca3",
       "version_major": 2,
       "version_minor": 0
      },
      "text/plain": [
       "Possible clusters:   0%|          | 0/220 [00:00<?, ?it/s]"
      ]
     },
     "metadata": {},
     "output_type": "display_data"
    },
    {
     "data": {
      "application/vnd.jupyter.widget-view+json": {
       "model_id": "ec87361b562042fcaab0d94d2d8a3d0f",
       "version_major": 2,
       "version_minor": 0
      },
      "text/plain": [
       "Possible clusters:   0%|          | 0/28 [00:00<?, ?it/s]"
      ]
     },
     "metadata": {},
     "output_type": "display_data"
    },
    {
     "data": {
      "application/vnd.jupyter.widget-view+json": {
       "model_id": "c63d446054d346ffa076706c83db5a13",
       "version_major": 2,
       "version_minor": 0
      },
      "text/plain": [
       "Possible clusters:   0%|          | 0/15 [00:00<?, ?it/s]"
      ]
     },
     "metadata": {},
     "output_type": "display_data"
    },
    {
     "data": {
      "application/vnd.jupyter.widget-view+json": {
       "model_id": "44b88be0e0174d04bfebc17d5e124f43",
       "version_major": 2,
       "version_minor": 0
      },
      "text/plain": [
       "Possible clusters:   0%|          | 0/6 [00:00<?, ?it/s]"
      ]
     },
     "metadata": {},
     "output_type": "display_data"
    },
    {
     "data": {
      "application/vnd.jupyter.widget-view+json": {
       "model_id": "6b9b01cb04d446a98e1d60c4e46ee737",
       "version_major": 2,
       "version_minor": 0
      },
      "text/plain": [
       "Possible clusters:   0%|          | 0/7525 [00:00<?, ?it/s]"
      ]
     },
     "metadata": {},
     "output_type": "display_data"
    },
    {
     "data": {
      "application/vnd.jupyter.widget-view+json": {
       "model_id": "451d6246788449ee96af9307b01544b2",
       "version_major": 2,
       "version_minor": 0
      },
      "text/plain": [
       "Possible clusters:   0%|          | 0/3196 [00:00<?, ?it/s]"
      ]
     },
     "metadata": {},
     "output_type": "display_data"
    },
    {
     "data": {
      "application/vnd.jupyter.widget-view+json": {
       "model_id": "9f81cc1a3f864c08afd23048540a880d",
       "version_major": 2,
       "version_minor": 0
      },
      "text/plain": [
       "Possible clusters:   0%|          | 0/364 [00:00<?, ?it/s]"
      ]
     },
     "metadata": {},
     "output_type": "display_data"
    },
    {
     "data": {
      "application/vnd.jupyter.widget-view+json": {
       "model_id": "9f9b8974ac9f4ef7925775a911414ddc",
       "version_major": 2,
       "version_minor": 0
      },
      "text/plain": [
       "Possible clusters:   0%|          | 0/220 [00:00<?, ?it/s]"
      ]
     },
     "metadata": {},
     "output_type": "display_data"
    },
    {
     "data": {
      "application/vnd.jupyter.widget-view+json": {
       "model_id": "38c60dfe512f49e7a02603162c98eeb2",
       "version_major": 2,
       "version_minor": 0
      },
      "text/plain": [
       "Possible clusters:   0%|          | 0/28 [00:00<?, ?it/s]"
      ]
     },
     "metadata": {},
     "output_type": "display_data"
    },
    {
     "data": {
      "application/vnd.jupyter.widget-view+json": {
       "model_id": "cc8b0476f84042cc88a12318924de695",
       "version_major": 2,
       "version_minor": 0
      },
      "text/plain": [
       "Possible clusters:   0%|          | 0/15 [00:00<?, ?it/s]"
      ]
     },
     "metadata": {},
     "output_type": "display_data"
    },
    {
     "data": {
      "application/vnd.jupyter.widget-view+json": {
       "model_id": "24d4d348b5af432b941ae41ea4d0d135",
       "version_major": 2,
       "version_minor": 0
      },
      "text/plain": [
       "Possible clusters:   0%|          | 0/6 [00:00<?, ?it/s]"
      ]
     },
     "metadata": {},
     "output_type": "display_data"
    },
    {
     "data": {
      "application/vnd.jupyter.widget-view+json": {
       "model_id": "3d3cb2e722ea411a84fdccbacb5c62a2",
       "version_major": 2,
       "version_minor": 0
      },
      "text/plain": [
       "Possible clusters:   0%|          | 0/101556 [00:00<?, ?it/s]"
      ]
     },
     "metadata": {},
     "output_type": "display_data"
    },
    {
     "data": {
      "application/vnd.jupyter.widget-view+json": {
       "model_id": "00d3743fa0e742eca1ddce3c1770d306",
       "version_major": 2,
       "version_minor": 0
      },
      "text/plain": [
       "Possible clusters:   0%|          | 0/9086 [00:00<?, ?it/s]"
      ]
     },
     "metadata": {},
     "output_type": "display_data"
    },
    {
     "data": {
      "application/vnd.jupyter.widget-view+json": {
       "model_id": "29fdf3a244644268a8cfcc6f5c7bed9b",
       "version_major": 2,
       "version_minor": 0
      },
      "text/plain": [
       "Possible clusters:   0%|          | 0/4029 [00:00<?, ?it/s]"
      ]
     },
     "metadata": {},
     "output_type": "display_data"
    },
    {
     "data": {
      "application/vnd.jupyter.widget-view+json": {
       "model_id": "ec1fa123e50647e2905c3a00469a4dec",
       "version_major": 2,
       "version_minor": 0
      },
      "text/plain": [
       "Possible clusters:   0%|          | 0/455 [00:00<?, ?it/s]"
      ]
     },
     "metadata": {},
     "output_type": "display_data"
    },
    {
     "data": {
      "application/vnd.jupyter.widget-view+json": {
       "model_id": "485f48e6f15e4292846fd26012fde173",
       "version_major": 2,
       "version_minor": 0
      },
      "text/plain": [
       "Possible clusters:   0%|          | 0/220 [00:00<?, ?it/s]"
      ]
     },
     "metadata": {},
     "output_type": "display_data"
    },
    {
     "data": {
      "application/vnd.jupyter.widget-view+json": {
       "model_id": "268de3b12ad24ee3aa444d40bdece396",
       "version_major": 2,
       "version_minor": 0
      },
      "text/plain": [
       "Possible clusters:   0%|          | 0/28 [00:00<?, ?it/s]"
      ]
     },
     "metadata": {},
     "output_type": "display_data"
    },
    {
     "data": {
      "application/vnd.jupyter.widget-view+json": {
       "model_id": "f489e4fe3fb94fe1a346be805e247fa5",
       "version_major": 2,
       "version_minor": 0
      },
      "text/plain": [
       "Possible clusters:   0%|          | 0/15 [00:00<?, ?it/s]"
      ]
     },
     "metadata": {},
     "output_type": "display_data"
    },
    {
     "data": {
      "application/vnd.jupyter.widget-view+json": {
       "model_id": "bf532343d3864a2382a5dd1a25291d83",
       "version_major": 2,
       "version_minor": 0
      },
      "text/plain": [
       "Possible clusters:   0%|          | 0/6 [00:00<?, ?it/s]"
      ]
     },
     "metadata": {},
     "output_type": "display_data"
    },
    {
     "data": {
      "application/vnd.jupyter.widget-view+json": {
       "model_id": "49bcd9c5daad47b088c591e958020b5a",
       "version_major": 2,
       "version_minor": 0
      },
      "text/plain": [
       "Possible clusters:   0%|          | 0/83655 [00:00<?, ?it/s]"
      ]
     },
     "metadata": {},
     "output_type": "display_data"
    },
    {
     "data": {
      "application/vnd.jupyter.widget-view+json": {
       "model_id": "a8a91d7e6c374d1685ffdf5e5638d96d",
       "version_major": 2,
       "version_minor": 0
      },
      "text/plain": [
       "Possible clusters:   0%|          | 0/7525 [00:00<?, ?it/s]"
      ]
     },
     "metadata": {},
     "output_type": "display_data"
    },
    {
     "data": {
      "application/vnd.jupyter.widget-view+json": {
       "model_id": "f87a561bcbe44a42b6d05142475bf029",
       "version_major": 2,
       "version_minor": 0
      },
      "text/plain": [
       "Possible clusters:   0%|          | 0/3196 [00:00<?, ?it/s]"
      ]
     },
     "metadata": {},
     "output_type": "display_data"
    },
    {
     "data": {
      "application/vnd.jupyter.widget-view+json": {
       "model_id": "f607a582c7bd45cba3f04118cb1bafa4",
       "version_major": 2,
       "version_minor": 0
      },
      "text/plain": [
       "Possible clusters:   0%|          | 0/364 [00:00<?, ?it/s]"
      ]
     },
     "metadata": {},
     "output_type": "display_data"
    },
    {
     "data": {
      "application/vnd.jupyter.widget-view+json": {
       "model_id": "af53581812b44c70804a684481910762",
       "version_major": 2,
       "version_minor": 0
      },
      "text/plain": [
       "Possible clusters:   0%|          | 0/165 [00:00<?, ?it/s]"
      ]
     },
     "metadata": {},
     "output_type": "display_data"
    },
    {
     "data": {
      "application/vnd.jupyter.widget-view+json": {
       "model_id": "b564d276c4aa4e0bbfb3e8e7e9ce2769",
       "version_major": 2,
       "version_minor": 0
      },
      "text/plain": [
       "Possible clusters:   0%|          | 0/21 [00:00<?, ?it/s]"
      ]
     },
     "metadata": {},
     "output_type": "display_data"
    },
    {
     "data": {
      "application/vnd.jupyter.widget-view+json": {
       "model_id": "0c77df474bd943f5abb8c4709eb0b57c",
       "version_major": 2,
       "version_minor": 0
      },
      "text/plain": [
       "Possible clusters:   0%|          | 0/10 [00:00<?, ?it/s]"
      ]
     },
     "metadata": {},
     "output_type": "display_data"
    },
    {
     "data": {
      "application/vnd.jupyter.widget-view+json": {
       "model_id": "827670786d0b4a648cb33171e088027e",
       "version_major": 2,
       "version_minor": 0
      },
      "text/plain": [
       "Possible clusters:   0%|          | 0/10879 [00:00<?, ?it/s]"
      ]
     },
     "metadata": {},
     "output_type": "display_data"
    },
    {
     "data": {
      "application/vnd.jupyter.widget-view+json": {
       "model_id": "9317df94ea0147ed80f7b7a2c826397c",
       "version_major": 2,
       "version_minor": 0
      },
      "text/plain": [
       "Possible clusters:   0%|          | 0/5016 [00:00<?, ?it/s]"
      ]
     },
     "metadata": {},
     "output_type": "display_data"
    },
    {
     "data": {
      "application/vnd.jupyter.widget-view+json": {
       "model_id": "f7da2ad1dec04806800920de677f91c7",
       "version_major": 2,
       "version_minor": 0
      },
      "text/plain": [
       "Possible clusters:   0%|          | 0/560 [00:00<?, ?it/s]"
      ]
     },
     "metadata": {},
     "output_type": "display_data"
    },
    {
     "data": {
      "application/vnd.jupyter.widget-view+json": {
       "model_id": "6539a2d5cec14683bb3105fd72735d1c",
       "version_major": 2,
       "version_minor": 0
      },
      "text/plain": [
       "Possible clusters:   0%|          | 0/286 [00:00<?, ?it/s]"
      ]
     },
     "metadata": {},
     "output_type": "display_data"
    },
    {
     "data": {
      "application/vnd.jupyter.widget-view+json": {
       "model_id": "6a34a21c7ee74e9d8f944d7db342b686",
       "version_major": 2,
       "version_minor": 0
      },
      "text/plain": [
       "Possible clusters:   0%|          | 0/120 [00:00<?, ?it/s]"
      ]
     },
     "metadata": {},
     "output_type": "display_data"
    },
    {
     "data": {
      "application/vnd.jupyter.widget-view+json": {
       "model_id": "72b001a042634b4893e6f968264c4f60",
       "version_major": 2,
       "version_minor": 0
      },
      "text/plain": [
       "Possible clusters:   0%|          | 0/15 [00:00<?, ?it/s]"
      ]
     },
     "metadata": {},
     "output_type": "display_data"
    },
    {
     "data": {
      "application/vnd.jupyter.widget-view+json": {
       "model_id": "a5519f7fae884b73982882aa2c3dd66c",
       "version_major": 2,
       "version_minor": 0
      },
      "text/plain": [
       "Possible clusters:   0%|          | 0/6 [00:00<?, ?it/s]"
      ]
     },
     "metadata": {},
     "output_type": "display_data"
    },
    {
     "data": {
      "application/vnd.jupyter.widget-view+json": {
       "model_id": "1b634bed96d0442eadf19ac336b747c7",
       "version_major": 2,
       "version_minor": 0
      },
      "text/plain": [
       "Possible clusters:   0%|          | 0/6175 [00:00<?, ?it/s]"
      ]
     },
     "metadata": {},
     "output_type": "display_data"
    },
    {
     "data": {
      "application/vnd.jupyter.widget-view+json": {
       "model_id": "484ce27f92704f398e27dfaea1af0a46",
       "version_major": 2,
       "version_minor": 0
      },
      "text/plain": [
       "Possible clusters:   0%|          | 0/2500 [00:00<?, ?it/s]"
      ]
     },
     "metadata": {},
     "output_type": "display_data"
    },
    {
     "data": {
      "application/vnd.jupyter.widget-view+json": {
       "model_id": "66a4276480694e66a19c08cbffb8886c",
       "version_major": 2,
       "version_minor": 0
      },
      "text/plain": [
       "Possible clusters:   0%|          | 0/286 [00:00<?, ?it/s]"
      ]
     },
     "metadata": {},
     "output_type": "display_data"
    },
    {
     "data": {
      "application/vnd.jupyter.widget-view+json": {
       "model_id": "2ec19652d3834db0b7ca6ad0b36862a6",
       "version_major": 2,
       "version_minor": 0
      },
      "text/plain": [
       "Possible clusters:   0%|          | 0/120 [00:00<?, ?it/s]"
      ]
     },
     "metadata": {},
     "output_type": "display_data"
    },
    {
     "data": {
      "application/vnd.jupyter.widget-view+json": {
       "model_id": "809be415c6ec4fdfb4f6df0ef84a9328",
       "version_major": 2,
       "version_minor": 0
      },
      "text/plain": [
       "Possible clusters:   0%|          | 0/15 [00:00<?, ?it/s]"
      ]
     },
     "metadata": {},
     "output_type": "display_data"
    },
    {
     "data": {
      "application/vnd.jupyter.widget-view+json": {
       "model_id": "8493bca5cf6b454dbd401759c5a0139a",
       "version_major": 2,
       "version_minor": 0
      },
      "text/plain": [
       "Possible clusters:   0%|          | 0/6 [00:00<?, ?it/s]"
      ]
     },
     "metadata": {},
     "output_type": "display_data"
    },
    {
     "data": {
      "application/vnd.jupyter.widget-view+json": {
       "model_id": "b628a56857b44a35864f5cf26590b631",
       "version_major": 2,
       "version_minor": 0
      },
      "text/plain": [
       "Possible clusters:   0%|          | 0/7525 [00:00<?, ?it/s]"
      ]
     },
     "metadata": {},
     "output_type": "display_data"
    },
    {
     "data": {
      "application/vnd.jupyter.widget-view+json": {
       "model_id": "f5a225a06b914acb8bd88772b22c8792",
       "version_major": 2,
       "version_minor": 0
      },
      "text/plain": [
       "Possible clusters:   0%|          | 0/3196 [00:00<?, ?it/s]"
      ]
     },
     "metadata": {},
     "output_type": "display_data"
    },
    {
     "data": {
      "application/vnd.jupyter.widget-view+json": {
       "model_id": "d033568f2c13457f88f90def69ebe756",
       "version_major": 2,
       "version_minor": 0
      },
      "text/plain": [
       "Possible clusters:   0%|          | 0/364 [00:00<?, ?it/s]"
      ]
     },
     "metadata": {},
     "output_type": "display_data"
    },
    {
     "data": {
      "application/vnd.jupyter.widget-view+json": {
       "model_id": "11392ef46b804e2f91e8b5ebe4ea3ac3",
       "version_major": 2,
       "version_minor": 0
      },
      "text/plain": [
       "Possible clusters:   0%|          | 0/165 [00:00<?, ?it/s]"
      ]
     },
     "metadata": {},
     "output_type": "display_data"
    },
    {
     "data": {
      "application/vnd.jupyter.widget-view+json": {
       "model_id": "55de850976074d47936f42465044bf01",
       "version_major": 2,
       "version_minor": 0
      },
      "text/plain": [
       "Possible clusters:   0%|          | 0/21 [00:00<?, ?it/s]"
      ]
     },
     "metadata": {},
     "output_type": "display_data"
    },
    {
     "data": {
      "application/vnd.jupyter.widget-view+json": {
       "model_id": "c6f7dd2bbe5f48faa42c73037d521a68",
       "version_major": 2,
       "version_minor": 0
      },
      "text/plain": [
       "Possible clusters:   0%|          | 0/10 [00:00<?, ?it/s]"
      ]
     },
     "metadata": {},
     "output_type": "display_data"
    },
    {
     "data": {
      "application/vnd.jupyter.widget-view+json": {
       "model_id": "7653d9287bea4e87b062fc226fab9c23",
       "version_major": 2,
       "version_minor": 0
      },
      "text/plain": [
       "Possible clusters:   0%|          | 0/7525 [00:00<?, ?it/s]"
      ]
     },
     "metadata": {},
     "output_type": "display_data"
    },
    {
     "data": {
      "application/vnd.jupyter.widget-view+json": {
       "model_id": "8b3cdce42a034a1c8788a3a40ce3ee0b",
       "version_major": 2,
       "version_minor": 0
      },
      "text/plain": [
       "Possible clusters:   0%|          | 0/3196 [00:00<?, ?it/s]"
      ]
     },
     "metadata": {},
     "output_type": "display_data"
    },
    {
     "data": {
      "application/vnd.jupyter.widget-view+json": {
       "model_id": "6ce098def59a476ebb15ae90d0efed2c",
       "version_major": 2,
       "version_minor": 0
      },
      "text/plain": [
       "Possible clusters:   0%|          | 0/364 [00:00<?, ?it/s]"
      ]
     },
     "metadata": {},
     "output_type": "display_data"
    },
    {
     "data": {
      "application/vnd.jupyter.widget-view+json": {
       "model_id": "cc0b71280c014e9aac49408456fd79a1",
       "version_major": 2,
       "version_minor": 0
      },
      "text/plain": [
       "Possible clusters:   0%|          | 0/165 [00:00<?, ?it/s]"
      ]
     },
     "metadata": {},
     "output_type": "display_data"
    },
    {
     "data": {
      "application/vnd.jupyter.widget-view+json": {
       "model_id": "6f65a405dd62486694b3f852573a818a",
       "version_major": 2,
       "version_minor": 0
      },
      "text/plain": [
       "Possible clusters:   0%|          | 0/21 [00:00<?, ?it/s]"
      ]
     },
     "metadata": {},
     "output_type": "display_data"
    },
    {
     "data": {
      "application/vnd.jupyter.widget-view+json": {
       "model_id": "f83a54bb42574076937fe4c463546eef",
       "version_major": 2,
       "version_minor": 0
      },
      "text/plain": [
       "Possible clusters:   0%|          | 0/10 [00:00<?, ?it/s]"
      ]
     },
     "metadata": {},
     "output_type": "display_data"
    },
    {
     "data": {
      "application/vnd.jupyter.widget-view+json": {
       "model_id": "2d2db04791aa4875ba97bbf0e4c3fe5b",
       "version_major": 2,
       "version_minor": 0
      },
      "text/plain": [
       "Possible clusters:   0%|          | 0/7525 [00:00<?, ?it/s]"
      ]
     },
     "metadata": {},
     "output_type": "display_data"
    },
    {
     "data": {
      "application/vnd.jupyter.widget-view+json": {
       "model_id": "faeb06e3ccf247ad80a9a4182268326b",
       "version_major": 2,
       "version_minor": 0
      },
      "text/plain": [
       "Possible clusters:   0%|          | 0/3196 [00:00<?, ?it/s]"
      ]
     },
     "metadata": {},
     "output_type": "display_data"
    },
    {
     "data": {
      "application/vnd.jupyter.widget-view+json": {
       "model_id": "3d07d35df2a8495d85d2af7ecbdf788b",
       "version_major": 2,
       "version_minor": 0
      },
      "text/plain": [
       "Possible clusters:   0%|          | 0/364 [00:00<?, ?it/s]"
      ]
     },
     "metadata": {},
     "output_type": "display_data"
    },
    {
     "data": {
      "application/vnd.jupyter.widget-view+json": {
       "model_id": "517a26cf66084eb8888b545de13f17e8",
       "version_major": 2,
       "version_minor": 0
      },
      "text/plain": [
       "Possible clusters:   0%|          | 0/165 [00:00<?, ?it/s]"
      ]
     },
     "metadata": {},
     "output_type": "display_data"
    },
    {
     "data": {
      "application/vnd.jupyter.widget-view+json": {
       "model_id": "3877ddbd613c4741ab076d112801ed3c",
       "version_major": 2,
       "version_minor": 0
      },
      "text/plain": [
       "Possible clusters:   0%|          | 0/21 [00:00<?, ?it/s]"
      ]
     },
     "metadata": {},
     "output_type": "display_data"
    },
    {
     "data": {
      "application/vnd.jupyter.widget-view+json": {
       "model_id": "2f8f20b67003483f93ed1bdb9d313caf",
       "version_major": 2,
       "version_minor": 0
      },
      "text/plain": [
       "Possible clusters:   0%|          | 0/10 [00:00<?, ?it/s]"
      ]
     },
     "metadata": {},
     "output_type": "display_data"
    },
    {
     "data": {
      "application/vnd.jupyter.widget-view+json": {
       "model_id": "be96c4b26dd543f4863b2c9288f6a1ba",
       "version_major": 2,
       "version_minor": 0
      },
      "text/plain": [
       "Possible clusters:   0%|          | 0/10879 [00:00<?, ?it/s]"
      ]
     },
     "metadata": {},
     "output_type": "display_data"
    },
    {
     "data": {
      "application/vnd.jupyter.widget-view+json": {
       "model_id": "1f4efa11c9cc44a9b2dbaeebcc3b660c",
       "version_major": 2,
       "version_minor": 0
      },
      "text/plain": [
       "Possible clusters:   0%|          | 0/5016 [00:00<?, ?it/s]"
      ]
     },
     "metadata": {},
     "output_type": "display_data"
    },
    {
     "data": {
      "application/vnd.jupyter.widget-view+json": {
       "model_id": "692ad844196e467ea791636880c0980d",
       "version_major": 2,
       "version_minor": 0
      },
      "text/plain": [
       "Possible clusters:   0%|          | 0/560 [00:00<?, ?it/s]"
      ]
     },
     "metadata": {},
     "output_type": "display_data"
    },
    {
     "data": {
      "application/vnd.jupyter.widget-view+json": {
       "model_id": "723f2437e0cc4182ab6044ddbaf6138f",
       "version_major": 2,
       "version_minor": 0
      },
      "text/plain": [
       "Possible clusters:   0%|          | 0/286 [00:00<?, ?it/s]"
      ]
     },
     "metadata": {},
     "output_type": "display_data"
    },
    {
     "data": {
      "application/vnd.jupyter.widget-view+json": {
       "model_id": "678e692286474941b896115dad05fda2",
       "version_major": 2,
       "version_minor": 0
      },
      "text/plain": [
       "Possible clusters:   0%|          | 0/120 [00:00<?, ?it/s]"
      ]
     },
     "metadata": {},
     "output_type": "display_data"
    },
    {
     "data": {
      "application/vnd.jupyter.widget-view+json": {
       "model_id": "45ed4030ab4f4140b4288baae36fe2a8",
       "version_major": 2,
       "version_minor": 0
      },
      "text/plain": [
       "Possible clusters:   0%|          | 0/15 [00:00<?, ?it/s]"
      ]
     },
     "metadata": {},
     "output_type": "display_data"
    },
    {
     "data": {
      "application/vnd.jupyter.widget-view+json": {
       "model_id": "3a010e7ea0844ac49c80659a812ee23b",
       "version_major": 2,
       "version_minor": 0
      },
      "text/plain": [
       "Possible clusters:   0%|          | 0/6 [00:00<?, ?it/s]"
      ]
     },
     "metadata": {},
     "output_type": "display_data"
    },
    {
     "data": {
      "application/vnd.jupyter.widget-view+json": {
       "model_id": "bc2fa1cc86e84f9e816668afd52000ad",
       "version_major": 2,
       "version_minor": 0
      },
      "text/plain": [
       "Possible clusters:   0%|          | 0/12926 [00:00<?, ?it/s]"
      ]
     },
     "metadata": {},
     "output_type": "display_data"
    },
    {
     "data": {
      "application/vnd.jupyter.widget-view+json": {
       "model_id": "1c6bc614742541e8a14b9a325f3b7a59",
       "version_major": 2,
       "version_minor": 0
      },
      "text/plain": [
       "Possible clusters:   0%|          | 0/6175 [00:00<?, ?it/s]"
      ]
     },
     "metadata": {},
     "output_type": "display_data"
    },
    {
     "data": {
      "application/vnd.jupyter.widget-view+json": {
       "model_id": "aa695baedf8841e6af60fb4d76fe70f3",
       "version_major": 2,
       "version_minor": 0
      },
      "text/plain": [
       "Possible clusters:   0%|          | 0/2500 [00:00<?, ?it/s]"
      ]
     },
     "metadata": {},
     "output_type": "display_data"
    },
    {
     "data": {
      "application/vnd.jupyter.widget-view+json": {
       "model_id": "2a8d7e4cceb54f0e9ccbf84024bcf064",
       "version_major": 2,
       "version_minor": 0
      },
      "text/plain": [
       "Possible clusters:   0%|          | 0/286 [00:00<?, ?it/s]"
      ]
     },
     "metadata": {},
     "output_type": "display_data"
    },
    {
     "data": {
      "application/vnd.jupyter.widget-view+json": {
       "model_id": "84676d05ae8f4571ad42ab2897245862",
       "version_major": 2,
       "version_minor": 0
      },
      "text/plain": [
       "Possible clusters:   0%|          | 0/120 [00:00<?, ?it/s]"
      ]
     },
     "metadata": {},
     "output_type": "display_data"
    },
    {
     "data": {
      "application/vnd.jupyter.widget-view+json": {
       "model_id": "18b0f30a4572419c87ad189abb8387b6",
       "version_major": 2,
       "version_minor": 0
      },
      "text/plain": [
       "Possible clusters:   0%|          | 0/15 [00:00<?, ?it/s]"
      ]
     },
     "metadata": {},
     "output_type": "display_data"
    },
    {
     "data": {
      "application/vnd.jupyter.widget-view+json": {
       "model_id": "f0192a0dcf8a40bf9212d1844b3e2294",
       "version_major": 2,
       "version_minor": 0
      },
      "text/plain": [
       "Possible clusters:   0%|          | 0/6 [00:00<?, ?it/s]"
      ]
     },
     "metadata": {},
     "output_type": "display_data"
    },
    {
     "data": {
      "application/vnd.jupyter.widget-view+json": {
       "model_id": "8a30abd9ad494efebdc8aa0360c39b44",
       "version_major": 2,
       "version_minor": 0
      },
      "text/plain": [
       "Possible clusters:   0%|          | 0/6175 [00:00<?, ?it/s]"
      ]
     },
     "metadata": {},
     "output_type": "display_data"
    },
    {
     "data": {
      "application/vnd.jupyter.widget-view+json": {
       "model_id": "c2d73a4092cd48bebd31dab9e4234853",
       "version_major": 2,
       "version_minor": 0
      },
      "text/plain": [
       "Possible clusters:   0%|          | 0/2500 [00:00<?, ?it/s]"
      ]
     },
     "metadata": {},
     "output_type": "display_data"
    },
    {
     "data": {
      "application/vnd.jupyter.widget-view+json": {
       "model_id": "5004399d20c6408792b9681bd05a73c5",
       "version_major": 2,
       "version_minor": 0
      },
      "text/plain": [
       "Possible clusters:   0%|          | 0/286 [00:00<?, ?it/s]"
      ]
     },
     "metadata": {},
     "output_type": "display_data"
    },
    {
     "data": {
      "application/vnd.jupyter.widget-view+json": {
       "model_id": "104434abb4bd4ab79b3f3f5d25db1a7d",
       "version_major": 2,
       "version_minor": 0
      },
      "text/plain": [
       "Possible clusters:   0%|          | 0/120 [00:00<?, ?it/s]"
      ]
     },
     "metadata": {},
     "output_type": "display_data"
    },
    {
     "data": {
      "application/vnd.jupyter.widget-view+json": {
       "model_id": "b6259623f6984c319601fcd65ce30051",
       "version_major": 2,
       "version_minor": 0
      },
      "text/plain": [
       "Possible clusters:   0%|          | 0/15 [00:00<?, ?it/s]"
      ]
     },
     "metadata": {},
     "output_type": "display_data"
    },
    {
     "data": {
      "application/vnd.jupyter.widget-view+json": {
       "model_id": "dae67b7a9dd84742947d348e253373e4",
       "version_major": 2,
       "version_minor": 0
      },
      "text/plain": [
       "Possible clusters:   0%|          | 0/6 [00:00<?, ?it/s]"
      ]
     },
     "metadata": {},
     "output_type": "display_data"
    },
    {
     "data": {
      "application/vnd.jupyter.widget-view+json": {
       "model_id": "73ef68b8ae3b4e0dabbc180a3c2571a9",
       "version_major": 2,
       "version_minor": 0
      },
      "text/plain": [
       "Possible clusters:   0%|          | 0/10879 [00:00<?, ?it/s]"
      ]
     },
     "metadata": {},
     "output_type": "display_data"
    },
    {
     "data": {
      "application/vnd.jupyter.widget-view+json": {
       "model_id": "ef2d15444538432d8b1ae674c616576d",
       "version_major": 2,
       "version_minor": 0
      },
      "text/plain": [
       "Possible clusters:   0%|          | 0/5016 [00:00<?, ?it/s]"
      ]
     },
     "metadata": {},
     "output_type": "display_data"
    },
    {
     "data": {
      "application/vnd.jupyter.widget-view+json": {
       "model_id": "b4dbd263724b455a90eb05323e9ba672",
       "version_major": 2,
       "version_minor": 0
      },
      "text/plain": [
       "Possible clusters:   0%|          | 0/560 [00:00<?, ?it/s]"
      ]
     },
     "metadata": {},
     "output_type": "display_data"
    },
    {
     "data": {
      "application/vnd.jupyter.widget-view+json": {
       "model_id": "82b7419ddfd444bc8277624f6519f746",
       "version_major": 2,
       "version_minor": 0
      },
      "text/plain": [
       "Possible clusters:   0%|          | 0/286 [00:00<?, ?it/s]"
      ]
     },
     "metadata": {},
     "output_type": "display_data"
    },
    {
     "data": {
      "application/vnd.jupyter.widget-view+json": {
       "model_id": "bf9fe75faa064f8c8d0524105f89a1d4",
       "version_major": 2,
       "version_minor": 0
      },
      "text/plain": [
       "Possible clusters:   0%|          | 0/120 [00:00<?, ?it/s]"
      ]
     },
     "metadata": {},
     "output_type": "display_data"
    },
    {
     "data": {
      "application/vnd.jupyter.widget-view+json": {
       "model_id": "3257b34e3c034c3e99d19ce796434fda",
       "version_major": 2,
       "version_minor": 0
      },
      "text/plain": [
       "Possible clusters:   0%|          | 0/15 [00:00<?, ?it/s]"
      ]
     },
     "metadata": {},
     "output_type": "display_data"
    },
    {
     "data": {
      "application/vnd.jupyter.widget-view+json": {
       "model_id": "b5a98ef8f53f40b9a43aee84035e314c",
       "version_major": 2,
       "version_minor": 0
      },
      "text/plain": [
       "Possible clusters:   0%|          | 0/6 [00:00<?, ?it/s]"
      ]
     },
     "metadata": {},
     "output_type": "display_data"
    },
    {
     "data": {
      "application/vnd.jupyter.widget-view+json": {
       "model_id": "7b97c9f9cdbf4b41848870477b21f61a",
       "version_major": 2,
       "version_minor": 0
      },
      "text/plain": [
       "Possible clusters:   0%|          | 0/6175 [00:00<?, ?it/s]"
      ]
     },
     "metadata": {},
     "output_type": "display_data"
    },
    {
     "data": {
      "application/vnd.jupyter.widget-view+json": {
       "model_id": "84c619cb195243c6bb2fcec482d724ed",
       "version_major": 2,
       "version_minor": 0
      },
      "text/plain": [
       "Possible clusters:   0%|          | 0/2500 [00:00<?, ?it/s]"
      ]
     },
     "metadata": {},
     "output_type": "display_data"
    },
    {
     "data": {
      "application/vnd.jupyter.widget-view+json": {
       "model_id": "4a6eb034ce5140859e9dedb1968bb5e7",
       "version_major": 2,
       "version_minor": 0
      },
      "text/plain": [
       "Possible clusters:   0%|          | 0/286 [00:00<?, ?it/s]"
      ]
     },
     "metadata": {},
     "output_type": "display_data"
    },
    {
     "data": {
      "application/vnd.jupyter.widget-view+json": {
       "model_id": "99877c87309444ffacbd62455f7959dd",
       "version_major": 2,
       "version_minor": 0
      },
      "text/plain": [
       "Possible clusters:   0%|          | 0/120 [00:00<?, ?it/s]"
      ]
     },
     "metadata": {},
     "output_type": "display_data"
    },
    {
     "data": {
      "application/vnd.jupyter.widget-view+json": {
       "model_id": "94cdd4ac7599459fb3aba10f11c67731",
       "version_major": 2,
       "version_minor": 0
      },
      "text/plain": [
       "Possible clusters:   0%|          | 0/15 [00:00<?, ?it/s]"
      ]
     },
     "metadata": {},
     "output_type": "display_data"
    },
    {
     "data": {
      "application/vnd.jupyter.widget-view+json": {
       "model_id": "936f726a231746a18200c3c0affbd5fc",
       "version_major": 2,
       "version_minor": 0
      },
      "text/plain": [
       "Possible clusters:   0%|          | 0/6 [00:00<?, ?it/s]"
      ]
     },
     "metadata": {},
     "output_type": "display_data"
    },
    {
     "data": {
      "application/vnd.jupyter.widget-view+json": {
       "model_id": "0e0b33287edd4d5f937f693cecf3642a",
       "version_major": 2,
       "version_minor": 0
      },
      "text/plain": [
       "Possible clusters:   0%|          | 0/10879 [00:00<?, ?it/s]"
      ]
     },
     "metadata": {},
     "output_type": "display_data"
    },
    {
     "data": {
      "application/vnd.jupyter.widget-view+json": {
       "model_id": "9a69abbf3a834acebf203680653c6aba",
       "version_major": 2,
       "version_minor": 0
      },
      "text/plain": [
       "Possible clusters:   0%|          | 0/5016 [00:00<?, ?it/s]"
      ]
     },
     "metadata": {},
     "output_type": "display_data"
    },
    {
     "data": {
      "application/vnd.jupyter.widget-view+json": {
       "model_id": "5fe269a4200749c3a3de21635b49f613",
       "version_major": 2,
       "version_minor": 0
      },
      "text/plain": [
       "Possible clusters:   0%|          | 0/560 [00:00<?, ?it/s]"
      ]
     },
     "metadata": {},
     "output_type": "display_data"
    },
    {
     "data": {
      "application/vnd.jupyter.widget-view+json": {
       "model_id": "612ab4ab99ed4e46941952ffadbc186e",
       "version_major": 2,
       "version_minor": 0
      },
      "text/plain": [
       "Possible clusters:   0%|          | 0/286 [00:00<?, ?it/s]"
      ]
     },
     "metadata": {},
     "output_type": "display_data"
    },
    {
     "data": {
      "application/vnd.jupyter.widget-view+json": {
       "model_id": "9e55b230118d4cc1bf1675f02484fad3",
       "version_major": 2,
       "version_minor": 0
      },
      "text/plain": [
       "Possible clusters:   0%|          | 0/120 [00:00<?, ?it/s]"
      ]
     },
     "metadata": {},
     "output_type": "display_data"
    },
    {
     "data": {
      "application/vnd.jupyter.widget-view+json": {
       "model_id": "05a57a3a75f941e0ae32d3656e8d9e0d",
       "version_major": 2,
       "version_minor": 0
      },
      "text/plain": [
       "Possible clusters:   0%|          | 0/15 [00:00<?, ?it/s]"
      ]
     },
     "metadata": {},
     "output_type": "display_data"
    },
    {
     "data": {
      "application/vnd.jupyter.widget-view+json": {
       "model_id": "a56fcb71bf9b48cd96b6bf6f026811ab",
       "version_major": 2,
       "version_minor": 0
      },
      "text/plain": [
       "Possible clusters:   0%|          | 0/6 [00:00<?, ?it/s]"
      ]
     },
     "metadata": {},
     "output_type": "display_data"
    },
    {
     "data": {
      "application/vnd.jupyter.widget-view+json": {
       "model_id": "7a61604a656048b89c4f79587fd53999",
       "version_major": 2,
       "version_minor": 0
      },
      "text/plain": [
       "Possible clusters:   0%|          | 0/10879 [00:00<?, ?it/s]"
      ]
     },
     "metadata": {},
     "output_type": "display_data"
    },
    {
     "data": {
      "application/vnd.jupyter.widget-view+json": {
       "model_id": "6bb3bd6dd46447598499048644350f0b",
       "version_major": 2,
       "version_minor": 0
      },
      "text/plain": [
       "Possible clusters:   0%|          | 0/5016 [00:00<?, ?it/s]"
      ]
     },
     "metadata": {},
     "output_type": "display_data"
    },
    {
     "data": {
      "application/vnd.jupyter.widget-view+json": {
       "model_id": "3253ba58bf6446e39e8548400b429f97",
       "version_major": 2,
       "version_minor": 0
      },
      "text/plain": [
       "Possible clusters:   0%|          | 0/560 [00:00<?, ?it/s]"
      ]
     },
     "metadata": {},
     "output_type": "display_data"
    },
    {
     "data": {
      "application/vnd.jupyter.widget-view+json": {
       "model_id": "622c9d45612f42568ecead92ff83d93e",
       "version_major": 2,
       "version_minor": 0
      },
      "text/plain": [
       "Possible clusters:   0%|          | 0/286 [00:00<?, ?it/s]"
      ]
     },
     "metadata": {},
     "output_type": "display_data"
    },
    {
     "data": {
      "application/vnd.jupyter.widget-view+json": {
       "model_id": "c5a4dee785ea4c93a5f990985cbdb0bd",
       "version_major": 2,
       "version_minor": 0
      },
      "text/plain": [
       "Possible clusters:   0%|          | 0/120 [00:00<?, ?it/s]"
      ]
     },
     "metadata": {},
     "output_type": "display_data"
    },
    {
     "data": {
      "application/vnd.jupyter.widget-view+json": {
       "model_id": "996d5960b9294df0b1c63dc0deffaec7",
       "version_major": 2,
       "version_minor": 0
      },
      "text/plain": [
       "Possible clusters:   0%|          | 0/15 [00:00<?, ?it/s]"
      ]
     },
     "metadata": {},
     "output_type": "display_data"
    },
    {
     "data": {
      "application/vnd.jupyter.widget-view+json": {
       "model_id": "9062ec0ca1084c64b1a69f0928e0bbaa",
       "version_major": 2,
       "version_minor": 0
      },
      "text/plain": [
       "Possible clusters:   0%|          | 0/6 [00:00<?, ?it/s]"
      ]
     },
     "metadata": {},
     "output_type": "display_data"
    },
    {
     "data": {
      "application/vnd.jupyter.widget-view+json": {
       "model_id": "cb3ee6e2c8f4494fb76db27f44a2c6ee",
       "version_major": 2,
       "version_minor": 0
      },
      "text/plain": [
       "Possible clusters:   0%|          | 0/7525 [00:00<?, ?it/s]"
      ]
     },
     "metadata": {},
     "output_type": "display_data"
    },
    {
     "data": {
      "application/vnd.jupyter.widget-view+json": {
       "model_id": "9c167dd6d6b1440d838e9f524de9e240",
       "version_major": 2,
       "version_minor": 0
      },
      "text/plain": [
       "Possible clusters:   0%|          | 0/3196 [00:00<?, ?it/s]"
      ]
     },
     "metadata": {},
     "output_type": "display_data"
    },
    {
     "data": {
      "application/vnd.jupyter.widget-view+json": {
       "model_id": "2a055547689b44e889c7f73b2c56f30c",
       "version_major": 2,
       "version_minor": 0
      },
      "text/plain": [
       "Possible clusters:   0%|          | 0/364 [00:00<?, ?it/s]"
      ]
     },
     "metadata": {},
     "output_type": "display_data"
    },
    {
     "data": {
      "application/vnd.jupyter.widget-view+json": {
       "model_id": "c71305f54aaa4eda9bde02ac0388e556",
       "version_major": 2,
       "version_minor": 0
      },
      "text/plain": [
       "Possible clusters:   0%|          | 0/165 [00:00<?, ?it/s]"
      ]
     },
     "metadata": {},
     "output_type": "display_data"
    },
    {
     "data": {
      "application/vnd.jupyter.widget-view+json": {
       "model_id": "3d2c736131b24f0bac23a889c49be4c1",
       "version_major": 2,
       "version_minor": 0
      },
      "text/plain": [
       "Possible clusters:   0%|          | 0/21 [00:00<?, ?it/s]"
      ]
     },
     "metadata": {},
     "output_type": "display_data"
    },
    {
     "data": {
      "application/vnd.jupyter.widget-view+json": {
       "model_id": "403155e751964c06a88ac5f516cae46b",
       "version_major": 2,
       "version_minor": 0
      },
      "text/plain": [
       "Possible clusters:   0%|          | 0/10 [00:00<?, ?it/s]"
      ]
     },
     "metadata": {},
     "output_type": "display_data"
    },
    {
     "data": {
      "application/vnd.jupyter.widget-view+json": {
       "model_id": "eecbbafa3db848caa660f9044535b5c1",
       "version_major": 2,
       "version_minor": 0
      },
      "text/plain": [
       "Possible clusters:   0%|          | 0/68380 [00:00<?, ?it/s]"
      ]
     },
     "metadata": {},
     "output_type": "display_data"
    },
    {
     "data": {
      "application/vnd.jupyter.widget-view+json": {
       "model_id": "62e5de36a7954f19b3a90d42778c9d37",
       "version_major": 2,
       "version_minor": 0
      },
      "text/plain": [
       "Possible clusters:   0%|          | 0/6175 [00:00<?, ?it/s]"
      ]
     },
     "metadata": {},
     "output_type": "display_data"
    },
    {
     "data": {
      "application/vnd.jupyter.widget-view+json": {
       "model_id": "6f9a39e67e2440f59957398f08e85a21",
       "version_major": 2,
       "version_minor": 0
      },
      "text/plain": [
       "Possible clusters:   0%|          | 0/2500 [00:00<?, ?it/s]"
      ]
     },
     "metadata": {},
     "output_type": "display_data"
    },
    {
     "data": {
      "application/vnd.jupyter.widget-view+json": {
       "model_id": "4785ed265a514ca085f9d7af1b6c55f6",
       "version_major": 2,
       "version_minor": 0
      },
      "text/plain": [
       "Possible clusters:   0%|          | 0/286 [00:00<?, ?it/s]"
      ]
     },
     "metadata": {},
     "output_type": "display_data"
    },
    {
     "data": {
      "application/vnd.jupyter.widget-view+json": {
       "model_id": "44d0c0b2676f427684cfba276cfea817",
       "version_major": 2,
       "version_minor": 0
      },
      "text/plain": [
       "Possible clusters:   0%|          | 0/120 [00:00<?, ?it/s]"
      ]
     },
     "metadata": {},
     "output_type": "display_data"
    },
    {
     "data": {
      "application/vnd.jupyter.widget-view+json": {
       "model_id": "bdf4b6f5e0d74bd4a95cdd6e93cb2b6d",
       "version_major": 2,
       "version_minor": 0
      },
      "text/plain": [
       "Possible clusters:   0%|          | 0/15 [00:00<?, ?it/s]"
      ]
     },
     "metadata": {},
     "output_type": "display_data"
    },
    {
     "data": {
      "application/vnd.jupyter.widget-view+json": {
       "model_id": "34b846764260448cace19da2e44f1936",
       "version_major": 2,
       "version_minor": 0
      },
      "text/plain": [
       "Possible clusters:   0%|          | 0/6 [00:00<?, ?it/s]"
      ]
     },
     "metadata": {},
     "output_type": "display_data"
    },
    {
     "data": {
      "application/vnd.jupyter.widget-view+json": {
       "model_id": "7f34af886faf46b292daab3a9289d3f1",
       "version_major": 2,
       "version_minor": 0
      },
      "text/plain": [
       "Possible clusters:   0%|          | 0/4029 [00:00<?, ?it/s]"
      ]
     },
     "metadata": {},
     "output_type": "display_data"
    },
    {
     "data": {
      "application/vnd.jupyter.widget-view+json": {
       "model_id": "7436feb532a14599bded89328d833eec",
       "version_major": 2,
       "version_minor": 0
      },
      "text/plain": [
       "Possible clusters:   0%|          | 0/455 [00:00<?, ?it/s]"
      ]
     },
     "metadata": {},
     "output_type": "display_data"
    },
    {
     "data": {
      "application/vnd.jupyter.widget-view+json": {
       "model_id": "9d7c4ca425e24067b96f558fe710f9a8",
       "version_major": 2,
       "version_minor": 0
      },
      "text/plain": [
       "Possible clusters:   0%|          | 0/220 [00:00<?, ?it/s]"
      ]
     },
     "metadata": {},
     "output_type": "display_data"
    },
    {
     "data": {
      "application/vnd.jupyter.widget-view+json": {
       "model_id": "787537d90cbc488f9251d8ed0bc3221d",
       "version_major": 2,
       "version_minor": 0
      },
      "text/plain": [
       "Possible clusters:   0%|          | 0/28 [00:00<?, ?it/s]"
      ]
     },
     "metadata": {},
     "output_type": "display_data"
    },
    {
     "data": {
      "application/vnd.jupyter.widget-view+json": {
       "model_id": "1ce41959aaf046a0ba9daa3e8276c659",
       "version_major": 2,
       "version_minor": 0
      },
      "text/plain": [
       "Possible clusters:   0%|          | 0/15 [00:00<?, ?it/s]"
      ]
     },
     "metadata": {},
     "output_type": "display_data"
    },
    {
     "data": {
      "application/vnd.jupyter.widget-view+json": {
       "model_id": "42a0a5c5f0c84cd1a9bcbd028510ba78",
       "version_major": 2,
       "version_minor": 0
      },
      "text/plain": [
       "Possible clusters:   0%|          | 0/6 [00:00<?, ?it/s]"
      ]
     },
     "metadata": {},
     "output_type": "display_data"
    }
   ],
   "source": [
    "import pandas as pd\n",
    "import torch\n",
    "import numpy as np\n",
    "\n",
    "# Load data\n",
    "df = pd.read_csv('data/ielexData.csv')\n",
    "\n",
    "# Create IPA to ID mapping\n",
    "import joblib\n",
    "ipa_embedder = joblib.load(\"data/embeddings/34.joblib\")\n",
    "ipa_to_ids = ipa_embedder.char_to_idx\n",
    "\n",
    "# Example of using the modular approach:\n",
    "from transformer_stuff import TransformerCognateModel\n",
    "model = torch.load('TransformerCognateModel_34.pt', weights_only=False)\n",
    "device = torch.device('cuda' if torch.cuda.is_available() else 'cpu')\n",
    "model.to(device)\n",
    "\n",
    "# Process a single meaning group\n",
    "# meaning = 'few'\n",
    "# if meaning in groupings:\n",
    "#     word_array, cognate_labels = groupings[meaning]\n",
    "#     clusters = cluster_grouping(word_array, model, device)\n",
    "#     results = evaluate_clusters(clusters, cognate_labels, meaning)\n",
    "#     print(f\"Results for '{meaning}': {results}\")\n",
    "\n",
    "# Or process all meanings\n",
    "all_results = cluster_and_evaluate_all_meanings(df, model, ipa_to_ids, device)\n",
    "accuracies = [r['accuracy'] for r in all_results.values()]\n",
    "print(f\"\\nOverall average accuracy: {np.mean(accuracies):.3f}\")"
   ]
  },
  {
   "cell_type": "code",
   "execution_count": null,
   "metadata": {},
   "outputs": [],
   "source": [
    "import matplotlib.pyplot as plt\n",
    "from visualization_stuff import show_box_plot\n",
    "\n",
    "accuracies = []\n",
    "\n",
    "for meaning, results in all_results.items():\n",
    "    accuracies.append(results[\"accuracy\"])\n",
    "\n",
    "show_box_plot(accuracies, title=\"IELEX Clustering Accuracies\")"
   ]
  }
 ],
 "metadata": {
  "kernelspec": {
   "display_name": ".venv",
   "language": "python",
   "name": "python3"
  },
  "language_info": {
   "codemirror_mode": {
    "name": "ipython",
    "version": 3
   },
   "file_extension": ".py",
   "mimetype": "text/x-python",
   "name": "python",
   "nbconvert_exporter": "python",
   "pygments_lexer": "ipython3",
   "version": "3.12.4"
  }
 },
 "nbformat": 4,
 "nbformat_minor": 2
}
