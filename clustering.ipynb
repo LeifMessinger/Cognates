{
 "cells": [
  {
   "cell_type": "code",
   "execution_count": 1,
   "metadata": {},
   "outputs": [],
   "source": [
    "from graph_stuff import generate_all_clusters, score_cluster, create_groupings, evaluate_clusters\n",
    "\n",
    "def find_best_clustering(adj_matrix, conductance_weight=0.5, density_weight=0.5):\n",
    "    \"\"\"Find the best clustering using greedy approach.\"\"\"\n",
    "    n_nodes = adj_matrix.shape[0]\n",
    "    available_nodes = list(range(n_nodes))\n",
    "    clusters = []\n",
    "    \n",
    "    while len(available_nodes) > 1:\n",
    "        import math\n",
    "        max_cluster_size = min(math.floor(math.sqrt(n_nodes)), 8)\n",
    "        if max_cluster_size < 2:\n",
    "            break\n",
    "        \n",
    "        # Generate all possible clusters\n",
    "        possible_clusters = generate_all_clusters(available_nodes, max_cluster_size)\n",
    "        \n",
    "        best_cluster = None\n",
    "        best_score = -1\n",
    "        \n",
    "        # Find best cluster\n",
    "        from tqdm.notebook import tqdm\n",
    "        for cluster in tqdm(possible_clusters, desc=\"Possible clusters\", leave=False):\n",
    "            score = score_cluster(cluster, adj_matrix, conductance_weight, density_weight)\n",
    "            if score > best_score:\n",
    "                best_score = score\n",
    "                best_cluster = cluster\n",
    "        \n",
    "        if best_cluster is None or best_score <= 0:\n",
    "            break\n",
    "        \n",
    "        # Add best cluster and remove its nodes from available\n",
    "        clusters.append(best_cluster)\n",
    "        available_nodes = [node for node in available_nodes if node not in best_cluster]\n",
    "    \n",
    "    # Add remaining nodes as singleton clusters\n",
    "    for node in available_nodes:\n",
    "        clusters.append([node])\n",
    "    \n",
    "    return clusters\n",
    "\n",
    "def cluster_grouping(word_array, model, device='cpu'):\n",
    "    \"\"\"\n",
    "    Cluster a group of words using the model to create adjacency matrix.\n",
    "    \n",
    "    Args:\n",
    "        word_array: List of tensors representing IPA words\n",
    "        model: Trained transformer model\n",
    "        device: Device to run model on\n",
    "    \n",
    "    Returns:\n",
    "        List of clusters, where each cluster is a list of indices\n",
    "    \"\"\"\n",
    "    n_words = len(word_array)\n",
    "    \n",
    "    # Create adjacency matrix\n",
    "    adj_matrix = torch.zeros((n_words, n_words))\n",
    "    \n",
    "    model.eval()\n",
    "    with torch.no_grad():\n",
    "        for i in range(n_words):\n",
    "            for j in range(i+1, n_words):\n",
    "                # Create word pair tensor\n",
    "                word_pair = torch.stack([word_array[i], word_array[j]], dim=0).unsqueeze(0).to(device)\n",
    "                \n",
    "                # Create masks (True for padding tokens)\n",
    "                mask1 = (word_array[i] == 0).unsqueeze(0).to(device)\n",
    "                mask2 = (word_array[j] == 0).unsqueeze(0).to(device)\n",
    "                word_pair_masks = torch.stack([mask1, mask2], dim=1).to(device)\n",
    "                \n",
    "                # Get similarity score\n",
    "                similarity = model(word_pair, word_pair_masks).item()\n",
    "                \n",
    "                # Fill both triangles of the matrix\n",
    "                adj_matrix[i, j] = similarity\n",
    "                adj_matrix[j, i] = similarity\n",
    "\n",
    "    # Find best clustering\n",
    "    predicted_clusters = find_best_clustering(adj_matrix)\n",
    "    \n",
    "    return predicted_clusters\n",
    "\n",
    "def cluster_and_evaluate_all_meanings(df, model, ipa_to_ids, device='cpu'):\n",
    "    \"\"\"Process all word meanings and evaluate clustering using the modular approach.\"\"\"\n",
    "    # Step 1: Preprocessing\n",
    "    groupings = create_groupings(df, ipa_to_ids)\n",
    "    \n",
    "    results = {}\n",
    "    \n",
    "    # Step 2 & 3: Clustering and Evaluation\n",
    "    from tqdm.notebook import tqdm\n",
    "    for meaning, (word_array, cognate_class_label_array) in tqdm(groupings.items(), total=len(groupings), desc=\"Groupings\"):\n",
    "        #print(f\"\\nProcessing meaning: {meaning}\")\n",
    "        #print(f\"Number of words: {len(word_array)}\")\n",
    "        \n",
    "        # Step 2: Clustering\n",
    "        predicted_clusters = cluster_grouping(word_array, model, device)\n",
    "        \n",
    "        # Step 3: Evaluation\n",
    "        evaluation_results = evaluate_clusters(predicted_clusters, cognate_class_label_array, meaning)\n",
    "        \n",
    "        results[meaning] = evaluation_results\n",
    "        \n",
    "        #print(f\"Predicted clusters: {predicted_clusters}\")\n",
    "        #print(f\"True classes: {cognate_class_label_array}\")\n",
    "        #print(f\"Accuracy: {evaluation_results['accuracy']:.3f}\")\n",
    "    \n",
    "    return results"
   ]
  },
  {
   "cell_type": "code",
   "execution_count": 2,
   "metadata": {},
   "outputs": [
    {
     "data": {
      "text/plain": [
       "TransformerCognateModel(\n",
       "  (embedder): Embedding(129, 34, padding_idx=0)\n",
       "  (pos_encoder): PositionalEncoding(\n",
       "    (dropout): Dropout(p=0.2, inplace=False)\n",
       "  )\n",
       "  (transformer_encoder): TransformerEncoder(\n",
       "    (layers): ModuleList(\n",
       "      (0-3): 4 x TransformerEncoderLayer(\n",
       "        (self_attn): MultiheadAttention(\n",
       "          (out_proj): NonDynamicallyQuantizableLinear(in_features=34, out_features=34, bias=True)\n",
       "        )\n",
       "        (linear1): Linear(in_features=34, out_features=128, bias=True)\n",
       "        (dropout): Dropout(p=0.2, inplace=False)\n",
       "        (linear2): Linear(in_features=128, out_features=34, bias=True)\n",
       "        (norm1): LayerNorm((34,), eps=1e-05, elementwise_affine=True)\n",
       "        (norm2): LayerNorm((34,), eps=1e-05, elementwise_affine=True)\n",
       "        (dropout1): Dropout(p=0.2, inplace=False)\n",
       "        (dropout2): Dropout(p=0.2, inplace=False)\n",
       "      )\n",
       "    )\n",
       "  )\n",
       "  (fc): Sequential(\n",
       "    (0): Linear(in_features=68, out_features=64, bias=True)\n",
       "    (1): ReLU()\n",
       "    (2): Linear(in_features=64, out_features=1, bias=True)\n",
       "    (3): Sigmoid()\n",
       "  )\n",
       "  (cosine_similarity): CosineSimilarity()\n",
       ")"
      ]
     },
     "execution_count": 2,
     "metadata": {},
     "output_type": "execute_result"
    }
   ],
   "source": [
    "import pandas as pd\n",
    "import torch\n",
    "import numpy as np\n",
    "\n",
    "# Load data\n",
    "df = pd.read_csv('data/ielexData.csv')\n",
    "\n",
    "# Create IPA to ID mapping\n",
    "import joblib\n",
    "ipa_embedder = joblib.load(\"data/embeddings/34.joblib\")\n",
    "ipa_to_ids = ipa_embedder.char_to_idx\n",
    "\n",
    "# Example of using the modular approach:\n",
    "from transformer_stuff import TransformerCognateModel\n",
    "model = torch.load('TransformerCognateModel_34.pt', weights_only=False)\n",
    "device = torch.device('cpu' if torch.cuda.is_available() else 'cpu')\n",
    "model.to(device)"
   ]
  },
  {
   "cell_type": "code",
   "execution_count": 3,
   "metadata": {},
   "outputs": [
    {
     "data": {
      "application/vnd.jupyter.widget-view+json": {
       "model_id": "1a7512467adb4356b61644fabc2b0ff9",
       "version_major": 2,
       "version_minor": 0
      },
      "text/plain": [
       "Creating batches:   0%|          | 0/47274 [00:00<?, ?it/s]"
      ]
     },
     "metadata": {},
     "output_type": "display_data"
    },
    {
     "data": {
      "application/vnd.jupyter.widget-view+json": {
       "model_id": "52ad3cb21515428da3945442bf374aa3",
       "version_major": 2,
       "version_minor": 0
      },
      "text/plain": [
       "Testing IELEX against GLED:   0%|          | 0/30 [00:00<?, ?it/s]"
      ]
     },
     "metadata": {},
     "output_type": "display_data"
    },
    {
     "name": "stdout",
     "output_type": "stream",
     "text": [
      "              precision    recall  f1-score   support\n",
      "\n",
      "           0       0.77      0.79      0.78     33221\n",
      "           1       0.47      0.45      0.46     14053\n",
      "\n",
      "    accuracy                           0.69     47274\n",
      "   macro avg       0.62      0.62      0.62     47274\n",
      "weighted avg       0.68      0.69      0.69     47274\n",
      "\n"
     ]
    }
   ],
   "source": [
    "import pandas as pd\n",
    "from itertools import combinations\n",
    "\n",
    "ielexPairsDf = pd.read_csv(\"data/ielexData.csv\")\n",
    "\n",
    "ielexPairsDf = ielexPairsDf[['Meaning', 'Phonological Form', 'cc']].dropna()\n",
    "ielexPairsDf.columns = ['meaning', 'word', 'cognate_class']\n",
    "\n",
    "ielexPairs = []\n",
    "\n",
    "for _, group in ielexPairsDf.groupby('meaning'):\n",
    "    entries = group.to_dict('records')\n",
    "    for w1, w2 in combinations(entries, 2):\n",
    "        word1 = str(w1['word'])\n",
    "        word2 = str(w2['word'])\n",
    "        label = int(w1['cognate_class'] == w2['cognate_class'])\n",
    "        ielexPairs.append((word1, word2, label))\n",
    "\n",
    "def preprocess(all_pairs, ipa_embedder, device):\n",
    "    from itertools import chain\n",
    "\n",
    "    max_length = 0\n",
    "    for pair in all_pairs:\n",
    "        for word in pair:\n",
    "            length = len(word)\n",
    "            if length > max_length:\n",
    "                max_length = length\n",
    "    \n",
    "    batches = torch.empty((len(all_pairs), 2, max_length), dtype=torch.int, device=device)\n",
    "    batches_masks = torch.zeros((len(all_pairs), 2, max_length), dtype=torch.bool, device=device)\n",
    "\n",
    "    from tqdm.notebook import tqdm\n",
    "    for pair_index, pair in tqdm(enumerate(all_pairs), total=len(all_pairs), desc=\"Creating batches\"):\n",
    "        for word_index, word in enumerate(pair):\n",
    "            for letter_index, letter in enumerate(word):\n",
    "                batches[pair_index, word_index, letter_index] = ipa_embedder.char_to_idx[letter]\n",
    "            \n",
    "            batches_masks[pair_index, word_index, len(word):] = True\n",
    "\n",
    "    return (batches, batches_masks, max_length)\n",
    "\n",
    "all_pairs = [row[:2] for row in ielexPairs]\n",
    "all_labels = [row[2] for row in ielexPairs]\n",
    "\n",
    "ldistance_operations, ldistance_masks, max_length = preprocess(all_pairs, ipa_embedder, device=device)\n",
    "test_data = list(zip(ldistance_operations, ldistance_masks))\n",
    "\n",
    "from torch.utils.data import DataLoader\n",
    "test_loader = DataLoader(test_data, batch_size=1600, generator=torch.Generator(device=torch.get_default_device().type))\n",
    "\n",
    "predicted_labels = []\n",
    "\n",
    "from tqdm.notebook import tqdm\n",
    "for batch in tqdm(test_loader, desc=\"Testing IELEX against GLED\"):\n",
    "    batch_predicted_labels = model(*batch).squeeze()\n",
    "    batch_predicted_labels = (batch_predicted_labels > 0.5).int()\n",
    "    predicted_labels.extend(batch_predicted_labels.tolist())\n",
    "\n",
    "from sklearn.metrics import classification_report\n",
    "print(classification_report(all_labels, predicted_labels))"
   ]
  },
  {
   "cell_type": "code",
   "execution_count": 4,
   "metadata": {},
   "outputs": [
    {
     "data": {
      "application/vnd.jupyter.widget-view+json": {
       "model_id": "3e9fbd47aeb6471f8019310d42251df7",
       "version_major": 2,
       "version_minor": 0
      },
      "text/plain": [
       "Groupings:   0%|          | 0/208 [00:00<?, ?it/s]"
      ]
     },
     "metadata": {},
     "output_type": "display_data"
    },
    {
     "name": "stderr",
     "output_type": "stream",
     "text": [
      "c:\\Users\\lsm0147\\Documents\\Cognates\\.venv\\Lib\\site-packages\\torch\\nn\\modules\\transformer.py:505: UserWarning: The PyTorch API of nested tensors is in prototype stage and will change in the near future. We recommend specifying layout=torch.jagged when constructing a nested tensor, as this layout receives active development, has better operator coverage, and works with torch.compile. (Triggered internally at C:\\actions-runner\\_work\\pytorch\\pytorch\\pytorch\\aten\\src\\ATen\\NestedTensorImpl.cpp:182.)\n",
      "  output = torch._nested_tensor_from_mask(\n"
     ]
    },
    {
     "data": {
      "application/vnd.jupyter.widget-view+json": {
       "model_id": "481c63659752499a9db8b4d4572c98d3",
       "version_major": 2,
       "version_minor": 0
      },
      "text/plain": [
       "Possible clusters:   0%|          | 0/12926 [00:00<?, ?it/s]"
      ]
     },
     "metadata": {},
     "output_type": "display_data"
    },
    {
     "data": {
      "application/vnd.jupyter.widget-view+json": {
       "model_id": "bf43fa3c8b834d59953b271d6839d2bd",
       "version_major": 2,
       "version_minor": 0
      },
      "text/plain": [
       "Possible clusters:   0%|          | 0/6175 [00:00<?, ?it/s]"
      ]
     },
     "metadata": {},
     "output_type": "display_data"
    },
    {
     "data": {
      "application/vnd.jupyter.widget-view+json": {
       "model_id": "16caf9694f914afb8f5c0fd2d31d8f5d",
       "version_major": 2,
       "version_minor": 0
      },
      "text/plain": [
       "Possible clusters:   0%|          | 0/2500 [00:00<?, ?it/s]"
      ]
     },
     "metadata": {},
     "output_type": "display_data"
    },
    {
     "data": {
      "application/vnd.jupyter.widget-view+json": {
       "model_id": "e44773d5f68548cca5acaf12392d7e25",
       "version_major": 2,
       "version_minor": 0
      },
      "text/plain": [
       "Possible clusters:   0%|          | 0/781 [00:00<?, ?it/s]"
      ]
     },
     "metadata": {},
     "output_type": "display_data"
    },
    {
     "data": {
      "application/vnd.jupyter.widget-view+json": {
       "model_id": "facc169eb6d84721b49f047f40508c7f",
       "version_major": 2,
       "version_minor": 0
      },
      "text/plain": [
       "Possible clusters:   0%|          | 0/154 [00:00<?, ?it/s]"
      ]
     },
     "metadata": {},
     "output_type": "display_data"
    },
    {
     "data": {
      "application/vnd.jupyter.widget-view+json": {
       "model_id": "c99c42a388c54f168192a2fa01bcb59a",
       "version_major": 2,
       "version_minor": 0
      },
      "text/plain": [
       "Possible clusters:   0%|          | 0/11 [00:00<?, ?it/s]"
      ]
     },
     "metadata": {},
     "output_type": "display_data"
    },
    {
     "data": {
      "application/vnd.jupyter.widget-view+json": {
       "model_id": "cbeca8fe8e924142b4aff886485e1dbb",
       "version_major": 2,
       "version_minor": 0
      },
      "text/plain": [
       "Possible clusters:   0%|          | 0/6175 [00:00<?, ?it/s]"
      ]
     },
     "metadata": {},
     "output_type": "display_data"
    },
    {
     "data": {
      "application/vnd.jupyter.widget-view+json": {
       "model_id": "ad55163f708e49cb850e2fd8927a3e29",
       "version_major": 2,
       "version_minor": 0
      },
      "text/plain": [
       "Possible clusters:   0%|          | 0/2500 [00:00<?, ?it/s]"
      ]
     },
     "metadata": {},
     "output_type": "display_data"
    },
    {
     "data": {
      "application/vnd.jupyter.widget-view+json": {
       "model_id": "d70442cf4beb4bd5ac7a07405e9aec2f",
       "version_major": 2,
       "version_minor": 0
      },
      "text/plain": [
       "Possible clusters:   0%|          | 0/781 [00:00<?, ?it/s]"
      ]
     },
     "metadata": {},
     "output_type": "display_data"
    },
    {
     "data": {
      "application/vnd.jupyter.widget-view+json": {
       "model_id": "b135c885edbe44afb69ef40f5ed1705f",
       "version_major": 2,
       "version_minor": 0
      },
      "text/plain": [
       "Possible clusters:   0%|          | 0/154 [00:00<?, ?it/s]"
      ]
     },
     "metadata": {},
     "output_type": "display_data"
    },
    {
     "data": {
      "application/vnd.jupyter.widget-view+json": {
       "model_id": "4eaff2167080471ab32314e8a245c7e7",
       "version_major": 2,
       "version_minor": 0
      },
      "text/plain": [
       "Possible clusters:   0%|          | 0/11 [00:00<?, ?it/s]"
      ]
     },
     "metadata": {},
     "output_type": "display_data"
    },
    {
     "data": {
      "application/vnd.jupyter.widget-view+json": {
       "model_id": "b7632b6361c74de4a24d9b5fdd8d987a",
       "version_major": 2,
       "version_minor": 0
      },
      "text/plain": [
       "Possible clusters:   0%|          | 0/9086 [00:00<?, ?it/s]"
      ]
     },
     "metadata": {},
     "output_type": "display_data"
    },
    {
     "data": {
      "application/vnd.jupyter.widget-view+json": {
       "model_id": "0a3106d47ebf4419ba5486d92d9e3ce8",
       "version_major": 2,
       "version_minor": 0
      },
      "text/plain": [
       "Possible clusters:   0%|          | 0/4029 [00:00<?, ?it/s]"
      ]
     },
     "metadata": {},
     "output_type": "display_data"
    },
    {
     "data": {
      "application/vnd.jupyter.widget-view+json": {
       "model_id": "caaefa99d39f4fcaa3863cc1ac309aed",
       "version_major": 2,
       "version_minor": 0
      },
      "text/plain": [
       "Possible clusters:   0%|          | 0/1456 [00:00<?, ?it/s]"
      ]
     },
     "metadata": {},
     "output_type": "display_data"
    },
    {
     "data": {
      "application/vnd.jupyter.widget-view+json": {
       "model_id": "878c9db8072340ec96d79dbf072010f7",
       "version_major": 2,
       "version_minor": 0
      },
      "text/plain": [
       "Possible clusters:   0%|          | 0/375 [00:00<?, ?it/s]"
      ]
     },
     "metadata": {},
     "output_type": "display_data"
    },
    {
     "data": {
      "application/vnd.jupyter.widget-view+json": {
       "model_id": "36d2143771f44b19b76e29a13539325f",
       "version_major": 2,
       "version_minor": 0
      },
      "text/plain": [
       "Possible clusters:   0%|          | 0/50 [00:00<?, ?it/s]"
      ]
     },
     "metadata": {},
     "output_type": "display_data"
    },
    {
     "data": {
      "application/vnd.jupyter.widget-view+json": {
       "model_id": "d3622e40c76c492ab5175050db3389d4",
       "version_major": 2,
       "version_minor": 0
      },
      "text/plain": [
       "Possible clusters:   0%|          | 0/1 [00:00<?, ?it/s]"
      ]
     },
     "metadata": {},
     "output_type": "display_data"
    },
    {
     "data": {
      "application/vnd.jupyter.widget-view+json": {
       "model_id": "baa4f7578b0540158cd62412c51be7e3",
       "version_major": 2,
       "version_minor": 0
      },
      "text/plain": [
       "Possible clusters:   0%|          | 0/6175 [00:00<?, ?it/s]"
      ]
     },
     "metadata": {},
     "output_type": "display_data"
    },
    {
     "data": {
      "application/vnd.jupyter.widget-view+json": {
       "model_id": "4f922e58640f4a0aa74ccd22d0c05d94",
       "version_major": 2,
       "version_minor": 0
      },
      "text/plain": [
       "Possible clusters:   0%|          | 0/2500 [00:00<?, ?it/s]"
      ]
     },
     "metadata": {},
     "output_type": "display_data"
    },
    {
     "data": {
      "application/vnd.jupyter.widget-view+json": {
       "model_id": "5a402998bf2243b5b2a1bd6b8460948d",
       "version_major": 2,
       "version_minor": 0
      },
      "text/plain": [
       "Possible clusters:   0%|          | 0/781 [00:00<?, ?it/s]"
      ]
     },
     "metadata": {},
     "output_type": "display_data"
    },
    {
     "data": {
      "application/vnd.jupyter.widget-view+json": {
       "model_id": "e3e59cddfd374958a4408b2337e8dc8e",
       "version_major": 2,
       "version_minor": 0
      },
      "text/plain": [
       "Possible clusters:   0%|          | 0/154 [00:00<?, ?it/s]"
      ]
     },
     "metadata": {},
     "output_type": "display_data"
    },
    {
     "data": {
      "application/vnd.jupyter.widget-view+json": {
       "model_id": "6f33f67529a246b1afa71faac691b687",
       "version_major": 2,
       "version_minor": 0
      },
      "text/plain": [
       "Possible clusters:   0%|          | 0/11 [00:00<?, ?it/s]"
      ]
     },
     "metadata": {},
     "output_type": "display_data"
    },
    {
     "data": {
      "application/vnd.jupyter.widget-view+json": {
       "model_id": "92f9802e8402415ba1cc933944155156",
       "version_major": 2,
       "version_minor": 0
      },
      "text/plain": [
       "Possible clusters:   0%|          | 0/15 [00:00<?, ?it/s]"
      ]
     },
     "metadata": {},
     "output_type": "display_data"
    },
    {
     "data": {
      "application/vnd.jupyter.widget-view+json": {
       "model_id": "10ceb72dc996485b9c1ac596d4d9311f",
       "version_major": 2,
       "version_minor": 0
      },
      "text/plain": [
       "Possible clusters:   0%|          | 0/6 [00:00<?, ?it/s]"
      ]
     },
     "metadata": {},
     "output_type": "display_data"
    },
    {
     "data": {
      "application/vnd.jupyter.widget-view+json": {
       "model_id": "cfcb893296ac4552a40fd631d794a99e",
       "version_major": 2,
       "version_minor": 0
      },
      "text/plain": [
       "Possible clusters:   0%|          | 0/1 [00:00<?, ?it/s]"
      ]
     },
     "metadata": {},
     "output_type": "display_data"
    },
    {
     "data": {
      "application/vnd.jupyter.widget-view+json": {
       "model_id": "3ab2eb544347441f808c293200f5cd2f",
       "version_major": 2,
       "version_minor": 0
      },
      "text/plain": [
       "Possible clusters:   0%|          | 0/7525 [00:00<?, ?it/s]"
      ]
     },
     "metadata": {},
     "output_type": "display_data"
    },
    {
     "data": {
      "application/vnd.jupyter.widget-view+json": {
       "model_id": "0c2af4a6cab34c9884873e053ca611eb",
       "version_major": 2,
       "version_minor": 0
      },
      "text/plain": [
       "Possible clusters:   0%|          | 0/3196 [00:00<?, ?it/s]"
      ]
     },
     "metadata": {},
     "output_type": "display_data"
    },
    {
     "data": {
      "application/vnd.jupyter.widget-view+json": {
       "model_id": "1e882791a95b43398e6b9719268cb08c",
       "version_major": 2,
       "version_minor": 0
      },
      "text/plain": [
       "Possible clusters:   0%|          | 0/1079 [00:00<?, ?it/s]"
      ]
     },
     "metadata": {},
     "output_type": "display_data"
    },
    {
     "data": {
      "application/vnd.jupyter.widget-view+json": {
       "model_id": "f8de14eb551b466c9dd33a290d54011e",
       "version_major": 2,
       "version_minor": 0
      },
      "text/plain": [
       "Possible clusters:   0%|          | 0/246 [00:00<?, ?it/s]"
      ]
     },
     "metadata": {},
     "output_type": "display_data"
    },
    {
     "data": {
      "application/vnd.jupyter.widget-view+json": {
       "model_id": "b44e522362364bac95c6c0248b517efa",
       "version_major": 2,
       "version_minor": 0
      },
      "text/plain": [
       "Possible clusters:   0%|          | 0/25 [00:00<?, ?it/s]"
      ]
     },
     "metadata": {},
     "output_type": "display_data"
    },
    {
     "data": {
      "application/vnd.jupyter.widget-view+json": {
       "model_id": "466fb14695354367912a024a53790963",
       "version_major": 2,
       "version_minor": 0
      },
      "text/plain": [
       "Possible clusters:   0%|          | 0/284240 [00:00<?, ?it/s]"
      ]
     },
     "metadata": {},
     "output_type": "display_data"
    },
    {
     "data": {
      "application/vnd.jupyter.widget-view+json": {
       "model_id": "25125fa40a14474f8ca6b992a0eea6cf",
       "version_major": 2,
       "version_minor": 0
      },
      "text/plain": [
       "Possible clusters:   0%|          | 0/122409 [00:00<?, ?it/s]"
      ]
     },
     "metadata": {},
     "output_type": "display_data"
    },
    {
     "data": {
      "application/vnd.jupyter.widget-view+json": {
       "model_id": "4ea9d50e982b461bb11b4d59c6565920",
       "version_major": 2,
       "version_minor": 0
      },
      "text/plain": [
       "Possible clusters:   0%|          | 0/44528 [00:00<?, ?it/s]"
      ]
     },
     "metadata": {},
     "output_type": "display_data"
    },
    {
     "data": {
      "application/vnd.jupyter.widget-view+json": {
       "model_id": "50cd6827943243999f87fd97b00098cc",
       "version_major": 2,
       "version_minor": 0
      },
      "text/plain": [
       "Possible clusters:   0%|          | 0/12597 [00:00<?, ?it/s]"
      ]
     },
     "metadata": {},
     "output_type": "display_data"
    },
    {
     "data": {
      "application/vnd.jupyter.widget-view+json": {
       "model_id": "5592fc367b224414a826afa49b76498e",
       "version_major": 2,
       "version_minor": 0
      },
      "text/plain": [
       "Possible clusters:   0%|          | 0/2366 [00:00<?, ?it/s]"
      ]
     },
     "metadata": {},
     "output_type": "display_data"
    },
    {
     "data": {
      "application/vnd.jupyter.widget-view+json": {
       "model_id": "436588ce84944619808db6dadfee3400",
       "version_major": 2,
       "version_minor": 0
      },
      "text/plain": [
       "Possible clusters:   0%|          | 0/210 [00:00<?, ?it/s]"
      ]
     },
     "metadata": {},
     "output_type": "display_data"
    },
    {
     "data": {
      "application/vnd.jupyter.widget-view+json": {
       "model_id": "f9e5cefc0f3142718042006fdb61107e",
       "version_major": 2,
       "version_minor": 0
      },
      "text/plain": [
       "Possible clusters:   0%|          | 0/4 [00:00<?, ?it/s]"
      ]
     },
     "metadata": {},
     "output_type": "display_data"
    },
    {
     "data": {
      "application/vnd.jupyter.widget-view+json": {
       "model_id": "69ebc721c3354ab38c11097caf7cd904",
       "version_major": 2,
       "version_minor": 0
      },
      "text/plain": [
       "Possible clusters:   0%|          | 0/7525 [00:00<?, ?it/s]"
      ]
     },
     "metadata": {},
     "output_type": "display_data"
    },
    {
     "data": {
      "application/vnd.jupyter.widget-view+json": {
       "model_id": "f4f9bf10034f4bfe8467c6e55536cb37",
       "version_major": 2,
       "version_minor": 0
      },
      "text/plain": [
       "Possible clusters:   0%|          | 0/3196 [00:00<?, ?it/s]"
      ]
     },
     "metadata": {},
     "output_type": "display_data"
    },
    {
     "data": {
      "application/vnd.jupyter.widget-view+json": {
       "model_id": "db10abb85e684fce9714a0e59eee5b96",
       "version_major": 2,
       "version_minor": 0
      },
      "text/plain": [
       "Possible clusters:   0%|          | 0/1079 [00:00<?, ?it/s]"
      ]
     },
     "metadata": {},
     "output_type": "display_data"
    },
    {
     "data": {
      "application/vnd.jupyter.widget-view+json": {
       "model_id": "4f8cf43a0cae4d67b9ae5541488e0c35",
       "version_major": 2,
       "version_minor": 0
      },
      "text/plain": [
       "Possible clusters:   0%|          | 0/246 [00:00<?, ?it/s]"
      ]
     },
     "metadata": {},
     "output_type": "display_data"
    },
    {
     "data": {
      "application/vnd.jupyter.widget-view+json": {
       "model_id": "068d29ceb2fa4f8e930b0256155c9f58",
       "version_major": 2,
       "version_minor": 0
      },
      "text/plain": [
       "Possible clusters:   0%|          | 0/25 [00:00<?, ?it/s]"
      ]
     },
     "metadata": {},
     "output_type": "display_data"
    },
    {
     "data": {
      "application/vnd.jupyter.widget-view+json": {
       "model_id": "ba6e44253fc940329e6df3440acf81cb",
       "version_major": 2,
       "version_minor": 0
      },
      "text/plain": [
       "Possible clusters:   0%|          | 0/1 [00:00<?, ?it/s]"
      ]
     },
     "metadata": {},
     "output_type": "display_data"
    },
    {
     "data": {
      "application/vnd.jupyter.widget-view+json": {
       "model_id": "a719ebe56d4e4d36b4a7d909f123dbe8",
       "version_major": 2,
       "version_minor": 0
      },
      "text/plain": [
       "Possible clusters:   0%|          | 0/146566 [00:00<?, ?it/s]"
      ]
     },
     "metadata": {},
     "output_type": "display_data"
    },
    {
     "data": {
      "application/vnd.jupyter.widget-view+json": {
       "model_id": "2fc13f554a8543c7a822b40df7fdd82e",
       "version_major": 2,
       "version_minor": 0
      },
      "text/plain": [
       "Possible clusters:   0%|          | 0/55430 [00:00<?, ?it/s]"
      ]
     },
     "metadata": {},
     "output_type": "display_data"
    },
    {
     "data": {
      "application/vnd.jupyter.widget-view+json": {
       "model_id": "b6a39b5d3eb846ea9f4d766a5c57689a",
       "version_major": 2,
       "version_minor": 0
      },
      "text/plain": [
       "Possible clusters:   0%|          | 0/16644 [00:00<?, ?it/s]"
      ]
     },
     "metadata": {},
     "output_type": "display_data"
    },
    {
     "data": {
      "application/vnd.jupyter.widget-view+json": {
       "model_id": "23333e49c5274d8ba7c1342555877824",
       "version_major": 2,
       "version_minor": 0
      },
      "text/plain": [
       "Possible clusters:   0%|          | 0/3458 [00:00<?, ?it/s]"
      ]
     },
     "metadata": {},
     "output_type": "display_data"
    },
    {
     "data": {
      "application/vnd.jupyter.widget-view+json": {
       "model_id": "a14ce38e1f794998aaf2cc7a33d66380",
       "version_major": 2,
       "version_minor": 0
      },
      "text/plain": [
       "Possible clusters:   0%|          | 0/372 [00:00<?, ?it/s]"
      ]
     },
     "metadata": {},
     "output_type": "display_data"
    },
    {
     "data": {
      "application/vnd.jupyter.widget-view+json": {
       "model_id": "f6109c89d32c471d8c111e66a373c625",
       "version_major": 2,
       "version_minor": 0
      },
      "text/plain": [
       "Possible clusters:   0%|          | 0/11 [00:00<?, ?it/s]"
      ]
     },
     "metadata": {},
     "output_type": "display_data"
    },
    {
     "data": {
      "application/vnd.jupyter.widget-view+json": {
       "model_id": "b2f1196292f3491fa69cb56c24d18be9",
       "version_major": 2,
       "version_minor": 0
      },
      "text/plain": [
       "Possible clusters:   0%|          | 0/10879 [00:00<?, ?it/s]"
      ]
     },
     "metadata": {},
     "output_type": "display_data"
    },
    {
     "data": {
      "application/vnd.jupyter.widget-view+json": {
       "model_id": "5a85ddbdd912445f8185dc9fdcf6da3c",
       "version_major": 2,
       "version_minor": 0
      },
      "text/plain": [
       "Possible clusters:   0%|          | 0/5016 [00:00<?, ?it/s]"
      ]
     },
     "metadata": {},
     "output_type": "display_data"
    },
    {
     "data": {
      "application/vnd.jupyter.widget-view+json": {
       "model_id": "9d521487d50941b5b981b0fef183e261",
       "version_major": 2,
       "version_minor": 0
      },
      "text/plain": [
       "Possible clusters:   0%|          | 0/1925 [00:00<?, ?it/s]"
      ]
     },
     "metadata": {},
     "output_type": "display_data"
    },
    {
     "data": {
      "application/vnd.jupyter.widget-view+json": {
       "model_id": "f0b2f486f8274a81afd49737cea72e0d",
       "version_major": 2,
       "version_minor": 0
      },
      "text/plain": [
       "Possible clusters:   0%|          | 0/550 [00:00<?, ?it/s]"
      ]
     },
     "metadata": {},
     "output_type": "display_data"
    },
    {
     "data": {
      "application/vnd.jupyter.widget-view+json": {
       "model_id": "54c91743a0bd449391210b9a23448732",
       "version_major": 2,
       "version_minor": 0
      },
      "text/plain": [
       "Possible clusters:   0%|          | 0/91 [00:00<?, ?it/s]"
      ]
     },
     "metadata": {},
     "output_type": "display_data"
    },
    {
     "data": {
      "application/vnd.jupyter.widget-view+json": {
       "model_id": "2f7462cf31454f15ae40096f0c4c2d89",
       "version_major": 2,
       "version_minor": 0
      },
      "text/plain": [
       "Possible clusters:   0%|          | 0/4 [00:00<?, ?it/s]"
      ]
     },
     "metadata": {},
     "output_type": "display_data"
    },
    {
     "data": {
      "application/vnd.jupyter.widget-view+json": {
       "model_id": "2a5721032a764caabeab036a649151f8",
       "version_major": 2,
       "version_minor": 0
      },
      "text/plain": [
       "Possible clusters:   0%|          | 0/83655 [00:00<?, ?it/s]"
      ]
     },
     "metadata": {},
     "output_type": "display_data"
    },
    {
     "data": {
      "application/vnd.jupyter.widget-view+json": {
       "model_id": "0e2575e296e54c6fa05f1b8b6c804ade",
       "version_major": 2,
       "version_minor": 0
      },
      "text/plain": [
       "Possible clusters:   0%|          | 0/27874 [00:00<?, ?it/s]"
      ]
     },
     "metadata": {},
     "output_type": "display_data"
    },
    {
     "data": {
      "application/vnd.jupyter.widget-view+json": {
       "model_id": "2a6c7d1a4af24c27b248011b1cf4a487",
       "version_major": 2,
       "version_minor": 0
      },
      "text/plain": [
       "Possible clusters:   0%|          | 0/6868 [00:00<?, ?it/s]"
      ]
     },
     "metadata": {},
     "output_type": "display_data"
    },
    {
     "data": {
      "application/vnd.jupyter.widget-view+json": {
       "model_id": "ec4216d92d6f4289ba741239a5c532e8",
       "version_major": 2,
       "version_minor": 0
      },
      "text/plain": [
       "Possible clusters:   0%|          | 0/1012 [00:00<?, ?it/s]"
      ]
     },
     "metadata": {},
     "output_type": "display_data"
    },
    {
     "data": {
      "application/vnd.jupyter.widget-view+json": {
       "model_id": "cd16ca726df747f5a91f073d8236b6a8",
       "version_major": 2,
       "version_minor": 0
      },
      "text/plain": [
       "Possible clusters:   0%|          | 0/56 [00:00<?, ?it/s]"
      ]
     },
     "metadata": {},
     "output_type": "display_data"
    },
    {
     "data": {
      "application/vnd.jupyter.widget-view+json": {
       "model_id": "a7a644c70e744d65b5c16c7708a3d93a",
       "version_major": 2,
       "version_minor": 0
      },
      "text/plain": [
       "Possible clusters:   0%|          | 0/11 [00:00<?, ?it/s]"
      ]
     },
     "metadata": {},
     "output_type": "display_data"
    },
    {
     "data": {
      "application/vnd.jupyter.widget-view+json": {
       "model_id": "f3e4035e8c734cabbf4725ab66a952cb",
       "version_major": 2,
       "version_minor": 0
      },
      "text/plain": [
       "Possible clusters:   0%|          | 0/1 [00:00<?, ?it/s]"
      ]
     },
     "metadata": {},
     "output_type": "display_data"
    },
    {
     "data": {
      "application/vnd.jupyter.widget-view+json": {
       "model_id": "e298695d5ef54f829e34486375d81fd9",
       "version_major": 2,
       "version_minor": 0
      },
      "text/plain": [
       "Possible clusters:   0%|          | 0/12926 [00:00<?, ?it/s]"
      ]
     },
     "metadata": {},
     "output_type": "display_data"
    },
    {
     "data": {
      "application/vnd.jupyter.widget-view+json": {
       "model_id": "abe88d85b7374e6bac7cb48abd1d0dd0",
       "version_major": 2,
       "version_minor": 0
      },
      "text/plain": [
       "Possible clusters:   0%|          | 0/6175 [00:00<?, ?it/s]"
      ]
     },
     "metadata": {},
     "output_type": "display_data"
    },
    {
     "data": {
      "application/vnd.jupyter.widget-view+json": {
       "model_id": "f8644dca9ba3485da2be3a421a853acd",
       "version_major": 2,
       "version_minor": 0
      },
      "text/plain": [
       "Possible clusters:   0%|          | 0/2500 [00:00<?, ?it/s]"
      ]
     },
     "metadata": {},
     "output_type": "display_data"
    },
    {
     "data": {
      "application/vnd.jupyter.widget-view+json": {
       "model_id": "a099ee2daf94447cb36bf90f44bef380",
       "version_major": 2,
       "version_minor": 0
      },
      "text/plain": [
       "Possible clusters:   0%|          | 0/781 [00:00<?, ?it/s]"
      ]
     },
     "metadata": {},
     "output_type": "display_data"
    },
    {
     "data": {
      "application/vnd.jupyter.widget-view+json": {
       "model_id": "04fc1f93159b4deb96a5687fe5fb053b",
       "version_major": 2,
       "version_minor": 0
      },
      "text/plain": [
       "Possible clusters:   0%|          | 0/154 [00:00<?, ?it/s]"
      ]
     },
     "metadata": {},
     "output_type": "display_data"
    },
    {
     "data": {
      "application/vnd.jupyter.widget-view+json": {
       "model_id": "b920a95720244489abf01b595aa09d7a",
       "version_major": 2,
       "version_minor": 0
      },
      "text/plain": [
       "Possible clusters:   0%|          | 0/11 [00:00<?, ?it/s]"
      ]
     },
     "metadata": {},
     "output_type": "display_data"
    },
    {
     "data": {
      "application/vnd.jupyter.widget-view+json": {
       "model_id": "4858111ebd97493187466ce570e54fe3",
       "version_major": 2,
       "version_minor": 0
      },
      "text/plain": [
       "Possible clusters:   0%|          | 0/10879 [00:00<?, ?it/s]"
      ]
     },
     "metadata": {},
     "output_type": "display_data"
    },
    {
     "data": {
      "application/vnd.jupyter.widget-view+json": {
       "model_id": "9625b87bb0e64e3f96f6c66e3c290e1c",
       "version_major": 2,
       "version_minor": 0
      },
      "text/plain": [
       "Possible clusters:   0%|          | 0/5016 [00:00<?, ?it/s]"
      ]
     },
     "metadata": {},
     "output_type": "display_data"
    },
    {
     "data": {
      "application/vnd.jupyter.widget-view+json": {
       "model_id": "7f15f00dde8a4661891092fd46a98eec",
       "version_major": 2,
       "version_minor": 0
      },
      "text/plain": [
       "Possible clusters:   0%|          | 0/1925 [00:00<?, ?it/s]"
      ]
     },
     "metadata": {},
     "output_type": "display_data"
    },
    {
     "data": {
      "application/vnd.jupyter.widget-view+json": {
       "model_id": "431aa5e0e2c44055976170800415f67f",
       "version_major": 2,
       "version_minor": 0
      },
      "text/plain": [
       "Possible clusters:   0%|          | 0/550 [00:00<?, ?it/s]"
      ]
     },
     "metadata": {},
     "output_type": "display_data"
    },
    {
     "data": {
      "application/vnd.jupyter.widget-view+json": {
       "model_id": "4cf671ace9d04112a757a128a0e48dac",
       "version_major": 2,
       "version_minor": 0
      },
      "text/plain": [
       "Possible clusters:   0%|          | 0/91 [00:00<?, ?it/s]"
      ]
     },
     "metadata": {},
     "output_type": "display_data"
    },
    {
     "data": {
      "application/vnd.jupyter.widget-view+json": {
       "model_id": "8741875661304971b8d985231adac807",
       "version_major": 2,
       "version_minor": 0
      },
      "text/plain": [
       "Possible clusters:   0%|          | 0/4 [00:00<?, ?it/s]"
      ]
     },
     "metadata": {},
     "output_type": "display_data"
    },
    {
     "data": {
      "application/vnd.jupyter.widget-view+json": {
       "model_id": "bda76853fa534c1d95cf3bfa60a8f052",
       "version_major": 2,
       "version_minor": 0
      },
      "text/plain": [
       "Possible clusters:   0%|          | 0/9086 [00:00<?, ?it/s]"
      ]
     },
     "metadata": {},
     "output_type": "display_data"
    },
    {
     "data": {
      "application/vnd.jupyter.widget-view+json": {
       "model_id": "e0d29d7479f44bfd9749841373244871",
       "version_major": 2,
       "version_minor": 0
      },
      "text/plain": [
       "Possible clusters:   0%|          | 0/4029 [00:00<?, ?it/s]"
      ]
     },
     "metadata": {},
     "output_type": "display_data"
    },
    {
     "data": {
      "application/vnd.jupyter.widget-view+json": {
       "model_id": "c988f40085e84c16aac259ea7e14876b",
       "version_major": 2,
       "version_minor": 0
      },
      "text/plain": [
       "Possible clusters:   0%|          | 0/1456 [00:00<?, ?it/s]"
      ]
     },
     "metadata": {},
     "output_type": "display_data"
    },
    {
     "data": {
      "application/vnd.jupyter.widget-view+json": {
       "model_id": "8213cff2bea04432908c34286e5bb110",
       "version_major": 2,
       "version_minor": 0
      },
      "text/plain": [
       "Possible clusters:   0%|          | 0/375 [00:00<?, ?it/s]"
      ]
     },
     "metadata": {},
     "output_type": "display_data"
    },
    {
     "data": {
      "application/vnd.jupyter.widget-view+json": {
       "model_id": "306ea0e77422477794f4241c59e190dc",
       "version_major": 2,
       "version_minor": 0
      },
      "text/plain": [
       "Possible clusters:   0%|          | 0/50 [00:00<?, ?it/s]"
      ]
     },
     "metadata": {},
     "output_type": "display_data"
    },
    {
     "data": {
      "application/vnd.jupyter.widget-view+json": {
       "model_id": "62c4c8259a614bd0981c2552ca5b435c",
       "version_major": 2,
       "version_minor": 0
      },
      "text/plain": [
       "Possible clusters:   0%|          | 0/1 [00:00<?, ?it/s]"
      ]
     },
     "metadata": {},
     "output_type": "display_data"
    },
    {
     "data": {
      "application/vnd.jupyter.widget-view+json": {
       "model_id": "1e2817d5aa0846d696d4145c142fac5e",
       "version_major": 2,
       "version_minor": 0
      },
      "text/plain": [
       "Possible clusters:   0%|          | 0/5016 [00:00<?, ?it/s]"
      ]
     },
     "metadata": {},
     "output_type": "display_data"
    },
    {
     "data": {
      "application/vnd.jupyter.widget-view+json": {
       "model_id": "2a8de7ee3b004197ba4acfdfd0671b8a",
       "version_major": 2,
       "version_minor": 0
      },
      "text/plain": [
       "Possible clusters:   0%|          | 0/1925 [00:00<?, ?it/s]"
      ]
     },
     "metadata": {},
     "output_type": "display_data"
    },
    {
     "data": {
      "application/vnd.jupyter.widget-view+json": {
       "model_id": "9b4f6b8510d6418896c4a6c82b38fd6c",
       "version_major": 2,
       "version_minor": 0
      },
      "text/plain": [
       "Possible clusters:   0%|          | 0/550 [00:00<?, ?it/s]"
      ]
     },
     "metadata": {},
     "output_type": "display_data"
    },
    {
     "data": {
      "application/vnd.jupyter.widget-view+json": {
       "model_id": "71119d1956ed4f2ab66e7e190e5ef31b",
       "version_major": 2,
       "version_minor": 0
      },
      "text/plain": [
       "Possible clusters:   0%|          | 0/91 [00:00<?, ?it/s]"
      ]
     },
     "metadata": {},
     "output_type": "display_data"
    },
    {
     "data": {
      "application/vnd.jupyter.widget-view+json": {
       "model_id": "515f8adebc324c8e8f33a047a2672c67",
       "version_major": 2,
       "version_minor": 0
      },
      "text/plain": [
       "Possible clusters:   0%|          | 0/4 [00:00<?, ?it/s]"
      ]
     },
     "metadata": {},
     "output_type": "display_data"
    },
    {
     "data": {
      "application/vnd.jupyter.widget-view+json": {
       "model_id": "cc0607f5a20044a9a7749ca915aa48b7",
       "version_major": 2,
       "version_minor": 0
      },
      "text/plain": [
       "Possible clusters:   0%|          | 0/10879 [00:00<?, ?it/s]"
      ]
     },
     "metadata": {},
     "output_type": "display_data"
    },
    {
     "data": {
      "application/vnd.jupyter.widget-view+json": {
       "model_id": "8b1e3de5905a4eb4a178efb701028784",
       "version_major": 2,
       "version_minor": 0
      },
      "text/plain": [
       "Possible clusters:   0%|          | 0/5016 [00:00<?, ?it/s]"
      ]
     },
     "metadata": {},
     "output_type": "display_data"
    },
    {
     "data": {
      "application/vnd.jupyter.widget-view+json": {
       "model_id": "52ff4f335c8f4c11a0cbc4596a7ba059",
       "version_major": 2,
       "version_minor": 0
      },
      "text/plain": [
       "Possible clusters:   0%|          | 0/1925 [00:00<?, ?it/s]"
      ]
     },
     "metadata": {},
     "output_type": "display_data"
    },
    {
     "data": {
      "application/vnd.jupyter.widget-view+json": {
       "model_id": "cd9c83659abd445a8e7308042a14b851",
       "version_major": 2,
       "version_minor": 0
      },
      "text/plain": [
       "Possible clusters:   0%|          | 0/550 [00:00<?, ?it/s]"
      ]
     },
     "metadata": {},
     "output_type": "display_data"
    },
    {
     "data": {
      "application/vnd.jupyter.widget-view+json": {
       "model_id": "767966da39534ef1a547bd4fa535bcd1",
       "version_major": 2,
       "version_minor": 0
      },
      "text/plain": [
       "Possible clusters:   0%|          | 0/91 [00:00<?, ?it/s]"
      ]
     },
     "metadata": {},
     "output_type": "display_data"
    },
    {
     "data": {
      "application/vnd.jupyter.widget-view+json": {
       "model_id": "f5d20e1973fa4ab788ce0f4774b1f014",
       "version_major": 2,
       "version_minor": 0
      },
      "text/plain": [
       "Possible clusters:   0%|          | 0/4 [00:00<?, ?it/s]"
      ]
     },
     "metadata": {},
     "output_type": "display_data"
    },
    {
     "data": {
      "application/vnd.jupyter.widget-view+json": {
       "model_id": "694afc55b7404a0087c2abb46e1e1e62",
       "version_major": 2,
       "version_minor": 0
      },
      "text/plain": [
       "Possible clusters:   0%|          | 0/6175 [00:00<?, ?it/s]"
      ]
     },
     "metadata": {},
     "output_type": "display_data"
    },
    {
     "data": {
      "application/vnd.jupyter.widget-view+json": {
       "model_id": "87f91d3050924c60a49f9a2182284b86",
       "version_major": 2,
       "version_minor": 0
      },
      "text/plain": [
       "Possible clusters:   0%|          | 0/2500 [00:00<?, ?it/s]"
      ]
     },
     "metadata": {},
     "output_type": "display_data"
    },
    {
     "data": {
      "application/vnd.jupyter.widget-view+json": {
       "model_id": "b5b3c61da8a3464a886aa66ab72910d6",
       "version_major": 2,
       "version_minor": 0
      },
      "text/plain": [
       "Possible clusters:   0%|          | 0/781 [00:00<?, ?it/s]"
      ]
     },
     "metadata": {},
     "output_type": "display_data"
    },
    {
     "data": {
      "application/vnd.jupyter.widget-view+json": {
       "model_id": "40e2efdaa318414e9a58300ce8f94553",
       "version_major": 2,
       "version_minor": 0
      },
      "text/plain": [
       "Possible clusters:   0%|          | 0/154 [00:00<?, ?it/s]"
      ]
     },
     "metadata": {},
     "output_type": "display_data"
    },
    {
     "data": {
      "application/vnd.jupyter.widget-view+json": {
       "model_id": "6f2ce36f0f604c24833efeee53e7ace7",
       "version_major": 2,
       "version_minor": 0
      },
      "text/plain": [
       "Possible clusters:   0%|          | 0/11 [00:00<?, ?it/s]"
      ]
     },
     "metadata": {},
     "output_type": "display_data"
    },
    {
     "data": {
      "application/vnd.jupyter.widget-view+json": {
       "model_id": "5342b8bd8c8b4483a8ae22dd064eb51b",
       "version_major": 2,
       "version_minor": 0
      },
      "text/plain": [
       "Possible clusters:   0%|          | 0/5016 [00:00<?, ?it/s]"
      ]
     },
     "metadata": {},
     "output_type": "display_data"
    },
    {
     "data": {
      "application/vnd.jupyter.widget-view+json": {
       "model_id": "b989176b24de45db8323c7dde29688ef",
       "version_major": 2,
       "version_minor": 0
      },
      "text/plain": [
       "Possible clusters:   0%|          | 0/1925 [00:00<?, ?it/s]"
      ]
     },
     "metadata": {},
     "output_type": "display_data"
    },
    {
     "data": {
      "application/vnd.jupyter.widget-view+json": {
       "model_id": "7516ca11492d40b3871137ac303d745e",
       "version_major": 2,
       "version_minor": 0
      },
      "text/plain": [
       "Possible clusters:   0%|          | 0/550 [00:00<?, ?it/s]"
      ]
     },
     "metadata": {},
     "output_type": "display_data"
    },
    {
     "data": {
      "application/vnd.jupyter.widget-view+json": {
       "model_id": "72ebd386cd2e43a092d6f5b58947f2b4",
       "version_major": 2,
       "version_minor": 0
      },
      "text/plain": [
       "Possible clusters:   0%|          | 0/91 [00:00<?, ?it/s]"
      ]
     },
     "metadata": {},
     "output_type": "display_data"
    },
    {
     "data": {
      "application/vnd.jupyter.widget-view+json": {
       "model_id": "08a2a893729546fa8c871371fba86367",
       "version_major": 2,
       "version_minor": 0
      },
      "text/plain": [
       "Possible clusters:   0%|          | 0/4 [00:00<?, ?it/s]"
      ]
     },
     "metadata": {},
     "output_type": "display_data"
    },
    {
     "data": {
      "application/vnd.jupyter.widget-view+json": {
       "model_id": "fd8a283fd8674fe9b0e4c5450ce4129e",
       "version_major": 2,
       "version_minor": 0
      },
      "text/plain": [
       "Possible clusters:   0%|          | 0/9086 [00:00<?, ?it/s]"
      ]
     },
     "metadata": {},
     "output_type": "display_data"
    },
    {
     "data": {
      "application/vnd.jupyter.widget-view+json": {
       "model_id": "f5ee0598e1dc4eb696032ff4985af496",
       "version_major": 2,
       "version_minor": 0
      },
      "text/plain": [
       "Possible clusters:   0%|          | 0/4029 [00:00<?, ?it/s]"
      ]
     },
     "metadata": {},
     "output_type": "display_data"
    },
    {
     "data": {
      "application/vnd.jupyter.widget-view+json": {
       "model_id": "78c4dcee551d40febde1dce1a46031fe",
       "version_major": 2,
       "version_minor": 0
      },
      "text/plain": [
       "Possible clusters:   0%|          | 0/1456 [00:00<?, ?it/s]"
      ]
     },
     "metadata": {},
     "output_type": "display_data"
    },
    {
     "data": {
      "application/vnd.jupyter.widget-view+json": {
       "model_id": "c444045ef8ff48b0b089208fb1263488",
       "version_major": 2,
       "version_minor": 0
      },
      "text/plain": [
       "Possible clusters:   0%|          | 0/375 [00:00<?, ?it/s]"
      ]
     },
     "metadata": {},
     "output_type": "display_data"
    },
    {
     "data": {
      "application/vnd.jupyter.widget-view+json": {
       "model_id": "66c82a5f6d5045858e5f44c0b857fb30",
       "version_major": 2,
       "version_minor": 0
      },
      "text/plain": [
       "Possible clusters:   0%|          | 0/50 [00:00<?, ?it/s]"
      ]
     },
     "metadata": {},
     "output_type": "display_data"
    },
    {
     "data": {
      "application/vnd.jupyter.widget-view+json": {
       "model_id": "4b65693be46b4f7ea749ea442943e8a1",
       "version_major": 2,
       "version_minor": 0
      },
      "text/plain": [
       "Possible clusters:   0%|          | 0/1 [00:00<?, ?it/s]"
      ]
     },
     "metadata": {},
     "output_type": "display_data"
    },
    {
     "data": {
      "application/vnd.jupyter.widget-view+json": {
       "model_id": "782f2089a9e44e88b35dad88b1937c3d",
       "version_major": 2,
       "version_minor": 0
      },
      "text/plain": [
       "Possible clusters:   0%|          | 0/4029 [00:00<?, ?it/s]"
      ]
     },
     "metadata": {},
     "output_type": "display_data"
    },
    {
     "data": {
      "application/vnd.jupyter.widget-view+json": {
       "model_id": "9a05f98f2ba24fa181533298e933c3fd",
       "version_major": 2,
       "version_minor": 0
      },
      "text/plain": [
       "Possible clusters:   0%|          | 0/1456 [00:00<?, ?it/s]"
      ]
     },
     "metadata": {},
     "output_type": "display_data"
    },
    {
     "data": {
      "application/vnd.jupyter.widget-view+json": {
       "model_id": "72089f27d96c4dbf87d0b82f485b3275",
       "version_major": 2,
       "version_minor": 0
      },
      "text/plain": [
       "Possible clusters:   0%|          | 0/375 [00:00<?, ?it/s]"
      ]
     },
     "metadata": {},
     "output_type": "display_data"
    },
    {
     "data": {
      "application/vnd.jupyter.widget-view+json": {
       "model_id": "a22f2ae59cd843168ade8f3a5af032b6",
       "version_major": 2,
       "version_minor": 0
      },
      "text/plain": [
       "Possible clusters:   0%|          | 0/50 [00:00<?, ?it/s]"
      ]
     },
     "metadata": {},
     "output_type": "display_data"
    },
    {
     "data": {
      "application/vnd.jupyter.widget-view+json": {
       "model_id": "965b71b149a543298ba4cfaec809ef6d",
       "version_major": 2,
       "version_minor": 0
      },
      "text/plain": [
       "Possible clusters:   0%|          | 0/1 [00:00<?, ?it/s]"
      ]
     },
     "metadata": {},
     "output_type": "display_data"
    },
    {
     "data": {
      "application/vnd.jupyter.widget-view+json": {
       "model_id": "bb7dc1d1f8f9417e9b4151ede628e4b3",
       "version_major": 2,
       "version_minor": 0
      },
      "text/plain": [
       "Possible clusters:   0%|          | 0/5016 [00:00<?, ?it/s]"
      ]
     },
     "metadata": {},
     "output_type": "display_data"
    },
    {
     "data": {
      "application/vnd.jupyter.widget-view+json": {
       "model_id": "02307f70a0a14950996e172ab7c14645",
       "version_major": 2,
       "version_minor": 0
      },
      "text/plain": [
       "Possible clusters:   0%|          | 0/1925 [00:00<?, ?it/s]"
      ]
     },
     "metadata": {},
     "output_type": "display_data"
    },
    {
     "data": {
      "application/vnd.jupyter.widget-view+json": {
       "model_id": "ae7b9173dc644636bdb852c78a88e2fe",
       "version_major": 2,
       "version_minor": 0
      },
      "text/plain": [
       "Possible clusters:   0%|          | 0/550 [00:00<?, ?it/s]"
      ]
     },
     "metadata": {},
     "output_type": "display_data"
    },
    {
     "data": {
      "application/vnd.jupyter.widget-view+json": {
       "model_id": "a5db86c9d38448268e0a638094624475",
       "version_major": 2,
       "version_minor": 0
      },
      "text/plain": [
       "Possible clusters:   0%|          | 0/91 [00:00<?, ?it/s]"
      ]
     },
     "metadata": {},
     "output_type": "display_data"
    },
    {
     "data": {
      "application/vnd.jupyter.widget-view+json": {
       "model_id": "e21d87b6604d435e83c22ad03fea4c09",
       "version_major": 2,
       "version_minor": 0
      },
      "text/plain": [
       "Possible clusters:   0%|          | 0/4 [00:00<?, ?it/s]"
      ]
     },
     "metadata": {},
     "output_type": "display_data"
    },
    {
     "data": {
      "application/vnd.jupyter.widget-view+json": {
       "model_id": "a261efe0ef8841f58b6ee55287686d7c",
       "version_major": 2,
       "version_minor": 0
      },
      "text/plain": [
       "Possible clusters:   0%|          | 0/12926 [00:00<?, ?it/s]"
      ]
     },
     "metadata": {},
     "output_type": "display_data"
    },
    {
     "data": {
      "application/vnd.jupyter.widget-view+json": {
       "model_id": "0b85d3a00ba1404ca0ed26cbe218df85",
       "version_major": 2,
       "version_minor": 0
      },
      "text/plain": [
       "Possible clusters:   0%|          | 0/6175 [00:00<?, ?it/s]"
      ]
     },
     "metadata": {},
     "output_type": "display_data"
    },
    {
     "data": {
      "application/vnd.jupyter.widget-view+json": {
       "model_id": "2ca6391896a04166baa1e494aa43a79f",
       "version_major": 2,
       "version_minor": 0
      },
      "text/plain": [
       "Possible clusters:   0%|          | 0/2500 [00:00<?, ?it/s]"
      ]
     },
     "metadata": {},
     "output_type": "display_data"
    },
    {
     "data": {
      "application/vnd.jupyter.widget-view+json": {
       "model_id": "ddcd54070fa54ea48671ccbf6ee5798f",
       "version_major": 2,
       "version_minor": 0
      },
      "text/plain": [
       "Possible clusters:   0%|          | 0/781 [00:00<?, ?it/s]"
      ]
     },
     "metadata": {},
     "output_type": "display_data"
    },
    {
     "data": {
      "application/vnd.jupyter.widget-view+json": {
       "model_id": "ba71c461aa7c4d8793b53c72f6821a20",
       "version_major": 2,
       "version_minor": 0
      },
      "text/plain": [
       "Possible clusters:   0%|          | 0/154 [00:00<?, ?it/s]"
      ]
     },
     "metadata": {},
     "output_type": "display_data"
    },
    {
     "data": {
      "application/vnd.jupyter.widget-view+json": {
       "model_id": "8abb3d4fb0e94f99a48706ce3d051102",
       "version_major": 2,
       "version_minor": 0
      },
      "text/plain": [
       "Possible clusters:   0%|          | 0/11 [00:00<?, ?it/s]"
      ]
     },
     "metadata": {},
     "output_type": "display_data"
    },
    {
     "data": {
      "application/vnd.jupyter.widget-view+json": {
       "model_id": "9d76a0c6c0604061bc57dfc3a5b9a19a",
       "version_major": 2,
       "version_minor": 0
      },
      "text/plain": [
       "Possible clusters:   0%|          | 0/1 [00:00<?, ?it/s]"
      ]
     },
     "metadata": {},
     "output_type": "display_data"
    },
    {
     "data": {
      "application/vnd.jupyter.widget-view+json": {
       "model_id": "9c2d80446d334bc6b6073e3d34b11b84",
       "version_major": 2,
       "version_minor": 0
      },
      "text/plain": [
       "Possible clusters:   0%|          | 0/10879 [00:00<?, ?it/s]"
      ]
     },
     "metadata": {},
     "output_type": "display_data"
    },
    {
     "data": {
      "application/vnd.jupyter.widget-view+json": {
       "model_id": "54d7ac9853b442fb84934a4a2c9dbbd2",
       "version_major": 2,
       "version_minor": 0
      },
      "text/plain": [
       "Possible clusters:   0%|          | 0/5016 [00:00<?, ?it/s]"
      ]
     },
     "metadata": {},
     "output_type": "display_data"
    },
    {
     "data": {
      "application/vnd.jupyter.widget-view+json": {
       "model_id": "b7d136f866e14ac0bb317be8994e45cf",
       "version_major": 2,
       "version_minor": 0
      },
      "text/plain": [
       "Possible clusters:   0%|          | 0/1925 [00:00<?, ?it/s]"
      ]
     },
     "metadata": {},
     "output_type": "display_data"
    },
    {
     "data": {
      "application/vnd.jupyter.widget-view+json": {
       "model_id": "1c65528cf8854b03bbc86f8e4490f7dd",
       "version_major": 2,
       "version_minor": 0
      },
      "text/plain": [
       "Possible clusters:   0%|          | 0/550 [00:00<?, ?it/s]"
      ]
     },
     "metadata": {},
     "output_type": "display_data"
    },
    {
     "data": {
      "application/vnd.jupyter.widget-view+json": {
       "model_id": "2df5069ac41c45d6ae63b6b9d0bb95aa",
       "version_major": 2,
       "version_minor": 0
      },
      "text/plain": [
       "Possible clusters:   0%|          | 0/91 [00:00<?, ?it/s]"
      ]
     },
     "metadata": {},
     "output_type": "display_data"
    },
    {
     "data": {
      "application/vnd.jupyter.widget-view+json": {
       "model_id": "1464876fbca7439695efdd55bed6aa25",
       "version_major": 2,
       "version_minor": 0
      },
      "text/plain": [
       "Possible clusters:   0%|          | 0/4 [00:00<?, ?it/s]"
      ]
     },
     "metadata": {},
     "output_type": "display_data"
    },
    {
     "data": {
      "application/vnd.jupyter.widget-view+json": {
       "model_id": "c6146d1989b24847bb218e948dbfcb44",
       "version_major": 2,
       "version_minor": 0
      },
      "text/plain": [
       "Possible clusters:   0%|          | 0/6175 [00:00<?, ?it/s]"
      ]
     },
     "metadata": {},
     "output_type": "display_data"
    },
    {
     "data": {
      "application/vnd.jupyter.widget-view+json": {
       "model_id": "8eef5f926ce74756855952c9f4f90ba1",
       "version_major": 2,
       "version_minor": 0
      },
      "text/plain": [
       "Possible clusters:   0%|          | 0/2500 [00:00<?, ?it/s]"
      ]
     },
     "metadata": {},
     "output_type": "display_data"
    },
    {
     "data": {
      "application/vnd.jupyter.widget-view+json": {
       "model_id": "8fba86e36a204f38850a32d1d2265d49",
       "version_major": 2,
       "version_minor": 0
      },
      "text/plain": [
       "Possible clusters:   0%|          | 0/781 [00:00<?, ?it/s]"
      ]
     },
     "metadata": {},
     "output_type": "display_data"
    },
    {
     "data": {
      "application/vnd.jupyter.widget-view+json": {
       "model_id": "66db739947444650ac85043849c9eb53",
       "version_major": 2,
       "version_minor": 0
      },
      "text/plain": [
       "Possible clusters:   0%|          | 0/154 [00:00<?, ?it/s]"
      ]
     },
     "metadata": {},
     "output_type": "display_data"
    },
    {
     "data": {
      "application/vnd.jupyter.widget-view+json": {
       "model_id": "591cfa61d08346708a89a32cc3c9f7c5",
       "version_major": 2,
       "version_minor": 0
      },
      "text/plain": [
       "Possible clusters:   0%|          | 0/11 [00:00<?, ?it/s]"
      ]
     },
     "metadata": {},
     "output_type": "display_data"
    },
    {
     "data": {
      "application/vnd.jupyter.widget-view+json": {
       "model_id": "ecdfca3e61c24680b2ae7f5c97a9903d",
       "version_major": 2,
       "version_minor": 0
      },
      "text/plain": [
       "Possible clusters:   0%|          | 0/6175 [00:00<?, ?it/s]"
      ]
     },
     "metadata": {},
     "output_type": "display_data"
    },
    {
     "data": {
      "application/vnd.jupyter.widget-view+json": {
       "model_id": "f15f4bffe7df4b739142dc51bf522e34",
       "version_major": 2,
       "version_minor": 0
      },
      "text/plain": [
       "Possible clusters:   0%|          | 0/2500 [00:00<?, ?it/s]"
      ]
     },
     "metadata": {},
     "output_type": "display_data"
    },
    {
     "data": {
      "application/vnd.jupyter.widget-view+json": {
       "model_id": "5867aaa59ae240658a34b810b0c78d7b",
       "version_major": 2,
       "version_minor": 0
      },
      "text/plain": [
       "Possible clusters:   0%|          | 0/781 [00:00<?, ?it/s]"
      ]
     },
     "metadata": {},
     "output_type": "display_data"
    },
    {
     "data": {
      "application/vnd.jupyter.widget-view+json": {
       "model_id": "d3372b5a09784c829b7cefce729f4481",
       "version_major": 2,
       "version_minor": 0
      },
      "text/plain": [
       "Possible clusters:   0%|          | 0/154 [00:00<?, ?it/s]"
      ]
     },
     "metadata": {},
     "output_type": "display_data"
    },
    {
     "data": {
      "application/vnd.jupyter.widget-view+json": {
       "model_id": "0c9b590d5354445fa631c7ca7150d672",
       "version_major": 2,
       "version_minor": 0
      },
      "text/plain": [
       "Possible clusters:   0%|          | 0/11 [00:00<?, ?it/s]"
      ]
     },
     "metadata": {},
     "output_type": "display_data"
    },
    {
     "data": {
      "application/vnd.jupyter.widget-view+json": {
       "model_id": "e75660808f7b4fb7b1784985dda127c3",
       "version_major": 2,
       "version_minor": 0
      },
      "text/plain": [
       "Possible clusters:   0%|          | 0/12926 [00:00<?, ?it/s]"
      ]
     },
     "metadata": {},
     "output_type": "display_data"
    },
    {
     "data": {
      "application/vnd.jupyter.widget-view+json": {
       "model_id": "9b1d3733cdcb44f39e050cf8f4efd114",
       "version_major": 2,
       "version_minor": 0
      },
      "text/plain": [
       "Possible clusters:   0%|          | 0/6175 [00:00<?, ?it/s]"
      ]
     },
     "metadata": {},
     "output_type": "display_data"
    },
    {
     "data": {
      "application/vnd.jupyter.widget-view+json": {
       "model_id": "8782b475836641ce87fdeec919de79fd",
       "version_major": 2,
       "version_minor": 0
      },
      "text/plain": [
       "Possible clusters:   0%|          | 0/2500 [00:00<?, ?it/s]"
      ]
     },
     "metadata": {},
     "output_type": "display_data"
    },
    {
     "data": {
      "application/vnd.jupyter.widget-view+json": {
       "model_id": "4086a4c22c9d4141b7049aaec034615e",
       "version_major": 2,
       "version_minor": 0
      },
      "text/plain": [
       "Possible clusters:   0%|          | 0/781 [00:00<?, ?it/s]"
      ]
     },
     "metadata": {},
     "output_type": "display_data"
    },
    {
     "data": {
      "application/vnd.jupyter.widget-view+json": {
       "model_id": "079e1444c94d4cbdb0f4c5dd6ab44b95",
       "version_major": 2,
       "version_minor": 0
      },
      "text/plain": [
       "Possible clusters:   0%|          | 0/154 [00:00<?, ?it/s]"
      ]
     },
     "metadata": {},
     "output_type": "display_data"
    },
    {
     "data": {
      "application/vnd.jupyter.widget-view+json": {
       "model_id": "ba540eaed64f4ad5bad4cecc73f87bf9",
       "version_major": 2,
       "version_minor": 0
      },
      "text/plain": [
       "Possible clusters:   0%|          | 0/11 [00:00<?, ?it/s]"
      ]
     },
     "metadata": {},
     "output_type": "display_data"
    },
    {
     "data": {
      "application/vnd.jupyter.widget-view+json": {
       "model_id": "3d1aebc40d804272ad963bc75c78a179",
       "version_major": 2,
       "version_minor": 0
      },
      "text/plain": [
       "Possible clusters:   0%|          | 0/7525 [00:00<?, ?it/s]"
      ]
     },
     "metadata": {},
     "output_type": "display_data"
    },
    {
     "data": {
      "application/vnd.jupyter.widget-view+json": {
       "model_id": "65290a153f21456fa6311fb4e6d5572c",
       "version_major": 2,
       "version_minor": 0
      },
      "text/plain": [
       "Possible clusters:   0%|          | 0/3196 [00:00<?, ?it/s]"
      ]
     },
     "metadata": {},
     "output_type": "display_data"
    },
    {
     "data": {
      "application/vnd.jupyter.widget-view+json": {
       "model_id": "d6b9455571e54bcd8e3ebfccccd03a01",
       "version_major": 2,
       "version_minor": 0
      },
      "text/plain": [
       "Possible clusters:   0%|          | 0/1079 [00:00<?, ?it/s]"
      ]
     },
     "metadata": {},
     "output_type": "display_data"
    },
    {
     "data": {
      "application/vnd.jupyter.widget-view+json": {
       "model_id": "cfacb3aeac904b7db28b036a5692cb2c",
       "version_major": 2,
       "version_minor": 0
      },
      "text/plain": [
       "Possible clusters:   0%|          | 0/246 [00:00<?, ?it/s]"
      ]
     },
     "metadata": {},
     "output_type": "display_data"
    },
    {
     "data": {
      "application/vnd.jupyter.widget-view+json": {
       "model_id": "02302069e498466fa0e4bc4bad4cda14",
       "version_major": 2,
       "version_minor": 0
      },
      "text/plain": [
       "Possible clusters:   0%|          | 0/25 [00:00<?, ?it/s]"
      ]
     },
     "metadata": {},
     "output_type": "display_data"
    },
    {
     "data": {
      "application/vnd.jupyter.widget-view+json": {
       "model_id": "b1359c734e774bdcaf6d6c13824a5cec",
       "version_major": 2,
       "version_minor": 0
      },
      "text/plain": [
       "Possible clusters:   0%|          | 0/1 [00:00<?, ?it/s]"
      ]
     },
     "metadata": {},
     "output_type": "display_data"
    },
    {
     "data": {
      "application/vnd.jupyter.widget-view+json": {
       "model_id": "7f68f0f877fa4ada95adb43aef32c0d6",
       "version_major": 2,
       "version_minor": 0
      },
      "text/plain": [
       "Possible clusters:   0%|          | 0/6175 [00:00<?, ?it/s]"
      ]
     },
     "metadata": {},
     "output_type": "display_data"
    },
    {
     "data": {
      "application/vnd.jupyter.widget-view+json": {
       "model_id": "6e1f1e54db684944b0e28b9d8a26bedf",
       "version_major": 2,
       "version_minor": 0
      },
      "text/plain": [
       "Possible clusters:   0%|          | 0/2500 [00:00<?, ?it/s]"
      ]
     },
     "metadata": {},
     "output_type": "display_data"
    },
    {
     "data": {
      "application/vnd.jupyter.widget-view+json": {
       "model_id": "cbc82b0233ff48199d913b39c7f10ee3",
       "version_major": 2,
       "version_minor": 0
      },
      "text/plain": [
       "Possible clusters:   0%|          | 0/781 [00:00<?, ?it/s]"
      ]
     },
     "metadata": {},
     "output_type": "display_data"
    },
    {
     "data": {
      "application/vnd.jupyter.widget-view+json": {
       "model_id": "cc8deacba3ed4ad38069b4792f76edd5",
       "version_major": 2,
       "version_minor": 0
      },
      "text/plain": [
       "Possible clusters:   0%|          | 0/154 [00:00<?, ?it/s]"
      ]
     },
     "metadata": {},
     "output_type": "display_data"
    },
    {
     "data": {
      "application/vnd.jupyter.widget-view+json": {
       "model_id": "1121d8ed936d4a4182c16ab66f6501c1",
       "version_major": 2,
       "version_minor": 0
      },
      "text/plain": [
       "Possible clusters:   0%|          | 0/11 [00:00<?, ?it/s]"
      ]
     },
     "metadata": {},
     "output_type": "display_data"
    },
    {
     "data": {
      "application/vnd.jupyter.widget-view+json": {
       "model_id": "d1010d0c940642b58ee7b32d637aa9ab",
       "version_major": 2,
       "version_minor": 0
      },
      "text/plain": [
       "Possible clusters:   0%|          | 0/6 [00:00<?, ?it/s]"
      ]
     },
     "metadata": {},
     "output_type": "display_data"
    },
    {
     "data": {
      "application/vnd.jupyter.widget-view+json": {
       "model_id": "3696c071c1614b428f7da223ce4770f4",
       "version_major": 2,
       "version_minor": 0
      },
      "text/plain": [
       "Possible clusters:   0%|          | 0/1 [00:00<?, ?it/s]"
      ]
     },
     "metadata": {},
     "output_type": "display_data"
    },
    {
     "data": {
      "application/vnd.jupyter.widget-view+json": {
       "model_id": "f87a1de2bdbc4289a077eac057126a11",
       "version_major": 2,
       "version_minor": 0
      },
      "text/plain": [
       "Possible clusters:   0%|          | 0/9086 [00:00<?, ?it/s]"
      ]
     },
     "metadata": {},
     "output_type": "display_data"
    },
    {
     "data": {
      "application/vnd.jupyter.widget-view+json": {
       "model_id": "5e8d61d03cce4f31a7c4087ccf4d6cd7",
       "version_major": 2,
       "version_minor": 0
      },
      "text/plain": [
       "Possible clusters:   0%|          | 0/4029 [00:00<?, ?it/s]"
      ]
     },
     "metadata": {},
     "output_type": "display_data"
    },
    {
     "data": {
      "application/vnd.jupyter.widget-view+json": {
       "model_id": "a5bdf6b4775d42e788cf9fde7aaaba60",
       "version_major": 2,
       "version_minor": 0
      },
      "text/plain": [
       "Possible clusters:   0%|          | 0/1456 [00:00<?, ?it/s]"
      ]
     },
     "metadata": {},
     "output_type": "display_data"
    },
    {
     "data": {
      "application/vnd.jupyter.widget-view+json": {
       "model_id": "a7009459ce154c79924ac96058abc2d1",
       "version_major": 2,
       "version_minor": 0
      },
      "text/plain": [
       "Possible clusters:   0%|          | 0/375 [00:00<?, ?it/s]"
      ]
     },
     "metadata": {},
     "output_type": "display_data"
    },
    {
     "data": {
      "application/vnd.jupyter.widget-view+json": {
       "model_id": "3bae7db5a1e64d87b266e5be573465ed",
       "version_major": 2,
       "version_minor": 0
      },
      "text/plain": [
       "Possible clusters:   0%|          | 0/50 [00:00<?, ?it/s]"
      ]
     },
     "metadata": {},
     "output_type": "display_data"
    },
    {
     "data": {
      "application/vnd.jupyter.widget-view+json": {
       "model_id": "6a8e593881994d66bbe5b96e9c039198",
       "version_major": 2,
       "version_minor": 0
      },
      "text/plain": [
       "Possible clusters:   0%|          | 0/1 [00:00<?, ?it/s]"
      ]
     },
     "metadata": {},
     "output_type": "display_data"
    },
    {
     "data": {
      "application/vnd.jupyter.widget-view+json": {
       "model_id": "3f48a2f6ec24468cb0410c7900e179a9",
       "version_major": 2,
       "version_minor": 0
      },
      "text/plain": [
       "Possible clusters:   0%|          | 0/7525 [00:00<?, ?it/s]"
      ]
     },
     "metadata": {},
     "output_type": "display_data"
    },
    {
     "data": {
      "application/vnd.jupyter.widget-view+json": {
       "model_id": "ff04e09075654897bf8bc335c05fbb1a",
       "version_major": 2,
       "version_minor": 0
      },
      "text/plain": [
       "Possible clusters:   0%|          | 0/3196 [00:00<?, ?it/s]"
      ]
     },
     "metadata": {},
     "output_type": "display_data"
    },
    {
     "data": {
      "application/vnd.jupyter.widget-view+json": {
       "model_id": "dd04a944b4904ff1aeb12f061f588a61",
       "version_major": 2,
       "version_minor": 0
      },
      "text/plain": [
       "Possible clusters:   0%|          | 0/1079 [00:00<?, ?it/s]"
      ]
     },
     "metadata": {},
     "output_type": "display_data"
    },
    {
     "data": {
      "application/vnd.jupyter.widget-view+json": {
       "model_id": "ca56aa7eabab4c2b937b514ada16b22a",
       "version_major": 2,
       "version_minor": 0
      },
      "text/plain": [
       "Possible clusters:   0%|          | 0/246 [00:00<?, ?it/s]"
      ]
     },
     "metadata": {},
     "output_type": "display_data"
    },
    {
     "data": {
      "application/vnd.jupyter.widget-view+json": {
       "model_id": "1be32dd394ac47bb853111d162b23e08",
       "version_major": 2,
       "version_minor": 0
      },
      "text/plain": [
       "Possible clusters:   0%|          | 0/91 [00:00<?, ?it/s]"
      ]
     },
     "metadata": {},
     "output_type": "display_data"
    },
    {
     "data": {
      "application/vnd.jupyter.widget-view+json": {
       "model_id": "f839bcb415dd489fb9b5140bee40257c",
       "version_major": 2,
       "version_minor": 0
      },
      "text/plain": [
       "Possible clusters:   0%|          | 0/4 [00:00<?, ?it/s]"
      ]
     },
     "metadata": {},
     "output_type": "display_data"
    },
    {
     "data": {
      "application/vnd.jupyter.widget-view+json": {
       "model_id": "97811aaebba540e1828c42b992aec52f",
       "version_major": 2,
       "version_minor": 0
      },
      "text/plain": [
       "Possible clusters:   0%|          | 0/101556 [00:00<?, ?it/s]"
      ]
     },
     "metadata": {},
     "output_type": "display_data"
    },
    {
     "data": {
      "application/vnd.jupyter.widget-view+json": {
       "model_id": "feda690c5c8d41d09a1da058ae1f1f52",
       "version_major": 2,
       "version_minor": 0
      },
      "text/plain": [
       "Possible clusters:   0%|          | 0/35420 [00:00<?, ?it/s]"
      ]
     },
     "metadata": {},
     "output_type": "display_data"
    },
    {
     "data": {
      "application/vnd.jupyter.widget-view+json": {
       "model_id": "4639550d035c42fba15f5187782bede4",
       "version_major": 2,
       "version_minor": 0
      },
      "text/plain": [
       "Possible clusters:   0%|          | 0/9384 [00:00<?, ?it/s]"
      ]
     },
     "metadata": {},
     "output_type": "display_data"
    },
    {
     "data": {
      "application/vnd.jupyter.widget-view+json": {
       "model_id": "a949f92c105444788b43d0b9cf1e4c6c",
       "version_major": 2,
       "version_minor": 0
      },
      "text/plain": [
       "Possible clusters:   0%|          | 0/1573 [00:00<?, ?it/s]"
      ]
     },
     "metadata": {},
     "output_type": "display_data"
    },
    {
     "data": {
      "application/vnd.jupyter.widget-view+json": {
       "model_id": "bfa35ddf3bc641bb85d487fc74bfffc4",
       "version_major": 2,
       "version_minor": 0
      },
      "text/plain": [
       "Possible clusters:   0%|          | 0/112 [00:00<?, ?it/s]"
      ]
     },
     "metadata": {},
     "output_type": "display_data"
    },
    {
     "data": {
      "application/vnd.jupyter.widget-view+json": {
       "model_id": "52b64fdd1b4c4d82b5af5ee7a979e879",
       "version_major": 2,
       "version_minor": 0
      },
      "text/plain": [
       "Possible clusters:   0%|          | 0/1 [00:00<?, ?it/s]"
      ]
     },
     "metadata": {},
     "output_type": "display_data"
    },
    {
     "data": {
      "application/vnd.jupyter.widget-view+json": {
       "model_id": "aaa8ccc003ba477e81d3a5dded84209d",
       "version_major": 2,
       "version_minor": 0
      },
      "text/plain": [
       "Possible clusters:   0%|          | 0/83655 [00:00<?, ?it/s]"
      ]
     },
     "metadata": {},
     "output_type": "display_data"
    },
    {
     "data": {
      "application/vnd.jupyter.widget-view+json": {
       "model_id": "2f86c982b17347e59e19d72fac43eac7",
       "version_major": 2,
       "version_minor": 0
      },
      "text/plain": [
       "Possible clusters:   0%|          | 0/27874 [00:00<?, ?it/s]"
      ]
     },
     "metadata": {},
     "output_type": "display_data"
    },
    {
     "data": {
      "application/vnd.jupyter.widget-view+json": {
       "model_id": "10ed8a5749bc442789cd8110947b2aa5",
       "version_major": 2,
       "version_minor": 0
      },
      "text/plain": [
       "Possible clusters:   0%|          | 0/6868 [00:00<?, ?it/s]"
      ]
     },
     "metadata": {},
     "output_type": "display_data"
    },
    {
     "data": {
      "application/vnd.jupyter.widget-view+json": {
       "model_id": "3d1452b9a0ce487fbde381963433d0b6",
       "version_major": 2,
       "version_minor": 0
      },
      "text/plain": [
       "Possible clusters:   0%|          | 0/1012 [00:00<?, ?it/s]"
      ]
     },
     "metadata": {},
     "output_type": "display_data"
    },
    {
     "data": {
      "application/vnd.jupyter.widget-view+json": {
       "model_id": "a7012e242fcb419c9afd6d079d230ec9",
       "version_major": 2,
       "version_minor": 0
      },
      "text/plain": [
       "Possible clusters:   0%|          | 0/56 [00:00<?, ?it/s]"
      ]
     },
     "metadata": {},
     "output_type": "display_data"
    },
    {
     "data": {
      "application/vnd.jupyter.widget-view+json": {
       "model_id": "d164aac6269a4afcb691e75c75a0aa44",
       "version_major": 2,
       "version_minor": 0
      },
      "text/plain": [
       "Possible clusters:   0%|          | 0/10879 [00:00<?, ?it/s]"
      ]
     },
     "metadata": {},
     "output_type": "display_data"
    },
    {
     "data": {
      "application/vnd.jupyter.widget-view+json": {
       "model_id": "5b4c1eedd90243898773a32654adc4b3",
       "version_major": 2,
       "version_minor": 0
      },
      "text/plain": [
       "Possible clusters:   0%|          | 0/5016 [00:00<?, ?it/s]"
      ]
     },
     "metadata": {},
     "output_type": "display_data"
    },
    {
     "data": {
      "application/vnd.jupyter.widget-view+json": {
       "model_id": "04451f3757004428b570fa8a895a67ab",
       "version_major": 2,
       "version_minor": 0
      },
      "text/plain": [
       "Possible clusters:   0%|          | 0/1925 [00:00<?, ?it/s]"
      ]
     },
     "metadata": {},
     "output_type": "display_data"
    },
    {
     "data": {
      "application/vnd.jupyter.widget-view+json": {
       "model_id": "978a642018bf464c9992365aee7fbec4",
       "version_major": 2,
       "version_minor": 0
      },
      "text/plain": [
       "Possible clusters:   0%|          | 0/550 [00:00<?, ?it/s]"
      ]
     },
     "metadata": {},
     "output_type": "display_data"
    },
    {
     "data": {
      "application/vnd.jupyter.widget-view+json": {
       "model_id": "7ff3abceb1384aaea3edeef7f78e46b1",
       "version_major": 2,
       "version_minor": 0
      },
      "text/plain": [
       "Possible clusters:   0%|          | 0/91 [00:00<?, ?it/s]"
      ]
     },
     "metadata": {},
     "output_type": "display_data"
    },
    {
     "data": {
      "application/vnd.jupyter.widget-view+json": {
       "model_id": "67b9b81892a041c4a4a3ef1cddb97c6b",
       "version_major": 2,
       "version_minor": 0
      },
      "text/plain": [
       "Possible clusters:   0%|          | 0/4 [00:00<?, ?it/s]"
      ]
     },
     "metadata": {},
     "output_type": "display_data"
    },
    {
     "data": {
      "application/vnd.jupyter.widget-view+json": {
       "model_id": "855b0a54e2fd40dc8a32c85411340108",
       "version_major": 2,
       "version_minor": 0
      },
      "text/plain": [
       "Possible clusters:   0%|          | 0/6175 [00:00<?, ?it/s]"
      ]
     },
     "metadata": {},
     "output_type": "display_data"
    },
    {
     "data": {
      "application/vnd.jupyter.widget-view+json": {
       "model_id": "4da460fc39b240fa967abf5148e1d381",
       "version_major": 2,
       "version_minor": 0
      },
      "text/plain": [
       "Possible clusters:   0%|          | 0/2500 [00:00<?, ?it/s]"
      ]
     },
     "metadata": {},
     "output_type": "display_data"
    },
    {
     "data": {
      "application/vnd.jupyter.widget-view+json": {
       "model_id": "72a1df802e3a43df8b659e1b69531592",
       "version_major": 2,
       "version_minor": 0
      },
      "text/plain": [
       "Possible clusters:   0%|          | 0/781 [00:00<?, ?it/s]"
      ]
     },
     "metadata": {},
     "output_type": "display_data"
    },
    {
     "data": {
      "application/vnd.jupyter.widget-view+json": {
       "model_id": "d075409f3e254957bc03a8c7f8f5407f",
       "version_major": 2,
       "version_minor": 0
      },
      "text/plain": [
       "Possible clusters:   0%|          | 0/154 [00:00<?, ?it/s]"
      ]
     },
     "metadata": {},
     "output_type": "display_data"
    },
    {
     "data": {
      "application/vnd.jupyter.widget-view+json": {
       "model_id": "f0ec99776cf24763b66250c6cd2c4d94",
       "version_major": 2,
       "version_minor": 0
      },
      "text/plain": [
       "Possible clusters:   0%|          | 0/11 [00:00<?, ?it/s]"
      ]
     },
     "metadata": {},
     "output_type": "display_data"
    },
    {
     "data": {
      "application/vnd.jupyter.widget-view+json": {
       "model_id": "4799861c0f284c2092039e68be433fbd",
       "version_major": 2,
       "version_minor": 0
      },
      "text/plain": [
       "Possible clusters:   0%|          | 0/7525 [00:00<?, ?it/s]"
      ]
     },
     "metadata": {},
     "output_type": "display_data"
    },
    {
     "data": {
      "application/vnd.jupyter.widget-view+json": {
       "model_id": "0106dca7ed944306928270a429ae3d17",
       "version_major": 2,
       "version_minor": 0
      },
      "text/plain": [
       "Possible clusters:   0%|          | 0/3196 [00:00<?, ?it/s]"
      ]
     },
     "metadata": {},
     "output_type": "display_data"
    },
    {
     "data": {
      "application/vnd.jupyter.widget-view+json": {
       "model_id": "802146e3a0ba435f92ba4319c3410a91",
       "version_major": 2,
       "version_minor": 0
      },
      "text/plain": [
       "Possible clusters:   0%|          | 0/1079 [00:00<?, ?it/s]"
      ]
     },
     "metadata": {},
     "output_type": "display_data"
    },
    {
     "data": {
      "application/vnd.jupyter.widget-view+json": {
       "model_id": "9fed20b9d7c74af091ec44de92d225e2",
       "version_major": 2,
       "version_minor": 0
      },
      "text/plain": [
       "Possible clusters:   0%|          | 0/246 [00:00<?, ?it/s]"
      ]
     },
     "metadata": {},
     "output_type": "display_data"
    },
    {
     "data": {
      "application/vnd.jupyter.widget-view+json": {
       "model_id": "16228c6c828e477abcf132fb4d3981ad",
       "version_major": 2,
       "version_minor": 0
      },
      "text/plain": [
       "Possible clusters:   0%|          | 0/25 [00:00<?, ?it/s]"
      ]
     },
     "metadata": {},
     "output_type": "display_data"
    },
    {
     "data": {
      "application/vnd.jupyter.widget-view+json": {
       "model_id": "900837d4ba48433789d6e87d15dcd4a9",
       "version_major": 2,
       "version_minor": 0
      },
      "text/plain": [
       "Possible clusters:   0%|          | 0/7525 [00:00<?, ?it/s]"
      ]
     },
     "metadata": {},
     "output_type": "display_data"
    },
    {
     "data": {
      "application/vnd.jupyter.widget-view+json": {
       "model_id": "506cb8ef7077487ab3395916ba3feef2",
       "version_major": 2,
       "version_minor": 0
      },
      "text/plain": [
       "Possible clusters:   0%|          | 0/3196 [00:00<?, ?it/s]"
      ]
     },
     "metadata": {},
     "output_type": "display_data"
    },
    {
     "data": {
      "application/vnd.jupyter.widget-view+json": {
       "model_id": "804b7f627dc84ccf8838030d53d399ec",
       "version_major": 2,
       "version_minor": 0
      },
      "text/plain": [
       "Possible clusters:   0%|          | 0/1079 [00:00<?, ?it/s]"
      ]
     },
     "metadata": {},
     "output_type": "display_data"
    },
    {
     "data": {
      "application/vnd.jupyter.widget-view+json": {
       "model_id": "a93efe7328c04be097d835e8f11afc2d",
       "version_major": 2,
       "version_minor": 0
      },
      "text/plain": [
       "Possible clusters:   0%|          | 0/246 [00:00<?, ?it/s]"
      ]
     },
     "metadata": {},
     "output_type": "display_data"
    },
    {
     "data": {
      "application/vnd.jupyter.widget-view+json": {
       "model_id": "480cccd255ca4ff2ae67ea82b059276c",
       "version_major": 2,
       "version_minor": 0
      },
      "text/plain": [
       "Possible clusters:   0%|          | 0/25 [00:00<?, ?it/s]"
      ]
     },
     "metadata": {},
     "output_type": "display_data"
    },
    {
     "data": {
      "application/vnd.jupyter.widget-view+json": {
       "model_id": "d4d7f15e515742b7811fad9ac8291d3f",
       "version_major": 2,
       "version_minor": 0
      },
      "text/plain": [
       "Possible clusters:   0%|          | 0/7525 [00:00<?, ?it/s]"
      ]
     },
     "metadata": {},
     "output_type": "display_data"
    },
    {
     "data": {
      "application/vnd.jupyter.widget-view+json": {
       "model_id": "3654a02f288a43b28a328274cb8dfe54",
       "version_major": 2,
       "version_minor": 0
      },
      "text/plain": [
       "Possible clusters:   0%|          | 0/3196 [00:00<?, ?it/s]"
      ]
     },
     "metadata": {},
     "output_type": "display_data"
    },
    {
     "data": {
      "application/vnd.jupyter.widget-view+json": {
       "model_id": "7dbf688cf1734a429606ee477c0517fe",
       "version_major": 2,
       "version_minor": 0
      },
      "text/plain": [
       "Possible clusters:   0%|          | 0/1079 [00:00<?, ?it/s]"
      ]
     },
     "metadata": {},
     "output_type": "display_data"
    },
    {
     "data": {
      "application/vnd.jupyter.widget-view+json": {
       "model_id": "2225dc8f25aa476ba8956332587d6892",
       "version_major": 2,
       "version_minor": 0
      },
      "text/plain": [
       "Possible clusters:   0%|          | 0/246 [00:00<?, ?it/s]"
      ]
     },
     "metadata": {},
     "output_type": "display_data"
    },
    {
     "data": {
      "application/vnd.jupyter.widget-view+json": {
       "model_id": "53422cdd649c467cab650e551842405d",
       "version_major": 2,
       "version_minor": 0
      },
      "text/plain": [
       "Possible clusters:   0%|          | 0/25 [00:00<?, ?it/s]"
      ]
     },
     "metadata": {},
     "output_type": "display_data"
    },
    {
     "data": {
      "application/vnd.jupyter.widget-view+json": {
       "model_id": "b95b8a09a63145a4a5ac6d1414422cb9",
       "version_major": 2,
       "version_minor": 0
      },
      "text/plain": [
       "Possible clusters:   0%|          | 0/10879 [00:00<?, ?it/s]"
      ]
     },
     "metadata": {},
     "output_type": "display_data"
    },
    {
     "data": {
      "application/vnd.jupyter.widget-view+json": {
       "model_id": "3aeef5e60ab44825bc3a33a301087c47",
       "version_major": 2,
       "version_minor": 0
      },
      "text/plain": [
       "Possible clusters:   0%|          | 0/5016 [00:00<?, ?it/s]"
      ]
     },
     "metadata": {},
     "output_type": "display_data"
    },
    {
     "data": {
      "application/vnd.jupyter.widget-view+json": {
       "model_id": "9ed63fda1eee462aa6f1b4a5de6165aa",
       "version_major": 2,
       "version_minor": 0
      },
      "text/plain": [
       "Possible clusters:   0%|          | 0/1925 [00:00<?, ?it/s]"
      ]
     },
     "metadata": {},
     "output_type": "display_data"
    },
    {
     "data": {
      "application/vnd.jupyter.widget-view+json": {
       "model_id": "d01730e7bfaa4399a09d1d8c128c045e",
       "version_major": 2,
       "version_minor": 0
      },
      "text/plain": [
       "Possible clusters:   0%|          | 0/550 [00:00<?, ?it/s]"
      ]
     },
     "metadata": {},
     "output_type": "display_data"
    },
    {
     "data": {
      "application/vnd.jupyter.widget-view+json": {
       "model_id": "8fafda203ef34d80921588a3e6d427bc",
       "version_major": 2,
       "version_minor": 0
      },
      "text/plain": [
       "Possible clusters:   0%|          | 0/91 [00:00<?, ?it/s]"
      ]
     },
     "metadata": {},
     "output_type": "display_data"
    },
    {
     "data": {
      "application/vnd.jupyter.widget-view+json": {
       "model_id": "63042b2a814d4e90bfca4298a54208c2",
       "version_major": 2,
       "version_minor": 0
      },
      "text/plain": [
       "Possible clusters:   0%|          | 0/4 [00:00<?, ?it/s]"
      ]
     },
     "metadata": {},
     "output_type": "display_data"
    },
    {
     "data": {
      "application/vnd.jupyter.widget-view+json": {
       "model_id": "6697a36bbe3f470087c94f51ab701212",
       "version_major": 2,
       "version_minor": 0
      },
      "text/plain": [
       "Possible clusters:   0%|          | 0/12926 [00:00<?, ?it/s]"
      ]
     },
     "metadata": {},
     "output_type": "display_data"
    },
    {
     "data": {
      "application/vnd.jupyter.widget-view+json": {
       "model_id": "62db3eb3920e487c9c07ee8297cbec05",
       "version_major": 2,
       "version_minor": 0
      },
      "text/plain": [
       "Possible clusters:   0%|          | 0/6175 [00:00<?, ?it/s]"
      ]
     },
     "metadata": {},
     "output_type": "display_data"
    },
    {
     "data": {
      "application/vnd.jupyter.widget-view+json": {
       "model_id": "9e23aed09d24494aa01b0da83916969d",
       "version_major": 2,
       "version_minor": 0
      },
      "text/plain": [
       "Possible clusters:   0%|          | 0/2500 [00:00<?, ?it/s]"
      ]
     },
     "metadata": {},
     "output_type": "display_data"
    },
    {
     "data": {
      "application/vnd.jupyter.widget-view+json": {
       "model_id": "d0f0c292e58840bf86a6f1cfdea20583",
       "version_major": 2,
       "version_minor": 0
      },
      "text/plain": [
       "Possible clusters:   0%|          | 0/781 [00:00<?, ?it/s]"
      ]
     },
     "metadata": {},
     "output_type": "display_data"
    },
    {
     "data": {
      "application/vnd.jupyter.widget-view+json": {
       "model_id": "151eead4a4e848f38c781e89c8410b99",
       "version_major": 2,
       "version_minor": 0
      },
      "text/plain": [
       "Possible clusters:   0%|          | 0/154 [00:00<?, ?it/s]"
      ]
     },
     "metadata": {},
     "output_type": "display_data"
    },
    {
     "data": {
      "application/vnd.jupyter.widget-view+json": {
       "model_id": "1137f99a42da4dc4884aec3de4d31e08",
       "version_major": 2,
       "version_minor": 0
      },
      "text/plain": [
       "Possible clusters:   0%|          | 0/11 [00:00<?, ?it/s]"
      ]
     },
     "metadata": {},
     "output_type": "display_data"
    },
    {
     "data": {
      "application/vnd.jupyter.widget-view+json": {
       "model_id": "f3d74cb218d94e65be05518c26741e82",
       "version_major": 2,
       "version_minor": 0
      },
      "text/plain": [
       "Possible clusters:   0%|          | 0/6175 [00:00<?, ?it/s]"
      ]
     },
     "metadata": {},
     "output_type": "display_data"
    },
    {
     "data": {
      "application/vnd.jupyter.widget-view+json": {
       "model_id": "30387bb25111453cb6ee8b59fbe723b1",
       "version_major": 2,
       "version_minor": 0
      },
      "text/plain": [
       "Possible clusters:   0%|          | 0/2500 [00:00<?, ?it/s]"
      ]
     },
     "metadata": {},
     "output_type": "display_data"
    },
    {
     "data": {
      "application/vnd.jupyter.widget-view+json": {
       "model_id": "22d80d50e2754e87b08206690aed28dc",
       "version_major": 2,
       "version_minor": 0
      },
      "text/plain": [
       "Possible clusters:   0%|          | 0/781 [00:00<?, ?it/s]"
      ]
     },
     "metadata": {},
     "output_type": "display_data"
    },
    {
     "data": {
      "application/vnd.jupyter.widget-view+json": {
       "model_id": "dd0b00565d734529a1bdde589db3420d",
       "version_major": 2,
       "version_minor": 0
      },
      "text/plain": [
       "Possible clusters:   0%|          | 0/154 [00:00<?, ?it/s]"
      ]
     },
     "metadata": {},
     "output_type": "display_data"
    },
    {
     "data": {
      "application/vnd.jupyter.widget-view+json": {
       "model_id": "0ef42eb334a64afb91c7e172402eca4c",
       "version_major": 2,
       "version_minor": 0
      },
      "text/plain": [
       "Possible clusters:   0%|          | 0/11 [00:00<?, ?it/s]"
      ]
     },
     "metadata": {},
     "output_type": "display_data"
    },
    {
     "data": {
      "application/vnd.jupyter.widget-view+json": {
       "model_id": "cdb305d97d8142ada3b6c38c3895cc6f",
       "version_major": 2,
       "version_minor": 0
      },
      "text/plain": [
       "Possible clusters:   0%|          | 0/10879 [00:00<?, ?it/s]"
      ]
     },
     "metadata": {},
     "output_type": "display_data"
    },
    {
     "data": {
      "application/vnd.jupyter.widget-view+json": {
       "model_id": "f3a1c004d39f444ea63df4d826941053",
       "version_major": 2,
       "version_minor": 0
      },
      "text/plain": [
       "Possible clusters:   0%|          | 0/5016 [00:00<?, ?it/s]"
      ]
     },
     "metadata": {},
     "output_type": "display_data"
    },
    {
     "data": {
      "application/vnd.jupyter.widget-view+json": {
       "model_id": "f38aa1a0bf334342a291bdaa80e87cf8",
       "version_major": 2,
       "version_minor": 0
      },
      "text/plain": [
       "Possible clusters:   0%|          | 0/1925 [00:00<?, ?it/s]"
      ]
     },
     "metadata": {},
     "output_type": "display_data"
    },
    {
     "data": {
      "application/vnd.jupyter.widget-view+json": {
       "model_id": "ea3c51906b8d4dbb8e80025c8262120c",
       "version_major": 2,
       "version_minor": 0
      },
      "text/plain": [
       "Possible clusters:   0%|          | 0/550 [00:00<?, ?it/s]"
      ]
     },
     "metadata": {},
     "output_type": "display_data"
    },
    {
     "data": {
      "application/vnd.jupyter.widget-view+json": {
       "model_id": "ea327e4bfa3d4436930767a49a35484b",
       "version_major": 2,
       "version_minor": 0
      },
      "text/plain": [
       "Possible clusters:   0%|          | 0/91 [00:00<?, ?it/s]"
      ]
     },
     "metadata": {},
     "output_type": "display_data"
    },
    {
     "data": {
      "application/vnd.jupyter.widget-view+json": {
       "model_id": "e92a13f78151456a8664ec1dd1eb6a31",
       "version_major": 2,
       "version_minor": 0
      },
      "text/plain": [
       "Possible clusters:   0%|          | 0/4 [00:00<?, ?it/s]"
      ]
     },
     "metadata": {},
     "output_type": "display_data"
    },
    {
     "data": {
      "application/vnd.jupyter.widget-view+json": {
       "model_id": "259c69bcc4904d9e8a90955e9c637e12",
       "version_major": 2,
       "version_minor": 0
      },
      "text/plain": [
       "Possible clusters:   0%|          | 0/6175 [00:00<?, ?it/s]"
      ]
     },
     "metadata": {},
     "output_type": "display_data"
    },
    {
     "data": {
      "application/vnd.jupyter.widget-view+json": {
       "model_id": "58d71ad3fba447f99216c2da113c32e5",
       "version_major": 2,
       "version_minor": 0
      },
      "text/plain": [
       "Possible clusters:   0%|          | 0/2500 [00:00<?, ?it/s]"
      ]
     },
     "metadata": {},
     "output_type": "display_data"
    },
    {
     "data": {
      "application/vnd.jupyter.widget-view+json": {
       "model_id": "9b18408715c04ef3a329a774a3eda74f",
       "version_major": 2,
       "version_minor": 0
      },
      "text/plain": [
       "Possible clusters:   0%|          | 0/781 [00:00<?, ?it/s]"
      ]
     },
     "metadata": {},
     "output_type": "display_data"
    },
    {
     "data": {
      "application/vnd.jupyter.widget-view+json": {
       "model_id": "dac49b5c038b40658a7d813d45b1a2f7",
       "version_major": 2,
       "version_minor": 0
      },
      "text/plain": [
       "Possible clusters:   0%|          | 0/154 [00:00<?, ?it/s]"
      ]
     },
     "metadata": {},
     "output_type": "display_data"
    },
    {
     "data": {
      "application/vnd.jupyter.widget-view+json": {
       "model_id": "66ca95fc8d124b2eb9d5b09b7f14e227",
       "version_major": 2,
       "version_minor": 0
      },
      "text/plain": [
       "Possible clusters:   0%|          | 0/11 [00:00<?, ?it/s]"
      ]
     },
     "metadata": {},
     "output_type": "display_data"
    },
    {
     "data": {
      "application/vnd.jupyter.widget-view+json": {
       "model_id": "8e700503f13146b58a9379cfaedc8478",
       "version_major": 2,
       "version_minor": 0
      },
      "text/plain": [
       "Possible clusters:   0%|          | 0/10879 [00:00<?, ?it/s]"
      ]
     },
     "metadata": {},
     "output_type": "display_data"
    },
    {
     "data": {
      "application/vnd.jupyter.widget-view+json": {
       "model_id": "d9690aa9f9524b8c87d3003a9a0c7f4b",
       "version_major": 2,
       "version_minor": 0
      },
      "text/plain": [
       "Possible clusters:   0%|          | 0/5016 [00:00<?, ?it/s]"
      ]
     },
     "metadata": {},
     "output_type": "display_data"
    },
    {
     "data": {
      "application/vnd.jupyter.widget-view+json": {
       "model_id": "1662c99907874b20845b84790ee7be5b",
       "version_major": 2,
       "version_minor": 0
      },
      "text/plain": [
       "Possible clusters:   0%|          | 0/1925 [00:00<?, ?it/s]"
      ]
     },
     "metadata": {},
     "output_type": "display_data"
    },
    {
     "data": {
      "application/vnd.jupyter.widget-view+json": {
       "model_id": "2d974e615f364577b7fd4801cc703ea7",
       "version_major": 2,
       "version_minor": 0
      },
      "text/plain": [
       "Possible clusters:   0%|          | 0/550 [00:00<?, ?it/s]"
      ]
     },
     "metadata": {},
     "output_type": "display_data"
    },
    {
     "data": {
      "application/vnd.jupyter.widget-view+json": {
       "model_id": "612dce0041ab4f7baaa4d602ac233f6d",
       "version_major": 2,
       "version_minor": 0
      },
      "text/plain": [
       "Possible clusters:   0%|          | 0/91 [00:00<?, ?it/s]"
      ]
     },
     "metadata": {},
     "output_type": "display_data"
    },
    {
     "data": {
      "application/vnd.jupyter.widget-view+json": {
       "model_id": "d8410a629902482791442a5ab473b4f9",
       "version_major": 2,
       "version_minor": 0
      },
      "text/plain": [
       "Possible clusters:   0%|          | 0/4 [00:00<?, ?it/s]"
      ]
     },
     "metadata": {},
     "output_type": "display_data"
    },
    {
     "data": {
      "application/vnd.jupyter.widget-view+json": {
       "model_id": "10f20f0ad8e84b28858395bd165b069b",
       "version_major": 2,
       "version_minor": 0
      },
      "text/plain": [
       "Possible clusters:   0%|          | 0/10879 [00:00<?, ?it/s]"
      ]
     },
     "metadata": {},
     "output_type": "display_data"
    },
    {
     "data": {
      "application/vnd.jupyter.widget-view+json": {
       "model_id": "121c84d5577344b6bb4517289155d822",
       "version_major": 2,
       "version_minor": 0
      },
      "text/plain": [
       "Possible clusters:   0%|          | 0/5016 [00:00<?, ?it/s]"
      ]
     },
     "metadata": {},
     "output_type": "display_data"
    },
    {
     "data": {
      "application/vnd.jupyter.widget-view+json": {
       "model_id": "be82e963bdad49e8b2b12524f2019392",
       "version_major": 2,
       "version_minor": 0
      },
      "text/plain": [
       "Possible clusters:   0%|          | 0/1925 [00:00<?, ?it/s]"
      ]
     },
     "metadata": {},
     "output_type": "display_data"
    },
    {
     "data": {
      "application/vnd.jupyter.widget-view+json": {
       "model_id": "eb9b3c2e5ea046a29cc9f43bc25ceb28",
       "version_major": 2,
       "version_minor": 0
      },
      "text/plain": [
       "Possible clusters:   0%|          | 0/550 [00:00<?, ?it/s]"
      ]
     },
     "metadata": {},
     "output_type": "display_data"
    },
    {
     "data": {
      "application/vnd.jupyter.widget-view+json": {
       "model_id": "026927023c6649e2861ce00bb18985fc",
       "version_major": 2,
       "version_minor": 0
      },
      "text/plain": [
       "Possible clusters:   0%|          | 0/91 [00:00<?, ?it/s]"
      ]
     },
     "metadata": {},
     "output_type": "display_data"
    },
    {
     "data": {
      "application/vnd.jupyter.widget-view+json": {
       "model_id": "cf29280a18b74332b61703bad2b24567",
       "version_major": 2,
       "version_minor": 0
      },
      "text/plain": [
       "Possible clusters:   0%|          | 0/4 [00:00<?, ?it/s]"
      ]
     },
     "metadata": {},
     "output_type": "display_data"
    },
    {
     "data": {
      "application/vnd.jupyter.widget-view+json": {
       "model_id": "1b3034c6520b4116ab7cb20bc5ade23c",
       "version_major": 2,
       "version_minor": 0
      },
      "text/plain": [
       "Possible clusters:   0%|          | 0/7525 [00:00<?, ?it/s]"
      ]
     },
     "metadata": {},
     "output_type": "display_data"
    },
    {
     "data": {
      "application/vnd.jupyter.widget-view+json": {
       "model_id": "833029824a38416090cc4498de1f3322",
       "version_major": 2,
       "version_minor": 0
      },
      "text/plain": [
       "Possible clusters:   0%|          | 0/3196 [00:00<?, ?it/s]"
      ]
     },
     "metadata": {},
     "output_type": "display_data"
    },
    {
     "data": {
      "application/vnd.jupyter.widget-view+json": {
       "model_id": "f7ab583e28fc483a9deee15d32c63e42",
       "version_major": 2,
       "version_minor": 0
      },
      "text/plain": [
       "Possible clusters:   0%|          | 0/1079 [00:00<?, ?it/s]"
      ]
     },
     "metadata": {},
     "output_type": "display_data"
    },
    {
     "data": {
      "application/vnd.jupyter.widget-view+json": {
       "model_id": "203db5ed6ddb4d1f8b4872d6111c8c32",
       "version_major": 2,
       "version_minor": 0
      },
      "text/plain": [
       "Possible clusters:   0%|          | 0/246 [00:00<?, ?it/s]"
      ]
     },
     "metadata": {},
     "output_type": "display_data"
    },
    {
     "data": {
      "application/vnd.jupyter.widget-view+json": {
       "model_id": "fe1a693712974f4ba9f51186d97fc1c1",
       "version_major": 2,
       "version_minor": 0
      },
      "text/plain": [
       "Possible clusters:   0%|          | 0/25 [00:00<?, ?it/s]"
      ]
     },
     "metadata": {},
     "output_type": "display_data"
    },
    {
     "data": {
      "application/vnd.jupyter.widget-view+json": {
       "model_id": "7676d31428174f1192982542b90b0595",
       "version_major": 2,
       "version_minor": 0
      },
      "text/plain": [
       "Possible clusters:   0%|          | 0/68380 [00:00<?, ?it/s]"
      ]
     },
     "metadata": {},
     "output_type": "display_data"
    },
    {
     "data": {
      "application/vnd.jupyter.widget-view+json": {
       "model_id": "4c0e29077c6e400492b0a6c3369afb35",
       "version_major": 2,
       "version_minor": 0
      },
      "text/plain": [
       "Possible clusters:   0%|          | 0/21679 [00:00<?, ?it/s]"
      ]
     },
     "metadata": {},
     "output_type": "display_data"
    },
    {
     "data": {
      "application/vnd.jupyter.widget-view+json": {
       "model_id": "5d46963db05446439d4787464dd771aa",
       "version_major": 2,
       "version_minor": 0
      },
      "text/plain": [
       "Possible clusters:   0%|          | 0/4928 [00:00<?, ?it/s]"
      ]
     },
     "metadata": {},
     "output_type": "display_data"
    },
    {
     "data": {
      "application/vnd.jupyter.widget-view+json": {
       "model_id": "caaee355d53a484eb68d3ff98bb10544",
       "version_major": 2,
       "version_minor": 0
      },
      "text/plain": [
       "Possible clusters:   0%|          | 0/627 [00:00<?, ?it/s]"
      ]
     },
     "metadata": {},
     "output_type": "display_data"
    },
    {
     "data": {
      "application/vnd.jupyter.widget-view+json": {
       "model_id": "d4086d70982f4753a3ebfa5f625c08df",
       "version_major": 2,
       "version_minor": 0
      },
      "text/plain": [
       "Possible clusters:   0%|          | 0/26 [00:00<?, ?it/s]"
      ]
     },
     "metadata": {},
     "output_type": "display_data"
    },
    {
     "data": {
      "application/vnd.jupyter.widget-view+json": {
       "model_id": "6f7999c2e368461a97485ec58f0f13d8",
       "version_major": 2,
       "version_minor": 0
      },
      "text/plain": [
       "Possible clusters:   0%|          | 0/4029 [00:00<?, ?it/s]"
      ]
     },
     "metadata": {},
     "output_type": "display_data"
    },
    {
     "data": {
      "application/vnd.jupyter.widget-view+json": {
       "model_id": "2f314a4696684d079f1760eba3e95db4",
       "version_major": 2,
       "version_minor": 0
      },
      "text/plain": [
       "Possible clusters:   0%|          | 0/1456 [00:00<?, ?it/s]"
      ]
     },
     "metadata": {},
     "output_type": "display_data"
    },
    {
     "data": {
      "application/vnd.jupyter.widget-view+json": {
       "model_id": "cf3a77f3b8634f839d5af344ae17ad7e",
       "version_major": 2,
       "version_minor": 0
      },
      "text/plain": [
       "Possible clusters:   0%|          | 0/375 [00:00<?, ?it/s]"
      ]
     },
     "metadata": {},
     "output_type": "display_data"
    },
    {
     "data": {
      "application/vnd.jupyter.widget-view+json": {
       "model_id": "9d13a2e942d04a80b4ad0970cf2ba3cf",
       "version_major": 2,
       "version_minor": 0
      },
      "text/plain": [
       "Possible clusters:   0%|          | 0/50 [00:00<?, ?it/s]"
      ]
     },
     "metadata": {},
     "output_type": "display_data"
    },
    {
     "data": {
      "application/vnd.jupyter.widget-view+json": {
       "model_id": "e8038df010474401a737ac3b9d681b75",
       "version_major": 2,
       "version_minor": 0
      },
      "text/plain": [
       "Possible clusters:   0%|          | 0/1 [00:00<?, ?it/s]"
      ]
     },
     "metadata": {},
     "output_type": "display_data"
    },
    {
     "data": {
      "application/vnd.jupyter.widget-view+json": {
       "model_id": "e91b246adc51488dac33ccfa590fc7a6",
       "version_major": 2,
       "version_minor": 0
      },
      "text/plain": [
       "Possible clusters:   0%|          | 0/4029 [00:00<?, ?it/s]"
      ]
     },
     "metadata": {},
     "output_type": "display_data"
    },
    {
     "data": {
      "application/vnd.jupyter.widget-view+json": {
       "model_id": "dd537636452841fcbd05cf66384c4f16",
       "version_major": 2,
       "version_minor": 0
      },
      "text/plain": [
       "Possible clusters:   0%|          | 0/1456 [00:00<?, ?it/s]"
      ]
     },
     "metadata": {},
     "output_type": "display_data"
    },
    {
     "data": {
      "application/vnd.jupyter.widget-view+json": {
       "model_id": "1a8a19ff5bca487a87fac8634999ac1b",
       "version_major": 2,
       "version_minor": 0
      },
      "text/plain": [
       "Possible clusters:   0%|          | 0/375 [00:00<?, ?it/s]"
      ]
     },
     "metadata": {},
     "output_type": "display_data"
    },
    {
     "data": {
      "application/vnd.jupyter.widget-view+json": {
       "model_id": "506289e7f1644fffb2f64462bcda6b97",
       "version_major": 2,
       "version_minor": 0
      },
      "text/plain": [
       "Possible clusters:   0%|          | 0/50 [00:00<?, ?it/s]"
      ]
     },
     "metadata": {},
     "output_type": "display_data"
    },
    {
     "data": {
      "application/vnd.jupyter.widget-view+json": {
       "model_id": "1a4aac6b527c4411951e5ccc0a36ab90",
       "version_major": 2,
       "version_minor": 0
      },
      "text/plain": [
       "Possible clusters:   0%|          | 0/1 [00:00<?, ?it/s]"
      ]
     },
     "metadata": {},
     "output_type": "display_data"
    },
    {
     "data": {
      "application/vnd.jupyter.widget-view+json": {
       "model_id": "5b804fcb1a5741a786c238fa769acdfd",
       "version_major": 2,
       "version_minor": 0
      },
      "text/plain": [
       "Possible clusters:   0%|          | 0/174406 [00:00<?, ?it/s]"
      ]
     },
     "metadata": {},
     "output_type": "display_data"
    },
    {
     "data": {
      "application/vnd.jupyter.widget-view+json": {
       "model_id": "3ee5537a898e4e22abd8cd1526610e50",
       "version_major": 2,
       "version_minor": 0
      },
      "text/plain": [
       "Possible clusters:   0%|          | 0/68380 [00:00<?, ?it/s]"
      ]
     },
     "metadata": {},
     "output_type": "display_data"
    },
    {
     "data": {
      "application/vnd.jupyter.widget-view+json": {
       "model_id": "3cdd01aa7e1a46f3a58ee7c35ac98008",
       "version_major": 2,
       "version_minor": 0
      },
      "text/plain": [
       "Possible clusters:   0%|          | 0/21679 [00:00<?, ?it/s]"
      ]
     },
     "metadata": {},
     "output_type": "display_data"
    },
    {
     "data": {
      "application/vnd.jupyter.widget-view+json": {
       "model_id": "34dbb85ad98a48c6a294225180a2feed",
       "version_major": 2,
       "version_minor": 0
      },
      "text/plain": [
       "Possible clusters:   0%|          | 0/4928 [00:00<?, ?it/s]"
      ]
     },
     "metadata": {},
     "output_type": "display_data"
    },
    {
     "data": {
      "application/vnd.jupyter.widget-view+json": {
       "model_id": "0e1c59957b094e33b6cf2213fe37c7a9",
       "version_major": 2,
       "version_minor": 0
      },
      "text/plain": [
       "Possible clusters:   0%|          | 0/627 [00:00<?, ?it/s]"
      ]
     },
     "metadata": {},
     "output_type": "display_data"
    },
    {
     "data": {
      "application/vnd.jupyter.widget-view+json": {
       "model_id": "9d72f24cd2ba43c18f267e9c79054119",
       "version_major": 2,
       "version_minor": 0
      },
      "text/plain": [
       "Possible clusters:   0%|          | 0/26 [00:00<?, ?it/s]"
      ]
     },
     "metadata": {},
     "output_type": "display_data"
    },
    {
     "data": {
      "application/vnd.jupyter.widget-view+json": {
       "model_id": "33504da8680f4c179d5c6708cafefcb6",
       "version_major": 2,
       "version_minor": 0
      },
      "text/plain": [
       "Possible clusters:   0%|          | 0/4 [00:00<?, ?it/s]"
      ]
     },
     "metadata": {},
     "output_type": "display_data"
    },
    {
     "data": {
      "application/vnd.jupyter.widget-view+json": {
       "model_id": "dea16b55db9349cb90ab298ffaa2d9ca",
       "version_major": 2,
       "version_minor": 0
      },
      "text/plain": [
       "Possible clusters:   0%|          | 0/3196 [00:00<?, ?it/s]"
      ]
     },
     "metadata": {},
     "output_type": "display_data"
    },
    {
     "data": {
      "application/vnd.jupyter.widget-view+json": {
       "model_id": "2564bec18863454fb31d0c0a619163d8",
       "version_major": 2,
       "version_minor": 0
      },
      "text/plain": [
       "Possible clusters:   0%|          | 0/1079 [00:00<?, ?it/s]"
      ]
     },
     "metadata": {},
     "output_type": "display_data"
    },
    {
     "data": {
      "application/vnd.jupyter.widget-view+json": {
       "model_id": "19a49bd240a04636abc78c0ba741d6a9",
       "version_major": 2,
       "version_minor": 0
      },
      "text/plain": [
       "Possible clusters:   0%|          | 0/246 [00:00<?, ?it/s]"
      ]
     },
     "metadata": {},
     "output_type": "display_data"
    },
    {
     "data": {
      "application/vnd.jupyter.widget-view+json": {
       "model_id": "d172446ee70d4a5bb80997b3cb40a68a",
       "version_major": 2,
       "version_minor": 0
      },
      "text/plain": [
       "Possible clusters:   0%|          | 0/25 [00:00<?, ?it/s]"
      ]
     },
     "metadata": {},
     "output_type": "display_data"
    },
    {
     "data": {
      "application/vnd.jupyter.widget-view+json": {
       "model_id": "6930d31ee16a46bd8b5612bac7a2d983",
       "version_major": 2,
       "version_minor": 0
      },
      "text/plain": [
       "Possible clusters:   0%|          | 0/7525 [00:00<?, ?it/s]"
      ]
     },
     "metadata": {},
     "output_type": "display_data"
    },
    {
     "data": {
      "application/vnd.jupyter.widget-view+json": {
       "model_id": "a38368795a4b49f2838a42239597ff7f",
       "version_major": 2,
       "version_minor": 0
      },
      "text/plain": [
       "Possible clusters:   0%|          | 0/3196 [00:00<?, ?it/s]"
      ]
     },
     "metadata": {},
     "output_type": "display_data"
    },
    {
     "data": {
      "application/vnd.jupyter.widget-view+json": {
       "model_id": "218af1ca1e48420ca9e7218349ef4fe0",
       "version_major": 2,
       "version_minor": 0
      },
      "text/plain": [
       "Possible clusters:   0%|          | 0/1079 [00:00<?, ?it/s]"
      ]
     },
     "metadata": {},
     "output_type": "display_data"
    },
    {
     "data": {
      "application/vnd.jupyter.widget-view+json": {
       "model_id": "fc9be8a18f794e769c78d82e60a30943",
       "version_major": 2,
       "version_minor": 0
      },
      "text/plain": [
       "Possible clusters:   0%|          | 0/246 [00:00<?, ?it/s]"
      ]
     },
     "metadata": {},
     "output_type": "display_data"
    },
    {
     "data": {
      "application/vnd.jupyter.widget-view+json": {
       "model_id": "69843fe99210469b932b2db746d36d1e",
       "version_major": 2,
       "version_minor": 0
      },
      "text/plain": [
       "Possible clusters:   0%|          | 0/25 [00:00<?, ?it/s]"
      ]
     },
     "metadata": {},
     "output_type": "display_data"
    },
    {
     "data": {
      "application/vnd.jupyter.widget-view+json": {
       "model_id": "3e14b76180f34213b16419beccecaa72",
       "version_major": 2,
       "version_minor": 0
      },
      "text/plain": [
       "Possible clusters:   0%|          | 0/7525 [00:00<?, ?it/s]"
      ]
     },
     "metadata": {},
     "output_type": "display_data"
    },
    {
     "data": {
      "application/vnd.jupyter.widget-view+json": {
       "model_id": "cdf5d103db4e42bea309c2b8598b0978",
       "version_major": 2,
       "version_minor": 0
      },
      "text/plain": [
       "Possible clusters:   0%|          | 0/3196 [00:00<?, ?it/s]"
      ]
     },
     "metadata": {},
     "output_type": "display_data"
    },
    {
     "data": {
      "application/vnd.jupyter.widget-view+json": {
       "model_id": "efc1737eb0b64c4da67ec31faffd5b81",
       "version_major": 2,
       "version_minor": 0
      },
      "text/plain": [
       "Possible clusters:   0%|          | 0/1079 [00:00<?, ?it/s]"
      ]
     },
     "metadata": {},
     "output_type": "display_data"
    },
    {
     "data": {
      "application/vnd.jupyter.widget-view+json": {
       "model_id": "8f697d720c0b470f865ff413bb59a2ca",
       "version_major": 2,
       "version_minor": 0
      },
      "text/plain": [
       "Possible clusters:   0%|          | 0/246 [00:00<?, ?it/s]"
      ]
     },
     "metadata": {},
     "output_type": "display_data"
    },
    {
     "data": {
      "application/vnd.jupyter.widget-view+json": {
       "model_id": "302b2ee2b6074d468af60e4740d5117a",
       "version_major": 2,
       "version_minor": 0
      },
      "text/plain": [
       "Possible clusters:   0%|          | 0/25 [00:00<?, ?it/s]"
      ]
     },
     "metadata": {},
     "output_type": "display_data"
    },
    {
     "data": {
      "application/vnd.jupyter.widget-view+json": {
       "model_id": "c5cbf1f93d204deca31aa4e02addd2de",
       "version_major": 2,
       "version_minor": 0
      },
      "text/plain": [
       "Possible clusters:   0%|          | 0/10879 [00:00<?, ?it/s]"
      ]
     },
     "metadata": {},
     "output_type": "display_data"
    },
    {
     "data": {
      "application/vnd.jupyter.widget-view+json": {
       "model_id": "25d731b91ef64b9590dca1cc44aa3c53",
       "version_major": 2,
       "version_minor": 0
      },
      "text/plain": [
       "Possible clusters:   0%|          | 0/5016 [00:00<?, ?it/s]"
      ]
     },
     "metadata": {},
     "output_type": "display_data"
    },
    {
     "data": {
      "application/vnd.jupyter.widget-view+json": {
       "model_id": "b5fa00d78f5a4145981c2d810e570ae8",
       "version_major": 2,
       "version_minor": 0
      },
      "text/plain": [
       "Possible clusters:   0%|          | 0/1925 [00:00<?, ?it/s]"
      ]
     },
     "metadata": {},
     "output_type": "display_data"
    },
    {
     "data": {
      "application/vnd.jupyter.widget-view+json": {
       "model_id": "47e47c110aaf48a9ab1afb02acd616d6",
       "version_major": 2,
       "version_minor": 0
      },
      "text/plain": [
       "Possible clusters:   0%|          | 0/550 [00:00<?, ?it/s]"
      ]
     },
     "metadata": {},
     "output_type": "display_data"
    },
    {
     "data": {
      "application/vnd.jupyter.widget-view+json": {
       "model_id": "a4fcd0ea8bc0446ab88ba011d76fbad4",
       "version_major": 2,
       "version_minor": 0
      },
      "text/plain": [
       "Possible clusters:   0%|          | 0/91 [00:00<?, ?it/s]"
      ]
     },
     "metadata": {},
     "output_type": "display_data"
    },
    {
     "data": {
      "application/vnd.jupyter.widget-view+json": {
       "model_id": "ba82d7fb0d514cf585846c564922cb55",
       "version_major": 2,
       "version_minor": 0
      },
      "text/plain": [
       "Possible clusters:   0%|          | 0/4 [00:00<?, ?it/s]"
      ]
     },
     "metadata": {},
     "output_type": "display_data"
    },
    {
     "data": {
      "application/vnd.jupyter.widget-view+json": {
       "model_id": "297c9166692e4e268e56262623cb59a1",
       "version_major": 2,
       "version_minor": 0
      },
      "text/plain": [
       "Possible clusters:   0%|          | 0/4029 [00:00<?, ?it/s]"
      ]
     },
     "metadata": {},
     "output_type": "display_data"
    },
    {
     "data": {
      "application/vnd.jupyter.widget-view+json": {
       "model_id": "1595353427ec4a3a83162a4e9129c7aa",
       "version_major": 2,
       "version_minor": 0
      },
      "text/plain": [
       "Possible clusters:   0%|          | 0/1456 [00:00<?, ?it/s]"
      ]
     },
     "metadata": {},
     "output_type": "display_data"
    },
    {
     "data": {
      "application/vnd.jupyter.widget-view+json": {
       "model_id": "d42ce95d12d3494f908690fc1eca9a51",
       "version_major": 2,
       "version_minor": 0
      },
      "text/plain": [
       "Possible clusters:   0%|          | 0/375 [00:00<?, ?it/s]"
      ]
     },
     "metadata": {},
     "output_type": "display_data"
    },
    {
     "data": {
      "application/vnd.jupyter.widget-view+json": {
       "model_id": "91512f082e9c4417a7fb78dc8249cb5e",
       "version_major": 2,
       "version_minor": 0
      },
      "text/plain": [
       "Possible clusters:   0%|          | 0/50 [00:00<?, ?it/s]"
      ]
     },
     "metadata": {},
     "output_type": "display_data"
    },
    {
     "data": {
      "application/vnd.jupyter.widget-view+json": {
       "model_id": "9462203773de41c49e7db094b317123a",
       "version_major": 2,
       "version_minor": 0
      },
      "text/plain": [
       "Possible clusters:   0%|          | 0/1 [00:00<?, ?it/s]"
      ]
     },
     "metadata": {},
     "output_type": "display_data"
    },
    {
     "data": {
      "application/vnd.jupyter.widget-view+json": {
       "model_id": "149a0db9be7440358af9c1d6bc2509e5",
       "version_major": 2,
       "version_minor": 0
      },
      "text/plain": [
       "Possible clusters:   0%|          | 0/101556 [00:00<?, ?it/s]"
      ]
     },
     "metadata": {},
     "output_type": "display_data"
    },
    {
     "data": {
      "application/vnd.jupyter.widget-view+json": {
       "model_id": "35288efe2f9549d697ff416c632df94d",
       "version_major": 2,
       "version_minor": 0
      },
      "text/plain": [
       "Possible clusters:   0%|          | 0/35420 [00:00<?, ?it/s]"
      ]
     },
     "metadata": {},
     "output_type": "display_data"
    },
    {
     "data": {
      "application/vnd.jupyter.widget-view+json": {
       "model_id": "77a6593be9fb4e61b250907c33293511",
       "version_major": 2,
       "version_minor": 0
      },
      "text/plain": [
       "Possible clusters:   0%|          | 0/9384 [00:00<?, ?it/s]"
      ]
     },
     "metadata": {},
     "output_type": "display_data"
    },
    {
     "data": {
      "application/vnd.jupyter.widget-view+json": {
       "model_id": "14672833d1e94423ba617e97e547aa45",
       "version_major": 2,
       "version_minor": 0
      },
      "text/plain": [
       "Possible clusters:   0%|          | 0/2366 [00:00<?, ?it/s]"
      ]
     },
     "metadata": {},
     "output_type": "display_data"
    },
    {
     "data": {
      "application/vnd.jupyter.widget-view+json": {
       "model_id": "dd8c7129e8ce45a3bd6905e268f0718d",
       "version_major": 2,
       "version_minor": 0
      },
      "text/plain": [
       "Possible clusters:   0%|          | 0/210 [00:00<?, ?it/s]"
      ]
     },
     "metadata": {},
     "output_type": "display_data"
    },
    {
     "data": {
      "application/vnd.jupyter.widget-view+json": {
       "model_id": "61cf61059dc64f6682ca420d488ef5bd",
       "version_major": 2,
       "version_minor": 0
      },
      "text/plain": [
       "Possible clusters:   0%|          | 0/4 [00:00<?, ?it/s]"
      ]
     },
     "metadata": {},
     "output_type": "display_data"
    },
    {
     "data": {
      "application/vnd.jupyter.widget-view+json": {
       "model_id": "adfc7e32cc4e4fee95f47efe11543790",
       "version_major": 2,
       "version_minor": 0
      },
      "text/plain": [
       "Possible clusters:   0%|          | 0/10879 [00:00<?, ?it/s]"
      ]
     },
     "metadata": {},
     "output_type": "display_data"
    },
    {
     "data": {
      "application/vnd.jupyter.widget-view+json": {
       "model_id": "99b8b0082404466eb729930d52a3824c",
       "version_major": 2,
       "version_minor": 0
      },
      "text/plain": [
       "Possible clusters:   0%|          | 0/5016 [00:00<?, ?it/s]"
      ]
     },
     "metadata": {},
     "output_type": "display_data"
    },
    {
     "data": {
      "application/vnd.jupyter.widget-view+json": {
       "model_id": "1181d55aa78148859e43f7a0a3436e61",
       "version_major": 2,
       "version_minor": 0
      },
      "text/plain": [
       "Possible clusters:   0%|          | 0/1925 [00:00<?, ?it/s]"
      ]
     },
     "metadata": {},
     "output_type": "display_data"
    },
    {
     "data": {
      "application/vnd.jupyter.widget-view+json": {
       "model_id": "24c9ca7dc57749479bc1b2493f68e091",
       "version_major": 2,
       "version_minor": 0
      },
      "text/plain": [
       "Possible clusters:   0%|          | 0/550 [00:00<?, ?it/s]"
      ]
     },
     "metadata": {},
     "output_type": "display_data"
    },
    {
     "data": {
      "application/vnd.jupyter.widget-view+json": {
       "model_id": "776683bb105b4aa6bba10d8eb4d8abd1",
       "version_major": 2,
       "version_minor": 0
      },
      "text/plain": [
       "Possible clusters:   0%|          | 0/91 [00:00<?, ?it/s]"
      ]
     },
     "metadata": {},
     "output_type": "display_data"
    },
    {
     "data": {
      "application/vnd.jupyter.widget-view+json": {
       "model_id": "b923cfc43b364d88ad8dc78e24565a81",
       "version_major": 2,
       "version_minor": 0
      },
      "text/plain": [
       "Possible clusters:   0%|          | 0/25 [00:00<?, ?it/s]"
      ]
     },
     "metadata": {},
     "output_type": "display_data"
    },
    {
     "data": {
      "application/vnd.jupyter.widget-view+json": {
       "model_id": "6f15445726bf4107b335b2036737e5c8",
       "version_major": 2,
       "version_minor": 0
      },
      "text/plain": [
       "Possible clusters:   0%|          | 0/5016 [00:00<?, ?it/s]"
      ]
     },
     "metadata": {},
     "output_type": "display_data"
    },
    {
     "data": {
      "application/vnd.jupyter.widget-view+json": {
       "model_id": "5a82d2b036b349e2a648069ff6a66c38",
       "version_major": 2,
       "version_minor": 0
      },
      "text/plain": [
       "Possible clusters:   0%|          | 0/1925 [00:00<?, ?it/s]"
      ]
     },
     "metadata": {},
     "output_type": "display_data"
    },
    {
     "data": {
      "application/vnd.jupyter.widget-view+json": {
       "model_id": "187e86c5347e4432b9ffd5e64b9c51bc",
       "version_major": 2,
       "version_minor": 0
      },
      "text/plain": [
       "Possible clusters:   0%|          | 0/550 [00:00<?, ?it/s]"
      ]
     },
     "metadata": {},
     "output_type": "display_data"
    },
    {
     "data": {
      "application/vnd.jupyter.widget-view+json": {
       "model_id": "2c1122ca9aba4c8a80527ce6dfb13049",
       "version_major": 2,
       "version_minor": 0
      },
      "text/plain": [
       "Possible clusters:   0%|          | 0/91 [00:00<?, ?it/s]"
      ]
     },
     "metadata": {},
     "output_type": "display_data"
    },
    {
     "data": {
      "application/vnd.jupyter.widget-view+json": {
       "model_id": "196c478766d34560a2a0fc0303729e3a",
       "version_major": 2,
       "version_minor": 0
      },
      "text/plain": [
       "Possible clusters:   0%|          | 0/4 [00:00<?, ?it/s]"
      ]
     },
     "metadata": {},
     "output_type": "display_data"
    },
    {
     "data": {
      "application/vnd.jupyter.widget-view+json": {
       "model_id": "561022e185624bf0b6a41954074d4b69",
       "version_major": 2,
       "version_minor": 0
      },
      "text/plain": [
       "Possible clusters:   0%|          | 0/9086 [00:00<?, ?it/s]"
      ]
     },
     "metadata": {},
     "output_type": "display_data"
    },
    {
     "data": {
      "application/vnd.jupyter.widget-view+json": {
       "model_id": "d93ce1ccd00d4a1f9d2ff13570bdcbdc",
       "version_major": 2,
       "version_minor": 0
      },
      "text/plain": [
       "Possible clusters:   0%|          | 0/4029 [00:00<?, ?it/s]"
      ]
     },
     "metadata": {},
     "output_type": "display_data"
    },
    {
     "data": {
      "application/vnd.jupyter.widget-view+json": {
       "model_id": "5d551af37dce4ed9ab531c3c63f6a705",
       "version_major": 2,
       "version_minor": 0
      },
      "text/plain": [
       "Possible clusters:   0%|          | 0/1456 [00:00<?, ?it/s]"
      ]
     },
     "metadata": {},
     "output_type": "display_data"
    },
    {
     "data": {
      "application/vnd.jupyter.widget-view+json": {
       "model_id": "0749effc12f747a3ae9e9ce5a01c0018",
       "version_major": 2,
       "version_minor": 0
      },
      "text/plain": [
       "Possible clusters:   0%|          | 0/375 [00:00<?, ?it/s]"
      ]
     },
     "metadata": {},
     "output_type": "display_data"
    },
    {
     "data": {
      "application/vnd.jupyter.widget-view+json": {
       "model_id": "fb82d222ff2641688feb87ef49d97006",
       "version_major": 2,
       "version_minor": 0
      },
      "text/plain": [
       "Possible clusters:   0%|          | 0/50 [00:00<?, ?it/s]"
      ]
     },
     "metadata": {},
     "output_type": "display_data"
    },
    {
     "data": {
      "application/vnd.jupyter.widget-view+json": {
       "model_id": "7728a0b073a34591b3be0020a6280883",
       "version_major": 2,
       "version_minor": 0
      },
      "text/plain": [
       "Possible clusters:   0%|          | 0/1 [00:00<?, ?it/s]"
      ]
     },
     "metadata": {},
     "output_type": "display_data"
    },
    {
     "data": {
      "application/vnd.jupyter.widget-view+json": {
       "model_id": "7c043c738e35419eac792c4f70f9fdb5",
       "version_major": 2,
       "version_minor": 0
      },
      "text/plain": [
       "Possible clusters:   0%|          | 0/9086 [00:00<?, ?it/s]"
      ]
     },
     "metadata": {},
     "output_type": "display_data"
    },
    {
     "data": {
      "application/vnd.jupyter.widget-view+json": {
       "model_id": "ff02a264a3004c20b7bb0654e6887066",
       "version_major": 2,
       "version_minor": 0
      },
      "text/plain": [
       "Possible clusters:   0%|          | 0/4029 [00:00<?, ?it/s]"
      ]
     },
     "metadata": {},
     "output_type": "display_data"
    },
    {
     "data": {
      "application/vnd.jupyter.widget-view+json": {
       "model_id": "051b330924134626acc8531a40212f79",
       "version_major": 2,
       "version_minor": 0
      },
      "text/plain": [
       "Possible clusters:   0%|          | 0/1456 [00:00<?, ?it/s]"
      ]
     },
     "metadata": {},
     "output_type": "display_data"
    },
    {
     "data": {
      "application/vnd.jupyter.widget-view+json": {
       "model_id": "1e045fe1a8cc4a879d7a8f8620f9313b",
       "version_major": 2,
       "version_minor": 0
      },
      "text/plain": [
       "Possible clusters:   0%|          | 0/375 [00:00<?, ?it/s]"
      ]
     },
     "metadata": {},
     "output_type": "display_data"
    },
    {
     "data": {
      "application/vnd.jupyter.widget-view+json": {
       "model_id": "91edfed11631454497db50cb080dbe31",
       "version_major": 2,
       "version_minor": 0
      },
      "text/plain": [
       "Possible clusters:   0%|          | 0/50 [00:00<?, ?it/s]"
      ]
     },
     "metadata": {},
     "output_type": "display_data"
    },
    {
     "data": {
      "application/vnd.jupyter.widget-view+json": {
       "model_id": "acb72d820f654bff83befa2d339a80f8",
       "version_major": 2,
       "version_minor": 0
      },
      "text/plain": [
       "Possible clusters:   0%|          | 0/1 [00:00<?, ?it/s]"
      ]
     },
     "metadata": {},
     "output_type": "display_data"
    },
    {
     "data": {
      "application/vnd.jupyter.widget-view+json": {
       "model_id": "1879b055fac646c89126e574393a0ca4",
       "version_major": 2,
       "version_minor": 0
      },
      "text/plain": [
       "Possible clusters:   0%|          | 0/6175 [00:00<?, ?it/s]"
      ]
     },
     "metadata": {},
     "output_type": "display_data"
    },
    {
     "data": {
      "application/vnd.jupyter.widget-view+json": {
       "model_id": "d5757fe03a6f40de93dc4cbbe0e9217f",
       "version_major": 2,
       "version_minor": 0
      },
      "text/plain": [
       "Possible clusters:   0%|          | 0/2500 [00:00<?, ?it/s]"
      ]
     },
     "metadata": {},
     "output_type": "display_data"
    },
    {
     "data": {
      "application/vnd.jupyter.widget-view+json": {
       "model_id": "1eb8776d23b940a99dcc1d4f1826f69a",
       "version_major": 2,
       "version_minor": 0
      },
      "text/plain": [
       "Possible clusters:   0%|          | 0/781 [00:00<?, ?it/s]"
      ]
     },
     "metadata": {},
     "output_type": "display_data"
    },
    {
     "data": {
      "application/vnd.jupyter.widget-view+json": {
       "model_id": "4569f38491694a46b6f5ff731d48343e",
       "version_major": 2,
       "version_minor": 0
      },
      "text/plain": [
       "Possible clusters:   0%|          | 0/154 [00:00<?, ?it/s]"
      ]
     },
     "metadata": {},
     "output_type": "display_data"
    },
    {
     "data": {
      "application/vnd.jupyter.widget-view+json": {
       "model_id": "b41c199d8ced4396a0624170d256c6d1",
       "version_major": 2,
       "version_minor": 0
      },
      "text/plain": [
       "Possible clusters:   0%|          | 0/11 [00:00<?, ?it/s]"
      ]
     },
     "metadata": {},
     "output_type": "display_data"
    },
    {
     "data": {
      "application/vnd.jupyter.widget-view+json": {
       "model_id": "e8763656084e47949bcdc515d30a120f",
       "version_major": 2,
       "version_minor": 0
      },
      "text/plain": [
       "Possible clusters:   0%|          | 0/4029 [00:00<?, ?it/s]"
      ]
     },
     "metadata": {},
     "output_type": "display_data"
    },
    {
     "data": {
      "application/vnd.jupyter.widget-view+json": {
       "model_id": "de807216887a4532aff00d9e0d87b72c",
       "version_major": 2,
       "version_minor": 0
      },
      "text/plain": [
       "Possible clusters:   0%|          | 0/1456 [00:00<?, ?it/s]"
      ]
     },
     "metadata": {},
     "output_type": "display_data"
    },
    {
     "data": {
      "application/vnd.jupyter.widget-view+json": {
       "model_id": "b511f814cbe741659f1f7b22805174e9",
       "version_major": 2,
       "version_minor": 0
      },
      "text/plain": [
       "Possible clusters:   0%|          | 0/375 [00:00<?, ?it/s]"
      ]
     },
     "metadata": {},
     "output_type": "display_data"
    },
    {
     "data": {
      "application/vnd.jupyter.widget-view+json": {
       "model_id": "834af281e7994519a240134ee1d162b3",
       "version_major": 2,
       "version_minor": 0
      },
      "text/plain": [
       "Possible clusters:   0%|          | 0/50 [00:00<?, ?it/s]"
      ]
     },
     "metadata": {},
     "output_type": "display_data"
    },
    {
     "data": {
      "application/vnd.jupyter.widget-view+json": {
       "model_id": "9bf48093ebc4436d9c18126b0611f8d9",
       "version_major": 2,
       "version_minor": 0
      },
      "text/plain": [
       "Possible clusters:   0%|          | 0/1 [00:00<?, ?it/s]"
      ]
     },
     "metadata": {},
     "output_type": "display_data"
    },
    {
     "data": {
      "application/vnd.jupyter.widget-view+json": {
       "model_id": "5aee272eddc44da78a787da93794ed1a",
       "version_major": 2,
       "version_minor": 0
      },
      "text/plain": [
       "Possible clusters:   0%|          | 0/7525 [00:00<?, ?it/s]"
      ]
     },
     "metadata": {},
     "output_type": "display_data"
    },
    {
     "data": {
      "application/vnd.jupyter.widget-view+json": {
       "model_id": "15e7414b33e9477c9254a514836fa4e5",
       "version_major": 2,
       "version_minor": 0
      },
      "text/plain": [
       "Possible clusters:   0%|          | 0/3196 [00:00<?, ?it/s]"
      ]
     },
     "metadata": {},
     "output_type": "display_data"
    },
    {
     "data": {
      "application/vnd.jupyter.widget-view+json": {
       "model_id": "53a00e7a22174215bb57c533c7468fc2",
       "version_major": 2,
       "version_minor": 0
      },
      "text/plain": [
       "Possible clusters:   0%|          | 0/1079 [00:00<?, ?it/s]"
      ]
     },
     "metadata": {},
     "output_type": "display_data"
    },
    {
     "data": {
      "application/vnd.jupyter.widget-view+json": {
       "model_id": "d89895e1288142f086a024b3cf9941e1",
       "version_major": 2,
       "version_minor": 0
      },
      "text/plain": [
       "Possible clusters:   0%|          | 0/246 [00:00<?, ?it/s]"
      ]
     },
     "metadata": {},
     "output_type": "display_data"
    },
    {
     "data": {
      "application/vnd.jupyter.widget-view+json": {
       "model_id": "cf3803cc36cd403e92b54378891913ec",
       "version_major": 2,
       "version_minor": 0
      },
      "text/plain": [
       "Possible clusters:   0%|          | 0/25 [00:00<?, ?it/s]"
      ]
     },
     "metadata": {},
     "output_type": "display_data"
    },
    {
     "data": {
      "application/vnd.jupyter.widget-view+json": {
       "model_id": "e503878316904290bb19f33d83aba01e",
       "version_major": 2,
       "version_minor": 0
      },
      "text/plain": [
       "Possible clusters:   0%|          | 0/4029 [00:00<?, ?it/s]"
      ]
     },
     "metadata": {},
     "output_type": "display_data"
    },
    {
     "data": {
      "application/vnd.jupyter.widget-view+json": {
       "model_id": "fce54d1a8590494fb789d4dcfd0588cd",
       "version_major": 2,
       "version_minor": 0
      },
      "text/plain": [
       "Possible clusters:   0%|          | 0/1456 [00:00<?, ?it/s]"
      ]
     },
     "metadata": {},
     "output_type": "display_data"
    },
    {
     "data": {
      "application/vnd.jupyter.widget-view+json": {
       "model_id": "e209b807d2104ac48127f520ae97c0e9",
       "version_major": 2,
       "version_minor": 0
      },
      "text/plain": [
       "Possible clusters:   0%|          | 0/375 [00:00<?, ?it/s]"
      ]
     },
     "metadata": {},
     "output_type": "display_data"
    },
    {
     "data": {
      "application/vnd.jupyter.widget-view+json": {
       "model_id": "ee4b14d5f25d47d28fc1931f046ed80d",
       "version_major": 2,
       "version_minor": 0
      },
      "text/plain": [
       "Possible clusters:   0%|          | 0/50 [00:00<?, ?it/s]"
      ]
     },
     "metadata": {},
     "output_type": "display_data"
    },
    {
     "data": {
      "application/vnd.jupyter.widget-view+json": {
       "model_id": "e98fcebcccbe43738183ee38b150d53c",
       "version_major": 2,
       "version_minor": 0
      },
      "text/plain": [
       "Possible clusters:   0%|          | 0/1 [00:00<?, ?it/s]"
      ]
     },
     "metadata": {},
     "output_type": "display_data"
    },
    {
     "data": {
      "application/vnd.jupyter.widget-view+json": {
       "model_id": "fd38a26033594d78830604956bf063b0",
       "version_major": 2,
       "version_minor": 0
      },
      "text/plain": [
       "Possible clusters:   0%|          | 0/7525 [00:00<?, ?it/s]"
      ]
     },
     "metadata": {},
     "output_type": "display_data"
    },
    {
     "data": {
      "application/vnd.jupyter.widget-view+json": {
       "model_id": "abecd45d1e2b40a891ec0941cb1aa640",
       "version_major": 2,
       "version_minor": 0
      },
      "text/plain": [
       "Possible clusters:   0%|          | 0/3196 [00:00<?, ?it/s]"
      ]
     },
     "metadata": {},
     "output_type": "display_data"
    },
    {
     "data": {
      "application/vnd.jupyter.widget-view+json": {
       "model_id": "2853922ac08b4b4e9425abb3f24d876c",
       "version_major": 2,
       "version_minor": 0
      },
      "text/plain": [
       "Possible clusters:   0%|          | 0/1079 [00:00<?, ?it/s]"
      ]
     },
     "metadata": {},
     "output_type": "display_data"
    },
    {
     "data": {
      "application/vnd.jupyter.widget-view+json": {
       "model_id": "bb658f0000bc4adca8349c4053b86016",
       "version_major": 2,
       "version_minor": 0
      },
      "text/plain": [
       "Possible clusters:   0%|          | 0/246 [00:00<?, ?it/s]"
      ]
     },
     "metadata": {},
     "output_type": "display_data"
    },
    {
     "data": {
      "application/vnd.jupyter.widget-view+json": {
       "model_id": "ff92e4189bc541149fc0f286606eaad7",
       "version_major": 2,
       "version_minor": 0
      },
      "text/plain": [
       "Possible clusters:   0%|          | 0/25 [00:00<?, ?it/s]"
      ]
     },
     "metadata": {},
     "output_type": "display_data"
    },
    {
     "data": {
      "application/vnd.jupyter.widget-view+json": {
       "model_id": "816fb7b22ac94a54a1bac445b2dbd37d",
       "version_major": 2,
       "version_minor": 0
      },
      "text/plain": [
       "Possible clusters:   0%|          | 0/10879 [00:00<?, ?it/s]"
      ]
     },
     "metadata": {},
     "output_type": "display_data"
    },
    {
     "data": {
      "application/vnd.jupyter.widget-view+json": {
       "model_id": "b1f0ea2e3d3d4573bbd18e04ead7fa43",
       "version_major": 2,
       "version_minor": 0
      },
      "text/plain": [
       "Possible clusters:   0%|          | 0/5016 [00:00<?, ?it/s]"
      ]
     },
     "metadata": {},
     "output_type": "display_data"
    },
    {
     "data": {
      "application/vnd.jupyter.widget-view+json": {
       "model_id": "89e367090ee54be18c2368435415037e",
       "version_major": 2,
       "version_minor": 0
      },
      "text/plain": [
       "Possible clusters:   0%|          | 0/1925 [00:00<?, ?it/s]"
      ]
     },
     "metadata": {},
     "output_type": "display_data"
    },
    {
     "data": {
      "application/vnd.jupyter.widget-view+json": {
       "model_id": "a0f8aa235ee94ac496df5e36f650837b",
       "version_major": 2,
       "version_minor": 0
      },
      "text/plain": [
       "Possible clusters:   0%|          | 0/550 [00:00<?, ?it/s]"
      ]
     },
     "metadata": {},
     "output_type": "display_data"
    },
    {
     "data": {
      "application/vnd.jupyter.widget-view+json": {
       "model_id": "f3152083b5764ad59752b5f2978dd4ab",
       "version_major": 2,
       "version_minor": 0
      },
      "text/plain": [
       "Possible clusters:   0%|          | 0/91 [00:00<?, ?it/s]"
      ]
     },
     "metadata": {},
     "output_type": "display_data"
    },
    {
     "data": {
      "application/vnd.jupyter.widget-view+json": {
       "model_id": "97046d9f1c6942e5b49c439f3cbbc9d8",
       "version_major": 2,
       "version_minor": 0
      },
      "text/plain": [
       "Possible clusters:   0%|          | 0/4 [00:00<?, ?it/s]"
      ]
     },
     "metadata": {},
     "output_type": "display_data"
    },
    {
     "data": {
      "application/vnd.jupyter.widget-view+json": {
       "model_id": "ead3f08747a544deb47b7cd7e1c1df99",
       "version_major": 2,
       "version_minor": 0
      },
      "text/plain": [
       "Possible clusters:   0%|          | 0/5016 [00:00<?, ?it/s]"
      ]
     },
     "metadata": {},
     "output_type": "display_data"
    },
    {
     "data": {
      "application/vnd.jupyter.widget-view+json": {
       "model_id": "e6d584a4124a4a818c338f9472d7d287",
       "version_major": 2,
       "version_minor": 0
      },
      "text/plain": [
       "Possible clusters:   0%|          | 0/1925 [00:00<?, ?it/s]"
      ]
     },
     "metadata": {},
     "output_type": "display_data"
    },
    {
     "data": {
      "application/vnd.jupyter.widget-view+json": {
       "model_id": "14d610f6727a4366bb6a6bd44a78a843",
       "version_major": 2,
       "version_minor": 0
      },
      "text/plain": [
       "Possible clusters:   0%|          | 0/550 [00:00<?, ?it/s]"
      ]
     },
     "metadata": {},
     "output_type": "display_data"
    },
    {
     "data": {
      "application/vnd.jupyter.widget-view+json": {
       "model_id": "1ef0dc15853a422fb1bcd58f6480da31",
       "version_major": 2,
       "version_minor": 0
      },
      "text/plain": [
       "Possible clusters:   0%|          | 0/91 [00:00<?, ?it/s]"
      ]
     },
     "metadata": {},
     "output_type": "display_data"
    },
    {
     "data": {
      "application/vnd.jupyter.widget-view+json": {
       "model_id": "56fa39124ac846b98711fbd06e115c32",
       "version_major": 2,
       "version_minor": 0
      },
      "text/plain": [
       "Possible clusters:   0%|          | 0/4 [00:00<?, ?it/s]"
      ]
     },
     "metadata": {},
     "output_type": "display_data"
    },
    {
     "data": {
      "application/vnd.jupyter.widget-view+json": {
       "model_id": "e7265a671d5b491b81d1efab9afa823a",
       "version_major": 2,
       "version_minor": 0
      },
      "text/plain": [
       "Possible clusters:   0%|          | 0/9086 [00:00<?, ?it/s]"
      ]
     },
     "metadata": {},
     "output_type": "display_data"
    },
    {
     "data": {
      "application/vnd.jupyter.widget-view+json": {
       "model_id": "18621ff605794212ba98767b490b3338",
       "version_major": 2,
       "version_minor": 0
      },
      "text/plain": [
       "Possible clusters:   0%|          | 0/4029 [00:00<?, ?it/s]"
      ]
     },
     "metadata": {},
     "output_type": "display_data"
    },
    {
     "data": {
      "application/vnd.jupyter.widget-view+json": {
       "model_id": "f854d8a11b0e4708ae9fd017ab602333",
       "version_major": 2,
       "version_minor": 0
      },
      "text/plain": [
       "Possible clusters:   0%|          | 0/1456 [00:00<?, ?it/s]"
      ]
     },
     "metadata": {},
     "output_type": "display_data"
    },
    {
     "data": {
      "application/vnd.jupyter.widget-view+json": {
       "model_id": "a85a159cbc264960a0c8b574ed5eb6f9",
       "version_major": 2,
       "version_minor": 0
      },
      "text/plain": [
       "Possible clusters:   0%|          | 0/375 [00:00<?, ?it/s]"
      ]
     },
     "metadata": {},
     "output_type": "display_data"
    },
    {
     "data": {
      "application/vnd.jupyter.widget-view+json": {
       "model_id": "67c067eb14224e199d56fbabc15c4591",
       "version_major": 2,
       "version_minor": 0
      },
      "text/plain": [
       "Possible clusters:   0%|          | 0/50 [00:00<?, ?it/s]"
      ]
     },
     "metadata": {},
     "output_type": "display_data"
    },
    {
     "data": {
      "application/vnd.jupyter.widget-view+json": {
       "model_id": "4f500fe385204db596f49cf86692c746",
       "version_major": 2,
       "version_minor": 0
      },
      "text/plain": [
       "Possible clusters:   0%|          | 0/1 [00:00<?, ?it/s]"
      ]
     },
     "metadata": {},
     "output_type": "display_data"
    },
    {
     "data": {
      "application/vnd.jupyter.widget-view+json": {
       "model_id": "26d5f232c51e4f24a93b09acef9e168c",
       "version_major": 2,
       "version_minor": 0
      },
      "text/plain": [
       "Possible clusters:   0%|          | 0/9086 [00:00<?, ?it/s]"
      ]
     },
     "metadata": {},
     "output_type": "display_data"
    },
    {
     "data": {
      "application/vnd.jupyter.widget-view+json": {
       "model_id": "6e0981aca77248159b9e363b696b093b",
       "version_major": 2,
       "version_minor": 0
      },
      "text/plain": [
       "Possible clusters:   0%|          | 0/4029 [00:00<?, ?it/s]"
      ]
     },
     "metadata": {},
     "output_type": "display_data"
    },
    {
     "data": {
      "application/vnd.jupyter.widget-view+json": {
       "model_id": "b14abd4ab89d4e62accf164ad05a36c7",
       "version_major": 2,
       "version_minor": 0
      },
      "text/plain": [
       "Possible clusters:   0%|          | 0/1456 [00:00<?, ?it/s]"
      ]
     },
     "metadata": {},
     "output_type": "display_data"
    },
    {
     "data": {
      "application/vnd.jupyter.widget-view+json": {
       "model_id": "a0d4cd5003574656a3cf2d87484d9102",
       "version_major": 2,
       "version_minor": 0
      },
      "text/plain": [
       "Possible clusters:   0%|          | 0/375 [00:00<?, ?it/s]"
      ]
     },
     "metadata": {},
     "output_type": "display_data"
    },
    {
     "data": {
      "application/vnd.jupyter.widget-view+json": {
       "model_id": "90b74e8e23b0479a87814c6b1adf5b03",
       "version_major": 2,
       "version_minor": 0
      },
      "text/plain": [
       "Possible clusters:   0%|          | 0/50 [00:00<?, ?it/s]"
      ]
     },
     "metadata": {},
     "output_type": "display_data"
    },
    {
     "data": {
      "application/vnd.jupyter.widget-view+json": {
       "model_id": "40e74812ee1e45b9b114e258b91fa70b",
       "version_major": 2,
       "version_minor": 0
      },
      "text/plain": [
       "Possible clusters:   0%|          | 0/1 [00:00<?, ?it/s]"
      ]
     },
     "metadata": {},
     "output_type": "display_data"
    },
    {
     "data": {
      "application/vnd.jupyter.widget-view+json": {
       "model_id": "e23f78fe718249a8a2cf1966a9624d50",
       "version_major": 2,
       "version_minor": 0
      },
      "text/plain": [
       "Possible clusters:   0%|          | 0/6175 [00:00<?, ?it/s]"
      ]
     },
     "metadata": {},
     "output_type": "display_data"
    },
    {
     "data": {
      "application/vnd.jupyter.widget-view+json": {
       "model_id": "b42223fe608d406c8f9111c04d407c67",
       "version_major": 2,
       "version_minor": 0
      },
      "text/plain": [
       "Possible clusters:   0%|          | 0/2500 [00:00<?, ?it/s]"
      ]
     },
     "metadata": {},
     "output_type": "display_data"
    },
    {
     "data": {
      "application/vnd.jupyter.widget-view+json": {
       "model_id": "a156f4fed5244632ad1a6234e173c880",
       "version_major": 2,
       "version_minor": 0
      },
      "text/plain": [
       "Possible clusters:   0%|          | 0/781 [00:00<?, ?it/s]"
      ]
     },
     "metadata": {},
     "output_type": "display_data"
    },
    {
     "data": {
      "application/vnd.jupyter.widget-view+json": {
       "model_id": "7709f7be32c94fc484679a4699fa2aeb",
       "version_major": 2,
       "version_minor": 0
      },
      "text/plain": [
       "Possible clusters:   0%|          | 0/154 [00:00<?, ?it/s]"
      ]
     },
     "metadata": {},
     "output_type": "display_data"
    },
    {
     "data": {
      "application/vnd.jupyter.widget-view+json": {
       "model_id": "d4453118878e45528448bd965dd990bf",
       "version_major": 2,
       "version_minor": 0
      },
      "text/plain": [
       "Possible clusters:   0%|          | 0/11 [00:00<?, ?it/s]"
      ]
     },
     "metadata": {},
     "output_type": "display_data"
    },
    {
     "data": {
      "application/vnd.jupyter.widget-view+json": {
       "model_id": "8d455bee322741d1a01d54ed271cd4f3",
       "version_major": 2,
       "version_minor": 0
      },
      "text/plain": [
       "Possible clusters:   0%|          | 0/10879 [00:00<?, ?it/s]"
      ]
     },
     "metadata": {},
     "output_type": "display_data"
    },
    {
     "data": {
      "application/vnd.jupyter.widget-view+json": {
       "model_id": "fa9f33ce0b154f18bd949aa68c140f19",
       "version_major": 2,
       "version_minor": 0
      },
      "text/plain": [
       "Possible clusters:   0%|          | 0/5016 [00:00<?, ?it/s]"
      ]
     },
     "metadata": {},
     "output_type": "display_data"
    },
    {
     "data": {
      "application/vnd.jupyter.widget-view+json": {
       "model_id": "10c55c4bfd404baeb17ef4b38f1408e4",
       "version_major": 2,
       "version_minor": 0
      },
      "text/plain": [
       "Possible clusters:   0%|          | 0/1925 [00:00<?, ?it/s]"
      ]
     },
     "metadata": {},
     "output_type": "display_data"
    },
    {
     "data": {
      "application/vnd.jupyter.widget-view+json": {
       "model_id": "ddeabe2f208b46a295fa364eeeb2c3f4",
       "version_major": 2,
       "version_minor": 0
      },
      "text/plain": [
       "Possible clusters:   0%|          | 0/550 [00:00<?, ?it/s]"
      ]
     },
     "metadata": {},
     "output_type": "display_data"
    },
    {
     "data": {
      "application/vnd.jupyter.widget-view+json": {
       "model_id": "a22178cb2c444f8bba1965c6ec3c66e6",
       "version_major": 2,
       "version_minor": 0
      },
      "text/plain": [
       "Possible clusters:   0%|          | 0/91 [00:00<?, ?it/s]"
      ]
     },
     "metadata": {},
     "output_type": "display_data"
    },
    {
     "data": {
      "application/vnd.jupyter.widget-view+json": {
       "model_id": "19e78dd7d4374c9384275278b5817570",
       "version_major": 2,
       "version_minor": 0
      },
      "text/plain": [
       "Possible clusters:   0%|          | 0/4 [00:00<?, ?it/s]"
      ]
     },
     "metadata": {},
     "output_type": "display_data"
    },
    {
     "data": {
      "application/vnd.jupyter.widget-view+json": {
       "model_id": "087dbdb1d96149d58ab0673e53a24903",
       "version_major": 2,
       "version_minor": 0
      },
      "text/plain": [
       "Possible clusters:   0%|          | 0/68380 [00:00<?, ?it/s]"
      ]
     },
     "metadata": {},
     "output_type": "display_data"
    },
    {
     "data": {
      "application/vnd.jupyter.widget-view+json": {
       "model_id": "710946f856bc4ad58925da293d58ee91",
       "version_major": 2,
       "version_minor": 0
      },
      "text/plain": [
       "Possible clusters:   0%|          | 0/21679 [00:00<?, ?it/s]"
      ]
     },
     "metadata": {},
     "output_type": "display_data"
    },
    {
     "data": {
      "application/vnd.jupyter.widget-view+json": {
       "model_id": "18317343a72742c1920e7d797d458f68",
       "version_major": 2,
       "version_minor": 0
      },
      "text/plain": [
       "Possible clusters:   0%|          | 0/4928 [00:00<?, ?it/s]"
      ]
     },
     "metadata": {},
     "output_type": "display_data"
    },
    {
     "data": {
      "application/vnd.jupyter.widget-view+json": {
       "model_id": "7c99aadb9c344a0a85f1c9c5ebac9556",
       "version_major": 2,
       "version_minor": 0
      },
      "text/plain": [
       "Possible clusters:   0%|          | 0/627 [00:00<?, ?it/s]"
      ]
     },
     "metadata": {},
     "output_type": "display_data"
    },
    {
     "data": {
      "application/vnd.jupyter.widget-view+json": {
       "model_id": "ed8e081db5a24172b783f56cb15f04fc",
       "version_major": 2,
       "version_minor": 0
      },
      "text/plain": [
       "Possible clusters:   0%|          | 0/26 [00:00<?, ?it/s]"
      ]
     },
     "metadata": {},
     "output_type": "display_data"
    },
    {
     "data": {
      "application/vnd.jupyter.widget-view+json": {
       "model_id": "685065cbc57840508f1ac243b78b5969",
       "version_major": 2,
       "version_minor": 0
      },
      "text/plain": [
       "Possible clusters:   0%|          | 0/7525 [00:00<?, ?it/s]"
      ]
     },
     "metadata": {},
     "output_type": "display_data"
    },
    {
     "data": {
      "application/vnd.jupyter.widget-view+json": {
       "model_id": "0579924468504b1bbabdea9de9ef8374",
       "version_major": 2,
       "version_minor": 0
      },
      "text/plain": [
       "Possible clusters:   0%|          | 0/3196 [00:00<?, ?it/s]"
      ]
     },
     "metadata": {},
     "output_type": "display_data"
    },
    {
     "data": {
      "application/vnd.jupyter.widget-view+json": {
       "model_id": "5c7a41a674d54286b2eee34c1b9e48ae",
       "version_major": 2,
       "version_minor": 0
      },
      "text/plain": [
       "Possible clusters:   0%|          | 0/1079 [00:00<?, ?it/s]"
      ]
     },
     "metadata": {},
     "output_type": "display_data"
    },
    {
     "data": {
      "application/vnd.jupyter.widget-view+json": {
       "model_id": "31a9b02b88194932ae8aa455b5300816",
       "version_major": 2,
       "version_minor": 0
      },
      "text/plain": [
       "Possible clusters:   0%|          | 0/246 [00:00<?, ?it/s]"
      ]
     },
     "metadata": {},
     "output_type": "display_data"
    },
    {
     "data": {
      "application/vnd.jupyter.widget-view+json": {
       "model_id": "a78f2a8b14324f95b39674fd71b1bb13",
       "version_major": 2,
       "version_minor": 0
      },
      "text/plain": [
       "Possible clusters:   0%|          | 0/25 [00:00<?, ?it/s]"
      ]
     },
     "metadata": {},
     "output_type": "display_data"
    },
    {
     "data": {
      "application/vnd.jupyter.widget-view+json": {
       "model_id": "025b361e6a7d4856980cb94730abd5da",
       "version_major": 2,
       "version_minor": 0
      },
      "text/plain": [
       "Possible clusters:   0%|          | 0/4 [00:00<?, ?it/s]"
      ]
     },
     "metadata": {},
     "output_type": "display_data"
    },
    {
     "data": {
      "application/vnd.jupyter.widget-view+json": {
       "model_id": "9b4c691494cd4a4698dd80d1dd8794db",
       "version_major": 2,
       "version_minor": 0
      },
      "text/plain": [
       "Possible clusters:   0%|          | 0/7525 [00:00<?, ?it/s]"
      ]
     },
     "metadata": {},
     "output_type": "display_data"
    },
    {
     "data": {
      "application/vnd.jupyter.widget-view+json": {
       "model_id": "4e4597a388894bf1b3f73a747959ad76",
       "version_major": 2,
       "version_minor": 0
      },
      "text/plain": [
       "Possible clusters:   0%|          | 0/3196 [00:00<?, ?it/s]"
      ]
     },
     "metadata": {},
     "output_type": "display_data"
    },
    {
     "data": {
      "application/vnd.jupyter.widget-view+json": {
       "model_id": "be68d2a13b2f44fb89294b9044f9e515",
       "version_major": 2,
       "version_minor": 0
      },
      "text/plain": [
       "Possible clusters:   0%|          | 0/1079 [00:00<?, ?it/s]"
      ]
     },
     "metadata": {},
     "output_type": "display_data"
    },
    {
     "data": {
      "application/vnd.jupyter.widget-view+json": {
       "model_id": "7700f4a2e7e0467cb4c7c5227390549a",
       "version_major": 2,
       "version_minor": 0
      },
      "text/plain": [
       "Possible clusters:   0%|          | 0/246 [00:00<?, ?it/s]"
      ]
     },
     "metadata": {},
     "output_type": "display_data"
    },
    {
     "data": {
      "application/vnd.jupyter.widget-view+json": {
       "model_id": "f6ecdbc08b1c42f09de226f667e7c8d2",
       "version_major": 2,
       "version_minor": 0
      },
      "text/plain": [
       "Possible clusters:   0%|          | 0/25 [00:00<?, ?it/s]"
      ]
     },
     "metadata": {},
     "output_type": "display_data"
    },
    {
     "data": {
      "application/vnd.jupyter.widget-view+json": {
       "model_id": "86793e5296e448f4925a1317cb4db262",
       "version_major": 2,
       "version_minor": 0
      },
      "text/plain": [
       "Possible clusters:   0%|          | 0/7525 [00:00<?, ?it/s]"
      ]
     },
     "metadata": {},
     "output_type": "display_data"
    },
    {
     "data": {
      "application/vnd.jupyter.widget-view+json": {
       "model_id": "83bbddf06ac14528a327a034c0b3f273",
       "version_major": 2,
       "version_minor": 0
      },
      "text/plain": [
       "Possible clusters:   0%|          | 0/3196 [00:00<?, ?it/s]"
      ]
     },
     "metadata": {},
     "output_type": "display_data"
    },
    {
     "data": {
      "application/vnd.jupyter.widget-view+json": {
       "model_id": "0264abf90d94498683c16b6298e9e0d4",
       "version_major": 2,
       "version_minor": 0
      },
      "text/plain": [
       "Possible clusters:   0%|          | 0/1079 [00:00<?, ?it/s]"
      ]
     },
     "metadata": {},
     "output_type": "display_data"
    },
    {
     "data": {
      "application/vnd.jupyter.widget-view+json": {
       "model_id": "dfad570945fd4b37b30b288d35838ec6",
       "version_major": 2,
       "version_minor": 0
      },
      "text/plain": [
       "Possible clusters:   0%|          | 0/246 [00:00<?, ?it/s]"
      ]
     },
     "metadata": {},
     "output_type": "display_data"
    },
    {
     "data": {
      "application/vnd.jupyter.widget-view+json": {
       "model_id": "8395efb25f9747cb95372238efcfc7c5",
       "version_major": 2,
       "version_minor": 0
      },
      "text/plain": [
       "Possible clusters:   0%|          | 0/25 [00:00<?, ?it/s]"
      ]
     },
     "metadata": {},
     "output_type": "display_data"
    },
    {
     "data": {
      "application/vnd.jupyter.widget-view+json": {
       "model_id": "10ce11a984764eb69048fa25d3ec46e6",
       "version_major": 2,
       "version_minor": 0
      },
      "text/plain": [
       "Possible clusters:   0%|          | 0/7525 [00:00<?, ?it/s]"
      ]
     },
     "metadata": {},
     "output_type": "display_data"
    },
    {
     "data": {
      "application/vnd.jupyter.widget-view+json": {
       "model_id": "dc44b16d94bc47c0bc74a01dac3aac66",
       "version_major": 2,
       "version_minor": 0
      },
      "text/plain": [
       "Possible clusters:   0%|          | 0/3196 [00:00<?, ?it/s]"
      ]
     },
     "metadata": {},
     "output_type": "display_data"
    },
    {
     "data": {
      "application/vnd.jupyter.widget-view+json": {
       "model_id": "08d18e8d9e27474c9053dd27eb2a9c96",
       "version_major": 2,
       "version_minor": 0
      },
      "text/plain": [
       "Possible clusters:   0%|          | 0/1079 [00:00<?, ?it/s]"
      ]
     },
     "metadata": {},
     "output_type": "display_data"
    },
    {
     "data": {
      "application/vnd.jupyter.widget-view+json": {
       "model_id": "39f0274078df49b8acbde714d22999c4",
       "version_major": 2,
       "version_minor": 0
      },
      "text/plain": [
       "Possible clusters:   0%|          | 0/246 [00:00<?, ?it/s]"
      ]
     },
     "metadata": {},
     "output_type": "display_data"
    },
    {
     "data": {
      "application/vnd.jupyter.widget-view+json": {
       "model_id": "eec709ac2d97442c9f419204a66b97c7",
       "version_major": 2,
       "version_minor": 0
      },
      "text/plain": [
       "Possible clusters:   0%|          | 0/25 [00:00<?, ?it/s]"
      ]
     },
     "metadata": {},
     "output_type": "display_data"
    },
    {
     "data": {
      "application/vnd.jupyter.widget-view+json": {
       "model_id": "ac9a2e436f9a46e1afac95d3e7af7421",
       "version_major": 2,
       "version_minor": 0
      },
      "text/plain": [
       "Possible clusters:   0%|          | 0/7525 [00:00<?, ?it/s]"
      ]
     },
     "metadata": {},
     "output_type": "display_data"
    },
    {
     "data": {
      "application/vnd.jupyter.widget-view+json": {
       "model_id": "f3e22cbe2e6f4a899ba3bb5c7d762319",
       "version_major": 2,
       "version_minor": 0
      },
      "text/plain": [
       "Possible clusters:   0%|          | 0/3196 [00:00<?, ?it/s]"
      ]
     },
     "metadata": {},
     "output_type": "display_data"
    },
    {
     "data": {
      "application/vnd.jupyter.widget-view+json": {
       "model_id": "ee282c21ed094e6fb9d34775b6e91697",
       "version_major": 2,
       "version_minor": 0
      },
      "text/plain": [
       "Possible clusters:   0%|          | 0/1079 [00:00<?, ?it/s]"
      ]
     },
     "metadata": {},
     "output_type": "display_data"
    },
    {
     "data": {
      "application/vnd.jupyter.widget-view+json": {
       "model_id": "d941781f2ae64672b121023916f26b6a",
       "version_major": 2,
       "version_minor": 0
      },
      "text/plain": [
       "Possible clusters:   0%|          | 0/246 [00:00<?, ?it/s]"
      ]
     },
     "metadata": {},
     "output_type": "display_data"
    },
    {
     "data": {
      "application/vnd.jupyter.widget-view+json": {
       "model_id": "80165a120644425a8d6135302063e832",
       "version_major": 2,
       "version_minor": 0
      },
      "text/plain": [
       "Possible clusters:   0%|          | 0/25 [00:00<?, ?it/s]"
      ]
     },
     "metadata": {},
     "output_type": "display_data"
    },
    {
     "data": {
      "application/vnd.jupyter.widget-view+json": {
       "model_id": "bc9d913a4acd4b23aa5fc05bb66d8721",
       "version_major": 2,
       "version_minor": 0
      },
      "text/plain": [
       "Possible clusters:   0%|          | 0/101556 [00:00<?, ?it/s]"
      ]
     },
     "metadata": {},
     "output_type": "display_data"
    },
    {
     "data": {
      "application/vnd.jupyter.widget-view+json": {
       "model_id": "de3da89588c2478da374d2655c67ef83",
       "version_major": 2,
       "version_minor": 0
      },
      "text/plain": [
       "Possible clusters:   0%|          | 0/35420 [00:00<?, ?it/s]"
      ]
     },
     "metadata": {},
     "output_type": "display_data"
    },
    {
     "data": {
      "application/vnd.jupyter.widget-view+json": {
       "model_id": "e31c94fb07ca4f1e96edf4f4b369c71b",
       "version_major": 2,
       "version_minor": 0
      },
      "text/plain": [
       "Possible clusters:   0%|          | 0/9384 [00:00<?, ?it/s]"
      ]
     },
     "metadata": {},
     "output_type": "display_data"
    },
    {
     "data": {
      "application/vnd.jupyter.widget-view+json": {
       "model_id": "44d55aa187fd40faba746237176ae2d1",
       "version_major": 2,
       "version_minor": 0
      },
      "text/plain": [
       "Possible clusters:   0%|          | 0/1573 [00:00<?, ?it/s]"
      ]
     },
     "metadata": {},
     "output_type": "display_data"
    },
    {
     "data": {
      "application/vnd.jupyter.widget-view+json": {
       "model_id": "e1b4df9993fc4bf88b0105aeb4d3bd22",
       "version_major": 2,
       "version_minor": 0
      },
      "text/plain": [
       "Possible clusters:   0%|          | 0/112 [00:00<?, ?it/s]"
      ]
     },
     "metadata": {},
     "output_type": "display_data"
    },
    {
     "data": {
      "application/vnd.jupyter.widget-view+json": {
       "model_id": "281bd0769ea54bab88d1cd3cb2e3e5f8",
       "version_major": 2,
       "version_minor": 0
      },
      "text/plain": [
       "Possible clusters:   0%|          | 0/1 [00:00<?, ?it/s]"
      ]
     },
     "metadata": {},
     "output_type": "display_data"
    },
    {
     "data": {
      "application/vnd.jupyter.widget-view+json": {
       "model_id": "4a56283483a2411db1b929a7394a6bf4",
       "version_major": 2,
       "version_minor": 0
      },
      "text/plain": [
       "Possible clusters:   0%|          | 0/6175 [00:00<?, ?it/s]"
      ]
     },
     "metadata": {},
     "output_type": "display_data"
    },
    {
     "data": {
      "application/vnd.jupyter.widget-view+json": {
       "model_id": "7d3a6ae2f7e54f81894877c893984e38",
       "version_major": 2,
       "version_minor": 0
      },
      "text/plain": [
       "Possible clusters:   0%|          | 0/2500 [00:00<?, ?it/s]"
      ]
     },
     "metadata": {},
     "output_type": "display_data"
    },
    {
     "data": {
      "application/vnd.jupyter.widget-view+json": {
       "model_id": "6f40e8b5f0de4de3882d87f1c97b9fee",
       "version_major": 2,
       "version_minor": 0
      },
      "text/plain": [
       "Possible clusters:   0%|          | 0/1456 [00:00<?, ?it/s]"
      ]
     },
     "metadata": {},
     "output_type": "display_data"
    },
    {
     "data": {
      "application/vnd.jupyter.widget-view+json": {
       "model_id": "77c2b8d6b62243a797deb6d18ec7afcf",
       "version_major": 2,
       "version_minor": 0
      },
      "text/plain": [
       "Possible clusters:   0%|          | 0/375 [00:00<?, ?it/s]"
      ]
     },
     "metadata": {},
     "output_type": "display_data"
    },
    {
     "data": {
      "application/vnd.jupyter.widget-view+json": {
       "model_id": "3073cb762c0d4704a97804596a356f58",
       "version_major": 2,
       "version_minor": 0
      },
      "text/plain": [
       "Possible clusters:   0%|          | 0/50 [00:00<?, ?it/s]"
      ]
     },
     "metadata": {},
     "output_type": "display_data"
    },
    {
     "data": {
      "application/vnd.jupyter.widget-view+json": {
       "model_id": "f616ed9472584f8498d595dd59153f3d",
       "version_major": 2,
       "version_minor": 0
      },
      "text/plain": [
       "Possible clusters:   0%|          | 0/1 [00:00<?, ?it/s]"
      ]
     },
     "metadata": {},
     "output_type": "display_data"
    },
    {
     "data": {
      "application/vnd.jupyter.widget-view+json": {
       "model_id": "555e23ba180e42bca31ee1ac99489462",
       "version_major": 2,
       "version_minor": 0
      },
      "text/plain": [
       "Possible clusters:   0%|          | 0/5016 [00:00<?, ?it/s]"
      ]
     },
     "metadata": {},
     "output_type": "display_data"
    },
    {
     "data": {
      "application/vnd.jupyter.widget-view+json": {
       "model_id": "3ecfbf05945e49b490b5abd1e84d0f6a",
       "version_major": 2,
       "version_minor": 0
      },
      "text/plain": [
       "Possible clusters:   0%|          | 0/1925 [00:00<?, ?it/s]"
      ]
     },
     "metadata": {},
     "output_type": "display_data"
    },
    {
     "data": {
      "application/vnd.jupyter.widget-view+json": {
       "model_id": "e3f145f7a7ce41fd803dc44b13f64801",
       "version_major": 2,
       "version_minor": 0
      },
      "text/plain": [
       "Possible clusters:   0%|          | 0/550 [00:00<?, ?it/s]"
      ]
     },
     "metadata": {},
     "output_type": "display_data"
    },
    {
     "data": {
      "application/vnd.jupyter.widget-view+json": {
       "model_id": "443209d34fdf40ff8a4a231a7ee8443e",
       "version_major": 2,
       "version_minor": 0
      },
      "text/plain": [
       "Possible clusters:   0%|          | 0/91 [00:00<?, ?it/s]"
      ]
     },
     "metadata": {},
     "output_type": "display_data"
    },
    {
     "data": {
      "application/vnd.jupyter.widget-view+json": {
       "model_id": "69839ce7d5064931b44ff5accbc247a0",
       "version_major": 2,
       "version_minor": 0
      },
      "text/plain": [
       "Possible clusters:   0%|          | 0/4 [00:00<?, ?it/s]"
      ]
     },
     "metadata": {},
     "output_type": "display_data"
    },
    {
     "data": {
      "application/vnd.jupyter.widget-view+json": {
       "model_id": "f60cab6107734513938e1eeb1e0e780e",
       "version_major": 2,
       "version_minor": 0
      },
      "text/plain": [
       "Possible clusters:   0%|          | 0/6175 [00:00<?, ?it/s]"
      ]
     },
     "metadata": {},
     "output_type": "display_data"
    },
    {
     "data": {
      "application/vnd.jupyter.widget-view+json": {
       "model_id": "24b63d730de14cf0aa31336601e5624c",
       "version_major": 2,
       "version_minor": 0
      },
      "text/plain": [
       "Possible clusters:   0%|          | 0/2500 [00:00<?, ?it/s]"
      ]
     },
     "metadata": {},
     "output_type": "display_data"
    },
    {
     "data": {
      "application/vnd.jupyter.widget-view+json": {
       "model_id": "0b1d798de78f4781ab76767f0217db1b",
       "version_major": 2,
       "version_minor": 0
      },
      "text/plain": [
       "Possible clusters:   0%|          | 0/781 [00:00<?, ?it/s]"
      ]
     },
     "metadata": {},
     "output_type": "display_data"
    },
    {
     "data": {
      "application/vnd.jupyter.widget-view+json": {
       "model_id": "109958de4d024d24bd6caf4161f068f7",
       "version_major": 2,
       "version_minor": 0
      },
      "text/plain": [
       "Possible clusters:   0%|          | 0/154 [00:00<?, ?it/s]"
      ]
     },
     "metadata": {},
     "output_type": "display_data"
    },
    {
     "data": {
      "application/vnd.jupyter.widget-view+json": {
       "model_id": "d9c0ccf63c1447ba9b7863f9a32e5566",
       "version_major": 2,
       "version_minor": 0
      },
      "text/plain": [
       "Possible clusters:   0%|          | 0/11 [00:00<?, ?it/s]"
      ]
     },
     "metadata": {},
     "output_type": "display_data"
    },
    {
     "data": {
      "application/vnd.jupyter.widget-view+json": {
       "model_id": "ed1b05f5ffe040b7add9616f9d288e5f",
       "version_major": 2,
       "version_minor": 0
      },
      "text/plain": [
       "Possible clusters:   0%|          | 0/6175 [00:00<?, ?it/s]"
      ]
     },
     "metadata": {},
     "output_type": "display_data"
    },
    {
     "data": {
      "application/vnd.jupyter.widget-view+json": {
       "model_id": "54b357c8e24f4ff58c92c62c02d28d29",
       "version_major": 2,
       "version_minor": 0
      },
      "text/plain": [
       "Possible clusters:   0%|          | 0/2500 [00:00<?, ?it/s]"
      ]
     },
     "metadata": {},
     "output_type": "display_data"
    },
    {
     "data": {
      "application/vnd.jupyter.widget-view+json": {
       "model_id": "d93d816ea8364d25ab6caa5111f81284",
       "version_major": 2,
       "version_minor": 0
      },
      "text/plain": [
       "Possible clusters:   0%|          | 0/1079 [00:00<?, ?it/s]"
      ]
     },
     "metadata": {},
     "output_type": "display_data"
    },
    {
     "data": {
      "application/vnd.jupyter.widget-view+json": {
       "model_id": "9bbe267c05b34d028924f59893ee0d27",
       "version_major": 2,
       "version_minor": 0
      },
      "text/plain": [
       "Possible clusters:   0%|          | 0/246 [00:00<?, ?it/s]"
      ]
     },
     "metadata": {},
     "output_type": "display_data"
    },
    {
     "data": {
      "application/vnd.jupyter.widget-view+json": {
       "model_id": "df5a6b9ff1c6477ab12d85e580764297",
       "version_major": 2,
       "version_minor": 0
      },
      "text/plain": [
       "Possible clusters:   0%|          | 0/25 [00:00<?, ?it/s]"
      ]
     },
     "metadata": {},
     "output_type": "display_data"
    },
    {
     "data": {
      "application/vnd.jupyter.widget-view+json": {
       "model_id": "024e02e05f40435c92f53eca62231b4f",
       "version_major": 2,
       "version_minor": 0
      },
      "text/plain": [
       "Possible clusters:   0%|          | 0/242792 [00:00<?, ?it/s]"
      ]
     },
     "metadata": {},
     "output_type": "display_data"
    },
    {
     "data": {
      "application/vnd.jupyter.widget-view+json": {
       "model_id": "72f5258f0c1c417d8bddb8eec248a44d",
       "version_major": 2,
       "version_minor": 0
      },
      "text/plain": [
       "Possible clusters:   0%|          | 0/101556 [00:00<?, ?it/s]"
      ]
     },
     "metadata": {},
     "output_type": "display_data"
    },
    {
     "data": {
      "application/vnd.jupyter.widget-view+json": {
       "model_id": "3c0146b6f2c846dfa3a1757be7af7535",
       "version_major": 2,
       "version_minor": 0
      },
      "text/plain": [
       "Possible clusters:   0%|          | 0/35420 [00:00<?, ?it/s]"
      ]
     },
     "metadata": {},
     "output_type": "display_data"
    },
    {
     "data": {
      "application/vnd.jupyter.widget-view+json": {
       "model_id": "ff3f73441d6e40bd9796b285b04f3f44",
       "version_major": 2,
       "version_minor": 0
      },
      "text/plain": [
       "Possible clusters:   0%|          | 0/9384 [00:00<?, ?it/s]"
      ]
     },
     "metadata": {},
     "output_type": "display_data"
    },
    {
     "data": {
      "application/vnd.jupyter.widget-view+json": {
       "model_id": "7feca7f052c24481a13b0ab32207d5df",
       "version_major": 2,
       "version_minor": 0
      },
      "text/plain": [
       "Possible clusters:   0%|          | 0/1573 [00:00<?, ?it/s]"
      ]
     },
     "metadata": {},
     "output_type": "display_data"
    },
    {
     "data": {
      "application/vnd.jupyter.widget-view+json": {
       "model_id": "3b12fa676b174d05866f157f6c3f9d5c",
       "version_major": 2,
       "version_minor": 0
      },
      "text/plain": [
       "Possible clusters:   0%|          | 0/112 [00:00<?, ?it/s]"
      ]
     },
     "metadata": {},
     "output_type": "display_data"
    },
    {
     "data": {
      "application/vnd.jupyter.widget-view+json": {
       "model_id": "3df2bdbc04fa47e7960111386dbf32b7",
       "version_major": 2,
       "version_minor": 0
      },
      "text/plain": [
       "Possible clusters:   0%|          | 0/1 [00:00<?, ?it/s]"
      ]
     },
     "metadata": {},
     "output_type": "display_data"
    },
    {
     "data": {
      "application/vnd.jupyter.widget-view+json": {
       "model_id": "175884a9e8aa4040944b39254a39c6ed",
       "version_major": 2,
       "version_minor": 0
      },
      "text/plain": [
       "Possible clusters:   0%|          | 0/6175 [00:00<?, ?it/s]"
      ]
     },
     "metadata": {},
     "output_type": "display_data"
    },
    {
     "data": {
      "application/vnd.jupyter.widget-view+json": {
       "model_id": "8dacd74591264d5ca3118f775a2eea69",
       "version_major": 2,
       "version_minor": 0
      },
      "text/plain": [
       "Possible clusters:   0%|          | 0/2500 [00:00<?, ?it/s]"
      ]
     },
     "metadata": {},
     "output_type": "display_data"
    },
    {
     "data": {
      "application/vnd.jupyter.widget-view+json": {
       "model_id": "f203998cec734c34ba758ac729ca9252",
       "version_major": 2,
       "version_minor": 0
      },
      "text/plain": [
       "Possible clusters:   0%|          | 0/781 [00:00<?, ?it/s]"
      ]
     },
     "metadata": {},
     "output_type": "display_data"
    },
    {
     "data": {
      "application/vnd.jupyter.widget-view+json": {
       "model_id": "6ca2576d564e438fbf9dae0d394cfa1f",
       "version_major": 2,
       "version_minor": 0
      },
      "text/plain": [
       "Possible clusters:   0%|          | 0/154 [00:00<?, ?it/s]"
      ]
     },
     "metadata": {},
     "output_type": "display_data"
    },
    {
     "data": {
      "application/vnd.jupyter.widget-view+json": {
       "model_id": "ae92922e16e548b3a13d3a1dc8ac9304",
       "version_major": 2,
       "version_minor": 0
      },
      "text/plain": [
       "Possible clusters:   0%|          | 0/11 [00:00<?, ?it/s]"
      ]
     },
     "metadata": {},
     "output_type": "display_data"
    },
    {
     "data": {
      "application/vnd.jupyter.widget-view+json": {
       "model_id": "afeb04680a00410f8ddf12c301f62a45",
       "version_major": 2,
       "version_minor": 0
      },
      "text/plain": [
       "Possible clusters:   0%|          | 0/12926 [00:00<?, ?it/s]"
      ]
     },
     "metadata": {},
     "output_type": "display_data"
    },
    {
     "data": {
      "application/vnd.jupyter.widget-view+json": {
       "model_id": "3d399a604923470fb2fdac5c1f38dec3",
       "version_major": 2,
       "version_minor": 0
      },
      "text/plain": [
       "Possible clusters:   0%|          | 0/6175 [00:00<?, ?it/s]"
      ]
     },
     "metadata": {},
     "output_type": "display_data"
    },
    {
     "data": {
      "application/vnd.jupyter.widget-view+json": {
       "model_id": "144e3ccad58f46ee8b746df7b9fffc3a",
       "version_major": 2,
       "version_minor": 0
      },
      "text/plain": [
       "Possible clusters:   0%|          | 0/2500 [00:00<?, ?it/s]"
      ]
     },
     "metadata": {},
     "output_type": "display_data"
    },
    {
     "data": {
      "application/vnd.jupyter.widget-view+json": {
       "model_id": "090560831109477cba2ab98b1e0efe42",
       "version_major": 2,
       "version_minor": 0
      },
      "text/plain": [
       "Possible clusters:   0%|          | 0/781 [00:00<?, ?it/s]"
      ]
     },
     "metadata": {},
     "output_type": "display_data"
    },
    {
     "data": {
      "application/vnd.jupyter.widget-view+json": {
       "model_id": "912b9a87393e43619a9d33d9c11bd847",
       "version_major": 2,
       "version_minor": 0
      },
      "text/plain": [
       "Possible clusters:   0%|          | 0/154 [00:00<?, ?it/s]"
      ]
     },
     "metadata": {},
     "output_type": "display_data"
    },
    {
     "data": {
      "application/vnd.jupyter.widget-view+json": {
       "model_id": "ca8653a874de4757a34d5d32231bbabc",
       "version_major": 2,
       "version_minor": 0
      },
      "text/plain": [
       "Possible clusters:   0%|          | 0/11 [00:00<?, ?it/s]"
      ]
     },
     "metadata": {},
     "output_type": "display_data"
    },
    {
     "data": {
      "application/vnd.jupyter.widget-view+json": {
       "model_id": "4072abc6d41547bd94fa04c59e1259f7",
       "version_major": 2,
       "version_minor": 0
      },
      "text/plain": [
       "Possible clusters:   0%|          | 0/206336 [00:00<?, ?it/s]"
      ]
     },
     "metadata": {},
     "output_type": "display_data"
    },
    {
     "data": {
      "application/vnd.jupyter.widget-view+json": {
       "model_id": "003315a4f39a4d18b1ff4ae980154fa9",
       "version_major": 2,
       "version_minor": 0
      },
      "text/plain": [
       "Possible clusters:   0%|          | 0/83655 [00:00<?, ?it/s]"
      ]
     },
     "metadata": {},
     "output_type": "display_data"
    },
    {
     "data": {
      "application/vnd.jupyter.widget-view+json": {
       "model_id": "a2ca9cf3314043478acb61401bccd657",
       "version_major": 2,
       "version_minor": 0
      },
      "text/plain": [
       "Possible clusters:   0%|          | 0/27874 [00:00<?, ?it/s]"
      ]
     },
     "metadata": {},
     "output_type": "display_data"
    },
    {
     "data": {
      "application/vnd.jupyter.widget-view+json": {
       "model_id": "d66ddd2d740e4e95a914e4963c852827",
       "version_major": 2,
       "version_minor": 0
      },
      "text/plain": [
       "Possible clusters:   0%|          | 0/6868 [00:00<?, ?it/s]"
      ]
     },
     "metadata": {},
     "output_type": "display_data"
    },
    {
     "data": {
      "application/vnd.jupyter.widget-view+json": {
       "model_id": "e1f31ef46e6a4614869f79eb583a4fa6",
       "version_major": 2,
       "version_minor": 0
      },
      "text/plain": [
       "Possible clusters:   0%|          | 0/1012 [00:00<?, ?it/s]"
      ]
     },
     "metadata": {},
     "output_type": "display_data"
    },
    {
     "data": {
      "application/vnd.jupyter.widget-view+json": {
       "model_id": "e5a663cd20d84782a8d77ece73acd128",
       "version_major": 2,
       "version_minor": 0
      },
      "text/plain": [
       "Possible clusters:   0%|          | 0/56 [00:00<?, ?it/s]"
      ]
     },
     "metadata": {},
     "output_type": "display_data"
    },
    {
     "data": {
      "application/vnd.jupyter.widget-view+json": {
       "model_id": "f146ce3839ae45abb20828d3da0047a3",
       "version_major": 2,
       "version_minor": 0
      },
      "text/plain": [
       "Possible clusters:   0%|          | 0/83655 [00:00<?, ?it/s]"
      ]
     },
     "metadata": {},
     "output_type": "display_data"
    },
    {
     "data": {
      "application/vnd.jupyter.widget-view+json": {
       "model_id": "935098b5994b416f96adaf2b43d88134",
       "version_major": 2,
       "version_minor": 0
      },
      "text/plain": [
       "Possible clusters:   0%|          | 0/27874 [00:00<?, ?it/s]"
      ]
     },
     "metadata": {},
     "output_type": "display_data"
    },
    {
     "data": {
      "application/vnd.jupyter.widget-view+json": {
       "model_id": "30ee60914fd349adb46f9b018e52fb57",
       "version_major": 2,
       "version_minor": 0
      },
      "text/plain": [
       "Possible clusters:   0%|          | 0/6868 [00:00<?, ?it/s]"
      ]
     },
     "metadata": {},
     "output_type": "display_data"
    },
    {
     "data": {
      "application/vnd.jupyter.widget-view+json": {
       "model_id": "f374c3c5fb8540b2b4bc2cec4c683199",
       "version_major": 2,
       "version_minor": 0
      },
      "text/plain": [
       "Possible clusters:   0%|          | 0/1012 [00:00<?, ?it/s]"
      ]
     },
     "metadata": {},
     "output_type": "display_data"
    },
    {
     "data": {
      "application/vnd.jupyter.widget-view+json": {
       "model_id": "1a3aed21da4d4ad69f08324edf128170",
       "version_major": 2,
       "version_minor": 0
      },
      "text/plain": [
       "Possible clusters:   0%|          | 0/56 [00:00<?, ?it/s]"
      ]
     },
     "metadata": {},
     "output_type": "display_data"
    },
    {
     "data": {
      "application/vnd.jupyter.widget-view+json": {
       "model_id": "d7d824867526461e801e61c611383c36",
       "version_major": 2,
       "version_minor": 0
      },
      "text/plain": [
       "Possible clusters:   0%|          | 0/4 [00:00<?, ?it/s]"
      ]
     },
     "metadata": {},
     "output_type": "display_data"
    },
    {
     "data": {
      "application/vnd.jupyter.widget-view+json": {
       "model_id": "b2623de2ad40420d8f1277066e298d22",
       "version_major": 2,
       "version_minor": 0
      },
      "text/plain": [
       "Possible clusters:   0%|          | 0/9086 [00:00<?, ?it/s]"
      ]
     },
     "metadata": {},
     "output_type": "display_data"
    },
    {
     "data": {
      "application/vnd.jupyter.widget-view+json": {
       "model_id": "cc69f1e856d34e9a9d85f076ca539b67",
       "version_major": 2,
       "version_minor": 0
      },
      "text/plain": [
       "Possible clusters:   0%|          | 0/6175 [00:00<?, ?it/s]"
      ]
     },
     "metadata": {},
     "output_type": "display_data"
    },
    {
     "data": {
      "application/vnd.jupyter.widget-view+json": {
       "model_id": "9df2b9c3bf68483096eadcfc65478163",
       "version_major": 2,
       "version_minor": 0
      },
      "text/plain": [
       "Possible clusters:   0%|          | 0/2500 [00:00<?, ?it/s]"
      ]
     },
     "metadata": {},
     "output_type": "display_data"
    },
    {
     "data": {
      "application/vnd.jupyter.widget-view+json": {
       "model_id": "e17f22e3555445829870d59a132b8136",
       "version_major": 2,
       "version_minor": 0
      },
      "text/plain": [
       "Possible clusters:   0%|          | 0/781 [00:00<?, ?it/s]"
      ]
     },
     "metadata": {},
     "output_type": "display_data"
    },
    {
     "data": {
      "application/vnd.jupyter.widget-view+json": {
       "model_id": "c665de551a81468b87972f3146c1f29d",
       "version_major": 2,
       "version_minor": 0
      },
      "text/plain": [
       "Possible clusters:   0%|          | 0/154 [00:00<?, ?it/s]"
      ]
     },
     "metadata": {},
     "output_type": "display_data"
    },
    {
     "data": {
      "application/vnd.jupyter.widget-view+json": {
       "model_id": "357d04fe3e6945da98fa6796cab986b6",
       "version_major": 2,
       "version_minor": 0
      },
      "text/plain": [
       "Possible clusters:   0%|          | 0/11 [00:00<?, ?it/s]"
      ]
     },
     "metadata": {},
     "output_type": "display_data"
    },
    {
     "data": {
      "application/vnd.jupyter.widget-view+json": {
       "model_id": "48e86e5c8ba34b0d919bd62c1b89ae13",
       "version_major": 2,
       "version_minor": 0
      },
      "text/plain": [
       "Possible clusters:   0%|          | 0/10879 [00:00<?, ?it/s]"
      ]
     },
     "metadata": {},
     "output_type": "display_data"
    },
    {
     "data": {
      "application/vnd.jupyter.widget-view+json": {
       "model_id": "b7bfe28676ab4200b76d6ec7233c5fff",
       "version_major": 2,
       "version_minor": 0
      },
      "text/plain": [
       "Possible clusters:   0%|          | 0/5016 [00:00<?, ?it/s]"
      ]
     },
     "metadata": {},
     "output_type": "display_data"
    },
    {
     "data": {
      "application/vnd.jupyter.widget-view+json": {
       "model_id": "b88fbf16447e442dbbf57a3c7d5c2562",
       "version_major": 2,
       "version_minor": 0
      },
      "text/plain": [
       "Possible clusters:   0%|          | 0/1925 [00:00<?, ?it/s]"
      ]
     },
     "metadata": {},
     "output_type": "display_data"
    },
    {
     "data": {
      "application/vnd.jupyter.widget-view+json": {
       "model_id": "1c568e213725474d9b2c1affc2ce2e8a",
       "version_major": 2,
       "version_minor": 0
      },
      "text/plain": [
       "Possible clusters:   0%|          | 0/550 [00:00<?, ?it/s]"
      ]
     },
     "metadata": {},
     "output_type": "display_data"
    },
    {
     "data": {
      "application/vnd.jupyter.widget-view+json": {
       "model_id": "517f77fd32cc4951b489a2a49ee83699",
       "version_major": 2,
       "version_minor": 0
      },
      "text/plain": [
       "Possible clusters:   0%|          | 0/91 [00:00<?, ?it/s]"
      ]
     },
     "metadata": {},
     "output_type": "display_data"
    },
    {
     "data": {
      "application/vnd.jupyter.widget-view+json": {
       "model_id": "2f7f5168418c44f88c6fc07736a6ac9c",
       "version_major": 2,
       "version_minor": 0
      },
      "text/plain": [
       "Possible clusters:   0%|          | 0/4 [00:00<?, ?it/s]"
      ]
     },
     "metadata": {},
     "output_type": "display_data"
    },
    {
     "data": {
      "application/vnd.jupyter.widget-view+json": {
       "model_id": "6e7f10782d4247b49acdbf81f4189fac",
       "version_major": 2,
       "version_minor": 0
      },
      "text/plain": [
       "Possible clusters:   0%|          | 0/9086 [00:00<?, ?it/s]"
      ]
     },
     "metadata": {},
     "output_type": "display_data"
    },
    {
     "data": {
      "application/vnd.jupyter.widget-view+json": {
       "model_id": "1599f453834941b99442152fde24650b",
       "version_major": 2,
       "version_minor": 0
      },
      "text/plain": [
       "Possible clusters:   0%|          | 0/4029 [00:00<?, ?it/s]"
      ]
     },
     "metadata": {},
     "output_type": "display_data"
    },
    {
     "data": {
      "application/vnd.jupyter.widget-view+json": {
       "model_id": "550c870c735d4cd0bc3323a62f4b6e3d",
       "version_major": 2,
       "version_minor": 0
      },
      "text/plain": [
       "Possible clusters:   0%|          | 0/1456 [00:00<?, ?it/s]"
      ]
     },
     "metadata": {},
     "output_type": "display_data"
    },
    {
     "data": {
      "application/vnd.jupyter.widget-view+json": {
       "model_id": "2f327cf7e6ee4d7abbc536db187fdd26",
       "version_major": 2,
       "version_minor": 0
      },
      "text/plain": [
       "Possible clusters:   0%|          | 0/375 [00:00<?, ?it/s]"
      ]
     },
     "metadata": {},
     "output_type": "display_data"
    },
    {
     "data": {
      "application/vnd.jupyter.widget-view+json": {
       "model_id": "f5a724e1b69245d9946f50c65196cc8d",
       "version_major": 2,
       "version_minor": 0
      },
      "text/plain": [
       "Possible clusters:   0%|          | 0/50 [00:00<?, ?it/s]"
      ]
     },
     "metadata": {},
     "output_type": "display_data"
    },
    {
     "data": {
      "application/vnd.jupyter.widget-view+json": {
       "model_id": "43bf969a86db4311be3fe6716edfb412",
       "version_major": 2,
       "version_minor": 0
      },
      "text/plain": [
       "Possible clusters:   0%|          | 0/1 [00:00<?, ?it/s]"
      ]
     },
     "metadata": {},
     "output_type": "display_data"
    },
    {
     "data": {
      "application/vnd.jupyter.widget-view+json": {
       "model_id": "de45775dcc02487681bb2c8350c47942",
       "version_major": 2,
       "version_minor": 0
      },
      "text/plain": [
       "Possible clusters:   0%|          | 0/5016 [00:00<?, ?it/s]"
      ]
     },
     "metadata": {},
     "output_type": "display_data"
    },
    {
     "data": {
      "application/vnd.jupyter.widget-view+json": {
       "model_id": "5eb576c60d1945c884f890b355777cba",
       "version_major": 2,
       "version_minor": 0
      },
      "text/plain": [
       "Possible clusters:   0%|          | 0/1925 [00:00<?, ?it/s]"
      ]
     },
     "metadata": {},
     "output_type": "display_data"
    },
    {
     "data": {
      "application/vnd.jupyter.widget-view+json": {
       "model_id": "6085d08c5c1c4aa5937eeefe9e739d30",
       "version_major": 2,
       "version_minor": 0
      },
      "text/plain": [
       "Possible clusters:   0%|          | 0/550 [00:00<?, ?it/s]"
      ]
     },
     "metadata": {},
     "output_type": "display_data"
    },
    {
     "data": {
      "application/vnd.jupyter.widget-view+json": {
       "model_id": "5e5ed47c2560440288fa457565f0f265",
       "version_major": 2,
       "version_minor": 0
      },
      "text/plain": [
       "Possible clusters:   0%|          | 0/91 [00:00<?, ?it/s]"
      ]
     },
     "metadata": {},
     "output_type": "display_data"
    },
    {
     "data": {
      "application/vnd.jupyter.widget-view+json": {
       "model_id": "4c8cff3ff5654eaeac891dd22c79da63",
       "version_major": 2,
       "version_minor": 0
      },
      "text/plain": [
       "Possible clusters:   0%|          | 0/4 [00:00<?, ?it/s]"
      ]
     },
     "metadata": {},
     "output_type": "display_data"
    },
    {
     "data": {
      "application/vnd.jupyter.widget-view+json": {
       "model_id": "1c71b143a01d43a3b9299a2c898a2b3e",
       "version_major": 2,
       "version_minor": 0
      },
      "text/plain": [
       "Possible clusters:   0%|          | 0/10879 [00:00<?, ?it/s]"
      ]
     },
     "metadata": {},
     "output_type": "display_data"
    },
    {
     "data": {
      "application/vnd.jupyter.widget-view+json": {
       "model_id": "383a4cb496be49b1bb4c8bcc18ec19ed",
       "version_major": 2,
       "version_minor": 0
      },
      "text/plain": [
       "Possible clusters:   0%|          | 0/5016 [00:00<?, ?it/s]"
      ]
     },
     "metadata": {},
     "output_type": "display_data"
    },
    {
     "data": {
      "application/vnd.jupyter.widget-view+json": {
       "model_id": "774edf055f774323836ebf723efd7987",
       "version_major": 2,
       "version_minor": 0
      },
      "text/plain": [
       "Possible clusters:   0%|          | 0/1925 [00:00<?, ?it/s]"
      ]
     },
     "metadata": {},
     "output_type": "display_data"
    },
    {
     "data": {
      "application/vnd.jupyter.widget-view+json": {
       "model_id": "db20fd9331424c93b98a0cbf3e82d776",
       "version_major": 2,
       "version_minor": 0
      },
      "text/plain": [
       "Possible clusters:   0%|          | 0/550 [00:00<?, ?it/s]"
      ]
     },
     "metadata": {},
     "output_type": "display_data"
    },
    {
     "data": {
      "application/vnd.jupyter.widget-view+json": {
       "model_id": "8077eb4872ad42959c637297722fd90c",
       "version_major": 2,
       "version_minor": 0
      },
      "text/plain": [
       "Possible clusters:   0%|          | 0/91 [00:00<?, ?it/s]"
      ]
     },
     "metadata": {},
     "output_type": "display_data"
    },
    {
     "data": {
      "application/vnd.jupyter.widget-view+json": {
       "model_id": "24e2fbb2952e4201a0aed9886ccd1e16",
       "version_major": 2,
       "version_minor": 0
      },
      "text/plain": [
       "Possible clusters:   0%|          | 0/4 [00:00<?, ?it/s]"
      ]
     },
     "metadata": {},
     "output_type": "display_data"
    },
    {
     "data": {
      "application/vnd.jupyter.widget-view+json": {
       "model_id": "f6f95168a57d4afbace659cdceccef99",
       "version_major": 2,
       "version_minor": 0
      },
      "text/plain": [
       "Possible clusters:   0%|          | 0/6175 [00:00<?, ?it/s]"
      ]
     },
     "metadata": {},
     "output_type": "display_data"
    },
    {
     "data": {
      "application/vnd.jupyter.widget-view+json": {
       "model_id": "6f49868688954c34905b8b63ef479167",
       "version_major": 2,
       "version_minor": 0
      },
      "text/plain": [
       "Possible clusters:   0%|          | 0/2500 [00:00<?, ?it/s]"
      ]
     },
     "metadata": {},
     "output_type": "display_data"
    },
    {
     "data": {
      "application/vnd.jupyter.widget-view+json": {
       "model_id": "1bdd6dfd10e740e9936ee872ac53a248",
       "version_major": 2,
       "version_minor": 0
      },
      "text/plain": [
       "Possible clusters:   0%|          | 0/781 [00:00<?, ?it/s]"
      ]
     },
     "metadata": {},
     "output_type": "display_data"
    },
    {
     "data": {
      "application/vnd.jupyter.widget-view+json": {
       "model_id": "afb3cb79252b45d98a671a91276436b5",
       "version_major": 2,
       "version_minor": 0
      },
      "text/plain": [
       "Possible clusters:   0%|          | 0/154 [00:00<?, ?it/s]"
      ]
     },
     "metadata": {},
     "output_type": "display_data"
    },
    {
     "data": {
      "application/vnd.jupyter.widget-view+json": {
       "model_id": "2663d8ecb6c94eafa9fa429045798d62",
       "version_major": 2,
       "version_minor": 0
      },
      "text/plain": [
       "Possible clusters:   0%|          | 0/11 [00:00<?, ?it/s]"
      ]
     },
     "metadata": {},
     "output_type": "display_data"
    },
    {
     "data": {
      "application/vnd.jupyter.widget-view+json": {
       "model_id": "6627f906fc084f2b96dae414b9419931",
       "version_major": 2,
       "version_minor": 0
      },
      "text/plain": [
       "Possible clusters:   0%|          | 0/7525 [00:00<?, ?it/s]"
      ]
     },
     "metadata": {},
     "output_type": "display_data"
    },
    {
     "data": {
      "application/vnd.jupyter.widget-view+json": {
       "model_id": "18852496fe9e426daa025cb2321ac848",
       "version_major": 2,
       "version_minor": 0
      },
      "text/plain": [
       "Possible clusters:   0%|          | 0/3196 [00:00<?, ?it/s]"
      ]
     },
     "metadata": {},
     "output_type": "display_data"
    },
    {
     "data": {
      "application/vnd.jupyter.widget-view+json": {
       "model_id": "8dec976233354f52bc770f4ff9ffc4b8",
       "version_major": 2,
       "version_minor": 0
      },
      "text/plain": [
       "Possible clusters:   0%|          | 0/1079 [00:00<?, ?it/s]"
      ]
     },
     "metadata": {},
     "output_type": "display_data"
    },
    {
     "data": {
      "application/vnd.jupyter.widget-view+json": {
       "model_id": "39eddc56a5c8439f9156199cd6ccc1d0",
       "version_major": 2,
       "version_minor": 0
      },
      "text/plain": [
       "Possible clusters:   0%|          | 0/246 [00:00<?, ?it/s]"
      ]
     },
     "metadata": {},
     "output_type": "display_data"
    },
    {
     "data": {
      "application/vnd.jupyter.widget-view+json": {
       "model_id": "6dd7810a4390472eb37550e2e13d893a",
       "version_major": 2,
       "version_minor": 0
      },
      "text/plain": [
       "Possible clusters:   0%|          | 0/25 [00:00<?, ?it/s]"
      ]
     },
     "metadata": {},
     "output_type": "display_data"
    },
    {
     "data": {
      "application/vnd.jupyter.widget-view+json": {
       "model_id": "ea5bde9c319f42cdb06fb00cfa1ad757",
       "version_major": 2,
       "version_minor": 0
      },
      "text/plain": [
       "Possible clusters:   0%|          | 0/4029 [00:00<?, ?it/s]"
      ]
     },
     "metadata": {},
     "output_type": "display_data"
    },
    {
     "data": {
      "application/vnd.jupyter.widget-view+json": {
       "model_id": "ba1880f8ed7646649bcc6776a1e05129",
       "version_major": 2,
       "version_minor": 0
      },
      "text/plain": [
       "Possible clusters:   0%|          | 0/1456 [00:00<?, ?it/s]"
      ]
     },
     "metadata": {},
     "output_type": "display_data"
    },
    {
     "data": {
      "application/vnd.jupyter.widget-view+json": {
       "model_id": "1a6b55b536e341808f03e4573e21f1d0",
       "version_major": 2,
       "version_minor": 0
      },
      "text/plain": [
       "Possible clusters:   0%|          | 0/375 [00:00<?, ?it/s]"
      ]
     },
     "metadata": {},
     "output_type": "display_data"
    },
    {
     "data": {
      "application/vnd.jupyter.widget-view+json": {
       "model_id": "d905b1303d6f4290a135f79701cdaed4",
       "version_major": 2,
       "version_minor": 0
      },
      "text/plain": [
       "Possible clusters:   0%|          | 0/50 [00:00<?, ?it/s]"
      ]
     },
     "metadata": {},
     "output_type": "display_data"
    },
    {
     "data": {
      "application/vnd.jupyter.widget-view+json": {
       "model_id": "88f6bfc0920e45f0a4eca38fd104a3e1",
       "version_major": 2,
       "version_minor": 0
      },
      "text/plain": [
       "Possible clusters:   0%|          | 0/1 [00:00<?, ?it/s]"
      ]
     },
     "metadata": {},
     "output_type": "display_data"
    },
    {
     "data": {
      "application/vnd.jupyter.widget-view+json": {
       "model_id": "e2b338e066894eb5bfa50f2ce9830ccb",
       "version_major": 2,
       "version_minor": 0
      },
      "text/plain": [
       "Possible clusters:   0%|          | 0/122409 [00:00<?, ?it/s]"
      ]
     },
     "metadata": {},
     "output_type": "display_data"
    },
    {
     "data": {
      "application/vnd.jupyter.widget-view+json": {
       "model_id": "208fa079e7e6426da8e53de9f0d161af",
       "version_major": 2,
       "version_minor": 0
      },
      "text/plain": [
       "Possible clusters:   0%|          | 0/44528 [00:00<?, ?it/s]"
      ]
     },
     "metadata": {},
     "output_type": "display_data"
    },
    {
     "data": {
      "application/vnd.jupyter.widget-view+json": {
       "model_id": "b1c64eec652b4f87a66a95ed4313710e",
       "version_major": 2,
       "version_minor": 0
      },
      "text/plain": [
       "Possible clusters:   0%|          | 0/12597 [00:00<?, ?it/s]"
      ]
     },
     "metadata": {},
     "output_type": "display_data"
    },
    {
     "data": {
      "application/vnd.jupyter.widget-view+json": {
       "model_id": "7018b6984c724180b4259e11ae3ccd71",
       "version_major": 2,
       "version_minor": 0
      },
      "text/plain": [
       "Possible clusters:   0%|          | 0/2366 [00:00<?, ?it/s]"
      ]
     },
     "metadata": {},
     "output_type": "display_data"
    },
    {
     "data": {
      "application/vnd.jupyter.widget-view+json": {
       "model_id": "c85b30788fbb48d7bfd92df221f85528",
       "version_major": 2,
       "version_minor": 0
      },
      "text/plain": [
       "Possible clusters:   0%|          | 0/210 [00:00<?, ?it/s]"
      ]
     },
     "metadata": {},
     "output_type": "display_data"
    },
    {
     "data": {
      "application/vnd.jupyter.widget-view+json": {
       "model_id": "0424d41fbb774e918dd61bf73d33a3c8",
       "version_major": 2,
       "version_minor": 0
      },
      "text/plain": [
       "Possible clusters:   0%|          | 0/56 [00:00<?, ?it/s]"
      ]
     },
     "metadata": {},
     "output_type": "display_data"
    },
    {
     "data": {
      "application/vnd.jupyter.widget-view+json": {
       "model_id": "c08f63aacb9b4dcdbdf5aa154b76b048",
       "version_major": 2,
       "version_minor": 0
      },
      "text/plain": [
       "Possible clusters:   0%|          | 0/5016 [00:00<?, ?it/s]"
      ]
     },
     "metadata": {},
     "output_type": "display_data"
    },
    {
     "data": {
      "application/vnd.jupyter.widget-view+json": {
       "model_id": "2ee3dce506d3406cb79dc575a122c5a0",
       "version_major": 2,
       "version_minor": 0
      },
      "text/plain": [
       "Possible clusters:   0%|          | 0/1925 [00:00<?, ?it/s]"
      ]
     },
     "metadata": {},
     "output_type": "display_data"
    },
    {
     "data": {
      "application/vnd.jupyter.widget-view+json": {
       "model_id": "f5829aef47a54afa995587a302993449",
       "version_major": 2,
       "version_minor": 0
      },
      "text/plain": [
       "Possible clusters:   0%|          | 0/550 [00:00<?, ?it/s]"
      ]
     },
     "metadata": {},
     "output_type": "display_data"
    },
    {
     "data": {
      "application/vnd.jupyter.widget-view+json": {
       "model_id": "e7458b9500ac4b2cae95ae1deffcc6e3",
       "version_major": 2,
       "version_minor": 0
      },
      "text/plain": [
       "Possible clusters:   0%|          | 0/91 [00:00<?, ?it/s]"
      ]
     },
     "metadata": {},
     "output_type": "display_data"
    },
    {
     "data": {
      "application/vnd.jupyter.widget-view+json": {
       "model_id": "ed76e94c764448059a49ea868ce5ef06",
       "version_major": 2,
       "version_minor": 0
      },
      "text/plain": [
       "Possible clusters:   0%|          | 0/4 [00:00<?, ?it/s]"
      ]
     },
     "metadata": {},
     "output_type": "display_data"
    },
    {
     "data": {
      "application/vnd.jupyter.widget-view+json": {
       "model_id": "fcf480101b5c45b8947d7fdc1e172f40",
       "version_major": 2,
       "version_minor": 0
      },
      "text/plain": [
       "Possible clusters:   0%|          | 0/5016 [00:00<?, ?it/s]"
      ]
     },
     "metadata": {},
     "output_type": "display_data"
    },
    {
     "data": {
      "application/vnd.jupyter.widget-view+json": {
       "model_id": "7478eaed461e4a7bb4713a6401d1aacf",
       "version_major": 2,
       "version_minor": 0
      },
      "text/plain": [
       "Possible clusters:   0%|          | 0/1925 [00:00<?, ?it/s]"
      ]
     },
     "metadata": {},
     "output_type": "display_data"
    },
    {
     "data": {
      "application/vnd.jupyter.widget-view+json": {
       "model_id": "82e63917c06e48daa6840dce2092ae71",
       "version_major": 2,
       "version_minor": 0
      },
      "text/plain": [
       "Possible clusters:   0%|          | 0/550 [00:00<?, ?it/s]"
      ]
     },
     "metadata": {},
     "output_type": "display_data"
    },
    {
     "data": {
      "application/vnd.jupyter.widget-view+json": {
       "model_id": "55d25a41b5b142dda02069b43ded780e",
       "version_major": 2,
       "version_minor": 0
      },
      "text/plain": [
       "Possible clusters:   0%|          | 0/91 [00:00<?, ?it/s]"
      ]
     },
     "metadata": {},
     "output_type": "display_data"
    },
    {
     "data": {
      "application/vnd.jupyter.widget-view+json": {
       "model_id": "33720efb89c64c77845d92f9a83ef072",
       "version_major": 2,
       "version_minor": 0
      },
      "text/plain": [
       "Possible clusters:   0%|          | 0/4 [00:00<?, ?it/s]"
      ]
     },
     "metadata": {},
     "output_type": "display_data"
    },
    {
     "data": {
      "application/vnd.jupyter.widget-view+json": {
       "model_id": "2864810174d14526ac6cd6e377647a45",
       "version_major": 2,
       "version_minor": 0
      },
      "text/plain": [
       "Possible clusters:   0%|          | 0/5016 [00:00<?, ?it/s]"
      ]
     },
     "metadata": {},
     "output_type": "display_data"
    },
    {
     "data": {
      "application/vnd.jupyter.widget-view+json": {
       "model_id": "be90bfb30b814b18b8a4620eb53d4f73",
       "version_major": 2,
       "version_minor": 0
      },
      "text/plain": [
       "Possible clusters:   0%|          | 0/1925 [00:00<?, ?it/s]"
      ]
     },
     "metadata": {},
     "output_type": "display_data"
    },
    {
     "data": {
      "application/vnd.jupyter.widget-view+json": {
       "model_id": "9380fcc8abc243c3ab24e32e7df6f596",
       "version_major": 2,
       "version_minor": 0
      },
      "text/plain": [
       "Possible clusters:   0%|          | 0/550 [00:00<?, ?it/s]"
      ]
     },
     "metadata": {},
     "output_type": "display_data"
    },
    {
     "data": {
      "application/vnd.jupyter.widget-view+json": {
       "model_id": "c5536663e9014387bf57cde4355ec43e",
       "version_major": 2,
       "version_minor": 0
      },
      "text/plain": [
       "Possible clusters:   0%|          | 0/91 [00:00<?, ?it/s]"
      ]
     },
     "metadata": {},
     "output_type": "display_data"
    },
    {
     "data": {
      "application/vnd.jupyter.widget-view+json": {
       "model_id": "1b9e5691742c42dcbe5a1b97fca3ea97",
       "version_major": 2,
       "version_minor": 0
      },
      "text/plain": [
       "Possible clusters:   0%|          | 0/4 [00:00<?, ?it/s]"
      ]
     },
     "metadata": {},
     "output_type": "display_data"
    },
    {
     "data": {
      "application/vnd.jupyter.widget-view+json": {
       "model_id": "0fabee460428424db7734c141de05c91",
       "version_major": 2,
       "version_minor": 0
      },
      "text/plain": [
       "Possible clusters:   0%|          | 0/12926 [00:00<?, ?it/s]"
      ]
     },
     "metadata": {},
     "output_type": "display_data"
    },
    {
     "data": {
      "application/vnd.jupyter.widget-view+json": {
       "model_id": "7522ad872f8d48f491d960d5ecb3c6fb",
       "version_major": 2,
       "version_minor": 0
      },
      "text/plain": [
       "Possible clusters:   0%|          | 0/9086 [00:00<?, ?it/s]"
      ]
     },
     "metadata": {},
     "output_type": "display_data"
    },
    {
     "data": {
      "application/vnd.jupyter.widget-view+json": {
       "model_id": "c59a477fda2947aa906250a07598c09d",
       "version_major": 2,
       "version_minor": 0
      },
      "text/plain": [
       "Possible clusters:   0%|          | 0/4029 [00:00<?, ?it/s]"
      ]
     },
     "metadata": {},
     "output_type": "display_data"
    },
    {
     "data": {
      "application/vnd.jupyter.widget-view+json": {
       "model_id": "79d04e017be04edaaab71b01dbf0bbc9",
       "version_major": 2,
       "version_minor": 0
      },
      "text/plain": [
       "Possible clusters:   0%|          | 0/1456 [00:00<?, ?it/s]"
      ]
     },
     "metadata": {},
     "output_type": "display_data"
    },
    {
     "data": {
      "application/vnd.jupyter.widget-view+json": {
       "model_id": "f2d5c9479aac40babe18b88d716e5696",
       "version_major": 2,
       "version_minor": 0
      },
      "text/plain": [
       "Possible clusters:   0%|          | 0/375 [00:00<?, ?it/s]"
      ]
     },
     "metadata": {},
     "output_type": "display_data"
    },
    {
     "data": {
      "application/vnd.jupyter.widget-view+json": {
       "model_id": "6bcae3cda7834bc09c26e7851b0d94b7",
       "version_major": 2,
       "version_minor": 0
      },
      "text/plain": [
       "Possible clusters:   0%|          | 0/50 [00:00<?, ?it/s]"
      ]
     },
     "metadata": {},
     "output_type": "display_data"
    },
    {
     "data": {
      "application/vnd.jupyter.widget-view+json": {
       "model_id": "f6c33c2434af45e297c28c64d4b8ba37",
       "version_major": 2,
       "version_minor": 0
      },
      "text/plain": [
       "Possible clusters:   0%|          | 0/1 [00:00<?, ?it/s]"
      ]
     },
     "metadata": {},
     "output_type": "display_data"
    },
    {
     "data": {
      "application/vnd.jupyter.widget-view+json": {
       "model_id": "a7c519de3533483ea179743e0a157b7c",
       "version_major": 2,
       "version_minor": 0
      },
      "text/plain": [
       "Possible clusters:   0%|          | 0/9086 [00:00<?, ?it/s]"
      ]
     },
     "metadata": {},
     "output_type": "display_data"
    },
    {
     "data": {
      "application/vnd.jupyter.widget-view+json": {
       "model_id": "82d7309b932c45d2ae5b92cb44d01a8d",
       "version_major": 2,
       "version_minor": 0
      },
      "text/plain": [
       "Possible clusters:   0%|          | 0/4029 [00:00<?, ?it/s]"
      ]
     },
     "metadata": {},
     "output_type": "display_data"
    },
    {
     "data": {
      "application/vnd.jupyter.widget-view+json": {
       "model_id": "d2f7fe58f5144b5dbb6005122186cfa0",
       "version_major": 2,
       "version_minor": 0
      },
      "text/plain": [
       "Possible clusters:   0%|          | 0/1456 [00:00<?, ?it/s]"
      ]
     },
     "metadata": {},
     "output_type": "display_data"
    },
    {
     "data": {
      "application/vnd.jupyter.widget-view+json": {
       "model_id": "e216ba19ed3344e6b21f7f06ac6776d2",
       "version_major": 2,
       "version_minor": 0
      },
      "text/plain": [
       "Possible clusters:   0%|          | 0/375 [00:00<?, ?it/s]"
      ]
     },
     "metadata": {},
     "output_type": "display_data"
    },
    {
     "data": {
      "application/vnd.jupyter.widget-view+json": {
       "model_id": "fc33d460f21f44f38ca631fd978d72f8",
       "version_major": 2,
       "version_minor": 0
      },
      "text/plain": [
       "Possible clusters:   0%|          | 0/50 [00:00<?, ?it/s]"
      ]
     },
     "metadata": {},
     "output_type": "display_data"
    },
    {
     "data": {
      "application/vnd.jupyter.widget-view+json": {
       "model_id": "ab26cb18dfef4a218ff693b0ef4fe6c2",
       "version_major": 2,
       "version_minor": 0
      },
      "text/plain": [
       "Possible clusters:   0%|          | 0/1 [00:00<?, ?it/s]"
      ]
     },
     "metadata": {},
     "output_type": "display_data"
    },
    {
     "data": {
      "application/vnd.jupyter.widget-view+json": {
       "model_id": "a2afd539b1bc475abb6856a2ac192c04",
       "version_major": 2,
       "version_minor": 0
      },
      "text/plain": [
       "Possible clusters:   0%|          | 0/10879 [00:00<?, ?it/s]"
      ]
     },
     "metadata": {},
     "output_type": "display_data"
    },
    {
     "data": {
      "application/vnd.jupyter.widget-view+json": {
       "model_id": "c15d909cc0304d17aabeb937655f03d6",
       "version_major": 2,
       "version_minor": 0
      },
      "text/plain": [
       "Possible clusters:   0%|          | 0/5016 [00:00<?, ?it/s]"
      ]
     },
     "metadata": {},
     "output_type": "display_data"
    },
    {
     "data": {
      "application/vnd.jupyter.widget-view+json": {
       "model_id": "a95b2a87a05f46618ae3d8be9cf3e108",
       "version_major": 2,
       "version_minor": 0
      },
      "text/plain": [
       "Possible clusters:   0%|          | 0/1925 [00:00<?, ?it/s]"
      ]
     },
     "metadata": {},
     "output_type": "display_data"
    },
    {
     "data": {
      "application/vnd.jupyter.widget-view+json": {
       "model_id": "5f85af7c03d74e9396318df34de579ff",
       "version_major": 2,
       "version_minor": 0
      },
      "text/plain": [
       "Possible clusters:   0%|          | 0/550 [00:00<?, ?it/s]"
      ]
     },
     "metadata": {},
     "output_type": "display_data"
    },
    {
     "data": {
      "application/vnd.jupyter.widget-view+json": {
       "model_id": "9be48bd17e7e42e0891fec21883d4b22",
       "version_major": 2,
       "version_minor": 0
      },
      "text/plain": [
       "Possible clusters:   0%|          | 0/91 [00:00<?, ?it/s]"
      ]
     },
     "metadata": {},
     "output_type": "display_data"
    },
    {
     "data": {
      "application/vnd.jupyter.widget-view+json": {
       "model_id": "3f0a2041a9854ebc9836a6326b06a8d2",
       "version_major": 2,
       "version_minor": 0
      },
      "text/plain": [
       "Possible clusters:   0%|          | 0/4 [00:00<?, ?it/s]"
      ]
     },
     "metadata": {},
     "output_type": "display_data"
    },
    {
     "data": {
      "application/vnd.jupyter.widget-view+json": {
       "model_id": "ebc9ce8449944498a2fd02b6fbd2128c",
       "version_major": 2,
       "version_minor": 0
      },
      "text/plain": [
       "Possible clusters:   0%|          | 0/2500 [00:00<?, ?it/s]"
      ]
     },
     "metadata": {},
     "output_type": "display_data"
    },
    {
     "data": {
      "application/vnd.jupyter.widget-view+json": {
       "model_id": "4af16554b18849fd8233fae95bc1f84d",
       "version_major": 2,
       "version_minor": 0
      },
      "text/plain": [
       "Possible clusters:   0%|          | 0/781 [00:00<?, ?it/s]"
      ]
     },
     "metadata": {},
     "output_type": "display_data"
    },
    {
     "data": {
      "application/vnd.jupyter.widget-view+json": {
       "model_id": "e32c50dd8c8d4ba5bf0e1099b84054f6",
       "version_major": 2,
       "version_minor": 0
      },
      "text/plain": [
       "Possible clusters:   0%|          | 0/154 [00:00<?, ?it/s]"
      ]
     },
     "metadata": {},
     "output_type": "display_data"
    },
    {
     "data": {
      "application/vnd.jupyter.widget-view+json": {
       "model_id": "a54f311f11f84436b0a267a3ab47577c",
       "version_major": 2,
       "version_minor": 0
      },
      "text/plain": [
       "Possible clusters:   0%|          | 0/11 [00:00<?, ?it/s]"
      ]
     },
     "metadata": {},
     "output_type": "display_data"
    },
    {
     "data": {
      "application/vnd.jupyter.widget-view+json": {
       "model_id": "542df2297fee498993bc3acccc0450fa",
       "version_major": 2,
       "version_minor": 0
      },
      "text/plain": [
       "Possible clusters:   0%|          | 0/6175 [00:00<?, ?it/s]"
      ]
     },
     "metadata": {},
     "output_type": "display_data"
    },
    {
     "data": {
      "application/vnd.jupyter.widget-view+json": {
       "model_id": "b9addaa69346440db4614a119da0aa1c",
       "version_major": 2,
       "version_minor": 0
      },
      "text/plain": [
       "Possible clusters:   0%|          | 0/4029 [00:00<?, ?it/s]"
      ]
     },
     "metadata": {},
     "output_type": "display_data"
    },
    {
     "data": {
      "application/vnd.jupyter.widget-view+json": {
       "model_id": "d3dceb4315ef403f9a902d1dc290826f",
       "version_major": 2,
       "version_minor": 0
      },
      "text/plain": [
       "Possible clusters:   0%|          | 0/1456 [00:00<?, ?it/s]"
      ]
     },
     "metadata": {},
     "output_type": "display_data"
    },
    {
     "data": {
      "application/vnd.jupyter.widget-view+json": {
       "model_id": "00cb95dd41dd4b7e9a459de08e18426b",
       "version_major": 2,
       "version_minor": 0
      },
      "text/plain": [
       "Possible clusters:   0%|          | 0/375 [00:00<?, ?it/s]"
      ]
     },
     "metadata": {},
     "output_type": "display_data"
    },
    {
     "data": {
      "application/vnd.jupyter.widget-view+json": {
       "model_id": "2bd1103973844761b50e8da5cfa3db14",
       "version_major": 2,
       "version_minor": 0
      },
      "text/plain": [
       "Possible clusters:   0%|          | 0/50 [00:00<?, ?it/s]"
      ]
     },
     "metadata": {},
     "output_type": "display_data"
    },
    {
     "data": {
      "application/vnd.jupyter.widget-view+json": {
       "model_id": "abb0f64c3a6541e6bb7970f4bcf77d71",
       "version_major": 2,
       "version_minor": 0
      },
      "text/plain": [
       "Possible clusters:   0%|          | 0/1 [00:00<?, ?it/s]"
      ]
     },
     "metadata": {},
     "output_type": "display_data"
    },
    {
     "data": {
      "application/vnd.jupyter.widget-view+json": {
       "model_id": "7eb50fba3b914f2a9e5cff1aa8fffabb",
       "version_major": 2,
       "version_minor": 0
      },
      "text/plain": [
       "Possible clusters:   0%|          | 0/9086 [00:00<?, ?it/s]"
      ]
     },
     "metadata": {},
     "output_type": "display_data"
    },
    {
     "data": {
      "application/vnd.jupyter.widget-view+json": {
       "model_id": "e818c5e0fb9a4a79b4893277191f831c",
       "version_major": 2,
       "version_minor": 0
      },
      "text/plain": [
       "Possible clusters:   0%|          | 0/4029 [00:00<?, ?it/s]"
      ]
     },
     "metadata": {},
     "output_type": "display_data"
    },
    {
     "data": {
      "application/vnd.jupyter.widget-view+json": {
       "model_id": "fce842877af248bcae3fad786320e3a7",
       "version_major": 2,
       "version_minor": 0
      },
      "text/plain": [
       "Possible clusters:   0%|          | 0/1456 [00:00<?, ?it/s]"
      ]
     },
     "metadata": {},
     "output_type": "display_data"
    },
    {
     "data": {
      "application/vnd.jupyter.widget-view+json": {
       "model_id": "71e0795ad18847fd8b8d9340ac601db4",
       "version_major": 2,
       "version_minor": 0
      },
      "text/plain": [
       "Possible clusters:   0%|          | 0/375 [00:00<?, ?it/s]"
      ]
     },
     "metadata": {},
     "output_type": "display_data"
    },
    {
     "data": {
      "application/vnd.jupyter.widget-view+json": {
       "model_id": "190a73cd293442a6b5136941d6cb5f43",
       "version_major": 2,
       "version_minor": 0
      },
      "text/plain": [
       "Possible clusters:   0%|          | 0/50 [00:00<?, ?it/s]"
      ]
     },
     "metadata": {},
     "output_type": "display_data"
    },
    {
     "data": {
      "application/vnd.jupyter.widget-view+json": {
       "model_id": "8560f3efdecc411b8a9ced6f7290e0b1",
       "version_major": 2,
       "version_minor": 0
      },
      "text/plain": [
       "Possible clusters:   0%|          | 0/1 [00:00<?, ?it/s]"
      ]
     },
     "metadata": {},
     "output_type": "display_data"
    },
    {
     "data": {
      "application/vnd.jupyter.widget-view+json": {
       "model_id": "53d180169cd442cd9a2dadb1b3f23888",
       "version_major": 2,
       "version_minor": 0
      },
      "text/plain": [
       "Possible clusters:   0%|          | 0/9086 [00:00<?, ?it/s]"
      ]
     },
     "metadata": {},
     "output_type": "display_data"
    },
    {
     "data": {
      "application/vnd.jupyter.widget-view+json": {
       "model_id": "15057a61666b4a2d99b512be40e5820a",
       "version_major": 2,
       "version_minor": 0
      },
      "text/plain": [
       "Possible clusters:   0%|          | 0/4029 [00:00<?, ?it/s]"
      ]
     },
     "metadata": {},
     "output_type": "display_data"
    },
    {
     "data": {
      "application/vnd.jupyter.widget-view+json": {
       "model_id": "adf8a03c9fb8477f8da09ff2ef9f8a8d",
       "version_major": 2,
       "version_minor": 0
      },
      "text/plain": [
       "Possible clusters:   0%|          | 0/1456 [00:00<?, ?it/s]"
      ]
     },
     "metadata": {},
     "output_type": "display_data"
    },
    {
     "data": {
      "application/vnd.jupyter.widget-view+json": {
       "model_id": "7e0d641481694f028ee488af2eb3f552",
       "version_major": 2,
       "version_minor": 0
      },
      "text/plain": [
       "Possible clusters:   0%|          | 0/375 [00:00<?, ?it/s]"
      ]
     },
     "metadata": {},
     "output_type": "display_data"
    },
    {
     "data": {
      "application/vnd.jupyter.widget-view+json": {
       "model_id": "96299ce80f674647868b4567778567d8",
       "version_major": 2,
       "version_minor": 0
      },
      "text/plain": [
       "Possible clusters:   0%|          | 0/50 [00:00<?, ?it/s]"
      ]
     },
     "metadata": {},
     "output_type": "display_data"
    },
    {
     "data": {
      "application/vnd.jupyter.widget-view+json": {
       "model_id": "d94dd121a64a479083e6e444cb6328dd",
       "version_major": 2,
       "version_minor": 0
      },
      "text/plain": [
       "Possible clusters:   0%|          | 0/1 [00:00<?, ?it/s]"
      ]
     },
     "metadata": {},
     "output_type": "display_data"
    },
    {
     "data": {
      "application/vnd.jupyter.widget-view+json": {
       "model_id": "51d70b7d3a2e4e228d170ee1ffda2f6f",
       "version_major": 2,
       "version_minor": 0
      },
      "text/plain": [
       "Possible clusters:   0%|          | 0/10879 [00:00<?, ?it/s]"
      ]
     },
     "metadata": {},
     "output_type": "display_data"
    },
    {
     "data": {
      "application/vnd.jupyter.widget-view+json": {
       "model_id": "8220be30e10445e7b38bb1e418121ef5",
       "version_major": 2,
       "version_minor": 0
      },
      "text/plain": [
       "Possible clusters:   0%|          | 0/5016 [00:00<?, ?it/s]"
      ]
     },
     "metadata": {},
     "output_type": "display_data"
    },
    {
     "data": {
      "application/vnd.jupyter.widget-view+json": {
       "model_id": "aab88c3fa2044c4eba3d0c8c8de39f8a",
       "version_major": 2,
       "version_minor": 0
      },
      "text/plain": [
       "Possible clusters:   0%|          | 0/1925 [00:00<?, ?it/s]"
      ]
     },
     "metadata": {},
     "output_type": "display_data"
    },
    {
     "data": {
      "application/vnd.jupyter.widget-view+json": {
       "model_id": "05bc4239d00b4d73bb81c44cb21247b5",
       "version_major": 2,
       "version_minor": 0
      },
      "text/plain": [
       "Possible clusters:   0%|          | 0/550 [00:00<?, ?it/s]"
      ]
     },
     "metadata": {},
     "output_type": "display_data"
    },
    {
     "data": {
      "application/vnd.jupyter.widget-view+json": {
       "model_id": "7a5ee7dfac3842c19e486088c734bc56",
       "version_major": 2,
       "version_minor": 0
      },
      "text/plain": [
       "Possible clusters:   0%|          | 0/91 [00:00<?, ?it/s]"
      ]
     },
     "metadata": {},
     "output_type": "display_data"
    },
    {
     "data": {
      "application/vnd.jupyter.widget-view+json": {
       "model_id": "f4480f20bc02409bab988b7ee3550c67",
       "version_major": 2,
       "version_minor": 0
      },
      "text/plain": [
       "Possible clusters:   0%|          | 0/4 [00:00<?, ?it/s]"
      ]
     },
     "metadata": {},
     "output_type": "display_data"
    },
    {
     "data": {
      "application/vnd.jupyter.widget-view+json": {
       "model_id": "17e84ee5589f4cee9c62db78ba043326",
       "version_major": 2,
       "version_minor": 0
      },
      "text/plain": [
       "Possible clusters:   0%|          | 0/12926 [00:00<?, ?it/s]"
      ]
     },
     "metadata": {},
     "output_type": "display_data"
    },
    {
     "data": {
      "application/vnd.jupyter.widget-view+json": {
       "model_id": "814689dc861f43d88585f07fbf87bc90",
       "version_major": 2,
       "version_minor": 0
      },
      "text/plain": [
       "Possible clusters:   0%|          | 0/6175 [00:00<?, ?it/s]"
      ]
     },
     "metadata": {},
     "output_type": "display_data"
    },
    {
     "data": {
      "application/vnd.jupyter.widget-view+json": {
       "model_id": "7496b1a234dc409196f18599ee7e7558",
       "version_major": 2,
       "version_minor": 0
      },
      "text/plain": [
       "Possible clusters:   0%|          | 0/2500 [00:00<?, ?it/s]"
      ]
     },
     "metadata": {},
     "output_type": "display_data"
    },
    {
     "data": {
      "application/vnd.jupyter.widget-view+json": {
       "model_id": "5bb9d8e5d835456d86ceb99926671ca9",
       "version_major": 2,
       "version_minor": 0
      },
      "text/plain": [
       "Possible clusters:   0%|          | 0/781 [00:00<?, ?it/s]"
      ]
     },
     "metadata": {},
     "output_type": "display_data"
    },
    {
     "data": {
      "application/vnd.jupyter.widget-view+json": {
       "model_id": "a62a85ee655941de8856af4c8c8c2cc8",
       "version_major": 2,
       "version_minor": 0
      },
      "text/plain": [
       "Possible clusters:   0%|          | 0/154 [00:00<?, ?it/s]"
      ]
     },
     "metadata": {},
     "output_type": "display_data"
    },
    {
     "data": {
      "application/vnd.jupyter.widget-view+json": {
       "model_id": "ba824285d233415b90aba086e613ed34",
       "version_major": 2,
       "version_minor": 0
      },
      "text/plain": [
       "Possible clusters:   0%|          | 0/11 [00:00<?, ?it/s]"
      ]
     },
     "metadata": {},
     "output_type": "display_data"
    },
    {
     "data": {
      "application/vnd.jupyter.widget-view+json": {
       "model_id": "c2ec60270d464bfe81112d55c56ab33a",
       "version_major": 2,
       "version_minor": 0
      },
      "text/plain": [
       "Possible clusters:   0%|          | 0/560 [00:00<?, ?it/s]"
      ]
     },
     "metadata": {},
     "output_type": "display_data"
    },
    {
     "data": {
      "application/vnd.jupyter.widget-view+json": {
       "model_id": "1f8232236fd748099a4c060f0914c951",
       "version_major": 2,
       "version_minor": 0
      },
      "text/plain": [
       "Possible clusters:   0%|          | 0/286 [00:00<?, ?it/s]"
      ]
     },
     "metadata": {},
     "output_type": "display_data"
    },
    {
     "data": {
      "application/vnd.jupyter.widget-view+json": {
       "model_id": "55874aa308ee4665b1839f7a1584797c",
       "version_major": 2,
       "version_minor": 0
      },
      "text/plain": [
       "Possible clusters:   0%|          | 0/120 [00:00<?, ?it/s]"
      ]
     },
     "metadata": {},
     "output_type": "display_data"
    },
    {
     "data": {
      "application/vnd.jupyter.widget-view+json": {
       "model_id": "3023cf22e1fc437a8c0eda42e6e5a940",
       "version_major": 2,
       "version_minor": 0
      },
      "text/plain": [
       "Possible clusters:   0%|          | 0/35 [00:00<?, ?it/s]"
      ]
     },
     "metadata": {},
     "output_type": "display_data"
    },
    {
     "data": {
      "application/vnd.jupyter.widget-view+json": {
       "model_id": "798993f936d648ca919ef1bf7a6e89b2",
       "version_major": 2,
       "version_minor": 0
      },
      "text/plain": [
       "Possible clusters:   0%|          | 0/4 [00:00<?, ?it/s]"
      ]
     },
     "metadata": {},
     "output_type": "display_data"
    },
    {
     "data": {
      "application/vnd.jupyter.widget-view+json": {
       "model_id": "a9e707dbb98c456d92af7ed61b439f30",
       "version_major": 2,
       "version_minor": 0
      },
      "text/plain": [
       "Possible clusters:   0%|          | 0/83655 [00:00<?, ?it/s]"
      ]
     },
     "metadata": {},
     "output_type": "display_data"
    },
    {
     "data": {
      "application/vnd.jupyter.widget-view+json": {
       "model_id": "e1462ec0aa484b96a82dedf2a2507576",
       "version_major": 2,
       "version_minor": 0
      },
      "text/plain": [
       "Possible clusters:   0%|          | 0/27874 [00:00<?, ?it/s]"
      ]
     },
     "metadata": {},
     "output_type": "display_data"
    },
    {
     "data": {
      "application/vnd.jupyter.widget-view+json": {
       "model_id": "5f83daab5e1641f59f4c5275d4ad444d",
       "version_major": 2,
       "version_minor": 0
      },
      "text/plain": [
       "Possible clusters:   0%|          | 0/6868 [00:00<?, ?it/s]"
      ]
     },
     "metadata": {},
     "output_type": "display_data"
    },
    {
     "data": {
      "application/vnd.jupyter.widget-view+json": {
       "model_id": "9dc5669100404adb934794ccc95184c0",
       "version_major": 2,
       "version_minor": 0
      },
      "text/plain": [
       "Possible clusters:   0%|          | 0/1012 [00:00<?, ?it/s]"
      ]
     },
     "metadata": {},
     "output_type": "display_data"
    },
    {
     "data": {
      "application/vnd.jupyter.widget-view+json": {
       "model_id": "69af1980dbfd4763a316e6bfa1ad9253",
       "version_major": 2,
       "version_minor": 0
      },
      "text/plain": [
       "Possible clusters:   0%|          | 0/56 [00:00<?, ?it/s]"
      ]
     },
     "metadata": {},
     "output_type": "display_data"
    },
    {
     "data": {
      "application/vnd.jupyter.widget-view+json": {
       "model_id": "a2798b0fa29548c9bc36cf71ca312d81",
       "version_major": 2,
       "version_minor": 0
      },
      "text/plain": [
       "Possible clusters:   0%|          | 0/10879 [00:00<?, ?it/s]"
      ]
     },
     "metadata": {},
     "output_type": "display_data"
    },
    {
     "data": {
      "application/vnd.jupyter.widget-view+json": {
       "model_id": "c14371d776ec417e9c1c8e2558833fc1",
       "version_major": 2,
       "version_minor": 0
      },
      "text/plain": [
       "Possible clusters:   0%|          | 0/5016 [00:00<?, ?it/s]"
      ]
     },
     "metadata": {},
     "output_type": "display_data"
    },
    {
     "data": {
      "application/vnd.jupyter.widget-view+json": {
       "model_id": "432e3a14d1bd4f9ea9b6ce88a29b6fd4",
       "version_major": 2,
       "version_minor": 0
      },
      "text/plain": [
       "Possible clusters:   0%|          | 0/1925 [00:00<?, ?it/s]"
      ]
     },
     "metadata": {},
     "output_type": "display_data"
    },
    {
     "data": {
      "application/vnd.jupyter.widget-view+json": {
       "model_id": "ba3b415ee6f84f359b68a93a8bcc21a0",
       "version_major": 2,
       "version_minor": 0
      },
      "text/plain": [
       "Possible clusters:   0%|          | 0/550 [00:00<?, ?it/s]"
      ]
     },
     "metadata": {},
     "output_type": "display_data"
    },
    {
     "data": {
      "application/vnd.jupyter.widget-view+json": {
       "model_id": "8ab2d62faf404490b74575c44d9e364b",
       "version_major": 2,
       "version_minor": 0
      },
      "text/plain": [
       "Possible clusters:   0%|          | 0/91 [00:00<?, ?it/s]"
      ]
     },
     "metadata": {},
     "output_type": "display_data"
    },
    {
     "data": {
      "application/vnd.jupyter.widget-view+json": {
       "model_id": "779271d0a6124e939e2ec95a54bf57eb",
       "version_major": 2,
       "version_minor": 0
      },
      "text/plain": [
       "Possible clusters:   0%|          | 0/4 [00:00<?, ?it/s]"
      ]
     },
     "metadata": {},
     "output_type": "display_data"
    },
    {
     "data": {
      "application/vnd.jupyter.widget-view+json": {
       "model_id": "b36bba657bb349f6805cf516573d41af",
       "version_major": 2,
       "version_minor": 0
      },
      "text/plain": [
       "Possible clusters:   0%|          | 0/10879 [00:00<?, ?it/s]"
      ]
     },
     "metadata": {},
     "output_type": "display_data"
    },
    {
     "data": {
      "application/vnd.jupyter.widget-view+json": {
       "model_id": "0909f37946bb43eb93168ae1c80566fa",
       "version_major": 2,
       "version_minor": 0
      },
      "text/plain": [
       "Possible clusters:   0%|          | 0/5016 [00:00<?, ?it/s]"
      ]
     },
     "metadata": {},
     "output_type": "display_data"
    },
    {
     "data": {
      "application/vnd.jupyter.widget-view+json": {
       "model_id": "90f5dc7aaae643dda8d2efcd23fded20",
       "version_major": 2,
       "version_minor": 0
      },
      "text/plain": [
       "Possible clusters:   0%|          | 0/1925 [00:00<?, ?it/s]"
      ]
     },
     "metadata": {},
     "output_type": "display_data"
    },
    {
     "data": {
      "application/vnd.jupyter.widget-view+json": {
       "model_id": "c7de8a2b01db40158b3bd969c475d63f",
       "version_major": 2,
       "version_minor": 0
      },
      "text/plain": [
       "Possible clusters:   0%|          | 0/550 [00:00<?, ?it/s]"
      ]
     },
     "metadata": {},
     "output_type": "display_data"
    },
    {
     "data": {
      "application/vnd.jupyter.widget-view+json": {
       "model_id": "35b5bfb32c7f414aa90990a5a9470480",
       "version_major": 2,
       "version_minor": 0
      },
      "text/plain": [
       "Possible clusters:   0%|          | 0/91 [00:00<?, ?it/s]"
      ]
     },
     "metadata": {},
     "output_type": "display_data"
    },
    {
     "data": {
      "application/vnd.jupyter.widget-view+json": {
       "model_id": "395c26bcefe049df8d8374213d3a64fe",
       "version_major": 2,
       "version_minor": 0
      },
      "text/plain": [
       "Possible clusters:   0%|          | 0/4 [00:00<?, ?it/s]"
      ]
     },
     "metadata": {},
     "output_type": "display_data"
    },
    {
     "data": {
      "application/vnd.jupyter.widget-view+json": {
       "model_id": "7571448e8113478fbf9811bae13a0fca",
       "version_major": 2,
       "version_minor": 0
      },
      "text/plain": [
       "Possible clusters:   0%|          | 0/4029 [00:00<?, ?it/s]"
      ]
     },
     "metadata": {},
     "output_type": "display_data"
    },
    {
     "data": {
      "application/vnd.jupyter.widget-view+json": {
       "model_id": "07e63da948e0485899c6d3c87a7b1224",
       "version_major": 2,
       "version_minor": 0
      },
      "text/plain": [
       "Possible clusters:   0%|          | 0/1456 [00:00<?, ?it/s]"
      ]
     },
     "metadata": {},
     "output_type": "display_data"
    },
    {
     "data": {
      "application/vnd.jupyter.widget-view+json": {
       "model_id": "562cff7e4a2a49358405e3831296bda4",
       "version_major": 2,
       "version_minor": 0
      },
      "text/plain": [
       "Possible clusters:   0%|          | 0/375 [00:00<?, ?it/s]"
      ]
     },
     "metadata": {},
     "output_type": "display_data"
    },
    {
     "data": {
      "application/vnd.jupyter.widget-view+json": {
       "model_id": "f71e0ce5782540f7a78529c1ce8dbeb8",
       "version_major": 2,
       "version_minor": 0
      },
      "text/plain": [
       "Possible clusters:   0%|          | 0/50 [00:00<?, ?it/s]"
      ]
     },
     "metadata": {},
     "output_type": "display_data"
    },
    {
     "data": {
      "application/vnd.jupyter.widget-view+json": {
       "model_id": "bb6407851b7946af86cdc640718c9fae",
       "version_major": 2,
       "version_minor": 0
      },
      "text/plain": [
       "Possible clusters:   0%|          | 0/1 [00:00<?, ?it/s]"
      ]
     },
     "metadata": {},
     "output_type": "display_data"
    },
    {
     "data": {
      "application/vnd.jupyter.widget-view+json": {
       "model_id": "f1531feeb108492699df2e61f9edfd68",
       "version_major": 2,
       "version_minor": 0
      },
      "text/plain": [
       "Possible clusters:   0%|          | 0/10879 [00:00<?, ?it/s]"
      ]
     },
     "metadata": {},
     "output_type": "display_data"
    },
    {
     "data": {
      "application/vnd.jupyter.widget-view+json": {
       "model_id": "4e5f0d87d1134e3ea3ef97dc47d22c34",
       "version_major": 2,
       "version_minor": 0
      },
      "text/plain": [
       "Possible clusters:   0%|          | 0/5016 [00:00<?, ?it/s]"
      ]
     },
     "metadata": {},
     "output_type": "display_data"
    },
    {
     "data": {
      "application/vnd.jupyter.widget-view+json": {
       "model_id": "ce5375584b4c4562ba6d4f4e9784e4e7",
       "version_major": 2,
       "version_minor": 0
      },
      "text/plain": [
       "Possible clusters:   0%|          | 0/1925 [00:00<?, ?it/s]"
      ]
     },
     "metadata": {},
     "output_type": "display_data"
    },
    {
     "data": {
      "application/vnd.jupyter.widget-view+json": {
       "model_id": "f38dff11fec04695a1f89d7428d5b8a7",
       "version_major": 2,
       "version_minor": 0
      },
      "text/plain": [
       "Possible clusters:   0%|          | 0/550 [00:00<?, ?it/s]"
      ]
     },
     "metadata": {},
     "output_type": "display_data"
    },
    {
     "data": {
      "application/vnd.jupyter.widget-view+json": {
       "model_id": "7080c101e49c4408bcb29099a364cec2",
       "version_major": 2,
       "version_minor": 0
      },
      "text/plain": [
       "Possible clusters:   0%|          | 0/91 [00:00<?, ?it/s]"
      ]
     },
     "metadata": {},
     "output_type": "display_data"
    },
    {
     "data": {
      "application/vnd.jupyter.widget-view+json": {
       "model_id": "6415f383411744bc81c34e8eb99de770",
       "version_major": 2,
       "version_minor": 0
      },
      "text/plain": [
       "Possible clusters:   0%|          | 0/4 [00:00<?, ?it/s]"
      ]
     },
     "metadata": {},
     "output_type": "display_data"
    },
    {
     "data": {
      "application/vnd.jupyter.widget-view+json": {
       "model_id": "7be7c122985b4ec4b88cac4287d2026b",
       "version_major": 2,
       "version_minor": 0
      },
      "text/plain": [
       "Possible clusters:   0%|          | 0/10879 [00:00<?, ?it/s]"
      ]
     },
     "metadata": {},
     "output_type": "display_data"
    },
    {
     "data": {
      "application/vnd.jupyter.widget-view+json": {
       "model_id": "7fc8841850e646b58439d422fd971206",
       "version_major": 2,
       "version_minor": 0
      },
      "text/plain": [
       "Possible clusters:   0%|          | 0/5016 [00:00<?, ?it/s]"
      ]
     },
     "metadata": {},
     "output_type": "display_data"
    },
    {
     "data": {
      "application/vnd.jupyter.widget-view+json": {
       "model_id": "ae5d75437f4d48408d0e714fafcf3b06",
       "version_major": 2,
       "version_minor": 0
      },
      "text/plain": [
       "Possible clusters:   0%|          | 0/2500 [00:00<?, ?it/s]"
      ]
     },
     "metadata": {},
     "output_type": "display_data"
    },
    {
     "data": {
      "application/vnd.jupyter.widget-view+json": {
       "model_id": "9de536df5d1a47cab753512d53e713c1",
       "version_major": 2,
       "version_minor": 0
      },
      "text/plain": [
       "Possible clusters:   0%|          | 0/781 [00:00<?, ?it/s]"
      ]
     },
     "metadata": {},
     "output_type": "display_data"
    },
    {
     "data": {
      "application/vnd.jupyter.widget-view+json": {
       "model_id": "5a5de849c6ab495b8abec0447cc26bd0",
       "version_major": 2,
       "version_minor": 0
      },
      "text/plain": [
       "Possible clusters:   0%|          | 0/154 [00:00<?, ?it/s]"
      ]
     },
     "metadata": {},
     "output_type": "display_data"
    },
    {
     "data": {
      "application/vnd.jupyter.widget-view+json": {
       "model_id": "c6d9a673ad8443e88570bc0d900c9281",
       "version_major": 2,
       "version_minor": 0
      },
      "text/plain": [
       "Possible clusters:   0%|          | 0/11 [00:00<?, ?it/s]"
      ]
     },
     "metadata": {},
     "output_type": "display_data"
    },
    {
     "data": {
      "application/vnd.jupyter.widget-view+json": {
       "model_id": "721ffcc3b9bb4a38a2046252dbc0a3e1",
       "version_major": 2,
       "version_minor": 0
      },
      "text/plain": [
       "Possible clusters:   0%|          | 0/9086 [00:00<?, ?it/s]"
      ]
     },
     "metadata": {},
     "output_type": "display_data"
    },
    {
     "data": {
      "application/vnd.jupyter.widget-view+json": {
       "model_id": "6736dbe84e1f4fe2982dc93b837fe133",
       "version_major": 2,
       "version_minor": 0
      },
      "text/plain": [
       "Possible clusters:   0%|          | 0/4029 [00:00<?, ?it/s]"
      ]
     },
     "metadata": {},
     "output_type": "display_data"
    },
    {
     "data": {
      "application/vnd.jupyter.widget-view+json": {
       "model_id": "56bc90c8366e45f7a1dda0923ccf6954",
       "version_major": 2,
       "version_minor": 0
      },
      "text/plain": [
       "Possible clusters:   0%|          | 0/1456 [00:00<?, ?it/s]"
      ]
     },
     "metadata": {},
     "output_type": "display_data"
    },
    {
     "data": {
      "application/vnd.jupyter.widget-view+json": {
       "model_id": "4bcf55ed0c154e44a1dd485003d3e548",
       "version_major": 2,
       "version_minor": 0
      },
      "text/plain": [
       "Possible clusters:   0%|          | 0/375 [00:00<?, ?it/s]"
      ]
     },
     "metadata": {},
     "output_type": "display_data"
    },
    {
     "data": {
      "application/vnd.jupyter.widget-view+json": {
       "model_id": "968a67921cb440b9b79ad0fccd134fa4",
       "version_major": 2,
       "version_minor": 0
      },
      "text/plain": [
       "Possible clusters:   0%|          | 0/50 [00:00<?, ?it/s]"
      ]
     },
     "metadata": {},
     "output_type": "display_data"
    },
    {
     "data": {
      "application/vnd.jupyter.widget-view+json": {
       "model_id": "5466624279c543e3a71fe7ec7b36f004",
       "version_major": 2,
       "version_minor": 0
      },
      "text/plain": [
       "Possible clusters:   0%|          | 0/1 [00:00<?, ?it/s]"
      ]
     },
     "metadata": {},
     "output_type": "display_data"
    },
    {
     "data": {
      "application/vnd.jupyter.widget-view+json": {
       "model_id": "559d99eea4014af29ecf575b67555ac5",
       "version_major": 2,
       "version_minor": 0
      },
      "text/plain": [
       "Possible clusters:   0%|          | 0/7525 [00:00<?, ?it/s]"
      ]
     },
     "metadata": {},
     "output_type": "display_data"
    },
    {
     "data": {
      "application/vnd.jupyter.widget-view+json": {
       "model_id": "d3120bbbd3324ff2b364cb5ac23cffaf",
       "version_major": 2,
       "version_minor": 0
      },
      "text/plain": [
       "Possible clusters:   0%|          | 0/3196 [00:00<?, ?it/s]"
      ]
     },
     "metadata": {},
     "output_type": "display_data"
    },
    {
     "data": {
      "application/vnd.jupyter.widget-view+json": {
       "model_id": "f1ca37baacce4a3f871677bedb20a06a",
       "version_major": 2,
       "version_minor": 0
      },
      "text/plain": [
       "Possible clusters:   0%|          | 0/1079 [00:00<?, ?it/s]"
      ]
     },
     "metadata": {},
     "output_type": "display_data"
    },
    {
     "data": {
      "application/vnd.jupyter.widget-view+json": {
       "model_id": "ab14c4e157d34d1e95a5d9883d0c5d46",
       "version_major": 2,
       "version_minor": 0
      },
      "text/plain": [
       "Possible clusters:   0%|          | 0/246 [00:00<?, ?it/s]"
      ]
     },
     "metadata": {},
     "output_type": "display_data"
    },
    {
     "data": {
      "application/vnd.jupyter.widget-view+json": {
       "model_id": "cd2b43b46afd4f8c8637830288f7908f",
       "version_major": 2,
       "version_minor": 0
      },
      "text/plain": [
       "Possible clusters:   0%|          | 0/25 [00:00<?, ?it/s]"
      ]
     },
     "metadata": {},
     "output_type": "display_data"
    },
    {
     "data": {
      "application/vnd.jupyter.widget-view+json": {
       "model_id": "194bad96880e4b0a9190405000fe31fe",
       "version_major": 2,
       "version_minor": 0
      },
      "text/plain": [
       "Possible clusters:   0%|          | 0/9086 [00:00<?, ?it/s]"
      ]
     },
     "metadata": {},
     "output_type": "display_data"
    },
    {
     "data": {
      "application/vnd.jupyter.widget-view+json": {
       "model_id": "5e73308b6fe84422a71350165295be04",
       "version_major": 2,
       "version_minor": 0
      },
      "text/plain": [
       "Possible clusters:   0%|          | 0/4029 [00:00<?, ?it/s]"
      ]
     },
     "metadata": {},
     "output_type": "display_data"
    },
    {
     "data": {
      "application/vnd.jupyter.widget-view+json": {
       "model_id": "e02e9f0f9457475d88d96dda21145142",
       "version_major": 2,
       "version_minor": 0
      },
      "text/plain": [
       "Possible clusters:   0%|          | 0/1456 [00:00<?, ?it/s]"
      ]
     },
     "metadata": {},
     "output_type": "display_data"
    },
    {
     "data": {
      "application/vnd.jupyter.widget-view+json": {
       "model_id": "d84670e2a130484495c2f88dd92e04ed",
       "version_major": 2,
       "version_minor": 0
      },
      "text/plain": [
       "Possible clusters:   0%|          | 0/375 [00:00<?, ?it/s]"
      ]
     },
     "metadata": {},
     "output_type": "display_data"
    },
    {
     "data": {
      "application/vnd.jupyter.widget-view+json": {
       "model_id": "c36fbafa409441e288fc748e84b1b267",
       "version_major": 2,
       "version_minor": 0
      },
      "text/plain": [
       "Possible clusters:   0%|          | 0/50 [00:00<?, ?it/s]"
      ]
     },
     "metadata": {},
     "output_type": "display_data"
    },
    {
     "data": {
      "application/vnd.jupyter.widget-view+json": {
       "model_id": "2bcc4b59ecb442a4a8971d7681b33067",
       "version_major": 2,
       "version_minor": 0
      },
      "text/plain": [
       "Possible clusters:   0%|          | 0/4 [00:00<?, ?it/s]"
      ]
     },
     "metadata": {},
     "output_type": "display_data"
    },
    {
     "data": {
      "application/vnd.jupyter.widget-view+json": {
       "model_id": "179ebc56d93241cbb15e98ae94175211",
       "version_major": 2,
       "version_minor": 0
      },
      "text/plain": [
       "Possible clusters:   0%|          | 0/7525 [00:00<?, ?it/s]"
      ]
     },
     "metadata": {},
     "output_type": "display_data"
    },
    {
     "data": {
      "application/vnd.jupyter.widget-view+json": {
       "model_id": "d8c39c8a9ba642e8ae01c57f0bc99df2",
       "version_major": 2,
       "version_minor": 0
      },
      "text/plain": [
       "Possible clusters:   0%|          | 0/3196 [00:00<?, ?it/s]"
      ]
     },
     "metadata": {},
     "output_type": "display_data"
    },
    {
     "data": {
      "application/vnd.jupyter.widget-view+json": {
       "model_id": "67684dd5063f4a24bc60984a7a6bdb6b",
       "version_major": 2,
       "version_minor": 0
      },
      "text/plain": [
       "Possible clusters:   0%|          | 0/1079 [00:00<?, ?it/s]"
      ]
     },
     "metadata": {},
     "output_type": "display_data"
    },
    {
     "data": {
      "application/vnd.jupyter.widget-view+json": {
       "model_id": "d312e2f227fc476d861bbc633dd42a47",
       "version_major": 2,
       "version_minor": 0
      },
      "text/plain": [
       "Possible clusters:   0%|          | 0/246 [00:00<?, ?it/s]"
      ]
     },
     "metadata": {},
     "output_type": "display_data"
    },
    {
     "data": {
      "application/vnd.jupyter.widget-view+json": {
       "model_id": "0a30b502e1674f2ca44c15fc57895a18",
       "version_major": 2,
       "version_minor": 0
      },
      "text/plain": [
       "Possible clusters:   0%|          | 0/25 [00:00<?, ?it/s]"
      ]
     },
     "metadata": {},
     "output_type": "display_data"
    },
    {
     "data": {
      "application/vnd.jupyter.widget-view+json": {
       "model_id": "803f0f4a0aca4cbfb36f7099e85adce1",
       "version_major": 2,
       "version_minor": 0
      },
      "text/plain": [
       "Possible clusters:   0%|          | 0/7525 [00:00<?, ?it/s]"
      ]
     },
     "metadata": {},
     "output_type": "display_data"
    },
    {
     "data": {
      "application/vnd.jupyter.widget-view+json": {
       "model_id": "cab0d3e61ec344b38cce5b2167aa45f4",
       "version_major": 2,
       "version_minor": 0
      },
      "text/plain": [
       "Possible clusters:   0%|          | 0/3196 [00:00<?, ?it/s]"
      ]
     },
     "metadata": {},
     "output_type": "display_data"
    },
    {
     "data": {
      "application/vnd.jupyter.widget-view+json": {
       "model_id": "3964374d14b64e3a8b47af4135539d66",
       "version_major": 2,
       "version_minor": 0
      },
      "text/plain": [
       "Possible clusters:   0%|          | 0/1079 [00:00<?, ?it/s]"
      ]
     },
     "metadata": {},
     "output_type": "display_data"
    },
    {
     "data": {
      "application/vnd.jupyter.widget-view+json": {
       "model_id": "089c13645f5440b7bd247069ebbd3857",
       "version_major": 2,
       "version_minor": 0
      },
      "text/plain": [
       "Possible clusters:   0%|          | 0/246 [00:00<?, ?it/s]"
      ]
     },
     "metadata": {},
     "output_type": "display_data"
    },
    {
     "data": {
      "application/vnd.jupyter.widget-view+json": {
       "model_id": "c4d915e9951543798170e298620ec9ff",
       "version_major": 2,
       "version_minor": 0
      },
      "text/plain": [
       "Possible clusters:   0%|          | 0/25 [00:00<?, ?it/s]"
      ]
     },
     "metadata": {},
     "output_type": "display_data"
    },
    {
     "data": {
      "application/vnd.jupyter.widget-view+json": {
       "model_id": "af7e77e62c5943fab1ec5e669eaacd90",
       "version_major": 2,
       "version_minor": 0
      },
      "text/plain": [
       "Possible clusters:   0%|          | 0/1 [00:00<?, ?it/s]"
      ]
     },
     "metadata": {},
     "output_type": "display_data"
    },
    {
     "data": {
      "application/vnd.jupyter.widget-view+json": {
       "model_id": "47b4a34d17524f8384eb085452bc7941",
       "version_major": 2,
       "version_minor": 0
      },
      "text/plain": [
       "Possible clusters:   0%|          | 0/101556 [00:00<?, ?it/s]"
      ]
     },
     "metadata": {},
     "output_type": "display_data"
    },
    {
     "data": {
      "application/vnd.jupyter.widget-view+json": {
       "model_id": "2ed8b7b78e964696ac079ca2d3cce8e7",
       "version_major": 2,
       "version_minor": 0
      },
      "text/plain": [
       "Possible clusters:   0%|          | 0/35420 [00:00<?, ?it/s]"
      ]
     },
     "metadata": {},
     "output_type": "display_data"
    },
    {
     "data": {
      "application/vnd.jupyter.widget-view+json": {
       "model_id": "38243742767f4118930b336f75a5ef4f",
       "version_major": 2,
       "version_minor": 0
      },
      "text/plain": [
       "Possible clusters:   0%|          | 0/9384 [00:00<?, ?it/s]"
      ]
     },
     "metadata": {},
     "output_type": "display_data"
    },
    {
     "data": {
      "application/vnd.jupyter.widget-view+json": {
       "model_id": "37a34d909020447186a9f292caef7a58",
       "version_major": 2,
       "version_minor": 0
      },
      "text/plain": [
       "Possible clusters:   0%|          | 0/1573 [00:00<?, ?it/s]"
      ]
     },
     "metadata": {},
     "output_type": "display_data"
    },
    {
     "data": {
      "application/vnd.jupyter.widget-view+json": {
       "model_id": "40a31fe4c5ae463dbbeea82d606700ef",
       "version_major": 2,
       "version_minor": 0
      },
      "text/plain": [
       "Possible clusters:   0%|          | 0/112 [00:00<?, ?it/s]"
      ]
     },
     "metadata": {},
     "output_type": "display_data"
    },
    {
     "data": {
      "application/vnd.jupyter.widget-view+json": {
       "model_id": "83e6b4b3d2a64e8988968d7a795b5fe7",
       "version_major": 2,
       "version_minor": 0
      },
      "text/plain": [
       "Possible clusters:   0%|          | 0/1 [00:00<?, ?it/s]"
      ]
     },
     "metadata": {},
     "output_type": "display_data"
    },
    {
     "data": {
      "application/vnd.jupyter.widget-view+json": {
       "model_id": "c4dc5f144c6c4a11985a5c40d5683731",
       "version_major": 2,
       "version_minor": 0
      },
      "text/plain": [
       "Possible clusters:   0%|          | 0/7525 [00:00<?, ?it/s]"
      ]
     },
     "metadata": {},
     "output_type": "display_data"
    },
    {
     "data": {
      "application/vnd.jupyter.widget-view+json": {
       "model_id": "6cdfe9017e95467eabe20ceab9f79ded",
       "version_major": 2,
       "version_minor": 0
      },
      "text/plain": [
       "Possible clusters:   0%|          | 0/3196 [00:00<?, ?it/s]"
      ]
     },
     "metadata": {},
     "output_type": "display_data"
    },
    {
     "data": {
      "application/vnd.jupyter.widget-view+json": {
       "model_id": "4d0b6c11c6f14c669a1a0451f86c918a",
       "version_major": 2,
       "version_minor": 0
      },
      "text/plain": [
       "Possible clusters:   0%|          | 0/1079 [00:00<?, ?it/s]"
      ]
     },
     "metadata": {},
     "output_type": "display_data"
    },
    {
     "data": {
      "application/vnd.jupyter.widget-view+json": {
       "model_id": "29796083a481419a887feaaae8494221",
       "version_major": 2,
       "version_minor": 0
      },
      "text/plain": [
       "Possible clusters:   0%|          | 0/246 [00:00<?, ?it/s]"
      ]
     },
     "metadata": {},
     "output_type": "display_data"
    },
    {
     "data": {
      "application/vnd.jupyter.widget-view+json": {
       "model_id": "a40df68eff06468fa6b6dcf505d0eff7",
       "version_major": 2,
       "version_minor": 0
      },
      "text/plain": [
       "Possible clusters:   0%|          | 0/25 [00:00<?, ?it/s]"
      ]
     },
     "metadata": {},
     "output_type": "display_data"
    },
    {
     "data": {
      "application/vnd.jupyter.widget-view+json": {
       "model_id": "9973de6a8fdb496b809a68d5ae3305b9",
       "version_major": 2,
       "version_minor": 0
      },
      "text/plain": [
       "Possible clusters:   0%|          | 0/10879 [00:00<?, ?it/s]"
      ]
     },
     "metadata": {},
     "output_type": "display_data"
    },
    {
     "data": {
      "application/vnd.jupyter.widget-view+json": {
       "model_id": "daa0379c00704afead728d03eada856f",
       "version_major": 2,
       "version_minor": 0
      },
      "text/plain": [
       "Possible clusters:   0%|          | 0/5016 [00:00<?, ?it/s]"
      ]
     },
     "metadata": {},
     "output_type": "display_data"
    },
    {
     "data": {
      "application/vnd.jupyter.widget-view+json": {
       "model_id": "1521008c44324a14b26916771601de0d",
       "version_major": 2,
       "version_minor": 0
      },
      "text/plain": [
       "Possible clusters:   0%|          | 0/1925 [00:00<?, ?it/s]"
      ]
     },
     "metadata": {},
     "output_type": "display_data"
    },
    {
     "data": {
      "application/vnd.jupyter.widget-view+json": {
       "model_id": "1452e9e7e8e749cfb5016a2438085efb",
       "version_major": 2,
       "version_minor": 0
      },
      "text/plain": [
       "Possible clusters:   0%|          | 0/550 [00:00<?, ?it/s]"
      ]
     },
     "metadata": {},
     "output_type": "display_data"
    },
    {
     "data": {
      "application/vnd.jupyter.widget-view+json": {
       "model_id": "9341b81461cc4923998e933b863412dc",
       "version_major": 2,
       "version_minor": 0
      },
      "text/plain": [
       "Possible clusters:   0%|          | 0/91 [00:00<?, ?it/s]"
      ]
     },
     "metadata": {},
     "output_type": "display_data"
    },
    {
     "data": {
      "application/vnd.jupyter.widget-view+json": {
       "model_id": "ac158edba8944f20947d71647b5063e0",
       "version_major": 2,
       "version_minor": 0
      },
      "text/plain": [
       "Possible clusters:   0%|          | 0/4 [00:00<?, ?it/s]"
      ]
     },
     "metadata": {},
     "output_type": "display_data"
    },
    {
     "data": {
      "application/vnd.jupyter.widget-view+json": {
       "model_id": "4cfdd36cd9224b8b887e95bd886e6ef7",
       "version_major": 2,
       "version_minor": 0
      },
      "text/plain": [
       "Possible clusters:   0%|          | 0/122409 [00:00<?, ?it/s]"
      ]
     },
     "metadata": {},
     "output_type": "display_data"
    },
    {
     "data": {
      "application/vnd.jupyter.widget-view+json": {
       "model_id": "3ecd98822e1645f694bbf1061016e66b",
       "version_major": 2,
       "version_minor": 0
      },
      "text/plain": [
       "Possible clusters:   0%|          | 0/44528 [00:00<?, ?it/s]"
      ]
     },
     "metadata": {},
     "output_type": "display_data"
    },
    {
     "data": {
      "application/vnd.jupyter.widget-view+json": {
       "model_id": "fc8a4970c2434bc4a718282b89e44713",
       "version_major": 2,
       "version_minor": 0
      },
      "text/plain": [
       "Possible clusters:   0%|          | 0/12597 [00:00<?, ?it/s]"
      ]
     },
     "metadata": {},
     "output_type": "display_data"
    },
    {
     "data": {
      "application/vnd.jupyter.widget-view+json": {
       "model_id": "2cce50723c094161b39dd7796d40fad8",
       "version_major": 2,
       "version_minor": 0
      },
      "text/plain": [
       "Possible clusters:   0%|          | 0/2366 [00:00<?, ?it/s]"
      ]
     },
     "metadata": {},
     "output_type": "display_data"
    },
    {
     "data": {
      "application/vnd.jupyter.widget-view+json": {
       "model_id": "8ae60743f1aa42238b8aedda63bc10be",
       "version_major": 2,
       "version_minor": 0
      },
      "text/plain": [
       "Possible clusters:   0%|          | 0/210 [00:00<?, ?it/s]"
      ]
     },
     "metadata": {},
     "output_type": "display_data"
    },
    {
     "data": {
      "application/vnd.jupyter.widget-view+json": {
       "model_id": "aadf4ba3af8b41d7b30a5353d15bc51f",
       "version_major": 2,
       "version_minor": 0
      },
      "text/plain": [
       "Possible clusters:   0%|          | 0/4 [00:00<?, ?it/s]"
      ]
     },
     "metadata": {},
     "output_type": "display_data"
    },
    {
     "data": {
      "application/vnd.jupyter.widget-view+json": {
       "model_id": "c815b3f11a7046aa87cce925d8afdbe3",
       "version_major": 2,
       "version_minor": 0
      },
      "text/plain": [
       "Possible clusters:   0%|          | 0/6175 [00:00<?, ?it/s]"
      ]
     },
     "metadata": {},
     "output_type": "display_data"
    },
    {
     "data": {
      "application/vnd.jupyter.widget-view+json": {
       "model_id": "903942a5339c4048ad86dd6f9a626a88",
       "version_major": 2,
       "version_minor": 0
      },
      "text/plain": [
       "Possible clusters:   0%|          | 0/2500 [00:00<?, ?it/s]"
      ]
     },
     "metadata": {},
     "output_type": "display_data"
    },
    {
     "data": {
      "application/vnd.jupyter.widget-view+json": {
       "model_id": "36d529279a2244d38a018fbbe7398344",
       "version_major": 2,
       "version_minor": 0
      },
      "text/plain": [
       "Possible clusters:   0%|          | 0/781 [00:00<?, ?it/s]"
      ]
     },
     "metadata": {},
     "output_type": "display_data"
    },
    {
     "data": {
      "application/vnd.jupyter.widget-view+json": {
       "model_id": "d56998a0e7cd401998b49c40f5ee3e91",
       "version_major": 2,
       "version_minor": 0
      },
      "text/plain": [
       "Possible clusters:   0%|          | 0/154 [00:00<?, ?it/s]"
      ]
     },
     "metadata": {},
     "output_type": "display_data"
    },
    {
     "data": {
      "application/vnd.jupyter.widget-view+json": {
       "model_id": "80c8953829154146a58374a065998ed2",
       "version_major": 2,
       "version_minor": 0
      },
      "text/plain": [
       "Possible clusters:   0%|          | 0/11 [00:00<?, ?it/s]"
      ]
     },
     "metadata": {},
     "output_type": "display_data"
    },
    {
     "data": {
      "application/vnd.jupyter.widget-view+json": {
       "model_id": "a4bfe2431eca4b0ba8f3794756814791",
       "version_major": 2,
       "version_minor": 0
      },
      "text/plain": [
       "Possible clusters:   0%|          | 0/1 [00:00<?, ?it/s]"
      ]
     },
     "metadata": {},
     "output_type": "display_data"
    },
    {
     "data": {
      "application/vnd.jupyter.widget-view+json": {
       "model_id": "a957b1aafeb24690b0167323f8303511",
       "version_major": 2,
       "version_minor": 0
      },
      "text/plain": [
       "Possible clusters:   0%|          | 0/101556 [00:00<?, ?it/s]"
      ]
     },
     "metadata": {},
     "output_type": "display_data"
    },
    {
     "data": {
      "application/vnd.jupyter.widget-view+json": {
       "model_id": "daf13e36f5a94d8d98aa867d08773427",
       "version_major": 2,
       "version_minor": 0
      },
      "text/plain": [
       "Possible clusters:   0%|          | 0/35420 [00:00<?, ?it/s]"
      ]
     },
     "metadata": {},
     "output_type": "display_data"
    },
    {
     "data": {
      "application/vnd.jupyter.widget-view+json": {
       "model_id": "2d9f50a3dc994d7f9ef6d2b442374e6f",
       "version_major": 2,
       "version_minor": 0
      },
      "text/plain": [
       "Possible clusters:   0%|          | 0/9384 [00:00<?, ?it/s]"
      ]
     },
     "metadata": {},
     "output_type": "display_data"
    },
    {
     "data": {
      "application/vnd.jupyter.widget-view+json": {
       "model_id": "b8bf747c36304969b749d6f684c7d5b2",
       "version_major": 2,
       "version_minor": 0
      },
      "text/plain": [
       "Possible clusters:   0%|          | 0/1573 [00:00<?, ?it/s]"
      ]
     },
     "metadata": {},
     "output_type": "display_data"
    },
    {
     "data": {
      "application/vnd.jupyter.widget-view+json": {
       "model_id": "384d12833b0f4bd3babb7470c5b60323",
       "version_major": 2,
       "version_minor": 0
      },
      "text/plain": [
       "Possible clusters:   0%|          | 0/112 [00:00<?, ?it/s]"
      ]
     },
     "metadata": {},
     "output_type": "display_data"
    },
    {
     "data": {
      "application/vnd.jupyter.widget-view+json": {
       "model_id": "ad2e5e47a6d448b0ab5f9f24838e85f0",
       "version_major": 2,
       "version_minor": 0
      },
      "text/plain": [
       "Possible clusters:   0%|          | 0/1 [00:00<?, ?it/s]"
      ]
     },
     "metadata": {},
     "output_type": "display_data"
    },
    {
     "data": {
      "application/vnd.jupyter.widget-view+json": {
       "model_id": "3245da9f3b804dd2becc4e39849d3f28",
       "version_major": 2,
       "version_minor": 0
      },
      "text/plain": [
       "Possible clusters:   0%|          | 0/10879 [00:00<?, ?it/s]"
      ]
     },
     "metadata": {},
     "output_type": "display_data"
    },
    {
     "data": {
      "application/vnd.jupyter.widget-view+json": {
       "model_id": "763c473f67e94517a0ed915061502288",
       "version_major": 2,
       "version_minor": 0
      },
      "text/plain": [
       "Possible clusters:   0%|          | 0/5016 [00:00<?, ?it/s]"
      ]
     },
     "metadata": {},
     "output_type": "display_data"
    },
    {
     "data": {
      "application/vnd.jupyter.widget-view+json": {
       "model_id": "6b8d97aa12164ebcb1ef9dd62df8852e",
       "version_major": 2,
       "version_minor": 0
      },
      "text/plain": [
       "Possible clusters:   0%|          | 0/1925 [00:00<?, ?it/s]"
      ]
     },
     "metadata": {},
     "output_type": "display_data"
    },
    {
     "data": {
      "application/vnd.jupyter.widget-view+json": {
       "model_id": "f7853ec5cd4f4588a29efa2d92aaba91",
       "version_major": 2,
       "version_minor": 0
      },
      "text/plain": [
       "Possible clusters:   0%|          | 0/550 [00:00<?, ?it/s]"
      ]
     },
     "metadata": {},
     "output_type": "display_data"
    },
    {
     "data": {
      "application/vnd.jupyter.widget-view+json": {
       "model_id": "4f668f497e2b4a10bb6f73f72184aa5b",
       "version_major": 2,
       "version_minor": 0
      },
      "text/plain": [
       "Possible clusters:   0%|          | 0/91 [00:00<?, ?it/s]"
      ]
     },
     "metadata": {},
     "output_type": "display_data"
    },
    {
     "data": {
      "application/vnd.jupyter.widget-view+json": {
       "model_id": "1f90c94e9d3a4985b8488cafb4108146",
       "version_major": 2,
       "version_minor": 0
      },
      "text/plain": [
       "Possible clusters:   0%|          | 0/4 [00:00<?, ?it/s]"
      ]
     },
     "metadata": {},
     "output_type": "display_data"
    },
    {
     "data": {
      "application/vnd.jupyter.widget-view+json": {
       "model_id": "5ec6b00c78b94f1ab70721da0e38f6b4",
       "version_major": 2,
       "version_minor": 0
      },
      "text/plain": [
       "Possible clusters:   0%|          | 0/4029 [00:00<?, ?it/s]"
      ]
     },
     "metadata": {},
     "output_type": "display_data"
    },
    {
     "data": {
      "application/vnd.jupyter.widget-view+json": {
       "model_id": "8f0bc82aac234eea8cc521b2acab35cd",
       "version_major": 2,
       "version_minor": 0
      },
      "text/plain": [
       "Possible clusters:   0%|          | 0/1456 [00:00<?, ?it/s]"
      ]
     },
     "metadata": {},
     "output_type": "display_data"
    },
    {
     "data": {
      "application/vnd.jupyter.widget-view+json": {
       "model_id": "76e8bdf793f9469fbdd9a58ab0481539",
       "version_major": 2,
       "version_minor": 0
      },
      "text/plain": [
       "Possible clusters:   0%|          | 0/375 [00:00<?, ?it/s]"
      ]
     },
     "metadata": {},
     "output_type": "display_data"
    },
    {
     "data": {
      "application/vnd.jupyter.widget-view+json": {
       "model_id": "e1859ce5dbda4c9891713ebd609a2263",
       "version_major": 2,
       "version_minor": 0
      },
      "text/plain": [
       "Possible clusters:   0%|          | 0/50 [00:00<?, ?it/s]"
      ]
     },
     "metadata": {},
     "output_type": "display_data"
    },
    {
     "data": {
      "application/vnd.jupyter.widget-view+json": {
       "model_id": "b3bdf0281aa8462086b5ef790a015277",
       "version_major": 2,
       "version_minor": 0
      },
      "text/plain": [
       "Possible clusters:   0%|          | 0/1 [00:00<?, ?it/s]"
      ]
     },
     "metadata": {},
     "output_type": "display_data"
    },
    {
     "data": {
      "application/vnd.jupyter.widget-view+json": {
       "model_id": "b75bbf5094cb40598364259690fad409",
       "version_major": 2,
       "version_minor": 0
      },
      "text/plain": [
       "Possible clusters:   0%|          | 0/122409 [00:00<?, ?it/s]"
      ]
     },
     "metadata": {},
     "output_type": "display_data"
    },
    {
     "data": {
      "application/vnd.jupyter.widget-view+json": {
       "model_id": "6c4d73ee531c44e0b94960a83b93b7ff",
       "version_major": 2,
       "version_minor": 0
      },
      "text/plain": [
       "Possible clusters:   0%|          | 0/44528 [00:00<?, ?it/s]"
      ]
     },
     "metadata": {},
     "output_type": "display_data"
    },
    {
     "data": {
      "application/vnd.jupyter.widget-view+json": {
       "model_id": "b1ef4db611744d32ac28f6fcc1cddf66",
       "version_major": 2,
       "version_minor": 0
      },
      "text/plain": [
       "Possible clusters:   0%|          | 0/12597 [00:00<?, ?it/s]"
      ]
     },
     "metadata": {},
     "output_type": "display_data"
    },
    {
     "data": {
      "application/vnd.jupyter.widget-view+json": {
       "model_id": "034652a4bfe84320b0140f73ea7c2a3b",
       "version_major": 2,
       "version_minor": 0
      },
      "text/plain": [
       "Possible clusters:   0%|          | 0/2366 [00:00<?, ?it/s]"
      ]
     },
     "metadata": {},
     "output_type": "display_data"
    },
    {
     "data": {
      "application/vnd.jupyter.widget-view+json": {
       "model_id": "d5bc82c1c0704ef9ae3b9dd4073a582a",
       "version_major": 2,
       "version_minor": 0
      },
      "text/plain": [
       "Possible clusters:   0%|          | 0/210 [00:00<?, ?it/s]"
      ]
     },
     "metadata": {},
     "output_type": "display_data"
    },
    {
     "data": {
      "application/vnd.jupyter.widget-view+json": {
       "model_id": "24e94aabeb6f4a3b88b40a8ffb7832b6",
       "version_major": 2,
       "version_minor": 0
      },
      "text/plain": [
       "Possible clusters:   0%|          | 0/4 [00:00<?, ?it/s]"
      ]
     },
     "metadata": {},
     "output_type": "display_data"
    },
    {
     "data": {
      "application/vnd.jupyter.widget-view+json": {
       "model_id": "64c863afa1d74df79f1cdc65704a0438",
       "version_major": 2,
       "version_minor": 0
      },
      "text/plain": [
       "Possible clusters:   0%|          | 0/9086 [00:00<?, ?it/s]"
      ]
     },
     "metadata": {},
     "output_type": "display_data"
    },
    {
     "data": {
      "application/vnd.jupyter.widget-view+json": {
       "model_id": "b88ca6a826ca4c47b8d5d604d75ab321",
       "version_major": 2,
       "version_minor": 0
      },
      "text/plain": [
       "Possible clusters:   0%|          | 0/4029 [00:00<?, ?it/s]"
      ]
     },
     "metadata": {},
     "output_type": "display_data"
    },
    {
     "data": {
      "application/vnd.jupyter.widget-view+json": {
       "model_id": "6a148b85eb3042968cc9ec461521fb2f",
       "version_major": 2,
       "version_minor": 0
      },
      "text/plain": [
       "Possible clusters:   0%|          | 0/1456 [00:00<?, ?it/s]"
      ]
     },
     "metadata": {},
     "output_type": "display_data"
    },
    {
     "data": {
      "application/vnd.jupyter.widget-view+json": {
       "model_id": "fbe0ae1db0f14a798653de519c3c782f",
       "version_major": 2,
       "version_minor": 0
      },
      "text/plain": [
       "Possible clusters:   0%|          | 0/781 [00:00<?, ?it/s]"
      ]
     },
     "metadata": {},
     "output_type": "display_data"
    },
    {
     "data": {
      "application/vnd.jupyter.widget-view+json": {
       "model_id": "133ab86e530c478bbfd73ac56ca29287",
       "version_major": 2,
       "version_minor": 0
      },
      "text/plain": [
       "Possible clusters:   0%|          | 0/154 [00:00<?, ?it/s]"
      ]
     },
     "metadata": {},
     "output_type": "display_data"
    },
    {
     "data": {
      "application/vnd.jupyter.widget-view+json": {
       "model_id": "3208cc3201a14a91a8109919de8b2fe7",
       "version_major": 2,
       "version_minor": 0
      },
      "text/plain": [
       "Possible clusters:   0%|          | 0/11 [00:00<?, ?it/s]"
      ]
     },
     "metadata": {},
     "output_type": "display_data"
    },
    {
     "data": {
      "application/vnd.jupyter.widget-view+json": {
       "model_id": "0ba49d86a379408e9ce19e7c3909d544",
       "version_major": 2,
       "version_minor": 0
      },
      "text/plain": [
       "Possible clusters:   0%|          | 0/1 [00:00<?, ?it/s]"
      ]
     },
     "metadata": {},
     "output_type": "display_data"
    },
    {
     "data": {
      "application/vnd.jupyter.widget-view+json": {
       "model_id": "4d6ea933da4642e48179208a508b4fa8",
       "version_major": 2,
       "version_minor": 0
      },
      "text/plain": [
       "Possible clusters:   0%|          | 0/5016 [00:00<?, ?it/s]"
      ]
     },
     "metadata": {},
     "output_type": "display_data"
    },
    {
     "data": {
      "application/vnd.jupyter.widget-view+json": {
       "model_id": "32beedcba04943a8bb175d54f97ba3bc",
       "version_major": 2,
       "version_minor": 0
      },
      "text/plain": [
       "Possible clusters:   0%|          | 0/1925 [00:00<?, ?it/s]"
      ]
     },
     "metadata": {},
     "output_type": "display_data"
    },
    {
     "data": {
      "application/vnd.jupyter.widget-view+json": {
       "model_id": "f45355fe657a495c8148f1a2e4d77bbe",
       "version_major": 2,
       "version_minor": 0
      },
      "text/plain": [
       "Possible clusters:   0%|          | 0/550 [00:00<?, ?it/s]"
      ]
     },
     "metadata": {},
     "output_type": "display_data"
    },
    {
     "data": {
      "application/vnd.jupyter.widget-view+json": {
       "model_id": "86174a9e096648ffaca34337b6303615",
       "version_major": 2,
       "version_minor": 0
      },
      "text/plain": [
       "Possible clusters:   0%|          | 0/91 [00:00<?, ?it/s]"
      ]
     },
     "metadata": {},
     "output_type": "display_data"
    },
    {
     "data": {
      "application/vnd.jupyter.widget-view+json": {
       "model_id": "982cdace40654718b654957dcbf53c94",
       "version_major": 2,
       "version_minor": 0
      },
      "text/plain": [
       "Possible clusters:   0%|          | 0/4 [00:00<?, ?it/s]"
      ]
     },
     "metadata": {},
     "output_type": "display_data"
    },
    {
     "data": {
      "application/vnd.jupyter.widget-view+json": {
       "model_id": "0fd162fcd79243fb9e63fcc02f135d8e",
       "version_major": 2,
       "version_minor": 0
      },
      "text/plain": [
       "Possible clusters:   0%|          | 0/7525 [00:00<?, ?it/s]"
      ]
     },
     "metadata": {},
     "output_type": "display_data"
    },
    {
     "data": {
      "application/vnd.jupyter.widget-view+json": {
       "model_id": "5a1c98592b2e41d2ab8dbd3763250ca0",
       "version_major": 2,
       "version_minor": 0
      },
      "text/plain": [
       "Possible clusters:   0%|          | 0/3196 [00:00<?, ?it/s]"
      ]
     },
     "metadata": {},
     "output_type": "display_data"
    },
    {
     "data": {
      "application/vnd.jupyter.widget-view+json": {
       "model_id": "2d6d74ec248844ffa44018a7b58b5599",
       "version_major": 2,
       "version_minor": 0
      },
      "text/plain": [
       "Possible clusters:   0%|          | 0/1079 [00:00<?, ?it/s]"
      ]
     },
     "metadata": {},
     "output_type": "display_data"
    },
    {
     "data": {
      "application/vnd.jupyter.widget-view+json": {
       "model_id": "2e4e98f5818a45fca3a547771dd9dea5",
       "version_major": 2,
       "version_minor": 0
      },
      "text/plain": [
       "Possible clusters:   0%|          | 0/246 [00:00<?, ?it/s]"
      ]
     },
     "metadata": {},
     "output_type": "display_data"
    },
    {
     "data": {
      "application/vnd.jupyter.widget-view+json": {
       "model_id": "f6af9ae5ec0242a3a6bca055e24ea7c4",
       "version_major": 2,
       "version_minor": 0
      },
      "text/plain": [
       "Possible clusters:   0%|          | 0/25 [00:00<?, ?it/s]"
      ]
     },
     "metadata": {},
     "output_type": "display_data"
    },
    {
     "data": {
      "application/vnd.jupyter.widget-view+json": {
       "model_id": "50eb87e17b6b4d67a9c7a8d43c5bb730",
       "version_major": 2,
       "version_minor": 0
      },
      "text/plain": [
       "Possible clusters:   0%|          | 0/4029 [00:00<?, ?it/s]"
      ]
     },
     "metadata": {},
     "output_type": "display_data"
    },
    {
     "data": {
      "application/vnd.jupyter.widget-view+json": {
       "model_id": "1dd14dedbf0d4b3889d928f5523f15f5",
       "version_major": 2,
       "version_minor": 0
      },
      "text/plain": [
       "Possible clusters:   0%|          | 0/1456 [00:00<?, ?it/s]"
      ]
     },
     "metadata": {},
     "output_type": "display_data"
    },
    {
     "data": {
      "application/vnd.jupyter.widget-view+json": {
       "model_id": "8bce9f0c13054824ae33c81e4f4ecae2",
       "version_major": 2,
       "version_minor": 0
      },
      "text/plain": [
       "Possible clusters:   0%|          | 0/375 [00:00<?, ?it/s]"
      ]
     },
     "metadata": {},
     "output_type": "display_data"
    },
    {
     "data": {
      "application/vnd.jupyter.widget-view+json": {
       "model_id": "dae1df1e0cf343baa4513598d87b4713",
       "version_major": 2,
       "version_minor": 0
      },
      "text/plain": [
       "Possible clusters:   0%|          | 0/50 [00:00<?, ?it/s]"
      ]
     },
     "metadata": {},
     "output_type": "display_data"
    },
    {
     "data": {
      "application/vnd.jupyter.widget-view+json": {
       "model_id": "003ba9d8e3754d448c38dec81ac32fcc",
       "version_major": 2,
       "version_minor": 0
      },
      "text/plain": [
       "Possible clusters:   0%|          | 0/1 [00:00<?, ?it/s]"
      ]
     },
     "metadata": {},
     "output_type": "display_data"
    },
    {
     "data": {
      "application/vnd.jupyter.widget-view+json": {
       "model_id": "37c87aea93bb40d38465379d9a1ea7e6",
       "version_major": 2,
       "version_minor": 0
      },
      "text/plain": [
       "Possible clusters:   0%|          | 0/4029 [00:00<?, ?it/s]"
      ]
     },
     "metadata": {},
     "output_type": "display_data"
    },
    {
     "data": {
      "application/vnd.jupyter.widget-view+json": {
       "model_id": "948989853e9744f488a2cff687739664",
       "version_major": 2,
       "version_minor": 0
      },
      "text/plain": [
       "Possible clusters:   0%|          | 0/1456 [00:00<?, ?it/s]"
      ]
     },
     "metadata": {},
     "output_type": "display_data"
    },
    {
     "data": {
      "application/vnd.jupyter.widget-view+json": {
       "model_id": "5059290aa23f4139ba27f7cb3391844e",
       "version_major": 2,
       "version_minor": 0
      },
      "text/plain": [
       "Possible clusters:   0%|          | 0/375 [00:00<?, ?it/s]"
      ]
     },
     "metadata": {},
     "output_type": "display_data"
    },
    {
     "data": {
      "application/vnd.jupyter.widget-view+json": {
       "model_id": "93ea140f3588441c95ef884112fb83a6",
       "version_major": 2,
       "version_minor": 0
      },
      "text/plain": [
       "Possible clusters:   0%|          | 0/50 [00:00<?, ?it/s]"
      ]
     },
     "metadata": {},
     "output_type": "display_data"
    },
    {
     "data": {
      "application/vnd.jupyter.widget-view+json": {
       "model_id": "811a9beea6ae4a358379994d5857c40d",
       "version_major": 2,
       "version_minor": 0
      },
      "text/plain": [
       "Possible clusters:   0%|          | 0/1 [00:00<?, ?it/s]"
      ]
     },
     "metadata": {},
     "output_type": "display_data"
    },
    {
     "data": {
      "application/vnd.jupyter.widget-view+json": {
       "model_id": "d0448db7651e445d9a6d77d526c29e67",
       "version_major": 2,
       "version_minor": 0
      },
      "text/plain": [
       "Possible clusters:   0%|          | 0/7525 [00:00<?, ?it/s]"
      ]
     },
     "metadata": {},
     "output_type": "display_data"
    },
    {
     "data": {
      "application/vnd.jupyter.widget-view+json": {
       "model_id": "908bec314d1a4788b9750be423c9308e",
       "version_major": 2,
       "version_minor": 0
      },
      "text/plain": [
       "Possible clusters:   0%|          | 0/3196 [00:00<?, ?it/s]"
      ]
     },
     "metadata": {},
     "output_type": "display_data"
    },
    {
     "data": {
      "application/vnd.jupyter.widget-view+json": {
       "model_id": "1c83a8ab2ae3409591a9bcf9594f25c8",
       "version_major": 2,
       "version_minor": 0
      },
      "text/plain": [
       "Possible clusters:   0%|          | 0/1079 [00:00<?, ?it/s]"
      ]
     },
     "metadata": {},
     "output_type": "display_data"
    },
    {
     "data": {
      "application/vnd.jupyter.widget-view+json": {
       "model_id": "f2092f44842341cb8bb3680fcbcb8f59",
       "version_major": 2,
       "version_minor": 0
      },
      "text/plain": [
       "Possible clusters:   0%|          | 0/246 [00:00<?, ?it/s]"
      ]
     },
     "metadata": {},
     "output_type": "display_data"
    },
    {
     "data": {
      "application/vnd.jupyter.widget-view+json": {
       "model_id": "1ed81282666547db97fffb6908f3e462",
       "version_major": 2,
       "version_minor": 0
      },
      "text/plain": [
       "Possible clusters:   0%|          | 0/25 [00:00<?, ?it/s]"
      ]
     },
     "metadata": {},
     "output_type": "display_data"
    },
    {
     "data": {
      "application/vnd.jupyter.widget-view+json": {
       "model_id": "97df15ac08624d76ac449f769983a16f",
       "version_major": 2,
       "version_minor": 0
      },
      "text/plain": [
       "Possible clusters:   0%|          | 0/6175 [00:00<?, ?it/s]"
      ]
     },
     "metadata": {},
     "output_type": "display_data"
    },
    {
     "data": {
      "application/vnd.jupyter.widget-view+json": {
       "model_id": "860b140a6a8e47efa9aeff5f917d2ba3",
       "version_major": 2,
       "version_minor": 0
      },
      "text/plain": [
       "Possible clusters:   0%|          | 0/2500 [00:00<?, ?it/s]"
      ]
     },
     "metadata": {},
     "output_type": "display_data"
    },
    {
     "data": {
      "application/vnd.jupyter.widget-view+json": {
       "model_id": "872356d26ebe4ef68c85341d74fe78a0",
       "version_major": 2,
       "version_minor": 0
      },
      "text/plain": [
       "Possible clusters:   0%|          | 0/781 [00:00<?, ?it/s]"
      ]
     },
     "metadata": {},
     "output_type": "display_data"
    },
    {
     "data": {
      "application/vnd.jupyter.widget-view+json": {
       "model_id": "804c751ee32a4566ba2e68b0b833a7ec",
       "version_major": 2,
       "version_minor": 0
      },
      "text/plain": [
       "Possible clusters:   0%|          | 0/154 [00:00<?, ?it/s]"
      ]
     },
     "metadata": {},
     "output_type": "display_data"
    },
    {
     "data": {
      "application/vnd.jupyter.widget-view+json": {
       "model_id": "8d09e2b664af4edf9c34028330d896ca",
       "version_major": 2,
       "version_minor": 0
      },
      "text/plain": [
       "Possible clusters:   0%|          | 0/11 [00:00<?, ?it/s]"
      ]
     },
     "metadata": {},
     "output_type": "display_data"
    },
    {
     "data": {
      "application/vnd.jupyter.widget-view+json": {
       "model_id": "9198706774394e45ad88bff8b38552d8",
       "version_major": 2,
       "version_minor": 0
      },
      "text/plain": [
       "Possible clusters:   0%|          | 0/68380 [00:00<?, ?it/s]"
      ]
     },
     "metadata": {},
     "output_type": "display_data"
    },
    {
     "data": {
      "application/vnd.jupyter.widget-view+json": {
       "model_id": "326b17ddc5904d8a899ef1091c3c6362",
       "version_major": 2,
       "version_minor": 0
      },
      "text/plain": [
       "Possible clusters:   0%|          | 0/21679 [00:00<?, ?it/s]"
      ]
     },
     "metadata": {},
     "output_type": "display_data"
    },
    {
     "data": {
      "application/vnd.jupyter.widget-view+json": {
       "model_id": "2bc0993c8434485a8ba6790b5017bc8d",
       "version_major": 2,
       "version_minor": 0
      },
      "text/plain": [
       "Possible clusters:   0%|          | 0/4928 [00:00<?, ?it/s]"
      ]
     },
     "metadata": {},
     "output_type": "display_data"
    },
    {
     "data": {
      "application/vnd.jupyter.widget-view+json": {
       "model_id": "06616d213263494d9f99638b7f2b5e4d",
       "version_major": 2,
       "version_minor": 0
      },
      "text/plain": [
       "Possible clusters:   0%|          | 0/627 [00:00<?, ?it/s]"
      ]
     },
     "metadata": {},
     "output_type": "display_data"
    },
    {
     "data": {
      "application/vnd.jupyter.widget-view+json": {
       "model_id": "4c45779308f24eeda76546f3b559f4cb",
       "version_major": 2,
       "version_minor": 0
      },
      "text/plain": [
       "Possible clusters:   0%|          | 0/26 [00:00<?, ?it/s]"
      ]
     },
     "metadata": {},
     "output_type": "display_data"
    },
    {
     "data": {
      "application/vnd.jupyter.widget-view+json": {
       "model_id": "31224ffe917842fa9319829768e5137f",
       "version_major": 2,
       "version_minor": 0
      },
      "text/plain": [
       "Possible clusters:   0%|          | 0/6175 [00:00<?, ?it/s]"
      ]
     },
     "metadata": {},
     "output_type": "display_data"
    },
    {
     "data": {
      "application/vnd.jupyter.widget-view+json": {
       "model_id": "144e70d688fe4c659b5347fb8f08d779",
       "version_major": 2,
       "version_minor": 0
      },
      "text/plain": [
       "Possible clusters:   0%|          | 0/2500 [00:00<?, ?it/s]"
      ]
     },
     "metadata": {},
     "output_type": "display_data"
    },
    {
     "data": {
      "application/vnd.jupyter.widget-view+json": {
       "model_id": "2862952b98f144e79c57f23fec950691",
       "version_major": 2,
       "version_minor": 0
      },
      "text/plain": [
       "Possible clusters:   0%|          | 0/781 [00:00<?, ?it/s]"
      ]
     },
     "metadata": {},
     "output_type": "display_data"
    },
    {
     "data": {
      "application/vnd.jupyter.widget-view+json": {
       "model_id": "84f55a715ea14d59bb43751ff43de6ba",
       "version_major": 2,
       "version_minor": 0
      },
      "text/plain": [
       "Possible clusters:   0%|          | 0/154 [00:00<?, ?it/s]"
      ]
     },
     "metadata": {},
     "output_type": "display_data"
    },
    {
     "data": {
      "application/vnd.jupyter.widget-view+json": {
       "model_id": "3adc050fdc6540c1aad682525a49fc34",
       "version_major": 2,
       "version_minor": 0
      },
      "text/plain": [
       "Possible clusters:   0%|          | 0/11 [00:00<?, ?it/s]"
      ]
     },
     "metadata": {},
     "output_type": "display_data"
    },
    {
     "data": {
      "application/vnd.jupyter.widget-view+json": {
       "model_id": "4370b4efb29f4116b4a67d8e55682142",
       "version_major": 2,
       "version_minor": 0
      },
      "text/plain": [
       "Possible clusters:   0%|          | 0/1 [00:00<?, ?it/s]"
      ]
     },
     "metadata": {},
     "output_type": "display_data"
    },
    {
     "data": {
      "application/vnd.jupyter.widget-view+json": {
       "model_id": "78c7fff8bcd545ff800122f4599a3987",
       "version_major": 2,
       "version_minor": 0
      },
      "text/plain": [
       "Possible clusters:   0%|          | 0/9086 [00:00<?, ?it/s]"
      ]
     },
     "metadata": {},
     "output_type": "display_data"
    },
    {
     "data": {
      "application/vnd.jupyter.widget-view+json": {
       "model_id": "a16228db51654177b01121cd64200845",
       "version_major": 2,
       "version_minor": 0
      },
      "text/plain": [
       "Possible clusters:   0%|          | 0/4029 [00:00<?, ?it/s]"
      ]
     },
     "metadata": {},
     "output_type": "display_data"
    },
    {
     "data": {
      "application/vnd.jupyter.widget-view+json": {
       "model_id": "e3ce95f3e5c84088a621ff2c2e50041f",
       "version_major": 2,
       "version_minor": 0
      },
      "text/plain": [
       "Possible clusters:   0%|          | 0/1456 [00:00<?, ?it/s]"
      ]
     },
     "metadata": {},
     "output_type": "display_data"
    },
    {
     "data": {
      "application/vnd.jupyter.widget-view+json": {
       "model_id": "7a5fa1254046424b980a5c306b0ce231",
       "version_major": 2,
       "version_minor": 0
      },
      "text/plain": [
       "Possible clusters:   0%|          | 0/375 [00:00<?, ?it/s]"
      ]
     },
     "metadata": {},
     "output_type": "display_data"
    },
    {
     "data": {
      "application/vnd.jupyter.widget-view+json": {
       "model_id": "239b40c1a0f140818a65c141c2c9997d",
       "version_major": 2,
       "version_minor": 0
      },
      "text/plain": [
       "Possible clusters:   0%|          | 0/50 [00:00<?, ?it/s]"
      ]
     },
     "metadata": {},
     "output_type": "display_data"
    },
    {
     "data": {
      "application/vnd.jupyter.widget-view+json": {
       "model_id": "1f0e6841e97c4550833607111b6ceb73",
       "version_major": 2,
       "version_minor": 0
      },
      "text/plain": [
       "Possible clusters:   0%|          | 0/1 [00:00<?, ?it/s]"
      ]
     },
     "metadata": {},
     "output_type": "display_data"
    },
    {
     "data": {
      "application/vnd.jupyter.widget-view+json": {
       "model_id": "2b578ee79ed745cf99efdc41994fbbe8",
       "version_major": 2,
       "version_minor": 0
      },
      "text/plain": [
       "Possible clusters:   0%|          | 0/4029 [00:00<?, ?it/s]"
      ]
     },
     "metadata": {},
     "output_type": "display_data"
    },
    {
     "data": {
      "application/vnd.jupyter.widget-view+json": {
       "model_id": "66578d60cf9d4d719da2505efef65c09",
       "version_major": 2,
       "version_minor": 0
      },
      "text/plain": [
       "Possible clusters:   0%|          | 0/1456 [00:00<?, ?it/s]"
      ]
     },
     "metadata": {},
     "output_type": "display_data"
    },
    {
     "data": {
      "application/vnd.jupyter.widget-view+json": {
       "model_id": "04c64870d8164e9d9736d4cc788eea7e",
       "version_major": 2,
       "version_minor": 0
      },
      "text/plain": [
       "Possible clusters:   0%|          | 0/375 [00:00<?, ?it/s]"
      ]
     },
     "metadata": {},
     "output_type": "display_data"
    },
    {
     "data": {
      "application/vnd.jupyter.widget-view+json": {
       "model_id": "96c269f0694c409098cc0dffa4fb002d",
       "version_major": 2,
       "version_minor": 0
      },
      "text/plain": [
       "Possible clusters:   0%|          | 0/50 [00:00<?, ?it/s]"
      ]
     },
     "metadata": {},
     "output_type": "display_data"
    },
    {
     "data": {
      "application/vnd.jupyter.widget-view+json": {
       "model_id": "8d10942e402f497dbeffaab9ef55244c",
       "version_major": 2,
       "version_minor": 0
      },
      "text/plain": [
       "Possible clusters:   0%|          | 0/1 [00:00<?, ?it/s]"
      ]
     },
     "metadata": {},
     "output_type": "display_data"
    },
    {
     "data": {
      "application/vnd.jupyter.widget-view+json": {
       "model_id": "b1fea18d9d30456bb10723a55cb3ae25",
       "version_major": 2,
       "version_minor": 0
      },
      "text/plain": [
       "Possible clusters:   0%|          | 0/9086 [00:00<?, ?it/s]"
      ]
     },
     "metadata": {},
     "output_type": "display_data"
    },
    {
     "data": {
      "application/vnd.jupyter.widget-view+json": {
       "model_id": "e402e611474f44e0b6b6216ef08232e5",
       "version_major": 2,
       "version_minor": 0
      },
      "text/plain": [
       "Possible clusters:   0%|          | 0/4029 [00:00<?, ?it/s]"
      ]
     },
     "metadata": {},
     "output_type": "display_data"
    },
    {
     "data": {
      "application/vnd.jupyter.widget-view+json": {
       "model_id": "89f258247a14406b8d5709cafc8cecef",
       "version_major": 2,
       "version_minor": 0
      },
      "text/plain": [
       "Possible clusters:   0%|          | 0/1456 [00:00<?, ?it/s]"
      ]
     },
     "metadata": {},
     "output_type": "display_data"
    },
    {
     "data": {
      "application/vnd.jupyter.widget-view+json": {
       "model_id": "8bd5b434dc314f558f96b5c623fc8b70",
       "version_major": 2,
       "version_minor": 0
      },
      "text/plain": [
       "Possible clusters:   0%|          | 0/375 [00:00<?, ?it/s]"
      ]
     },
     "metadata": {},
     "output_type": "display_data"
    },
    {
     "data": {
      "application/vnd.jupyter.widget-view+json": {
       "model_id": "335edb8ee4c54256805ae0c1f1287628",
       "version_major": 2,
       "version_minor": 0
      },
      "text/plain": [
       "Possible clusters:   0%|          | 0/50 [00:00<?, ?it/s]"
      ]
     },
     "metadata": {},
     "output_type": "display_data"
    },
    {
     "data": {
      "application/vnd.jupyter.widget-view+json": {
       "model_id": "7def9ab7058746d593677c62a2296017",
       "version_major": 2,
       "version_minor": 0
      },
      "text/plain": [
       "Possible clusters:   0%|          | 0/4 [00:00<?, ?it/s]"
      ]
     },
     "metadata": {},
     "output_type": "display_data"
    },
    {
     "data": {
      "application/vnd.jupyter.widget-view+json": {
       "model_id": "7792370be7474a46bf41894257f8d79a",
       "version_major": 2,
       "version_minor": 0
      },
      "text/plain": [
       "Possible clusters:   0%|          | 0/4029 [00:00<?, ?it/s]"
      ]
     },
     "metadata": {},
     "output_type": "display_data"
    },
    {
     "data": {
      "application/vnd.jupyter.widget-view+json": {
       "model_id": "1d10978b76c7449e9dcc31e531340f99",
       "version_major": 2,
       "version_minor": 0
      },
      "text/plain": [
       "Possible clusters:   0%|          | 0/1456 [00:00<?, ?it/s]"
      ]
     },
     "metadata": {},
     "output_type": "display_data"
    },
    {
     "data": {
      "application/vnd.jupyter.widget-view+json": {
       "model_id": "4dfe651a8c2743ef80e22f75c591a677",
       "version_major": 2,
       "version_minor": 0
      },
      "text/plain": [
       "Possible clusters:   0%|          | 0/375 [00:00<?, ?it/s]"
      ]
     },
     "metadata": {},
     "output_type": "display_data"
    },
    {
     "data": {
      "application/vnd.jupyter.widget-view+json": {
       "model_id": "f223ce9613db42bf813741738350a748",
       "version_major": 2,
       "version_minor": 0
      },
      "text/plain": [
       "Possible clusters:   0%|          | 0/50 [00:00<?, ?it/s]"
      ]
     },
     "metadata": {},
     "output_type": "display_data"
    },
    {
     "data": {
      "application/vnd.jupyter.widget-view+json": {
       "model_id": "54a3f29171b6423f8e9be8dde1179d00",
       "version_major": 2,
       "version_minor": 0
      },
      "text/plain": [
       "Possible clusters:   0%|          | 0/1 [00:00<?, ?it/s]"
      ]
     },
     "metadata": {},
     "output_type": "display_data"
    },
    {
     "data": {
      "application/vnd.jupyter.widget-view+json": {
       "model_id": "19af6e6b19114964b43b12b9dafda1e5",
       "version_major": 2,
       "version_minor": 0
      },
      "text/plain": [
       "Possible clusters:   0%|          | 0/7525 [00:00<?, ?it/s]"
      ]
     },
     "metadata": {},
     "output_type": "display_data"
    },
    {
     "data": {
      "application/vnd.jupyter.widget-view+json": {
       "model_id": "127fe4a6f5c948ad8897a215d5301958",
       "version_major": 2,
       "version_minor": 0
      },
      "text/plain": [
       "Possible clusters:   0%|          | 0/3196 [00:00<?, ?it/s]"
      ]
     },
     "metadata": {},
     "output_type": "display_data"
    },
    {
     "data": {
      "application/vnd.jupyter.widget-view+json": {
       "model_id": "abe177ac8c564f6cb4cc5743d84da520",
       "version_major": 2,
       "version_minor": 0
      },
      "text/plain": [
       "Possible clusters:   0%|          | 0/1079 [00:00<?, ?it/s]"
      ]
     },
     "metadata": {},
     "output_type": "display_data"
    },
    {
     "data": {
      "application/vnd.jupyter.widget-view+json": {
       "model_id": "1ff4de53946e40f6af09602ab277b006",
       "version_major": 2,
       "version_minor": 0
      },
      "text/plain": [
       "Possible clusters:   0%|          | 0/246 [00:00<?, ?it/s]"
      ]
     },
     "metadata": {},
     "output_type": "display_data"
    },
    {
     "data": {
      "application/vnd.jupyter.widget-view+json": {
       "model_id": "c97149191dc94cff95904a58be5251fc",
       "version_major": 2,
       "version_minor": 0
      },
      "text/plain": [
       "Possible clusters:   0%|          | 0/25 [00:00<?, ?it/s]"
      ]
     },
     "metadata": {},
     "output_type": "display_data"
    },
    {
     "data": {
      "application/vnd.jupyter.widget-view+json": {
       "model_id": "6fb1f2db0bec4e9a912683bd20a907d9",
       "version_major": 2,
       "version_minor": 0
      },
      "text/plain": [
       "Possible clusters:   0%|          | 0/6175 [00:00<?, ?it/s]"
      ]
     },
     "metadata": {},
     "output_type": "display_data"
    },
    {
     "data": {
      "application/vnd.jupyter.widget-view+json": {
       "model_id": "63e5f6234a3c453ea0be0e8375e3328d",
       "version_major": 2,
       "version_minor": 0
      },
      "text/plain": [
       "Possible clusters:   0%|          | 0/2500 [00:00<?, ?it/s]"
      ]
     },
     "metadata": {},
     "output_type": "display_data"
    },
    {
     "data": {
      "application/vnd.jupyter.widget-view+json": {
       "model_id": "0dd4701f06734a8d9dab8c11c4cc37e9",
       "version_major": 2,
       "version_minor": 0
      },
      "text/plain": [
       "Possible clusters:   0%|          | 0/781 [00:00<?, ?it/s]"
      ]
     },
     "metadata": {},
     "output_type": "display_data"
    },
    {
     "data": {
      "application/vnd.jupyter.widget-view+json": {
       "model_id": "4955b377e4ff4b149f2f12c6c5e55d3b",
       "version_major": 2,
       "version_minor": 0
      },
      "text/plain": [
       "Possible clusters:   0%|          | 0/154 [00:00<?, ?it/s]"
      ]
     },
     "metadata": {},
     "output_type": "display_data"
    },
    {
     "data": {
      "application/vnd.jupyter.widget-view+json": {
       "model_id": "9a665cd12db8461f9be447cc5985e190",
       "version_major": 2,
       "version_minor": 0
      },
      "text/plain": [
       "Possible clusters:   0%|          | 0/11 [00:00<?, ?it/s]"
      ]
     },
     "metadata": {},
     "output_type": "display_data"
    },
    {
     "data": {
      "application/vnd.jupyter.widget-view+json": {
       "model_id": "839e66469d3c4b418d347d29bd05a79c",
       "version_major": 2,
       "version_minor": 0
      },
      "text/plain": [
       "Possible clusters:   0%|          | 0/1 [00:00<?, ?it/s]"
      ]
     },
     "metadata": {},
     "output_type": "display_data"
    },
    {
     "data": {
      "application/vnd.jupyter.widget-view+json": {
       "model_id": "716c6aea6f5d49fb90a1813e3ba19310",
       "version_major": 2,
       "version_minor": 0
      },
      "text/plain": [
       "Possible clusters:   0%|          | 0/68380 [00:00<?, ?it/s]"
      ]
     },
     "metadata": {},
     "output_type": "display_data"
    },
    {
     "data": {
      "application/vnd.jupyter.widget-view+json": {
       "model_id": "23b1f960f6bb48dd8fdf2454a4423565",
       "version_major": 2,
       "version_minor": 0
      },
      "text/plain": [
       "Possible clusters:   0%|          | 0/21679 [00:00<?, ?it/s]"
      ]
     },
     "metadata": {},
     "output_type": "display_data"
    },
    {
     "data": {
      "application/vnd.jupyter.widget-view+json": {
       "model_id": "fb1787453d7b4e63955cf263b9bee5b9",
       "version_major": 2,
       "version_minor": 0
      },
      "text/plain": [
       "Possible clusters:   0%|          | 0/4928 [00:00<?, ?it/s]"
      ]
     },
     "metadata": {},
     "output_type": "display_data"
    },
    {
     "data": {
      "application/vnd.jupyter.widget-view+json": {
       "model_id": "2e4331623f834e31b3351ca6a9a2477f",
       "version_major": 2,
       "version_minor": 0
      },
      "text/plain": [
       "Possible clusters:   0%|          | 0/627 [00:00<?, ?it/s]"
      ]
     },
     "metadata": {},
     "output_type": "display_data"
    },
    {
     "data": {
      "application/vnd.jupyter.widget-view+json": {
       "model_id": "2094fba294d54a988d2c87af8c9e1245",
       "version_major": 2,
       "version_minor": 0
      },
      "text/plain": [
       "Possible clusters:   0%|          | 0/26 [00:00<?, ?it/s]"
      ]
     },
     "metadata": {},
     "output_type": "display_data"
    },
    {
     "data": {
      "application/vnd.jupyter.widget-view+json": {
       "model_id": "9b468481e1404d6e82f85612e21ba6ba",
       "version_major": 2,
       "version_minor": 0
      },
      "text/plain": [
       "Possible clusters:   0%|          | 0/10879 [00:00<?, ?it/s]"
      ]
     },
     "metadata": {},
     "output_type": "display_data"
    },
    {
     "data": {
      "application/vnd.jupyter.widget-view+json": {
       "model_id": "e5402ee917a947509b204a583bfa397e",
       "version_major": 2,
       "version_minor": 0
      },
      "text/plain": [
       "Possible clusters:   0%|          | 0/5016 [00:00<?, ?it/s]"
      ]
     },
     "metadata": {},
     "output_type": "display_data"
    },
    {
     "data": {
      "application/vnd.jupyter.widget-view+json": {
       "model_id": "dadf4935c050439b9dfc4a635d3f5020",
       "version_major": 2,
       "version_minor": 0
      },
      "text/plain": [
       "Possible clusters:   0%|          | 0/1925 [00:00<?, ?it/s]"
      ]
     },
     "metadata": {},
     "output_type": "display_data"
    },
    {
     "data": {
      "application/vnd.jupyter.widget-view+json": {
       "model_id": "3f066719042043deb8570bed80894716",
       "version_major": 2,
       "version_minor": 0
      },
      "text/plain": [
       "Possible clusters:   0%|          | 0/550 [00:00<?, ?it/s]"
      ]
     },
     "metadata": {},
     "output_type": "display_data"
    },
    {
     "data": {
      "application/vnd.jupyter.widget-view+json": {
       "model_id": "d725accf657b4f94900d8dc41f0a25c0",
       "version_major": 2,
       "version_minor": 0
      },
      "text/plain": [
       "Possible clusters:   0%|          | 0/91 [00:00<?, ?it/s]"
      ]
     },
     "metadata": {},
     "output_type": "display_data"
    },
    {
     "data": {
      "application/vnd.jupyter.widget-view+json": {
       "model_id": "2baf27ed3e874043953ba1bc31583b26",
       "version_major": 2,
       "version_minor": 0
      },
      "text/plain": [
       "Possible clusters:   0%|          | 0/4 [00:00<?, ?it/s]"
      ]
     },
     "metadata": {},
     "output_type": "display_data"
    },
    {
     "data": {
      "application/vnd.jupyter.widget-view+json": {
       "model_id": "4edfcc07d906491d9b2feed8b4c4256d",
       "version_major": 2,
       "version_minor": 0
      },
      "text/plain": [
       "Possible clusters:   0%|          | 0/4029 [00:00<?, ?it/s]"
      ]
     },
     "metadata": {},
     "output_type": "display_data"
    },
    {
     "data": {
      "application/vnd.jupyter.widget-view+json": {
       "model_id": "73116135073e43bb848d5457cafdfef7",
       "version_major": 2,
       "version_minor": 0
      },
      "text/plain": [
       "Possible clusters:   0%|          | 0/1456 [00:00<?, ?it/s]"
      ]
     },
     "metadata": {},
     "output_type": "display_data"
    },
    {
     "data": {
      "application/vnd.jupyter.widget-view+json": {
       "model_id": "4849e9f3d7c14219b11f8028358e8910",
       "version_major": 2,
       "version_minor": 0
      },
      "text/plain": [
       "Possible clusters:   0%|          | 0/375 [00:00<?, ?it/s]"
      ]
     },
     "metadata": {},
     "output_type": "display_data"
    },
    {
     "data": {
      "application/vnd.jupyter.widget-view+json": {
       "model_id": "9fdd847d2b0b42ee9e370980ef9fdf0e",
       "version_major": 2,
       "version_minor": 0
      },
      "text/plain": [
       "Possible clusters:   0%|          | 0/50 [00:00<?, ?it/s]"
      ]
     },
     "metadata": {},
     "output_type": "display_data"
    },
    {
     "data": {
      "application/vnd.jupyter.widget-view+json": {
       "model_id": "0245d447ca484a2ea8cebf415ea65225",
       "version_major": 2,
       "version_minor": 0
      },
      "text/plain": [
       "Possible clusters:   0%|          | 0/4 [00:00<?, ?it/s]"
      ]
     },
     "metadata": {},
     "output_type": "display_data"
    },
    {
     "data": {
      "application/vnd.jupyter.widget-view+json": {
       "model_id": "2d296bc4b35649b9a5a43290656705da",
       "version_major": 2,
       "version_minor": 0
      },
      "text/plain": [
       "Possible clusters:   0%|          | 0/10879 [00:00<?, ?it/s]"
      ]
     },
     "metadata": {},
     "output_type": "display_data"
    },
    {
     "data": {
      "application/vnd.jupyter.widget-view+json": {
       "model_id": "1c3cae00cc73428182e3dfb059d9d053",
       "version_major": 2,
       "version_minor": 0
      },
      "text/plain": [
       "Possible clusters:   0%|          | 0/5016 [00:00<?, ?it/s]"
      ]
     },
     "metadata": {},
     "output_type": "display_data"
    },
    {
     "data": {
      "application/vnd.jupyter.widget-view+json": {
       "model_id": "65d4accbe26e411ab8bb33fb44157b5e",
       "version_major": 2,
       "version_minor": 0
      },
      "text/plain": [
       "Possible clusters:   0%|          | 0/1925 [00:00<?, ?it/s]"
      ]
     },
     "metadata": {},
     "output_type": "display_data"
    },
    {
     "data": {
      "application/vnd.jupyter.widget-view+json": {
       "model_id": "85441a8b5d0e460c82b02a4dc696af9b",
       "version_major": 2,
       "version_minor": 0
      },
      "text/plain": [
       "Possible clusters:   0%|          | 0/781 [00:00<?, ?it/s]"
      ]
     },
     "metadata": {},
     "output_type": "display_data"
    },
    {
     "data": {
      "application/vnd.jupyter.widget-view+json": {
       "model_id": "73ff382969d647f899ad014a53524ff5",
       "version_major": 2,
       "version_minor": 0
      },
      "text/plain": [
       "Possible clusters:   0%|          | 0/154 [00:00<?, ?it/s]"
      ]
     },
     "metadata": {},
     "output_type": "display_data"
    },
    {
     "data": {
      "application/vnd.jupyter.widget-view+json": {
       "model_id": "82887198f0dc424c8ef0520256ce00fa",
       "version_major": 2,
       "version_minor": 0
      },
      "text/plain": [
       "Possible clusters:   0%|          | 0/11 [00:00<?, ?it/s]"
      ]
     },
     "metadata": {},
     "output_type": "display_data"
    },
    {
     "data": {
      "application/vnd.jupyter.widget-view+json": {
       "model_id": "04b659e918c64352ad0b9618b21f4e82",
       "version_major": 2,
       "version_minor": 0
      },
      "text/plain": [
       "Possible clusters:   0%|          | 0/3196 [00:00<?, ?it/s]"
      ]
     },
     "metadata": {},
     "output_type": "display_data"
    },
    {
     "data": {
      "application/vnd.jupyter.widget-view+json": {
       "model_id": "a657408312a84bdfb264e056b388f6f7",
       "version_major": 2,
       "version_minor": 0
      },
      "text/plain": [
       "Possible clusters:   0%|          | 0/1079 [00:00<?, ?it/s]"
      ]
     },
     "metadata": {},
     "output_type": "display_data"
    },
    {
     "data": {
      "application/vnd.jupyter.widget-view+json": {
       "model_id": "9973cf381417450da44b36a280b0a5c4",
       "version_major": 2,
       "version_minor": 0
      },
      "text/plain": [
       "Possible clusters:   0%|          | 0/246 [00:00<?, ?it/s]"
      ]
     },
     "metadata": {},
     "output_type": "display_data"
    },
    {
     "data": {
      "application/vnd.jupyter.widget-view+json": {
       "model_id": "f19d59b922734fea9f352187148163ce",
       "version_major": 2,
       "version_minor": 0
      },
      "text/plain": [
       "Possible clusters:   0%|          | 0/25 [00:00<?, ?it/s]"
      ]
     },
     "metadata": {},
     "output_type": "display_data"
    },
    {
     "data": {
      "application/vnd.jupyter.widget-view+json": {
       "model_id": "2803c04688ec4424a3c595b5a9691dd3",
       "version_major": 2,
       "version_minor": 0
      },
      "text/plain": [
       "Possible clusters:   0%|          | 0/4029 [00:00<?, ?it/s]"
      ]
     },
     "metadata": {},
     "output_type": "display_data"
    },
    {
     "data": {
      "application/vnd.jupyter.widget-view+json": {
       "model_id": "18f069b407484aaab19bdb7e8fe17da4",
       "version_major": 2,
       "version_minor": 0
      },
      "text/plain": [
       "Possible clusters:   0%|          | 0/1456 [00:00<?, ?it/s]"
      ]
     },
     "metadata": {},
     "output_type": "display_data"
    },
    {
     "data": {
      "application/vnd.jupyter.widget-view+json": {
       "model_id": "1f4320faffb04dbabb6e98ba846339c8",
       "version_major": 2,
       "version_minor": 0
      },
      "text/plain": [
       "Possible clusters:   0%|          | 0/375 [00:00<?, ?it/s]"
      ]
     },
     "metadata": {},
     "output_type": "display_data"
    },
    {
     "data": {
      "application/vnd.jupyter.widget-view+json": {
       "model_id": "724c42b8a95b421290c514066f54b30e",
       "version_major": 2,
       "version_minor": 0
      },
      "text/plain": [
       "Possible clusters:   0%|          | 0/50 [00:00<?, ?it/s]"
      ]
     },
     "metadata": {},
     "output_type": "display_data"
    },
    {
     "data": {
      "application/vnd.jupyter.widget-view+json": {
       "model_id": "149be9ccb70c4979a7a90bf28a14e38b",
       "version_major": 2,
       "version_minor": 0
      },
      "text/plain": [
       "Possible clusters:   0%|          | 0/1 [00:00<?, ?it/s]"
      ]
     },
     "metadata": {},
     "output_type": "display_data"
    },
    {
     "data": {
      "application/vnd.jupyter.widget-view+json": {
       "model_id": "d4562a005af740c59abe839ae5f6bb5a",
       "version_major": 2,
       "version_minor": 0
      },
      "text/plain": [
       "Possible clusters:   0%|          | 0/9086 [00:00<?, ?it/s]"
      ]
     },
     "metadata": {},
     "output_type": "display_data"
    },
    {
     "data": {
      "application/vnd.jupyter.widget-view+json": {
       "model_id": "efe68fa67fea4056aacf376612e3a4ee",
       "version_major": 2,
       "version_minor": 0
      },
      "text/plain": [
       "Possible clusters:   0%|          | 0/4029 [00:00<?, ?it/s]"
      ]
     },
     "metadata": {},
     "output_type": "display_data"
    },
    {
     "data": {
      "application/vnd.jupyter.widget-view+json": {
       "model_id": "2dfcb723baa740ac8a9a758af66df9f1",
       "version_major": 2,
       "version_minor": 0
      },
      "text/plain": [
       "Possible clusters:   0%|          | 0/1456 [00:00<?, ?it/s]"
      ]
     },
     "metadata": {},
     "output_type": "display_data"
    },
    {
     "data": {
      "application/vnd.jupyter.widget-view+json": {
       "model_id": "8f6631d9d2b646dd96e17c0e03623d0c",
       "version_major": 2,
       "version_minor": 0
      },
      "text/plain": [
       "Possible clusters:   0%|          | 0/375 [00:00<?, ?it/s]"
      ]
     },
     "metadata": {},
     "output_type": "display_data"
    },
    {
     "data": {
      "application/vnd.jupyter.widget-view+json": {
       "model_id": "6318c319ecc24bd7b3d38c319f5e44c2",
       "version_major": 2,
       "version_minor": 0
      },
      "text/plain": [
       "Possible clusters:   0%|          | 0/50 [00:00<?, ?it/s]"
      ]
     },
     "metadata": {},
     "output_type": "display_data"
    },
    {
     "data": {
      "application/vnd.jupyter.widget-view+json": {
       "model_id": "94c096eba3b0424cb89f9509e970aee4",
       "version_major": 2,
       "version_minor": 0
      },
      "text/plain": [
       "Possible clusters:   0%|          | 0/1 [00:00<?, ?it/s]"
      ]
     },
     "metadata": {},
     "output_type": "display_data"
    },
    {
     "data": {
      "application/vnd.jupyter.widget-view+json": {
       "model_id": "8d0896b3c48640e39a67bf244ea58d68",
       "version_major": 2,
       "version_minor": 0
      },
      "text/plain": [
       "Possible clusters:   0%|          | 0/68380 [00:00<?, ?it/s]"
      ]
     },
     "metadata": {},
     "output_type": "display_data"
    },
    {
     "data": {
      "application/vnd.jupyter.widget-view+json": {
       "model_id": "68172c1c58dc4000b3faeb46f324ec42",
       "version_major": 2,
       "version_minor": 0
      },
      "text/plain": [
       "Possible clusters:   0%|          | 0/21679 [00:00<?, ?it/s]"
      ]
     },
     "metadata": {},
     "output_type": "display_data"
    },
    {
     "data": {
      "application/vnd.jupyter.widget-view+json": {
       "model_id": "a0a4499f65e548cba74462b87d75cb7e",
       "version_major": 2,
       "version_minor": 0
      },
      "text/plain": [
       "Possible clusters:   0%|          | 0/4928 [00:00<?, ?it/s]"
      ]
     },
     "metadata": {},
     "output_type": "display_data"
    },
    {
     "data": {
      "application/vnd.jupyter.widget-view+json": {
       "model_id": "f6c5dff992ce4d36902db2809f9beb1a",
       "version_major": 2,
       "version_minor": 0
      },
      "text/plain": [
       "Possible clusters:   0%|          | 0/627 [00:00<?, ?it/s]"
      ]
     },
     "metadata": {},
     "output_type": "display_data"
    },
    {
     "data": {
      "application/vnd.jupyter.widget-view+json": {
       "model_id": "27aca99ec6db42598fe3415f17845c0b",
       "version_major": 2,
       "version_minor": 0
      },
      "text/plain": [
       "Possible clusters:   0%|          | 0/26 [00:00<?, ?it/s]"
      ]
     },
     "metadata": {},
     "output_type": "display_data"
    },
    {
     "data": {
      "application/vnd.jupyter.widget-view+json": {
       "model_id": "ae977201f3f44982ad5fa202e4155981",
       "version_major": 2,
       "version_minor": 0
      },
      "text/plain": [
       "Possible clusters:   0%|          | 0/6175 [00:00<?, ?it/s]"
      ]
     },
     "metadata": {},
     "output_type": "display_data"
    },
    {
     "data": {
      "application/vnd.jupyter.widget-view+json": {
       "model_id": "ac9e035a47f04a78a800470a20579b76",
       "version_major": 2,
       "version_minor": 0
      },
      "text/plain": [
       "Possible clusters:   0%|          | 0/2500 [00:00<?, ?it/s]"
      ]
     },
     "metadata": {},
     "output_type": "display_data"
    },
    {
     "data": {
      "application/vnd.jupyter.widget-view+json": {
       "model_id": "6535c9b86ba841bebe68ef1effd76595",
       "version_major": 2,
       "version_minor": 0
      },
      "text/plain": [
       "Possible clusters:   0%|          | 0/781 [00:00<?, ?it/s]"
      ]
     },
     "metadata": {},
     "output_type": "display_data"
    },
    {
     "data": {
      "application/vnd.jupyter.widget-view+json": {
       "model_id": "555fad9e5dc84a80ad9c419b096478aa",
       "version_major": 2,
       "version_minor": 0
      },
      "text/plain": [
       "Possible clusters:   0%|          | 0/154 [00:00<?, ?it/s]"
      ]
     },
     "metadata": {},
     "output_type": "display_data"
    },
    {
     "data": {
      "application/vnd.jupyter.widget-view+json": {
       "model_id": "e41b37b33a1e4d55b32c47e073b55778",
       "version_major": 2,
       "version_minor": 0
      },
      "text/plain": [
       "Possible clusters:   0%|          | 0/11 [00:00<?, ?it/s]"
      ]
     },
     "metadata": {},
     "output_type": "display_data"
    },
    {
     "data": {
      "application/vnd.jupyter.widget-view+json": {
       "model_id": "5cbb3dda2f274b1fbbd2f501591dcf5e",
       "version_major": 2,
       "version_minor": 0
      },
      "text/plain": [
       "Possible clusters:   0%|          | 0/9086 [00:00<?, ?it/s]"
      ]
     },
     "metadata": {},
     "output_type": "display_data"
    },
    {
     "data": {
      "application/vnd.jupyter.widget-view+json": {
       "model_id": "dfc2b418d79c4e819bb3d1772d1ea8b7",
       "version_major": 2,
       "version_minor": 0
      },
      "text/plain": [
       "Possible clusters:   0%|          | 0/4029 [00:00<?, ?it/s]"
      ]
     },
     "metadata": {},
     "output_type": "display_data"
    },
    {
     "data": {
      "application/vnd.jupyter.widget-view+json": {
       "model_id": "2e6ef4c363ed45698e707f739057465b",
       "version_major": 2,
       "version_minor": 0
      },
      "text/plain": [
       "Possible clusters:   0%|          | 0/1456 [00:00<?, ?it/s]"
      ]
     },
     "metadata": {},
     "output_type": "display_data"
    },
    {
     "data": {
      "application/vnd.jupyter.widget-view+json": {
       "model_id": "b9c6bcdf9fa14b9992eadc89954a5046",
       "version_major": 2,
       "version_minor": 0
      },
      "text/plain": [
       "Possible clusters:   0%|          | 0/375 [00:00<?, ?it/s]"
      ]
     },
     "metadata": {},
     "output_type": "display_data"
    },
    {
     "data": {
      "application/vnd.jupyter.widget-view+json": {
       "model_id": "80d5913058f44aefb25fd21d3835a801",
       "version_major": 2,
       "version_minor": 0
      },
      "text/plain": [
       "Possible clusters:   0%|          | 0/50 [00:00<?, ?it/s]"
      ]
     },
     "metadata": {},
     "output_type": "display_data"
    },
    {
     "data": {
      "application/vnd.jupyter.widget-view+json": {
       "model_id": "4d6f6cfb60bf4d6c838494a030e3e0e4",
       "version_major": 2,
       "version_minor": 0
      },
      "text/plain": [
       "Possible clusters:   0%|          | 0/1 [00:00<?, ?it/s]"
      ]
     },
     "metadata": {},
     "output_type": "display_data"
    },
    {
     "data": {
      "application/vnd.jupyter.widget-view+json": {
       "model_id": "a41a21dd0292482487234135bbe7ffa3",
       "version_major": 2,
       "version_minor": 0
      },
      "text/plain": [
       "Possible clusters:   0%|          | 0/4029 [00:00<?, ?it/s]"
      ]
     },
     "metadata": {},
     "output_type": "display_data"
    },
    {
     "data": {
      "application/vnd.jupyter.widget-view+json": {
       "model_id": "e1aa49bcd993461ea9897dda7c371dcb",
       "version_major": 2,
       "version_minor": 0
      },
      "text/plain": [
       "Possible clusters:   0%|          | 0/1456 [00:00<?, ?it/s]"
      ]
     },
     "metadata": {},
     "output_type": "display_data"
    },
    {
     "data": {
      "application/vnd.jupyter.widget-view+json": {
       "model_id": "20c60d6185c5440d8463fea75e15a5a5",
       "version_major": 2,
       "version_minor": 0
      },
      "text/plain": [
       "Possible clusters:   0%|          | 0/375 [00:00<?, ?it/s]"
      ]
     },
     "metadata": {},
     "output_type": "display_data"
    },
    {
     "data": {
      "application/vnd.jupyter.widget-view+json": {
       "model_id": "77b1a083964e49bd80692502f86f931d",
       "version_major": 2,
       "version_minor": 0
      },
      "text/plain": [
       "Possible clusters:   0%|          | 0/50 [00:00<?, ?it/s]"
      ]
     },
     "metadata": {},
     "output_type": "display_data"
    },
    {
     "data": {
      "application/vnd.jupyter.widget-view+json": {
       "model_id": "ae0c1d28faf54c579627ba35741d21f9",
       "version_major": 2,
       "version_minor": 0
      },
      "text/plain": [
       "Possible clusters:   0%|          | 0/1 [00:00<?, ?it/s]"
      ]
     },
     "metadata": {},
     "output_type": "display_data"
    },
    {
     "data": {
      "application/vnd.jupyter.widget-view+json": {
       "model_id": "6e4e5914b2244623ab26139b69f04cd1",
       "version_major": 2,
       "version_minor": 0
      },
      "text/plain": [
       "Possible clusters:   0%|          | 0/9086 [00:00<?, ?it/s]"
      ]
     },
     "metadata": {},
     "output_type": "display_data"
    },
    {
     "data": {
      "application/vnd.jupyter.widget-view+json": {
       "model_id": "9449b6b8ad1543119bcaf0129baf137e",
       "version_major": 2,
       "version_minor": 0
      },
      "text/plain": [
       "Possible clusters:   0%|          | 0/4029 [00:00<?, ?it/s]"
      ]
     },
     "metadata": {},
     "output_type": "display_data"
    },
    {
     "data": {
      "application/vnd.jupyter.widget-view+json": {
       "model_id": "1e8dca3b3aea40ddbf67d87df0e24ab4",
       "version_major": 2,
       "version_minor": 0
      },
      "text/plain": [
       "Possible clusters:   0%|          | 0/1456 [00:00<?, ?it/s]"
      ]
     },
     "metadata": {},
     "output_type": "display_data"
    },
    {
     "data": {
      "application/vnd.jupyter.widget-view+json": {
       "model_id": "97f99c78c9f941448bb79d8d5a9ff1e1",
       "version_major": 2,
       "version_minor": 0
      },
      "text/plain": [
       "Possible clusters:   0%|          | 0/375 [00:00<?, ?it/s]"
      ]
     },
     "metadata": {},
     "output_type": "display_data"
    },
    {
     "data": {
      "application/vnd.jupyter.widget-view+json": {
       "model_id": "159cd9cb36e94c1b9107b79f4e2ca3fd",
       "version_major": 2,
       "version_minor": 0
      },
      "text/plain": [
       "Possible clusters:   0%|          | 0/50 [00:00<?, ?it/s]"
      ]
     },
     "metadata": {},
     "output_type": "display_data"
    },
    {
     "data": {
      "application/vnd.jupyter.widget-view+json": {
       "model_id": "9c465ca411f34eb4a39d13554692826d",
       "version_major": 2,
       "version_minor": 0
      },
      "text/plain": [
       "Possible clusters:   0%|          | 0/1 [00:00<?, ?it/s]"
      ]
     },
     "metadata": {},
     "output_type": "display_data"
    },
    {
     "data": {
      "application/vnd.jupyter.widget-view+json": {
       "model_id": "2184c72d98b14286a8fd2ef6765cdd99",
       "version_major": 2,
       "version_minor": 0
      },
      "text/plain": [
       "Possible clusters:   0%|          | 0/68380 [00:00<?, ?it/s]"
      ]
     },
     "metadata": {},
     "output_type": "display_data"
    },
    {
     "data": {
      "application/vnd.jupyter.widget-view+json": {
       "model_id": "5c1a4393a1e945a4b39d082c434b74a4",
       "version_major": 2,
       "version_minor": 0
      },
      "text/plain": [
       "Possible clusters:   0%|          | 0/21679 [00:00<?, ?it/s]"
      ]
     },
     "metadata": {},
     "output_type": "display_data"
    },
    {
     "data": {
      "application/vnd.jupyter.widget-view+json": {
       "model_id": "33f82a4c2fa744bfadd49cf4a5fccbfc",
       "version_major": 2,
       "version_minor": 0
      },
      "text/plain": [
       "Possible clusters:   0%|          | 0/4928 [00:00<?, ?it/s]"
      ]
     },
     "metadata": {},
     "output_type": "display_data"
    },
    {
     "data": {
      "application/vnd.jupyter.widget-view+json": {
       "model_id": "054662559e8a421381ca7e395fa6b53c",
       "version_major": 2,
       "version_minor": 0
      },
      "text/plain": [
       "Possible clusters:   0%|          | 0/627 [00:00<?, ?it/s]"
      ]
     },
     "metadata": {},
     "output_type": "display_data"
    },
    {
     "data": {
      "application/vnd.jupyter.widget-view+json": {
       "model_id": "903442519dfd47b48b2374b0cfdc993a",
       "version_major": 2,
       "version_minor": 0
      },
      "text/plain": [
       "Possible clusters:   0%|          | 0/26 [00:00<?, ?it/s]"
      ]
     },
     "metadata": {},
     "output_type": "display_data"
    },
    {
     "data": {
      "application/vnd.jupyter.widget-view+json": {
       "model_id": "fa7e68d11e564a819211ada078a6583e",
       "version_major": 2,
       "version_minor": 0
      },
      "text/plain": [
       "Possible clusters:   0%|          | 0/5016 [00:00<?, ?it/s]"
      ]
     },
     "metadata": {},
     "output_type": "display_data"
    },
    {
     "data": {
      "application/vnd.jupyter.widget-view+json": {
       "model_id": "fb2842a0c0544560bc1e32304476268e",
       "version_major": 2,
       "version_minor": 0
      },
      "text/plain": [
       "Possible clusters:   0%|          | 0/1925 [00:00<?, ?it/s]"
      ]
     },
     "metadata": {},
     "output_type": "display_data"
    },
    {
     "data": {
      "application/vnd.jupyter.widget-view+json": {
       "model_id": "12bd463b73654fbc97adfd791f1a6a80",
       "version_major": 2,
       "version_minor": 0
      },
      "text/plain": [
       "Possible clusters:   0%|          | 0/550 [00:00<?, ?it/s]"
      ]
     },
     "metadata": {},
     "output_type": "display_data"
    },
    {
     "data": {
      "application/vnd.jupyter.widget-view+json": {
       "model_id": "58b40041f6ea4b72aee31a701441b6de",
       "version_major": 2,
       "version_minor": 0
      },
      "text/plain": [
       "Possible clusters:   0%|          | 0/154 [00:00<?, ?it/s]"
      ]
     },
     "metadata": {},
     "output_type": "display_data"
    },
    {
     "data": {
      "application/vnd.jupyter.widget-view+json": {
       "model_id": "938859aaed344a61971635d352878ebb",
       "version_major": 2,
       "version_minor": 0
      },
      "text/plain": [
       "Possible clusters:   0%|          | 0/11 [00:00<?, ?it/s]"
      ]
     },
     "metadata": {},
     "output_type": "display_data"
    },
    {
     "data": {
      "application/vnd.jupyter.widget-view+json": {
       "model_id": "95f72777f54a4609aaa5cf61ee45799d",
       "version_major": 2,
       "version_minor": 0
      },
      "text/plain": [
       "Possible clusters:   0%|          | 0/3196 [00:00<?, ?it/s]"
      ]
     },
     "metadata": {},
     "output_type": "display_data"
    },
    {
     "data": {
      "application/vnd.jupyter.widget-view+json": {
       "model_id": "acf193df3c7941d8a49a6894aa6f0122",
       "version_major": 2,
       "version_minor": 0
      },
      "text/plain": [
       "Possible clusters:   0%|          | 0/1079 [00:00<?, ?it/s]"
      ]
     },
     "metadata": {},
     "output_type": "display_data"
    },
    {
     "data": {
      "application/vnd.jupyter.widget-view+json": {
       "model_id": "a8afed118577451a9c9ff022946098fa",
       "version_major": 2,
       "version_minor": 0
      },
      "text/plain": [
       "Possible clusters:   0%|          | 0/246 [00:00<?, ?it/s]"
      ]
     },
     "metadata": {},
     "output_type": "display_data"
    },
    {
     "data": {
      "application/vnd.jupyter.widget-view+json": {
       "model_id": "aa79c41b54134e3fb49cf6928319bd35",
       "version_major": 2,
       "version_minor": 0
      },
      "text/plain": [
       "Possible clusters:   0%|          | 0/25 [00:00<?, ?it/s]"
      ]
     },
     "metadata": {},
     "output_type": "display_data"
    },
    {
     "data": {
      "application/vnd.jupyter.widget-view+json": {
       "model_id": "dad9c6b4f91a4c82a76ca7ab8ab97fab",
       "version_major": 2,
       "version_minor": 0
      },
      "text/plain": [
       "Possible clusters:   0%|          | 0/4 [00:00<?, ?it/s]"
      ]
     },
     "metadata": {},
     "output_type": "display_data"
    },
    {
     "data": {
      "application/vnd.jupyter.widget-view+json": {
       "model_id": "ec830b9881b04cbe94e8698bb8bfc9a6",
       "version_major": 2,
       "version_minor": 0
      },
      "text/plain": [
       "Possible clusters:   0%|          | 0/6175 [00:00<?, ?it/s]"
      ]
     },
     "metadata": {},
     "output_type": "display_data"
    },
    {
     "data": {
      "application/vnd.jupyter.widget-view+json": {
       "model_id": "c6e388a778b14e0892bc7aae801a4fe2",
       "version_major": 2,
       "version_minor": 0
      },
      "text/plain": [
       "Possible clusters:   0%|          | 0/2500 [00:00<?, ?it/s]"
      ]
     },
     "metadata": {},
     "output_type": "display_data"
    },
    {
     "data": {
      "application/vnd.jupyter.widget-view+json": {
       "model_id": "9d5121ccecde4cf7879f75991178a62a",
       "version_major": 2,
       "version_minor": 0
      },
      "text/plain": [
       "Possible clusters:   0%|          | 0/781 [00:00<?, ?it/s]"
      ]
     },
     "metadata": {},
     "output_type": "display_data"
    },
    {
     "data": {
      "application/vnd.jupyter.widget-view+json": {
       "model_id": "ceb2c293531b46eb96e62a3b4847fa47",
       "version_major": 2,
       "version_minor": 0
      },
      "text/plain": [
       "Possible clusters:   0%|          | 0/154 [00:00<?, ?it/s]"
      ]
     },
     "metadata": {},
     "output_type": "display_data"
    },
    {
     "data": {
      "application/vnd.jupyter.widget-view+json": {
       "model_id": "a945067222124cdc97558afe2e04e500",
       "version_major": 2,
       "version_minor": 0
      },
      "text/plain": [
       "Possible clusters:   0%|          | 0/11 [00:00<?, ?it/s]"
      ]
     },
     "metadata": {},
     "output_type": "display_data"
    },
    {
     "data": {
      "application/vnd.jupyter.widget-view+json": {
       "model_id": "723e603bd62d42e5a60bb1c01cb95a39",
       "version_major": 2,
       "version_minor": 0
      },
      "text/plain": [
       "Possible clusters:   0%|          | 0/12926 [00:00<?, ?it/s]"
      ]
     },
     "metadata": {},
     "output_type": "display_data"
    },
    {
     "data": {
      "application/vnd.jupyter.widget-view+json": {
       "model_id": "daaccb4c6a304a0898104aec5b9398d5",
       "version_major": 2,
       "version_minor": 0
      },
      "text/plain": [
       "Possible clusters:   0%|          | 0/6175 [00:00<?, ?it/s]"
      ]
     },
     "metadata": {},
     "output_type": "display_data"
    },
    {
     "data": {
      "application/vnd.jupyter.widget-view+json": {
       "model_id": "0f7949784cf947df820272cd3b44dfc3",
       "version_major": 2,
       "version_minor": 0
      },
      "text/plain": [
       "Possible clusters:   0%|          | 0/2500 [00:00<?, ?it/s]"
      ]
     },
     "metadata": {},
     "output_type": "display_data"
    },
    {
     "data": {
      "application/vnd.jupyter.widget-view+json": {
       "model_id": "38dcf7015b974e64860a2fc5c15dc5fd",
       "version_major": 2,
       "version_minor": 0
      },
      "text/plain": [
       "Possible clusters:   0%|          | 0/781 [00:00<?, ?it/s]"
      ]
     },
     "metadata": {},
     "output_type": "display_data"
    },
    {
     "data": {
      "application/vnd.jupyter.widget-view+json": {
       "model_id": "48a037ca84d14411bc3ab22df9bfda92",
       "version_major": 2,
       "version_minor": 0
      },
      "text/plain": [
       "Possible clusters:   0%|          | 0/154 [00:00<?, ?it/s]"
      ]
     },
     "metadata": {},
     "output_type": "display_data"
    },
    {
     "data": {
      "application/vnd.jupyter.widget-view+json": {
       "model_id": "5247d4f34b8146008503e8fd72da9102",
       "version_major": 2,
       "version_minor": 0
      },
      "text/plain": [
       "Possible clusters:   0%|          | 0/11 [00:00<?, ?it/s]"
      ]
     },
     "metadata": {},
     "output_type": "display_data"
    },
    {
     "data": {
      "application/vnd.jupyter.widget-view+json": {
       "model_id": "6d5c264b98704f85b1ff279242281ed5",
       "version_major": 2,
       "version_minor": 0
      },
      "text/plain": [
       "Possible clusters:   0%|          | 0/4029 [00:00<?, ?it/s]"
      ]
     },
     "metadata": {},
     "output_type": "display_data"
    },
    {
     "data": {
      "application/vnd.jupyter.widget-view+json": {
       "model_id": "961ba2485d3f4dd580950f69da60de03",
       "version_major": 2,
       "version_minor": 0
      },
      "text/plain": [
       "Possible clusters:   0%|          | 0/1456 [00:00<?, ?it/s]"
      ]
     },
     "metadata": {},
     "output_type": "display_data"
    },
    {
     "data": {
      "application/vnd.jupyter.widget-view+json": {
       "model_id": "57ba199a08ac4098adb26f76687d2c69",
       "version_major": 2,
       "version_minor": 0
      },
      "text/plain": [
       "Possible clusters:   0%|          | 0/375 [00:00<?, ?it/s]"
      ]
     },
     "metadata": {},
     "output_type": "display_data"
    },
    {
     "data": {
      "application/vnd.jupyter.widget-view+json": {
       "model_id": "6a08ff56a1d44e1085e74040dcedef2e",
       "version_major": 2,
       "version_minor": 0
      },
      "text/plain": [
       "Possible clusters:   0%|          | 0/50 [00:00<?, ?it/s]"
      ]
     },
     "metadata": {},
     "output_type": "display_data"
    },
    {
     "data": {
      "application/vnd.jupyter.widget-view+json": {
       "model_id": "98c8fa398d2b4677bd104664fc1e8287",
       "version_major": 2,
       "version_minor": 0
      },
      "text/plain": [
       "Possible clusters:   0%|          | 0/1 [00:00<?, ?it/s]"
      ]
     },
     "metadata": {},
     "output_type": "display_data"
    },
    {
     "data": {
      "application/vnd.jupyter.widget-view+json": {
       "model_id": "dc8f174591be435895870b89de1aed97",
       "version_major": 2,
       "version_minor": 0
      },
      "text/plain": [
       "Possible clusters:   0%|          | 0/7525 [00:00<?, ?it/s]"
      ]
     },
     "metadata": {},
     "output_type": "display_data"
    },
    {
     "data": {
      "application/vnd.jupyter.widget-view+json": {
       "model_id": "5e8d47f9292a4128bd9568a591c356c6",
       "version_major": 2,
       "version_minor": 0
      },
      "text/plain": [
       "Possible clusters:   0%|          | 0/3196 [00:00<?, ?it/s]"
      ]
     },
     "metadata": {},
     "output_type": "display_data"
    },
    {
     "data": {
      "application/vnd.jupyter.widget-view+json": {
       "model_id": "0cd5bd3bc24b4855ae3bd28db7054593",
       "version_major": 2,
       "version_minor": 0
      },
      "text/plain": [
       "Possible clusters:   0%|          | 0/1079 [00:00<?, ?it/s]"
      ]
     },
     "metadata": {},
     "output_type": "display_data"
    },
    {
     "data": {
      "application/vnd.jupyter.widget-view+json": {
       "model_id": "0d2a59c87ffb4ef0a17e8ab2c5949c55",
       "version_major": 2,
       "version_minor": 0
      },
      "text/plain": [
       "Possible clusters:   0%|          | 0/246 [00:00<?, ?it/s]"
      ]
     },
     "metadata": {},
     "output_type": "display_data"
    },
    {
     "data": {
      "application/vnd.jupyter.widget-view+json": {
       "model_id": "5579c9caee914100b121a12abbedcbfa",
       "version_major": 2,
       "version_minor": 0
      },
      "text/plain": [
       "Possible clusters:   0%|          | 0/91 [00:00<?, ?it/s]"
      ]
     },
     "metadata": {},
     "output_type": "display_data"
    },
    {
     "data": {
      "application/vnd.jupyter.widget-view+json": {
       "model_id": "b1514217cf3e4ac1b77b28bc0ba2225c",
       "version_major": 2,
       "version_minor": 0
      },
      "text/plain": [
       "Possible clusters:   0%|          | 0/4 [00:00<?, ?it/s]"
      ]
     },
     "metadata": {},
     "output_type": "display_data"
    },
    {
     "data": {
      "application/vnd.jupyter.widget-view+json": {
       "model_id": "5846ad81efc448eea0c9a798d3777500",
       "version_major": 2,
       "version_minor": 0
      },
      "text/plain": [
       "Possible clusters:   0%|          | 0/7525 [00:00<?, ?it/s]"
      ]
     },
     "metadata": {},
     "output_type": "display_data"
    },
    {
     "data": {
      "application/vnd.jupyter.widget-view+json": {
       "model_id": "a19dd73183cf41a2b54a8da3cbd6f1a6",
       "version_major": 2,
       "version_minor": 0
      },
      "text/plain": [
       "Possible clusters:   0%|          | 0/3196 [00:00<?, ?it/s]"
      ]
     },
     "metadata": {},
     "output_type": "display_data"
    },
    {
     "data": {
      "application/vnd.jupyter.widget-view+json": {
       "model_id": "cc6341ca288f48d19b035a8446a7d2d8",
       "version_major": 2,
       "version_minor": 0
      },
      "text/plain": [
       "Possible clusters:   0%|          | 0/1079 [00:00<?, ?it/s]"
      ]
     },
     "metadata": {},
     "output_type": "display_data"
    },
    {
     "data": {
      "application/vnd.jupyter.widget-view+json": {
       "model_id": "2c4a9b44726947798c29475b7a64423c",
       "version_major": 2,
       "version_minor": 0
      },
      "text/plain": [
       "Possible clusters:   0%|          | 0/246 [00:00<?, ?it/s]"
      ]
     },
     "metadata": {},
     "output_type": "display_data"
    },
    {
     "data": {
      "application/vnd.jupyter.widget-view+json": {
       "model_id": "77e15974cf324254864327d2fb31d18a",
       "version_major": 2,
       "version_minor": 0
      },
      "text/plain": [
       "Possible clusters:   0%|          | 0/25 [00:00<?, ?it/s]"
      ]
     },
     "metadata": {},
     "output_type": "display_data"
    },
    {
     "data": {
      "application/vnd.jupyter.widget-view+json": {
       "model_id": "483b8ff43a4249719f0b93952506c985",
       "version_major": 2,
       "version_minor": 0
      },
      "text/plain": [
       "Possible clusters:   0%|          | 0/7525 [00:00<?, ?it/s]"
      ]
     },
     "metadata": {},
     "output_type": "display_data"
    },
    {
     "data": {
      "application/vnd.jupyter.widget-view+json": {
       "model_id": "f679c2eea9954b55adfb75e722c2343c",
       "version_major": 2,
       "version_minor": 0
      },
      "text/plain": [
       "Possible clusters:   0%|          | 0/3196 [00:00<?, ?it/s]"
      ]
     },
     "metadata": {},
     "output_type": "display_data"
    },
    {
     "data": {
      "application/vnd.jupyter.widget-view+json": {
       "model_id": "df9a814d502e45d98badbf05777d9fef",
       "version_major": 2,
       "version_minor": 0
      },
      "text/plain": [
       "Possible clusters:   0%|          | 0/1079 [00:00<?, ?it/s]"
      ]
     },
     "metadata": {},
     "output_type": "display_data"
    },
    {
     "data": {
      "application/vnd.jupyter.widget-view+json": {
       "model_id": "fb23275bdad84419832739c5f74d13ef",
       "version_major": 2,
       "version_minor": 0
      },
      "text/plain": [
       "Possible clusters:   0%|          | 0/246 [00:00<?, ?it/s]"
      ]
     },
     "metadata": {},
     "output_type": "display_data"
    },
    {
     "data": {
      "application/vnd.jupyter.widget-view+json": {
       "model_id": "8aa74684d6e044e688caf7089c2122d5",
       "version_major": 2,
       "version_minor": 0
      },
      "text/plain": [
       "Possible clusters:   0%|          | 0/25 [00:00<?, ?it/s]"
      ]
     },
     "metadata": {},
     "output_type": "display_data"
    },
    {
     "data": {
      "application/vnd.jupyter.widget-view+json": {
       "model_id": "182e9d5315814f50a182c383da7e84a9",
       "version_major": 2,
       "version_minor": 0
      },
      "text/plain": [
       "Possible clusters:   0%|          | 0/101556 [00:00<?, ?it/s]"
      ]
     },
     "metadata": {},
     "output_type": "display_data"
    },
    {
     "data": {
      "application/vnd.jupyter.widget-view+json": {
       "model_id": "030b8dd4103b4b8697b7a384790cdacf",
       "version_major": 2,
       "version_minor": 0
      },
      "text/plain": [
       "Possible clusters:   0%|          | 0/35420 [00:00<?, ?it/s]"
      ]
     },
     "metadata": {},
     "output_type": "display_data"
    },
    {
     "data": {
      "application/vnd.jupyter.widget-view+json": {
       "model_id": "5f6b4fe34d5e4dd1bfe68744e39ecde6",
       "version_major": 2,
       "version_minor": 0
      },
      "text/plain": [
       "Possible clusters:   0%|          | 0/9384 [00:00<?, ?it/s]"
      ]
     },
     "metadata": {},
     "output_type": "display_data"
    },
    {
     "data": {
      "application/vnd.jupyter.widget-view+json": {
       "model_id": "71559370b9024a7f87f14203611c5512",
       "version_major": 2,
       "version_minor": 0
      },
      "text/plain": [
       "Possible clusters:   0%|          | 0/1573 [00:00<?, ?it/s]"
      ]
     },
     "metadata": {},
     "output_type": "display_data"
    },
    {
     "data": {
      "application/vnd.jupyter.widget-view+json": {
       "model_id": "a6e55591264a45f79134189a962b2dde",
       "version_major": 2,
       "version_minor": 0
      },
      "text/plain": [
       "Possible clusters:   0%|          | 0/112 [00:00<?, ?it/s]"
      ]
     },
     "metadata": {},
     "output_type": "display_data"
    },
    {
     "data": {
      "application/vnd.jupyter.widget-view+json": {
       "model_id": "102918f46f094fa49b26e4cb7ef766c9",
       "version_major": 2,
       "version_minor": 0
      },
      "text/plain": [
       "Possible clusters:   0%|          | 0/1 [00:00<?, ?it/s]"
      ]
     },
     "metadata": {},
     "output_type": "display_data"
    },
    {
     "data": {
      "application/vnd.jupyter.widget-view+json": {
       "model_id": "8e2ccc2ad7ab46c9ad5d7736b064fc1a",
       "version_major": 2,
       "version_minor": 0
      },
      "text/plain": [
       "Possible clusters:   0%|          | 0/3196 [00:00<?, ?it/s]"
      ]
     },
     "metadata": {},
     "output_type": "display_data"
    },
    {
     "data": {
      "application/vnd.jupyter.widget-view+json": {
       "model_id": "52a7f4f9b31a44c4bd4a47202a307ffa",
       "version_major": 2,
       "version_minor": 0
      },
      "text/plain": [
       "Possible clusters:   0%|          | 0/1079 [00:00<?, ?it/s]"
      ]
     },
     "metadata": {},
     "output_type": "display_data"
    },
    {
     "data": {
      "application/vnd.jupyter.widget-view+json": {
       "model_id": "809a87c8787f403eb81aa741d37d21fc",
       "version_major": 2,
       "version_minor": 0
      },
      "text/plain": [
       "Possible clusters:   0%|          | 0/246 [00:00<?, ?it/s]"
      ]
     },
     "metadata": {},
     "output_type": "display_data"
    },
    {
     "data": {
      "application/vnd.jupyter.widget-view+json": {
       "model_id": "5e5aad8cc0a54876b7891ccc2b9a7ee0",
       "version_major": 2,
       "version_minor": 0
      },
      "text/plain": [
       "Possible clusters:   0%|          | 0/25 [00:00<?, ?it/s]"
      ]
     },
     "metadata": {},
     "output_type": "display_data"
    },
    {
     "data": {
      "application/vnd.jupyter.widget-view+json": {
       "model_id": "aff4defee9894a1bb0f4bb734fee4496",
       "version_major": 2,
       "version_minor": 0
      },
      "text/plain": [
       "Possible clusters:   0%|          | 0/1 [00:00<?, ?it/s]"
      ]
     },
     "metadata": {},
     "output_type": "display_data"
    },
    {
     "data": {
      "application/vnd.jupyter.widget-view+json": {
       "model_id": "f5ed8aba30f4488b964276038762a979",
       "version_major": 2,
       "version_minor": 0
      },
      "text/plain": [
       "Possible clusters:   0%|          | 0/12926 [00:00<?, ?it/s]"
      ]
     },
     "metadata": {},
     "output_type": "display_data"
    },
    {
     "data": {
      "application/vnd.jupyter.widget-view+json": {
       "model_id": "12a93dd3820d49809cfd30834c3a420d",
       "version_major": 2,
       "version_minor": 0
      },
      "text/plain": [
       "Possible clusters:   0%|          | 0/6175 [00:00<?, ?it/s]"
      ]
     },
     "metadata": {},
     "output_type": "display_data"
    },
    {
     "data": {
      "application/vnd.jupyter.widget-view+json": {
       "model_id": "3f809242131440c2a7d06fb88e05e74b",
       "version_major": 2,
       "version_minor": 0
      },
      "text/plain": [
       "Possible clusters:   0%|          | 0/2500 [00:00<?, ?it/s]"
      ]
     },
     "metadata": {},
     "output_type": "display_data"
    },
    {
     "data": {
      "application/vnd.jupyter.widget-view+json": {
       "model_id": "b32492be74e848e1a31933db87b56ad9",
       "version_major": 2,
       "version_minor": 0
      },
      "text/plain": [
       "Possible clusters:   0%|          | 0/781 [00:00<?, ?it/s]"
      ]
     },
     "metadata": {},
     "output_type": "display_data"
    },
    {
     "data": {
      "application/vnd.jupyter.widget-view+json": {
       "model_id": "8a29af786cd14025aa4df1cc007656aa",
       "version_major": 2,
       "version_minor": 0
      },
      "text/plain": [
       "Possible clusters:   0%|          | 0/154 [00:00<?, ?it/s]"
      ]
     },
     "metadata": {},
     "output_type": "display_data"
    },
    {
     "data": {
      "application/vnd.jupyter.widget-view+json": {
       "model_id": "81490b07a99a4b4e9a967b644dff66f7",
       "version_major": 2,
       "version_minor": 0
      },
      "text/plain": [
       "Possible clusters:   0%|          | 0/11 [00:00<?, ?it/s]"
      ]
     },
     "metadata": {},
     "output_type": "display_data"
    },
    {
     "data": {
      "application/vnd.jupyter.widget-view+json": {
       "model_id": "024c428b8f92408fa9658657c67fb829",
       "version_major": 2,
       "version_minor": 0
      },
      "text/plain": [
       "Possible clusters:   0%|          | 0/9086 [00:00<?, ?it/s]"
      ]
     },
     "metadata": {},
     "output_type": "display_data"
    },
    {
     "data": {
      "application/vnd.jupyter.widget-view+json": {
       "model_id": "ffad0ffd46164fd2b4f2f5d946ccaa03",
       "version_major": 2,
       "version_minor": 0
      },
      "text/plain": [
       "Possible clusters:   0%|          | 0/6175 [00:00<?, ?it/s]"
      ]
     },
     "metadata": {},
     "output_type": "display_data"
    },
    {
     "data": {
      "application/vnd.jupyter.widget-view+json": {
       "model_id": "1b96f4ad55ae42f28c100776f6a82b9f",
       "version_major": 2,
       "version_minor": 0
      },
      "text/plain": [
       "Possible clusters:   0%|          | 0/2500 [00:00<?, ?it/s]"
      ]
     },
     "metadata": {},
     "output_type": "display_data"
    },
    {
     "data": {
      "application/vnd.jupyter.widget-view+json": {
       "model_id": "aa8eee4e0ef64059bf5108f8c3f649ca",
       "version_major": 2,
       "version_minor": 0
      },
      "text/plain": [
       "Possible clusters:   0%|          | 0/1456 [00:00<?, ?it/s]"
      ]
     },
     "metadata": {},
     "output_type": "display_data"
    },
    {
     "data": {
      "application/vnd.jupyter.widget-view+json": {
       "model_id": "0a4886fbf2ee4310991b04c681395afc",
       "version_major": 2,
       "version_minor": 0
      },
      "text/plain": [
       "Possible clusters:   0%|          | 0/375 [00:00<?, ?it/s]"
      ]
     },
     "metadata": {},
     "output_type": "display_data"
    },
    {
     "data": {
      "application/vnd.jupyter.widget-view+json": {
       "model_id": "4871d27a5b31462cb83ec0890c0b81b6",
       "version_major": 2,
       "version_minor": 0
      },
      "text/plain": [
       "Possible clusters:   0%|          | 0/50 [00:00<?, ?it/s]"
      ]
     },
     "metadata": {},
     "output_type": "display_data"
    },
    {
     "data": {
      "application/vnd.jupyter.widget-view+json": {
       "model_id": "26b046ffff6a46e6ad04c2db2980428a",
       "version_major": 2,
       "version_minor": 0
      },
      "text/plain": [
       "Possible clusters:   0%|          | 0/1 [00:00<?, ?it/s]"
      ]
     },
     "metadata": {},
     "output_type": "display_data"
    },
    {
     "data": {
      "application/vnd.jupyter.widget-view+json": {
       "model_id": "8fad1eab1b6f417bafa68caa21642e70",
       "version_major": 2,
       "version_minor": 0
      },
      "text/plain": [
       "Possible clusters:   0%|          | 0/5016 [00:00<?, ?it/s]"
      ]
     },
     "metadata": {},
     "output_type": "display_data"
    },
    {
     "data": {
      "application/vnd.jupyter.widget-view+json": {
       "model_id": "40e855dcdb8f421ea07efd17599a0950",
       "version_major": 2,
       "version_minor": 0
      },
      "text/plain": [
       "Possible clusters:   0%|          | 0/1925 [00:00<?, ?it/s]"
      ]
     },
     "metadata": {},
     "output_type": "display_data"
    },
    {
     "data": {
      "application/vnd.jupyter.widget-view+json": {
       "model_id": "b1ea7c8927fe455099507adf5b6cedc7",
       "version_major": 2,
       "version_minor": 0
      },
      "text/plain": [
       "Possible clusters:   0%|          | 0/550 [00:00<?, ?it/s]"
      ]
     },
     "metadata": {},
     "output_type": "display_data"
    },
    {
     "data": {
      "application/vnd.jupyter.widget-view+json": {
       "model_id": "063d36b6be334149abdf33aa81da1931",
       "version_major": 2,
       "version_minor": 0
      },
      "text/plain": [
       "Possible clusters:   0%|          | 0/91 [00:00<?, ?it/s]"
      ]
     },
     "metadata": {},
     "output_type": "display_data"
    },
    {
     "data": {
      "application/vnd.jupyter.widget-view+json": {
       "model_id": "257dbe6461ff4a27b1dfad870a497e40",
       "version_major": 2,
       "version_minor": 0
      },
      "text/plain": [
       "Possible clusters:   0%|          | 0/4 [00:00<?, ?it/s]"
      ]
     },
     "metadata": {},
     "output_type": "display_data"
    },
    {
     "data": {
      "application/vnd.jupyter.widget-view+json": {
       "model_id": "e54e13f301064c369e3a93bca302e3a1",
       "version_major": 2,
       "version_minor": 0
      },
      "text/plain": [
       "Possible clusters:   0%|          | 0/10879 [00:00<?, ?it/s]"
      ]
     },
     "metadata": {},
     "output_type": "display_data"
    },
    {
     "data": {
      "application/vnd.jupyter.widget-view+json": {
       "model_id": "a03e18381d834b6aaa28f2e4ac9c4677",
       "version_major": 2,
       "version_minor": 0
      },
      "text/plain": [
       "Possible clusters:   0%|          | 0/5016 [00:00<?, ?it/s]"
      ]
     },
     "metadata": {},
     "output_type": "display_data"
    },
    {
     "data": {
      "application/vnd.jupyter.widget-view+json": {
       "model_id": "58f17fedc8fd473a996397cc08b8a864",
       "version_major": 2,
       "version_minor": 0
      },
      "text/plain": [
       "Possible clusters:   0%|          | 0/1925 [00:00<?, ?it/s]"
      ]
     },
     "metadata": {},
     "output_type": "display_data"
    },
    {
     "data": {
      "application/vnd.jupyter.widget-view+json": {
       "model_id": "a9d5cba3cb4e42e680694e8356163293",
       "version_major": 2,
       "version_minor": 0
      },
      "text/plain": [
       "Possible clusters:   0%|          | 0/550 [00:00<?, ?it/s]"
      ]
     },
     "metadata": {},
     "output_type": "display_data"
    },
    {
     "data": {
      "application/vnd.jupyter.widget-view+json": {
       "model_id": "a0d4525cdb024430ae8313d0ad5e56db",
       "version_major": 2,
       "version_minor": 0
      },
      "text/plain": [
       "Possible clusters:   0%|          | 0/91 [00:00<?, ?it/s]"
      ]
     },
     "metadata": {},
     "output_type": "display_data"
    },
    {
     "data": {
      "application/vnd.jupyter.widget-view+json": {
       "model_id": "7b04853450e54239853904822ee42c11",
       "version_major": 2,
       "version_minor": 0
      },
      "text/plain": [
       "Possible clusters:   0%|          | 0/4 [00:00<?, ?it/s]"
      ]
     },
     "metadata": {},
     "output_type": "display_data"
    },
    {
     "data": {
      "application/vnd.jupyter.widget-view+json": {
       "model_id": "9748749d9ecd4614a310427f4f621b84",
       "version_major": 2,
       "version_minor": 0
      },
      "text/plain": [
       "Possible clusters:   0%|          | 0/7525 [00:00<?, ?it/s]"
      ]
     },
     "metadata": {},
     "output_type": "display_data"
    },
    {
     "data": {
      "application/vnd.jupyter.widget-view+json": {
       "model_id": "dab640cb20a64643bd0f24765aec57a8",
       "version_major": 2,
       "version_minor": 0
      },
      "text/plain": [
       "Possible clusters:   0%|          | 0/3196 [00:00<?, ?it/s]"
      ]
     },
     "metadata": {},
     "output_type": "display_data"
    },
    {
     "data": {
      "application/vnd.jupyter.widget-view+json": {
       "model_id": "47a569d2a55443db98879c1ac83e55e0",
       "version_major": 2,
       "version_minor": 0
      },
      "text/plain": [
       "Possible clusters:   0%|          | 0/1079 [00:00<?, ?it/s]"
      ]
     },
     "metadata": {},
     "output_type": "display_data"
    },
    {
     "data": {
      "application/vnd.jupyter.widget-view+json": {
       "model_id": "5d33e1bebd7a471a8ee324e6e4dbd957",
       "version_major": 2,
       "version_minor": 0
      },
      "text/plain": [
       "Possible clusters:   0%|          | 0/246 [00:00<?, ?it/s]"
      ]
     },
     "metadata": {},
     "output_type": "display_data"
    },
    {
     "data": {
      "application/vnd.jupyter.widget-view+json": {
       "model_id": "d515760e6beb497aa5a51706ca4f0729",
       "version_major": 2,
       "version_minor": 0
      },
      "text/plain": [
       "Possible clusters:   0%|          | 0/25 [00:00<?, ?it/s]"
      ]
     },
     "metadata": {},
     "output_type": "display_data"
    },
    {
     "data": {
      "application/vnd.jupyter.widget-view+json": {
       "model_id": "d965c6b39c3a4bb297be344a9c2eb467",
       "version_major": 2,
       "version_minor": 0
      },
      "text/plain": [
       "Possible clusters:   0%|          | 0/4029 [00:00<?, ?it/s]"
      ]
     },
     "metadata": {},
     "output_type": "display_data"
    },
    {
     "data": {
      "application/vnd.jupyter.widget-view+json": {
       "model_id": "6436b64180014a7c802aaaa1c1719e6b",
       "version_major": 2,
       "version_minor": 0
      },
      "text/plain": [
       "Possible clusters:   0%|          | 0/1456 [00:00<?, ?it/s]"
      ]
     },
     "metadata": {},
     "output_type": "display_data"
    },
    {
     "data": {
      "application/vnd.jupyter.widget-view+json": {
       "model_id": "0b88a89725ec47c5b94f2364b54b1e2c",
       "version_major": 2,
       "version_minor": 0
      },
      "text/plain": [
       "Possible clusters:   0%|          | 0/375 [00:00<?, ?it/s]"
      ]
     },
     "metadata": {},
     "output_type": "display_data"
    },
    {
     "data": {
      "application/vnd.jupyter.widget-view+json": {
       "model_id": "24470c5b87014ebf81d5c3c91d622b0f",
       "version_major": 2,
       "version_minor": 0
      },
      "text/plain": [
       "Possible clusters:   0%|          | 0/50 [00:00<?, ?it/s]"
      ]
     },
     "metadata": {},
     "output_type": "display_data"
    },
    {
     "data": {
      "application/vnd.jupyter.widget-view+json": {
       "model_id": "9881793e680e4ea69c9726c6143f3a87",
       "version_major": 2,
       "version_minor": 0
      },
      "text/plain": [
       "Possible clusters:   0%|          | 0/1 [00:00<?, ?it/s]"
      ]
     },
     "metadata": {},
     "output_type": "display_data"
    },
    {
     "data": {
      "application/vnd.jupyter.widget-view+json": {
       "model_id": "a1cf43d055954842b33ec586e9cccbd8",
       "version_major": 2,
       "version_minor": 0
      },
      "text/plain": [
       "Possible clusters:   0%|          | 0/6175 [00:00<?, ?it/s]"
      ]
     },
     "metadata": {},
     "output_type": "display_data"
    },
    {
     "data": {
      "application/vnd.jupyter.widget-view+json": {
       "model_id": "e48938e66447460383cd08182f5ec1e0",
       "version_major": 2,
       "version_minor": 0
      },
      "text/plain": [
       "Possible clusters:   0%|          | 0/2500 [00:00<?, ?it/s]"
      ]
     },
     "metadata": {},
     "output_type": "display_data"
    },
    {
     "data": {
      "application/vnd.jupyter.widget-view+json": {
       "model_id": "a6f3e5395229450fa316d3c2702164c3",
       "version_major": 2,
       "version_minor": 0
      },
      "text/plain": [
       "Possible clusters:   0%|          | 0/781 [00:00<?, ?it/s]"
      ]
     },
     "metadata": {},
     "output_type": "display_data"
    },
    {
     "data": {
      "application/vnd.jupyter.widget-view+json": {
       "model_id": "078c240a0d224da685bf445ff8e8e525",
       "version_major": 2,
       "version_minor": 0
      },
      "text/plain": [
       "Possible clusters:   0%|          | 0/154 [00:00<?, ?it/s]"
      ]
     },
     "metadata": {},
     "output_type": "display_data"
    },
    {
     "data": {
      "application/vnd.jupyter.widget-view+json": {
       "model_id": "118a3d3dacb146df93b8df7316742c94",
       "version_major": 2,
       "version_minor": 0
      },
      "text/plain": [
       "Possible clusters:   0%|          | 0/11 [00:00<?, ?it/s]"
      ]
     },
     "metadata": {},
     "output_type": "display_data"
    },
    {
     "data": {
      "application/vnd.jupyter.widget-view+json": {
       "model_id": "fefe735347a24cd1ace1af6af554311a",
       "version_major": 2,
       "version_minor": 0
      },
      "text/plain": [
       "Possible clusters:   0%|          | 0/6175 [00:00<?, ?it/s]"
      ]
     },
     "metadata": {},
     "output_type": "display_data"
    },
    {
     "data": {
      "application/vnd.jupyter.widget-view+json": {
       "model_id": "e73bb2599cb34c7e8c191f657f08bc2f",
       "version_major": 2,
       "version_minor": 0
      },
      "text/plain": [
       "Possible clusters:   0%|          | 0/2500 [00:00<?, ?it/s]"
      ]
     },
     "metadata": {},
     "output_type": "display_data"
    },
    {
     "data": {
      "application/vnd.jupyter.widget-view+json": {
       "model_id": "b63e67a70570485aa4b02599811afa1b",
       "version_major": 2,
       "version_minor": 0
      },
      "text/plain": [
       "Possible clusters:   0%|          | 0/781 [00:00<?, ?it/s]"
      ]
     },
     "metadata": {},
     "output_type": "display_data"
    },
    {
     "data": {
      "application/vnd.jupyter.widget-view+json": {
       "model_id": "4882adb295934461a7a6c0bcf132f982",
       "version_major": 2,
       "version_minor": 0
      },
      "text/plain": [
       "Possible clusters:   0%|          | 0/154 [00:00<?, ?it/s]"
      ]
     },
     "metadata": {},
     "output_type": "display_data"
    },
    {
     "data": {
      "application/vnd.jupyter.widget-view+json": {
       "model_id": "773293183bdc4e29998a853f99c5493b",
       "version_major": 2,
       "version_minor": 0
      },
      "text/plain": [
       "Possible clusters:   0%|          | 0/11 [00:00<?, ?it/s]"
      ]
     },
     "metadata": {},
     "output_type": "display_data"
    },
    {
     "data": {
      "application/vnd.jupyter.widget-view+json": {
       "model_id": "4adc6ae849d443328b6a54b6e99d76d3",
       "version_major": 2,
       "version_minor": 0
      },
      "text/plain": [
       "Possible clusters:   0%|          | 0/68380 [00:00<?, ?it/s]"
      ]
     },
     "metadata": {},
     "output_type": "display_data"
    },
    {
     "data": {
      "application/vnd.jupyter.widget-view+json": {
       "model_id": "f0e473d783f34e6a851a840197ed9aa6",
       "version_major": 2,
       "version_minor": 0
      },
      "text/plain": [
       "Possible clusters:   0%|          | 0/21679 [00:00<?, ?it/s]"
      ]
     },
     "metadata": {},
     "output_type": "display_data"
    },
    {
     "data": {
      "application/vnd.jupyter.widget-view+json": {
       "model_id": "3bf4022fd3cb4520b8f0aa80872e7b82",
       "version_major": 2,
       "version_minor": 0
      },
      "text/plain": [
       "Possible clusters:   0%|          | 0/4928 [00:00<?, ?it/s]"
      ]
     },
     "metadata": {},
     "output_type": "display_data"
    },
    {
     "data": {
      "application/vnd.jupyter.widget-view+json": {
       "model_id": "b508f15f797044d5b05404c4de1082ed",
       "version_major": 2,
       "version_minor": 0
      },
      "text/plain": [
       "Possible clusters:   0%|          | 0/627 [00:00<?, ?it/s]"
      ]
     },
     "metadata": {},
     "output_type": "display_data"
    },
    {
     "data": {
      "application/vnd.jupyter.widget-view+json": {
       "model_id": "a07220d55fc34b61968849ff230c1ed3",
       "version_major": 2,
       "version_minor": 0
      },
      "text/plain": [
       "Possible clusters:   0%|          | 0/26 [00:00<?, ?it/s]"
      ]
     },
     "metadata": {},
     "output_type": "display_data"
    },
    {
     "data": {
      "application/vnd.jupyter.widget-view+json": {
       "model_id": "f2d84351444d43b8b17277b829aa7149",
       "version_major": 2,
       "version_minor": 0
      },
      "text/plain": [
       "Possible clusters:   0%|          | 0/7525 [00:00<?, ?it/s]"
      ]
     },
     "metadata": {},
     "output_type": "display_data"
    },
    {
     "data": {
      "application/vnd.jupyter.widget-view+json": {
       "model_id": "cdddbc5ad1104f69b5e7e692505a1d52",
       "version_major": 2,
       "version_minor": 0
      },
      "text/plain": [
       "Possible clusters:   0%|          | 0/3196 [00:00<?, ?it/s]"
      ]
     },
     "metadata": {},
     "output_type": "display_data"
    },
    {
     "data": {
      "application/vnd.jupyter.widget-view+json": {
       "model_id": "b28c6c044cb8440eb2deb07b9b14cecc",
       "version_major": 2,
       "version_minor": 0
      },
      "text/plain": [
       "Possible clusters:   0%|          | 0/1079 [00:00<?, ?it/s]"
      ]
     },
     "metadata": {},
     "output_type": "display_data"
    },
    {
     "data": {
      "application/vnd.jupyter.widget-view+json": {
       "model_id": "7fab5fbd45384956aac7328f8c4e1536",
       "version_major": 2,
       "version_minor": 0
      },
      "text/plain": [
       "Possible clusters:   0%|          | 0/246 [00:00<?, ?it/s]"
      ]
     },
     "metadata": {},
     "output_type": "display_data"
    },
    {
     "data": {
      "application/vnd.jupyter.widget-view+json": {
       "model_id": "e57f624f2fae43a99f254afd825e9be7",
       "version_major": 2,
       "version_minor": 0
      },
      "text/plain": [
       "Possible clusters:   0%|          | 0/25 [00:00<?, ?it/s]"
      ]
     },
     "metadata": {},
     "output_type": "display_data"
    },
    {
     "data": {
      "application/vnd.jupyter.widget-view+json": {
       "model_id": "2cb7ef32f0034ac0b3460c3fbbb1ed4c",
       "version_major": 2,
       "version_minor": 0
      },
      "text/plain": [
       "Possible clusters:   0%|          | 0/10879 [00:00<?, ?it/s]"
      ]
     },
     "metadata": {},
     "output_type": "display_data"
    },
    {
     "data": {
      "application/vnd.jupyter.widget-view+json": {
       "model_id": "648394513d284d8f84c32b2222458fa7",
       "version_major": 2,
       "version_minor": 0
      },
      "text/plain": [
       "Possible clusters:   0%|          | 0/5016 [00:00<?, ?it/s]"
      ]
     },
     "metadata": {},
     "output_type": "display_data"
    },
    {
     "data": {
      "application/vnd.jupyter.widget-view+json": {
       "model_id": "02df50711a2d49a19e0ad70af09defc4",
       "version_major": 2,
       "version_minor": 0
      },
      "text/plain": [
       "Possible clusters:   0%|          | 0/1925 [00:00<?, ?it/s]"
      ]
     },
     "metadata": {},
     "output_type": "display_data"
    },
    {
     "data": {
      "application/vnd.jupyter.widget-view+json": {
       "model_id": "a38e2eee9a384c68a9b065910cd71e75",
       "version_major": 2,
       "version_minor": 0
      },
      "text/plain": [
       "Possible clusters:   0%|          | 0/550 [00:00<?, ?it/s]"
      ]
     },
     "metadata": {},
     "output_type": "display_data"
    },
    {
     "data": {
      "application/vnd.jupyter.widget-view+json": {
       "model_id": "04ae2d09f92649a4a37175f7565c3243",
       "version_major": 2,
       "version_minor": 0
      },
      "text/plain": [
       "Possible clusters:   0%|          | 0/246 [00:00<?, ?it/s]"
      ]
     },
     "metadata": {},
     "output_type": "display_data"
    },
    {
     "data": {
      "application/vnd.jupyter.widget-view+json": {
       "model_id": "3f95de5ef98b46e7bf4f2de21c5b6a74",
       "version_major": 2,
       "version_minor": 0
      },
      "text/plain": [
       "Possible clusters:   0%|          | 0/25 [00:00<?, ?it/s]"
      ]
     },
     "metadata": {},
     "output_type": "display_data"
    },
    {
     "data": {
      "application/vnd.jupyter.widget-view+json": {
       "model_id": "660b8359e6aa44f0b86a4ab84bbf3c7f",
       "version_major": 2,
       "version_minor": 0
      },
      "text/plain": [
       "Possible clusters:   0%|          | 0/7525 [00:00<?, ?it/s]"
      ]
     },
     "metadata": {},
     "output_type": "display_data"
    },
    {
     "data": {
      "application/vnd.jupyter.widget-view+json": {
       "model_id": "79bff3a0b94d444898ab8d8f761443ef",
       "version_major": 2,
       "version_minor": 0
      },
      "text/plain": [
       "Possible clusters:   0%|          | 0/3196 [00:00<?, ?it/s]"
      ]
     },
     "metadata": {},
     "output_type": "display_data"
    },
    {
     "data": {
      "application/vnd.jupyter.widget-view+json": {
       "model_id": "4261e74f0c5e4b0bb3fcd100fa7cbcd9",
       "version_major": 2,
       "version_minor": 0
      },
      "text/plain": [
       "Possible clusters:   0%|          | 0/1079 [00:00<?, ?it/s]"
      ]
     },
     "metadata": {},
     "output_type": "display_data"
    },
    {
     "data": {
      "application/vnd.jupyter.widget-view+json": {
       "model_id": "052a3049e45b482cbb1ea8bce4a95784",
       "version_major": 2,
       "version_minor": 0
      },
      "text/plain": [
       "Possible clusters:   0%|          | 0/246 [00:00<?, ?it/s]"
      ]
     },
     "metadata": {},
     "output_type": "display_data"
    },
    {
     "data": {
      "application/vnd.jupyter.widget-view+json": {
       "model_id": "e57c7dbda50a4f66a2077e0f8636b60a",
       "version_major": 2,
       "version_minor": 0
      },
      "text/plain": [
       "Possible clusters:   0%|          | 0/25 [00:00<?, ?it/s]"
      ]
     },
     "metadata": {},
     "output_type": "display_data"
    },
    {
     "data": {
      "application/vnd.jupyter.widget-view+json": {
       "model_id": "dd86f1e4c3634a75b1027e8d1508a56d",
       "version_major": 2,
       "version_minor": 0
      },
      "text/plain": [
       "Possible clusters:   0%|          | 0/4 [00:00<?, ?it/s]"
      ]
     },
     "metadata": {},
     "output_type": "display_data"
    },
    {
     "data": {
      "application/vnd.jupyter.widget-view+json": {
       "model_id": "30c859dddc5640269c9e4483e7079dea",
       "version_major": 2,
       "version_minor": 0
      },
      "text/plain": [
       "Possible clusters:   0%|          | 0/5016 [00:00<?, ?it/s]"
      ]
     },
     "metadata": {},
     "output_type": "display_data"
    },
    {
     "data": {
      "application/vnd.jupyter.widget-view+json": {
       "model_id": "d4ba94d41d394f6e88c463bb2c866215",
       "version_major": 2,
       "version_minor": 0
      },
      "text/plain": [
       "Possible clusters:   0%|          | 0/1925 [00:00<?, ?it/s]"
      ]
     },
     "metadata": {},
     "output_type": "display_data"
    },
    {
     "data": {
      "application/vnd.jupyter.widget-view+json": {
       "model_id": "95b0e451fd7f41b29e26fb034a637b64",
       "version_major": 2,
       "version_minor": 0
      },
      "text/plain": [
       "Possible clusters:   0%|          | 0/550 [00:00<?, ?it/s]"
      ]
     },
     "metadata": {},
     "output_type": "display_data"
    },
    {
     "data": {
      "application/vnd.jupyter.widget-view+json": {
       "model_id": "d2e5690aca494b239485a199d3b873ed",
       "version_major": 2,
       "version_minor": 0
      },
      "text/plain": [
       "Possible clusters:   0%|          | 0/91 [00:00<?, ?it/s]"
      ]
     },
     "metadata": {},
     "output_type": "display_data"
    },
    {
     "data": {
      "application/vnd.jupyter.widget-view+json": {
       "model_id": "39ab0c139fb9407f964b0ddfa1594fa4",
       "version_major": 2,
       "version_minor": 0
      },
      "text/plain": [
       "Possible clusters:   0%|          | 0/4 [00:00<?, ?it/s]"
      ]
     },
     "metadata": {},
     "output_type": "display_data"
    },
    {
     "data": {
      "application/vnd.jupyter.widget-view+json": {
       "model_id": "103b115eb0e94f3c8a97123fafe2df48",
       "version_major": 2,
       "version_minor": 0
      },
      "text/plain": [
       "Possible clusters:   0%|          | 0/6175 [00:00<?, ?it/s]"
      ]
     },
     "metadata": {},
     "output_type": "display_data"
    },
    {
     "data": {
      "application/vnd.jupyter.widget-view+json": {
       "model_id": "a92fdfc189c44d388223915bac65afbd",
       "version_major": 2,
       "version_minor": 0
      },
      "text/plain": [
       "Possible clusters:   0%|          | 0/2500 [00:00<?, ?it/s]"
      ]
     },
     "metadata": {},
     "output_type": "display_data"
    },
    {
     "data": {
      "application/vnd.jupyter.widget-view+json": {
       "model_id": "2c9b9363aa8b4cebb4579b972cd27fdb",
       "version_major": 2,
       "version_minor": 0
      },
      "text/plain": [
       "Possible clusters:   0%|          | 0/781 [00:00<?, ?it/s]"
      ]
     },
     "metadata": {},
     "output_type": "display_data"
    },
    {
     "data": {
      "application/vnd.jupyter.widget-view+json": {
       "model_id": "30566fb94e0640ffbec5a002d2c9e74c",
       "version_major": 2,
       "version_minor": 0
      },
      "text/plain": [
       "Possible clusters:   0%|          | 0/154 [00:00<?, ?it/s]"
      ]
     },
     "metadata": {},
     "output_type": "display_data"
    },
    {
     "data": {
      "application/vnd.jupyter.widget-view+json": {
       "model_id": "2fed344a213d4f0399745de0f421d821",
       "version_major": 2,
       "version_minor": 0
      },
      "text/plain": [
       "Possible clusters:   0%|          | 0/11 [00:00<?, ?it/s]"
      ]
     },
     "metadata": {},
     "output_type": "display_data"
    },
    {
     "data": {
      "application/vnd.jupyter.widget-view+json": {
       "model_id": "5ab462fe5bca443ba2ba5a6c65a03cde",
       "version_major": 2,
       "version_minor": 0
      },
      "text/plain": [
       "Possible clusters:   0%|          | 0/6175 [00:00<?, ?it/s]"
      ]
     },
     "metadata": {},
     "output_type": "display_data"
    },
    {
     "data": {
      "application/vnd.jupyter.widget-view+json": {
       "model_id": "2c96e08eb968472da36e7452f6f75f86",
       "version_major": 2,
       "version_minor": 0
      },
      "text/plain": [
       "Possible clusters:   0%|          | 0/2500 [00:00<?, ?it/s]"
      ]
     },
     "metadata": {},
     "output_type": "display_data"
    },
    {
     "data": {
      "application/vnd.jupyter.widget-view+json": {
       "model_id": "6f6e9d2fffe244fdb3f7f7703d72ff75",
       "version_major": 2,
       "version_minor": 0
      },
      "text/plain": [
       "Possible clusters:   0%|          | 0/781 [00:00<?, ?it/s]"
      ]
     },
     "metadata": {},
     "output_type": "display_data"
    },
    {
     "data": {
      "application/vnd.jupyter.widget-view+json": {
       "model_id": "22c6fbc6de59444b87b63663ea1b1df5",
       "version_major": 2,
       "version_minor": 0
      },
      "text/plain": [
       "Possible clusters:   0%|          | 0/154 [00:00<?, ?it/s]"
      ]
     },
     "metadata": {},
     "output_type": "display_data"
    },
    {
     "data": {
      "application/vnd.jupyter.widget-view+json": {
       "model_id": "6e4b467b15354128936b8b81eeff5cfa",
       "version_major": 2,
       "version_minor": 0
      },
      "text/plain": [
       "Possible clusters:   0%|          | 0/11 [00:00<?, ?it/s]"
      ]
     },
     "metadata": {},
     "output_type": "display_data"
    },
    {
     "data": {
      "application/vnd.jupyter.widget-view+json": {
       "model_id": "52c1bf90d64e41fe8964f0f360f966e7",
       "version_major": 2,
       "version_minor": 0
      },
      "text/plain": [
       "Possible clusters:   0%|          | 0/83655 [00:00<?, ?it/s]"
      ]
     },
     "metadata": {},
     "output_type": "display_data"
    },
    {
     "data": {
      "application/vnd.jupyter.widget-view+json": {
       "model_id": "896afb45dff2424e8b45f24e372c58c0",
       "version_major": 2,
       "version_minor": 0
      },
      "text/plain": [
       "Possible clusters:   0%|          | 0/27874 [00:00<?, ?it/s]"
      ]
     },
     "metadata": {},
     "output_type": "display_data"
    },
    {
     "data": {
      "application/vnd.jupyter.widget-view+json": {
       "model_id": "ab0d16dc65df4678b6c57f1d74e845ce",
       "version_major": 2,
       "version_minor": 0
      },
      "text/plain": [
       "Possible clusters:   0%|          | 0/6868 [00:00<?, ?it/s]"
      ]
     },
     "metadata": {},
     "output_type": "display_data"
    },
    {
     "data": {
      "application/vnd.jupyter.widget-view+json": {
       "model_id": "6e20031e04084c48a1b73c17787a3b0f",
       "version_major": 2,
       "version_minor": 0
      },
      "text/plain": [
       "Possible clusters:   0%|          | 0/1012 [00:00<?, ?it/s]"
      ]
     },
     "metadata": {},
     "output_type": "display_data"
    },
    {
     "data": {
      "application/vnd.jupyter.widget-view+json": {
       "model_id": "209ef3abfe0144aaaa3ef745608a12bb",
       "version_major": 2,
       "version_minor": 0
      },
      "text/plain": [
       "Possible clusters:   0%|          | 0/56 [00:00<?, ?it/s]"
      ]
     },
     "metadata": {},
     "output_type": "display_data"
    },
    {
     "data": {
      "application/vnd.jupyter.widget-view+json": {
       "model_id": "fe59c41d71e84af4ae331ab2784aca1e",
       "version_major": 2,
       "version_minor": 0
      },
      "text/plain": [
       "Possible clusters:   0%|          | 0/11 [00:00<?, ?it/s]"
      ]
     },
     "metadata": {},
     "output_type": "display_data"
    },
    {
     "data": {
      "application/vnd.jupyter.widget-view+json": {
       "model_id": "77cdb7afc4344fe3b98312f29236dc3a",
       "version_major": 2,
       "version_minor": 0
      },
      "text/plain": [
       "Possible clusters:   0%|          | 0/5016 [00:00<?, ?it/s]"
      ]
     },
     "metadata": {},
     "output_type": "display_data"
    },
    {
     "data": {
      "application/vnd.jupyter.widget-view+json": {
       "model_id": "e874ea45245245709a647fd78665b475",
       "version_major": 2,
       "version_minor": 0
      },
      "text/plain": [
       "Possible clusters:   0%|          | 0/1925 [00:00<?, ?it/s]"
      ]
     },
     "metadata": {},
     "output_type": "display_data"
    },
    {
     "data": {
      "application/vnd.jupyter.widget-view+json": {
       "model_id": "9a47bc3f7be94d858fe6a8fb24182240",
       "version_major": 2,
       "version_minor": 0
      },
      "text/plain": [
       "Possible clusters:   0%|          | 0/550 [00:00<?, ?it/s]"
      ]
     },
     "metadata": {},
     "output_type": "display_data"
    },
    {
     "data": {
      "application/vnd.jupyter.widget-view+json": {
       "model_id": "895ad3e96f8a4dcabb4883920cbf5713",
       "version_major": 2,
       "version_minor": 0
      },
      "text/plain": [
       "Possible clusters:   0%|          | 0/91 [00:00<?, ?it/s]"
      ]
     },
     "metadata": {},
     "output_type": "display_data"
    },
    {
     "data": {
      "application/vnd.jupyter.widget-view+json": {
       "model_id": "b627a3fcab96449b85f5f60296990d1b",
       "version_major": 2,
       "version_minor": 0
      },
      "text/plain": [
       "Possible clusters:   0%|          | 0/4 [00:00<?, ?it/s]"
      ]
     },
     "metadata": {},
     "output_type": "display_data"
    },
    {
     "data": {
      "application/vnd.jupyter.widget-view+json": {
       "model_id": "c0feef7d7ee74f278f89aea469aeb39a",
       "version_major": 2,
       "version_minor": 0
      },
      "text/plain": [
       "Possible clusters:   0%|          | 0/10879 [00:00<?, ?it/s]"
      ]
     },
     "metadata": {},
     "output_type": "display_data"
    },
    {
     "data": {
      "application/vnd.jupyter.widget-view+json": {
       "model_id": "e1f1628f7def45a597f24d35e1843852",
       "version_major": 2,
       "version_minor": 0
      },
      "text/plain": [
       "Possible clusters:   0%|          | 0/5016 [00:00<?, ?it/s]"
      ]
     },
     "metadata": {},
     "output_type": "display_data"
    },
    {
     "data": {
      "application/vnd.jupyter.widget-view+json": {
       "model_id": "96858baf0d324db5917769c3701a9c12",
       "version_major": 2,
       "version_minor": 0
      },
      "text/plain": [
       "Possible clusters:   0%|          | 0/1925 [00:00<?, ?it/s]"
      ]
     },
     "metadata": {},
     "output_type": "display_data"
    },
    {
     "data": {
      "application/vnd.jupyter.widget-view+json": {
       "model_id": "bcc0da6294a042858eaad54269dea22f",
       "version_major": 2,
       "version_minor": 0
      },
      "text/plain": [
       "Possible clusters:   0%|          | 0/550 [00:00<?, ?it/s]"
      ]
     },
     "metadata": {},
     "output_type": "display_data"
    },
    {
     "data": {
      "application/vnd.jupyter.widget-view+json": {
       "model_id": "345006f6e6814823af3b46650e8705e4",
       "version_major": 2,
       "version_minor": 0
      },
      "text/plain": [
       "Possible clusters:   0%|          | 0/91 [00:00<?, ?it/s]"
      ]
     },
     "metadata": {},
     "output_type": "display_data"
    },
    {
     "data": {
      "application/vnd.jupyter.widget-view+json": {
       "model_id": "b8e95b468adb4b7ea77f43298bdb2719",
       "version_major": 2,
       "version_minor": 0
      },
      "text/plain": [
       "Possible clusters:   0%|          | 0/4 [00:00<?, ?it/s]"
      ]
     },
     "metadata": {},
     "output_type": "display_data"
    },
    {
     "data": {
      "application/vnd.jupyter.widget-view+json": {
       "model_id": "8b044918a5fa488c9b3c824fe49e2535",
       "version_major": 2,
       "version_minor": 0
      },
      "text/plain": [
       "Possible clusters:   0%|          | 0/12926 [00:00<?, ?it/s]"
      ]
     },
     "metadata": {},
     "output_type": "display_data"
    },
    {
     "data": {
      "application/vnd.jupyter.widget-view+json": {
       "model_id": "daa7d69fd9c94c23aa04d569778be9ed",
       "version_major": 2,
       "version_minor": 0
      },
      "text/plain": [
       "Possible clusters:   0%|          | 0/6175 [00:00<?, ?it/s]"
      ]
     },
     "metadata": {},
     "output_type": "display_data"
    },
    {
     "data": {
      "application/vnd.jupyter.widget-view+json": {
       "model_id": "c8884cca21be4a88ab925ed4d18504b6",
       "version_major": 2,
       "version_minor": 0
      },
      "text/plain": [
       "Possible clusters:   0%|          | 0/2500 [00:00<?, ?it/s]"
      ]
     },
     "metadata": {},
     "output_type": "display_data"
    },
    {
     "data": {
      "application/vnd.jupyter.widget-view+json": {
       "model_id": "2f852bf13cd148ff8260ae8dfd99ea73",
       "version_major": 2,
       "version_minor": 0
      },
      "text/plain": [
       "Possible clusters:   0%|          | 0/781 [00:00<?, ?it/s]"
      ]
     },
     "metadata": {},
     "output_type": "display_data"
    },
    {
     "data": {
      "application/vnd.jupyter.widget-view+json": {
       "model_id": "d9d9fedf9e7647b494494b1dcea0d4a2",
       "version_major": 2,
       "version_minor": 0
      },
      "text/plain": [
       "Possible clusters:   0%|          | 0/154 [00:00<?, ?it/s]"
      ]
     },
     "metadata": {},
     "output_type": "display_data"
    },
    {
     "data": {
      "application/vnd.jupyter.widget-view+json": {
       "model_id": "ad5bd4d6452942f390f0752ce51e3ff3",
       "version_major": 2,
       "version_minor": 0
      },
      "text/plain": [
       "Possible clusters:   0%|          | 0/11 [00:00<?, ?it/s]"
      ]
     },
     "metadata": {},
     "output_type": "display_data"
    },
    {
     "data": {
      "application/vnd.jupyter.widget-view+json": {
       "model_id": "980e416d29b94f4f8fcba98e904cb654",
       "version_major": 2,
       "version_minor": 0
      },
      "text/plain": [
       "Possible clusters:   0%|          | 0/7525 [00:00<?, ?it/s]"
      ]
     },
     "metadata": {},
     "output_type": "display_data"
    },
    {
     "data": {
      "application/vnd.jupyter.widget-view+json": {
       "model_id": "49c7263352844b3ca083e58cea5abea5",
       "version_major": 2,
       "version_minor": 0
      },
      "text/plain": [
       "Possible clusters:   0%|          | 0/3196 [00:00<?, ?it/s]"
      ]
     },
     "metadata": {},
     "output_type": "display_data"
    },
    {
     "data": {
      "application/vnd.jupyter.widget-view+json": {
       "model_id": "a9aae0ed2b464d80a152e69a2ebd0e60",
       "version_major": 2,
       "version_minor": 0
      },
      "text/plain": [
       "Possible clusters:   0%|          | 0/1079 [00:00<?, ?it/s]"
      ]
     },
     "metadata": {},
     "output_type": "display_data"
    },
    {
     "data": {
      "application/vnd.jupyter.widget-view+json": {
       "model_id": "bc0f447f61be4869b481080b7010ea60",
       "version_major": 2,
       "version_minor": 0
      },
      "text/plain": [
       "Possible clusters:   0%|          | 0/375 [00:00<?, ?it/s]"
      ]
     },
     "metadata": {},
     "output_type": "display_data"
    },
    {
     "data": {
      "application/vnd.jupyter.widget-view+json": {
       "model_id": "68460d34265f45e8bd6ff653b3f17770",
       "version_major": 2,
       "version_minor": 0
      },
      "text/plain": [
       "Possible clusters:   0%|          | 0/50 [00:00<?, ?it/s]"
      ]
     },
     "metadata": {},
     "output_type": "display_data"
    },
    {
     "data": {
      "application/vnd.jupyter.widget-view+json": {
       "model_id": "c292b719358648e29d80795281e5f078",
       "version_major": 2,
       "version_minor": 0
      },
      "text/plain": [
       "Possible clusters:   0%|          | 0/1 [00:00<?, ?it/s]"
      ]
     },
     "metadata": {},
     "output_type": "display_data"
    },
    {
     "data": {
      "application/vnd.jupyter.widget-view+json": {
       "model_id": "c3fe692d0d7e4ad290599b9d7ae5961e",
       "version_major": 2,
       "version_minor": 0
      },
      "text/plain": [
       "Possible clusters:   0%|          | 0/5016 [00:00<?, ?it/s]"
      ]
     },
     "metadata": {},
     "output_type": "display_data"
    },
    {
     "data": {
      "application/vnd.jupyter.widget-view+json": {
       "model_id": "e29e7a970bd146e3b03777964cebdb6c",
       "version_major": 2,
       "version_minor": 0
      },
      "text/plain": [
       "Possible clusters:   0%|          | 0/1925 [00:00<?, ?it/s]"
      ]
     },
     "metadata": {},
     "output_type": "display_data"
    },
    {
     "data": {
      "application/vnd.jupyter.widget-view+json": {
       "model_id": "d8732f29ac7a4b2ca34587b4aaf794bd",
       "version_major": 2,
       "version_minor": 0
      },
      "text/plain": [
       "Possible clusters:   0%|          | 0/550 [00:00<?, ?it/s]"
      ]
     },
     "metadata": {},
     "output_type": "display_data"
    },
    {
     "data": {
      "application/vnd.jupyter.widget-view+json": {
       "model_id": "ffd966985f504ec0ae8ec33f16e148e4",
       "version_major": 2,
       "version_minor": 0
      },
      "text/plain": [
       "Possible clusters:   0%|          | 0/91 [00:00<?, ?it/s]"
      ]
     },
     "metadata": {},
     "output_type": "display_data"
    },
    {
     "data": {
      "application/vnd.jupyter.widget-view+json": {
       "model_id": "71f942fc3a374241b415d938c3c3e9e9",
       "version_major": 2,
       "version_minor": 0
      },
      "text/plain": [
       "Possible clusters:   0%|          | 0/4 [00:00<?, ?it/s]"
      ]
     },
     "metadata": {},
     "output_type": "display_data"
    },
    {
     "data": {
      "application/vnd.jupyter.widget-view+json": {
       "model_id": "306b7b75fc6c433481cd459dd74355b1",
       "version_major": 2,
       "version_minor": 0
      },
      "text/plain": [
       "Possible clusters:   0%|          | 0/12926 [00:00<?, ?it/s]"
      ]
     },
     "metadata": {},
     "output_type": "display_data"
    },
    {
     "data": {
      "application/vnd.jupyter.widget-view+json": {
       "model_id": "07fb5d894ba749419c8a92216316c3f7",
       "version_major": 2,
       "version_minor": 0
      },
      "text/plain": [
       "Possible clusters:   0%|          | 0/6175 [00:00<?, ?it/s]"
      ]
     },
     "metadata": {},
     "output_type": "display_data"
    },
    {
     "data": {
      "application/vnd.jupyter.widget-view+json": {
       "model_id": "0b619a122b7b48b28ad03c153c3a5c50",
       "version_major": 2,
       "version_minor": 0
      },
      "text/plain": [
       "Possible clusters:   0%|          | 0/2500 [00:00<?, ?it/s]"
      ]
     },
     "metadata": {},
     "output_type": "display_data"
    },
    {
     "data": {
      "application/vnd.jupyter.widget-view+json": {
       "model_id": "a258487bd2e64e97b0f8eb45ffe13e96",
       "version_major": 2,
       "version_minor": 0
      },
      "text/plain": [
       "Possible clusters:   0%|          | 0/781 [00:00<?, ?it/s]"
      ]
     },
     "metadata": {},
     "output_type": "display_data"
    },
    {
     "data": {
      "application/vnd.jupyter.widget-view+json": {
       "model_id": "4473d8a216824cb783dd53ac146863e8",
       "version_major": 2,
       "version_minor": 0
      },
      "text/plain": [
       "Possible clusters:   0%|          | 0/154 [00:00<?, ?it/s]"
      ]
     },
     "metadata": {},
     "output_type": "display_data"
    },
    {
     "data": {
      "application/vnd.jupyter.widget-view+json": {
       "model_id": "039fb85d04494352b2ca2f4a3192adf0",
       "version_major": 2,
       "version_minor": 0
      },
      "text/plain": [
       "Possible clusters:   0%|          | 0/11 [00:00<?, ?it/s]"
      ]
     },
     "metadata": {},
     "output_type": "display_data"
    },
    {
     "data": {
      "application/vnd.jupyter.widget-view+json": {
       "model_id": "5f95df2de35f49ab9a092cd5bf51ccf4",
       "version_major": 2,
       "version_minor": 0
      },
      "text/plain": [
       "Possible clusters:   0%|          | 0/7525 [00:00<?, ?it/s]"
      ]
     },
     "metadata": {},
     "output_type": "display_data"
    },
    {
     "data": {
      "application/vnd.jupyter.widget-view+json": {
       "model_id": "578e22181f7143c39779f4c55c082410",
       "version_major": 2,
       "version_minor": 0
      },
      "text/plain": [
       "Possible clusters:   0%|          | 0/3196 [00:00<?, ?it/s]"
      ]
     },
     "metadata": {},
     "output_type": "display_data"
    },
    {
     "data": {
      "application/vnd.jupyter.widget-view+json": {
       "model_id": "5cb0a16ebbea4e67b568de99a4325fc7",
       "version_major": 2,
       "version_minor": 0
      },
      "text/plain": [
       "Possible clusters:   0%|          | 0/1079 [00:00<?, ?it/s]"
      ]
     },
     "metadata": {},
     "output_type": "display_data"
    },
    {
     "data": {
      "application/vnd.jupyter.widget-view+json": {
       "model_id": "ec520b9e2b9b49f58aa0556e3785b950",
       "version_major": 2,
       "version_minor": 0
      },
      "text/plain": [
       "Possible clusters:   0%|          | 0/246 [00:00<?, ?it/s]"
      ]
     },
     "metadata": {},
     "output_type": "display_data"
    },
    {
     "data": {
      "application/vnd.jupyter.widget-view+json": {
       "model_id": "ed4605c7a96c4de08675df23a45f7ef9",
       "version_major": 2,
       "version_minor": 0
      },
      "text/plain": [
       "Possible clusters:   0%|          | 0/25 [00:00<?, ?it/s]"
      ]
     },
     "metadata": {},
     "output_type": "display_data"
    },
    {
     "data": {
      "application/vnd.jupyter.widget-view+json": {
       "model_id": "fc6fde44fbca4c26ab9cb834f82e486d",
       "version_major": 2,
       "version_minor": 0
      },
      "text/plain": [
       "Possible clusters:   0%|          | 0/6175 [00:00<?, ?it/s]"
      ]
     },
     "metadata": {},
     "output_type": "display_data"
    },
    {
     "data": {
      "application/vnd.jupyter.widget-view+json": {
       "model_id": "76b891694e6b40f1a7a05841d222fd00",
       "version_major": 2,
       "version_minor": 0
      },
      "text/plain": [
       "Possible clusters:   0%|          | 0/2500 [00:00<?, ?it/s]"
      ]
     },
     "metadata": {},
     "output_type": "display_data"
    },
    {
     "data": {
      "application/vnd.jupyter.widget-view+json": {
       "model_id": "d9aadf70b097492a8efe1ac3f7f113b7",
       "version_major": 2,
       "version_minor": 0
      },
      "text/plain": [
       "Possible clusters:   0%|          | 0/781 [00:00<?, ?it/s]"
      ]
     },
     "metadata": {},
     "output_type": "display_data"
    },
    {
     "data": {
      "application/vnd.jupyter.widget-view+json": {
       "model_id": "9fa80545d2744de9a94148a0dac4bba3",
       "version_major": 2,
       "version_minor": 0
      },
      "text/plain": [
       "Possible clusters:   0%|          | 0/154 [00:00<?, ?it/s]"
      ]
     },
     "metadata": {},
     "output_type": "display_data"
    },
    {
     "data": {
      "application/vnd.jupyter.widget-view+json": {
       "model_id": "0cb61a0d1eca4fdca37efff2cb1499cd",
       "version_major": 2,
       "version_minor": 0
      },
      "text/plain": [
       "Possible clusters:   0%|          | 0/11 [00:00<?, ?it/s]"
      ]
     },
     "metadata": {},
     "output_type": "display_data"
    },
    {
     "data": {
      "application/vnd.jupyter.widget-view+json": {
       "model_id": "d547f664172642629c577baf27fd17bc",
       "version_major": 2,
       "version_minor": 0
      },
      "text/plain": [
       "Possible clusters:   0%|          | 0/6175 [00:00<?, ?it/s]"
      ]
     },
     "metadata": {},
     "output_type": "display_data"
    },
    {
     "data": {
      "application/vnd.jupyter.widget-view+json": {
       "model_id": "afa5e45d26da47fe9f2dfd3bddf98cc1",
       "version_major": 2,
       "version_minor": 0
      },
      "text/plain": [
       "Possible clusters:   0%|          | 0/2500 [00:00<?, ?it/s]"
      ]
     },
     "metadata": {},
     "output_type": "display_data"
    },
    {
     "data": {
      "application/vnd.jupyter.widget-view+json": {
       "model_id": "87b18f7dbf3f4267bec8c28690889927",
       "version_major": 2,
       "version_minor": 0
      },
      "text/plain": [
       "Possible clusters:   0%|          | 0/781 [00:00<?, ?it/s]"
      ]
     },
     "metadata": {},
     "output_type": "display_data"
    },
    {
     "data": {
      "application/vnd.jupyter.widget-view+json": {
       "model_id": "c41dccd95a604589a915fb3611afb764",
       "version_major": 2,
       "version_minor": 0
      },
      "text/plain": [
       "Possible clusters:   0%|          | 0/154 [00:00<?, ?it/s]"
      ]
     },
     "metadata": {},
     "output_type": "display_data"
    },
    {
     "data": {
      "application/vnd.jupyter.widget-view+json": {
       "model_id": "ff6da93a4ad240779b0aee32ceec9292",
       "version_major": 2,
       "version_minor": 0
      },
      "text/plain": [
       "Possible clusters:   0%|          | 0/11 [00:00<?, ?it/s]"
      ]
     },
     "metadata": {},
     "output_type": "display_data"
    },
    {
     "data": {
      "application/vnd.jupyter.widget-view+json": {
       "model_id": "a148417fa38f48c2813414cdab3ebe3e",
       "version_major": 2,
       "version_minor": 0
      },
      "text/plain": [
       "Possible clusters:   0%|          | 0/6175 [00:00<?, ?it/s]"
      ]
     },
     "metadata": {},
     "output_type": "display_data"
    },
    {
     "data": {
      "application/vnd.jupyter.widget-view+json": {
       "model_id": "b44c5a2ebdd74dd3a3f801b0ae55a450",
       "version_major": 2,
       "version_minor": 0
      },
      "text/plain": [
       "Possible clusters:   0%|          | 0/2500 [00:00<?, ?it/s]"
      ]
     },
     "metadata": {},
     "output_type": "display_data"
    },
    {
     "data": {
      "application/vnd.jupyter.widget-view+json": {
       "model_id": "80e768ad5cd248ffa8fe4f86017a65a7",
       "version_major": 2,
       "version_minor": 0
      },
      "text/plain": [
       "Possible clusters:   0%|          | 0/781 [00:00<?, ?it/s]"
      ]
     },
     "metadata": {},
     "output_type": "display_data"
    },
    {
     "data": {
      "application/vnd.jupyter.widget-view+json": {
       "model_id": "96f906eb05e54650b2ac589001aef177",
       "version_major": 2,
       "version_minor": 0
      },
      "text/plain": [
       "Possible clusters:   0%|          | 0/154 [00:00<?, ?it/s]"
      ]
     },
     "metadata": {},
     "output_type": "display_data"
    },
    {
     "data": {
      "application/vnd.jupyter.widget-view+json": {
       "model_id": "19498c83204c470e8428ffc1b288d575",
       "version_major": 2,
       "version_minor": 0
      },
      "text/plain": [
       "Possible clusters:   0%|          | 0/11 [00:00<?, ?it/s]"
      ]
     },
     "metadata": {},
     "output_type": "display_data"
    },
    {
     "data": {
      "application/vnd.jupyter.widget-view+json": {
       "model_id": "25d053a644c2416895a6402657ccee8d",
       "version_major": 2,
       "version_minor": 0
      },
      "text/plain": [
       "Possible clusters:   0%|          | 0/7525 [00:00<?, ?it/s]"
      ]
     },
     "metadata": {},
     "output_type": "display_data"
    },
    {
     "data": {
      "application/vnd.jupyter.widget-view+json": {
       "model_id": "7fb1707f53154b1b985f01ecaaca7580",
       "version_major": 2,
       "version_minor": 0
      },
      "text/plain": [
       "Possible clusters:   0%|          | 0/3196 [00:00<?, ?it/s]"
      ]
     },
     "metadata": {},
     "output_type": "display_data"
    },
    {
     "data": {
      "application/vnd.jupyter.widget-view+json": {
       "model_id": "7a24176f5fe0443aa4fd1282291f4358",
       "version_major": 2,
       "version_minor": 0
      },
      "text/plain": [
       "Possible clusters:   0%|          | 0/1079 [00:00<?, ?it/s]"
      ]
     },
     "metadata": {},
     "output_type": "display_data"
    },
    {
     "data": {
      "application/vnd.jupyter.widget-view+json": {
       "model_id": "6a0b1a926c244b6db75ccd7df5147754",
       "version_major": 2,
       "version_minor": 0
      },
      "text/plain": [
       "Possible clusters:   0%|          | 0/246 [00:00<?, ?it/s]"
      ]
     },
     "metadata": {},
     "output_type": "display_data"
    },
    {
     "data": {
      "application/vnd.jupyter.widget-view+json": {
       "model_id": "c2f0449165144d3db75f2d75a270879c",
       "version_major": 2,
       "version_minor": 0
      },
      "text/plain": [
       "Possible clusters:   0%|          | 0/25 [00:00<?, ?it/s]"
      ]
     },
     "metadata": {},
     "output_type": "display_data"
    },
    {
     "data": {
      "application/vnd.jupyter.widget-view+json": {
       "model_id": "acadccb4a1274f0f8877b12bfaa0445a",
       "version_major": 2,
       "version_minor": 0
      },
      "text/plain": [
       "Possible clusters:   0%|          | 0/6175 [00:00<?, ?it/s]"
      ]
     },
     "metadata": {},
     "output_type": "display_data"
    },
    {
     "data": {
      "application/vnd.jupyter.widget-view+json": {
       "model_id": "8d5037daab184aa38d59dc4754a3b6dc",
       "version_major": 2,
       "version_minor": 0
      },
      "text/plain": [
       "Possible clusters:   0%|          | 0/2500 [00:00<?, ?it/s]"
      ]
     },
     "metadata": {},
     "output_type": "display_data"
    },
    {
     "data": {
      "application/vnd.jupyter.widget-view+json": {
       "model_id": "910a063d570b4d748a366cb92dd5a649",
       "version_major": 2,
       "version_minor": 0
      },
      "text/plain": [
       "Possible clusters:   0%|          | 0/781 [00:00<?, ?it/s]"
      ]
     },
     "metadata": {},
     "output_type": "display_data"
    },
    {
     "data": {
      "application/vnd.jupyter.widget-view+json": {
       "model_id": "aa602cfde9134023a0fc99fa3f6610f3",
       "version_major": 2,
       "version_minor": 0
      },
      "text/plain": [
       "Possible clusters:   0%|          | 0/154 [00:00<?, ?it/s]"
      ]
     },
     "metadata": {},
     "output_type": "display_data"
    },
    {
     "data": {
      "application/vnd.jupyter.widget-view+json": {
       "model_id": "94d0db630aac4a1ab8f6d41e4b595442",
       "version_major": 2,
       "version_minor": 0
      },
      "text/plain": [
       "Possible clusters:   0%|          | 0/11 [00:00<?, ?it/s]"
      ]
     },
     "metadata": {},
     "output_type": "display_data"
    },
    {
     "data": {
      "application/vnd.jupyter.widget-view+json": {
       "model_id": "13d735b15c154621b834f5b385569b4a",
       "version_major": 2,
       "version_minor": 0
      },
      "text/plain": [
       "Possible clusters:   0%|          | 0/5016 [00:00<?, ?it/s]"
      ]
     },
     "metadata": {},
     "output_type": "display_data"
    },
    {
     "data": {
      "application/vnd.jupyter.widget-view+json": {
       "model_id": "05e2f1046c5248ea8a02b4436357782d",
       "version_major": 2,
       "version_minor": 0
      },
      "text/plain": [
       "Possible clusters:   0%|          | 0/1925 [00:00<?, ?it/s]"
      ]
     },
     "metadata": {},
     "output_type": "display_data"
    },
    {
     "data": {
      "application/vnd.jupyter.widget-view+json": {
       "model_id": "b4e1a49ba9af4b938ed001803f6a1dc0",
       "version_major": 2,
       "version_minor": 0
      },
      "text/plain": [
       "Possible clusters:   0%|          | 0/550 [00:00<?, ?it/s]"
      ]
     },
     "metadata": {},
     "output_type": "display_data"
    },
    {
     "data": {
      "application/vnd.jupyter.widget-view+json": {
       "model_id": "cc0820f44df24b5083240c46e5e0448a",
       "version_major": 2,
       "version_minor": 0
      },
      "text/plain": [
       "Possible clusters:   0%|          | 0/91 [00:00<?, ?it/s]"
      ]
     },
     "metadata": {},
     "output_type": "display_data"
    },
    {
     "data": {
      "application/vnd.jupyter.widget-view+json": {
       "model_id": "f918ab8e71b147c08c3d2cdff5077179",
       "version_major": 2,
       "version_minor": 0
      },
      "text/plain": [
       "Possible clusters:   0%|          | 0/4 [00:00<?, ?it/s]"
      ]
     },
     "metadata": {},
     "output_type": "display_data"
    },
    {
     "data": {
      "application/vnd.jupyter.widget-view+json": {
       "model_id": "6a7bf1f33c024bec94f2598fb1945920",
       "version_major": 2,
       "version_minor": 0
      },
      "text/plain": [
       "Possible clusters:   0%|          | 0/122409 [00:00<?, ?it/s]"
      ]
     },
     "metadata": {},
     "output_type": "display_data"
    },
    {
     "data": {
      "application/vnd.jupyter.widget-view+json": {
       "model_id": "18879b0939e1430c8ce318ddfb4ae659",
       "version_major": 2,
       "version_minor": 0
      },
      "text/plain": [
       "Possible clusters:   0%|          | 0/44528 [00:00<?, ?it/s]"
      ]
     },
     "metadata": {},
     "output_type": "display_data"
    },
    {
     "data": {
      "application/vnd.jupyter.widget-view+json": {
       "model_id": "4bd8a5d72f94459eb640479a14780dcb",
       "version_major": 2,
       "version_minor": 0
      },
      "text/plain": [
       "Possible clusters:   0%|          | 0/12597 [00:00<?, ?it/s]"
      ]
     },
     "metadata": {},
     "output_type": "display_data"
    },
    {
     "data": {
      "application/vnd.jupyter.widget-view+json": {
       "model_id": "b864d3538cf541c0ad56bc8649b39530",
       "version_major": 2,
       "version_minor": 0
      },
      "text/plain": [
       "Possible clusters:   0%|          | 0/2366 [00:00<?, ?it/s]"
      ]
     },
     "metadata": {},
     "output_type": "display_data"
    },
    {
     "data": {
      "application/vnd.jupyter.widget-view+json": {
       "model_id": "d62b5d2c6d034faf984a62e76f623e1e",
       "version_major": 2,
       "version_minor": 0
      },
      "text/plain": [
       "Possible clusters:   0%|          | 0/210 [00:00<?, ?it/s]"
      ]
     },
     "metadata": {},
     "output_type": "display_data"
    },
    {
     "data": {
      "application/vnd.jupyter.widget-view+json": {
       "model_id": "d63e66871f2945d78b4e2eef12a56214",
       "version_major": 2,
       "version_minor": 0
      },
      "text/plain": [
       "Possible clusters:   0%|          | 0/4 [00:00<?, ?it/s]"
      ]
     },
     "metadata": {},
     "output_type": "display_data"
    },
    {
     "data": {
      "application/vnd.jupyter.widget-view+json": {
       "model_id": "46706371f5cd4dea9b4186fcfe2e42d7",
       "version_major": 2,
       "version_minor": 0
      },
      "text/plain": [
       "Possible clusters:   0%|          | 0/174406 [00:00<?, ?it/s]"
      ]
     },
     "metadata": {},
     "output_type": "display_data"
    },
    {
     "data": {
      "application/vnd.jupyter.widget-view+json": {
       "model_id": "a2c84e8f00404c57b4746aa2d549ada5",
       "version_major": 2,
       "version_minor": 0
      },
      "text/plain": [
       "Possible clusters:   0%|          | 0/68380 [00:00<?, ?it/s]"
      ]
     },
     "metadata": {},
     "output_type": "display_data"
    },
    {
     "data": {
      "application/vnd.jupyter.widget-view+json": {
       "model_id": "b0dc662aeea64d198b25c48de25523f2",
       "version_major": 2,
       "version_minor": 0
      },
      "text/plain": [
       "Possible clusters:   0%|          | 0/21679 [00:00<?, ?it/s]"
      ]
     },
     "metadata": {},
     "output_type": "display_data"
    },
    {
     "data": {
      "application/vnd.jupyter.widget-view+json": {
       "model_id": "334965f3a4c64ec68bb5f93cd96d2e07",
       "version_major": 2,
       "version_minor": 0
      },
      "text/plain": [
       "Possible clusters:   0%|          | 0/4928 [00:00<?, ?it/s]"
      ]
     },
     "metadata": {},
     "output_type": "display_data"
    },
    {
     "data": {
      "application/vnd.jupyter.widget-view+json": {
       "model_id": "e63c68417d1f45498f472cf617c49ac6",
       "version_major": 2,
       "version_minor": 0
      },
      "text/plain": [
       "Possible clusters:   0%|          | 0/627 [00:00<?, ?it/s]"
      ]
     },
     "metadata": {},
     "output_type": "display_data"
    },
    {
     "data": {
      "application/vnd.jupyter.widget-view+json": {
       "model_id": "618fd83891574cfa9f7a678da24b041a",
       "version_major": 2,
       "version_minor": 0
      },
      "text/plain": [
       "Possible clusters:   0%|          | 0/26 [00:00<?, ?it/s]"
      ]
     },
     "metadata": {},
     "output_type": "display_data"
    },
    {
     "data": {
      "application/vnd.jupyter.widget-view+json": {
       "model_id": "66b731b758764ee2b4c838accb54c4ba",
       "version_major": 2,
       "version_minor": 0
      },
      "text/plain": [
       "Possible clusters:   0%|          | 0/7525 [00:00<?, ?it/s]"
      ]
     },
     "metadata": {},
     "output_type": "display_data"
    },
    {
     "data": {
      "application/vnd.jupyter.widget-view+json": {
       "model_id": "0f93e03a8d5747dc96e9b39ab1bb45b1",
       "version_major": 2,
       "version_minor": 0
      },
      "text/plain": [
       "Possible clusters:   0%|          | 0/3196 [00:00<?, ?it/s]"
      ]
     },
     "metadata": {},
     "output_type": "display_data"
    },
    {
     "data": {
      "application/vnd.jupyter.widget-view+json": {
       "model_id": "80569a08c63347b3bbafa532c066c770",
       "version_major": 2,
       "version_minor": 0
      },
      "text/plain": [
       "Possible clusters:   0%|          | 0/1079 [00:00<?, ?it/s]"
      ]
     },
     "metadata": {},
     "output_type": "display_data"
    },
    {
     "data": {
      "application/vnd.jupyter.widget-view+json": {
       "model_id": "52e7311bc35f43478ccbbbc54a4a9c53",
       "version_major": 2,
       "version_minor": 0
      },
      "text/plain": [
       "Possible clusters:   0%|          | 0/246 [00:00<?, ?it/s]"
      ]
     },
     "metadata": {},
     "output_type": "display_data"
    },
    {
     "data": {
      "application/vnd.jupyter.widget-view+json": {
       "model_id": "0f0fb05ccba546b196fa62e2a70fa595",
       "version_major": 2,
       "version_minor": 0
      },
      "text/plain": [
       "Possible clusters:   0%|          | 0/25 [00:00<?, ?it/s]"
      ]
     },
     "metadata": {},
     "output_type": "display_data"
    },
    {
     "data": {
      "application/vnd.jupyter.widget-view+json": {
       "model_id": "afc1c0c7e6794cba9a2985a083b65ace",
       "version_major": 2,
       "version_minor": 0
      },
      "text/plain": [
       "Possible clusters:   0%|          | 0/4029 [00:00<?, ?it/s]"
      ]
     },
     "metadata": {},
     "output_type": "display_data"
    },
    {
     "data": {
      "application/vnd.jupyter.widget-view+json": {
       "model_id": "a6f3db3203734a599b90c1b2734dabaa",
       "version_major": 2,
       "version_minor": 0
      },
      "text/plain": [
       "Possible clusters:   0%|          | 0/1456 [00:00<?, ?it/s]"
      ]
     },
     "metadata": {},
     "output_type": "display_data"
    },
    {
     "data": {
      "application/vnd.jupyter.widget-view+json": {
       "model_id": "a77d995a62e9445fb686906da7cc2b94",
       "version_major": 2,
       "version_minor": 0
      },
      "text/plain": [
       "Possible clusters:   0%|          | 0/375 [00:00<?, ?it/s]"
      ]
     },
     "metadata": {},
     "output_type": "display_data"
    },
    {
     "data": {
      "application/vnd.jupyter.widget-view+json": {
       "model_id": "4bba3e9b5b2245249e250c361e956e17",
       "version_major": 2,
       "version_minor": 0
      },
      "text/plain": [
       "Possible clusters:   0%|          | 0/50 [00:00<?, ?it/s]"
      ]
     },
     "metadata": {},
     "output_type": "display_data"
    },
    {
     "data": {
      "application/vnd.jupyter.widget-view+json": {
       "model_id": "1beb5579e5604393a2e6d3a2d029e2e0",
       "version_major": 2,
       "version_minor": 0
      },
      "text/plain": [
       "Possible clusters:   0%|          | 0/1 [00:00<?, ?it/s]"
      ]
     },
     "metadata": {},
     "output_type": "display_data"
    },
    {
     "data": {
      "application/vnd.jupyter.widget-view+json": {
       "model_id": "8849e17c2b06408d90f95ddea56fc4f3",
       "version_major": 2,
       "version_minor": 0
      },
      "text/plain": [
       "Possible clusters:   0%|          | 0/6175 [00:00<?, ?it/s]"
      ]
     },
     "metadata": {},
     "output_type": "display_data"
    },
    {
     "data": {
      "application/vnd.jupyter.widget-view+json": {
       "model_id": "5e2c741ca9424f468f0d6c8a765e4fa9",
       "version_major": 2,
       "version_minor": 0
      },
      "text/plain": [
       "Possible clusters:   0%|          | 0/2500 [00:00<?, ?it/s]"
      ]
     },
     "metadata": {},
     "output_type": "display_data"
    },
    {
     "data": {
      "application/vnd.jupyter.widget-view+json": {
       "model_id": "fdbd9419de5448639db90c38388f1408",
       "version_major": 2,
       "version_minor": 0
      },
      "text/plain": [
       "Possible clusters:   0%|          | 0/781 [00:00<?, ?it/s]"
      ]
     },
     "metadata": {},
     "output_type": "display_data"
    },
    {
     "data": {
      "application/vnd.jupyter.widget-view+json": {
       "model_id": "68313dfc15f34e6a9b250c74749f84ad",
       "version_major": 2,
       "version_minor": 0
      },
      "text/plain": [
       "Possible clusters:   0%|          | 0/154 [00:00<?, ?it/s]"
      ]
     },
     "metadata": {},
     "output_type": "display_data"
    },
    {
     "data": {
      "application/vnd.jupyter.widget-view+json": {
       "model_id": "cfb63b92b7fa4c7e8acd84dc0e4d9e00",
       "version_major": 2,
       "version_minor": 0
      },
      "text/plain": [
       "Possible clusters:   0%|          | 0/11 [00:00<?, ?it/s]"
      ]
     },
     "metadata": {},
     "output_type": "display_data"
    },
    {
     "data": {
      "application/vnd.jupyter.widget-view+json": {
       "model_id": "a50e173c7a87448089ce675f9a239232",
       "version_major": 2,
       "version_minor": 0
      },
      "text/plain": [
       "Possible clusters:   0%|          | 0/1 [00:00<?, ?it/s]"
      ]
     },
     "metadata": {},
     "output_type": "display_data"
    },
    {
     "data": {
      "application/vnd.jupyter.widget-view+json": {
       "model_id": "047b57b7eae045b4b1e5dc6a1765d92e",
       "version_major": 2,
       "version_minor": 0
      },
      "text/plain": [
       "Possible clusters:   0%|          | 0/10879 [00:00<?, ?it/s]"
      ]
     },
     "metadata": {},
     "output_type": "display_data"
    },
    {
     "data": {
      "application/vnd.jupyter.widget-view+json": {
       "model_id": "21a954a42d264968b44fe3f24bd3b8cc",
       "version_major": 2,
       "version_minor": 0
      },
      "text/plain": [
       "Possible clusters:   0%|          | 0/7525 [00:00<?, ?it/s]"
      ]
     },
     "metadata": {},
     "output_type": "display_data"
    },
    {
     "data": {
      "application/vnd.jupyter.widget-view+json": {
       "model_id": "747a06f3e6184305a4550d6581f877b1",
       "version_major": 2,
       "version_minor": 0
      },
      "text/plain": [
       "Possible clusters:   0%|          | 0/3196 [00:00<?, ?it/s]"
      ]
     },
     "metadata": {},
     "output_type": "display_data"
    },
    {
     "data": {
      "application/vnd.jupyter.widget-view+json": {
       "model_id": "f72041ea95cf48bdbd50da51386e15b1",
       "version_major": 2,
       "version_minor": 0
      },
      "text/plain": [
       "Possible clusters:   0%|          | 0/1079 [00:00<?, ?it/s]"
      ]
     },
     "metadata": {},
     "output_type": "display_data"
    },
    {
     "data": {
      "application/vnd.jupyter.widget-view+json": {
       "model_id": "5edca27e549f4ffaa1189df42b73be78",
       "version_major": 2,
       "version_minor": 0
      },
      "text/plain": [
       "Possible clusters:   0%|          | 0/246 [00:00<?, ?it/s]"
      ]
     },
     "metadata": {},
     "output_type": "display_data"
    },
    {
     "data": {
      "application/vnd.jupyter.widget-view+json": {
       "model_id": "7db67e34962a43569900b1f2c2270267",
       "version_major": 2,
       "version_minor": 0
      },
      "text/plain": [
       "Possible clusters:   0%|          | 0/25 [00:00<?, ?it/s]"
      ]
     },
     "metadata": {},
     "output_type": "display_data"
    },
    {
     "data": {
      "application/vnd.jupyter.widget-view+json": {
       "model_id": "b0b398ce92d8441e8384af26ee0845be",
       "version_major": 2,
       "version_minor": 0
      },
      "text/plain": [
       "Possible clusters:   0%|          | 0/83655 [00:00<?, ?it/s]"
      ]
     },
     "metadata": {},
     "output_type": "display_data"
    },
    {
     "data": {
      "application/vnd.jupyter.widget-view+json": {
       "model_id": "4efd5cf8c1d04d3bb8defe24e91e2e46",
       "version_major": 2,
       "version_minor": 0
      },
      "text/plain": [
       "Possible clusters:   0%|          | 0/27874 [00:00<?, ?it/s]"
      ]
     },
     "metadata": {},
     "output_type": "display_data"
    },
    {
     "data": {
      "application/vnd.jupyter.widget-view+json": {
       "model_id": "c340ffd3be4e4c72ae75ba5bac88f992",
       "version_major": 2,
       "version_minor": 0
      },
      "text/plain": [
       "Possible clusters:   0%|          | 0/6868 [00:00<?, ?it/s]"
      ]
     },
     "metadata": {},
     "output_type": "display_data"
    },
    {
     "data": {
      "application/vnd.jupyter.widget-view+json": {
       "model_id": "77f711d975e14dc6a30889c14091158f",
       "version_major": 2,
       "version_minor": 0
      },
      "text/plain": [
       "Possible clusters:   0%|          | 0/1012 [00:00<?, ?it/s]"
      ]
     },
     "metadata": {},
     "output_type": "display_data"
    },
    {
     "data": {
      "application/vnd.jupyter.widget-view+json": {
       "model_id": "54637edf61e540f78806fc61611d6710",
       "version_major": 2,
       "version_minor": 0
      },
      "text/plain": [
       "Possible clusters:   0%|          | 0/56 [00:00<?, ?it/s]"
      ]
     },
     "metadata": {},
     "output_type": "display_data"
    },
    {
     "data": {
      "application/vnd.jupyter.widget-view+json": {
       "model_id": "075bb3bb0d6242a49b2db65f185f1c18",
       "version_major": 2,
       "version_minor": 0
      },
      "text/plain": [
       "Possible clusters:   0%|          | 0/7525 [00:00<?, ?it/s]"
      ]
     },
     "metadata": {},
     "output_type": "display_data"
    },
    {
     "data": {
      "application/vnd.jupyter.widget-view+json": {
       "model_id": "611c596b1a6047a7a3b1807b850c94b8",
       "version_major": 2,
       "version_minor": 0
      },
      "text/plain": [
       "Possible clusters:   0%|          | 0/3196 [00:00<?, ?it/s]"
      ]
     },
     "metadata": {},
     "output_type": "display_data"
    },
    {
     "data": {
      "application/vnd.jupyter.widget-view+json": {
       "model_id": "63fce1662ab6476dbd6c97cbb6406306",
       "version_major": 2,
       "version_minor": 0
      },
      "text/plain": [
       "Possible clusters:   0%|          | 0/1079 [00:00<?, ?it/s]"
      ]
     },
     "metadata": {},
     "output_type": "display_data"
    },
    {
     "data": {
      "application/vnd.jupyter.widget-view+json": {
       "model_id": "da715dfe79234320a14155c238ec7e65",
       "version_major": 2,
       "version_minor": 0
      },
      "text/plain": [
       "Possible clusters:   0%|          | 0/246 [00:00<?, ?it/s]"
      ]
     },
     "metadata": {},
     "output_type": "display_data"
    },
    {
     "data": {
      "application/vnd.jupyter.widget-view+json": {
       "model_id": "1eb5405f0e31401dbf3200123da71299",
       "version_major": 2,
       "version_minor": 0
      },
      "text/plain": [
       "Possible clusters:   0%|          | 0/25 [00:00<?, ?it/s]"
      ]
     },
     "metadata": {},
     "output_type": "display_data"
    },
    {
     "data": {
      "application/vnd.jupyter.widget-view+json": {
       "model_id": "2f47ec68d3b14ff996f6df4ec3267293",
       "version_major": 2,
       "version_minor": 0
      },
      "text/plain": [
       "Possible clusters:   0%|          | 0/7525 [00:00<?, ?it/s]"
      ]
     },
     "metadata": {},
     "output_type": "display_data"
    },
    {
     "data": {
      "application/vnd.jupyter.widget-view+json": {
       "model_id": "c9da62b5b36f42b28cc9fab51286b652",
       "version_major": 2,
       "version_minor": 0
      },
      "text/plain": [
       "Possible clusters:   0%|          | 0/3196 [00:00<?, ?it/s]"
      ]
     },
     "metadata": {},
     "output_type": "display_data"
    },
    {
     "data": {
      "application/vnd.jupyter.widget-view+json": {
       "model_id": "18c6561ba8b34ec48854ed64aad44d9b",
       "version_major": 2,
       "version_minor": 0
      },
      "text/plain": [
       "Possible clusters:   0%|          | 0/1079 [00:00<?, ?it/s]"
      ]
     },
     "metadata": {},
     "output_type": "display_data"
    },
    {
     "data": {
      "application/vnd.jupyter.widget-view+json": {
       "model_id": "5de21d8a070a483fbcde2b04db1b2fa5",
       "version_major": 2,
       "version_minor": 0
      },
      "text/plain": [
       "Possible clusters:   0%|          | 0/246 [00:00<?, ?it/s]"
      ]
     },
     "metadata": {},
     "output_type": "display_data"
    },
    {
     "data": {
      "application/vnd.jupyter.widget-view+json": {
       "model_id": "248996b727d64f19888ea6914be71874",
       "version_major": 2,
       "version_minor": 0
      },
      "text/plain": [
       "Possible clusters:   0%|          | 0/25 [00:00<?, ?it/s]"
      ]
     },
     "metadata": {},
     "output_type": "display_data"
    },
    {
     "data": {
      "application/vnd.jupyter.widget-view+json": {
       "model_id": "5505716263f44858aca1d53081abaeaa",
       "version_major": 2,
       "version_minor": 0
      },
      "text/plain": [
       "Possible clusters:   0%|          | 0/6175 [00:00<?, ?it/s]"
      ]
     },
     "metadata": {},
     "output_type": "display_data"
    },
    {
     "data": {
      "application/vnd.jupyter.widget-view+json": {
       "model_id": "2b1021408ac44306b63378287cc0eed9",
       "version_major": 2,
       "version_minor": 0
      },
      "text/plain": [
       "Possible clusters:   0%|          | 0/2500 [00:00<?, ?it/s]"
      ]
     },
     "metadata": {},
     "output_type": "display_data"
    },
    {
     "data": {
      "application/vnd.jupyter.widget-view+json": {
       "model_id": "0b74dfa56ff8407295eff6662c311600",
       "version_major": 2,
       "version_minor": 0
      },
      "text/plain": [
       "Possible clusters:   0%|          | 0/781 [00:00<?, ?it/s]"
      ]
     },
     "metadata": {},
     "output_type": "display_data"
    },
    {
     "data": {
      "application/vnd.jupyter.widget-view+json": {
       "model_id": "54f27264a11744b7a2775231eb37cb49",
       "version_major": 2,
       "version_minor": 0
      },
      "text/plain": [
       "Possible clusters:   0%|          | 0/154 [00:00<?, ?it/s]"
      ]
     },
     "metadata": {},
     "output_type": "display_data"
    },
    {
     "data": {
      "application/vnd.jupyter.widget-view+json": {
       "model_id": "d3b2b585621344969c001f5f070e9d66",
       "version_major": 2,
       "version_minor": 0
      },
      "text/plain": [
       "Possible clusters:   0%|          | 0/11 [00:00<?, ?it/s]"
      ]
     },
     "metadata": {},
     "output_type": "display_data"
    },
    {
     "data": {
      "application/vnd.jupyter.widget-view+json": {
       "model_id": "9dab763e084c4940892cb24621385afd",
       "version_major": 2,
       "version_minor": 0
      },
      "text/plain": [
       "Possible clusters:   0%|          | 0/6175 [00:00<?, ?it/s]"
      ]
     },
     "metadata": {},
     "output_type": "display_data"
    },
    {
     "data": {
      "application/vnd.jupyter.widget-view+json": {
       "model_id": "615b4668fe174053b982692a6fd7e904",
       "version_major": 2,
       "version_minor": 0
      },
      "text/plain": [
       "Possible clusters:   0%|          | 0/2500 [00:00<?, ?it/s]"
      ]
     },
     "metadata": {},
     "output_type": "display_data"
    },
    {
     "data": {
      "application/vnd.jupyter.widget-view+json": {
       "model_id": "3ef1372babd14f149edfb969aa466aab",
       "version_major": 2,
       "version_minor": 0
      },
      "text/plain": [
       "Possible clusters:   0%|          | 0/781 [00:00<?, ?it/s]"
      ]
     },
     "metadata": {},
     "output_type": "display_data"
    },
    {
     "data": {
      "application/vnd.jupyter.widget-view+json": {
       "model_id": "b3a4edc76d874de8b8fa0e84b46c0a9c",
       "version_major": 2,
       "version_minor": 0
      },
      "text/plain": [
       "Possible clusters:   0%|          | 0/154 [00:00<?, ?it/s]"
      ]
     },
     "metadata": {},
     "output_type": "display_data"
    },
    {
     "data": {
      "application/vnd.jupyter.widget-view+json": {
       "model_id": "1899cb159f824cd3967f8d611bff1feb",
       "version_major": 2,
       "version_minor": 0
      },
      "text/plain": [
       "Possible clusters:   0%|          | 0/11 [00:00<?, ?it/s]"
      ]
     },
     "metadata": {},
     "output_type": "display_data"
    },
    {
     "data": {
      "application/vnd.jupyter.widget-view+json": {
       "model_id": "d0953803eda54d96bd09a924691c6b73",
       "version_major": 2,
       "version_minor": 0
      },
      "text/plain": [
       "Possible clusters:   0%|          | 0/12926 [00:00<?, ?it/s]"
      ]
     },
     "metadata": {},
     "output_type": "display_data"
    },
    {
     "data": {
      "application/vnd.jupyter.widget-view+json": {
       "model_id": "6250d95af40c431a8ccb57a331b13374",
       "version_major": 2,
       "version_minor": 0
      },
      "text/plain": [
       "Possible clusters:   0%|          | 0/6175 [00:00<?, ?it/s]"
      ]
     },
     "metadata": {},
     "output_type": "display_data"
    },
    {
     "data": {
      "application/vnd.jupyter.widget-view+json": {
       "model_id": "6f17094429054069a4a549ab0111e2a7",
       "version_major": 2,
       "version_minor": 0
      },
      "text/plain": [
       "Possible clusters:   0%|          | 0/2500 [00:00<?, ?it/s]"
      ]
     },
     "metadata": {},
     "output_type": "display_data"
    },
    {
     "data": {
      "application/vnd.jupyter.widget-view+json": {
       "model_id": "67ff360326984e138129151644dbb8a0",
       "version_major": 2,
       "version_minor": 0
      },
      "text/plain": [
       "Possible clusters:   0%|          | 0/781 [00:00<?, ?it/s]"
      ]
     },
     "metadata": {},
     "output_type": "display_data"
    },
    {
     "data": {
      "application/vnd.jupyter.widget-view+json": {
       "model_id": "1e5e9ad3f92d4f17841e982afd1788cd",
       "version_major": 2,
       "version_minor": 0
      },
      "text/plain": [
       "Possible clusters:   0%|          | 0/154 [00:00<?, ?it/s]"
      ]
     },
     "metadata": {},
     "output_type": "display_data"
    },
    {
     "data": {
      "application/vnd.jupyter.widget-view+json": {
       "model_id": "066744e7c3804cd083b62cfa5744fbab",
       "version_major": 2,
       "version_minor": 0
      },
      "text/plain": [
       "Possible clusters:   0%|          | 0/11 [00:00<?, ?it/s]"
      ]
     },
     "metadata": {},
     "output_type": "display_data"
    },
    {
     "data": {
      "application/vnd.jupyter.widget-view+json": {
       "model_id": "2ad26786d6c0441f98c0d67c6ca84da4",
       "version_major": 2,
       "version_minor": 0
      },
      "text/plain": [
       "Possible clusters:   0%|          | 0/1 [00:00<?, ?it/s]"
      ]
     },
     "metadata": {},
     "output_type": "display_data"
    }
   ],
   "source": [
    "# Process a single meaning group\n",
    "# meaning = 'few'\n",
    "# if meaning in groupings:\n",
    "#     word_array, cognate_labels = groupings[meaning]\n",
    "#     clusters = cluster_grouping(word_array, model, device)\n",
    "#     results = evaluate_clusters(clusters, cognate_labels, meaning)\n",
    "#     print(f\"Results for '{meaning}': {results}\")\n",
    "\n",
    "# Or process all meanings\n",
    "all_results = cluster_and_evaluate_all_meanings(df, model, ipa_to_ids, device)"
   ]
  },
  {
   "cell_type": "code",
   "execution_count": 5,
   "metadata": {},
   "outputs": [
    {
     "name": "stdout",
     "output_type": "stream",
     "text": [
      "\n",
      "Overall average accuracy: 0.675\n",
      "\n",
      "Overall f1 score: 0.310\n",
      "\n",
      "Overall nmi score: 0.492\n"
     ]
    }
   ],
   "source": [
    "accuracies = [r['accuracy'] for r in all_results.values()]\n",
    "print(f\"\\nOverall average accuracy: {np.mean(accuracies):.3f}\")\n",
    "\n",
    "f1s = [r['f1'] for r in all_results.values()]\n",
    "print(f\"\\nOverall f1 score: {np.mean(f1s):.3f}\")\n",
    "\n",
    "nmis = [r['nmi'] for r in all_results.values()]\n",
    "print(f\"\\nOverall nmi score: {np.mean(nmis):.3f}\")"
   ]
  },
  {
   "cell_type": "code",
   "execution_count": 6,
   "metadata": {},
   "outputs": [
    {
     "data": {
      "image/png": "[encoded data removed]",
      "text/plain": [
       "<Figure size 400x100 with 1 Axes>"
      ]
     },
     "metadata": {},
     "output_type": "display_data"
    },
    {
     "data": {
      "image/png": "[encoded data removed]",
      "text/plain": [
       "<Figure size 400x100 with 1 Axes>"
      ]
     },
     "metadata": {},
     "output_type": "display_data"
    },
    {
     "data": {
      "image/png": "[encoded data removed]",
      "text/plain": [
       "<Figure size 400x100 with 1 Axes>"
      ]
     },
     "metadata": {},
     "output_type": "display_data"
    }
   ],
   "source": [
    "import matplotlib.pyplot as plt\n",
    "from visualization_stuff import show_box_plot\n",
    "\n",
    "show_box_plot(accuracies, title=\"IELEX Clustering Accuracies\")\n",
    "show_box_plot(f1s, title=\"IELEX Clustering F1 Scores\")\n",
    "show_box_plot(nmis, title=\"IELEX Clustering NMI scores\")"
   ]
  }
 ],
 "metadata": {
  "kernelspec": {
   "display_name": ".venv",
   "language": "python",
   "name": "python3"
  },
  "language_info": {
   "codemirror_mode": {
    "name": "ipython",
    "version": 3
   },
   "file_extension": ".py",
   "mimetype": "text/x-python",
   "name": "python",
   "nbconvert_exporter": "python",
   "pygments_lexer": "ipython3",
   "version": "3.12.4"
  }
 },
 "nbformat": 4,
 "nbformat_minor": 2
}
