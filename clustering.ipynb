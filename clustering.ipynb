{
 "cells": [
  {
   "cell_type": "code",
   "execution_count": 1,
   "metadata": {},
   "outputs": [],
   "source": [
    "from graph_stuff import generate_all_clusters, score_cluster, create_groupings, evaluate_clusters\n",
    "\n",
    "def find_best_clustering(adj_matrix, conductance_weight=0.5, density_weight=0.5):\n",
    "    \"\"\"Find the best clustering using greedy approach.\"\"\"\n",
    "    n_nodes = adj_matrix.shape[0]\n",
    "    available_nodes = list(range(n_nodes))\n",
    "    clusters = []\n",
    "    \n",
    "    while len(available_nodes) > 1:\n",
    "        import math\n",
    "        max_cluster_size = 4 #min(math.floor(math.sqrt(len(available_nodes))), 7)\n",
    "        if max_cluster_size < 2:\n",
    "            break\n",
    "        \n",
    "        # Generate all possible clusters\n",
    "        possible_clusters = generate_all_clusters(available_nodes, max_cluster_size)\n",
    "        \n",
    "        best_cluster = None\n",
    "        best_score = -1\n",
    "        \n",
    "        # Find best cluster\n",
    "        from tqdm.notebook import tqdm\n",
    "        for cluster in tqdm(possible_clusters, desc=\"Possible clusters\", leave=False):\n",
    "            score = score_cluster(cluster, adj_matrix, conductance_weight, density_weight)\n",
    "            if score > best_score:\n",
    "                best_score = score\n",
    "                best_cluster = cluster\n",
    "        \n",
    "        if best_cluster is None or best_score <= 0:\n",
    "            break\n",
    "        \n",
    "        # Add best cluster and remove its nodes from available\n",
    "        clusters.append(best_cluster)\n",
    "        available_nodes = [node for node in available_nodes if node not in best_cluster]\n",
    "    \n",
    "    # Add remaining nodes as singleton clusters\n",
    "    for node in available_nodes:\n",
    "        clusters.append([node])\n",
    "    \n",
    "    return clusters\n",
    "\n",
    "def cluster_grouping(word_array, model, device='cpu'):\n",
    "    \"\"\"\n",
    "    Cluster a group of words using the model to create adjacency matrix.\n",
    "    \n",
    "    Args:\n",
    "        word_array: List of tensors representing IPA words\n",
    "        model: Trained transformer model\n",
    "        device: Device to run model on\n",
    "    \n",
    "    Returns:\n",
    "        List of clusters, where each cluster is a list of indices\n",
    "    \"\"\"\n",
    "    n_words = len(word_array)\n",
    "    \n",
    "    # Create adjacency matrix\n",
    "    adj_matrix = torch.zeros((n_words, n_words))\n",
    "    \n",
    "    model.eval()\n",
    "    with torch.no_grad():\n",
    "        for i in range(n_words):\n",
    "            for j in range(i+1, n_words):\n",
    "                # Create word pair tensor\n",
    "                word_pair = torch.stack([word_array[i], word_array[j]], dim=0).unsqueeze(0).to(device)\n",
    "                \n",
    "                # Create masks (True for padding tokens)\n",
    "                mask1 = (word_array[i] == 0).unsqueeze(0).to(device)\n",
    "                mask2 = (word_array[j] == 0).unsqueeze(0).to(device)\n",
    "                word_pair_masks = torch.stack([mask1, mask2], dim=1).to(device)\n",
    "                \n",
    "                # Get similarity score\n",
    "                similarity = model(word_pair, word_pair_masks).item()\n",
    "                \n",
    "                # Fill both triangles of the matrix\n",
    "                adj_matrix[i, j] = similarity\n",
    "                adj_matrix[j, i] = similarity\n",
    "\n",
    "    # Find best clustering\n",
    "    predicted_clusters = find_best_clustering(adj_matrix)\n",
    "    \n",
    "    return predicted_clusters\n",
    "\n",
    "def cluster_and_evaluate_all_meanings(df, model, ipa_to_ids, device='cpu'):\n",
    "    \"\"\"Process all word meanings and evaluate clustering using the modular approach.\"\"\"\n",
    "    # Step 1: Preprocessing\n",
    "    groupings = create_groupings(df, ipa_to_ids)\n",
    "    \n",
    "    results = {}\n",
    "    \n",
    "    # Step 2 & 3: Clustering and Evaluation\n",
    "    from tqdm.notebook import tqdm\n",
    "    for meaning, (word_array, cognate_class_label_array) in tqdm(groupings.items(), total=len(groupings), desc=\"Groupings\"):\n",
    "        #print(f\"\\nProcessing meaning: {meaning}\")\n",
    "        #print(f\"Number of words: {len(word_array)}\")\n",
    "        \n",
    "        # Step 2: Clustering\n",
    "        predicted_clusters = cluster_grouping(word_array, model, device)\n",
    "        \n",
    "        # Step 3: Evaluation\n",
    "        evaluation_results = evaluate_clusters(predicted_clusters, cognate_class_label_array, meaning)\n",
    "        \n",
    "        results[meaning] = evaluation_results\n",
    "        \n",
    "        #print(f\"Predicted clusters: {predicted_clusters}\")\n",
    "        #print(f\"True classes: {cognate_class_label_array}\")\n",
    "        #print(f\"Accuracy: {evaluation_results['accuracy']:.3f}\")\n",
    "    \n",
    "    return results"
   ]
  },
  {
   "cell_type": "code",
   "execution_count": 2,
   "metadata": {},
   "outputs": [
    {
     "data": {
      "application/vnd.jupyter.widget-view+json": {
       "model_id": "81ed9f320c6e410f8984d8b292bb30c3",
       "version_major": 2,
       "version_minor": 0
      },
      "text/plain": [
       "Groupings:   0%|          | 0/208 [00:00<?, ?it/s]"
      ]
     },
     "metadata": {},
     "output_type": "display_data"
    },
    {
     "name": "stderr",
     "output_type": "stream",
     "text": [
      "c:\\Users\\lsm0147\\Documents\\Cognates\\.venv\\Lib\\site-packages\\torch\\nn\\modules\\transformer.py:505: UserWarning: The PyTorch API of nested tensors is in prototype stage and will change in the near future. We recommend specifying layout=torch.jagged when constructing a nested tensor, as this layout receives active development, has better operator coverage, and works with torch.compile. (Triggered internally at C:\\actions-runner\\_work\\pytorch\\pytorch\\pytorch\\aten\\src\\ATen\\NestedTensorImpl.cpp:182.)\n",
      "  output = torch._nested_tensor_from_mask(\n"
     ]
    }
   ],
   "source": [
    "import pandas as pd\n",
    "import torch\n",
    "import numpy as np\n",
    "\n",
    "# Load data\n",
    "df = pd.read_csv('data/ielexData.csv')\n",
    "\n",
    "# Create IPA to ID mapping\n",
    "import joblib\n",
    "ipa_embedder = joblib.load(\"data/embeddings/34.joblib\")\n",
    "ipa_to_ids = ipa_embedder.char_to_idx\n",
    "\n",
    "# Example of using the modular approach:\n",
    "from transformer_stuff import TransformerCognateModel\n",
    "model = torch.load('TransformerCognateModel_34.pt', weights_only=False)\n",
    "device = torch.device('cuda' if torch.cuda.is_available() else 'cpu')\n",
    "model.to(device)\n",
    "\n",
    "# Process a single meaning group\n",
    "# meaning = 'few'\n",
    "# if meaning in groupings:\n",
    "#     word_array, cognate_labels = groupings[meaning]\n",
    "#     clusters = cluster_grouping(word_array, model, device)\n",
    "#     results = evaluate_clusters(clusters, cognate_labels, meaning)\n",
    "#     print(f\"Results for '{meaning}': {results}\")\n",
    "\n",
    "# Or process all meanings\n",
    "all_results = cluster_and_evaluate_all_meanings(df, model, ipa_to_ids, device)"
   ]
  },
  {
   "cell_type": "code",
   "execution_count": 3,
   "metadata": {},
   "outputs": [
    {
     "name": "stdout",
     "output_type": "stream",
     "text": [
      "\n",
      "Overall average accuracy: 0.679\n",
      "\n",
      "Overall f1 score: 0.679\n",
      "\n",
      "Overall nmi score: 0.679\n"
     ]
    }
   ],
   "source": [
    "accuracies = [r['accuracy'] for r in all_results.values()]\n",
    "print(f\"\\nOverall average accuracy: {np.mean(accuracies):.3f}\")\n",
    "\n",
    "f1s = [r['f1'] for r in all_results.values()]\n",
    "print(f\"\\nOverall f1 score: {np.mean(accuracies):.3f}\")\n",
    "\n",
    "nmis = [r['nmi'] for r in all_results.values()]\n",
    "print(f\"\\nOverall nmi score: {np.mean(accuracies):.3f}\")"
   ]
  },
  {
   "cell_type": "code",
   "execution_count": 4,
   "metadata": {},
   "outputs": [
    {
     "data": {
      "image/png": "[encoded data removed]",
      "text/plain": [
       "<Figure size 400x100 with 1 Axes>"
      ]
     },
     "metadata": {},
     "output_type": "display_data"
    },
    {
     "data": {
      "image/png": "[encoded data removed]",
      "text/plain": [
       "<Figure size 400x100 with 1 Axes>"
      ]
     },
     "metadata": {},
     "output_type": "display_data"
    },
    {
     "data": {
      "image/png": "[encoded data removed]",
      "text/plain": [
       "<Figure size 400x100 with 1 Axes>"
      ]
     },
     "metadata": {},
     "output_type": "display_data"
    }
   ],
   "source": [
    "import matplotlib.pyplot as plt\n",
    "from visualization_stuff import show_box_plot\n",
    "\n",
    "show_box_plot(accuracies, title=\"IELEX Clustering Accuracies\")\n",
    "show_box_plot(f1s, title=\"IELEX Clustering F1 Scores\")\n",
    "show_box_plot(nmis, title=\"IELEX Clustering NMI scores\")"
   ]
  }
 ],
 "metadata": {
  "kernelspec": {
   "display_name": ".venv",
   "language": "python",
   "name": "python3"
  },
  "language_info": {
   "codemirror_mode": {
    "name": "ipython",
    "version": 3
   },
   "file_extension": ".py",
   "mimetype": "text/x-python",
   "name": "python",
   "nbconvert_exporter": "python",
   "pygments_lexer": "ipython3",
   "version": "3.12.4"
  }
 },
 "nbformat": 4,
 "nbformat_minor": 2
}
