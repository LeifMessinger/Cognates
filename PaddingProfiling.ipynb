{
 "cells": [
  {
   "cell_type": "code",
   "execution_count": 6,
   "metadata": {},
   "outputs": [
    {
     "name": "stdout",
     "output_type": "stream",
     "text": [
      "{'Polish', 'Bengali', 'Greek', 'Hindi', 'Icelandic', 'Nepali', 'Welsh', 'Swedish', 'Irish', 'Italian', 'Ukrainian', 'Catalan', 'Lithuanian', 'Czech', 'Portuguese', 'Russian', 'Danish', 'Romanian', 'Spanish', 'Dutch', 'German', 'Bulgarian', 'Breton', 'English', 'French'}\n"
     ]
    }
   ],
   "source": [
    "import csv\n",
    "\n",
    "# Initialize an empty set to store the languages\n",
    "languages = set()\n",
    "\n",
    "# Open and read the CSV file with UTF-8 encoding and error handling\n",
    "with open('data/ielexData.csv', 'r', encoding='utf-8', errors='replace') as file:\n",
    "    reader = csv.reader(file)\n",
    "    next(reader)  # Skip the header row\n",
    "    for row in reader:\n",
    "        languages.add(row[1])  # Add the language (second column) to the set\n",
    "\n",
    "# Print the set of languages\n",
    "print(languages)"
   ]
  }
 ],
 "metadata": {
  "kernelspec": {
   "display_name": ".venv",
   "language": "python",
   "name": "python3"
  },
  "language_info": {
   "codemirror_mode": {
    "name": "ipython",
    "version": 3
   },
   "file_extension": ".py",
   "mimetype": "text/x-python",
   "name": "python",
   "nbconvert_exporter": "python",
   "pygments_lexer": "ipython3",
   "version": "3.12.4"
  }
 },
 "nbformat": 4,
 "nbformat_minor": 2
}
